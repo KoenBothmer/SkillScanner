{
 "cells": [
  {
   "cell_type": "markdown",
   "id": "f20bd67e",
   "metadata": {},
   "source": [
    "## 020 Retrieving a Sample Learning Curriculum\n",
    "This notebook was used to extract the learning objectives from an example of a learning program in Data Science. The module handbook of the study program of the author was used."
   ]
  },
  {
   "cell_type": "code",
   "execution_count": 1,
   "id": "95161c5d",
   "metadata": {},
   "outputs": [],
   "source": [
    "import pdfplumber\n",
    "import pandas as pd\n",
    "from sentence_transformers import SentenceTransformer, util\n",
    "import pickle\n",
    "import numpy as np\n",
    "from scipy import spatial"
   ]
  },
  {
   "cell_type": "code",
   "execution_count": 2,
   "id": "e330a7ef",
   "metadata": {},
   "outputs": [],
   "source": [
    "pdf = pdfplumber.open(\"Modulhandbuch_FS-MADS-60_Data-Science_SGo_19.09.2019.pdf\")\n",
    "pages = pdf.pages[0:]"
   ]
  },
  {
   "cell_type": "code",
   "execution_count": 4,
   "id": "dfc6106c",
   "metadata": {},
   "outputs": [],
   "source": [
    "long_string = \"\"\n",
    "for page in pages:\n",
    "    long_string+=page.extract_text()"
   ]
  },
  {
   "cell_type": "markdown",
   "id": "63d6068c",
   "metadata": {},
   "source": [
    "## Data Extraction from PDF\n",
    "This method uses some simple text splitting techniques to extract a dataframe of learning objectives from the handbook PDF."
   ]
  },
  {
   "cell_type": "code",
   "execution_count": 5,
   "id": "63a10f7c",
   "metadata": {},
   "outputs": [],
   "source": [
    "def extract_objective_df(pdf):\n",
    "    df = pd.DataFrame(columns = ['objective','module','study_program'])\n",
    "    pages = pdf.pages[0:]\n",
    "    long_string = \"\"\n",
    "    for page in pages:\n",
    "        long_string+=page.extract_text()\n",
    "    for module in long_string.split('Module Title:  '): #getting full text of each module\n",
    "        course_objectives = module.split('On successful completion of this course, students will be able to: ')\n",
    "        if len(course_objectives)>1: #avoid empty strings\n",
    "\n",
    "            #Module title\n",
    "            title = module.split('\\n')[0]\n",
    "\n",
    "            #Module objtectives\n",
    "            objectives = course_objectives[1]\n",
    "            objectives = objectives.split('Teaching Methods')[0]\n",
    "            if (objectives[-4:]) =='/78 ':\n",
    "                objectives = objectives[:-6]\n",
    "            objectives = objectives.encode()\n",
    "            objectives = objectives.decode()\n",
    "            objectives = objectives.replace('\\n',\"\")\n",
    "            objectives = objectives.replace('. ',\".\")\n",
    "            objectives = objectives.split('\\uf0a7  ')[1:] #[0] is always empty because of the splitting\n",
    "            for objective in objectives:\n",
    "                row_list = [objective,title,\"DS_60\"]\n",
    "                df.loc[len(df)] = row_list #because of 0 indexing we can write to new row at len(df)\n",
    "\n",
    "    return(df)\n",
    "df=extract_objective_df(pdf)"
   ]
  },
  {
   "cell_type": "code",
   "execution_count": 18,
   "id": "1b76c1bb",
   "metadata": {},
   "outputs": [],
   "source": [
    "def preprocess_for_bert(string):\n",
    "    string = string.strip(\"\\n.’:\")\n",
    "    string = string.strip(\"’\")\n",
    "    string = string.strip(\"\\\\n\")\n",
    "    string = string.replace(\"/\",\" \")\n",
    "    return(string)"
   ]
  },
  {
   "cell_type": "markdown",
   "id": "5fab6059",
   "metadata": {},
   "source": [
    "## Inferring Clusters\n",
    "The pipeline of embedding and clustering skills that was described in the notebook ../model_selection/model_selection_silhouette.ipynb is read into memory and used to infer clusters on the objectives in the learning curriculum."
   ]
  },
  {
   "cell_type": "code",
   "execution_count": 19,
   "id": "f99863d9",
   "metadata": {},
   "outputs": [
    {
     "name": "stderr",
     "output_type": "stream",
     "text": [
      "/opt/conda/lib/python3.8/site-packages/sklearn/base.py:310: UserWarning: Trying to unpickle estimator KMeans from version 0.23.1 when using version 0.24.1. This might lead to breaking code or invalid results. Use at your own risk.\n",
      "  warnings.warn(\n"
     ]
    }
   ],
   "source": [
    "k31 = pickle.load(open('../Model_Selection/k_31_full', 'rb'))\n",
    "objectives = []\n",
    "model = 'all-distilroberta-v1'\n",
    "model = SentenceTransformer(model)\n",
    "for o in df['objective'].to_list():\n",
    "    objectives.append(preprocess_for_bert(o))\n",
    "embeddings = model.encode(objectives)\n",
    "clusters =  k31.predict(np.array(embeddings.tolist()))\n",
    "df['cluster']=clusters"
   ]
  },
  {
   "cell_type": "code",
   "execution_count": 21,
   "id": "4d8d1826",
   "metadata": {},
   "outputs": [
    {
     "data": {
      "text/html": [
       "<div>\n",
       "<style scoped>\n",
       "    .dataframe tbody tr th:only-of-type {\n",
       "        vertical-align: middle;\n",
       "    }\n",
       "\n",
       "    .dataframe tbody tr th {\n",
       "        vertical-align: top;\n",
       "    }\n",
       "\n",
       "    .dataframe thead th {\n",
       "        text-align: right;\n",
       "    }\n",
       "</style>\n",
       "<table border=\"1\" class=\"dataframe\">\n",
       "  <thead>\n",
       "    <tr style=\"text-align: right;\">\n",
       "      <th></th>\n",
       "      <th>objective</th>\n",
       "      <th>module</th>\n",
       "      <th>study_program</th>\n",
       "      <th>cluster</th>\n",
       "    </tr>\n",
       "  </thead>\n",
       "  <tbody>\n",
       "    <tr>\n",
       "      <th>0</th>\n",
       "      <td>understand the fundamental building blocks of ...</td>\n",
       "      <td>Advanced Statistics</td>\n",
       "      <td>DS_60</td>\n",
       "      <td>12</td>\n",
       "    </tr>\n",
       "    <tr>\n",
       "      <th>1</th>\n",
       "      <td>analyze stochastic data in terms of the underl...</td>\n",
       "      <td>Advanced Statistics</td>\n",
       "      <td>DS_60</td>\n",
       "      <td>11</td>\n",
       "    </tr>\n",
       "    <tr>\n",
       "      <th>2</th>\n",
       "      <td>utilize Bayesian statistics techniques.</td>\n",
       "      <td>Advanced Statistics</td>\n",
       "      <td>DS_60</td>\n",
       "      <td>12</td>\n",
       "    </tr>\n",
       "    <tr>\n",
       "      <th>3</th>\n",
       "      <td>summarize the properties of observed data usin...</td>\n",
       "      <td>Advanced Statistics</td>\n",
       "      <td>DS_60</td>\n",
       "      <td>11</td>\n",
       "    </tr>\n",
       "    <tr>\n",
       "      <th>4</th>\n",
       "      <td>apply data visualization techniques to design ...</td>\n",
       "      <td>Advanced Statistics</td>\n",
       "      <td>DS_60</td>\n",
       "      <td>14</td>\n",
       "    </tr>\n",
       "  </tbody>\n",
       "</table>\n",
       "</div>"
      ],
      "text/plain": [
       "                                           objective                module  \\\n",
       "0  understand the fundamental building blocks of ...  Advanced Statistics    \n",
       "1  analyze stochastic data in terms of the underl...  Advanced Statistics    \n",
       "2            utilize Bayesian statistics techniques.  Advanced Statistics    \n",
       "3  summarize the properties of observed data usin...  Advanced Statistics    \n",
       "4  apply data visualization techniques to design ...  Advanced Statistics    \n",
       "\n",
       "  study_program  cluster  \n",
       "0         DS_60       12  \n",
       "1         DS_60       11  \n",
       "2         DS_60       12  \n",
       "3         DS_60       11  \n",
       "4         DS_60       14  "
      ]
     },
     "execution_count": 21,
     "metadata": {},
     "output_type": "execute_result"
    }
   ],
   "source": [
    "df.head()"
   ]
  },
  {
   "cell_type": "code",
   "execution_count": 20,
   "id": "616bba13",
   "metadata": {},
   "outputs": [],
   "source": [
    "df.to_csv('../datasets/df_handbook_DS_60.csv')"
   ]
  }
 ],
 "metadata": {
  "kernelspec": {
   "display_name": "Python 3",
   "language": "python",
   "name": "python3"
  },
  "language_info": {
   "codemirror_mode": {
    "name": "ipython",
    "version": 3
   },
   "file_extension": ".py",
   "mimetype": "text/x-python",
   "name": "python",
   "nbconvert_exporter": "python",
   "pygments_lexer": "ipython3",
   "version": "3.9.2"
  }
 },
 "nbformat": 4,
 "nbformat_minor": 5
}
