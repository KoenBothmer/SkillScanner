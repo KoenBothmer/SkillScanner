{
 "cells": [
  {
   "cell_type": "code",
   "execution_count": 1,
   "id": "95161c5d",
   "metadata": {},
   "outputs": [],
   "source": [
    "import pdfplumber\n",
    "import pandas as pd\n",
    "from sentence_transformers import SentenceTransformer, util\n",
    "import pickle\n",
    "import numpy as np\n",
    "import re\n",
    "from scipy import spatial"
   ]
  },
  {
   "cell_type": "code",
   "execution_count": 2,
   "id": "6e0dfc9c",
   "metadata": {},
   "outputs": [],
   "source": [
    "import dtale\n",
    "#handy pandas visualizer, when on local Jupyter Server just run dtale.show(df)\n",
    "#from Docker container visual is available at http://localhost:40000/"
   ]
  },
  {
   "cell_type": "code",
   "execution_count": 3,
   "id": "30a136cc",
   "metadata": {},
   "outputs": [],
   "source": [
    "path = '../datasets/resume_samples.txt'\n",
    "df = pd.DataFrame()\n",
    "counter = 0\n",
    "id_list = []\n",
    "title_list = []\n",
    "skill_list = []\n",
    "#exp_list = []\n",
    "with open(path, 'r',encoding=\"utf8\", errors='backslashreplace') as f:\n",
    "    for line in f.readlines():\n",
    "        \n",
    "        splitted = line.split(':::')\n",
    "        title = splitted[1].split(';')[0]\n",
    "        if 'data scientist' in title.lower():\n",
    "            splitted = splitted[2].lower()\n",
    "            splitted = splitted.replace('\\\\xa0',';;;')\n",
    "            splitted = splitted.replace('*',';;;')\n",
    "            splitted = splitted.replace('\\\\x95',';;;')\n",
    "            splitted = splitted.replace('education',';;;')\n",
    "            #splitted = splitted.replace(',',';;;')\n",
    "            splitted = splitted.split(';;;')\n",
    "            \n",
    "            for skill in splitted[1:]:\n",
    "                if (len(skill)>1) & ('responsibilities:' not in skill.lower()):\n",
    "                    id_list.append(counter)\n",
    "                    \n",
    "                    title_list.append(title)\n",
    "                    skill_list.append(skill)\n",
    "            counter+=1\n",
    "df['id']=id_list\n",
    "df['title']=title_list\n",
    "df['skill']=skill_list"
   ]
  },
  {
   "cell_type": "code",
   "execution_count": 4,
   "id": "bd3d84d7",
   "metadata": {},
   "outputs": [
    {
     "data": {
      "text/html": [
       "<div>\n",
       "<style scoped>\n",
       "    .dataframe tbody tr th:only-of-type {\n",
       "        vertical-align: middle;\n",
       "    }\n",
       "\n",
       "    .dataframe tbody tr th {\n",
       "        vertical-align: top;\n",
       "    }\n",
       "\n",
       "    .dataframe thead th {\n",
       "        text-align: right;\n",
       "    }\n",
       "</style>\n",
       "<table border=\"1\" class=\"dataframe\">\n",
       "  <thead>\n",
       "    <tr style=\"text-align: right;\">\n",
       "      <th></th>\n",
       "      <th>id</th>\n",
       "      <th>title</th>\n",
       "      <th>skill</th>\n",
       "    </tr>\n",
       "  </thead>\n",
       "  <tbody>\n",
       "    <tr>\n",
       "      <th>0</th>\n",
       "      <td>0</td>\n",
       "      <td>Data Scientist/Analytics Consultant</td>\n",
       "      <td>design sql, r &amp; python scripts to directly qu...</td>\n",
       "    </tr>\n",
       "    <tr>\n",
       "      <th>1</th>\n",
       "      <td>0</td>\n",
       "      <td>Data Scientist/Analytics Consultant</td>\n",
       "      <td>aid in the development of predictive modeling...</td>\n",
       "    </tr>\n",
       "    <tr>\n",
       "      <th>2</th>\n",
       "      <td>0</td>\n",
       "      <td>Data Scientist/Analytics Consultant</td>\n",
       "      <td>test model fit using cross-validation and boo...</td>\n",
       "    </tr>\n",
       "    <tr>\n",
       "      <th>3</th>\n",
       "      <td>0</td>\n",
       "      <td>Data Scientist/Analytics Consultant</td>\n",
       "      <td>develop in an scrum environment with team mem...</td>\n",
       "    </tr>\n",
       "    <tr>\n",
       "      <th>4</th>\n",
       "      <td>0</td>\n",
       "      <td>Data Scientist/Analytics Consultant</td>\n",
       "      <td>model data using pandas/r dataframes, powerpi...</td>\n",
       "    </tr>\n",
       "    <tr>\n",
       "      <th>...</th>\n",
       "      <td>...</td>\n",
       "      <td>...</td>\n",
       "      <td>...</td>\n",
       "    </tr>\n",
       "    <tr>\n",
       "      <th>5649</th>\n",
       "      <td>66</td>\n",
       "      <td>Data Scientist</td>\n",
       "      <td>development methodologies agile/scrum, uml, d...</td>\n",
       "    </tr>\n",
       "    <tr>\n",
       "      <th>5650</th>\n",
       "      <td>66</td>\n",
       "      <td>Data Scientist</td>\n",
       "      <td>build tools jenkins, toad, sql loader, maven,...</td>\n",
       "    </tr>\n",
       "    <tr>\n",
       "      <th>5651</th>\n",
       "      <td>66</td>\n",
       "      <td>Data Scientist</td>\n",
       "      <td>reporting tools ms office (word/excel/power p...</td>\n",
       "    </tr>\n",
       "    <tr>\n",
       "      <th>5652</th>\n",
       "      <td>66</td>\n",
       "      <td>Data Scientist</td>\n",
       "      <td>databases microsoft sql server 2008,2010/2012...</td>\n",
       "    </tr>\n",
       "    <tr>\n",
       "      <th>5653</th>\n",
       "      <td>66</td>\n",
       "      <td>Data Scientist</td>\n",
       "      <td>operating systems all versions of windows, un...</td>\n",
       "    </tr>\n",
       "  </tbody>\n",
       "</table>\n",
       "<p>5654 rows × 3 columns</p>\n",
       "</div>"
      ],
      "text/plain": [
       "      id                                title  \\\n",
       "0      0  Data Scientist/Analytics Consultant   \n",
       "1      0  Data Scientist/Analytics Consultant   \n",
       "2      0  Data Scientist/Analytics Consultant   \n",
       "3      0  Data Scientist/Analytics Consultant   \n",
       "4      0  Data Scientist/Analytics Consultant   \n",
       "...   ..                                  ...   \n",
       "5649  66                       Data Scientist   \n",
       "5650  66                       Data Scientist   \n",
       "5651  66                       Data Scientist   \n",
       "5652  66                       Data Scientist   \n",
       "5653  66                       Data Scientist   \n",
       "\n",
       "                                                  skill  \n",
       "0      design sql, r & python scripts to directly qu...  \n",
       "1      aid in the development of predictive modeling...  \n",
       "2      test model fit using cross-validation and boo...  \n",
       "3      develop in an scrum environment with team mem...  \n",
       "4      model data using pandas/r dataframes, powerpi...  \n",
       "...                                                 ...  \n",
       "5649   development methodologies agile/scrum, uml, d...  \n",
       "5650   build tools jenkins, toad, sql loader, maven,...  \n",
       "5651   reporting tools ms office (word/excel/power p...  \n",
       "5652   databases microsoft sql server 2008,2010/2012...  \n",
       "5653   operating systems all versions of windows, un...  \n",
       "\n",
       "[5654 rows x 3 columns]"
      ]
     },
     "execution_count": 4,
     "metadata": {},
     "output_type": "execute_result"
    }
   ],
   "source": [
    "df"
   ]
  },
  {
   "cell_type": "code",
   "execution_count": 5,
   "id": "759033a3",
   "metadata": {},
   "outputs": [],
   "source": [
    "def preprocess_for_bert(string):\n",
    "    string = string.strip(\"\\n.’:\")\n",
    "    string = string.strip(\"’\")\n",
    "    string = string.strip(\"\\\\n\")\n",
    "    string = string.replace(\"/\",\" \")\n",
    "    return(string)"
   ]
  },
  {
   "cell_type": "code",
   "execution_count": 6,
   "id": "d04f77e8",
   "metadata": {},
   "outputs": [
    {
     "data": {
      "application/vnd.jupyter.widget-view+json": {
       "model_id": "a95b5b1c0806473a999a1315fdde50b3",
       "version_major": 2,
       "version_minor": 0
      },
      "text/plain": [
       "Downloading:   0%|          | 0.00/690 [00:00<?, ?B/s]"
      ]
     },
     "metadata": {},
     "output_type": "display_data"
    },
    {
     "data": {
      "application/vnd.jupyter.widget-view+json": {
       "model_id": "11f8384f3b43403da6e6ee10c5fdf550",
       "version_major": 2,
       "version_minor": 0
      },
      "text/plain": [
       "Downloading:   0%|          | 0.00/3.69k [00:00<?, ?B/s]"
      ]
     },
     "metadata": {},
     "output_type": "display_data"
    },
    {
     "data": {
      "application/vnd.jupyter.widget-view+json": {
       "model_id": "96d7ed74a0b94d3799d1a7d4eac8efbf",
       "version_major": 2,
       "version_minor": 0
      },
      "text/plain": [
       "Downloading:   0%|          | 0.00/629 [00:00<?, ?B/s]"
      ]
     },
     "metadata": {},
     "output_type": "display_data"
    },
    {
     "data": {
      "application/vnd.jupyter.widget-view+json": {
       "model_id": "2bc2729b05df4479811db9010f93559d",
       "version_major": 2,
       "version_minor": 0
      },
      "text/plain": [
       "Downloading:   0%|          | 0.00/122 [00:00<?, ?B/s]"
      ]
     },
     "metadata": {},
     "output_type": "display_data"
    },
    {
     "data": {
      "application/vnd.jupyter.widget-view+json": {
       "model_id": "54ce9ca13d2c4a2c9e4e598aa3132baf",
       "version_major": 2,
       "version_minor": 0
      },
      "text/plain": [
       "Downloading:   0%|          | 0.00/229 [00:00<?, ?B/s]"
      ]
     },
     "metadata": {},
     "output_type": "display_data"
    },
    {
     "data": {
      "application/vnd.jupyter.widget-view+json": {
       "model_id": "687e7a51139744838b98df0e612f48ee",
       "version_major": 2,
       "version_minor": 0
      },
      "text/plain": [
       "Downloading:   0%|          | 0.00/90.9M [00:00<?, ?B/s]"
      ]
     },
     "metadata": {},
     "output_type": "display_data"
    },
    {
     "data": {
      "application/vnd.jupyter.widget-view+json": {
       "model_id": "35eec9c29ef04cdc988b060e5da3e9da",
       "version_major": 2,
       "version_minor": 0
      },
      "text/plain": [
       "Downloading:   0%|          | 0.00/53.0 [00:00<?, ?B/s]"
      ]
     },
     "metadata": {},
     "output_type": "display_data"
    },
    {
     "data": {
      "application/vnd.jupyter.widget-view+json": {
       "model_id": "945f428ac56c40f8af0549a4409944b6",
       "version_major": 2,
       "version_minor": 0
      },
      "text/plain": [
       "Downloading:   0%|          | 0.00/112 [00:00<?, ?B/s]"
      ]
     },
     "metadata": {},
     "output_type": "display_data"
    },
    {
     "data": {
      "application/vnd.jupyter.widget-view+json": {
       "model_id": "9aa19e6bce6c485399c9e2c9b07a9f70",
       "version_major": 2,
       "version_minor": 0
      },
      "text/plain": [
       "Downloading:   0%|          | 0.00/466k [00:00<?, ?B/s]"
      ]
     },
     "metadata": {},
     "output_type": "display_data"
    },
    {
     "data": {
      "application/vnd.jupyter.widget-view+json": {
       "model_id": "258cff6ea6c440cda20d7cf33c8f4328",
       "version_major": 2,
       "version_minor": 0
      },
      "text/plain": [
       "Downloading:   0%|          | 0.00/314 [00:00<?, ?B/s]"
      ]
     },
     "metadata": {},
     "output_type": "display_data"
    },
    {
     "data": {
      "application/vnd.jupyter.widget-view+json": {
       "model_id": "a6377270a0fe40d7af07d826cab2e8ce",
       "version_major": 2,
       "version_minor": 0
      },
      "text/plain": [
       "Downloading:   0%|          | 0.00/232k [00:00<?, ?B/s]"
      ]
     },
     "metadata": {},
     "output_type": "display_data"
    },
    {
     "data": {
      "application/vnd.jupyter.widget-view+json": {
       "model_id": "1653dce32c3a4cdfbb6c50f613b8d6ab",
       "version_major": 2,
       "version_minor": 0
      },
      "text/plain": [
       "Downloading:   0%|          | 0.00/190 [00:00<?, ?B/s]"
      ]
     },
     "metadata": {},
     "output_type": "display_data"
    }
   ],
   "source": [
    "k21 = pickle.load(open('../Experiments/k21.sav', 'rb'))\n",
    "objectives = []\n",
    "model = SentenceTransformer('paraphrase-MiniLM-L6-v2')"
   ]
  },
  {
   "cell_type": "code",
   "execution_count": 7,
   "id": "f99863d9",
   "metadata": {},
   "outputs": [],
   "source": [
    "skill_list = []\n",
    "for s in df['skill'].to_list():\n",
    "    skill_list.append(preprocess_for_bert(s))\n",
    "embeddings = model.encode(skill_list)\n",
    "clusters =  k21.predict(np.array(embeddings.tolist()))\n",
    "df['cluster']=clusters"
   ]
  },
  {
   "cell_type": "code",
   "execution_count": 8,
   "id": "8b8c7103",
   "metadata": {},
   "outputs": [
    {
     "name": "stdout",
     "output_type": "stream",
     "text": [
      "16\n"
     ]
    }
   ],
   "source": [
    "print(clusters[1])"
   ]
  },
  {
   "cell_type": "code",
   "execution_count": 9,
   "id": "b7d08e85",
   "metadata": {},
   "outputs": [],
   "source": [
    "results = []\n",
    "for index, row in df.iterrows():\n",
    "    #print(clusters[index])\n",
    "    #print(embeddings[index])\n",
    "    #k21.cluster_centers_[1]\n",
    "    result = 1 - spatial.distance.cosine(k21.cluster_centers_[clusters[index]], embeddings[index])\n",
    "    results.append(result)\n",
    "    #print(df[skill].loc[index])\n",
    "df['similarity_to_cluster']=results"
   ]
  },
  {
   "cell_type": "code",
   "execution_count": 10,
   "id": "9bde631c",
   "metadata": {},
   "outputs": [],
   "source": [
    "k20_bigrams = pickle.load(open('../Experiments/k20_bigrams', 'rb'))"
   ]
  },
  {
   "cell_type": "code",
   "execution_count": 11,
   "id": "90c2929b",
   "metadata": {},
   "outputs": [],
   "source": [
    "bigrams = []\n",
    "for cluster in clusters:\n",
    "    bigrams.append(k20_bigrams[cluster])\n",
    "df['bigrams_k20']=bigrams"
   ]
  },
  {
   "cell_type": "code",
   "execution_count": 12,
   "id": "650b3fdb",
   "metadata": {},
   "outputs": [
    {
     "name": "stderr",
     "output_type": "stream",
     "text": [
      "2021-09-20 20:34:36,442 - INFO     - NumExpr defaulting to 2 threads.\n"
     ]
    }
   ],
   "source": [
    "d=dtale.show(df)"
   ]
  },
  {
   "cell_type": "code",
   "execution_count": 13,
   "id": "60a6bac6",
   "metadata": {},
   "outputs": [
    {
     "name": "stdout",
     "output_type": "stream",
     "text": [
      "To gain access to an instance object simply pass the value from 'ID' to dtale.get_instance(ID)\n",
      "\n",
      "ID Name                                    URL\n",
      " 1      http://f468fa972f9e:40000/dtale/main/1\n",
      "        http://f468fa972f9e:40000/dtale/main/1\n"
     ]
    }
   ],
   "source": [
    "dtale.instances()"
   ]
  },
  {
   "cell_type": "code",
   "execution_count": 14,
   "id": "3270101e",
   "metadata": {
    "scrolled": true
   },
   "outputs": [
    {
     "name": "stdout",
     "output_type": "stream",
     "text": [
      "15 1427 data visualization, large datasets, experience data, knowledge data, data visualisation, large data, big data, understanding data, data engineering, data pipelines, \n",
      "-----------------------\n",
      "3 1061 software development, software engineering, best practices, data science, experience working, processing frameworks, frameworks spark, tools (e.g., standard software, ci cd,, \n",
      "-----------------------\n",
      "11 847 develop processes, processes tools, tools monitor, model performance, performance data, data accuracy, analyze data, data analysis, ability develop, develop experimental, \n",
      "-----------------------\n",
      "16 492 machine learning, learning techniques, learning algorithms, understanding machine, experience machine, deep learning, learning experience, strong knowledge, knowledge machine, machine learning,, \n",
      "-----------------------\n",
      "7 383 relational databases, experience sql, knowledge sql, sql queries, experience databases, advanced sql, sql skills, experience relational, sql experience, python sql, \n",
      "-----------------------\n",
      "19 338 programming languages, languages python,, programming skills, python data, programming experience, python, r,, data analysis, proficient python, data science, languages (python,, \n",
      "-----------------------\n",
      "8 302 product teams, support identifying, identifying opportunities, opportunities creating, creating customer, customer value, identify opportunities, closely business, business outcomes, better understand, \n",
      "-----------------------\n",
      "17 140 multiple projects, r&d projects, project team, research partners, specific development, development projects, product engineering, engineering teams, identify trends, experience building, \n",
      "-----------------------\n",
      "13 136 data science, data engineering, experience data, data scientists, years experience, 5+ years, years data, science experience, data scientist, 3+ years, \n",
      "-----------------------\n",
      "1 126 experience demonstrated, scientific journals,, scientific cv, cv contact, contact details;, scientific results, present scientific, scientific technical, drug discovery, discovery early, \n",
      "-----------------------\n",
      "20 89 experience cloud, google cloud, cloud platform, experience working, ms azure, platform technology, technology (aws, (aws ms, ms azure), cloud services, \n",
      "-----------------------\n",
      "6 57 career development, willingness learn, new technologies, learn new, genuine willingness, learn drive, dedicated house, house l&d, l&d department,, department, access, \n",
      "-----------------------\n",
      "0 57 teams across, key stakeholders, strong communication, communication skills, internal stakeholders, across business, ability communicate, technical non-technical, interest working, informal, dynamic, \n",
      "-----------------------\n",
      "14 43 international environment, work environment, relocation packages, city center, great job,, job, international, willing travel, relocation support, flexible enthusiastic, enthusiastic work, \n",
      "-----------------------\n",
      "10 36 flexible working, work environment, working hours, environment flexible, working environment, flexible work, dynamic work, work home, hours flexible, large degree, \n",
      "-----------------------\n",
      "2 29 team player, ability work, communication skills, team environment, excellent communication, collaboration skills, skills ability, within team, communication teamwork, good communication, \n",
      "-----------------------\n",
      "12 27 competitive salary, competitive compensation, salary competitive, compensation package, package competitive, benefits package, including performance, social benefits, benefits competitive, competitive remuneration, \n",
      "-----------------------\n",
      "18 23 working people, problem solving, lifestyle curiosity,, curiosity, learning,, learning, sharing,, sharing, working, people share, share hunger.\"], think creatively, solve problems, \n",
      "-----------------------\n",
      "9 22 computer science,, degree computer, science, mathematics,, master’s degree, phd computer, related field, computer science, quantitative field, statistics, engineering,, engineering, computer, \n",
      "-----------------------\n",
      "4 16 communication skills, skills excellent, excellent communication, written communication, verbal written, skills good, good communication, communication skills,, strong communication, verbal communication, \n",
      "-----------------------\n",
      "5 3 fluent english, english fluent, written spoken, spoken english, english fluency, fluent written, english skills, language skills, excellent written, written verbal, \n",
      "-----------------------\n"
     ]
    }
   ],
   "source": [
    "#df['cluster'].value_counts()\n",
    "for c, count in df['cluster'].value_counts().iteritems():\n",
    "    print(str(c)+\" \"+str(count)+\" \"+k20_bigrams[c])\n",
    "    print('-----------------------')\n",
    "    \n",
    "for i in range(0,20):\n",
    "    if i not in df['cluster'].to_list():\n",
    "         print('missing '+str(i))"
   ]
  },
  {
   "cell_type": "code",
   "execution_count": 15,
   "id": "73377a2b",
   "metadata": {
    "scrolled": true
   },
   "outputs": [],
   "source": [
    "cluster_matrix = []\n",
    "\n",
    "for id in np.unique(df[['id']].values):\n",
    "    cluster_counter = []\n",
    "    filtered = df[df['id']==id]\n",
    "    for cluster in range(0,20):\n",
    "        c=0\n",
    "        for index, row in filtered.iterrows():\n",
    "            if row['cluster']==cluster:\n",
    "                c+=1/len(filtered)\n",
    "        cluster_counter.append(c)\n",
    "    cluster_matrix.append(cluster_counter)"
   ]
  },
  {
   "cell_type": "code",
   "execution_count": 16,
   "id": "459201bf",
   "metadata": {},
   "outputs": [],
   "source": [
    "df_resume  = pd.DataFrame()\n",
    "df_resume['id']=np.unique(df[['id']].values)\n",
    "df_resume['matrix']=cluster_matrix\n",
    "#df_resume = df_resume.append(pd.DataFrame(df_resume['matrix'].tolist()))\n",
    "foo=pd.DataFrame(df_resume['matrix'].tolist())\n",
    "df_resume = pd.concat([df_resume,foo], axis=1)\n",
    "counted = df_resume.iloc[:,2:].astype(bool).sum(axis=0).sort_values(ascending=False)"
   ]
  },
  {
   "cell_type": "code",
   "execution_count": 17,
   "id": "416ecd41",
   "metadata": {},
   "outputs": [],
   "source": [
    "scored = df_resume.iloc[:,2:].sum(axis=0).sort_values(ascending=False)"
   ]
  },
  {
   "cell_type": "code",
   "execution_count": 18,
   "id": "5c9fc3eb",
   "metadata": {},
   "outputs": [
    {
     "name": "stdout",
     "output_type": "stream",
     "text": [
      "cluster 15 scored 14.830993416249223 Most common bigrams of this cluster are data visualization, large datasets, experience data, knowledge data, data visualisation, large data, big data, understanding data, data engineering, data pipelines, \n",
      "---------------------\n",
      "cluster 3 scored 13.658230137730028 Most common bigrams of this cluster are software development, software engineering, best practices, data science, experience working, processing frameworks, frameworks spark, tools (e.g., standard software, ci cd,, \n",
      "---------------------\n",
      "cluster 11 scored 9.86464014150455 Most common bigrams of this cluster are develop processes, processes tools, tools monitor, model performance, performance data, data accuracy, analyze data, data analysis, ability develop, develop experimental, \n",
      "---------------------\n",
      "cluster 16 scored 5.301561245213319 Most common bigrams of this cluster are machine learning, learning techniques, learning algorithms, understanding machine, experience machine, deep learning, learning experience, strong knowledge, knowledge machine, machine learning,, \n",
      "---------------------\n",
      "cluster 8 scored 4.035537649346849 Most common bigrams of this cluster are product teams, support identifying, identifying opportunities, opportunities creating, creating customer, customer value, identify opportunities, closely business, business outcomes, better understand, \n",
      "---------------------\n",
      "cluster 19 scored 3.9439604040416816 Most common bigrams of this cluster are programming languages, languages python,, programming skills, python data, programming experience, python, r,, data analysis, proficient python, data science, languages (python,, \n",
      "---------------------\n",
      "cluster 7 scored 3.76658841970619 Most common bigrams of this cluster are relational databases, experience sql, knowledge sql, sql queries, experience databases, advanced sql, sql skills, experience relational, sql experience, python sql, \n",
      "---------------------\n",
      "cluster 1 scored 2.0366765115125465 Most common bigrams of this cluster are experience demonstrated, scientific journals,, scientific cv, cv contact, contact details;, scientific results, present scientific, scientific technical, drug discovery, discovery early, \n",
      "---------------------\n",
      "cluster 17 scored 1.7857924455712717 Most common bigrams of this cluster are multiple projects, r&d projects, project team, research partners, specific development, development projects, product engineering, engineering teams, identify trends, experience building, \n",
      "---------------------\n",
      "cluster 13 scored 1.531772040910981 Most common bigrams of this cluster are data science, data engineering, experience data, data scientists, years experience, 5+ years, years data, science experience, data scientist, 3+ years, \n",
      "---------------------\n",
      "cluster 6 scored 1.1628802955053417 Most common bigrams of this cluster are career development, willingness learn, new technologies, learn new, genuine willingness, learn drive, dedicated house, house l&d, l&d department,, department, access, \n",
      "---------------------\n",
      "cluster 14 scored 0.8986972321999951 Most common bigrams of this cluster are international environment, work environment, relocation packages, city center, great job,, job, international, willing travel, relocation support, flexible enthusiastic, enthusiastic work, \n",
      "---------------------\n",
      "cluster 0 scored 0.826620564653588 Most common bigrams of this cluster are teams across, key stakeholders, strong communication, communication skills, internal stakeholders, across business, ability communicate, technical non-technical, interest working, informal, dynamic, \n",
      "---------------------\n",
      "cluster 9 scored 0.48893708941207087 Most common bigrams of this cluster are computer science,, degree computer, science, mathematics,, master’s degree, phd computer, related field, computer science, quantitative field, statistics, engineering,, engineering, computer, \n",
      "---------------------\n",
      "cluster 18 scored 0.47463696708729014 Most common bigrams of this cluster are working people, problem solving, lifestyle curiosity,, curiosity, learning,, learning, sharing,, sharing, working, people share, share hunger.\"], think creatively, solve problems, \n",
      "---------------------\n",
      "cluster 10 scored 0.42890484094086523 Most common bigrams of this cluster are flexible working, work environment, working hours, environment flexible, working environment, flexible work, dynamic work, work home, hours flexible, large degree, \n",
      "---------------------\n",
      "cluster 12 scored 0.42876370126704144 Most common bigrams of this cluster are competitive salary, competitive compensation, salary competitive, compensation package, package competitive, benefits package, including performance, social benefits, benefits competitive, competitive remuneration, \n",
      "---------------------\n",
      "cluster 2 scored 0.3089345253672636 Most common bigrams of this cluster are team player, ability work, communication skills, team environment, excellent communication, collaboration skills, skills ability, within team, communication teamwork, good communication, \n",
      "---------------------\n",
      "cluster 4 scored 0.3071563433451635 Most common bigrams of this cluster are communication skills, skills excellent, excellent communication, written communication, verbal written, skills good, good communication, communication skills,, strong communication, verbal communication, \n",
      "---------------------\n",
      "cluster 5 scored 0.0538181998530161 Most common bigrams of this cluster are fluent english, english fluent, written spoken, spoken english, english fluency, fluent written, english skills, language skills, excellent written, written verbal, \n",
      "---------------------\n",
      "Exception occurred while processing request: min() arg is an empty sequence\n",
      "Traceback (most recent call last):\n",
      "  File \"/opt/conda/lib/python3.8/site-packages/dtale/views.py\", line 105, in _handle_exceptions\n",
      "    return func(*args, **kwargs)\n",
      "  File \"/opt/conda/lib/python3.8/site-packages/dtale/views.py\", line 2381, in load_filtered_ranges\n",
      "    overall_min = min([v[\"min\"] for v in filtered_ranges.values()])\n",
      "ValueError: min() arg is an empty sequence\n"
     ]
    },
    {
     "name": "stderr",
     "output_type": "stream",
     "text": [
      "2021-09-20 20:40:42,921 - ERROR    - Exception occurred while processing request: min() arg is an empty sequence\n",
      "Traceback (most recent call last):\n",
      "  File \"/opt/conda/lib/python3.8/site-packages/dtale/views.py\", line 105, in _handle_exceptions\n",
      "    return func(*args, **kwargs)\n",
      "  File \"/opt/conda/lib/python3.8/site-packages/dtale/views.py\", line 2381, in load_filtered_ranges\n",
      "    overall_min = min([v[\"min\"] for v in filtered_ranges.values()])\n",
      "ValueError: min() arg is an empty sequence\n"
     ]
    },
    {
     "name": "stdout",
     "output_type": "stream",
     "text": [
      "Exception occurred while processing request: min() arg is an empty sequence\n",
      "Traceback (most recent call last):\n",
      "  File \"/opt/conda/lib/python3.8/site-packages/dtale/views.py\", line 105, in _handle_exceptions\n",
      "    return func(*args, **kwargs)\n",
      "  File \"/opt/conda/lib/python3.8/site-packages/dtale/views.py\", line 2381, in load_filtered_ranges\n",
      "    overall_min = min([v[\"min\"] for v in filtered_ranges.values()])\n",
      "ValueError: min() arg is an empty sequence\n"
     ]
    },
    {
     "name": "stderr",
     "output_type": "stream",
     "text": [
      "2021-09-20 20:40:45,427 - ERROR    - Exception occurred while processing request: min() arg is an empty sequence\n",
      "Traceback (most recent call last):\n",
      "  File \"/opt/conda/lib/python3.8/site-packages/dtale/views.py\", line 105, in _handle_exceptions\n",
      "    return func(*args, **kwargs)\n",
      "  File \"/opt/conda/lib/python3.8/site-packages/dtale/views.py\", line 2381, in load_filtered_ranges\n",
      "    overall_min = min([v[\"min\"] for v in filtered_ranges.values()])\n",
      "ValueError: min() arg is an empty sequence\n"
     ]
    },
    {
     "name": "stdout",
     "output_type": "stream",
     "text": [
      "Exception occurred while processing request: min() arg is an empty sequence\n",
      "Traceback (most recent call last):\n",
      "  File \"/opt/conda/lib/python3.8/site-packages/dtale/views.py\", line 105, in _handle_exceptions\n",
      "    return func(*args, **kwargs)\n",
      "  File \"/opt/conda/lib/python3.8/site-packages/dtale/views.py\", line 2381, in load_filtered_ranges\n",
      "    overall_min = min([v[\"min\"] for v in filtered_ranges.values()])\n",
      "ValueError: min() arg is an empty sequence\n"
     ]
    },
    {
     "name": "stderr",
     "output_type": "stream",
     "text": [
      "2021-09-20 20:40:45,959 - ERROR    - Exception occurred while processing request: min() arg is an empty sequence\n",
      "Traceback (most recent call last):\n",
      "  File \"/opt/conda/lib/python3.8/site-packages/dtale/views.py\", line 105, in _handle_exceptions\n",
      "    return func(*args, **kwargs)\n",
      "  File \"/opt/conda/lib/python3.8/site-packages/dtale/views.py\", line 2381, in load_filtered_ranges\n",
      "    overall_min = min([v[\"min\"] for v in filtered_ranges.values()])\n",
      "ValueError: min() arg is an empty sequence\n"
     ]
    },
    {
     "name": "stdout",
     "output_type": "stream",
     "text": [
      "Exception occurred while processing request: min() arg is an empty sequence\n",
      "Traceback (most recent call last):\n",
      "  File \"/opt/conda/lib/python3.8/site-packages/dtale/views.py\", line 105, in _handle_exceptions\n",
      "    return func(*args, **kwargs)\n",
      "  File \"/opt/conda/lib/python3.8/site-packages/dtale/views.py\", line 2381, in load_filtered_ranges\n",
      "    overall_min = min([v[\"min\"] for v in filtered_ranges.values()])\n",
      "ValueError: min() arg is an empty sequence\n"
     ]
    },
    {
     "name": "stderr",
     "output_type": "stream",
     "text": [
      "2021-09-20 20:40:47,044 - ERROR    - Exception occurred while processing request: min() arg is an empty sequence\n",
      "Traceback (most recent call last):\n",
      "  File \"/opt/conda/lib/python3.8/site-packages/dtale/views.py\", line 105, in _handle_exceptions\n",
      "    return func(*args, **kwargs)\n",
      "  File \"/opt/conda/lib/python3.8/site-packages/dtale/views.py\", line 2381, in load_filtered_ranges\n",
      "    overall_min = min([v[\"min\"] for v in filtered_ranges.values()])\n",
      "ValueError: min() arg is an empty sequence\n"
     ]
    },
    {
     "name": "stdout",
     "output_type": "stream",
     "text": [
      "Exception occurred while processing request: min() arg is an empty sequence\n",
      "Traceback (most recent call last):\n",
      "  File \"/opt/conda/lib/python3.8/site-packages/dtale/views.py\", line 105, in _handle_exceptions\n",
      "    return func(*args, **kwargs)\n",
      "  File \"/opt/conda/lib/python3.8/site-packages/dtale/views.py\", line 2381, in load_filtered_ranges\n",
      "    overall_min = min([v[\"min\"] for v in filtered_ranges.values()])\n",
      "ValueError: min() arg is an empty sequence\n"
     ]
    },
    {
     "name": "stderr",
     "output_type": "stream",
     "text": [
      "2021-09-20 20:40:56,802 - ERROR    - Exception occurred while processing request: min() arg is an empty sequence\n",
      "Traceback (most recent call last):\n",
      "  File \"/opt/conda/lib/python3.8/site-packages/dtale/views.py\", line 105, in _handle_exceptions\n",
      "    return func(*args, **kwargs)\n",
      "  File \"/opt/conda/lib/python3.8/site-packages/dtale/views.py\", line 2381, in load_filtered_ranges\n",
      "    overall_min = min([v[\"min\"] for v in filtered_ranges.values()])\n",
      "ValueError: min() arg is an empty sequence\n"
     ]
    },
    {
     "name": "stdout",
     "output_type": "stream",
     "text": [
      "Exception occurred while processing request: min() arg is an empty sequence\n",
      "Traceback (most recent call last):\n",
      "  File \"/opt/conda/lib/python3.8/site-packages/dtale/views.py\", line 105, in _handle_exceptions\n",
      "    return func(*args, **kwargs)\n",
      "  File \"/opt/conda/lib/python3.8/site-packages/dtale/views.py\", line 2381, in load_filtered_ranges\n",
      "    overall_min = min([v[\"min\"] for v in filtered_ranges.values()])\n",
      "ValueError: min() arg is an empty sequence\n"
     ]
    },
    {
     "name": "stderr",
     "output_type": "stream",
     "text": [
      "2021-09-20 20:41:29,002 - ERROR    - Exception occurred while processing request: min() arg is an empty sequence\n",
      "Traceback (most recent call last):\n",
      "  File \"/opt/conda/lib/python3.8/site-packages/dtale/views.py\", line 105, in _handle_exceptions\n",
      "    return func(*args, **kwargs)\n",
      "  File \"/opt/conda/lib/python3.8/site-packages/dtale/views.py\", line 2381, in load_filtered_ranges\n",
      "    overall_min = min([v[\"min\"] for v in filtered_ranges.values()])\n",
      "ValueError: min() arg is an empty sequence\n"
     ]
    },
    {
     "name": "stdout",
     "output_type": "stream",
     "text": [
      "Exception occurred while processing request: min() arg is an empty sequence\n",
      "Traceback (most recent call last):\n",
      "  File \"/opt/conda/lib/python3.8/site-packages/dtale/views.py\", line 105, in _handle_exceptions\n",
      "    return func(*args, **kwargs)\n",
      "  File \"/opt/conda/lib/python3.8/site-packages/dtale/views.py\", line 2381, in load_filtered_ranges\n",
      "    overall_min = min([v[\"min\"] for v in filtered_ranges.values()])\n",
      "ValueError: min() arg is an empty sequence\n"
     ]
    },
    {
     "name": "stderr",
     "output_type": "stream",
     "text": [
      "2021-09-20 20:42:21,990 - ERROR    - Exception occurred while processing request: min() arg is an empty sequence\n",
      "Traceback (most recent call last):\n",
      "  File \"/opt/conda/lib/python3.8/site-packages/dtale/views.py\", line 105, in _handle_exceptions\n",
      "    return func(*args, **kwargs)\n",
      "  File \"/opt/conda/lib/python3.8/site-packages/dtale/views.py\", line 2381, in load_filtered_ranges\n",
      "    overall_min = min([v[\"min\"] for v in filtered_ranges.values()])\n",
      "ValueError: min() arg is an empty sequence\n"
     ]
    },
    {
     "name": "stdout",
     "output_type": "stream",
     "text": [
      "Exception occurred while processing request: min() arg is an empty sequence\n",
      "Traceback (most recent call last):\n",
      "  File \"/opt/conda/lib/python3.8/site-packages/dtale/views.py\", line 105, in _handle_exceptions\n",
      "    return func(*args, **kwargs)\n",
      "  File \"/opt/conda/lib/python3.8/site-packages/dtale/views.py\", line 2381, in load_filtered_ranges\n",
      "    overall_min = min([v[\"min\"] for v in filtered_ranges.values()])\n",
      "ValueError: min() arg is an empty sequence\n"
     ]
    },
    {
     "name": "stderr",
     "output_type": "stream",
     "text": [
      "2021-09-20 20:44:00,929 - ERROR    - Exception occurred while processing request: min() arg is an empty sequence\n",
      "Traceback (most recent call last):\n",
      "  File \"/opt/conda/lib/python3.8/site-packages/dtale/views.py\", line 105, in _handle_exceptions\n",
      "    return func(*args, **kwargs)\n",
      "  File \"/opt/conda/lib/python3.8/site-packages/dtale/views.py\", line 2381, in load_filtered_ranges\n",
      "    overall_min = min([v[\"min\"] for v in filtered_ranges.values()])\n",
      "ValueError: min() arg is an empty sequence\n"
     ]
    }
   ],
   "source": [
    "for cluster, score in scored.iteritems():\n",
    "    print(\"cluster \"+str(cluster)+\" scored \"+str(score)+\" Most common bigrams of this cluster are \"+k20_bigrams[cluster])\n",
    "    print('---------------------')"
   ]
  },
  {
   "cell_type": "code",
   "execution_count": null,
   "id": "f1a831b9",
   "metadata": {},
   "outputs": [],
   "source": []
  }
 ],
 "metadata": {
  "kernelspec": {
   "display_name": "Python 3",
   "language": "python",
   "name": "python3"
  },
  "language_info": {
   "codemirror_mode": {
    "name": "ipython",
    "version": 3
   },
   "file_extension": ".py",
   "mimetype": "text/x-python",
   "name": "python",
   "nbconvert_exporter": "python",
   "pygments_lexer": "ipython3",
   "version": "3.8.8"
  }
 },
 "nbformat": 4,
 "nbformat_minor": 5
}
