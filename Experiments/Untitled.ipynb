{
 "cells": [
  {
   "cell_type": "code",
   "execution_count": 1,
   "id": "f9f6b184",
   "metadata": {},
   "outputs": [],
   "source": [
    "import pandas as pd\n",
    "pd.options.plotting.backend = \"plotly\" #interactive plots will be useful in this context\n",
    "import plotly.express as px\n",
    "import numpy as np"
   ]
  },
  {
   "cell_type": "code",
   "execution_count": 16,
   "id": "ff2eb651",
   "metadata": {},
   "outputs": [],
   "source": [
    "r1=\"You have scripting experience with Python and or R and SQL\"\n",
    "r2=\"At least 2 years of relevant experience coding in Python and SQL\""
   ]
  },
  {
   "cell_type": "code",
   "execution_count": 18,
   "id": "18effe8b",
   "metadata": {},
   "outputs": [
    {
     "name": "stdout",
     "output_type": "stream",
     "text": [
      "[1, 1, 1, 1, 1, 1, 2, 1, 1, 1, 0, 0, 0, 0, 0, 0, 0, 0]\n",
      "[0, 0, 0, 1, 0, 1, 1, 0, 0, 1, 1, 1, 1, 1, 1, 1, 1, 1]\n",
      "['You', 'have', 'scripting', 'experience', 'with', 'Python', 'and', 'or', 'R', 'SQL', 'At', 'least', '2', 'years', 'of', 'relevant', 'coding', 'in']\n"
     ]
    }
   ],
   "source": [
    "\n",
    "dictio = []\n",
    "for sent in [r1,r2]:\n",
    "    sent = sent.split(' ')\n",
    "    for word in sent: \n",
    "        if word not in dictio:\n",
    "            dictio.append(word)\n",
    "    \n",
    "for sent in [r1,r2]:\n",
    "    vec = []\n",
    "    sent = sent.split(' ')\n",
    "    for word in dictio:\n",
    "        count = 0\n",
    "        for word_ in sent:\n",
    "            if word == word_:\n",
    "                count+=1\n",
    "        vec.append(count)\n",
    "    print(vec)\n",
    "print(dictio)"
   ]
  },
  {
   "cell_type": "code",
   "execution_count": 7,
   "id": "5fb63c36",
   "metadata": {},
   "outputs": [
    {
     "name": "stdout",
     "output_type": "stream",
     "text": [
      "['you', 'are', 'skilled', 'in', 'SQL', 'and', 'at', 'least', 'one', 'scripting', 'programming', 'language', 'like', 'Python', 'or', 'R', 'Proficient', 'coding']\n"
     ]
    }
   ],
   "source": []
  },
  {
   "cell_type": "code",
   "execution_count": null,
   "id": "f0ccef4a",
   "metadata": {},
   "outputs": [],
   "source": []
  }
 ],
 "metadata": {
  "kernelspec": {
   "display_name": "Python 3",
   "language": "python",
   "name": "python3"
  },
  "language_info": {
   "codemirror_mode": {
    "name": "ipython",
    "version": 3
   },
   "file_extension": ".py",
   "mimetype": "text/x-python",
   "name": "python",
   "nbconvert_exporter": "python",
   "pygments_lexer": "ipython3",
   "version": "3.8.8"
  }
 },
 "nbformat": 4,
 "nbformat_minor": 5
}
