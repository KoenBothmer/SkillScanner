{
 "cells": [
  {
   "cell_type": "code",
   "execution_count": 1,
   "metadata": {},
   "outputs": [
    {
     "name": "stderr",
     "output_type": "stream",
     "text": [
      "C:\\Users\\BothmK01\\Anaconda3\\lib\\site-packages\\gensim\\similarities\\__init__.py:15: UserWarning: The gensim.similarities.levenshtein submodule is disabled, because the optional Levenshtein package <https://pypi.org/project/python-Levenshtein/> is unavailable. Install Levenhstein (e.g. `pip install python-Levenshtein`) to suppress this warning.\n",
      "  warnings.warn(msg)\n",
      "[nltk_data] Downloading package stopwords to\n",
      "[nltk_data]     C:\\Users\\BothmK01\\AppData\\Roaming\\nltk_data...\n",
      "[nltk_data]   Package stopwords is already up-to-date!\n",
      "[nltk_data] Downloading package punkt to\n",
      "[nltk_data]     C:\\Users\\BothmK01\\AppData\\Roaming\\nltk_data...\n",
      "[nltk_data]   Package punkt is already up-to-date!\n"
     ]
    }
   ],
   "source": [
    "import pandas as pd\n",
    "pd.options.plotting.backend = \"plotly\" #interactive plots will be useful in this context\n",
    "import plotly.express as px\n",
    "import plotly.graph_objects as go\n",
    "import numpy as np\n",
    "import gensim\n",
    "from sentence_transformers import SentenceTransformer, util\n",
    "import pickle\n",
    "import torch\n",
    "from sklearn.cluster import KMeans\n",
    "from nltk.corpus import stopwords\n",
    "import nltk\n",
    "nltk.download('stopwords')\n",
    "nltk.download('punkt')\n",
    "stop_words = set(stopwords.words('english'))"
   ]
  },
  {
   "cell_type": "code",
   "execution_count": 142,
   "metadata": {},
   "outputs": [],
   "source": [
    "df = pd.read_csv('../datasets/df_full.csv')\n",
    "df_r=pd.read_csv('../datasets/df_k31_k39.csv')\n",
    "df_cv = pd.read_csv('../datasets/df_cv.csv')\n",
    "df_handbook = pd.read_csv('../datasets/df_handbook_DS_60.csv')\n",
    "k39_umap = pickle.load(open('../Model_Selection/k_39_umap', 'rb'))\n",
    "k39_full = pickle.load(open('../Model_Selection/k_39_full', 'rb'))\n",
    "k31_umap = pickle.load(open('../Model_Selection/k_31_umap', 'rb'))\n",
    "k31_full = pickle.load(open('../Model_Selection/k_31_full', 'rb'))"
   ]
  },
  {
   "cell_type": "code",
   "execution_count": 3,
   "metadata": {},
   "outputs": [
    {
     "name": "stdout",
     "output_type": "stream",
     "text": [
      "1086\n"
     ]
    }
   ],
   "source": [
    "list_of_vec = []\n",
    "job_list = []\n",
    "for index, row in df_r.iterrows():\n",
    "    job = row['url']\n",
    "    if job not in job_list:\n",
    "        job_list.append(job)\n",
    "print(len(job_list))\n",
    "for job in job_list:\n",
    "    df_r_job = df_r[df_r.url == job]\n",
    "        \n",
    "    cluster_list = []\n",
    "    cluster_vec = []\n",
    "\n",
    "    for i, row_r in df_r_job.iterrows():\n",
    "        cluster = row_r['cluster_k31_full']\n",
    "        if cluster not in cluster_list:\n",
    "            cluster_list.append(cluster)\n",
    "            \n",
    "    cluster_vec.append(job)\n",
    "    for i in range(0,31):\n",
    "        if(i in cluster_list):\n",
    "            cluster_vec.append(1)\n",
    "        else:\n",
    "            cluster_vec.append(0)\n",
    "    list_of_vec.append(cluster_vec)\n",
    "\n",
    "cols = []\n",
    "cols.append('job_link')\n",
    "for i in range(0,31):\n",
    "    cols.append(str(i))\n",
    "df_clusters = pd.DataFrame(list_of_vec, columns = cols)"
   ]
  },
  {
   "cell_type": "code",
   "execution_count": 4,
   "metadata": {},
   "outputs": [
    {
     "data": {
      "text/html": [
       "<div>\n",
       "<style scoped>\n",
       "    .dataframe tbody tr th:only-of-type {\n",
       "        vertical-align: middle;\n",
       "    }\n",
       "\n",
       "    .dataframe tbody tr th {\n",
       "        vertical-align: top;\n",
       "    }\n",
       "\n",
       "    .dataframe thead th {\n",
       "        text-align: right;\n",
       "    }\n",
       "</style>\n",
       "<table border=\"1\" class=\"dataframe\">\n",
       "  <thead>\n",
       "    <tr style=\"text-align: right;\">\n",
       "      <th></th>\n",
       "      <th>job_link</th>\n",
       "      <th>0</th>\n",
       "      <th>1</th>\n",
       "      <th>2</th>\n",
       "      <th>3</th>\n",
       "      <th>4</th>\n",
       "      <th>5</th>\n",
       "      <th>6</th>\n",
       "      <th>7</th>\n",
       "      <th>8</th>\n",
       "      <th>...</th>\n",
       "      <th>21</th>\n",
       "      <th>22</th>\n",
       "      <th>23</th>\n",
       "      <th>24</th>\n",
       "      <th>25</th>\n",
       "      <th>26</th>\n",
       "      <th>27</th>\n",
       "      <th>28</th>\n",
       "      <th>29</th>\n",
       "      <th>30</th>\n",
       "    </tr>\n",
       "  </thead>\n",
       "  <tbody>\n",
       "    <tr>\n",
       "      <th>0</th>\n",
       "      <td>https://se.indeed.com/viewjob?jk=b0669075c820856d</td>\n",
       "      <td>0</td>\n",
       "      <td>0</td>\n",
       "      <td>0</td>\n",
       "      <td>0</td>\n",
       "      <td>0</td>\n",
       "      <td>0</td>\n",
       "      <td>1</td>\n",
       "      <td>0</td>\n",
       "      <td>0</td>\n",
       "      <td>...</td>\n",
       "      <td>1</td>\n",
       "      <td>1</td>\n",
       "      <td>0</td>\n",
       "      <td>1</td>\n",
       "      <td>1</td>\n",
       "      <td>0</td>\n",
       "      <td>0</td>\n",
       "      <td>0</td>\n",
       "      <td>0</td>\n",
       "      <td>0</td>\n",
       "    </tr>\n",
       "    <tr>\n",
       "      <th>1</th>\n",
       "      <td>https://se.indeed.com/viewjob?jk=dbfe7d7c087065d7</td>\n",
       "      <td>0</td>\n",
       "      <td>0</td>\n",
       "      <td>0</td>\n",
       "      <td>0</td>\n",
       "      <td>0</td>\n",
       "      <td>0</td>\n",
       "      <td>0</td>\n",
       "      <td>0</td>\n",
       "      <td>1</td>\n",
       "      <td>...</td>\n",
       "      <td>1</td>\n",
       "      <td>0</td>\n",
       "      <td>1</td>\n",
       "      <td>0</td>\n",
       "      <td>0</td>\n",
       "      <td>1</td>\n",
       "      <td>0</td>\n",
       "      <td>0</td>\n",
       "      <td>0</td>\n",
       "      <td>0</td>\n",
       "    </tr>\n",
       "    <tr>\n",
       "      <th>2</th>\n",
       "      <td>https://se.indeed.com/viewjob?jk=841a8fdd1bb00f2f</td>\n",
       "      <td>0</td>\n",
       "      <td>1</td>\n",
       "      <td>1</td>\n",
       "      <td>0</td>\n",
       "      <td>1</td>\n",
       "      <td>0</td>\n",
       "      <td>1</td>\n",
       "      <td>0</td>\n",
       "      <td>0</td>\n",
       "      <td>...</td>\n",
       "      <td>0</td>\n",
       "      <td>0</td>\n",
       "      <td>1</td>\n",
       "      <td>0</td>\n",
       "      <td>0</td>\n",
       "      <td>0</td>\n",
       "      <td>1</td>\n",
       "      <td>0</td>\n",
       "      <td>1</td>\n",
       "      <td>0</td>\n",
       "    </tr>\n",
       "    <tr>\n",
       "      <th>3</th>\n",
       "      <td>https://se.indeed.com/viewjob?jk=88c25a48d2da8a7a</td>\n",
       "      <td>1</td>\n",
       "      <td>0</td>\n",
       "      <td>1</td>\n",
       "      <td>0</td>\n",
       "      <td>0</td>\n",
       "      <td>0</td>\n",
       "      <td>1</td>\n",
       "      <td>0</td>\n",
       "      <td>0</td>\n",
       "      <td>...</td>\n",
       "      <td>0</td>\n",
       "      <td>1</td>\n",
       "      <td>0</td>\n",
       "      <td>0</td>\n",
       "      <td>0</td>\n",
       "      <td>1</td>\n",
       "      <td>0</td>\n",
       "      <td>0</td>\n",
       "      <td>0</td>\n",
       "      <td>1</td>\n",
       "    </tr>\n",
       "    <tr>\n",
       "      <th>4</th>\n",
       "      <td>https://se.indeed.com/viewjob?jk=1b4b8ee005f06350</td>\n",
       "      <td>1</td>\n",
       "      <td>0</td>\n",
       "      <td>0</td>\n",
       "      <td>0</td>\n",
       "      <td>1</td>\n",
       "      <td>0</td>\n",
       "      <td>0</td>\n",
       "      <td>0</td>\n",
       "      <td>0</td>\n",
       "      <td>...</td>\n",
       "      <td>1</td>\n",
       "      <td>0</td>\n",
       "      <td>0</td>\n",
       "      <td>0</td>\n",
       "      <td>1</td>\n",
       "      <td>1</td>\n",
       "      <td>1</td>\n",
       "      <td>0</td>\n",
       "      <td>0</td>\n",
       "      <td>1</td>\n",
       "    </tr>\n",
       "    <tr>\n",
       "      <th>...</th>\n",
       "      <td>...</td>\n",
       "      <td>...</td>\n",
       "      <td>...</td>\n",
       "      <td>...</td>\n",
       "      <td>...</td>\n",
       "      <td>...</td>\n",
       "      <td>...</td>\n",
       "      <td>...</td>\n",
       "      <td>...</td>\n",
       "      <td>...</td>\n",
       "      <td>...</td>\n",
       "      <td>...</td>\n",
       "      <td>...</td>\n",
       "      <td>...</td>\n",
       "      <td>...</td>\n",
       "      <td>...</td>\n",
       "      <td>...</td>\n",
       "      <td>...</td>\n",
       "      <td>...</td>\n",
       "      <td>...</td>\n",
       "      <td>...</td>\n",
       "    </tr>\n",
       "    <tr>\n",
       "      <th>1081</th>\n",
       "      <td>https://www.indeed.com/viewjob?jk=e6fee8e1f133...</td>\n",
       "      <td>0</td>\n",
       "      <td>0</td>\n",
       "      <td>0</td>\n",
       "      <td>0</td>\n",
       "      <td>0</td>\n",
       "      <td>0</td>\n",
       "      <td>0</td>\n",
       "      <td>1</td>\n",
       "      <td>1</td>\n",
       "      <td>...</td>\n",
       "      <td>0</td>\n",
       "      <td>0</td>\n",
       "      <td>1</td>\n",
       "      <td>0</td>\n",
       "      <td>1</td>\n",
       "      <td>0</td>\n",
       "      <td>0</td>\n",
       "      <td>0</td>\n",
       "      <td>1</td>\n",
       "      <td>1</td>\n",
       "    </tr>\n",
       "    <tr>\n",
       "      <th>1082</th>\n",
       "      <td>https://www.indeed.com/pagead/clk?mo=r&amp;ad=-6NY...</td>\n",
       "      <td>0</td>\n",
       "      <td>0</td>\n",
       "      <td>0</td>\n",
       "      <td>0</td>\n",
       "      <td>0</td>\n",
       "      <td>0</td>\n",
       "      <td>0</td>\n",
       "      <td>1</td>\n",
       "      <td>1</td>\n",
       "      <td>...</td>\n",
       "      <td>1</td>\n",
       "      <td>1</td>\n",
       "      <td>0</td>\n",
       "      <td>1</td>\n",
       "      <td>1</td>\n",
       "      <td>1</td>\n",
       "      <td>0</td>\n",
       "      <td>0</td>\n",
       "      <td>0</td>\n",
       "      <td>1</td>\n",
       "    </tr>\n",
       "    <tr>\n",
       "      <th>1083</th>\n",
       "      <td>https://www.indeed.com/pagead/clk?mo=r&amp;ad=-6NY...</td>\n",
       "      <td>0</td>\n",
       "      <td>1</td>\n",
       "      <td>0</td>\n",
       "      <td>0</td>\n",
       "      <td>0</td>\n",
       "      <td>0</td>\n",
       "      <td>0</td>\n",
       "      <td>0</td>\n",
       "      <td>0</td>\n",
       "      <td>...</td>\n",
       "      <td>0</td>\n",
       "      <td>1</td>\n",
       "      <td>0</td>\n",
       "      <td>0</td>\n",
       "      <td>0</td>\n",
       "      <td>0</td>\n",
       "      <td>1</td>\n",
       "      <td>0</td>\n",
       "      <td>0</td>\n",
       "      <td>1</td>\n",
       "    </tr>\n",
       "    <tr>\n",
       "      <th>1084</th>\n",
       "      <td>https://www.indeed.com/pagead/clk?mo=r&amp;ad=-6NY...</td>\n",
       "      <td>0</td>\n",
       "      <td>0</td>\n",
       "      <td>0</td>\n",
       "      <td>0</td>\n",
       "      <td>0</td>\n",
       "      <td>0</td>\n",
       "      <td>1</td>\n",
       "      <td>0</td>\n",
       "      <td>1</td>\n",
       "      <td>...</td>\n",
       "      <td>0</td>\n",
       "      <td>0</td>\n",
       "      <td>1</td>\n",
       "      <td>1</td>\n",
       "      <td>0</td>\n",
       "      <td>0</td>\n",
       "      <td>0</td>\n",
       "      <td>0</td>\n",
       "      <td>0</td>\n",
       "      <td>1</td>\n",
       "    </tr>\n",
       "    <tr>\n",
       "      <th>1085</th>\n",
       "      <td>https://www.indeed.com/viewjob?jk=d4ffa48f3548...</td>\n",
       "      <td>0</td>\n",
       "      <td>0</td>\n",
       "      <td>0</td>\n",
       "      <td>1</td>\n",
       "      <td>0</td>\n",
       "      <td>0</td>\n",
       "      <td>0</td>\n",
       "      <td>0</td>\n",
       "      <td>0</td>\n",
       "      <td>...</td>\n",
       "      <td>1</td>\n",
       "      <td>0</td>\n",
       "      <td>0</td>\n",
       "      <td>0</td>\n",
       "      <td>0</td>\n",
       "      <td>0</td>\n",
       "      <td>0</td>\n",
       "      <td>0</td>\n",
       "      <td>0</td>\n",
       "      <td>1</td>\n",
       "    </tr>\n",
       "  </tbody>\n",
       "</table>\n",
       "<p>1086 rows × 32 columns</p>\n",
       "</div>"
      ],
      "text/plain": [
       "                                               job_link  0  1  2  3  4  5  6  \\\n",
       "0     https://se.indeed.com/viewjob?jk=b0669075c820856d  0  0  0  0  0  0  1   \n",
       "1     https://se.indeed.com/viewjob?jk=dbfe7d7c087065d7  0  0  0  0  0  0  0   \n",
       "2     https://se.indeed.com/viewjob?jk=841a8fdd1bb00f2f  0  1  1  0  1  0  1   \n",
       "3     https://se.indeed.com/viewjob?jk=88c25a48d2da8a7a  1  0  1  0  0  0  1   \n",
       "4     https://se.indeed.com/viewjob?jk=1b4b8ee005f06350  1  0  0  0  1  0  0   \n",
       "...                                                 ... .. .. .. .. .. .. ..   \n",
       "1081  https://www.indeed.com/viewjob?jk=e6fee8e1f133...  0  0  0  0  0  0  0   \n",
       "1082  https://www.indeed.com/pagead/clk?mo=r&ad=-6NY...  0  0  0  0  0  0  0   \n",
       "1083  https://www.indeed.com/pagead/clk?mo=r&ad=-6NY...  0  1  0  0  0  0  0   \n",
       "1084  https://www.indeed.com/pagead/clk?mo=r&ad=-6NY...  0  0  0  0  0  0  1   \n",
       "1085  https://www.indeed.com/viewjob?jk=d4ffa48f3548...  0  0  0  1  0  0  0   \n",
       "\n",
       "      7  8  ...  21  22  23  24  25  26  27  28  29  30  \n",
       "0     0  0  ...   1   1   0   1   1   0   0   0   0   0  \n",
       "1     0  1  ...   1   0   1   0   0   1   0   0   0   0  \n",
       "2     0  0  ...   0   0   1   0   0   0   1   0   1   0  \n",
       "3     0  0  ...   0   1   0   0   0   1   0   0   0   1  \n",
       "4     0  0  ...   1   0   0   0   1   1   1   0   0   1  \n",
       "...  .. ..  ...  ..  ..  ..  ..  ..  ..  ..  ..  ..  ..  \n",
       "1081  1  1  ...   0   0   1   0   1   0   0   0   1   1  \n",
       "1082  1  1  ...   1   1   0   1   1   1   0   0   0   1  \n",
       "1083  0  0  ...   0   1   0   0   0   0   1   0   0   1  \n",
       "1084  0  1  ...   0   0   1   1   0   0   0   0   0   1  \n",
       "1085  0  0  ...   1   0   0   0   0   0   0   0   0   1  \n",
       "\n",
       "[1086 rows x 32 columns]"
      ]
     },
     "execution_count": 4,
     "metadata": {},
     "output_type": "execute_result"
    }
   ],
   "source": [
    "df_clusters"
   ]
  },
  {
   "cell_type": "code",
   "execution_count": 5,
   "metadata": {},
   "outputs": [],
   "source": [
    "from collections import Counter\n",
    "def get_bigrams(requirement_list):\n",
    "    list = []\n",
    "    for requirement in requirement_list:\n",
    "        for word in requirement.split():\n",
    "            word = word.lower()\n",
    "            if (len(word) >1) & (word not in stop_words):\n",
    "                list.append(word)\n",
    "    \n",
    "    bigrams = zip(list,list[1:])\n",
    "    #print(list)\n",
    "    bigrams_count = Counter(bigrams)\n",
    "    return(bigrams_count)"
   ]
  },
  {
   "cell_type": "code",
   "execution_count": 6,
   "metadata": {},
   "outputs": [
    {
     "data": {
      "text/plain": [
       "'Cluster 1: knowledge sql, relational databases, sql queries'"
      ]
     },
     "execution_count": 6,
     "metadata": {},
     "output_type": "execute_result"
    }
   ],
   "source": [
    "def get_label(cluster):#model needs to be incorperated if plotting different models\n",
    "    df_r_cluster = df_r[df_r.cluster_k31_full == cluster]\n",
    "    cluster_requirement_list = []\n",
    "    for i, row in df_r_cluster.iterrows():\n",
    "        cluster_requirement_list.append(row['requirement'])\n",
    "    tuple = get_bigrams(cluster_requirement_list).most_common(3)\n",
    "    label = \"\"\n",
    "    for bigram in range(3):   \n",
    "        for word in tuple[bigram][0]:\n",
    "            label+=word+\" \"\n",
    "        label=label[:-1]\n",
    "        label+=\", \"\n",
    "    label = label[:-2]\n",
    "    label = label.replace(\",,\",\",\")\n",
    "    label = \"Cluster \"+str(cluster)+\": \"+label\n",
    "    return(label)\n",
    "get_label(1)"
   ]
  },
  {
   "cell_type": "code",
   "execution_count": 168,
   "metadata": {},
   "outputs": [
    {
     "data": {
      "application/vnd.plotly.v1+json": {
       "config": {
        "plotlyServerURL": "https://plot.ly"
       },
       "data": [
        {
         "orientation": "h",
         "type": "bar",
         "x": [
          0.14917127071823205,
          0.1703499079189687,
          0.1887661141804788,
          0.23296500920810312,
          0.23756906077348067,
          0.23756906077348067,
          0.2440147329650092,
          0.27440147329650094,
          0.27716390423572745,
          0.2918968692449355,
          0.3029465930018416,
          0.31123388581952116,
          0.3241252302025783,
          0.3370165745856354,
          0.3453038674033149,
          0.358195211786372,
          0.36095764272559855,
          0.3876611418047882,
          0.38950276243093923,
          0.39134438305709024,
          0.40239410681399634,
          0.4143646408839779,
          0.42173112338858193,
          0.4281767955801105,
          0.429097605893186,
          0.43370165745856354,
          0.43646408839779005,
          0.4429097605893186,
          0.4604051565377532,
          0.5359116022099447,
          0.5377532228360957
         ],
         "y": [
          "Cluster 24: deep learning, machine learning, experience deep",
          "Cluster 20: experience working, single cell, next-generation sequencing",
          "Cluster 3: years experience, related field, years relevant",
          "Cluster 27: experience cloud, google cloud, cloud computing",
          "Cluster 1: knowledge sql, relational databases, sql queries",
          "Cluster 5: track record, research projects, scientific technical",
          "Cluster 14: data visualization, visualization tools, experience data",
          "Cluster 19: predictive models, machine learning, model performance",
          "Cluster 2: ability work, work independently, fast-paced environment",
          "Cluster 8: big data, experience working, experience big",
          "Cluster 17: problem-solving skills, problem solving, strong analytical",
          "Cluster 4: learn new, new technologies, eager learn",
          "Cluster 29: data quality, data management, data pipelines",
          "Cluster 21: helping others, people around, lasting mark",
          "Cluster 6: machine learning, learning models, learning algorithms",
          "Cluster 23: data analysis, results clear, track record",
          "Cluster 0: team player, ability work, team members",
          "Cluster 11: data sets, data analysis, data sources",
          "Cluster 15: years experience, experience data, data science",
          "Cluster 26: working environment, work environment, professional development",
          "Cluster 28: fluent english, communication skills, english fluent",
          "Cluster 7: communication skills, excellent communication, skills excellent",
          "Cluster 9: attention detail, natural language, social media",
          "Cluster 13: data science, data scientists, data scientist",
          "Cluster 16: business stakeholders, work closely, internal external",
          "Cluster 25: business problems, translate business, understand business",
          "Cluster 12: machine learning, learning techniques, machine learning,",
          "Cluster 22: version control, software engineering, best practices",
          "Cluster 10: experience working, software development, project management",
          "Cluster 30: computer science, computer science, master’s degree",
          "Cluster 18: programming skills, programming languages, data science"
         ]
        }
       ],
       "layout": {
        "barmode": "stack",
        "height": 800,
        "template": {
         "data": {
          "bar": [
           {
            "error_x": {
             "color": "#2a3f5f"
            },
            "error_y": {
             "color": "#2a3f5f"
            },
            "marker": {
             "line": {
              "color": "#E5ECF6",
              "width": 0.5
             }
            },
            "type": "bar"
           }
          ],
          "barpolar": [
           {
            "marker": {
             "line": {
              "color": "#E5ECF6",
              "width": 0.5
             }
            },
            "type": "barpolar"
           }
          ],
          "carpet": [
           {
            "aaxis": {
             "endlinecolor": "#2a3f5f",
             "gridcolor": "white",
             "linecolor": "white",
             "minorgridcolor": "white",
             "startlinecolor": "#2a3f5f"
            },
            "baxis": {
             "endlinecolor": "#2a3f5f",
             "gridcolor": "white",
             "linecolor": "white",
             "minorgridcolor": "white",
             "startlinecolor": "#2a3f5f"
            },
            "type": "carpet"
           }
          ],
          "choropleth": [
           {
            "colorbar": {
             "outlinewidth": 0,
             "ticks": ""
            },
            "type": "choropleth"
           }
          ],
          "contour": [
           {
            "colorbar": {
             "outlinewidth": 0,
             "ticks": ""
            },
            "colorscale": [
             [
              0,
              "#0d0887"
             ],
             [
              0.1111111111111111,
              "#46039f"
             ],
             [
              0.2222222222222222,
              "#7201a8"
             ],
             [
              0.3333333333333333,
              "#9c179e"
             ],
             [
              0.4444444444444444,
              "#bd3786"
             ],
             [
              0.5555555555555556,
              "#d8576b"
             ],
             [
              0.6666666666666666,
              "#ed7953"
             ],
             [
              0.7777777777777778,
              "#fb9f3a"
             ],
             [
              0.8888888888888888,
              "#fdca26"
             ],
             [
              1,
              "#f0f921"
             ]
            ],
            "type": "contour"
           }
          ],
          "contourcarpet": [
           {
            "colorbar": {
             "outlinewidth": 0,
             "ticks": ""
            },
            "type": "contourcarpet"
           }
          ],
          "heatmap": [
           {
            "colorbar": {
             "outlinewidth": 0,
             "ticks": ""
            },
            "colorscale": [
             [
              0,
              "#0d0887"
             ],
             [
              0.1111111111111111,
              "#46039f"
             ],
             [
              0.2222222222222222,
              "#7201a8"
             ],
             [
              0.3333333333333333,
              "#9c179e"
             ],
             [
              0.4444444444444444,
              "#bd3786"
             ],
             [
              0.5555555555555556,
              "#d8576b"
             ],
             [
              0.6666666666666666,
              "#ed7953"
             ],
             [
              0.7777777777777778,
              "#fb9f3a"
             ],
             [
              0.8888888888888888,
              "#fdca26"
             ],
             [
              1,
              "#f0f921"
             ]
            ],
            "type": "heatmap"
           }
          ],
          "heatmapgl": [
           {
            "colorbar": {
             "outlinewidth": 0,
             "ticks": ""
            },
            "colorscale": [
             [
              0,
              "#0d0887"
             ],
             [
              0.1111111111111111,
              "#46039f"
             ],
             [
              0.2222222222222222,
              "#7201a8"
             ],
             [
              0.3333333333333333,
              "#9c179e"
             ],
             [
              0.4444444444444444,
              "#bd3786"
             ],
             [
              0.5555555555555556,
              "#d8576b"
             ],
             [
              0.6666666666666666,
              "#ed7953"
             ],
             [
              0.7777777777777778,
              "#fb9f3a"
             ],
             [
              0.8888888888888888,
              "#fdca26"
             ],
             [
              1,
              "#f0f921"
             ]
            ],
            "type": "heatmapgl"
           }
          ],
          "histogram": [
           {
            "marker": {
             "colorbar": {
              "outlinewidth": 0,
              "ticks": ""
             }
            },
            "type": "histogram"
           }
          ],
          "histogram2d": [
           {
            "colorbar": {
             "outlinewidth": 0,
             "ticks": ""
            },
            "colorscale": [
             [
              0,
              "#0d0887"
             ],
             [
              0.1111111111111111,
              "#46039f"
             ],
             [
              0.2222222222222222,
              "#7201a8"
             ],
             [
              0.3333333333333333,
              "#9c179e"
             ],
             [
              0.4444444444444444,
              "#bd3786"
             ],
             [
              0.5555555555555556,
              "#d8576b"
             ],
             [
              0.6666666666666666,
              "#ed7953"
             ],
             [
              0.7777777777777778,
              "#fb9f3a"
             ],
             [
              0.8888888888888888,
              "#fdca26"
             ],
             [
              1,
              "#f0f921"
             ]
            ],
            "type": "histogram2d"
           }
          ],
          "histogram2dcontour": [
           {
            "colorbar": {
             "outlinewidth": 0,
             "ticks": ""
            },
            "colorscale": [
             [
              0,
              "#0d0887"
             ],
             [
              0.1111111111111111,
              "#46039f"
             ],
             [
              0.2222222222222222,
              "#7201a8"
             ],
             [
              0.3333333333333333,
              "#9c179e"
             ],
             [
              0.4444444444444444,
              "#bd3786"
             ],
             [
              0.5555555555555556,
              "#d8576b"
             ],
             [
              0.6666666666666666,
              "#ed7953"
             ],
             [
              0.7777777777777778,
              "#fb9f3a"
             ],
             [
              0.8888888888888888,
              "#fdca26"
             ],
             [
              1,
              "#f0f921"
             ]
            ],
            "type": "histogram2dcontour"
           }
          ],
          "mesh3d": [
           {
            "colorbar": {
             "outlinewidth": 0,
             "ticks": ""
            },
            "type": "mesh3d"
           }
          ],
          "parcoords": [
           {
            "line": {
             "colorbar": {
              "outlinewidth": 0,
              "ticks": ""
             }
            },
            "type": "parcoords"
           }
          ],
          "pie": [
           {
            "automargin": true,
            "type": "pie"
           }
          ],
          "scatter": [
           {
            "marker": {
             "colorbar": {
              "outlinewidth": 0,
              "ticks": ""
             }
            },
            "type": "scatter"
           }
          ],
          "scatter3d": [
           {
            "line": {
             "colorbar": {
              "outlinewidth": 0,
              "ticks": ""
             }
            },
            "marker": {
             "colorbar": {
              "outlinewidth": 0,
              "ticks": ""
             }
            },
            "type": "scatter3d"
           }
          ],
          "scattercarpet": [
           {
            "marker": {
             "colorbar": {
              "outlinewidth": 0,
              "ticks": ""
             }
            },
            "type": "scattercarpet"
           }
          ],
          "scattergeo": [
           {
            "marker": {
             "colorbar": {
              "outlinewidth": 0,
              "ticks": ""
             }
            },
            "type": "scattergeo"
           }
          ],
          "scattergl": [
           {
            "marker": {
             "colorbar": {
              "outlinewidth": 0,
              "ticks": ""
             }
            },
            "type": "scattergl"
           }
          ],
          "scattermapbox": [
           {
            "marker": {
             "colorbar": {
              "outlinewidth": 0,
              "ticks": ""
             }
            },
            "type": "scattermapbox"
           }
          ],
          "scatterpolar": [
           {
            "marker": {
             "colorbar": {
              "outlinewidth": 0,
              "ticks": ""
             }
            },
            "type": "scatterpolar"
           }
          ],
          "scatterpolargl": [
           {
            "marker": {
             "colorbar": {
              "outlinewidth": 0,
              "ticks": ""
             }
            },
            "type": "scatterpolargl"
           }
          ],
          "scatterternary": [
           {
            "marker": {
             "colorbar": {
              "outlinewidth": 0,
              "ticks": ""
             }
            },
            "type": "scatterternary"
           }
          ],
          "surface": [
           {
            "colorbar": {
             "outlinewidth": 0,
             "ticks": ""
            },
            "colorscale": [
             [
              0,
              "#0d0887"
             ],
             [
              0.1111111111111111,
              "#46039f"
             ],
             [
              0.2222222222222222,
              "#7201a8"
             ],
             [
              0.3333333333333333,
              "#9c179e"
             ],
             [
              0.4444444444444444,
              "#bd3786"
             ],
             [
              0.5555555555555556,
              "#d8576b"
             ],
             [
              0.6666666666666666,
              "#ed7953"
             ],
             [
              0.7777777777777778,
              "#fb9f3a"
             ],
             [
              0.8888888888888888,
              "#fdca26"
             ],
             [
              1,
              "#f0f921"
             ]
            ],
            "type": "surface"
           }
          ],
          "table": [
           {
            "cells": {
             "fill": {
              "color": "#EBF0F8"
             },
             "line": {
              "color": "white"
             }
            },
            "header": {
             "fill": {
              "color": "#C8D4E3"
             },
             "line": {
              "color": "white"
             }
            },
            "type": "table"
           }
          ]
         },
         "layout": {
          "annotationdefaults": {
           "arrowcolor": "#2a3f5f",
           "arrowhead": 0,
           "arrowwidth": 1
          },
          "autotypenumbers": "strict",
          "coloraxis": {
           "colorbar": {
            "outlinewidth": 0,
            "ticks": ""
           }
          },
          "colorscale": {
           "diverging": [
            [
             0,
             "#8e0152"
            ],
            [
             0.1,
             "#c51b7d"
            ],
            [
             0.2,
             "#de77ae"
            ],
            [
             0.3,
             "#f1b6da"
            ],
            [
             0.4,
             "#fde0ef"
            ],
            [
             0.5,
             "#f7f7f7"
            ],
            [
             0.6,
             "#e6f5d0"
            ],
            [
             0.7,
             "#b8e186"
            ],
            [
             0.8,
             "#7fbc41"
            ],
            [
             0.9,
             "#4d9221"
            ],
            [
             1,
             "#276419"
            ]
           ],
           "sequential": [
            [
             0,
             "#0d0887"
            ],
            [
             0.1111111111111111,
             "#46039f"
            ],
            [
             0.2222222222222222,
             "#7201a8"
            ],
            [
             0.3333333333333333,
             "#9c179e"
            ],
            [
             0.4444444444444444,
             "#bd3786"
            ],
            [
             0.5555555555555556,
             "#d8576b"
            ],
            [
             0.6666666666666666,
             "#ed7953"
            ],
            [
             0.7777777777777778,
             "#fb9f3a"
            ],
            [
             0.8888888888888888,
             "#fdca26"
            ],
            [
             1,
             "#f0f921"
            ]
           ],
           "sequentialminus": [
            [
             0,
             "#0d0887"
            ],
            [
             0.1111111111111111,
             "#46039f"
            ],
            [
             0.2222222222222222,
             "#7201a8"
            ],
            [
             0.3333333333333333,
             "#9c179e"
            ],
            [
             0.4444444444444444,
             "#bd3786"
            ],
            [
             0.5555555555555556,
             "#d8576b"
            ],
            [
             0.6666666666666666,
             "#ed7953"
            ],
            [
             0.7777777777777778,
             "#fb9f3a"
            ],
            [
             0.8888888888888888,
             "#fdca26"
            ],
            [
             1,
             "#f0f921"
            ]
           ]
          },
          "colorway": [
           "#636efa",
           "#EF553B",
           "#00cc96",
           "#ab63fa",
           "#FFA15A",
           "#19d3f3",
           "#FF6692",
           "#B6E880",
           "#FF97FF",
           "#FECB52"
          ],
          "font": {
           "color": "#2a3f5f"
          },
          "geo": {
           "bgcolor": "white",
           "lakecolor": "white",
           "landcolor": "#E5ECF6",
           "showlakes": true,
           "showland": true,
           "subunitcolor": "white"
          },
          "hoverlabel": {
           "align": "left"
          },
          "hovermode": "closest",
          "mapbox": {
           "style": "light"
          },
          "paper_bgcolor": "white",
          "plot_bgcolor": "#E5ECF6",
          "polar": {
           "angularaxis": {
            "gridcolor": "white",
            "linecolor": "white",
            "ticks": ""
           },
           "bgcolor": "#E5ECF6",
           "radialaxis": {
            "gridcolor": "white",
            "linecolor": "white",
            "ticks": ""
           }
          },
          "scene": {
           "xaxis": {
            "backgroundcolor": "#E5ECF6",
            "gridcolor": "white",
            "gridwidth": 2,
            "linecolor": "white",
            "showbackground": true,
            "ticks": "",
            "zerolinecolor": "white"
           },
           "yaxis": {
            "backgroundcolor": "#E5ECF6",
            "gridcolor": "white",
            "gridwidth": 2,
            "linecolor": "white",
            "showbackground": true,
            "ticks": "",
            "zerolinecolor": "white"
           },
           "zaxis": {
            "backgroundcolor": "#E5ECF6",
            "gridcolor": "white",
            "gridwidth": 2,
            "linecolor": "white",
            "showbackground": true,
            "ticks": "",
            "zerolinecolor": "white"
           }
          },
          "shapedefaults": {
           "line": {
            "color": "#2a3f5f"
           }
          },
          "ternary": {
           "aaxis": {
            "gridcolor": "white",
            "linecolor": "white",
            "ticks": ""
           },
           "baxis": {
            "gridcolor": "white",
            "linecolor": "white",
            "ticks": ""
           },
           "bgcolor": "#E5ECF6",
           "caxis": {
            "gridcolor": "white",
            "linecolor": "white",
            "ticks": ""
           }
          },
          "title": {
           "x": 0.05
          },
          "xaxis": {
           "automargin": true,
           "gridcolor": "white",
           "linecolor": "white",
           "ticks": "",
           "title": {
            "standoff": 15
           },
           "zerolinecolor": "white",
           "zerolinewidth": 2
          },
          "yaxis": {
           "automargin": true,
           "gridcolor": "white",
           "linecolor": "white",
           "ticks": "",
           "title": {
            "standoff": 15
           },
           "zerolinecolor": "white",
           "zerolinewidth": 2
          }
         }
        },
        "title": {
         "text": "3 most common bigrams of each cluster and relative cluster precense in job postings"
        },
        "xaxis": {
         "title": {
          "text": "Relative Cluster Presence in Job Postings"
         }
        },
        "yaxis": {
         "title": {
          "text": "3 most common Bigrams in Cluster"
         }
        }
       }
      },
      "text/html": [
       "<div>                            <div id=\"2577f2e6-84ff-4e8f-b51b-ba9088cebcab\" class=\"plotly-graph-div\" style=\"height:800px; width:100%;\"></div>            <script type=\"text/javascript\">                require([\"plotly\"], function(Plotly) {                    window.PLOTLYENV=window.PLOTLYENV || {};                                    if (document.getElementById(\"2577f2e6-84ff-4e8f-b51b-ba9088cebcab\")) {                    Plotly.newPlot(                        \"2577f2e6-84ff-4e8f-b51b-ba9088cebcab\",                        [{\"orientation\": \"h\", \"type\": \"bar\", \"x\": [0.14917127071823205, 0.1703499079189687, 0.1887661141804788, 0.23296500920810312, 0.23756906077348067, 0.23756906077348067, 0.2440147329650092, 0.27440147329650094, 0.27716390423572745, 0.2918968692449355, 0.3029465930018416, 0.31123388581952116, 0.3241252302025783, 0.3370165745856354, 0.3453038674033149, 0.358195211786372, 0.36095764272559855, 0.3876611418047882, 0.38950276243093923, 0.39134438305709024, 0.40239410681399634, 0.4143646408839779, 0.42173112338858193, 0.4281767955801105, 0.429097605893186, 0.43370165745856354, 0.43646408839779005, 0.4429097605893186, 0.4604051565377532, 0.5359116022099447, 0.5377532228360957], \"y\": [\"Cluster 24: deep learning, machine learning, experience deep\", \"Cluster 20: experience working, single cell, next-generation sequencing\", \"Cluster 3: years experience, related field, years relevant\", \"Cluster 27: experience cloud, google cloud, cloud computing\", \"Cluster 1: knowledge sql, relational databases, sql queries\", \"Cluster 5: track record, research projects, scientific technical\", \"Cluster 14: data visualization, visualization tools, experience data\", \"Cluster 19: predictive models, machine learning, model performance\", \"Cluster 2: ability work, work independently, fast-paced environment\", \"Cluster 8: big data, experience working, experience big\", \"Cluster 17: problem-solving skills, problem solving, strong analytical\", \"Cluster 4: learn new, new technologies, eager learn\", \"Cluster 29: data quality, data management, data pipelines\", \"Cluster 21: helping others, people around, lasting mark\", \"Cluster 6: machine learning, learning models, learning algorithms\", \"Cluster 23: data analysis, results clear, track record\", \"Cluster 0: team player, ability work, team members\", \"Cluster 11: data sets, data analysis, data sources\", \"Cluster 15: years experience, experience data, data science\", \"Cluster 26: working environment, work environment, professional development\", \"Cluster 28: fluent english, communication skills, english fluent\", \"Cluster 7: communication skills, excellent communication, skills excellent\", \"Cluster 9: attention detail, natural language, social media\", \"Cluster 13: data science, data scientists, data scientist\", \"Cluster 16: business stakeholders, work closely, internal external\", \"Cluster 25: business problems, translate business, understand business\", \"Cluster 12: machine learning, learning techniques, machine learning,\", \"Cluster 22: version control, software engineering, best practices\", \"Cluster 10: experience working, software development, project management\", \"Cluster 30: computer science, computer science, master\\u2019s degree\", \"Cluster 18: programming skills, programming languages, data science\"]}],                        {\"barmode\": \"stack\", \"height\": 800, \"template\": {\"data\": {\"bar\": [{\"error_x\": {\"color\": \"#2a3f5f\"}, \"error_y\": {\"color\": \"#2a3f5f\"}, \"marker\": {\"line\": {\"color\": \"#E5ECF6\", \"width\": 0.5}}, \"type\": \"bar\"}], \"barpolar\": [{\"marker\": {\"line\": {\"color\": \"#E5ECF6\", \"width\": 0.5}}, \"type\": \"barpolar\"}], \"carpet\": [{\"aaxis\": {\"endlinecolor\": \"#2a3f5f\", \"gridcolor\": \"white\", \"linecolor\": \"white\", \"minorgridcolor\": \"white\", \"startlinecolor\": \"#2a3f5f\"}, \"baxis\": {\"endlinecolor\": \"#2a3f5f\", \"gridcolor\": \"white\", \"linecolor\": \"white\", \"minorgridcolor\": \"white\", \"startlinecolor\": \"#2a3f5f\"}, \"type\": \"carpet\"}], \"choropleth\": [{\"colorbar\": {\"outlinewidth\": 0, \"ticks\": \"\"}, \"type\": \"choropleth\"}], \"contour\": [{\"colorbar\": {\"outlinewidth\": 0, \"ticks\": \"\"}, \"colorscale\": [[0.0, \"#0d0887\"], [0.1111111111111111, \"#46039f\"], [0.2222222222222222, \"#7201a8\"], [0.3333333333333333, \"#9c179e\"], [0.4444444444444444, \"#bd3786\"], [0.5555555555555556, \"#d8576b\"], [0.6666666666666666, \"#ed7953\"], [0.7777777777777778, \"#fb9f3a\"], [0.8888888888888888, \"#fdca26\"], [1.0, \"#f0f921\"]], \"type\": \"contour\"}], \"contourcarpet\": [{\"colorbar\": {\"outlinewidth\": 0, \"ticks\": \"\"}, \"type\": \"contourcarpet\"}], \"heatmap\": [{\"colorbar\": {\"outlinewidth\": 0, \"ticks\": \"\"}, \"colorscale\": [[0.0, \"#0d0887\"], [0.1111111111111111, \"#46039f\"], [0.2222222222222222, \"#7201a8\"], [0.3333333333333333, \"#9c179e\"], [0.4444444444444444, \"#bd3786\"], [0.5555555555555556, \"#d8576b\"], [0.6666666666666666, \"#ed7953\"], [0.7777777777777778, \"#fb9f3a\"], [0.8888888888888888, \"#fdca26\"], [1.0, \"#f0f921\"]], \"type\": \"heatmap\"}], \"heatmapgl\": [{\"colorbar\": {\"outlinewidth\": 0, \"ticks\": \"\"}, \"colorscale\": [[0.0, \"#0d0887\"], [0.1111111111111111, \"#46039f\"], [0.2222222222222222, \"#7201a8\"], [0.3333333333333333, \"#9c179e\"], [0.4444444444444444, \"#bd3786\"], [0.5555555555555556, \"#d8576b\"], [0.6666666666666666, \"#ed7953\"], [0.7777777777777778, \"#fb9f3a\"], [0.8888888888888888, \"#fdca26\"], [1.0, \"#f0f921\"]], \"type\": \"heatmapgl\"}], \"histogram\": [{\"marker\": {\"colorbar\": {\"outlinewidth\": 0, \"ticks\": \"\"}}, \"type\": \"histogram\"}], \"histogram2d\": [{\"colorbar\": {\"outlinewidth\": 0, \"ticks\": \"\"}, \"colorscale\": [[0.0, \"#0d0887\"], [0.1111111111111111, \"#46039f\"], [0.2222222222222222, \"#7201a8\"], [0.3333333333333333, \"#9c179e\"], [0.4444444444444444, \"#bd3786\"], [0.5555555555555556, \"#d8576b\"], [0.6666666666666666, \"#ed7953\"], [0.7777777777777778, \"#fb9f3a\"], [0.8888888888888888, \"#fdca26\"], [1.0, \"#f0f921\"]], \"type\": \"histogram2d\"}], \"histogram2dcontour\": [{\"colorbar\": {\"outlinewidth\": 0, \"ticks\": \"\"}, \"colorscale\": [[0.0, \"#0d0887\"], [0.1111111111111111, \"#46039f\"], [0.2222222222222222, \"#7201a8\"], [0.3333333333333333, \"#9c179e\"], [0.4444444444444444, \"#bd3786\"], [0.5555555555555556, \"#d8576b\"], [0.6666666666666666, \"#ed7953\"], [0.7777777777777778, \"#fb9f3a\"], [0.8888888888888888, \"#fdca26\"], [1.0, \"#f0f921\"]], \"type\": \"histogram2dcontour\"}], \"mesh3d\": [{\"colorbar\": {\"outlinewidth\": 0, \"ticks\": \"\"}, \"type\": \"mesh3d\"}], \"parcoords\": [{\"line\": {\"colorbar\": {\"outlinewidth\": 0, \"ticks\": \"\"}}, \"type\": \"parcoords\"}], \"pie\": [{\"automargin\": true, \"type\": \"pie\"}], \"scatter\": [{\"marker\": {\"colorbar\": {\"outlinewidth\": 0, \"ticks\": \"\"}}, \"type\": \"scatter\"}], \"scatter3d\": [{\"line\": {\"colorbar\": {\"outlinewidth\": 0, \"ticks\": \"\"}}, \"marker\": {\"colorbar\": {\"outlinewidth\": 0, \"ticks\": \"\"}}, \"type\": \"scatter3d\"}], \"scattercarpet\": [{\"marker\": {\"colorbar\": {\"outlinewidth\": 0, \"ticks\": \"\"}}, \"type\": \"scattercarpet\"}], \"scattergeo\": [{\"marker\": {\"colorbar\": {\"outlinewidth\": 0, \"ticks\": \"\"}}, \"type\": \"scattergeo\"}], \"scattergl\": [{\"marker\": {\"colorbar\": {\"outlinewidth\": 0, \"ticks\": \"\"}}, \"type\": \"scattergl\"}], \"scattermapbox\": [{\"marker\": {\"colorbar\": {\"outlinewidth\": 0, \"ticks\": \"\"}}, \"type\": \"scattermapbox\"}], \"scatterpolar\": [{\"marker\": {\"colorbar\": {\"outlinewidth\": 0, \"ticks\": \"\"}}, \"type\": \"scatterpolar\"}], \"scatterpolargl\": [{\"marker\": {\"colorbar\": {\"outlinewidth\": 0, \"ticks\": \"\"}}, \"type\": \"scatterpolargl\"}], \"scatterternary\": [{\"marker\": {\"colorbar\": {\"outlinewidth\": 0, \"ticks\": \"\"}}, \"type\": \"scatterternary\"}], \"surface\": [{\"colorbar\": {\"outlinewidth\": 0, \"ticks\": \"\"}, \"colorscale\": [[0.0, \"#0d0887\"], [0.1111111111111111, \"#46039f\"], [0.2222222222222222, \"#7201a8\"], [0.3333333333333333, \"#9c179e\"], [0.4444444444444444, \"#bd3786\"], [0.5555555555555556, \"#d8576b\"], [0.6666666666666666, \"#ed7953\"], [0.7777777777777778, \"#fb9f3a\"], [0.8888888888888888, \"#fdca26\"], [1.0, \"#f0f921\"]], \"type\": \"surface\"}], \"table\": [{\"cells\": {\"fill\": {\"color\": \"#EBF0F8\"}, \"line\": {\"color\": \"white\"}}, \"header\": {\"fill\": {\"color\": \"#C8D4E3\"}, \"line\": {\"color\": \"white\"}}, \"type\": \"table\"}]}, \"layout\": {\"annotationdefaults\": {\"arrowcolor\": \"#2a3f5f\", \"arrowhead\": 0, \"arrowwidth\": 1}, \"autotypenumbers\": \"strict\", \"coloraxis\": {\"colorbar\": {\"outlinewidth\": 0, \"ticks\": \"\"}}, \"colorscale\": {\"diverging\": [[0, \"#8e0152\"], [0.1, \"#c51b7d\"], [0.2, \"#de77ae\"], [0.3, \"#f1b6da\"], [0.4, \"#fde0ef\"], [0.5, \"#f7f7f7\"], [0.6, \"#e6f5d0\"], [0.7, \"#b8e186\"], [0.8, \"#7fbc41\"], [0.9, \"#4d9221\"], [1, \"#276419\"]], \"sequential\": [[0.0, \"#0d0887\"], [0.1111111111111111, \"#46039f\"], [0.2222222222222222, \"#7201a8\"], [0.3333333333333333, \"#9c179e\"], [0.4444444444444444, \"#bd3786\"], [0.5555555555555556, \"#d8576b\"], [0.6666666666666666, \"#ed7953\"], [0.7777777777777778, \"#fb9f3a\"], [0.8888888888888888, \"#fdca26\"], [1.0, \"#f0f921\"]], \"sequentialminus\": [[0.0, \"#0d0887\"], [0.1111111111111111, \"#46039f\"], [0.2222222222222222, \"#7201a8\"], [0.3333333333333333, \"#9c179e\"], [0.4444444444444444, \"#bd3786\"], [0.5555555555555556, \"#d8576b\"], [0.6666666666666666, \"#ed7953\"], [0.7777777777777778, \"#fb9f3a\"], [0.8888888888888888, \"#fdca26\"], [1.0, \"#f0f921\"]]}, \"colorway\": [\"#636efa\", \"#EF553B\", \"#00cc96\", \"#ab63fa\", \"#FFA15A\", \"#19d3f3\", \"#FF6692\", \"#B6E880\", \"#FF97FF\", \"#FECB52\"], \"font\": {\"color\": \"#2a3f5f\"}, \"geo\": {\"bgcolor\": \"white\", \"lakecolor\": \"white\", \"landcolor\": \"#E5ECF6\", \"showlakes\": true, \"showland\": true, \"subunitcolor\": \"white\"}, \"hoverlabel\": {\"align\": \"left\"}, \"hovermode\": \"closest\", \"mapbox\": {\"style\": \"light\"}, \"paper_bgcolor\": \"white\", \"plot_bgcolor\": \"#E5ECF6\", \"polar\": {\"angularaxis\": {\"gridcolor\": \"white\", \"linecolor\": \"white\", \"ticks\": \"\"}, \"bgcolor\": \"#E5ECF6\", \"radialaxis\": {\"gridcolor\": \"white\", \"linecolor\": \"white\", \"ticks\": \"\"}}, \"scene\": {\"xaxis\": {\"backgroundcolor\": \"#E5ECF6\", \"gridcolor\": \"white\", \"gridwidth\": 2, \"linecolor\": \"white\", \"showbackground\": true, \"ticks\": \"\", \"zerolinecolor\": \"white\"}, \"yaxis\": {\"backgroundcolor\": \"#E5ECF6\", \"gridcolor\": \"white\", \"gridwidth\": 2, \"linecolor\": \"white\", \"showbackground\": true, \"ticks\": \"\", \"zerolinecolor\": \"white\"}, \"zaxis\": {\"backgroundcolor\": \"#E5ECF6\", \"gridcolor\": \"white\", \"gridwidth\": 2, \"linecolor\": \"white\", \"showbackground\": true, \"ticks\": \"\", \"zerolinecolor\": \"white\"}}, \"shapedefaults\": {\"line\": {\"color\": \"#2a3f5f\"}}, \"ternary\": {\"aaxis\": {\"gridcolor\": \"white\", \"linecolor\": \"white\", \"ticks\": \"\"}, \"baxis\": {\"gridcolor\": \"white\", \"linecolor\": \"white\", \"ticks\": \"\"}, \"bgcolor\": \"#E5ECF6\", \"caxis\": {\"gridcolor\": \"white\", \"linecolor\": \"white\", \"ticks\": \"\"}}, \"title\": {\"x\": 0.05}, \"xaxis\": {\"automargin\": true, \"gridcolor\": \"white\", \"linecolor\": \"white\", \"ticks\": \"\", \"title\": {\"standoff\": 15}, \"zerolinecolor\": \"white\", \"zerolinewidth\": 2}, \"yaxis\": {\"automargin\": true, \"gridcolor\": \"white\", \"linecolor\": \"white\", \"ticks\": \"\", \"title\": {\"standoff\": 15}, \"zerolinecolor\": \"white\", \"zerolinewidth\": 2}}}, \"title\": {\"text\": \"3 most common bigrams of each cluster and relative cluster precense in job postings\"}, \"xaxis\": {\"title\": {\"text\": \"Relative Cluster Presence in Job Postings\"}}, \"yaxis\": {\"title\": {\"text\": \"3 most common Bigrams in Cluster\"}}},                        {\"responsive\": true}                    ).then(function(){\n",
       "                            \n",
       "var gd = document.getElementById('2577f2e6-84ff-4e8f-b51b-ba9088cebcab');\n",
       "var x = new MutationObserver(function (mutations, observer) {{\n",
       "        var display = window.getComputedStyle(gd).display;\n",
       "        if (!display || display === 'none') {{\n",
       "            console.log([gd, 'removed!']);\n",
       "            Plotly.purge(gd);\n",
       "            observer.disconnect();\n",
       "        }}\n",
       "}});\n",
       "\n",
       "// Listen for the removal of the full notebook cells\n",
       "var notebookContainer = gd.closest('#notebook-container');\n",
       "if (notebookContainer) {{\n",
       "    x.observe(notebookContainer, {childList: true});\n",
       "}}\n",
       "\n",
       "// Listen for the clearing of the current output cell\n",
       "var outputEl = gd.closest('.output');\n",
       "if (outputEl) {{\n",
       "    x.observe(outputEl, {childList: true});\n",
       "}}\n",
       "\n",
       "                        })                };                });            </script>        </div>"
      ]
     },
     "metadata": {},
     "output_type": "display_data"
    }
   ],
   "source": [
    "x = []\n",
    "y = []\n",
    "for i in range(0,len(k31_full.cluster_centers_)):\n",
    "    y.append(get_label(i))\n",
    "    x.append(df_clusters[str(i)].mean())\n",
    "sorted = list(zip(x,y))\n",
    "sorted.sort()\n",
    "x=[]\n",
    "y=[]\n",
    "for tuple in sorted:\n",
    "    x.append(tuple[0])\n",
    "    y.append(tuple[1])\n",
    "\n",
    "fig = go.Figure([go.Bar(x=x, y=y,orientation='h')])\n",
    "fig.update_layout(height=800, \\\n",
    "                  title = '3 most common bigrams of each cluster and relative cluster precense in job postings',\\\n",
    "                  barmode='stack',\\\n",
    "                  xaxis_title=\"Relative Cluster Presence in Job Postings\",\\\n",
    "                  yaxis_title=\"3 most common Bigrams in Cluster\",)\n",
    "fig.show()"
   ]
  },
  {
   "cell_type": "code",
   "execution_count": 8,
   "metadata": {},
   "outputs": [],
   "source": [
    "cv_koen = ['Data Driven Process Technologist',\\\n",
    "         'Partly responsible for product quality and technological yield of cheese production process',\\\n",
    "         'By Data Driven approach I automated 75/% of my original role and realized a yield improvement of > €500.000 / year',\\\n",
    "         'Responsible for setting up and maintaining on-the-job training programs and masterclasses for on-boarding and up-skilling of operators',\\\n",
    "         'After working as an operator I took advantage of a growth opportunity to lead a team of 7 operators in 3 production departments',\\\n",
    "         'Training & Education specialist production',\\\n",
    "         'Development of physics lab excercise program',\\\n",
    "         'Mentor of freshman students post-secondary vocational education',\\\n",
    "         'Data Science (MSc) IU International University',\\\n",
    "         'Environment: Python', 'SQL', 'Visual Basic, M, Dax',\\\n",
    "         'Jupyter Notebook', 'Dataiku Data Science Studio', 'Docker',\\\n",
    "         'Dashboarding: Power BI (expert) / Tibco Spotfire',\\\n",
    "         'English', 'Dutch']"
   ]
  },
  {
   "cell_type": "code",
   "execution_count": 183,
   "metadata": {},
   "outputs": [
    {
     "data": {
      "application/vnd.plotly.v1+json": {
       "config": {
        "plotlyServerURL": "https://plot.ly"
       },
       "data": [
        {
         "alignmentgroup": "True",
         "customdata": [
          [
           0.14917127071823205
          ],
          [
           0.1703499079189687
          ],
          [
           0.1887661141804788
          ],
          [
           0.23296500920810312
          ],
          [
           0.23756906077348067
          ],
          [
           0.23756906077348067
          ],
          [
           0.2440147329650092
          ],
          [
           0.27440147329650094
          ],
          [
           0.27716390423572745
          ],
          [
           0.2918968692449355
          ],
          [
           0.3029465930018416
          ],
          [
           0.31123388581952116
          ],
          [
           0.3241252302025783
          ],
          [
           0.3370165745856354
          ],
          [
           0.3453038674033149
          ],
          [
           0.358195211786372
          ],
          [
           0.36095764272559855
          ],
          [
           0.3876611418047882
          ],
          [
           0.38950276243093923
          ],
          [
           0.39134438305709024
          ],
          [
           0.40239410681399634
          ],
          [
           0.4143646408839779
          ],
          [
           0.42173112338858193
          ],
          [
           0.4281767955801105
          ],
          [
           0.429097605893186
          ],
          [
           0.43370165745856354
          ],
          [
           0.43646408839779005
          ],
          [
           0.4429097605893186
          ],
          [
           0.4604051565377532
          ],
          [
           0.5359116022099447
          ],
          [
           0.5377532228360957
          ]
         ],
         "hovertemplate": "variable=CV_similarity<br>value=%{x}<br>labels=%{y}<br>presence=%{customdata[0]}<extra></extra>",
         "legendgroup": "CV_similarity",
         "marker": {
          "color": "#636efa"
         },
         "name": "CV_similarity",
         "offsetgroup": "CV_similarity",
         "orientation": "h",
         "showlegend": true,
         "textposition": "auto",
         "type": "bar",
         "x": [
          0,
          0,
          0,
          0.08277794445993526,
          0.17546362855791386,
          0,
          0.12932621870937067,
          0,
          0,
          0,
          0,
          0.17545035089027738,
          0.195611522823176,
          0.1274300734270358,
          0,
          0,
          0,
          0,
          0,
          0.20660746654674603,
          0.3063684200288985,
          0,
          0.10196534406815436,
          0.21582700874098126,
          0,
          0,
          0.2805066998417888,
          0.12545066036562194,
          0,
          0,
          0.24965963314159892
         ],
         "xaxis": "x",
         "y": [
          "Cluster 24: deep learning, machine learning, experience deep",
          "Cluster 20: experience working, single cell, next-generation sequencing",
          "Cluster 3: years experience, related field, years relevant",
          "Cluster 27: experience cloud, google cloud, cloud computing",
          "Cluster 1: knowledge sql, relational databases, sql queries",
          "Cluster 5: track record, research projects, scientific technical",
          "Cluster 14: data visualization, visualization tools, experience data",
          "Cluster 19: predictive models, machine learning, model performance",
          "Cluster 2: ability work, work independently, fast-paced environment",
          "Cluster 8: big data, experience working, experience big",
          "Cluster 17: problem-solving skills, problem solving, strong analytical",
          "Cluster 4: learn new, new technologies, eager learn",
          "Cluster 29: data quality, data management, data pipelines",
          "Cluster 21: helping others, people around, lasting mark",
          "Cluster 6: machine learning, learning models, learning algorithms",
          "Cluster 23: data analysis, results clear, track record",
          "Cluster 0: team player, ability work, team members",
          "Cluster 11: data sets, data analysis, data sources",
          "Cluster 15: years experience, experience data, data science",
          "Cluster 26: working environment, work environment, professional development",
          "Cluster 28: fluent english, communication skills, english fluent",
          "Cluster 7: communication skills, excellent communication, skills excellent",
          "Cluster 9: attention detail, natural language, social media",
          "Cluster 13: data science, data scientists, data scientist",
          "Cluster 16: business stakeholders, work closely, internal external",
          "Cluster 25: business problems, translate business, understand business",
          "Cluster 12: machine learning, learning techniques, machine learning,",
          "Cluster 22: version control, software engineering, best practices",
          "Cluster 10: experience working, software development, project management",
          "Cluster 30: computer science, computer science, master’s degree",
          "Cluster 18: programming skills, programming languages, data science"
         ],
         "yaxis": "y"
        },
        {
         "alignmentgroup": "True",
         "customdata": [
          [
           0.14917127071823205
          ],
          [
           0.1703499079189687
          ],
          [
           0.1887661141804788
          ],
          [
           0.23296500920810312
          ],
          [
           0.23756906077348067
          ],
          [
           0.23756906077348067
          ],
          [
           0.2440147329650092
          ],
          [
           0.27440147329650094
          ],
          [
           0.27716390423572745
          ],
          [
           0.2918968692449355
          ],
          [
           0.3029465930018416
          ],
          [
           0.31123388581952116
          ],
          [
           0.3241252302025783
          ],
          [
           0.3370165745856354
          ],
          [
           0.3453038674033149
          ],
          [
           0.358195211786372
          ],
          [
           0.36095764272559855
          ],
          [
           0.3876611418047882
          ],
          [
           0.38950276243093923
          ],
          [
           0.39134438305709024
          ],
          [
           0.40239410681399634
          ],
          [
           0.4143646408839779
          ],
          [
           0.42173112338858193
          ],
          [
           0.4281767955801105
          ],
          [
           0.429097605893186
          ],
          [
           0.43370165745856354
          ],
          [
           0.43646408839779005
          ],
          [
           0.4429097605893186
          ],
          [
           0.4604051565377532
          ],
          [
           0.5359116022099447
          ],
          [
           0.5377532228360957
          ]
         ],
         "hovertemplate": "variable=Presence_Cluster_in_Job_Postings<br>value=%{x}<br>labels=%{y}<br>presence=%{customdata[0]}<extra></extra>",
         "legendgroup": "Presence_Cluster_in_Job_Postings",
         "marker": {
          "color": "#EF553B"
         },
         "name": "Presence_Cluster_in_Job_Postings",
         "offsetgroup": "Presence_Cluster_in_Job_Postings",
         "orientation": "h",
         "showlegend": true,
         "textposition": "auto",
         "type": "bar",
         "x": [
          0.14917127071823205,
          0.1703499079189687,
          0.1887661141804788,
          0.15018706474816784,
          0.0621054322155668,
          0.23756906077348067,
          0.11468851425563853,
          0.27440147329650094,
          0.27716390423572745,
          0.2918968692449355,
          0.3029465930018416,
          0.13578353492924378,
          0.12851370737940226,
          0.2095865011585996,
          0.3453038674033149,
          0.358195211786372,
          0.36095764272559855,
          0.3876611418047882,
          0.38950276243093923,
          0.1847369165103442,
          0.09602568678509782,
          0.4143646408839779,
          0.3197657793204276,
          0.21234978683912925,
          0.429097605893186,
          0.43370165745856354,
          0.15595738855600128,
          0.3174591002236966,
          0.4604051565377532,
          0.5359116022099447,
          0.28809358969449683
         ],
         "xaxis": "x",
         "y": [
          "Cluster 24: deep learning, machine learning, experience deep",
          "Cluster 20: experience working, single cell, next-generation sequencing",
          "Cluster 3: years experience, related field, years relevant",
          "Cluster 27: experience cloud, google cloud, cloud computing",
          "Cluster 1: knowledge sql, relational databases, sql queries",
          "Cluster 5: track record, research projects, scientific technical",
          "Cluster 14: data visualization, visualization tools, experience data",
          "Cluster 19: predictive models, machine learning, model performance",
          "Cluster 2: ability work, work independently, fast-paced environment",
          "Cluster 8: big data, experience working, experience big",
          "Cluster 17: problem-solving skills, problem solving, strong analytical",
          "Cluster 4: learn new, new technologies, eager learn",
          "Cluster 29: data quality, data management, data pipelines",
          "Cluster 21: helping others, people around, lasting mark",
          "Cluster 6: machine learning, learning models, learning algorithms",
          "Cluster 23: data analysis, results clear, track record",
          "Cluster 0: team player, ability work, team members",
          "Cluster 11: data sets, data analysis, data sources",
          "Cluster 15: years experience, experience data, data science",
          "Cluster 26: working environment, work environment, professional development",
          "Cluster 28: fluent english, communication skills, english fluent",
          "Cluster 7: communication skills, excellent communication, skills excellent",
          "Cluster 9: attention detail, natural language, social media",
          "Cluster 13: data science, data scientists, data scientist",
          "Cluster 16: business stakeholders, work closely, internal external",
          "Cluster 25: business problems, translate business, understand business",
          "Cluster 12: machine learning, learning techniques, machine learning,",
          "Cluster 22: version control, software engineering, best practices",
          "Cluster 10: experience working, software development, project management",
          "Cluster 30: computer science, computer science, master’s degree",
          "Cluster 18: programming skills, programming languages, data science"
         ],
         "yaxis": "y"
        }
       ],
       "layout": {
        "barmode": "stack",
        "height": 800,
        "legend": {
         "title": {
          "text": "variable"
         },
         "tracegroupgap": 0
        },
        "margin": {
         "t": 60
        },
        "template": {
         "data": {
          "bar": [
           {
            "error_x": {
             "color": "#2a3f5f"
            },
            "error_y": {
             "color": "#2a3f5f"
            },
            "marker": {
             "line": {
              "color": "#E5ECF6",
              "width": 0.5
             }
            },
            "type": "bar"
           }
          ],
          "barpolar": [
           {
            "marker": {
             "line": {
              "color": "#E5ECF6",
              "width": 0.5
             }
            },
            "type": "barpolar"
           }
          ],
          "carpet": [
           {
            "aaxis": {
             "endlinecolor": "#2a3f5f",
             "gridcolor": "white",
             "linecolor": "white",
             "minorgridcolor": "white",
             "startlinecolor": "#2a3f5f"
            },
            "baxis": {
             "endlinecolor": "#2a3f5f",
             "gridcolor": "white",
             "linecolor": "white",
             "minorgridcolor": "white",
             "startlinecolor": "#2a3f5f"
            },
            "type": "carpet"
           }
          ],
          "choropleth": [
           {
            "colorbar": {
             "outlinewidth": 0,
             "ticks": ""
            },
            "type": "choropleth"
           }
          ],
          "contour": [
           {
            "colorbar": {
             "outlinewidth": 0,
             "ticks": ""
            },
            "colorscale": [
             [
              0,
              "#0d0887"
             ],
             [
              0.1111111111111111,
              "#46039f"
             ],
             [
              0.2222222222222222,
              "#7201a8"
             ],
             [
              0.3333333333333333,
              "#9c179e"
             ],
             [
              0.4444444444444444,
              "#bd3786"
             ],
             [
              0.5555555555555556,
              "#d8576b"
             ],
             [
              0.6666666666666666,
              "#ed7953"
             ],
             [
              0.7777777777777778,
              "#fb9f3a"
             ],
             [
              0.8888888888888888,
              "#fdca26"
             ],
             [
              1,
              "#f0f921"
             ]
            ],
            "type": "contour"
           }
          ],
          "contourcarpet": [
           {
            "colorbar": {
             "outlinewidth": 0,
             "ticks": ""
            },
            "type": "contourcarpet"
           }
          ],
          "heatmap": [
           {
            "colorbar": {
             "outlinewidth": 0,
             "ticks": ""
            },
            "colorscale": [
             [
              0,
              "#0d0887"
             ],
             [
              0.1111111111111111,
              "#46039f"
             ],
             [
              0.2222222222222222,
              "#7201a8"
             ],
             [
              0.3333333333333333,
              "#9c179e"
             ],
             [
              0.4444444444444444,
              "#bd3786"
             ],
             [
              0.5555555555555556,
              "#d8576b"
             ],
             [
              0.6666666666666666,
              "#ed7953"
             ],
             [
              0.7777777777777778,
              "#fb9f3a"
             ],
             [
              0.8888888888888888,
              "#fdca26"
             ],
             [
              1,
              "#f0f921"
             ]
            ],
            "type": "heatmap"
           }
          ],
          "heatmapgl": [
           {
            "colorbar": {
             "outlinewidth": 0,
             "ticks": ""
            },
            "colorscale": [
             [
              0,
              "#0d0887"
             ],
             [
              0.1111111111111111,
              "#46039f"
             ],
             [
              0.2222222222222222,
              "#7201a8"
             ],
             [
              0.3333333333333333,
              "#9c179e"
             ],
             [
              0.4444444444444444,
              "#bd3786"
             ],
             [
              0.5555555555555556,
              "#d8576b"
             ],
             [
              0.6666666666666666,
              "#ed7953"
             ],
             [
              0.7777777777777778,
              "#fb9f3a"
             ],
             [
              0.8888888888888888,
              "#fdca26"
             ],
             [
              1,
              "#f0f921"
             ]
            ],
            "type": "heatmapgl"
           }
          ],
          "histogram": [
           {
            "marker": {
             "colorbar": {
              "outlinewidth": 0,
              "ticks": ""
             }
            },
            "type": "histogram"
           }
          ],
          "histogram2d": [
           {
            "colorbar": {
             "outlinewidth": 0,
             "ticks": ""
            },
            "colorscale": [
             [
              0,
              "#0d0887"
             ],
             [
              0.1111111111111111,
              "#46039f"
             ],
             [
              0.2222222222222222,
              "#7201a8"
             ],
             [
              0.3333333333333333,
              "#9c179e"
             ],
             [
              0.4444444444444444,
              "#bd3786"
             ],
             [
              0.5555555555555556,
              "#d8576b"
             ],
             [
              0.6666666666666666,
              "#ed7953"
             ],
             [
              0.7777777777777778,
              "#fb9f3a"
             ],
             [
              0.8888888888888888,
              "#fdca26"
             ],
             [
              1,
              "#f0f921"
             ]
            ],
            "type": "histogram2d"
           }
          ],
          "histogram2dcontour": [
           {
            "colorbar": {
             "outlinewidth": 0,
             "ticks": ""
            },
            "colorscale": [
             [
              0,
              "#0d0887"
             ],
             [
              0.1111111111111111,
              "#46039f"
             ],
             [
              0.2222222222222222,
              "#7201a8"
             ],
             [
              0.3333333333333333,
              "#9c179e"
             ],
             [
              0.4444444444444444,
              "#bd3786"
             ],
             [
              0.5555555555555556,
              "#d8576b"
             ],
             [
              0.6666666666666666,
              "#ed7953"
             ],
             [
              0.7777777777777778,
              "#fb9f3a"
             ],
             [
              0.8888888888888888,
              "#fdca26"
             ],
             [
              1,
              "#f0f921"
             ]
            ],
            "type": "histogram2dcontour"
           }
          ],
          "mesh3d": [
           {
            "colorbar": {
             "outlinewidth": 0,
             "ticks": ""
            },
            "type": "mesh3d"
           }
          ],
          "parcoords": [
           {
            "line": {
             "colorbar": {
              "outlinewidth": 0,
              "ticks": ""
             }
            },
            "type": "parcoords"
           }
          ],
          "pie": [
           {
            "automargin": true,
            "type": "pie"
           }
          ],
          "scatter": [
           {
            "marker": {
             "colorbar": {
              "outlinewidth": 0,
              "ticks": ""
             }
            },
            "type": "scatter"
           }
          ],
          "scatter3d": [
           {
            "line": {
             "colorbar": {
              "outlinewidth": 0,
              "ticks": ""
             }
            },
            "marker": {
             "colorbar": {
              "outlinewidth": 0,
              "ticks": ""
             }
            },
            "type": "scatter3d"
           }
          ],
          "scattercarpet": [
           {
            "marker": {
             "colorbar": {
              "outlinewidth": 0,
              "ticks": ""
             }
            },
            "type": "scattercarpet"
           }
          ],
          "scattergeo": [
           {
            "marker": {
             "colorbar": {
              "outlinewidth": 0,
              "ticks": ""
             }
            },
            "type": "scattergeo"
           }
          ],
          "scattergl": [
           {
            "marker": {
             "colorbar": {
              "outlinewidth": 0,
              "ticks": ""
             }
            },
            "type": "scattergl"
           }
          ],
          "scattermapbox": [
           {
            "marker": {
             "colorbar": {
              "outlinewidth": 0,
              "ticks": ""
             }
            },
            "type": "scattermapbox"
           }
          ],
          "scatterpolar": [
           {
            "marker": {
             "colorbar": {
              "outlinewidth": 0,
              "ticks": ""
             }
            },
            "type": "scatterpolar"
           }
          ],
          "scatterpolargl": [
           {
            "marker": {
             "colorbar": {
              "outlinewidth": 0,
              "ticks": ""
             }
            },
            "type": "scatterpolargl"
           }
          ],
          "scatterternary": [
           {
            "marker": {
             "colorbar": {
              "outlinewidth": 0,
              "ticks": ""
             }
            },
            "type": "scatterternary"
           }
          ],
          "surface": [
           {
            "colorbar": {
             "outlinewidth": 0,
             "ticks": ""
            },
            "colorscale": [
             [
              0,
              "#0d0887"
             ],
             [
              0.1111111111111111,
              "#46039f"
             ],
             [
              0.2222222222222222,
              "#7201a8"
             ],
             [
              0.3333333333333333,
              "#9c179e"
             ],
             [
              0.4444444444444444,
              "#bd3786"
             ],
             [
              0.5555555555555556,
              "#d8576b"
             ],
             [
              0.6666666666666666,
              "#ed7953"
             ],
             [
              0.7777777777777778,
              "#fb9f3a"
             ],
             [
              0.8888888888888888,
              "#fdca26"
             ],
             [
              1,
              "#f0f921"
             ]
            ],
            "type": "surface"
           }
          ],
          "table": [
           {
            "cells": {
             "fill": {
              "color": "#EBF0F8"
             },
             "line": {
              "color": "white"
             }
            },
            "header": {
             "fill": {
              "color": "#C8D4E3"
             },
             "line": {
              "color": "white"
             }
            },
            "type": "table"
           }
          ]
         },
         "layout": {
          "annotationdefaults": {
           "arrowcolor": "#2a3f5f",
           "arrowhead": 0,
           "arrowwidth": 1
          },
          "autotypenumbers": "strict",
          "coloraxis": {
           "colorbar": {
            "outlinewidth": 0,
            "ticks": ""
           }
          },
          "colorscale": {
           "diverging": [
            [
             0,
             "#8e0152"
            ],
            [
             0.1,
             "#c51b7d"
            ],
            [
             0.2,
             "#de77ae"
            ],
            [
             0.3,
             "#f1b6da"
            ],
            [
             0.4,
             "#fde0ef"
            ],
            [
             0.5,
             "#f7f7f7"
            ],
            [
             0.6,
             "#e6f5d0"
            ],
            [
             0.7,
             "#b8e186"
            ],
            [
             0.8,
             "#7fbc41"
            ],
            [
             0.9,
             "#4d9221"
            ],
            [
             1,
             "#276419"
            ]
           ],
           "sequential": [
            [
             0,
             "#0d0887"
            ],
            [
             0.1111111111111111,
             "#46039f"
            ],
            [
             0.2222222222222222,
             "#7201a8"
            ],
            [
             0.3333333333333333,
             "#9c179e"
            ],
            [
             0.4444444444444444,
             "#bd3786"
            ],
            [
             0.5555555555555556,
             "#d8576b"
            ],
            [
             0.6666666666666666,
             "#ed7953"
            ],
            [
             0.7777777777777778,
             "#fb9f3a"
            ],
            [
             0.8888888888888888,
             "#fdca26"
            ],
            [
             1,
             "#f0f921"
            ]
           ],
           "sequentialminus": [
            [
             0,
             "#0d0887"
            ],
            [
             0.1111111111111111,
             "#46039f"
            ],
            [
             0.2222222222222222,
             "#7201a8"
            ],
            [
             0.3333333333333333,
             "#9c179e"
            ],
            [
             0.4444444444444444,
             "#bd3786"
            ],
            [
             0.5555555555555556,
             "#d8576b"
            ],
            [
             0.6666666666666666,
             "#ed7953"
            ],
            [
             0.7777777777777778,
             "#fb9f3a"
            ],
            [
             0.8888888888888888,
             "#fdca26"
            ],
            [
             1,
             "#f0f921"
            ]
           ]
          },
          "colorway": [
           "#636efa",
           "#EF553B",
           "#00cc96",
           "#ab63fa",
           "#FFA15A",
           "#19d3f3",
           "#FF6692",
           "#B6E880",
           "#FF97FF",
           "#FECB52"
          ],
          "font": {
           "color": "#2a3f5f"
          },
          "geo": {
           "bgcolor": "white",
           "lakecolor": "white",
           "landcolor": "#E5ECF6",
           "showlakes": true,
           "showland": true,
           "subunitcolor": "white"
          },
          "hoverlabel": {
           "align": "left"
          },
          "hovermode": "closest",
          "mapbox": {
           "style": "light"
          },
          "paper_bgcolor": "white",
          "plot_bgcolor": "#E5ECF6",
          "polar": {
           "angularaxis": {
            "gridcolor": "white",
            "linecolor": "white",
            "ticks": ""
           },
           "bgcolor": "#E5ECF6",
           "radialaxis": {
            "gridcolor": "white",
            "linecolor": "white",
            "ticks": ""
           }
          },
          "scene": {
           "xaxis": {
            "backgroundcolor": "#E5ECF6",
            "gridcolor": "white",
            "gridwidth": 2,
            "linecolor": "white",
            "showbackground": true,
            "ticks": "",
            "zerolinecolor": "white"
           },
           "yaxis": {
            "backgroundcolor": "#E5ECF6",
            "gridcolor": "white",
            "gridwidth": 2,
            "linecolor": "white",
            "showbackground": true,
            "ticks": "",
            "zerolinecolor": "white"
           },
           "zaxis": {
            "backgroundcolor": "#E5ECF6",
            "gridcolor": "white",
            "gridwidth": 2,
            "linecolor": "white",
            "showbackground": true,
            "ticks": "",
            "zerolinecolor": "white"
           }
          },
          "shapedefaults": {
           "line": {
            "color": "#2a3f5f"
           }
          },
          "ternary": {
           "aaxis": {
            "gridcolor": "white",
            "linecolor": "white",
            "ticks": ""
           },
           "baxis": {
            "gridcolor": "white",
            "linecolor": "white",
            "ticks": ""
           },
           "bgcolor": "#E5ECF6",
           "caxis": {
            "gridcolor": "white",
            "linecolor": "white",
            "ticks": ""
           }
          },
          "title": {
           "x": 0.05
          },
          "xaxis": {
           "automargin": true,
           "gridcolor": "white",
           "linecolor": "white",
           "ticks": "",
           "title": {
            "standoff": 15
           },
           "zerolinecolor": "white",
           "zerolinewidth": 2
          },
          "yaxis": {
           "automargin": true,
           "gridcolor": "white",
           "linecolor": "white",
           "ticks": "",
           "title": {
            "standoff": 15
           },
           "zerolinecolor": "white",
           "zerolinewidth": 2
          }
         }
        },
        "title": {
         "text": "Author's CV similarity to requirement clusters in context of relative cluster presence"
        },
        "xaxis": {
         "anchor": "y",
         "domain": [
          0,
          1
         ],
         "title": {
          "text": "CV Similarity to Cluster"
         }
        },
        "yaxis": {
         "anchor": "x",
         "domain": [
          0,
          1
         ],
         "title": {
          "text": "3 most common Bigrams in Cluster"
         }
        }
       }
      },
      "text/html": [
       "<div>                            <div id=\"20282a12-84be-487a-beb8-fd1d0f837c1a\" class=\"plotly-graph-div\" style=\"height:800px; width:100%;\"></div>            <script type=\"text/javascript\">                require([\"plotly\"], function(Plotly) {                    window.PLOTLYENV=window.PLOTLYENV || {};                                    if (document.getElementById(\"20282a12-84be-487a-beb8-fd1d0f837c1a\")) {                    Plotly.newPlot(                        \"20282a12-84be-487a-beb8-fd1d0f837c1a\",                        [{\"alignmentgroup\": \"True\", \"customdata\": [[0.14917127071823205], [0.1703499079189687], [0.1887661141804788], [0.23296500920810312], [0.23756906077348067], [0.23756906077348067], [0.2440147329650092], [0.27440147329650094], [0.27716390423572745], [0.2918968692449355], [0.3029465930018416], [0.31123388581952116], [0.3241252302025783], [0.3370165745856354], [0.3453038674033149], [0.358195211786372], [0.36095764272559855], [0.3876611418047882], [0.38950276243093923], [0.39134438305709024], [0.40239410681399634], [0.4143646408839779], [0.42173112338858193], [0.4281767955801105], [0.429097605893186], [0.43370165745856354], [0.43646408839779005], [0.4429097605893186], [0.4604051565377532], [0.5359116022099447], [0.5377532228360957]], \"hovertemplate\": \"variable=CV_similarity<br>value=%{x}<br>labels=%{y}<br>presence=%{customdata[0]}<extra></extra>\", \"legendgroup\": \"CV_similarity\", \"marker\": {\"color\": \"#636efa\"}, \"name\": \"CV_similarity\", \"offsetgroup\": \"CV_similarity\", \"orientation\": \"h\", \"showlegend\": true, \"textposition\": \"auto\", \"type\": \"bar\", \"x\": [0.0, 0.0, 0.0, 0.08277794445993526, 0.17546362855791386, 0.0, 0.12932621870937067, 0.0, 0.0, 0.0, 0.0, 0.17545035089027738, 0.195611522823176, 0.1274300734270358, 0.0, 0.0, 0.0, 0.0, 0.0, 0.20660746654674603, 0.3063684200288985, 0.0, 0.10196534406815436, 0.21582700874098126, 0.0, 0.0, 0.2805066998417888, 0.12545066036562194, 0.0, 0.0, 0.24965963314159892], \"xaxis\": \"x\", \"y\": [\"Cluster 24: deep learning, machine learning, experience deep\", \"Cluster 20: experience working, single cell, next-generation sequencing\", \"Cluster 3: years experience, related field, years relevant\", \"Cluster 27: experience cloud, google cloud, cloud computing\", \"Cluster 1: knowledge sql, relational databases, sql queries\", \"Cluster 5: track record, research projects, scientific technical\", \"Cluster 14: data visualization, visualization tools, experience data\", \"Cluster 19: predictive models, machine learning, model performance\", \"Cluster 2: ability work, work independently, fast-paced environment\", \"Cluster 8: big data, experience working, experience big\", \"Cluster 17: problem-solving skills, problem solving, strong analytical\", \"Cluster 4: learn new, new technologies, eager learn\", \"Cluster 29: data quality, data management, data pipelines\", \"Cluster 21: helping others, people around, lasting mark\", \"Cluster 6: machine learning, learning models, learning algorithms\", \"Cluster 23: data analysis, results clear, track record\", \"Cluster 0: team player, ability work, team members\", \"Cluster 11: data sets, data analysis, data sources\", \"Cluster 15: years experience, experience data, data science\", \"Cluster 26: working environment, work environment, professional development\", \"Cluster 28: fluent english, communication skills, english fluent\", \"Cluster 7: communication skills, excellent communication, skills excellent\", \"Cluster 9: attention detail, natural language, social media\", \"Cluster 13: data science, data scientists, data scientist\", \"Cluster 16: business stakeholders, work closely, internal external\", \"Cluster 25: business problems, translate business, understand business\", \"Cluster 12: machine learning, learning techniques, machine learning,\", \"Cluster 22: version control, software engineering, best practices\", \"Cluster 10: experience working, software development, project management\", \"Cluster 30: computer science, computer science, master\\u2019s degree\", \"Cluster 18: programming skills, programming languages, data science\"], \"yaxis\": \"y\"}, {\"alignmentgroup\": \"True\", \"customdata\": [[0.14917127071823205], [0.1703499079189687], [0.1887661141804788], [0.23296500920810312], [0.23756906077348067], [0.23756906077348067], [0.2440147329650092], [0.27440147329650094], [0.27716390423572745], [0.2918968692449355], [0.3029465930018416], [0.31123388581952116], [0.3241252302025783], [0.3370165745856354], [0.3453038674033149], [0.358195211786372], [0.36095764272559855], [0.3876611418047882], [0.38950276243093923], [0.39134438305709024], [0.40239410681399634], [0.4143646408839779], [0.42173112338858193], [0.4281767955801105], [0.429097605893186], [0.43370165745856354], [0.43646408839779005], [0.4429097605893186], [0.4604051565377532], [0.5359116022099447], [0.5377532228360957]], \"hovertemplate\": \"variable=Presence_Cluster_in_Job_Postings<br>value=%{x}<br>labels=%{y}<br>presence=%{customdata[0]}<extra></extra>\", \"legendgroup\": \"Presence_Cluster_in_Job_Postings\", \"marker\": {\"color\": \"#EF553B\"}, \"name\": \"Presence_Cluster_in_Job_Postings\", \"offsetgroup\": \"Presence_Cluster_in_Job_Postings\", \"orientation\": \"h\", \"showlegend\": true, \"textposition\": \"auto\", \"type\": \"bar\", \"x\": [0.14917127071823205, 0.1703499079189687, 0.1887661141804788, 0.15018706474816784, 0.0621054322155668, 0.23756906077348067, 0.11468851425563853, 0.27440147329650094, 0.27716390423572745, 0.2918968692449355, 0.3029465930018416, 0.13578353492924378, 0.12851370737940226, 0.2095865011585996, 0.3453038674033149, 0.358195211786372, 0.36095764272559855, 0.3876611418047882, 0.38950276243093923, 0.1847369165103442, 0.09602568678509782, 0.4143646408839779, 0.3197657793204276, 0.21234978683912925, 0.429097605893186, 0.43370165745856354, 0.15595738855600128, 0.3174591002236966, 0.4604051565377532, 0.5359116022099447, 0.28809358969449683], \"xaxis\": \"x\", \"y\": [\"Cluster 24: deep learning, machine learning, experience deep\", \"Cluster 20: experience working, single cell, next-generation sequencing\", \"Cluster 3: years experience, related field, years relevant\", \"Cluster 27: experience cloud, google cloud, cloud computing\", \"Cluster 1: knowledge sql, relational databases, sql queries\", \"Cluster 5: track record, research projects, scientific technical\", \"Cluster 14: data visualization, visualization tools, experience data\", \"Cluster 19: predictive models, machine learning, model performance\", \"Cluster 2: ability work, work independently, fast-paced environment\", \"Cluster 8: big data, experience working, experience big\", \"Cluster 17: problem-solving skills, problem solving, strong analytical\", \"Cluster 4: learn new, new technologies, eager learn\", \"Cluster 29: data quality, data management, data pipelines\", \"Cluster 21: helping others, people around, lasting mark\", \"Cluster 6: machine learning, learning models, learning algorithms\", \"Cluster 23: data analysis, results clear, track record\", \"Cluster 0: team player, ability work, team members\", \"Cluster 11: data sets, data analysis, data sources\", \"Cluster 15: years experience, experience data, data science\", \"Cluster 26: working environment, work environment, professional development\", \"Cluster 28: fluent english, communication skills, english fluent\", \"Cluster 7: communication skills, excellent communication, skills excellent\", \"Cluster 9: attention detail, natural language, social media\", \"Cluster 13: data science, data scientists, data scientist\", \"Cluster 16: business stakeholders, work closely, internal external\", \"Cluster 25: business problems, translate business, understand business\", \"Cluster 12: machine learning, learning techniques, machine learning,\", \"Cluster 22: version control, software engineering, best practices\", \"Cluster 10: experience working, software development, project management\", \"Cluster 30: computer science, computer science, master\\u2019s degree\", \"Cluster 18: programming skills, programming languages, data science\"], \"yaxis\": \"y\"}],                        {\"barmode\": \"stack\", \"height\": 800, \"legend\": {\"title\": {\"text\": \"variable\"}, \"tracegroupgap\": 0}, \"margin\": {\"t\": 60}, \"template\": {\"data\": {\"bar\": [{\"error_x\": {\"color\": \"#2a3f5f\"}, \"error_y\": {\"color\": \"#2a3f5f\"}, \"marker\": {\"line\": {\"color\": \"#E5ECF6\", \"width\": 0.5}}, \"type\": \"bar\"}], \"barpolar\": [{\"marker\": {\"line\": {\"color\": \"#E5ECF6\", \"width\": 0.5}}, \"type\": \"barpolar\"}], \"carpet\": [{\"aaxis\": {\"endlinecolor\": \"#2a3f5f\", \"gridcolor\": \"white\", \"linecolor\": \"white\", \"minorgridcolor\": \"white\", \"startlinecolor\": \"#2a3f5f\"}, \"baxis\": {\"endlinecolor\": \"#2a3f5f\", \"gridcolor\": \"white\", \"linecolor\": \"white\", \"minorgridcolor\": \"white\", \"startlinecolor\": \"#2a3f5f\"}, \"type\": \"carpet\"}], \"choropleth\": [{\"colorbar\": {\"outlinewidth\": 0, \"ticks\": \"\"}, \"type\": \"choropleth\"}], \"contour\": [{\"colorbar\": {\"outlinewidth\": 0, \"ticks\": \"\"}, \"colorscale\": [[0.0, \"#0d0887\"], [0.1111111111111111, \"#46039f\"], [0.2222222222222222, \"#7201a8\"], [0.3333333333333333, \"#9c179e\"], [0.4444444444444444, \"#bd3786\"], [0.5555555555555556, \"#d8576b\"], [0.6666666666666666, \"#ed7953\"], [0.7777777777777778, \"#fb9f3a\"], [0.8888888888888888, \"#fdca26\"], [1.0, \"#f0f921\"]], \"type\": \"contour\"}], \"contourcarpet\": [{\"colorbar\": {\"outlinewidth\": 0, \"ticks\": \"\"}, \"type\": \"contourcarpet\"}], \"heatmap\": [{\"colorbar\": {\"outlinewidth\": 0, \"ticks\": \"\"}, \"colorscale\": [[0.0, \"#0d0887\"], [0.1111111111111111, \"#46039f\"], [0.2222222222222222, \"#7201a8\"], [0.3333333333333333, \"#9c179e\"], [0.4444444444444444, \"#bd3786\"], [0.5555555555555556, \"#d8576b\"], [0.6666666666666666, \"#ed7953\"], [0.7777777777777778, \"#fb9f3a\"], [0.8888888888888888, \"#fdca26\"], [1.0, \"#f0f921\"]], \"type\": \"heatmap\"}], \"heatmapgl\": [{\"colorbar\": {\"outlinewidth\": 0, \"ticks\": \"\"}, \"colorscale\": [[0.0, \"#0d0887\"], [0.1111111111111111, \"#46039f\"], [0.2222222222222222, \"#7201a8\"], [0.3333333333333333, \"#9c179e\"], [0.4444444444444444, \"#bd3786\"], [0.5555555555555556, \"#d8576b\"], [0.6666666666666666, \"#ed7953\"], [0.7777777777777778, \"#fb9f3a\"], [0.8888888888888888, \"#fdca26\"], [1.0, \"#f0f921\"]], \"type\": \"heatmapgl\"}], \"histogram\": [{\"marker\": {\"colorbar\": {\"outlinewidth\": 0, \"ticks\": \"\"}}, \"type\": \"histogram\"}], \"histogram2d\": [{\"colorbar\": {\"outlinewidth\": 0, \"ticks\": \"\"}, \"colorscale\": [[0.0, \"#0d0887\"], [0.1111111111111111, \"#46039f\"], [0.2222222222222222, \"#7201a8\"], [0.3333333333333333, \"#9c179e\"], [0.4444444444444444, \"#bd3786\"], [0.5555555555555556, \"#d8576b\"], [0.6666666666666666, \"#ed7953\"], [0.7777777777777778, \"#fb9f3a\"], [0.8888888888888888, \"#fdca26\"], [1.0, \"#f0f921\"]], \"type\": \"histogram2d\"}], \"histogram2dcontour\": [{\"colorbar\": {\"outlinewidth\": 0, \"ticks\": \"\"}, \"colorscale\": [[0.0, \"#0d0887\"], [0.1111111111111111, \"#46039f\"], [0.2222222222222222, \"#7201a8\"], [0.3333333333333333, \"#9c179e\"], [0.4444444444444444, \"#bd3786\"], [0.5555555555555556, \"#d8576b\"], [0.6666666666666666, \"#ed7953\"], [0.7777777777777778, \"#fb9f3a\"], [0.8888888888888888, \"#fdca26\"], [1.0, \"#f0f921\"]], \"type\": \"histogram2dcontour\"}], \"mesh3d\": [{\"colorbar\": {\"outlinewidth\": 0, \"ticks\": \"\"}, \"type\": \"mesh3d\"}], \"parcoords\": [{\"line\": {\"colorbar\": {\"outlinewidth\": 0, \"ticks\": \"\"}}, \"type\": \"parcoords\"}], \"pie\": [{\"automargin\": true, \"type\": \"pie\"}], \"scatter\": [{\"marker\": {\"colorbar\": {\"outlinewidth\": 0, \"ticks\": \"\"}}, \"type\": \"scatter\"}], \"scatter3d\": [{\"line\": {\"colorbar\": {\"outlinewidth\": 0, \"ticks\": \"\"}}, \"marker\": {\"colorbar\": {\"outlinewidth\": 0, \"ticks\": \"\"}}, \"type\": \"scatter3d\"}], \"scattercarpet\": [{\"marker\": {\"colorbar\": {\"outlinewidth\": 0, \"ticks\": \"\"}}, \"type\": \"scattercarpet\"}], \"scattergeo\": [{\"marker\": {\"colorbar\": {\"outlinewidth\": 0, \"ticks\": \"\"}}, \"type\": \"scattergeo\"}], \"scattergl\": [{\"marker\": {\"colorbar\": {\"outlinewidth\": 0, \"ticks\": \"\"}}, \"type\": \"scattergl\"}], \"scattermapbox\": [{\"marker\": {\"colorbar\": {\"outlinewidth\": 0, \"ticks\": \"\"}}, \"type\": \"scattermapbox\"}], \"scatterpolar\": [{\"marker\": {\"colorbar\": {\"outlinewidth\": 0, \"ticks\": \"\"}}, \"type\": \"scatterpolar\"}], \"scatterpolargl\": [{\"marker\": {\"colorbar\": {\"outlinewidth\": 0, \"ticks\": \"\"}}, \"type\": \"scatterpolargl\"}], \"scatterternary\": [{\"marker\": {\"colorbar\": {\"outlinewidth\": 0, \"ticks\": \"\"}}, \"type\": \"scatterternary\"}], \"surface\": [{\"colorbar\": {\"outlinewidth\": 0, \"ticks\": \"\"}, \"colorscale\": [[0.0, \"#0d0887\"], [0.1111111111111111, \"#46039f\"], [0.2222222222222222, \"#7201a8\"], [0.3333333333333333, \"#9c179e\"], [0.4444444444444444, \"#bd3786\"], [0.5555555555555556, \"#d8576b\"], [0.6666666666666666, \"#ed7953\"], [0.7777777777777778, \"#fb9f3a\"], [0.8888888888888888, \"#fdca26\"], [1.0, \"#f0f921\"]], \"type\": \"surface\"}], \"table\": [{\"cells\": {\"fill\": {\"color\": \"#EBF0F8\"}, \"line\": {\"color\": \"white\"}}, \"header\": {\"fill\": {\"color\": \"#C8D4E3\"}, \"line\": {\"color\": \"white\"}}, \"type\": \"table\"}]}, \"layout\": {\"annotationdefaults\": {\"arrowcolor\": \"#2a3f5f\", \"arrowhead\": 0, \"arrowwidth\": 1}, \"autotypenumbers\": \"strict\", \"coloraxis\": {\"colorbar\": {\"outlinewidth\": 0, \"ticks\": \"\"}}, \"colorscale\": {\"diverging\": [[0, \"#8e0152\"], [0.1, \"#c51b7d\"], [0.2, \"#de77ae\"], [0.3, \"#f1b6da\"], [0.4, \"#fde0ef\"], [0.5, \"#f7f7f7\"], [0.6, \"#e6f5d0\"], [0.7, \"#b8e186\"], [0.8, \"#7fbc41\"], [0.9, \"#4d9221\"], [1, \"#276419\"]], \"sequential\": [[0.0, \"#0d0887\"], [0.1111111111111111, \"#46039f\"], [0.2222222222222222, \"#7201a8\"], [0.3333333333333333, \"#9c179e\"], [0.4444444444444444, \"#bd3786\"], [0.5555555555555556, \"#d8576b\"], [0.6666666666666666, \"#ed7953\"], [0.7777777777777778, \"#fb9f3a\"], [0.8888888888888888, \"#fdca26\"], [1.0, \"#f0f921\"]], \"sequentialminus\": [[0.0, \"#0d0887\"], [0.1111111111111111, \"#46039f\"], [0.2222222222222222, \"#7201a8\"], [0.3333333333333333, \"#9c179e\"], [0.4444444444444444, \"#bd3786\"], [0.5555555555555556, \"#d8576b\"], [0.6666666666666666, \"#ed7953\"], [0.7777777777777778, \"#fb9f3a\"], [0.8888888888888888, \"#fdca26\"], [1.0, \"#f0f921\"]]}, \"colorway\": [\"#636efa\", \"#EF553B\", \"#00cc96\", \"#ab63fa\", \"#FFA15A\", \"#19d3f3\", \"#FF6692\", \"#B6E880\", \"#FF97FF\", \"#FECB52\"], \"font\": {\"color\": \"#2a3f5f\"}, \"geo\": {\"bgcolor\": \"white\", \"lakecolor\": \"white\", \"landcolor\": \"#E5ECF6\", \"showlakes\": true, \"showland\": true, \"subunitcolor\": \"white\"}, \"hoverlabel\": {\"align\": \"left\"}, \"hovermode\": \"closest\", \"mapbox\": {\"style\": \"light\"}, \"paper_bgcolor\": \"white\", \"plot_bgcolor\": \"#E5ECF6\", \"polar\": {\"angularaxis\": {\"gridcolor\": \"white\", \"linecolor\": \"white\", \"ticks\": \"\"}, \"bgcolor\": \"#E5ECF6\", \"radialaxis\": {\"gridcolor\": \"white\", \"linecolor\": \"white\", \"ticks\": \"\"}}, \"scene\": {\"xaxis\": {\"backgroundcolor\": \"#E5ECF6\", \"gridcolor\": \"white\", \"gridwidth\": 2, \"linecolor\": \"white\", \"showbackground\": true, \"ticks\": \"\", \"zerolinecolor\": \"white\"}, \"yaxis\": {\"backgroundcolor\": \"#E5ECF6\", \"gridcolor\": \"white\", \"gridwidth\": 2, \"linecolor\": \"white\", \"showbackground\": true, \"ticks\": \"\", \"zerolinecolor\": \"white\"}, \"zaxis\": {\"backgroundcolor\": \"#E5ECF6\", \"gridcolor\": \"white\", \"gridwidth\": 2, \"linecolor\": \"white\", \"showbackground\": true, \"ticks\": \"\", \"zerolinecolor\": \"white\"}}, \"shapedefaults\": {\"line\": {\"color\": \"#2a3f5f\"}}, \"ternary\": {\"aaxis\": {\"gridcolor\": \"white\", \"linecolor\": \"white\", \"ticks\": \"\"}, \"baxis\": {\"gridcolor\": \"white\", \"linecolor\": \"white\", \"ticks\": \"\"}, \"bgcolor\": \"#E5ECF6\", \"caxis\": {\"gridcolor\": \"white\", \"linecolor\": \"white\", \"ticks\": \"\"}}, \"title\": {\"x\": 0.05}, \"xaxis\": {\"automargin\": true, \"gridcolor\": \"white\", \"linecolor\": \"white\", \"ticks\": \"\", \"title\": {\"standoff\": 15}, \"zerolinecolor\": \"white\", \"zerolinewidth\": 2}, \"yaxis\": {\"automargin\": true, \"gridcolor\": \"white\", \"linecolor\": \"white\", \"ticks\": \"\", \"title\": {\"standoff\": 15}, \"zerolinecolor\": \"white\", \"zerolinewidth\": 2}}}, \"title\": {\"text\": \"Author's CV similarity to requirement clusters in context of relative cluster presence\"}, \"xaxis\": {\"anchor\": \"y\", \"domain\": [0.0, 1.0], \"title\": {\"text\": \"CV Similarity to Cluster\"}}, \"yaxis\": {\"anchor\": \"x\", \"domain\": [0.0, 1.0], \"title\": {\"text\": \"3 most common Bigrams in Cluster\"}}},                        {\"responsive\": true}                    ).then(function(){\n",
       "                            \n",
       "var gd = document.getElementById('20282a12-84be-487a-beb8-fd1d0f837c1a');\n",
       "var x = new MutationObserver(function (mutations, observer) {{\n",
       "        var display = window.getComputedStyle(gd).display;\n",
       "        if (!display || display === 'none') {{\n",
       "            console.log([gd, 'removed!']);\n",
       "            Plotly.purge(gd);\n",
       "            observer.disconnect();\n",
       "        }}\n",
       "}});\n",
       "\n",
       "// Listen for the removal of the full notebook cells\n",
       "var notebookContainer = gd.closest('#notebook-container');\n",
       "if (notebookContainer) {{\n",
       "    x.observe(notebookContainer, {childList: true});\n",
       "}}\n",
       "\n",
       "// Listen for the clearing of the current output cell\n",
       "var outputEl = gd.closest('.output');\n",
       "if (outputEl) {{\n",
       "    x.observe(outputEl, {childList: true});\n",
       "}}\n",
       "\n",
       "                        })                };                });            </script>        </div>"
      ]
     },
     "metadata": {},
     "output_type": "display_data"
    },
    {
     "data": {
      "application/vnd.plotly.v1+json": {
       "config": {
        "plotlyServerURL": "https://plot.ly"
       },
       "data": [
        {
         "alignmentgroup": "True",
         "customdata": [
          [
           0.14917127071823205
          ],
          [
           0.1703499079189687
          ],
          [
           0.1887661141804788
          ],
          [
           0.23296500920810312
          ],
          [
           0.23756906077348067
          ],
          [
           0.23756906077348067
          ],
          [
           0.2440147329650092
          ],
          [
           0.27440147329650094
          ],
          [
           0.27716390423572745
          ],
          [
           0.2918968692449355
          ],
          [
           0.3029465930018416
          ],
          [
           0.31123388581952116
          ],
          [
           0.3241252302025783
          ],
          [
           0.3370165745856354
          ],
          [
           0.3453038674033149
          ],
          [
           0.358195211786372
          ],
          [
           0.36095764272559855
          ],
          [
           0.3876611418047882
          ],
          [
           0.38950276243093923
          ],
          [
           0.39134438305709024
          ],
          [
           0.40239410681399634
          ],
          [
           0.4143646408839779
          ],
          [
           0.42173112338858193
          ],
          [
           0.4281767955801105
          ],
          [
           0.429097605893186
          ],
          [
           0.43370165745856354
          ],
          [
           0.43646408839779005
          ],
          [
           0.4429097605893186
          ],
          [
           0.4604051565377532
          ],
          [
           0.5359116022099447
          ],
          [
           0.5377532228360957
          ]
         ],
         "hovertemplate": "variable=CV_similarity<br>value=%{x}<br>labels=%{y}<br>presence=%{customdata[0]}<extra></extra>",
         "legendgroup": "CV_similarity",
         "marker": {
          "color": "#636efa"
         },
         "name": "CV_similarity",
         "offsetgroup": "CV_similarity",
         "orientation": "h",
         "showlegend": true,
         "textposition": "auto",
         "type": "bar",
         "x": [
          0,
          0,
          0,
          0.08277794445993526,
          0.17546362855791386,
          0,
          0.12932621870937067,
          0,
          0,
          0,
          0,
          0.17545035089027738,
          0.195611522823176,
          0.1274300734270358,
          0,
          0,
          0,
          0,
          0,
          0.20660746654674603,
          0.3063684200288985,
          0,
          0.10196534406815436,
          0.21582700874098126,
          0,
          0,
          0.2805066998417888,
          0.12545066036562194,
          0,
          0,
          0.24965963314159892
         ],
         "xaxis": "x",
         "y": [
          "Cluster 24: deep learning, machine learning, experience deep",
          "Cluster 20: experience working, single cell, next-generation sequencing",
          "Cluster 3: years experience, related field, years relevant",
          "Cluster 27: experience cloud, google cloud, cloud computing",
          "Cluster 1: knowledge sql, relational databases, sql queries",
          "Cluster 5: track record, research projects, scientific technical",
          "Cluster 14: data visualization, visualization tools, experience data",
          "Cluster 19: predictive models, machine learning, model performance",
          "Cluster 2: ability work, work independently, fast-paced environment",
          "Cluster 8: big data, experience working, experience big",
          "Cluster 17: problem-solving skills, problem solving, strong analytical",
          "Cluster 4: learn new, new technologies, eager learn",
          "Cluster 29: data quality, data management, data pipelines",
          "Cluster 21: helping others, people around, lasting mark",
          "Cluster 6: machine learning, learning models, learning algorithms",
          "Cluster 23: data analysis, results clear, track record",
          "Cluster 0: team player, ability work, team members",
          "Cluster 11: data sets, data analysis, data sources",
          "Cluster 15: years experience, experience data, data science",
          "Cluster 26: working environment, work environment, professional development",
          "Cluster 28: fluent english, communication skills, english fluent",
          "Cluster 7: communication skills, excellent communication, skills excellent",
          "Cluster 9: attention detail, natural language, social media",
          "Cluster 13: data science, data scientists, data scientist",
          "Cluster 16: business stakeholders, work closely, internal external",
          "Cluster 25: business problems, translate business, understand business",
          "Cluster 12: machine learning, learning techniques, machine learning,",
          "Cluster 22: version control, software engineering, best practices",
          "Cluster 10: experience working, software development, project management",
          "Cluster 30: computer science, computer science, master’s degree",
          "Cluster 18: programming skills, programming languages, data science"
         ],
         "yaxis": "y"
        },
        {
         "alignmentgroup": "True",
         "customdata": [
          [
           0.14917127071823205
          ],
          [
           0.1703499079189687
          ],
          [
           0.1887661141804788
          ],
          [
           0.23296500920810312
          ],
          [
           0.23756906077348067
          ],
          [
           0.23756906077348067
          ],
          [
           0.2440147329650092
          ],
          [
           0.27440147329650094
          ],
          [
           0.27716390423572745
          ],
          [
           0.2918968692449355
          ],
          [
           0.3029465930018416
          ],
          [
           0.31123388581952116
          ],
          [
           0.3241252302025783
          ],
          [
           0.3370165745856354
          ],
          [
           0.3453038674033149
          ],
          [
           0.358195211786372
          ],
          [
           0.36095764272559855
          ],
          [
           0.3876611418047882
          ],
          [
           0.38950276243093923
          ],
          [
           0.39134438305709024
          ],
          [
           0.40239410681399634
          ],
          [
           0.4143646408839779
          ],
          [
           0.42173112338858193
          ],
          [
           0.4281767955801105
          ],
          [
           0.429097605893186
          ],
          [
           0.43370165745856354
          ],
          [
           0.43646408839779005
          ],
          [
           0.4429097605893186
          ],
          [
           0.4604051565377532
          ],
          [
           0.5359116022099447
          ],
          [
           0.5377532228360957
          ]
         ],
         "hovertemplate": "variable=Presence_Cluster_in_Job_Postings<br>value=%{x}<br>labels=%{y}<br>presence=%{customdata[0]}<extra></extra>",
         "legendgroup": "Presence_Cluster_in_Job_Postings",
         "marker": {
          "color": "#EF553B"
         },
         "name": "Presence_Cluster_in_Job_Postings",
         "offsetgroup": "Presence_Cluster_in_Job_Postings",
         "orientation": "h",
         "showlegend": true,
         "textposition": "auto",
         "type": "bar",
         "x": [
          0.14917127071823205,
          0.1703499079189687,
          0.1887661141804788,
          0.15018706474816784,
          0.0621054322155668,
          0.23756906077348067,
          0.11468851425563853,
          0.27440147329650094,
          0.27716390423572745,
          0.2918968692449355,
          0.3029465930018416,
          0.13578353492924378,
          0.12851370737940226,
          0.2095865011585996,
          0.3453038674033149,
          0.358195211786372,
          0.36095764272559855,
          0.3876611418047882,
          0.38950276243093923,
          0.1847369165103442,
          0.09602568678509782,
          0.4143646408839779,
          0.3197657793204276,
          0.21234978683912925,
          0.429097605893186,
          0.43370165745856354,
          0.15595738855600128,
          0.3174591002236966,
          0.4604051565377532,
          0.5359116022099447,
          0.28809358969449683
         ],
         "xaxis": "x",
         "y": [
          "Cluster 24: deep learning, machine learning, experience deep",
          "Cluster 20: experience working, single cell, next-generation sequencing",
          "Cluster 3: years experience, related field, years relevant",
          "Cluster 27: experience cloud, google cloud, cloud computing",
          "Cluster 1: knowledge sql, relational databases, sql queries",
          "Cluster 5: track record, research projects, scientific technical",
          "Cluster 14: data visualization, visualization tools, experience data",
          "Cluster 19: predictive models, machine learning, model performance",
          "Cluster 2: ability work, work independently, fast-paced environment",
          "Cluster 8: big data, experience working, experience big",
          "Cluster 17: problem-solving skills, problem solving, strong analytical",
          "Cluster 4: learn new, new technologies, eager learn",
          "Cluster 29: data quality, data management, data pipelines",
          "Cluster 21: helping others, people around, lasting mark",
          "Cluster 6: machine learning, learning models, learning algorithms",
          "Cluster 23: data analysis, results clear, track record",
          "Cluster 0: team player, ability work, team members",
          "Cluster 11: data sets, data analysis, data sources",
          "Cluster 15: years experience, experience data, data science",
          "Cluster 26: working environment, work environment, professional development",
          "Cluster 28: fluent english, communication skills, english fluent",
          "Cluster 7: communication skills, excellent communication, skills excellent",
          "Cluster 9: attention detail, natural language, social media",
          "Cluster 13: data science, data scientists, data scientist",
          "Cluster 16: business stakeholders, work closely, internal external",
          "Cluster 25: business problems, translate business, understand business",
          "Cluster 12: machine learning, learning techniques, machine learning,",
          "Cluster 22: version control, software engineering, best practices",
          "Cluster 10: experience working, software development, project management",
          "Cluster 30: computer science, computer science, master’s degree",
          "Cluster 18: programming skills, programming languages, data science"
         ],
         "yaxis": "y"
        }
       ],
       "layout": {
        "barmode": "relative",
        "legend": {
         "title": {
          "text": "variable"
         },
         "tracegroupgap": 0
        },
        "margin": {
         "t": 60
        },
        "template": {
         "data": {
          "bar": [
           {
            "error_x": {
             "color": "#2a3f5f"
            },
            "error_y": {
             "color": "#2a3f5f"
            },
            "marker": {
             "line": {
              "color": "#E5ECF6",
              "width": 0.5
             }
            },
            "type": "bar"
           }
          ],
          "barpolar": [
           {
            "marker": {
             "line": {
              "color": "#E5ECF6",
              "width": 0.5
             }
            },
            "type": "barpolar"
           }
          ],
          "carpet": [
           {
            "aaxis": {
             "endlinecolor": "#2a3f5f",
             "gridcolor": "white",
             "linecolor": "white",
             "minorgridcolor": "white",
             "startlinecolor": "#2a3f5f"
            },
            "baxis": {
             "endlinecolor": "#2a3f5f",
             "gridcolor": "white",
             "linecolor": "white",
             "minorgridcolor": "white",
             "startlinecolor": "#2a3f5f"
            },
            "type": "carpet"
           }
          ],
          "choropleth": [
           {
            "colorbar": {
             "outlinewidth": 0,
             "ticks": ""
            },
            "type": "choropleth"
           }
          ],
          "contour": [
           {
            "colorbar": {
             "outlinewidth": 0,
             "ticks": ""
            },
            "colorscale": [
             [
              0,
              "#0d0887"
             ],
             [
              0.1111111111111111,
              "#46039f"
             ],
             [
              0.2222222222222222,
              "#7201a8"
             ],
             [
              0.3333333333333333,
              "#9c179e"
             ],
             [
              0.4444444444444444,
              "#bd3786"
             ],
             [
              0.5555555555555556,
              "#d8576b"
             ],
             [
              0.6666666666666666,
              "#ed7953"
             ],
             [
              0.7777777777777778,
              "#fb9f3a"
             ],
             [
              0.8888888888888888,
              "#fdca26"
             ],
             [
              1,
              "#f0f921"
             ]
            ],
            "type": "contour"
           }
          ],
          "contourcarpet": [
           {
            "colorbar": {
             "outlinewidth": 0,
             "ticks": ""
            },
            "type": "contourcarpet"
           }
          ],
          "heatmap": [
           {
            "colorbar": {
             "outlinewidth": 0,
             "ticks": ""
            },
            "colorscale": [
             [
              0,
              "#0d0887"
             ],
             [
              0.1111111111111111,
              "#46039f"
             ],
             [
              0.2222222222222222,
              "#7201a8"
             ],
             [
              0.3333333333333333,
              "#9c179e"
             ],
             [
              0.4444444444444444,
              "#bd3786"
             ],
             [
              0.5555555555555556,
              "#d8576b"
             ],
             [
              0.6666666666666666,
              "#ed7953"
             ],
             [
              0.7777777777777778,
              "#fb9f3a"
             ],
             [
              0.8888888888888888,
              "#fdca26"
             ],
             [
              1,
              "#f0f921"
             ]
            ],
            "type": "heatmap"
           }
          ],
          "heatmapgl": [
           {
            "colorbar": {
             "outlinewidth": 0,
             "ticks": ""
            },
            "colorscale": [
             [
              0,
              "#0d0887"
             ],
             [
              0.1111111111111111,
              "#46039f"
             ],
             [
              0.2222222222222222,
              "#7201a8"
             ],
             [
              0.3333333333333333,
              "#9c179e"
             ],
             [
              0.4444444444444444,
              "#bd3786"
             ],
             [
              0.5555555555555556,
              "#d8576b"
             ],
             [
              0.6666666666666666,
              "#ed7953"
             ],
             [
              0.7777777777777778,
              "#fb9f3a"
             ],
             [
              0.8888888888888888,
              "#fdca26"
             ],
             [
              1,
              "#f0f921"
             ]
            ],
            "type": "heatmapgl"
           }
          ],
          "histogram": [
           {
            "marker": {
             "colorbar": {
              "outlinewidth": 0,
              "ticks": ""
             }
            },
            "type": "histogram"
           }
          ],
          "histogram2d": [
           {
            "colorbar": {
             "outlinewidth": 0,
             "ticks": ""
            },
            "colorscale": [
             [
              0,
              "#0d0887"
             ],
             [
              0.1111111111111111,
              "#46039f"
             ],
             [
              0.2222222222222222,
              "#7201a8"
             ],
             [
              0.3333333333333333,
              "#9c179e"
             ],
             [
              0.4444444444444444,
              "#bd3786"
             ],
             [
              0.5555555555555556,
              "#d8576b"
             ],
             [
              0.6666666666666666,
              "#ed7953"
             ],
             [
              0.7777777777777778,
              "#fb9f3a"
             ],
             [
              0.8888888888888888,
              "#fdca26"
             ],
             [
              1,
              "#f0f921"
             ]
            ],
            "type": "histogram2d"
           }
          ],
          "histogram2dcontour": [
           {
            "colorbar": {
             "outlinewidth": 0,
             "ticks": ""
            },
            "colorscale": [
             [
              0,
              "#0d0887"
             ],
             [
              0.1111111111111111,
              "#46039f"
             ],
             [
              0.2222222222222222,
              "#7201a8"
             ],
             [
              0.3333333333333333,
              "#9c179e"
             ],
             [
              0.4444444444444444,
              "#bd3786"
             ],
             [
              0.5555555555555556,
              "#d8576b"
             ],
             [
              0.6666666666666666,
              "#ed7953"
             ],
             [
              0.7777777777777778,
              "#fb9f3a"
             ],
             [
              0.8888888888888888,
              "#fdca26"
             ],
             [
              1,
              "#f0f921"
             ]
            ],
            "type": "histogram2dcontour"
           }
          ],
          "mesh3d": [
           {
            "colorbar": {
             "outlinewidth": 0,
             "ticks": ""
            },
            "type": "mesh3d"
           }
          ],
          "parcoords": [
           {
            "line": {
             "colorbar": {
              "outlinewidth": 0,
              "ticks": ""
             }
            },
            "type": "parcoords"
           }
          ],
          "pie": [
           {
            "automargin": true,
            "type": "pie"
           }
          ],
          "scatter": [
           {
            "marker": {
             "colorbar": {
              "outlinewidth": 0,
              "ticks": ""
             }
            },
            "type": "scatter"
           }
          ],
          "scatter3d": [
           {
            "line": {
             "colorbar": {
              "outlinewidth": 0,
              "ticks": ""
             }
            },
            "marker": {
             "colorbar": {
              "outlinewidth": 0,
              "ticks": ""
             }
            },
            "type": "scatter3d"
           }
          ],
          "scattercarpet": [
           {
            "marker": {
             "colorbar": {
              "outlinewidth": 0,
              "ticks": ""
             }
            },
            "type": "scattercarpet"
           }
          ],
          "scattergeo": [
           {
            "marker": {
             "colorbar": {
              "outlinewidth": 0,
              "ticks": ""
             }
            },
            "type": "scattergeo"
           }
          ],
          "scattergl": [
           {
            "marker": {
             "colorbar": {
              "outlinewidth": 0,
              "ticks": ""
             }
            },
            "type": "scattergl"
           }
          ],
          "scattermapbox": [
           {
            "marker": {
             "colorbar": {
              "outlinewidth": 0,
              "ticks": ""
             }
            },
            "type": "scattermapbox"
           }
          ],
          "scatterpolar": [
           {
            "marker": {
             "colorbar": {
              "outlinewidth": 0,
              "ticks": ""
             }
            },
            "type": "scatterpolar"
           }
          ],
          "scatterpolargl": [
           {
            "marker": {
             "colorbar": {
              "outlinewidth": 0,
              "ticks": ""
             }
            },
            "type": "scatterpolargl"
           }
          ],
          "scatterternary": [
           {
            "marker": {
             "colorbar": {
              "outlinewidth": 0,
              "ticks": ""
             }
            },
            "type": "scatterternary"
           }
          ],
          "surface": [
           {
            "colorbar": {
             "outlinewidth": 0,
             "ticks": ""
            },
            "colorscale": [
             [
              0,
              "#0d0887"
             ],
             [
              0.1111111111111111,
              "#46039f"
             ],
             [
              0.2222222222222222,
              "#7201a8"
             ],
             [
              0.3333333333333333,
              "#9c179e"
             ],
             [
              0.4444444444444444,
              "#bd3786"
             ],
             [
              0.5555555555555556,
              "#d8576b"
             ],
             [
              0.6666666666666666,
              "#ed7953"
             ],
             [
              0.7777777777777778,
              "#fb9f3a"
             ],
             [
              0.8888888888888888,
              "#fdca26"
             ],
             [
              1,
              "#f0f921"
             ]
            ],
            "type": "surface"
           }
          ],
          "table": [
           {
            "cells": {
             "fill": {
              "color": "#EBF0F8"
             },
             "line": {
              "color": "white"
             }
            },
            "header": {
             "fill": {
              "color": "#C8D4E3"
             },
             "line": {
              "color": "white"
             }
            },
            "type": "table"
           }
          ]
         },
         "layout": {
          "annotationdefaults": {
           "arrowcolor": "#2a3f5f",
           "arrowhead": 0,
           "arrowwidth": 1
          },
          "autotypenumbers": "strict",
          "coloraxis": {
           "colorbar": {
            "outlinewidth": 0,
            "ticks": ""
           }
          },
          "colorscale": {
           "diverging": [
            [
             0,
             "#8e0152"
            ],
            [
             0.1,
             "#c51b7d"
            ],
            [
             0.2,
             "#de77ae"
            ],
            [
             0.3,
             "#f1b6da"
            ],
            [
             0.4,
             "#fde0ef"
            ],
            [
             0.5,
             "#f7f7f7"
            ],
            [
             0.6,
             "#e6f5d0"
            ],
            [
             0.7,
             "#b8e186"
            ],
            [
             0.8,
             "#7fbc41"
            ],
            [
             0.9,
             "#4d9221"
            ],
            [
             1,
             "#276419"
            ]
           ],
           "sequential": [
            [
             0,
             "#0d0887"
            ],
            [
             0.1111111111111111,
             "#46039f"
            ],
            [
             0.2222222222222222,
             "#7201a8"
            ],
            [
             0.3333333333333333,
             "#9c179e"
            ],
            [
             0.4444444444444444,
             "#bd3786"
            ],
            [
             0.5555555555555556,
             "#d8576b"
            ],
            [
             0.6666666666666666,
             "#ed7953"
            ],
            [
             0.7777777777777778,
             "#fb9f3a"
            ],
            [
             0.8888888888888888,
             "#fdca26"
            ],
            [
             1,
             "#f0f921"
            ]
           ],
           "sequentialminus": [
            [
             0,
             "#0d0887"
            ],
            [
             0.1111111111111111,
             "#46039f"
            ],
            [
             0.2222222222222222,
             "#7201a8"
            ],
            [
             0.3333333333333333,
             "#9c179e"
            ],
            [
             0.4444444444444444,
             "#bd3786"
            ],
            [
             0.5555555555555556,
             "#d8576b"
            ],
            [
             0.6666666666666666,
             "#ed7953"
            ],
            [
             0.7777777777777778,
             "#fb9f3a"
            ],
            [
             0.8888888888888888,
             "#fdca26"
            ],
            [
             1,
             "#f0f921"
            ]
           ]
          },
          "colorway": [
           "#636efa",
           "#EF553B",
           "#00cc96",
           "#ab63fa",
           "#FFA15A",
           "#19d3f3",
           "#FF6692",
           "#B6E880",
           "#FF97FF",
           "#FECB52"
          ],
          "font": {
           "color": "#2a3f5f"
          },
          "geo": {
           "bgcolor": "white",
           "lakecolor": "white",
           "landcolor": "#E5ECF6",
           "showlakes": true,
           "showland": true,
           "subunitcolor": "white"
          },
          "hoverlabel": {
           "align": "left"
          },
          "hovermode": "closest",
          "mapbox": {
           "style": "light"
          },
          "paper_bgcolor": "white",
          "plot_bgcolor": "#E5ECF6",
          "polar": {
           "angularaxis": {
            "gridcolor": "white",
            "linecolor": "white",
            "ticks": ""
           },
           "bgcolor": "#E5ECF6",
           "radialaxis": {
            "gridcolor": "white",
            "linecolor": "white",
            "ticks": ""
           }
          },
          "scene": {
           "xaxis": {
            "backgroundcolor": "#E5ECF6",
            "gridcolor": "white",
            "gridwidth": 2,
            "linecolor": "white",
            "showbackground": true,
            "ticks": "",
            "zerolinecolor": "white"
           },
           "yaxis": {
            "backgroundcolor": "#E5ECF6",
            "gridcolor": "white",
            "gridwidth": 2,
            "linecolor": "white",
            "showbackground": true,
            "ticks": "",
            "zerolinecolor": "white"
           },
           "zaxis": {
            "backgroundcolor": "#E5ECF6",
            "gridcolor": "white",
            "gridwidth": 2,
            "linecolor": "white",
            "showbackground": true,
            "ticks": "",
            "zerolinecolor": "white"
           }
          },
          "shapedefaults": {
           "line": {
            "color": "#2a3f5f"
           }
          },
          "ternary": {
           "aaxis": {
            "gridcolor": "white",
            "linecolor": "white",
            "ticks": ""
           },
           "baxis": {
            "gridcolor": "white",
            "linecolor": "white",
            "ticks": ""
           },
           "bgcolor": "#E5ECF6",
           "caxis": {
            "gridcolor": "white",
            "linecolor": "white",
            "ticks": ""
           }
          },
          "title": {
           "x": 0.05
          },
          "xaxis": {
           "automargin": true,
           "gridcolor": "white",
           "linecolor": "white",
           "ticks": "",
           "title": {
            "standoff": 15
           },
           "zerolinecolor": "white",
           "zerolinewidth": 2
          },
          "yaxis": {
           "automargin": true,
           "gridcolor": "white",
           "linecolor": "white",
           "ticks": "",
           "title": {
            "standoff": 15
           },
           "zerolinecolor": "white",
           "zerolinewidth": 2
          }
         }
        },
        "xaxis": {
         "anchor": "y",
         "domain": [
          0,
          1
         ],
         "title": {
          "text": "value"
         }
        },
        "yaxis": {
         "anchor": "x",
         "domain": [
          0,
          1
         ],
         "title": {
          "text": "labels"
         }
        }
       }
      },
      "text/html": [
       "<div>                            <div id=\"027bb049-5f1b-421d-9911-be2cf971a4c5\" class=\"plotly-graph-div\" style=\"height:525px; width:100%;\"></div>            <script type=\"text/javascript\">                require([\"plotly\"], function(Plotly) {                    window.PLOTLYENV=window.PLOTLYENV || {};                                    if (document.getElementById(\"027bb049-5f1b-421d-9911-be2cf971a4c5\")) {                    Plotly.newPlot(                        \"027bb049-5f1b-421d-9911-be2cf971a4c5\",                        [{\"alignmentgroup\": \"True\", \"customdata\": [[0.14917127071823205], [0.1703499079189687], [0.1887661141804788], [0.23296500920810312], [0.23756906077348067], [0.23756906077348067], [0.2440147329650092], [0.27440147329650094], [0.27716390423572745], [0.2918968692449355], [0.3029465930018416], [0.31123388581952116], [0.3241252302025783], [0.3370165745856354], [0.3453038674033149], [0.358195211786372], [0.36095764272559855], [0.3876611418047882], [0.38950276243093923], [0.39134438305709024], [0.40239410681399634], [0.4143646408839779], [0.42173112338858193], [0.4281767955801105], [0.429097605893186], [0.43370165745856354], [0.43646408839779005], [0.4429097605893186], [0.4604051565377532], [0.5359116022099447], [0.5377532228360957]], \"hovertemplate\": \"variable=CV_similarity<br>value=%{x}<br>labels=%{y}<br>presence=%{customdata[0]}<extra></extra>\", \"legendgroup\": \"CV_similarity\", \"marker\": {\"color\": \"#636efa\"}, \"name\": \"CV_similarity\", \"offsetgroup\": \"CV_similarity\", \"orientation\": \"h\", \"showlegend\": true, \"textposition\": \"auto\", \"type\": \"bar\", \"x\": [0.0, 0.0, 0.0, 0.08277794445993526, 0.17546362855791386, 0.0, 0.12932621870937067, 0.0, 0.0, 0.0, 0.0, 0.17545035089027738, 0.195611522823176, 0.1274300734270358, 0.0, 0.0, 0.0, 0.0, 0.0, 0.20660746654674603, 0.3063684200288985, 0.0, 0.10196534406815436, 0.21582700874098126, 0.0, 0.0, 0.2805066998417888, 0.12545066036562194, 0.0, 0.0, 0.24965963314159892], \"xaxis\": \"x\", \"y\": [\"Cluster 24: deep learning, machine learning, experience deep\", \"Cluster 20: experience working, single cell, next-generation sequencing\", \"Cluster 3: years experience, related field, years relevant\", \"Cluster 27: experience cloud, google cloud, cloud computing\", \"Cluster 1: knowledge sql, relational databases, sql queries\", \"Cluster 5: track record, research projects, scientific technical\", \"Cluster 14: data visualization, visualization tools, experience data\", \"Cluster 19: predictive models, machine learning, model performance\", \"Cluster 2: ability work, work independently, fast-paced environment\", \"Cluster 8: big data, experience working, experience big\", \"Cluster 17: problem-solving skills, problem solving, strong analytical\", \"Cluster 4: learn new, new technologies, eager learn\", \"Cluster 29: data quality, data management, data pipelines\", \"Cluster 21: helping others, people around, lasting mark\", \"Cluster 6: machine learning, learning models, learning algorithms\", \"Cluster 23: data analysis, results clear, track record\", \"Cluster 0: team player, ability work, team members\", \"Cluster 11: data sets, data analysis, data sources\", \"Cluster 15: years experience, experience data, data science\", \"Cluster 26: working environment, work environment, professional development\", \"Cluster 28: fluent english, communication skills, english fluent\", \"Cluster 7: communication skills, excellent communication, skills excellent\", \"Cluster 9: attention detail, natural language, social media\", \"Cluster 13: data science, data scientists, data scientist\", \"Cluster 16: business stakeholders, work closely, internal external\", \"Cluster 25: business problems, translate business, understand business\", \"Cluster 12: machine learning, learning techniques, machine learning,\", \"Cluster 22: version control, software engineering, best practices\", \"Cluster 10: experience working, software development, project management\", \"Cluster 30: computer science, computer science, master\\u2019s degree\", \"Cluster 18: programming skills, programming languages, data science\"], \"yaxis\": \"y\"}, {\"alignmentgroup\": \"True\", \"customdata\": [[0.14917127071823205], [0.1703499079189687], [0.1887661141804788], [0.23296500920810312], [0.23756906077348067], [0.23756906077348067], [0.2440147329650092], [0.27440147329650094], [0.27716390423572745], [0.2918968692449355], [0.3029465930018416], [0.31123388581952116], [0.3241252302025783], [0.3370165745856354], [0.3453038674033149], [0.358195211786372], [0.36095764272559855], [0.3876611418047882], [0.38950276243093923], [0.39134438305709024], [0.40239410681399634], [0.4143646408839779], [0.42173112338858193], [0.4281767955801105], [0.429097605893186], [0.43370165745856354], [0.43646408839779005], [0.4429097605893186], [0.4604051565377532], [0.5359116022099447], [0.5377532228360957]], \"hovertemplate\": \"variable=Presence_Cluster_in_Job_Postings<br>value=%{x}<br>labels=%{y}<br>presence=%{customdata[0]}<extra></extra>\", \"legendgroup\": \"Presence_Cluster_in_Job_Postings\", \"marker\": {\"color\": \"#EF553B\"}, \"name\": \"Presence_Cluster_in_Job_Postings\", \"offsetgroup\": \"Presence_Cluster_in_Job_Postings\", \"orientation\": \"h\", \"showlegend\": true, \"textposition\": \"auto\", \"type\": \"bar\", \"x\": [0.14917127071823205, 0.1703499079189687, 0.1887661141804788, 0.15018706474816784, 0.0621054322155668, 0.23756906077348067, 0.11468851425563853, 0.27440147329650094, 0.27716390423572745, 0.2918968692449355, 0.3029465930018416, 0.13578353492924378, 0.12851370737940226, 0.2095865011585996, 0.3453038674033149, 0.358195211786372, 0.36095764272559855, 0.3876611418047882, 0.38950276243093923, 0.1847369165103442, 0.09602568678509782, 0.4143646408839779, 0.3197657793204276, 0.21234978683912925, 0.429097605893186, 0.43370165745856354, 0.15595738855600128, 0.3174591002236966, 0.4604051565377532, 0.5359116022099447, 0.28809358969449683], \"xaxis\": \"x\", \"y\": [\"Cluster 24: deep learning, machine learning, experience deep\", \"Cluster 20: experience working, single cell, next-generation sequencing\", \"Cluster 3: years experience, related field, years relevant\", \"Cluster 27: experience cloud, google cloud, cloud computing\", \"Cluster 1: knowledge sql, relational databases, sql queries\", \"Cluster 5: track record, research projects, scientific technical\", \"Cluster 14: data visualization, visualization tools, experience data\", \"Cluster 19: predictive models, machine learning, model performance\", \"Cluster 2: ability work, work independently, fast-paced environment\", \"Cluster 8: big data, experience working, experience big\", \"Cluster 17: problem-solving skills, problem solving, strong analytical\", \"Cluster 4: learn new, new technologies, eager learn\", \"Cluster 29: data quality, data management, data pipelines\", \"Cluster 21: helping others, people around, lasting mark\", \"Cluster 6: machine learning, learning models, learning algorithms\", \"Cluster 23: data analysis, results clear, track record\", \"Cluster 0: team player, ability work, team members\", \"Cluster 11: data sets, data analysis, data sources\", \"Cluster 15: years experience, experience data, data science\", \"Cluster 26: working environment, work environment, professional development\", \"Cluster 28: fluent english, communication skills, english fluent\", \"Cluster 7: communication skills, excellent communication, skills excellent\", \"Cluster 9: attention detail, natural language, social media\", \"Cluster 13: data science, data scientists, data scientist\", \"Cluster 16: business stakeholders, work closely, internal external\", \"Cluster 25: business problems, translate business, understand business\", \"Cluster 12: machine learning, learning techniques, machine learning,\", \"Cluster 22: version control, software engineering, best practices\", \"Cluster 10: experience working, software development, project management\", \"Cluster 30: computer science, computer science, master\\u2019s degree\", \"Cluster 18: programming skills, programming languages, data science\"], \"yaxis\": \"y\"}],                        {\"barmode\": \"relative\", \"legend\": {\"title\": {\"text\": \"variable\"}, \"tracegroupgap\": 0}, \"margin\": {\"t\": 60}, \"template\": {\"data\": {\"bar\": [{\"error_x\": {\"color\": \"#2a3f5f\"}, \"error_y\": {\"color\": \"#2a3f5f\"}, \"marker\": {\"line\": {\"color\": \"#E5ECF6\", \"width\": 0.5}}, \"type\": \"bar\"}], \"barpolar\": [{\"marker\": {\"line\": {\"color\": \"#E5ECF6\", \"width\": 0.5}}, \"type\": \"barpolar\"}], \"carpet\": [{\"aaxis\": {\"endlinecolor\": \"#2a3f5f\", \"gridcolor\": \"white\", \"linecolor\": \"white\", \"minorgridcolor\": \"white\", \"startlinecolor\": \"#2a3f5f\"}, \"baxis\": {\"endlinecolor\": \"#2a3f5f\", \"gridcolor\": \"white\", \"linecolor\": \"white\", \"minorgridcolor\": \"white\", \"startlinecolor\": \"#2a3f5f\"}, \"type\": \"carpet\"}], \"choropleth\": [{\"colorbar\": {\"outlinewidth\": 0, \"ticks\": \"\"}, \"type\": \"choropleth\"}], \"contour\": [{\"colorbar\": {\"outlinewidth\": 0, \"ticks\": \"\"}, \"colorscale\": [[0.0, \"#0d0887\"], [0.1111111111111111, \"#46039f\"], [0.2222222222222222, \"#7201a8\"], [0.3333333333333333, \"#9c179e\"], [0.4444444444444444, \"#bd3786\"], [0.5555555555555556, \"#d8576b\"], [0.6666666666666666, \"#ed7953\"], [0.7777777777777778, \"#fb9f3a\"], [0.8888888888888888, \"#fdca26\"], [1.0, \"#f0f921\"]], \"type\": \"contour\"}], \"contourcarpet\": [{\"colorbar\": {\"outlinewidth\": 0, \"ticks\": \"\"}, \"type\": \"contourcarpet\"}], \"heatmap\": [{\"colorbar\": {\"outlinewidth\": 0, \"ticks\": \"\"}, \"colorscale\": [[0.0, \"#0d0887\"], [0.1111111111111111, \"#46039f\"], [0.2222222222222222, \"#7201a8\"], [0.3333333333333333, \"#9c179e\"], [0.4444444444444444, \"#bd3786\"], [0.5555555555555556, \"#d8576b\"], [0.6666666666666666, \"#ed7953\"], [0.7777777777777778, \"#fb9f3a\"], [0.8888888888888888, \"#fdca26\"], [1.0, \"#f0f921\"]], \"type\": \"heatmap\"}], \"heatmapgl\": [{\"colorbar\": {\"outlinewidth\": 0, \"ticks\": \"\"}, \"colorscale\": [[0.0, \"#0d0887\"], [0.1111111111111111, \"#46039f\"], [0.2222222222222222, \"#7201a8\"], [0.3333333333333333, \"#9c179e\"], [0.4444444444444444, \"#bd3786\"], [0.5555555555555556, \"#d8576b\"], [0.6666666666666666, \"#ed7953\"], [0.7777777777777778, \"#fb9f3a\"], [0.8888888888888888, \"#fdca26\"], [1.0, \"#f0f921\"]], \"type\": \"heatmapgl\"}], \"histogram\": [{\"marker\": {\"colorbar\": {\"outlinewidth\": 0, \"ticks\": \"\"}}, \"type\": \"histogram\"}], \"histogram2d\": [{\"colorbar\": {\"outlinewidth\": 0, \"ticks\": \"\"}, \"colorscale\": [[0.0, \"#0d0887\"], [0.1111111111111111, \"#46039f\"], [0.2222222222222222, \"#7201a8\"], [0.3333333333333333, \"#9c179e\"], [0.4444444444444444, \"#bd3786\"], [0.5555555555555556, \"#d8576b\"], [0.6666666666666666, \"#ed7953\"], [0.7777777777777778, \"#fb9f3a\"], [0.8888888888888888, \"#fdca26\"], [1.0, \"#f0f921\"]], \"type\": \"histogram2d\"}], \"histogram2dcontour\": [{\"colorbar\": {\"outlinewidth\": 0, \"ticks\": \"\"}, \"colorscale\": [[0.0, \"#0d0887\"], [0.1111111111111111, \"#46039f\"], [0.2222222222222222, \"#7201a8\"], [0.3333333333333333, \"#9c179e\"], [0.4444444444444444, \"#bd3786\"], [0.5555555555555556, \"#d8576b\"], [0.6666666666666666, \"#ed7953\"], [0.7777777777777778, \"#fb9f3a\"], [0.8888888888888888, \"#fdca26\"], [1.0, \"#f0f921\"]], \"type\": \"histogram2dcontour\"}], \"mesh3d\": [{\"colorbar\": {\"outlinewidth\": 0, \"ticks\": \"\"}, \"type\": \"mesh3d\"}], \"parcoords\": [{\"line\": {\"colorbar\": {\"outlinewidth\": 0, \"ticks\": \"\"}}, \"type\": \"parcoords\"}], \"pie\": [{\"automargin\": true, \"type\": \"pie\"}], \"scatter\": [{\"marker\": {\"colorbar\": {\"outlinewidth\": 0, \"ticks\": \"\"}}, \"type\": \"scatter\"}], \"scatter3d\": [{\"line\": {\"colorbar\": {\"outlinewidth\": 0, \"ticks\": \"\"}}, \"marker\": {\"colorbar\": {\"outlinewidth\": 0, \"ticks\": \"\"}}, \"type\": \"scatter3d\"}], \"scattercarpet\": [{\"marker\": {\"colorbar\": {\"outlinewidth\": 0, \"ticks\": \"\"}}, \"type\": \"scattercarpet\"}], \"scattergeo\": [{\"marker\": {\"colorbar\": {\"outlinewidth\": 0, \"ticks\": \"\"}}, \"type\": \"scattergeo\"}], \"scattergl\": [{\"marker\": {\"colorbar\": {\"outlinewidth\": 0, \"ticks\": \"\"}}, \"type\": \"scattergl\"}], \"scattermapbox\": [{\"marker\": {\"colorbar\": {\"outlinewidth\": 0, \"ticks\": \"\"}}, \"type\": \"scattermapbox\"}], \"scatterpolar\": [{\"marker\": {\"colorbar\": {\"outlinewidth\": 0, \"ticks\": \"\"}}, \"type\": \"scatterpolar\"}], \"scatterpolargl\": [{\"marker\": {\"colorbar\": {\"outlinewidth\": 0, \"ticks\": \"\"}}, \"type\": \"scatterpolargl\"}], \"scatterternary\": [{\"marker\": {\"colorbar\": {\"outlinewidth\": 0, \"ticks\": \"\"}}, \"type\": \"scatterternary\"}], \"surface\": [{\"colorbar\": {\"outlinewidth\": 0, \"ticks\": \"\"}, \"colorscale\": [[0.0, \"#0d0887\"], [0.1111111111111111, \"#46039f\"], [0.2222222222222222, \"#7201a8\"], [0.3333333333333333, \"#9c179e\"], [0.4444444444444444, \"#bd3786\"], [0.5555555555555556, \"#d8576b\"], [0.6666666666666666, \"#ed7953\"], [0.7777777777777778, \"#fb9f3a\"], [0.8888888888888888, \"#fdca26\"], [1.0, \"#f0f921\"]], \"type\": \"surface\"}], \"table\": [{\"cells\": {\"fill\": {\"color\": \"#EBF0F8\"}, \"line\": {\"color\": \"white\"}}, \"header\": {\"fill\": {\"color\": \"#C8D4E3\"}, \"line\": {\"color\": \"white\"}}, \"type\": \"table\"}]}, \"layout\": {\"annotationdefaults\": {\"arrowcolor\": \"#2a3f5f\", \"arrowhead\": 0, \"arrowwidth\": 1}, \"autotypenumbers\": \"strict\", \"coloraxis\": {\"colorbar\": {\"outlinewidth\": 0, \"ticks\": \"\"}}, \"colorscale\": {\"diverging\": [[0, \"#8e0152\"], [0.1, \"#c51b7d\"], [0.2, \"#de77ae\"], [0.3, \"#f1b6da\"], [0.4, \"#fde0ef\"], [0.5, \"#f7f7f7\"], [0.6, \"#e6f5d0\"], [0.7, \"#b8e186\"], [0.8, \"#7fbc41\"], [0.9, \"#4d9221\"], [1, \"#276419\"]], \"sequential\": [[0.0, \"#0d0887\"], [0.1111111111111111, \"#46039f\"], [0.2222222222222222, \"#7201a8\"], [0.3333333333333333, \"#9c179e\"], [0.4444444444444444, \"#bd3786\"], [0.5555555555555556, \"#d8576b\"], [0.6666666666666666, \"#ed7953\"], [0.7777777777777778, \"#fb9f3a\"], [0.8888888888888888, \"#fdca26\"], [1.0, \"#f0f921\"]], \"sequentialminus\": [[0.0, \"#0d0887\"], [0.1111111111111111, \"#46039f\"], [0.2222222222222222, \"#7201a8\"], [0.3333333333333333, \"#9c179e\"], [0.4444444444444444, \"#bd3786\"], [0.5555555555555556, \"#d8576b\"], [0.6666666666666666, \"#ed7953\"], [0.7777777777777778, \"#fb9f3a\"], [0.8888888888888888, \"#fdca26\"], [1.0, \"#f0f921\"]]}, \"colorway\": [\"#636efa\", \"#EF553B\", \"#00cc96\", \"#ab63fa\", \"#FFA15A\", \"#19d3f3\", \"#FF6692\", \"#B6E880\", \"#FF97FF\", \"#FECB52\"], \"font\": {\"color\": \"#2a3f5f\"}, \"geo\": {\"bgcolor\": \"white\", \"lakecolor\": \"white\", \"landcolor\": \"#E5ECF6\", \"showlakes\": true, \"showland\": true, \"subunitcolor\": \"white\"}, \"hoverlabel\": {\"align\": \"left\"}, \"hovermode\": \"closest\", \"mapbox\": {\"style\": \"light\"}, \"paper_bgcolor\": \"white\", \"plot_bgcolor\": \"#E5ECF6\", \"polar\": {\"angularaxis\": {\"gridcolor\": \"white\", \"linecolor\": \"white\", \"ticks\": \"\"}, \"bgcolor\": \"#E5ECF6\", \"radialaxis\": {\"gridcolor\": \"white\", \"linecolor\": \"white\", \"ticks\": \"\"}}, \"scene\": {\"xaxis\": {\"backgroundcolor\": \"#E5ECF6\", \"gridcolor\": \"white\", \"gridwidth\": 2, \"linecolor\": \"white\", \"showbackground\": true, \"ticks\": \"\", \"zerolinecolor\": \"white\"}, \"yaxis\": {\"backgroundcolor\": \"#E5ECF6\", \"gridcolor\": \"white\", \"gridwidth\": 2, \"linecolor\": \"white\", \"showbackground\": true, \"ticks\": \"\", \"zerolinecolor\": \"white\"}, \"zaxis\": {\"backgroundcolor\": \"#E5ECF6\", \"gridcolor\": \"white\", \"gridwidth\": 2, \"linecolor\": \"white\", \"showbackground\": true, \"ticks\": \"\", \"zerolinecolor\": \"white\"}}, \"shapedefaults\": {\"line\": {\"color\": \"#2a3f5f\"}}, \"ternary\": {\"aaxis\": {\"gridcolor\": \"white\", \"linecolor\": \"white\", \"ticks\": \"\"}, \"baxis\": {\"gridcolor\": \"white\", \"linecolor\": \"white\", \"ticks\": \"\"}, \"bgcolor\": \"#E5ECF6\", \"caxis\": {\"gridcolor\": \"white\", \"linecolor\": \"white\", \"ticks\": \"\"}}, \"title\": {\"x\": 0.05}, \"xaxis\": {\"automargin\": true, \"gridcolor\": \"white\", \"linecolor\": \"white\", \"ticks\": \"\", \"title\": {\"standoff\": 15}, \"zerolinecolor\": \"white\", \"zerolinewidth\": 2}, \"yaxis\": {\"automargin\": true, \"gridcolor\": \"white\", \"linecolor\": \"white\", \"ticks\": \"\", \"title\": {\"standoff\": 15}, \"zerolinecolor\": \"white\", \"zerolinewidth\": 2}}}, \"xaxis\": {\"anchor\": \"y\", \"domain\": [0.0, 1.0], \"title\": {\"text\": \"value\"}}, \"yaxis\": {\"anchor\": \"x\", \"domain\": [0.0, 1.0], \"title\": {\"text\": \"labels\"}}},                        {\"responsive\": true}                    ).then(function(){\n",
       "                            \n",
       "var gd = document.getElementById('027bb049-5f1b-421d-9911-be2cf971a4c5');\n",
       "var x = new MutationObserver(function (mutations, observer) {{\n",
       "        var display = window.getComputedStyle(gd).display;\n",
       "        if (!display || display === 'none') {{\n",
       "            console.log([gd, 'removed!']);\n",
       "            Plotly.purge(gd);\n",
       "            observer.disconnect();\n",
       "        }}\n",
       "}});\n",
       "\n",
       "// Listen for the removal of the full notebook cells\n",
       "var notebookContainer = gd.closest('#notebook-container');\n",
       "if (notebookContainer) {{\n",
       "    x.observe(notebookContainer, {childList: true});\n",
       "}}\n",
       "\n",
       "// Listen for the clearing of the current output cell\n",
       "var outputEl = gd.closest('.output');\n",
       "if (outputEl) {{\n",
       "    x.observe(outputEl, {childList: true});\n",
       "}}\n",
       "\n",
       "                        })                };                });            </script>        </div>"
      ]
     },
     "metadata": {},
     "output_type": "display_data"
    }
   ],
   "source": [
    "def get_df(cv, plot):\n",
    "    df_sim = pd.DataFrame()\n",
    "    df_sim['cluster'] = range(len(k31_full.cluster_centers_))\n",
    "    \n",
    "    labels = []\n",
    "    presence = []\n",
    "    \n",
    "    for i in range(0,len(k31_full.cluster_centers_)):\n",
    "        labels.append(get_label(i))\n",
    "        presence.append(df_clusters[str(i)].mean())\n",
    "    \n",
    "    model = 'all-distilroberta-v1'\n",
    "    model = SentenceTransformer(model)\n",
    "    embeddings_cv = model.encode(cv)\n",
    "    embeddings_f = embeddings_cv.astype(float)\n",
    "    clusters_cv = k31_full.predict(embeddings_f)\n",
    "    clusters_cv_l  = clusters_cv.tolist()\n",
    "    \n",
    "    cv_scores = []\n",
    "    for i, cluster in enumerate(clusters_cv):\n",
    "        cv_scores.append(util.pytorch_cos_sim(k31_full.cluster_centers_[cluster], embeddings_f[i]).item())\n",
    "    \n",
    "    scores = []\n",
    "    for cluster in range(len(k31_full.cluster_centers_)):\n",
    "        if cluster not in clusters_cv_l:\n",
    "            scores.append(0)\n",
    "        else:\n",
    "            score = 0\n",
    "            indexes = np.where(clusters_cv==cluster)[0]\n",
    "            for i in indexes:\n",
    "                if cv_scores[i] > score:\n",
    "                    score = cv_scores[i]\n",
    "            scores.append(score)   \n",
    "    \n",
    "    df_sim['score'] = scores\n",
    "    df_sim['presence'] = presence\n",
    "    df_sim['labels'] = labels\n",
    "    \n",
    "    df_sim['CV_similarity'] = df_sim['presence']*df_sim['score']\n",
    "    df_sim['Presence_Cluster_in_Job_Postings'] = df_sim['presence']-df_sim['CV_similarity']\n",
    "    df_sim = df_sim.sort_values('presence')\n",
    "    \n",
    "    if plot:\n",
    "        fig = px.bar(df_sim, y=\"labels\", x=[\"CV_similarity\",\"Presence_Cluster_in_Job_Postings\"], hover_data = ['presence'])\n",
    "        fig.update_layout(height=800, \\\n",
    "                          title = 'Author\\'s CV similarity to requirement clusters in context of relative cluster presence',\\\n",
    "                          barmode='stack', \\\n",
    "                          yaxis_title=\"3 most common Bigrams in Cluster\",\\\n",
    "                          xaxis_title=\"CV Similarity to Cluster\")\n",
    "        fig.show()\n",
    "        fig = px.bar(df_sim, y=\"labels\", x=[\"CV_similarity\",\"Presence_Cluster_in_Job_Postings\"], hover_data = ['presence'])\n",
    "        fig.show()\n",
    "    return df_sim\n",
    "    \n",
    "df_sim = get_df(cv_koen, plot = True)"
   ]
  },
  {
   "cell_type": "code",
   "execution_count": 21,
   "metadata": {},
   "outputs": [
    {
     "data": {
      "text/html": [
       "<div>\n",
       "<style scoped>\n",
       "    .dataframe tbody tr th:only-of-type {\n",
       "        vertical-align: middle;\n",
       "    }\n",
       "\n",
       "    .dataframe tbody tr th {\n",
       "        vertical-align: top;\n",
       "    }\n",
       "\n",
       "    .dataframe thead th {\n",
       "        text-align: right;\n",
       "    }\n",
       "</style>\n",
       "<table border=\"1\" class=\"dataframe\">\n",
       "  <thead>\n",
       "    <tr style=\"text-align: right;\">\n",
       "      <th></th>\n",
       "      <th>Unnamed: 0</th>\n",
       "      <th>id</th>\n",
       "      <th>title</th>\n",
       "      <th>skill</th>\n",
       "      <th>cluster</th>\n",
       "      <th>embedding</th>\n",
       "    </tr>\n",
       "  </thead>\n",
       "  <tbody>\n",
       "    <tr>\n",
       "      <th>0</th>\n",
       "      <td>0</td>\n",
       "      <td>0</td>\n",
       "      <td>Data Scientist/Analytics Consultant</td>\n",
       "      <td>design sql, r &amp; python scripts to directly qu...</td>\n",
       "      <td>11</td>\n",
       "      <td>[0.020906170830130577, -0.02053937129676342, -...</td>\n",
       "    </tr>\n",
       "    <tr>\n",
       "      <th>1</th>\n",
       "      <td>1</td>\n",
       "      <td>0</td>\n",
       "      <td>Data Scientist/Analytics Consultant</td>\n",
       "      <td>aid in the development of predictive modeling...</td>\n",
       "      <td>6</td>\n",
       "      <td>[0.0457504577934742, -0.03818187490105629, -0....</td>\n",
       "    </tr>\n",
       "    <tr>\n",
       "      <th>2</th>\n",
       "      <td>2</td>\n",
       "      <td>0</td>\n",
       "      <td>Data Scientist/Analytics Consultant</td>\n",
       "      <td>test model fit using cross-validation and boo...</td>\n",
       "      <td>19</td>\n",
       "      <td>[-0.011868440546095371, -0.0615849532186985, -...</td>\n",
       "    </tr>\n",
       "    <tr>\n",
       "      <th>3</th>\n",
       "      <td>3</td>\n",
       "      <td>0</td>\n",
       "      <td>Data Scientist/Analytics Consultant</td>\n",
       "      <td>develop in an scrum environment with team mem...</td>\n",
       "      <td>16</td>\n",
       "      <td>[0.04099218547344208, -0.02379242517054081, 0....</td>\n",
       "    </tr>\n",
       "    <tr>\n",
       "      <th>4</th>\n",
       "      <td>4</td>\n",
       "      <td>0</td>\n",
       "      <td>Data Scientist/Analytics Consultant</td>\n",
       "      <td>model data using pandas/r dataframes, powerpi...</td>\n",
       "      <td>19</td>\n",
       "      <td>[-0.0024511003866791725, -0.02079622820019722,...</td>\n",
       "    </tr>\n",
       "  </tbody>\n",
       "</table>\n",
       "</div>"
      ],
      "text/plain": [
       "   Unnamed: 0  id                                title  \\\n",
       "0           0   0  Data Scientist/Analytics Consultant   \n",
       "1           1   0  Data Scientist/Analytics Consultant   \n",
       "2           2   0  Data Scientist/Analytics Consultant   \n",
       "3           3   0  Data Scientist/Analytics Consultant   \n",
       "4           4   0  Data Scientist/Analytics Consultant   \n",
       "\n",
       "                                               skill  cluster  \\\n",
       "0   design sql, r & python scripts to directly qu...       11   \n",
       "1   aid in the development of predictive modeling...        6   \n",
       "2   test model fit using cross-validation and boo...       19   \n",
       "3   develop in an scrum environment with team mem...       16   \n",
       "4   model data using pandas/r dataframes, powerpi...       19   \n",
       "\n",
       "                                           embedding  \n",
       "0  [0.020906170830130577, -0.02053937129676342, -...  \n",
       "1  [0.0457504577934742, -0.03818187490105629, -0....  \n",
       "2  [-0.011868440546095371, -0.0615849532186985, -...  \n",
       "3  [0.04099218547344208, -0.02379242517054081, 0....  \n",
       "4  [-0.0024511003866791725, -0.02079622820019722,...  "
      ]
     },
     "execution_count": 21,
     "metadata": {},
     "output_type": "execute_result"
    }
   ],
   "source": [
    "df_cv.head()"
   ]
  },
  {
   "cell_type": "code",
   "execution_count": 52,
   "metadata": {},
   "outputs": [],
   "source": [
    "df_candidate = df_cv[df_cv['id']==8]\n",
    "skills = df_candidate['skill'].to_list()"
   ]
  },
  {
   "cell_type": "code",
   "execution_count": 50,
   "metadata": {},
   "outputs": [
    {
     "data": {
      "application/vnd.plotly.v1+json": {
       "config": {
        "plotlyServerURL": "https://plot.ly"
       },
       "data": [
        {
         "alignmentgroup": "True",
         "customdata": [
          [
           0.14917127071823205
          ],
          [
           0.1703499079189687
          ],
          [
           0.1887661141804788
          ],
          [
           0.23296500920810312
          ],
          [
           0.23756906077348067
          ],
          [
           0.23756906077348067
          ],
          [
           0.2440147329650092
          ],
          [
           0.27440147329650094
          ],
          [
           0.27716390423572745
          ],
          [
           0.2918968692449355
          ],
          [
           0.3029465930018416
          ],
          [
           0.31123388581952116
          ],
          [
           0.3241252302025783
          ],
          [
           0.3370165745856354
          ],
          [
           0.3453038674033149
          ],
          [
           0.358195211786372
          ],
          [
           0.36095764272559855
          ],
          [
           0.3876611418047882
          ],
          [
           0.38950276243093923
          ],
          [
           0.39134438305709024
          ],
          [
           0.40239410681399634
          ],
          [
           0.4143646408839779
          ],
          [
           0.42173112338858193
          ],
          [
           0.4281767955801105
          ],
          [
           0.429097605893186
          ],
          [
           0.43370165745856354
          ],
          [
           0.43646408839779005
          ],
          [
           0.4429097605893186
          ],
          [
           0.4604051565377532
          ],
          [
           0.5359116022099447
          ],
          [
           0.5377532228360957
          ]
         ],
         "hovertemplate": "variable=CV_similarity<br>value=%{x}<br>labels=%{y}<br>presence=%{customdata[0]}<extra></extra>",
         "legendgroup": "CV_similarity",
         "marker": {
          "color": "#636efa"
         },
         "name": "CV_similarity",
         "offsetgroup": "CV_similarity",
         "orientation": "h",
         "showlegend": true,
         "textposition": "auto",
         "type": "bar",
         "x": [
          0,
          0,
          0,
          0.15710899114564408,
          0,
          0,
          0.13047929193491598,
          0,
          0,
          0,
          0,
          0,
          0,
          0,
          0.20628182509384838,
          0,
          0,
          0.25907337051717577,
          0,
          0,
          0,
          0,
          0.18139982779824637,
          0.2355878160485247,
          0,
          0,
          0.33471039934992364,
          0.2538311864440414,
          0.27998306247458443,
          0,
          0.3966590356816039
         ],
         "xaxis": "x",
         "y": [
          "Cluster 24: deep learning, machine learning, experience deep",
          "Cluster 20: experience working, single cell, next-generation sequencing",
          "Cluster 3: years experience, related field, years relevant",
          "Cluster 27: experience cloud, google cloud, cloud computing",
          "Cluster 1: knowledge sql, relational databases, sql queries",
          "Cluster 5: track record, research projects, scientific technical",
          "Cluster 14: data visualization, visualization tools, experience data",
          "Cluster 19: predictive models, machine learning, model performance",
          "Cluster 2: ability work, work independently, fast-paced environment",
          "Cluster 8: big data, experience working, experience big",
          "Cluster 17: problem-solving skills, problem solving, strong analytical",
          "Cluster 4: learn new, new technologies, eager learn",
          "Cluster 29: data quality, data management, data pipelines",
          "Cluster 21: helping others, people around, lasting mark",
          "Cluster 6: machine learning, learning models, learning algorithms",
          "Cluster 23: data analysis, results clear, track record",
          "Cluster 0: team player, ability work, team members",
          "Cluster 11: data sets, data analysis, data sources",
          "Cluster 15: years experience, experience data, data science",
          "Cluster 26: working environment, work environment, professional development",
          "Cluster 28: fluent english, communication skills, english fluent",
          "Cluster 7: communication skills, excellent communication, skills excellent",
          "Cluster 9: attention detail, natural language, social media",
          "Cluster 13: data science, data scientists, data scientist",
          "Cluster 16: business stakeholders, work closely, internal external",
          "Cluster 25: business problems, translate business, understand business",
          "Cluster 12: machine learning, learning techniques, machine learning,",
          "Cluster 22: version control, software engineering, best practices",
          "Cluster 10: experience working, software development, project management",
          "Cluster 30: computer science, computer science, master’s degree",
          "Cluster 18: programming skills, programming languages, data science"
         ],
         "yaxis": "y"
        },
        {
         "alignmentgroup": "True",
         "customdata": [
          [
           0.14917127071823205
          ],
          [
           0.1703499079189687
          ],
          [
           0.1887661141804788
          ],
          [
           0.23296500920810312
          ],
          [
           0.23756906077348067
          ],
          [
           0.23756906077348067
          ],
          [
           0.2440147329650092
          ],
          [
           0.27440147329650094
          ],
          [
           0.27716390423572745
          ],
          [
           0.2918968692449355
          ],
          [
           0.3029465930018416
          ],
          [
           0.31123388581952116
          ],
          [
           0.3241252302025783
          ],
          [
           0.3370165745856354
          ],
          [
           0.3453038674033149
          ],
          [
           0.358195211786372
          ],
          [
           0.36095764272559855
          ],
          [
           0.3876611418047882
          ],
          [
           0.38950276243093923
          ],
          [
           0.39134438305709024
          ],
          [
           0.40239410681399634
          ],
          [
           0.4143646408839779
          ],
          [
           0.42173112338858193
          ],
          [
           0.4281767955801105
          ],
          [
           0.429097605893186
          ],
          [
           0.43370165745856354
          ],
          [
           0.43646408839779005
          ],
          [
           0.4429097605893186
          ],
          [
           0.4604051565377532
          ],
          [
           0.5359116022099447
          ],
          [
           0.5377532228360957
          ]
         ],
         "hovertemplate": "variable=Presence_Cluster_in_Job_Postings<br>value=%{x}<br>labels=%{y}<br>presence=%{customdata[0]}<extra></extra>",
         "legendgroup": "Presence_Cluster_in_Job_Postings",
         "marker": {
          "color": "#EF553B"
         },
         "name": "Presence_Cluster_in_Job_Postings",
         "offsetgroup": "Presence_Cluster_in_Job_Postings",
         "orientation": "h",
         "showlegend": true,
         "textposition": "auto",
         "type": "bar",
         "x": [
          0.14917127071823205,
          0.1703499079189687,
          0.1887661141804788,
          0.07585601806245904,
          0.23756906077348067,
          0.23756906077348067,
          0.11353544103009322,
          0.27440147329650094,
          0.27716390423572745,
          0.2918968692449355,
          0.3029465930018416,
          0.31123388581952116,
          0.3241252302025783,
          0.3370165745856354,
          0.13902204230946655,
          0.358195211786372,
          0.36095764272559855,
          0.12858777128761245,
          0.38950276243093923,
          0.39134438305709024,
          0.40239410681399634,
          0.4143646408839779,
          0.24033129559033556,
          0.19258897953158582,
          0.429097605893186,
          0.43370165745856354,
          0.10175368904786641,
          0.18907857414527718,
          0.18042209406316878,
          0.5359116022099447,
          0.14109418715449185
         ],
         "xaxis": "x",
         "y": [
          "Cluster 24: deep learning, machine learning, experience deep",
          "Cluster 20: experience working, single cell, next-generation sequencing",
          "Cluster 3: years experience, related field, years relevant",
          "Cluster 27: experience cloud, google cloud, cloud computing",
          "Cluster 1: knowledge sql, relational databases, sql queries",
          "Cluster 5: track record, research projects, scientific technical",
          "Cluster 14: data visualization, visualization tools, experience data",
          "Cluster 19: predictive models, machine learning, model performance",
          "Cluster 2: ability work, work independently, fast-paced environment",
          "Cluster 8: big data, experience working, experience big",
          "Cluster 17: problem-solving skills, problem solving, strong analytical",
          "Cluster 4: learn new, new technologies, eager learn",
          "Cluster 29: data quality, data management, data pipelines",
          "Cluster 21: helping others, people around, lasting mark",
          "Cluster 6: machine learning, learning models, learning algorithms",
          "Cluster 23: data analysis, results clear, track record",
          "Cluster 0: team player, ability work, team members",
          "Cluster 11: data sets, data analysis, data sources",
          "Cluster 15: years experience, experience data, data science",
          "Cluster 26: working environment, work environment, professional development",
          "Cluster 28: fluent english, communication skills, english fluent",
          "Cluster 7: communication skills, excellent communication, skills excellent",
          "Cluster 9: attention detail, natural language, social media",
          "Cluster 13: data science, data scientists, data scientist",
          "Cluster 16: business stakeholders, work closely, internal external",
          "Cluster 25: business problems, translate business, understand business",
          "Cluster 12: machine learning, learning techniques, machine learning,",
          "Cluster 22: version control, software engineering, best practices",
          "Cluster 10: experience working, software development, project management",
          "Cluster 30: computer science, computer science, master’s degree",
          "Cluster 18: programming skills, programming languages, data science"
         ],
         "yaxis": "y"
        }
       ],
       "layout": {
        "barmode": "stack",
        "height": 800,
        "legend": {
         "title": {
          "text": "variable"
         },
         "tracegroupgap": 0
        },
        "margin": {
         "t": 60
        },
        "template": {
         "data": {
          "bar": [
           {
            "error_x": {
             "color": "#2a3f5f"
            },
            "error_y": {
             "color": "#2a3f5f"
            },
            "marker": {
             "line": {
              "color": "#E5ECF6",
              "width": 0.5
             }
            },
            "type": "bar"
           }
          ],
          "barpolar": [
           {
            "marker": {
             "line": {
              "color": "#E5ECF6",
              "width": 0.5
             }
            },
            "type": "barpolar"
           }
          ],
          "carpet": [
           {
            "aaxis": {
             "endlinecolor": "#2a3f5f",
             "gridcolor": "white",
             "linecolor": "white",
             "minorgridcolor": "white",
             "startlinecolor": "#2a3f5f"
            },
            "baxis": {
             "endlinecolor": "#2a3f5f",
             "gridcolor": "white",
             "linecolor": "white",
             "minorgridcolor": "white",
             "startlinecolor": "#2a3f5f"
            },
            "type": "carpet"
           }
          ],
          "choropleth": [
           {
            "colorbar": {
             "outlinewidth": 0,
             "ticks": ""
            },
            "type": "choropleth"
           }
          ],
          "contour": [
           {
            "colorbar": {
             "outlinewidth": 0,
             "ticks": ""
            },
            "colorscale": [
             [
              0,
              "#0d0887"
             ],
             [
              0.1111111111111111,
              "#46039f"
             ],
             [
              0.2222222222222222,
              "#7201a8"
             ],
             [
              0.3333333333333333,
              "#9c179e"
             ],
             [
              0.4444444444444444,
              "#bd3786"
             ],
             [
              0.5555555555555556,
              "#d8576b"
             ],
             [
              0.6666666666666666,
              "#ed7953"
             ],
             [
              0.7777777777777778,
              "#fb9f3a"
             ],
             [
              0.8888888888888888,
              "#fdca26"
             ],
             [
              1,
              "#f0f921"
             ]
            ],
            "type": "contour"
           }
          ],
          "contourcarpet": [
           {
            "colorbar": {
             "outlinewidth": 0,
             "ticks": ""
            },
            "type": "contourcarpet"
           }
          ],
          "heatmap": [
           {
            "colorbar": {
             "outlinewidth": 0,
             "ticks": ""
            },
            "colorscale": [
             [
              0,
              "#0d0887"
             ],
             [
              0.1111111111111111,
              "#46039f"
             ],
             [
              0.2222222222222222,
              "#7201a8"
             ],
             [
              0.3333333333333333,
              "#9c179e"
             ],
             [
              0.4444444444444444,
              "#bd3786"
             ],
             [
              0.5555555555555556,
              "#d8576b"
             ],
             [
              0.6666666666666666,
              "#ed7953"
             ],
             [
              0.7777777777777778,
              "#fb9f3a"
             ],
             [
              0.8888888888888888,
              "#fdca26"
             ],
             [
              1,
              "#f0f921"
             ]
            ],
            "type": "heatmap"
           }
          ],
          "heatmapgl": [
           {
            "colorbar": {
             "outlinewidth": 0,
             "ticks": ""
            },
            "colorscale": [
             [
              0,
              "#0d0887"
             ],
             [
              0.1111111111111111,
              "#46039f"
             ],
             [
              0.2222222222222222,
              "#7201a8"
             ],
             [
              0.3333333333333333,
              "#9c179e"
             ],
             [
              0.4444444444444444,
              "#bd3786"
             ],
             [
              0.5555555555555556,
              "#d8576b"
             ],
             [
              0.6666666666666666,
              "#ed7953"
             ],
             [
              0.7777777777777778,
              "#fb9f3a"
             ],
             [
              0.8888888888888888,
              "#fdca26"
             ],
             [
              1,
              "#f0f921"
             ]
            ],
            "type": "heatmapgl"
           }
          ],
          "histogram": [
           {
            "marker": {
             "colorbar": {
              "outlinewidth": 0,
              "ticks": ""
             }
            },
            "type": "histogram"
           }
          ],
          "histogram2d": [
           {
            "colorbar": {
             "outlinewidth": 0,
             "ticks": ""
            },
            "colorscale": [
             [
              0,
              "#0d0887"
             ],
             [
              0.1111111111111111,
              "#46039f"
             ],
             [
              0.2222222222222222,
              "#7201a8"
             ],
             [
              0.3333333333333333,
              "#9c179e"
             ],
             [
              0.4444444444444444,
              "#bd3786"
             ],
             [
              0.5555555555555556,
              "#d8576b"
             ],
             [
              0.6666666666666666,
              "#ed7953"
             ],
             [
              0.7777777777777778,
              "#fb9f3a"
             ],
             [
              0.8888888888888888,
              "#fdca26"
             ],
             [
              1,
              "#f0f921"
             ]
            ],
            "type": "histogram2d"
           }
          ],
          "histogram2dcontour": [
           {
            "colorbar": {
             "outlinewidth": 0,
             "ticks": ""
            },
            "colorscale": [
             [
              0,
              "#0d0887"
             ],
             [
              0.1111111111111111,
              "#46039f"
             ],
             [
              0.2222222222222222,
              "#7201a8"
             ],
             [
              0.3333333333333333,
              "#9c179e"
             ],
             [
              0.4444444444444444,
              "#bd3786"
             ],
             [
              0.5555555555555556,
              "#d8576b"
             ],
             [
              0.6666666666666666,
              "#ed7953"
             ],
             [
              0.7777777777777778,
              "#fb9f3a"
             ],
             [
              0.8888888888888888,
              "#fdca26"
             ],
             [
              1,
              "#f0f921"
             ]
            ],
            "type": "histogram2dcontour"
           }
          ],
          "mesh3d": [
           {
            "colorbar": {
             "outlinewidth": 0,
             "ticks": ""
            },
            "type": "mesh3d"
           }
          ],
          "parcoords": [
           {
            "line": {
             "colorbar": {
              "outlinewidth": 0,
              "ticks": ""
             }
            },
            "type": "parcoords"
           }
          ],
          "pie": [
           {
            "automargin": true,
            "type": "pie"
           }
          ],
          "scatter": [
           {
            "marker": {
             "colorbar": {
              "outlinewidth": 0,
              "ticks": ""
             }
            },
            "type": "scatter"
           }
          ],
          "scatter3d": [
           {
            "line": {
             "colorbar": {
              "outlinewidth": 0,
              "ticks": ""
             }
            },
            "marker": {
             "colorbar": {
              "outlinewidth": 0,
              "ticks": ""
             }
            },
            "type": "scatter3d"
           }
          ],
          "scattercarpet": [
           {
            "marker": {
             "colorbar": {
              "outlinewidth": 0,
              "ticks": ""
             }
            },
            "type": "scattercarpet"
           }
          ],
          "scattergeo": [
           {
            "marker": {
             "colorbar": {
              "outlinewidth": 0,
              "ticks": ""
             }
            },
            "type": "scattergeo"
           }
          ],
          "scattergl": [
           {
            "marker": {
             "colorbar": {
              "outlinewidth": 0,
              "ticks": ""
             }
            },
            "type": "scattergl"
           }
          ],
          "scattermapbox": [
           {
            "marker": {
             "colorbar": {
              "outlinewidth": 0,
              "ticks": ""
             }
            },
            "type": "scattermapbox"
           }
          ],
          "scatterpolar": [
           {
            "marker": {
             "colorbar": {
              "outlinewidth": 0,
              "ticks": ""
             }
            },
            "type": "scatterpolar"
           }
          ],
          "scatterpolargl": [
           {
            "marker": {
             "colorbar": {
              "outlinewidth": 0,
              "ticks": ""
             }
            },
            "type": "scatterpolargl"
           }
          ],
          "scatterternary": [
           {
            "marker": {
             "colorbar": {
              "outlinewidth": 0,
              "ticks": ""
             }
            },
            "type": "scatterternary"
           }
          ],
          "surface": [
           {
            "colorbar": {
             "outlinewidth": 0,
             "ticks": ""
            },
            "colorscale": [
             [
              0,
              "#0d0887"
             ],
             [
              0.1111111111111111,
              "#46039f"
             ],
             [
              0.2222222222222222,
              "#7201a8"
             ],
             [
              0.3333333333333333,
              "#9c179e"
             ],
             [
              0.4444444444444444,
              "#bd3786"
             ],
             [
              0.5555555555555556,
              "#d8576b"
             ],
             [
              0.6666666666666666,
              "#ed7953"
             ],
             [
              0.7777777777777778,
              "#fb9f3a"
             ],
             [
              0.8888888888888888,
              "#fdca26"
             ],
             [
              1,
              "#f0f921"
             ]
            ],
            "type": "surface"
           }
          ],
          "table": [
           {
            "cells": {
             "fill": {
              "color": "#EBF0F8"
             },
             "line": {
              "color": "white"
             }
            },
            "header": {
             "fill": {
              "color": "#C8D4E3"
             },
             "line": {
              "color": "white"
             }
            },
            "type": "table"
           }
          ]
         },
         "layout": {
          "annotationdefaults": {
           "arrowcolor": "#2a3f5f",
           "arrowhead": 0,
           "arrowwidth": 1
          },
          "autotypenumbers": "strict",
          "coloraxis": {
           "colorbar": {
            "outlinewidth": 0,
            "ticks": ""
           }
          },
          "colorscale": {
           "diverging": [
            [
             0,
             "#8e0152"
            ],
            [
             0.1,
             "#c51b7d"
            ],
            [
             0.2,
             "#de77ae"
            ],
            [
             0.3,
             "#f1b6da"
            ],
            [
             0.4,
             "#fde0ef"
            ],
            [
             0.5,
             "#f7f7f7"
            ],
            [
             0.6,
             "#e6f5d0"
            ],
            [
             0.7,
             "#b8e186"
            ],
            [
             0.8,
             "#7fbc41"
            ],
            [
             0.9,
             "#4d9221"
            ],
            [
             1,
             "#276419"
            ]
           ],
           "sequential": [
            [
             0,
             "#0d0887"
            ],
            [
             0.1111111111111111,
             "#46039f"
            ],
            [
             0.2222222222222222,
             "#7201a8"
            ],
            [
             0.3333333333333333,
             "#9c179e"
            ],
            [
             0.4444444444444444,
             "#bd3786"
            ],
            [
             0.5555555555555556,
             "#d8576b"
            ],
            [
             0.6666666666666666,
             "#ed7953"
            ],
            [
             0.7777777777777778,
             "#fb9f3a"
            ],
            [
             0.8888888888888888,
             "#fdca26"
            ],
            [
             1,
             "#f0f921"
            ]
           ],
           "sequentialminus": [
            [
             0,
             "#0d0887"
            ],
            [
             0.1111111111111111,
             "#46039f"
            ],
            [
             0.2222222222222222,
             "#7201a8"
            ],
            [
             0.3333333333333333,
             "#9c179e"
            ],
            [
             0.4444444444444444,
             "#bd3786"
            ],
            [
             0.5555555555555556,
             "#d8576b"
            ],
            [
             0.6666666666666666,
             "#ed7953"
            ],
            [
             0.7777777777777778,
             "#fb9f3a"
            ],
            [
             0.8888888888888888,
             "#fdca26"
            ],
            [
             1,
             "#f0f921"
            ]
           ]
          },
          "colorway": [
           "#636efa",
           "#EF553B",
           "#00cc96",
           "#ab63fa",
           "#FFA15A",
           "#19d3f3",
           "#FF6692",
           "#B6E880",
           "#FF97FF",
           "#FECB52"
          ],
          "font": {
           "color": "#2a3f5f"
          },
          "geo": {
           "bgcolor": "white",
           "lakecolor": "white",
           "landcolor": "#E5ECF6",
           "showlakes": true,
           "showland": true,
           "subunitcolor": "white"
          },
          "hoverlabel": {
           "align": "left"
          },
          "hovermode": "closest",
          "mapbox": {
           "style": "light"
          },
          "paper_bgcolor": "white",
          "plot_bgcolor": "#E5ECF6",
          "polar": {
           "angularaxis": {
            "gridcolor": "white",
            "linecolor": "white",
            "ticks": ""
           },
           "bgcolor": "#E5ECF6",
           "radialaxis": {
            "gridcolor": "white",
            "linecolor": "white",
            "ticks": ""
           }
          },
          "scene": {
           "xaxis": {
            "backgroundcolor": "#E5ECF6",
            "gridcolor": "white",
            "gridwidth": 2,
            "linecolor": "white",
            "showbackground": true,
            "ticks": "",
            "zerolinecolor": "white"
           },
           "yaxis": {
            "backgroundcolor": "#E5ECF6",
            "gridcolor": "white",
            "gridwidth": 2,
            "linecolor": "white",
            "showbackground": true,
            "ticks": "",
            "zerolinecolor": "white"
           },
           "zaxis": {
            "backgroundcolor": "#E5ECF6",
            "gridcolor": "white",
            "gridwidth": 2,
            "linecolor": "white",
            "showbackground": true,
            "ticks": "",
            "zerolinecolor": "white"
           }
          },
          "shapedefaults": {
           "line": {
            "color": "#2a3f5f"
           }
          },
          "ternary": {
           "aaxis": {
            "gridcolor": "white",
            "linecolor": "white",
            "ticks": ""
           },
           "baxis": {
            "gridcolor": "white",
            "linecolor": "white",
            "ticks": ""
           },
           "bgcolor": "#E5ECF6",
           "caxis": {
            "gridcolor": "white",
            "linecolor": "white",
            "ticks": ""
           }
          },
          "title": {
           "x": 0.05
          },
          "xaxis": {
           "automargin": true,
           "gridcolor": "white",
           "linecolor": "white",
           "ticks": "",
           "title": {
            "standoff": 15
           },
           "zerolinecolor": "white",
           "zerolinewidth": 2
          },
          "yaxis": {
           "automargin": true,
           "gridcolor": "white",
           "linecolor": "white",
           "ticks": "",
           "title": {
            "standoff": 15
           },
           "zerolinecolor": "white",
           "zerolinewidth": 2
          }
         }
        },
        "title": {
         "text": "CV similarity to requirement clusters in context of relative cluster presence"
        },
        "xaxis": {
         "anchor": "y",
         "domain": [
          0,
          1
         ],
         "title": {
          "text": "value"
         }
        },
        "yaxis": {
         "anchor": "x",
         "domain": [
          0,
          1
         ],
         "title": {
          "text": "labels"
         }
        }
       }
      },
      "text/html": [
       "<div>                            <div id=\"e19ebef0-4e16-4e51-8a55-157334af36d5\" class=\"plotly-graph-div\" style=\"height:800px; width:100%;\"></div>            <script type=\"text/javascript\">                require([\"plotly\"], function(Plotly) {                    window.PLOTLYENV=window.PLOTLYENV || {};                                    if (document.getElementById(\"e19ebef0-4e16-4e51-8a55-157334af36d5\")) {                    Plotly.newPlot(                        \"e19ebef0-4e16-4e51-8a55-157334af36d5\",                        [{\"alignmentgroup\": \"True\", \"customdata\": [[0.14917127071823205], [0.1703499079189687], [0.1887661141804788], [0.23296500920810312], [0.23756906077348067], [0.23756906077348067], [0.2440147329650092], [0.27440147329650094], [0.27716390423572745], [0.2918968692449355], [0.3029465930018416], [0.31123388581952116], [0.3241252302025783], [0.3370165745856354], [0.3453038674033149], [0.358195211786372], [0.36095764272559855], [0.3876611418047882], [0.38950276243093923], [0.39134438305709024], [0.40239410681399634], [0.4143646408839779], [0.42173112338858193], [0.4281767955801105], [0.429097605893186], [0.43370165745856354], [0.43646408839779005], [0.4429097605893186], [0.4604051565377532], [0.5359116022099447], [0.5377532228360957]], \"hovertemplate\": \"variable=CV_similarity<br>value=%{x}<br>labels=%{y}<br>presence=%{customdata[0]}<extra></extra>\", \"legendgroup\": \"CV_similarity\", \"marker\": {\"color\": \"#636efa\"}, \"name\": \"CV_similarity\", \"offsetgroup\": \"CV_similarity\", \"orientation\": \"h\", \"showlegend\": true, \"textposition\": \"auto\", \"type\": \"bar\", \"x\": [0.0, 0.0, 0.0, 0.15710899114564408, 0.0, 0.0, 0.13047929193491598, 0.0, 0.0, 0.0, 0.0, 0.0, 0.0, 0.0, 0.20628182509384838, 0.0, 0.0, 0.25907337051717577, 0.0, 0.0, 0.0, 0.0, 0.18139982779824637, 0.2355878160485247, 0.0, 0.0, 0.33471039934992364, 0.2538311864440414, 0.27998306247458443, 0.0, 0.3966590356816039], \"xaxis\": \"x\", \"y\": [\"Cluster 24: deep learning, machine learning, experience deep\", \"Cluster 20: experience working, single cell, next-generation sequencing\", \"Cluster 3: years experience, related field, years relevant\", \"Cluster 27: experience cloud, google cloud, cloud computing\", \"Cluster 1: knowledge sql, relational databases, sql queries\", \"Cluster 5: track record, research projects, scientific technical\", \"Cluster 14: data visualization, visualization tools, experience data\", \"Cluster 19: predictive models, machine learning, model performance\", \"Cluster 2: ability work, work independently, fast-paced environment\", \"Cluster 8: big data, experience working, experience big\", \"Cluster 17: problem-solving skills, problem solving, strong analytical\", \"Cluster 4: learn new, new technologies, eager learn\", \"Cluster 29: data quality, data management, data pipelines\", \"Cluster 21: helping others, people around, lasting mark\", \"Cluster 6: machine learning, learning models, learning algorithms\", \"Cluster 23: data analysis, results clear, track record\", \"Cluster 0: team player, ability work, team members\", \"Cluster 11: data sets, data analysis, data sources\", \"Cluster 15: years experience, experience data, data science\", \"Cluster 26: working environment, work environment, professional development\", \"Cluster 28: fluent english, communication skills, english fluent\", \"Cluster 7: communication skills, excellent communication, skills excellent\", \"Cluster 9: attention detail, natural language, social media\", \"Cluster 13: data science, data scientists, data scientist\", \"Cluster 16: business stakeholders, work closely, internal external\", \"Cluster 25: business problems, translate business, understand business\", \"Cluster 12: machine learning, learning techniques, machine learning,\", \"Cluster 22: version control, software engineering, best practices\", \"Cluster 10: experience working, software development, project management\", \"Cluster 30: computer science, computer science, master\\u2019s degree\", \"Cluster 18: programming skills, programming languages, data science\"], \"yaxis\": \"y\"}, {\"alignmentgroup\": \"True\", \"customdata\": [[0.14917127071823205], [0.1703499079189687], [0.1887661141804788], [0.23296500920810312], [0.23756906077348067], [0.23756906077348067], [0.2440147329650092], [0.27440147329650094], [0.27716390423572745], [0.2918968692449355], [0.3029465930018416], [0.31123388581952116], [0.3241252302025783], [0.3370165745856354], [0.3453038674033149], [0.358195211786372], [0.36095764272559855], [0.3876611418047882], [0.38950276243093923], [0.39134438305709024], [0.40239410681399634], [0.4143646408839779], [0.42173112338858193], [0.4281767955801105], [0.429097605893186], [0.43370165745856354], [0.43646408839779005], [0.4429097605893186], [0.4604051565377532], [0.5359116022099447], [0.5377532228360957]], \"hovertemplate\": \"variable=Presence_Cluster_in_Job_Postings<br>value=%{x}<br>labels=%{y}<br>presence=%{customdata[0]}<extra></extra>\", \"legendgroup\": \"Presence_Cluster_in_Job_Postings\", \"marker\": {\"color\": \"#EF553B\"}, \"name\": \"Presence_Cluster_in_Job_Postings\", \"offsetgroup\": \"Presence_Cluster_in_Job_Postings\", \"orientation\": \"h\", \"showlegend\": true, \"textposition\": \"auto\", \"type\": \"bar\", \"x\": [0.14917127071823205, 0.1703499079189687, 0.1887661141804788, 0.07585601806245904, 0.23756906077348067, 0.23756906077348067, 0.11353544103009322, 0.27440147329650094, 0.27716390423572745, 0.2918968692449355, 0.3029465930018416, 0.31123388581952116, 0.3241252302025783, 0.3370165745856354, 0.13902204230946655, 0.358195211786372, 0.36095764272559855, 0.12858777128761245, 0.38950276243093923, 0.39134438305709024, 0.40239410681399634, 0.4143646408839779, 0.24033129559033556, 0.19258897953158582, 0.429097605893186, 0.43370165745856354, 0.10175368904786641, 0.18907857414527718, 0.18042209406316878, 0.5359116022099447, 0.14109418715449185], \"xaxis\": \"x\", \"y\": [\"Cluster 24: deep learning, machine learning, experience deep\", \"Cluster 20: experience working, single cell, next-generation sequencing\", \"Cluster 3: years experience, related field, years relevant\", \"Cluster 27: experience cloud, google cloud, cloud computing\", \"Cluster 1: knowledge sql, relational databases, sql queries\", \"Cluster 5: track record, research projects, scientific technical\", \"Cluster 14: data visualization, visualization tools, experience data\", \"Cluster 19: predictive models, machine learning, model performance\", \"Cluster 2: ability work, work independently, fast-paced environment\", \"Cluster 8: big data, experience working, experience big\", \"Cluster 17: problem-solving skills, problem solving, strong analytical\", \"Cluster 4: learn new, new technologies, eager learn\", \"Cluster 29: data quality, data management, data pipelines\", \"Cluster 21: helping others, people around, lasting mark\", \"Cluster 6: machine learning, learning models, learning algorithms\", \"Cluster 23: data analysis, results clear, track record\", \"Cluster 0: team player, ability work, team members\", \"Cluster 11: data sets, data analysis, data sources\", \"Cluster 15: years experience, experience data, data science\", \"Cluster 26: working environment, work environment, professional development\", \"Cluster 28: fluent english, communication skills, english fluent\", \"Cluster 7: communication skills, excellent communication, skills excellent\", \"Cluster 9: attention detail, natural language, social media\", \"Cluster 13: data science, data scientists, data scientist\", \"Cluster 16: business stakeholders, work closely, internal external\", \"Cluster 25: business problems, translate business, understand business\", \"Cluster 12: machine learning, learning techniques, machine learning,\", \"Cluster 22: version control, software engineering, best practices\", \"Cluster 10: experience working, software development, project management\", \"Cluster 30: computer science, computer science, master\\u2019s degree\", \"Cluster 18: programming skills, programming languages, data science\"], \"yaxis\": \"y\"}],                        {\"barmode\": \"stack\", \"height\": 800, \"legend\": {\"title\": {\"text\": \"variable\"}, \"tracegroupgap\": 0}, \"margin\": {\"t\": 60}, \"template\": {\"data\": {\"bar\": [{\"error_x\": {\"color\": \"#2a3f5f\"}, \"error_y\": {\"color\": \"#2a3f5f\"}, \"marker\": {\"line\": {\"color\": \"#E5ECF6\", \"width\": 0.5}}, \"type\": \"bar\"}], \"barpolar\": [{\"marker\": {\"line\": {\"color\": \"#E5ECF6\", \"width\": 0.5}}, \"type\": \"barpolar\"}], \"carpet\": [{\"aaxis\": {\"endlinecolor\": \"#2a3f5f\", \"gridcolor\": \"white\", \"linecolor\": \"white\", \"minorgridcolor\": \"white\", \"startlinecolor\": \"#2a3f5f\"}, \"baxis\": {\"endlinecolor\": \"#2a3f5f\", \"gridcolor\": \"white\", \"linecolor\": \"white\", \"minorgridcolor\": \"white\", \"startlinecolor\": \"#2a3f5f\"}, \"type\": \"carpet\"}], \"choropleth\": [{\"colorbar\": {\"outlinewidth\": 0, \"ticks\": \"\"}, \"type\": \"choropleth\"}], \"contour\": [{\"colorbar\": {\"outlinewidth\": 0, \"ticks\": \"\"}, \"colorscale\": [[0.0, \"#0d0887\"], [0.1111111111111111, \"#46039f\"], [0.2222222222222222, \"#7201a8\"], [0.3333333333333333, \"#9c179e\"], [0.4444444444444444, \"#bd3786\"], [0.5555555555555556, \"#d8576b\"], [0.6666666666666666, \"#ed7953\"], [0.7777777777777778, \"#fb9f3a\"], [0.8888888888888888, \"#fdca26\"], [1.0, \"#f0f921\"]], \"type\": \"contour\"}], \"contourcarpet\": [{\"colorbar\": {\"outlinewidth\": 0, \"ticks\": \"\"}, \"type\": \"contourcarpet\"}], \"heatmap\": [{\"colorbar\": {\"outlinewidth\": 0, \"ticks\": \"\"}, \"colorscale\": [[0.0, \"#0d0887\"], [0.1111111111111111, \"#46039f\"], [0.2222222222222222, \"#7201a8\"], [0.3333333333333333, \"#9c179e\"], [0.4444444444444444, \"#bd3786\"], [0.5555555555555556, \"#d8576b\"], [0.6666666666666666, \"#ed7953\"], [0.7777777777777778, \"#fb9f3a\"], [0.8888888888888888, \"#fdca26\"], [1.0, \"#f0f921\"]], \"type\": \"heatmap\"}], \"heatmapgl\": [{\"colorbar\": {\"outlinewidth\": 0, \"ticks\": \"\"}, \"colorscale\": [[0.0, \"#0d0887\"], [0.1111111111111111, \"#46039f\"], [0.2222222222222222, \"#7201a8\"], [0.3333333333333333, \"#9c179e\"], [0.4444444444444444, \"#bd3786\"], [0.5555555555555556, \"#d8576b\"], [0.6666666666666666, \"#ed7953\"], [0.7777777777777778, \"#fb9f3a\"], [0.8888888888888888, \"#fdca26\"], [1.0, \"#f0f921\"]], \"type\": \"heatmapgl\"}], \"histogram\": [{\"marker\": {\"colorbar\": {\"outlinewidth\": 0, \"ticks\": \"\"}}, \"type\": \"histogram\"}], \"histogram2d\": [{\"colorbar\": {\"outlinewidth\": 0, \"ticks\": \"\"}, \"colorscale\": [[0.0, \"#0d0887\"], [0.1111111111111111, \"#46039f\"], [0.2222222222222222, \"#7201a8\"], [0.3333333333333333, \"#9c179e\"], [0.4444444444444444, \"#bd3786\"], [0.5555555555555556, \"#d8576b\"], [0.6666666666666666, \"#ed7953\"], [0.7777777777777778, \"#fb9f3a\"], [0.8888888888888888, \"#fdca26\"], [1.0, \"#f0f921\"]], \"type\": \"histogram2d\"}], \"histogram2dcontour\": [{\"colorbar\": {\"outlinewidth\": 0, \"ticks\": \"\"}, \"colorscale\": [[0.0, \"#0d0887\"], [0.1111111111111111, \"#46039f\"], [0.2222222222222222, \"#7201a8\"], [0.3333333333333333, \"#9c179e\"], [0.4444444444444444, \"#bd3786\"], [0.5555555555555556, \"#d8576b\"], [0.6666666666666666, \"#ed7953\"], [0.7777777777777778, \"#fb9f3a\"], [0.8888888888888888, \"#fdca26\"], [1.0, \"#f0f921\"]], \"type\": \"histogram2dcontour\"}], \"mesh3d\": [{\"colorbar\": {\"outlinewidth\": 0, \"ticks\": \"\"}, \"type\": \"mesh3d\"}], \"parcoords\": [{\"line\": {\"colorbar\": {\"outlinewidth\": 0, \"ticks\": \"\"}}, \"type\": \"parcoords\"}], \"pie\": [{\"automargin\": true, \"type\": \"pie\"}], \"scatter\": [{\"marker\": {\"colorbar\": {\"outlinewidth\": 0, \"ticks\": \"\"}}, \"type\": \"scatter\"}], \"scatter3d\": [{\"line\": {\"colorbar\": {\"outlinewidth\": 0, \"ticks\": \"\"}}, \"marker\": {\"colorbar\": {\"outlinewidth\": 0, \"ticks\": \"\"}}, \"type\": \"scatter3d\"}], \"scattercarpet\": [{\"marker\": {\"colorbar\": {\"outlinewidth\": 0, \"ticks\": \"\"}}, \"type\": \"scattercarpet\"}], \"scattergeo\": [{\"marker\": {\"colorbar\": {\"outlinewidth\": 0, \"ticks\": \"\"}}, \"type\": \"scattergeo\"}], \"scattergl\": [{\"marker\": {\"colorbar\": {\"outlinewidth\": 0, \"ticks\": \"\"}}, \"type\": \"scattergl\"}], \"scattermapbox\": [{\"marker\": {\"colorbar\": {\"outlinewidth\": 0, \"ticks\": \"\"}}, \"type\": \"scattermapbox\"}], \"scatterpolar\": [{\"marker\": {\"colorbar\": {\"outlinewidth\": 0, \"ticks\": \"\"}}, \"type\": \"scatterpolar\"}], \"scatterpolargl\": [{\"marker\": {\"colorbar\": {\"outlinewidth\": 0, \"ticks\": \"\"}}, \"type\": \"scatterpolargl\"}], \"scatterternary\": [{\"marker\": {\"colorbar\": {\"outlinewidth\": 0, \"ticks\": \"\"}}, \"type\": \"scatterternary\"}], \"surface\": [{\"colorbar\": {\"outlinewidth\": 0, \"ticks\": \"\"}, \"colorscale\": [[0.0, \"#0d0887\"], [0.1111111111111111, \"#46039f\"], [0.2222222222222222, \"#7201a8\"], [0.3333333333333333, \"#9c179e\"], [0.4444444444444444, \"#bd3786\"], [0.5555555555555556, \"#d8576b\"], [0.6666666666666666, \"#ed7953\"], [0.7777777777777778, \"#fb9f3a\"], [0.8888888888888888, \"#fdca26\"], [1.0, \"#f0f921\"]], \"type\": \"surface\"}], \"table\": [{\"cells\": {\"fill\": {\"color\": \"#EBF0F8\"}, \"line\": {\"color\": \"white\"}}, \"header\": {\"fill\": {\"color\": \"#C8D4E3\"}, \"line\": {\"color\": \"white\"}}, \"type\": \"table\"}]}, \"layout\": {\"annotationdefaults\": {\"arrowcolor\": \"#2a3f5f\", \"arrowhead\": 0, \"arrowwidth\": 1}, \"autotypenumbers\": \"strict\", \"coloraxis\": {\"colorbar\": {\"outlinewidth\": 0, \"ticks\": \"\"}}, \"colorscale\": {\"diverging\": [[0, \"#8e0152\"], [0.1, \"#c51b7d\"], [0.2, \"#de77ae\"], [0.3, \"#f1b6da\"], [0.4, \"#fde0ef\"], [0.5, \"#f7f7f7\"], [0.6, \"#e6f5d0\"], [0.7, \"#b8e186\"], [0.8, \"#7fbc41\"], [0.9, \"#4d9221\"], [1, \"#276419\"]], \"sequential\": [[0.0, \"#0d0887\"], [0.1111111111111111, \"#46039f\"], [0.2222222222222222, \"#7201a8\"], [0.3333333333333333, \"#9c179e\"], [0.4444444444444444, \"#bd3786\"], [0.5555555555555556, \"#d8576b\"], [0.6666666666666666, \"#ed7953\"], [0.7777777777777778, \"#fb9f3a\"], [0.8888888888888888, \"#fdca26\"], [1.0, \"#f0f921\"]], \"sequentialminus\": [[0.0, \"#0d0887\"], [0.1111111111111111, \"#46039f\"], [0.2222222222222222, \"#7201a8\"], [0.3333333333333333, \"#9c179e\"], [0.4444444444444444, \"#bd3786\"], [0.5555555555555556, \"#d8576b\"], [0.6666666666666666, \"#ed7953\"], [0.7777777777777778, \"#fb9f3a\"], [0.8888888888888888, \"#fdca26\"], [1.0, \"#f0f921\"]]}, \"colorway\": [\"#636efa\", \"#EF553B\", \"#00cc96\", \"#ab63fa\", \"#FFA15A\", \"#19d3f3\", \"#FF6692\", \"#B6E880\", \"#FF97FF\", \"#FECB52\"], \"font\": {\"color\": \"#2a3f5f\"}, \"geo\": {\"bgcolor\": \"white\", \"lakecolor\": \"white\", \"landcolor\": \"#E5ECF6\", \"showlakes\": true, \"showland\": true, \"subunitcolor\": \"white\"}, \"hoverlabel\": {\"align\": \"left\"}, \"hovermode\": \"closest\", \"mapbox\": {\"style\": \"light\"}, \"paper_bgcolor\": \"white\", \"plot_bgcolor\": \"#E5ECF6\", \"polar\": {\"angularaxis\": {\"gridcolor\": \"white\", \"linecolor\": \"white\", \"ticks\": \"\"}, \"bgcolor\": \"#E5ECF6\", \"radialaxis\": {\"gridcolor\": \"white\", \"linecolor\": \"white\", \"ticks\": \"\"}}, \"scene\": {\"xaxis\": {\"backgroundcolor\": \"#E5ECF6\", \"gridcolor\": \"white\", \"gridwidth\": 2, \"linecolor\": \"white\", \"showbackground\": true, \"ticks\": \"\", \"zerolinecolor\": \"white\"}, \"yaxis\": {\"backgroundcolor\": \"#E5ECF6\", \"gridcolor\": \"white\", \"gridwidth\": 2, \"linecolor\": \"white\", \"showbackground\": true, \"ticks\": \"\", \"zerolinecolor\": \"white\"}, \"zaxis\": {\"backgroundcolor\": \"#E5ECF6\", \"gridcolor\": \"white\", \"gridwidth\": 2, \"linecolor\": \"white\", \"showbackground\": true, \"ticks\": \"\", \"zerolinecolor\": \"white\"}}, \"shapedefaults\": {\"line\": {\"color\": \"#2a3f5f\"}}, \"ternary\": {\"aaxis\": {\"gridcolor\": \"white\", \"linecolor\": \"white\", \"ticks\": \"\"}, \"baxis\": {\"gridcolor\": \"white\", \"linecolor\": \"white\", \"ticks\": \"\"}, \"bgcolor\": \"#E5ECF6\", \"caxis\": {\"gridcolor\": \"white\", \"linecolor\": \"white\", \"ticks\": \"\"}}, \"title\": {\"x\": 0.05}, \"xaxis\": {\"automargin\": true, \"gridcolor\": \"white\", \"linecolor\": \"white\", \"ticks\": \"\", \"title\": {\"standoff\": 15}, \"zerolinecolor\": \"white\", \"zerolinewidth\": 2}, \"yaxis\": {\"automargin\": true, \"gridcolor\": \"white\", \"linecolor\": \"white\", \"ticks\": \"\", \"title\": {\"standoff\": 15}, \"zerolinecolor\": \"white\", \"zerolinewidth\": 2}}}, \"title\": {\"text\": \"CV similarity to requirement clusters in context of relative cluster presence\"}, \"xaxis\": {\"anchor\": \"y\", \"domain\": [0.0, 1.0], \"title\": {\"text\": \"value\"}}, \"yaxis\": {\"anchor\": \"x\", \"domain\": [0.0, 1.0], \"title\": {\"text\": \"labels\"}}},                        {\"responsive\": true}                    ).then(function(){\n",
       "                            \n",
       "var gd = document.getElementById('e19ebef0-4e16-4e51-8a55-157334af36d5');\n",
       "var x = new MutationObserver(function (mutations, observer) {{\n",
       "        var display = window.getComputedStyle(gd).display;\n",
       "        if (!display || display === 'none') {{\n",
       "            console.log([gd, 'removed!']);\n",
       "            Plotly.purge(gd);\n",
       "            observer.disconnect();\n",
       "        }}\n",
       "}});\n",
       "\n",
       "// Listen for the removal of the full notebook cells\n",
       "var notebookContainer = gd.closest('#notebook-container');\n",
       "if (notebookContainer) {{\n",
       "    x.observe(notebookContainer, {childList: true});\n",
       "}}\n",
       "\n",
       "// Listen for the clearing of the current output cell\n",
       "var outputEl = gd.closest('.output');\n",
       "if (outputEl) {{\n",
       "    x.observe(outputEl, {childList: true});\n",
       "}}\n",
       "\n",
       "                        })                };                });            </script>        </div>"
      ]
     },
     "metadata": {},
     "output_type": "display_data"
    },
    {
     "data": {
      "text/plain": [
       "0.22641564039781853"
      ]
     },
     "execution_count": 50,
     "metadata": {},
     "output_type": "execute_result"
    }
   ],
   "source": [
    "df_sim = plot_cv(skills)\n",
    "df_sim['CV_similarity'].sum()/df_sim['presence'].sum()"
   ]
  },
  {
   "cell_type": "code",
   "execution_count": 68,
   "metadata": {},
   "outputs": [
    {
     "data": {
      "text/html": [
       "<div>\n",
       "<style scoped>\n",
       "    .dataframe tbody tr th:only-of-type {\n",
       "        vertical-align: middle;\n",
       "    }\n",
       "\n",
       "    .dataframe tbody tr th {\n",
       "        vertical-align: top;\n",
       "    }\n",
       "\n",
       "    .dataframe thead th {\n",
       "        text-align: right;\n",
       "    }\n",
       "</style>\n",
       "<table border=\"1\" class=\"dataframe\">\n",
       "  <thead>\n",
       "    <tr style=\"text-align: right;\">\n",
       "      <th></th>\n",
       "      <th>Unnamed: 0</th>\n",
       "      <th>id</th>\n",
       "      <th>title</th>\n",
       "      <th>skill</th>\n",
       "      <th>cluster</th>\n",
       "      <th>embedding</th>\n",
       "    </tr>\n",
       "  </thead>\n",
       "  <tbody>\n",
       "    <tr>\n",
       "      <th>0</th>\n",
       "      <td>0</td>\n",
       "      <td>0</td>\n",
       "      <td>Data Scientist/Analytics Consultant</td>\n",
       "      <td>design sql, r &amp; python scripts to directly qu...</td>\n",
       "      <td>11</td>\n",
       "      <td>[0.020906170830130577, -0.02053937129676342, -...</td>\n",
       "    </tr>\n",
       "    <tr>\n",
       "      <th>1</th>\n",
       "      <td>1</td>\n",
       "      <td>0</td>\n",
       "      <td>Data Scientist/Analytics Consultant</td>\n",
       "      <td>aid in the development of predictive modeling...</td>\n",
       "      <td>6</td>\n",
       "      <td>[0.045750461518764496, -0.03818187490105629, -...</td>\n",
       "    </tr>\n",
       "    <tr>\n",
       "      <th>2</th>\n",
       "      <td>2</td>\n",
       "      <td>0</td>\n",
       "      <td>Data Scientist/Analytics Consultant</td>\n",
       "      <td>test model fit using cross-validation and boo...</td>\n",
       "      <td>19</td>\n",
       "      <td>[-0.011868440546095371, -0.0615849532186985, -...</td>\n",
       "    </tr>\n",
       "    <tr>\n",
       "      <th>3</th>\n",
       "      <td>3</td>\n",
       "      <td>0</td>\n",
       "      <td>Data Scientist/Analytics Consultant</td>\n",
       "      <td>develop in an scrum environment with team mem...</td>\n",
       "      <td>16</td>\n",
       "      <td>[0.04099218547344208, -0.02379242517054081, 0....</td>\n",
       "    </tr>\n",
       "    <tr>\n",
       "      <th>4</th>\n",
       "      <td>4</td>\n",
       "      <td>0</td>\n",
       "      <td>Data Scientist/Analytics Consultant</td>\n",
       "      <td>model data using pandas/r dataframes, powerpi...</td>\n",
       "      <td>19</td>\n",
       "      <td>[-0.0024511003866791725, -0.02079622820019722,...</td>\n",
       "    </tr>\n",
       "  </tbody>\n",
       "</table>\n",
       "</div>"
      ],
      "text/plain": [
       "   Unnamed: 0  id                                title  \\\n",
       "0           0   0  Data Scientist/Analytics Consultant   \n",
       "1           1   0  Data Scientist/Analytics Consultant   \n",
       "2           2   0  Data Scientist/Analytics Consultant   \n",
       "3           3   0  Data Scientist/Analytics Consultant   \n",
       "4           4   0  Data Scientist/Analytics Consultant   \n",
       "\n",
       "                                               skill  cluster  \\\n",
       "0   design sql, r & python scripts to directly qu...       11   \n",
       "1   aid in the development of predictive modeling...        6   \n",
       "2   test model fit using cross-validation and boo...       19   \n",
       "3   develop in an scrum environment with team mem...       16   \n",
       "4   model data using pandas/r dataframes, powerpi...       19   \n",
       "\n",
       "                                           embedding  \n",
       "0  [0.020906170830130577, -0.02053937129676342, -...  \n",
       "1  [0.045750461518764496, -0.03818187490105629, -...  \n",
       "2  [-0.011868440546095371, -0.0615849532186985, -...  \n",
       "3  [0.04099218547344208, -0.02379242517054081, 0....  \n",
       "4  [-0.0024511003866791725, -0.02079622820019722,...  "
      ]
     },
     "execution_count": 68,
     "metadata": {},
     "output_type": "execute_result"
    }
   ],
   "source": [
    "df_cv.head()"
   ]
  },
  {
   "cell_type": "code",
   "execution_count": 102,
   "metadata": {},
   "outputs": [
    {
     "name": "stdout",
     "output_type": "stream",
     "text": [
      "0\n",
      "62\n",
      "1\n",
      "93\n",
      "2\n",
      "124\n",
      "3\n",
      "155\n",
      "4\n",
      "186\n",
      "5\n",
      "217\n",
      "6\n",
      "248\n",
      "7\n",
      "279\n",
      "8\n",
      "310\n",
      "9\n",
      "341\n",
      "10\n",
      "372\n",
      "11\n",
      "403\n",
      "12\n",
      "434\n",
      "13\n",
      "465\n",
      "14\n",
      "496\n",
      "15\n",
      "527\n",
      "16\n",
      "558\n",
      "17\n",
      "589\n",
      "18\n",
      "620\n",
      "19\n",
      "651\n",
      "20\n",
      "682\n",
      "21\n",
      "713\n",
      "22\n",
      "744\n",
      "23\n",
      "775\n",
      "24\n",
      "806\n",
      "25\n",
      "837\n",
      "26\n",
      "868\n",
      "27\n",
      "899\n",
      "28\n",
      "930\n",
      "29\n",
      "961\n",
      "30\n",
      "992\n",
      "31\n",
      "1023\n",
      "32\n",
      "1054\n",
      "33\n",
      "1085\n",
      "34\n",
      "1116\n",
      "35\n",
      "1147\n",
      "36\n",
      "1178\n",
      "37\n",
      "1209\n",
      "38\n",
      "1240\n",
      "39\n",
      "1271\n",
      "40\n",
      "1302\n",
      "41\n",
      "1333\n",
      "42\n",
      "1364\n",
      "43\n",
      "1395\n",
      "44\n",
      "1426\n",
      "45\n",
      "1457\n",
      "46\n",
      "1488\n",
      "47\n",
      "1519\n",
      "48\n",
      "1550\n",
      "49\n",
      "1581\n",
      "50\n",
      "1612\n",
      "51\n",
      "1643\n",
      "52\n",
      "1674\n",
      "53\n",
      "1705\n",
      "54\n",
      "1736\n",
      "55\n",
      "1767\n",
      "56\n",
      "1798\n",
      "57\n",
      "1829\n",
      "58\n",
      "1860\n",
      "59\n",
      "1891\n",
      "60\n",
      "1922\n",
      "61\n",
      "1953\n",
      "62\n",
      "1984\n",
      "63\n",
      "2015\n",
      "64\n",
      "2046\n",
      "65\n",
      "2077\n",
      "66\n"
     ]
    }
   ],
   "source": [
    "df_sim_all = pd.DataFrame()\n",
    "\n",
    "for i in df_cv['id'].unique():\n",
    "    df_ = df_cv[df_cv['id']==i]\n",
    "    skills = df_['skill'].to_list()\n",
    "    if len(df_sim_all)==0:\n",
    "        df_sim_all = get_df(skills,False)\n",
    "    else:\n",
    "        df_sim_all = df_sim_all.append(get_df(skills,False),ignore_index=True)\n",
    "    print(i)"
   ]
  },
  {
   "cell_type": "code",
   "execution_count": 103,
   "metadata": {},
   "outputs": [
    {
     "data": {
      "text/plain": [
       "2077"
      ]
     },
     "execution_count": 103,
     "metadata": {},
     "output_type": "execute_result"
    }
   ],
   "source": [
    "len(df_sim_all)"
   ]
  },
  {
   "cell_type": "code",
   "execution_count": 105,
   "metadata": {},
   "outputs": [],
   "source": [
    "df_sim_all.to_csv('../datasets/df_sim_cv_all.csv')"
   ]
  },
  {
   "cell_type": "code",
   "execution_count": 118,
   "metadata": {},
   "outputs": [
    {
     "data": {
      "text/html": [
       "<div>\n",
       "<style scoped>\n",
       "    .dataframe tbody tr th:only-of-type {\n",
       "        vertical-align: middle;\n",
       "    }\n",
       "\n",
       "    .dataframe tbody tr th {\n",
       "        vertical-align: top;\n",
       "    }\n",
       "\n",
       "    .dataframe thead th {\n",
       "        text-align: right;\n",
       "    }\n",
       "</style>\n",
       "<table border=\"1\" class=\"dataframe\">\n",
       "  <thead>\n",
       "    <tr style=\"text-align: right;\">\n",
       "      <th></th>\n",
       "      <th>cluster</th>\n",
       "      <th>score</th>\n",
       "      <th>presence</th>\n",
       "      <th>labels</th>\n",
       "      <th>CV_similarity</th>\n",
       "      <th>Presence_Cluster_in_Job_Postings</th>\n",
       "    </tr>\n",
       "  </thead>\n",
       "  <tbody>\n",
       "    <tr>\n",
       "      <th>4</th>\n",
       "      <td>1</td>\n",
       "      <td>0.000000</td>\n",
       "      <td>0.237569</td>\n",
       "      <td>Cluster 1: knowledge sql, relational databases...</td>\n",
       "      <td>0.000000</td>\n",
       "      <td>0.237569</td>\n",
       "    </tr>\n",
       "    <tr>\n",
       "      <th>35</th>\n",
       "      <td>1</td>\n",
       "      <td>0.567574</td>\n",
       "      <td>0.237569</td>\n",
       "      <td>Cluster 1: knowledge sql, relational databases...</td>\n",
       "      <td>0.134838</td>\n",
       "      <td>0.102731</td>\n",
       "    </tr>\n",
       "    <tr>\n",
       "      <th>66</th>\n",
       "      <td>1</td>\n",
       "      <td>0.597215</td>\n",
       "      <td>0.237569</td>\n",
       "      <td>Cluster 1: knowledge sql, relational databases...</td>\n",
       "      <td>0.141880</td>\n",
       "      <td>0.095689</td>\n",
       "    </tr>\n",
       "    <tr>\n",
       "      <th>97</th>\n",
       "      <td>1</td>\n",
       "      <td>0.642046</td>\n",
       "      <td>0.237569</td>\n",
       "      <td>Cluster 1: knowledge sql, relational databases...</td>\n",
       "      <td>0.152530</td>\n",
       "      <td>0.085039</td>\n",
       "    </tr>\n",
       "    <tr>\n",
       "      <th>128</th>\n",
       "      <td>1</td>\n",
       "      <td>0.000000</td>\n",
       "      <td>0.237569</td>\n",
       "      <td>Cluster 1: knowledge sql, relational databases...</td>\n",
       "      <td>0.000000</td>\n",
       "      <td>0.237569</td>\n",
       "    </tr>\n",
       "    <tr>\n",
       "      <th>...</th>\n",
       "      <td>...</td>\n",
       "      <td>...</td>\n",
       "      <td>...</td>\n",
       "      <td>...</td>\n",
       "      <td>...</td>\n",
       "      <td>...</td>\n",
       "    </tr>\n",
       "    <tr>\n",
       "      <th>1926</th>\n",
       "      <td>1</td>\n",
       "      <td>0.549192</td>\n",
       "      <td>0.237569</td>\n",
       "      <td>Cluster 1: knowledge sql, relational databases...</td>\n",
       "      <td>0.130471</td>\n",
       "      <td>0.107098</td>\n",
       "    </tr>\n",
       "    <tr>\n",
       "      <th>1957</th>\n",
       "      <td>1</td>\n",
       "      <td>0.000000</td>\n",
       "      <td>0.237569</td>\n",
       "      <td>Cluster 1: knowledge sql, relational databases...</td>\n",
       "      <td>0.000000</td>\n",
       "      <td>0.237569</td>\n",
       "    </tr>\n",
       "    <tr>\n",
       "      <th>1988</th>\n",
       "      <td>1</td>\n",
       "      <td>0.512586</td>\n",
       "      <td>0.237569</td>\n",
       "      <td>Cluster 1: knowledge sql, relational databases...</td>\n",
       "      <td>0.121775</td>\n",
       "      <td>0.115795</td>\n",
       "    </tr>\n",
       "    <tr>\n",
       "      <th>2019</th>\n",
       "      <td>1</td>\n",
       "      <td>0.000000</td>\n",
       "      <td>0.237569</td>\n",
       "      <td>Cluster 1: knowledge sql, relational databases...</td>\n",
       "      <td>0.000000</td>\n",
       "      <td>0.237569</td>\n",
       "    </tr>\n",
       "    <tr>\n",
       "      <th>2050</th>\n",
       "      <td>1</td>\n",
       "      <td>0.706559</td>\n",
       "      <td>0.237569</td>\n",
       "      <td>Cluster 1: knowledge sql, relational databases...</td>\n",
       "      <td>0.167857</td>\n",
       "      <td>0.069713</td>\n",
       "    </tr>\n",
       "  </tbody>\n",
       "</table>\n",
       "<p>67 rows × 6 columns</p>\n",
       "</div>"
      ],
      "text/plain": [
       "      cluster     score  presence  \\\n",
       "4           1  0.000000  0.237569   \n",
       "35          1  0.567574  0.237569   \n",
       "66          1  0.597215  0.237569   \n",
       "97          1  0.642046  0.237569   \n",
       "128         1  0.000000  0.237569   \n",
       "...       ...       ...       ...   \n",
       "1926        1  0.549192  0.237569   \n",
       "1957        1  0.000000  0.237569   \n",
       "1988        1  0.512586  0.237569   \n",
       "2019        1  0.000000  0.237569   \n",
       "2050        1  0.706559  0.237569   \n",
       "\n",
       "                                                 labels  CV_similarity  \\\n",
       "4     Cluster 1: knowledge sql, relational databases...       0.000000   \n",
       "35    Cluster 1: knowledge sql, relational databases...       0.134838   \n",
       "66    Cluster 1: knowledge sql, relational databases...       0.141880   \n",
       "97    Cluster 1: knowledge sql, relational databases...       0.152530   \n",
       "128   Cluster 1: knowledge sql, relational databases...       0.000000   \n",
       "...                                                 ...            ...   \n",
       "1926  Cluster 1: knowledge sql, relational databases...       0.130471   \n",
       "1957  Cluster 1: knowledge sql, relational databases...       0.000000   \n",
       "1988  Cluster 1: knowledge sql, relational databases...       0.121775   \n",
       "2019  Cluster 1: knowledge sql, relational databases...       0.000000   \n",
       "2050  Cluster 1: knowledge sql, relational databases...       0.167857   \n",
       "\n",
       "      Presence_Cluster_in_Job_Postings  \n",
       "4                             0.237569  \n",
       "35                            0.102731  \n",
       "66                            0.095689  \n",
       "97                            0.085039  \n",
       "128                           0.237569  \n",
       "...                                ...  \n",
       "1926                          0.107098  \n",
       "1957                          0.237569  \n",
       "1988                          0.115795  \n",
       "2019                          0.237569  \n",
       "2050                          0.069713  \n",
       "\n",
       "[67 rows x 6 columns]"
      ]
     },
     "execution_count": 118,
     "metadata": {},
     "output_type": "execute_result"
    }
   ],
   "source": [
    "df_sim_all[df_sim_all['cluster']==1]"
   ]
  },
  {
   "cell_type": "code",
   "execution_count": 127,
   "metadata": {},
   "outputs": [
    {
     "name": "stdout",
     "output_type": "stream",
     "text": [
      "Index(['cluster', 'score', 'presence', 'labels', 'CV_similarity',\n",
      "       'Presence_Cluster_in_Job_Postings'],\n",
      "      dtype='object')\n"
     ]
    }
   ],
   "source": [
    "print(df_sim_all.columns)"
   ]
  },
  {
   "cell_type": "code",
   "execution_count": 141,
   "metadata": {},
   "outputs": [
    {
     "data": {
      "text/plain": [
       "cluster                             15.000000\n",
       "score                                0.331117\n",
       "presence                             0.346938\n",
       "CV_similarity                        0.119855\n",
       "Presence_Cluster_in_Job_Postings     0.227082\n",
       "dtype: float64"
      ]
     },
     "execution_count": 141,
     "metadata": {},
     "output_type": "execute_result"
    }
   ],
   "source": [
    "df_sim_avg = pd.DataFrame(columns = df_sim_all.columns)\n",
    "for cluster in range(len(k31_full.cluster_centers_)):\n",
    "    df_=df_sim_all[df_sim_all['cluster']==cluster]\n",
    "    df_ = df_.mean()\n",
    "    df_['labels'] = get_label(cluster)\n",
    "    df_sim_avg = df_sim_avg.append(df_, ignore_index = True)\n",
    "df_sim_avg = df_sim_avg.sort_values('presence')\n",
    "df_sim_avg.mean()"
   ]
  },
  {
   "cell_type": "code",
   "execution_count": 187,
   "metadata": {
    "scrolled": false
   },
   "outputs": [
    {
     "data": {
      "application/vnd.plotly.v1+json": {
       "config": {
        "plotlyServerURL": "https://plot.ly"
       },
       "data": [
        {
         "alignmentgroup": "True",
         "customdata": [
          [
           0.14917127071823208
          ],
          [
           0.17034990791896848
          ],
          [
           0.18876611418047898
          ],
          [
           0.23296500920810292
          ],
          [
           0.23756906077348094
          ],
          [
           0.23756906077348094
          ],
          [
           0.24401473296500942
          ],
          [
           0.27440147329650105
          ],
          [
           0.2771639042357278
          ],
          [
           0.2918968692449355
          ],
          [
           0.30294659300184174
          ],
          [
           0.3112338858195212
          ],
          [
           0.3241252302025782
          ],
          [
           0.33701657458563583
          ],
          [
           0.3453038674033154
          ],
          [
           0.3581952117863724
          ],
          [
           0.3609576427255983
          ],
          [
           0.387661141804788
          ],
          [
           0.3895027624309397
          ],
          [
           0.3913443830570909
          ],
          [
           0.4023941068139967
          ],
          [
           0.4143646408839779
          ],
          [
           0.42173112338858226
          ],
          [
           0.42817679558011074
          ],
          [
           0.4290976058931865
          ],
          [
           0.4337016574585633
          ],
          [
           0.4364640883977905
          ],
          [
           0.44290976058931897
          ],
          [
           0.4604051565377532
          ],
          [
           0.5359116022099453
          ],
          [
           0.5377532228360951
          ]
         ],
         "hovertemplate": "variable=CV_similarity<br>value=%{x}<br>labels=%{y}<br>presence=%{customdata[0]}<extra></extra>",
         "legendgroup": "CV_similarity",
         "marker": {
          "color": "#636efa"
         },
         "name": "CV_similarity",
         "offsetgroup": "CV_similarity",
         "orientation": "h",
         "showlegend": true,
         "textposition": "auto",
         "type": "bar",
         "x": [
          0.05810381631171717,
          0.027490156618064674,
          0.0019100881895284076,
          0.09174607375205945,
          0.11780215554740205,
          0.013517462499508387,
          0.12887800837376798,
          0.12181879478412647,
          0.024124705267373127,
          0.15227126944907873,
          0.009168204395698487,
          0.03808490816148459,
          0.18410457911211067,
          0.013021085652829436,
          0.17850717283130432,
          0.14609366350564026,
          0.06584464384817773,
          0.19522995532337367,
          0.1691957587455164,
          0.043895441654109676,
          0.007317583226796059,
          0.06413938675786732,
          0.175253491489148,
          0.22498993870158238,
          0.1487945515054376,
          0.18361823762990834,
          0.21526784042946495,
          0.24906016501326841,
          0.25683274543754536,
          0.10505298514956905,
          0.30438424309942363
         ],
         "xaxis": "x",
         "y": [
          "Cluster 24: deep learning, machine learning, experience deep",
          "Cluster 20: experience working, single cell, next-generation sequencing",
          "Cluster 3: years experience, related field, years relevant",
          "Cluster 27: experience cloud, google cloud, cloud computing",
          "Cluster 1: knowledge sql, relational databases, sql queries",
          "Cluster 5: track record, research projects, scientific technical",
          "Cluster 14: data visualization, visualization tools, experience data",
          "Cluster 19: predictive models, machine learning, model performance",
          "Cluster 2: ability work, work independently, fast-paced environment",
          "Cluster 8: big data, experience working, experience big",
          "Cluster 17: problem-solving skills, problem solving, strong analytical",
          "Cluster 4: learn new, new technologies, eager learn",
          "Cluster 29: data quality, data management, data pipelines",
          "Cluster 21: helping others, people around, lasting mark",
          "Cluster 6: machine learning, learning models, learning algorithms",
          "Cluster 23: data analysis, results clear, track record",
          "Cluster 0: team player, ability work, team members",
          "Cluster 11: data sets, data analysis, data sources",
          "Cluster 15: years experience, experience data, data science",
          "Cluster 26: working environment, work environment, professional development",
          "Cluster 28: fluent english, communication skills, english fluent",
          "Cluster 7: communication skills, excellent communication, skills excellent",
          "Cluster 9: attention detail, natural language, social media",
          "Cluster 13: data science, data scientists, data scientist",
          "Cluster 16: business stakeholders, work closely, internal external",
          "Cluster 25: business problems, translate business, understand business",
          "Cluster 12: machine learning, learning techniques, machine learning,",
          "Cluster 22: version control, software engineering, best practices",
          "Cluster 10: experience working, software development, project management",
          "Cluster 30: computer science, computer science, master’s degree",
          "Cluster 18: programming skills, programming languages, data science"
         ],
         "yaxis": "y"
        },
        {
         "alignmentgroup": "True",
         "customdata": [
          [
           0.14917127071823208
          ],
          [
           0.17034990791896848
          ],
          [
           0.18876611418047898
          ],
          [
           0.23296500920810292
          ],
          [
           0.23756906077348094
          ],
          [
           0.23756906077348094
          ],
          [
           0.24401473296500942
          ],
          [
           0.27440147329650105
          ],
          [
           0.2771639042357278
          ],
          [
           0.2918968692449355
          ],
          [
           0.30294659300184174
          ],
          [
           0.3112338858195212
          ],
          [
           0.3241252302025782
          ],
          [
           0.33701657458563583
          ],
          [
           0.3453038674033154
          ],
          [
           0.3581952117863724
          ],
          [
           0.3609576427255983
          ],
          [
           0.387661141804788
          ],
          [
           0.3895027624309397
          ],
          [
           0.3913443830570909
          ],
          [
           0.4023941068139967
          ],
          [
           0.4143646408839779
          ],
          [
           0.42173112338858226
          ],
          [
           0.42817679558011074
          ],
          [
           0.4290976058931865
          ],
          [
           0.4337016574585633
          ],
          [
           0.4364640883977905
          ],
          [
           0.44290976058931897
          ],
          [
           0.4604051565377532
          ],
          [
           0.5359116022099453
          ],
          [
           0.5377532228360951
          ]
         ],
         "hovertemplate": "variable=Presence_Cluster_in_Job_Postings<br>value=%{x}<br>labels=%{y}<br>presence=%{customdata[0]}<extra></extra>",
         "legendgroup": "Presence_Cluster_in_Job_Postings",
         "marker": {
          "color": "#EF553B"
         },
         "name": "Presence_Cluster_in_Job_Postings",
         "offsetgroup": "Presence_Cluster_in_Job_Postings",
         "orientation": "h",
         "showlegend": true,
         "textposition": "auto",
         "type": "bar",
         "x": [
          0.09106745440651483,
          0.14285975130090386,
          0.18685602599095055,
          0.14121893545604364,
          0.11976690522607855,
          0.22405159827397253,
          0.1151367245912413,
          0.15258267851237456,
          0.2530391989683546,
          0.13962559979585668,
          0.29377838860614325,
          0.27314897765803653,
          0.14002065109046757,
          0.3239954889328064,
          0.16679669457201057,
          0.21210154828073166,
          0.2951129988774207,
          0.1924311864814146,
          0.2203070036854229,
          0.34744894140298105,
          0.3950765235872006,
          0.35022525412611055,
          0.24647763189943403,
          0.2031868568785282,
          0.28030305438774855,
          0.2500834198286552,
          0.22119624796832515,
          0.19384959557605022,
          0.20357241110020782,
          0.4308586170603762,
          0.23336897973667203
         ],
         "xaxis": "x",
         "y": [
          "Cluster 24: deep learning, machine learning, experience deep",
          "Cluster 20: experience working, single cell, next-generation sequencing",
          "Cluster 3: years experience, related field, years relevant",
          "Cluster 27: experience cloud, google cloud, cloud computing",
          "Cluster 1: knowledge sql, relational databases, sql queries",
          "Cluster 5: track record, research projects, scientific technical",
          "Cluster 14: data visualization, visualization tools, experience data",
          "Cluster 19: predictive models, machine learning, model performance",
          "Cluster 2: ability work, work independently, fast-paced environment",
          "Cluster 8: big data, experience working, experience big",
          "Cluster 17: problem-solving skills, problem solving, strong analytical",
          "Cluster 4: learn new, new technologies, eager learn",
          "Cluster 29: data quality, data management, data pipelines",
          "Cluster 21: helping others, people around, lasting mark",
          "Cluster 6: machine learning, learning models, learning algorithms",
          "Cluster 23: data analysis, results clear, track record",
          "Cluster 0: team player, ability work, team members",
          "Cluster 11: data sets, data analysis, data sources",
          "Cluster 15: years experience, experience data, data science",
          "Cluster 26: working environment, work environment, professional development",
          "Cluster 28: fluent english, communication skills, english fluent",
          "Cluster 7: communication skills, excellent communication, skills excellent",
          "Cluster 9: attention detail, natural language, social media",
          "Cluster 13: data science, data scientists, data scientist",
          "Cluster 16: business stakeholders, work closely, internal external",
          "Cluster 25: business problems, translate business, understand business",
          "Cluster 12: machine learning, learning techniques, machine learning,",
          "Cluster 22: version control, software engineering, best practices",
          "Cluster 10: experience working, software development, project management",
          "Cluster 30: computer science, computer science, master’s degree",
          "Cluster 18: programming skills, programming languages, data science"
         ],
         "yaxis": "y"
        }
       ],
       "layout": {
        "barmode": "stack",
        "height": 800,
        "legend": {
         "title": {
          "text": "variable"
         },
         "tracegroupgap": 0
        },
        "margin": {
         "t": 60
        },
        "template": {
         "data": {
          "bar": [
           {
            "error_x": {
             "color": "#2a3f5f"
            },
            "error_y": {
             "color": "#2a3f5f"
            },
            "marker": {
             "line": {
              "color": "#E5ECF6",
              "width": 0.5
             }
            },
            "type": "bar"
           }
          ],
          "barpolar": [
           {
            "marker": {
             "line": {
              "color": "#E5ECF6",
              "width": 0.5
             }
            },
            "type": "barpolar"
           }
          ],
          "carpet": [
           {
            "aaxis": {
             "endlinecolor": "#2a3f5f",
             "gridcolor": "white",
             "linecolor": "white",
             "minorgridcolor": "white",
             "startlinecolor": "#2a3f5f"
            },
            "baxis": {
             "endlinecolor": "#2a3f5f",
             "gridcolor": "white",
             "linecolor": "white",
             "minorgridcolor": "white",
             "startlinecolor": "#2a3f5f"
            },
            "type": "carpet"
           }
          ],
          "choropleth": [
           {
            "colorbar": {
             "outlinewidth": 0,
             "ticks": ""
            },
            "type": "choropleth"
           }
          ],
          "contour": [
           {
            "colorbar": {
             "outlinewidth": 0,
             "ticks": ""
            },
            "colorscale": [
             [
              0,
              "#0d0887"
             ],
             [
              0.1111111111111111,
              "#46039f"
             ],
             [
              0.2222222222222222,
              "#7201a8"
             ],
             [
              0.3333333333333333,
              "#9c179e"
             ],
             [
              0.4444444444444444,
              "#bd3786"
             ],
             [
              0.5555555555555556,
              "#d8576b"
             ],
             [
              0.6666666666666666,
              "#ed7953"
             ],
             [
              0.7777777777777778,
              "#fb9f3a"
             ],
             [
              0.8888888888888888,
              "#fdca26"
             ],
             [
              1,
              "#f0f921"
             ]
            ],
            "type": "contour"
           }
          ],
          "contourcarpet": [
           {
            "colorbar": {
             "outlinewidth": 0,
             "ticks": ""
            },
            "type": "contourcarpet"
           }
          ],
          "heatmap": [
           {
            "colorbar": {
             "outlinewidth": 0,
             "ticks": ""
            },
            "colorscale": [
             [
              0,
              "#0d0887"
             ],
             [
              0.1111111111111111,
              "#46039f"
             ],
             [
              0.2222222222222222,
              "#7201a8"
             ],
             [
              0.3333333333333333,
              "#9c179e"
             ],
             [
              0.4444444444444444,
              "#bd3786"
             ],
             [
              0.5555555555555556,
              "#d8576b"
             ],
             [
              0.6666666666666666,
              "#ed7953"
             ],
             [
              0.7777777777777778,
              "#fb9f3a"
             ],
             [
              0.8888888888888888,
              "#fdca26"
             ],
             [
              1,
              "#f0f921"
             ]
            ],
            "type": "heatmap"
           }
          ],
          "heatmapgl": [
           {
            "colorbar": {
             "outlinewidth": 0,
             "ticks": ""
            },
            "colorscale": [
             [
              0,
              "#0d0887"
             ],
             [
              0.1111111111111111,
              "#46039f"
             ],
             [
              0.2222222222222222,
              "#7201a8"
             ],
             [
              0.3333333333333333,
              "#9c179e"
             ],
             [
              0.4444444444444444,
              "#bd3786"
             ],
             [
              0.5555555555555556,
              "#d8576b"
             ],
             [
              0.6666666666666666,
              "#ed7953"
             ],
             [
              0.7777777777777778,
              "#fb9f3a"
             ],
             [
              0.8888888888888888,
              "#fdca26"
             ],
             [
              1,
              "#f0f921"
             ]
            ],
            "type": "heatmapgl"
           }
          ],
          "histogram": [
           {
            "marker": {
             "colorbar": {
              "outlinewidth": 0,
              "ticks": ""
             }
            },
            "type": "histogram"
           }
          ],
          "histogram2d": [
           {
            "colorbar": {
             "outlinewidth": 0,
             "ticks": ""
            },
            "colorscale": [
             [
              0,
              "#0d0887"
             ],
             [
              0.1111111111111111,
              "#46039f"
             ],
             [
              0.2222222222222222,
              "#7201a8"
             ],
             [
              0.3333333333333333,
              "#9c179e"
             ],
             [
              0.4444444444444444,
              "#bd3786"
             ],
             [
              0.5555555555555556,
              "#d8576b"
             ],
             [
              0.6666666666666666,
              "#ed7953"
             ],
             [
              0.7777777777777778,
              "#fb9f3a"
             ],
             [
              0.8888888888888888,
              "#fdca26"
             ],
             [
              1,
              "#f0f921"
             ]
            ],
            "type": "histogram2d"
           }
          ],
          "histogram2dcontour": [
           {
            "colorbar": {
             "outlinewidth": 0,
             "ticks": ""
            },
            "colorscale": [
             [
              0,
              "#0d0887"
             ],
             [
              0.1111111111111111,
              "#46039f"
             ],
             [
              0.2222222222222222,
              "#7201a8"
             ],
             [
              0.3333333333333333,
              "#9c179e"
             ],
             [
              0.4444444444444444,
              "#bd3786"
             ],
             [
              0.5555555555555556,
              "#d8576b"
             ],
             [
              0.6666666666666666,
              "#ed7953"
             ],
             [
              0.7777777777777778,
              "#fb9f3a"
             ],
             [
              0.8888888888888888,
              "#fdca26"
             ],
             [
              1,
              "#f0f921"
             ]
            ],
            "type": "histogram2dcontour"
           }
          ],
          "mesh3d": [
           {
            "colorbar": {
             "outlinewidth": 0,
             "ticks": ""
            },
            "type": "mesh3d"
           }
          ],
          "parcoords": [
           {
            "line": {
             "colorbar": {
              "outlinewidth": 0,
              "ticks": ""
             }
            },
            "type": "parcoords"
           }
          ],
          "pie": [
           {
            "automargin": true,
            "type": "pie"
           }
          ],
          "scatter": [
           {
            "marker": {
             "colorbar": {
              "outlinewidth": 0,
              "ticks": ""
             }
            },
            "type": "scatter"
           }
          ],
          "scatter3d": [
           {
            "line": {
             "colorbar": {
              "outlinewidth": 0,
              "ticks": ""
             }
            },
            "marker": {
             "colorbar": {
              "outlinewidth": 0,
              "ticks": ""
             }
            },
            "type": "scatter3d"
           }
          ],
          "scattercarpet": [
           {
            "marker": {
             "colorbar": {
              "outlinewidth": 0,
              "ticks": ""
             }
            },
            "type": "scattercarpet"
           }
          ],
          "scattergeo": [
           {
            "marker": {
             "colorbar": {
              "outlinewidth": 0,
              "ticks": ""
             }
            },
            "type": "scattergeo"
           }
          ],
          "scattergl": [
           {
            "marker": {
             "colorbar": {
              "outlinewidth": 0,
              "ticks": ""
             }
            },
            "type": "scattergl"
           }
          ],
          "scattermapbox": [
           {
            "marker": {
             "colorbar": {
              "outlinewidth": 0,
              "ticks": ""
             }
            },
            "type": "scattermapbox"
           }
          ],
          "scatterpolar": [
           {
            "marker": {
             "colorbar": {
              "outlinewidth": 0,
              "ticks": ""
             }
            },
            "type": "scatterpolar"
           }
          ],
          "scatterpolargl": [
           {
            "marker": {
             "colorbar": {
              "outlinewidth": 0,
              "ticks": ""
             }
            },
            "type": "scatterpolargl"
           }
          ],
          "scatterternary": [
           {
            "marker": {
             "colorbar": {
              "outlinewidth": 0,
              "ticks": ""
             }
            },
            "type": "scatterternary"
           }
          ],
          "surface": [
           {
            "colorbar": {
             "outlinewidth": 0,
             "ticks": ""
            },
            "colorscale": [
             [
              0,
              "#0d0887"
             ],
             [
              0.1111111111111111,
              "#46039f"
             ],
             [
              0.2222222222222222,
              "#7201a8"
             ],
             [
              0.3333333333333333,
              "#9c179e"
             ],
             [
              0.4444444444444444,
              "#bd3786"
             ],
             [
              0.5555555555555556,
              "#d8576b"
             ],
             [
              0.6666666666666666,
              "#ed7953"
             ],
             [
              0.7777777777777778,
              "#fb9f3a"
             ],
             [
              0.8888888888888888,
              "#fdca26"
             ],
             [
              1,
              "#f0f921"
             ]
            ],
            "type": "surface"
           }
          ],
          "table": [
           {
            "cells": {
             "fill": {
              "color": "#EBF0F8"
             },
             "line": {
              "color": "white"
             }
            },
            "header": {
             "fill": {
              "color": "#C8D4E3"
             },
             "line": {
              "color": "white"
             }
            },
            "type": "table"
           }
          ]
         },
         "layout": {
          "annotationdefaults": {
           "arrowcolor": "#2a3f5f",
           "arrowhead": 0,
           "arrowwidth": 1
          },
          "autotypenumbers": "strict",
          "coloraxis": {
           "colorbar": {
            "outlinewidth": 0,
            "ticks": ""
           }
          },
          "colorscale": {
           "diverging": [
            [
             0,
             "#8e0152"
            ],
            [
             0.1,
             "#c51b7d"
            ],
            [
             0.2,
             "#de77ae"
            ],
            [
             0.3,
             "#f1b6da"
            ],
            [
             0.4,
             "#fde0ef"
            ],
            [
             0.5,
             "#f7f7f7"
            ],
            [
             0.6,
             "#e6f5d0"
            ],
            [
             0.7,
             "#b8e186"
            ],
            [
             0.8,
             "#7fbc41"
            ],
            [
             0.9,
             "#4d9221"
            ],
            [
             1,
             "#276419"
            ]
           ],
           "sequential": [
            [
             0,
             "#0d0887"
            ],
            [
             0.1111111111111111,
             "#46039f"
            ],
            [
             0.2222222222222222,
             "#7201a8"
            ],
            [
             0.3333333333333333,
             "#9c179e"
            ],
            [
             0.4444444444444444,
             "#bd3786"
            ],
            [
             0.5555555555555556,
             "#d8576b"
            ],
            [
             0.6666666666666666,
             "#ed7953"
            ],
            [
             0.7777777777777778,
             "#fb9f3a"
            ],
            [
             0.8888888888888888,
             "#fdca26"
            ],
            [
             1,
             "#f0f921"
            ]
           ],
           "sequentialminus": [
            [
             0,
             "#0d0887"
            ],
            [
             0.1111111111111111,
             "#46039f"
            ],
            [
             0.2222222222222222,
             "#7201a8"
            ],
            [
             0.3333333333333333,
             "#9c179e"
            ],
            [
             0.4444444444444444,
             "#bd3786"
            ],
            [
             0.5555555555555556,
             "#d8576b"
            ],
            [
             0.6666666666666666,
             "#ed7953"
            ],
            [
             0.7777777777777778,
             "#fb9f3a"
            ],
            [
             0.8888888888888888,
             "#fdca26"
            ],
            [
             1,
             "#f0f921"
            ]
           ]
          },
          "colorway": [
           "#636efa",
           "#EF553B",
           "#00cc96",
           "#ab63fa",
           "#FFA15A",
           "#19d3f3",
           "#FF6692",
           "#B6E880",
           "#FF97FF",
           "#FECB52"
          ],
          "font": {
           "color": "#2a3f5f"
          },
          "geo": {
           "bgcolor": "white",
           "lakecolor": "white",
           "landcolor": "#E5ECF6",
           "showlakes": true,
           "showland": true,
           "subunitcolor": "white"
          },
          "hoverlabel": {
           "align": "left"
          },
          "hovermode": "closest",
          "mapbox": {
           "style": "light"
          },
          "paper_bgcolor": "white",
          "plot_bgcolor": "#E5ECF6",
          "polar": {
           "angularaxis": {
            "gridcolor": "white",
            "linecolor": "white",
            "ticks": ""
           },
           "bgcolor": "#E5ECF6",
           "radialaxis": {
            "gridcolor": "white",
            "linecolor": "white",
            "ticks": ""
           }
          },
          "scene": {
           "xaxis": {
            "backgroundcolor": "#E5ECF6",
            "gridcolor": "white",
            "gridwidth": 2,
            "linecolor": "white",
            "showbackground": true,
            "ticks": "",
            "zerolinecolor": "white"
           },
           "yaxis": {
            "backgroundcolor": "#E5ECF6",
            "gridcolor": "white",
            "gridwidth": 2,
            "linecolor": "white",
            "showbackground": true,
            "ticks": "",
            "zerolinecolor": "white"
           },
           "zaxis": {
            "backgroundcolor": "#E5ECF6",
            "gridcolor": "white",
            "gridwidth": 2,
            "linecolor": "white",
            "showbackground": true,
            "ticks": "",
            "zerolinecolor": "white"
           }
          },
          "shapedefaults": {
           "line": {
            "color": "#2a3f5f"
           }
          },
          "ternary": {
           "aaxis": {
            "gridcolor": "white",
            "linecolor": "white",
            "ticks": ""
           },
           "baxis": {
            "gridcolor": "white",
            "linecolor": "white",
            "ticks": ""
           },
           "bgcolor": "#E5ECF6",
           "caxis": {
            "gridcolor": "white",
            "linecolor": "white",
            "ticks": ""
           }
          },
          "title": {
           "x": 0.05
          },
          "xaxis": {
           "automargin": true,
           "gridcolor": "white",
           "linecolor": "white",
           "ticks": "",
           "title": {
            "standoff": 15
           },
           "zerolinecolor": "white",
           "zerolinewidth": 2
          },
          "yaxis": {
           "automargin": true,
           "gridcolor": "white",
           "linecolor": "white",
           "ticks": "",
           "title": {
            "standoff": 15
           },
           "zerolinecolor": "white",
           "zerolinewidth": 2
          }
         }
        },
        "title": {
         "text": "Mean similarity of 65 Data Scientist CV's to requirement clusters in context of relative cluster presence"
        },
        "xaxis": {
         "anchor": "y",
         "domain": [
          0,
          1
         ],
         "title": {
          "text": "CV Similarity to Cluster"
         }
        },
        "yaxis": {
         "anchor": "x",
         "domain": [
          0,
          1
         ],
         "title": {
          "text": "3 most common Bigrams in Cluster"
         }
        }
       }
      },
      "text/html": [
       "<div>                            <div id=\"cd9dc611-a06a-4369-a8e7-2348eee83d10\" class=\"plotly-graph-div\" style=\"height:800px; width:100%;\"></div>            <script type=\"text/javascript\">                require([\"plotly\"], function(Plotly) {                    window.PLOTLYENV=window.PLOTLYENV || {};                                    if (document.getElementById(\"cd9dc611-a06a-4369-a8e7-2348eee83d10\")) {                    Plotly.newPlot(                        \"cd9dc611-a06a-4369-a8e7-2348eee83d10\",                        [{\"alignmentgroup\": \"True\", \"customdata\": [[0.14917127071823208], [0.17034990791896848], [0.18876611418047898], [0.23296500920810292], [0.23756906077348094], [0.23756906077348094], [0.24401473296500942], [0.27440147329650105], [0.2771639042357278], [0.2918968692449355], [0.30294659300184174], [0.3112338858195212], [0.3241252302025782], [0.33701657458563583], [0.3453038674033154], [0.3581952117863724], [0.3609576427255983], [0.387661141804788], [0.3895027624309397], [0.3913443830570909], [0.4023941068139967], [0.4143646408839779], [0.42173112338858226], [0.42817679558011074], [0.4290976058931865], [0.4337016574585633], [0.4364640883977905], [0.44290976058931897], [0.4604051565377532], [0.5359116022099453], [0.5377532228360951]], \"hovertemplate\": \"variable=CV_similarity<br>value=%{x}<br>labels=%{y}<br>presence=%{customdata[0]}<extra></extra>\", \"legendgroup\": \"CV_similarity\", \"marker\": {\"color\": \"#636efa\"}, \"name\": \"CV_similarity\", \"offsetgroup\": \"CV_similarity\", \"orientation\": \"h\", \"showlegend\": true, \"textposition\": \"auto\", \"type\": \"bar\", \"x\": [0.05810381631171717, 0.027490156618064674, 0.0019100881895284076, 0.09174607375205945, 0.11780215554740205, 0.013517462499508387, 0.12887800837376798, 0.12181879478412647, 0.024124705267373127, 0.15227126944907873, 0.009168204395698487, 0.03808490816148459, 0.18410457911211067, 0.013021085652829436, 0.17850717283130432, 0.14609366350564026, 0.06584464384817773, 0.19522995532337367, 0.1691957587455164, 0.043895441654109676, 0.007317583226796059, 0.06413938675786732, 0.175253491489148, 0.22498993870158238, 0.1487945515054376, 0.18361823762990834, 0.21526784042946495, 0.24906016501326841, 0.25683274543754536, 0.10505298514956905, 0.30438424309942363], \"xaxis\": \"x\", \"y\": [\"Cluster 24: deep learning, machine learning, experience deep\", \"Cluster 20: experience working, single cell, next-generation sequencing\", \"Cluster 3: years experience, related field, years relevant\", \"Cluster 27: experience cloud, google cloud, cloud computing\", \"Cluster 1: knowledge sql, relational databases, sql queries\", \"Cluster 5: track record, research projects, scientific technical\", \"Cluster 14: data visualization, visualization tools, experience data\", \"Cluster 19: predictive models, machine learning, model performance\", \"Cluster 2: ability work, work independently, fast-paced environment\", \"Cluster 8: big data, experience working, experience big\", \"Cluster 17: problem-solving skills, problem solving, strong analytical\", \"Cluster 4: learn new, new technologies, eager learn\", \"Cluster 29: data quality, data management, data pipelines\", \"Cluster 21: helping others, people around, lasting mark\", \"Cluster 6: machine learning, learning models, learning algorithms\", \"Cluster 23: data analysis, results clear, track record\", \"Cluster 0: team player, ability work, team members\", \"Cluster 11: data sets, data analysis, data sources\", \"Cluster 15: years experience, experience data, data science\", \"Cluster 26: working environment, work environment, professional development\", \"Cluster 28: fluent english, communication skills, english fluent\", \"Cluster 7: communication skills, excellent communication, skills excellent\", \"Cluster 9: attention detail, natural language, social media\", \"Cluster 13: data science, data scientists, data scientist\", \"Cluster 16: business stakeholders, work closely, internal external\", \"Cluster 25: business problems, translate business, understand business\", \"Cluster 12: machine learning, learning techniques, machine learning,\", \"Cluster 22: version control, software engineering, best practices\", \"Cluster 10: experience working, software development, project management\", \"Cluster 30: computer science, computer science, master\\u2019s degree\", \"Cluster 18: programming skills, programming languages, data science\"], \"yaxis\": \"y\"}, {\"alignmentgroup\": \"True\", \"customdata\": [[0.14917127071823208], [0.17034990791896848], [0.18876611418047898], [0.23296500920810292], [0.23756906077348094], [0.23756906077348094], [0.24401473296500942], [0.27440147329650105], [0.2771639042357278], [0.2918968692449355], [0.30294659300184174], [0.3112338858195212], [0.3241252302025782], [0.33701657458563583], [0.3453038674033154], [0.3581952117863724], [0.3609576427255983], [0.387661141804788], [0.3895027624309397], [0.3913443830570909], [0.4023941068139967], [0.4143646408839779], [0.42173112338858226], [0.42817679558011074], [0.4290976058931865], [0.4337016574585633], [0.4364640883977905], [0.44290976058931897], [0.4604051565377532], [0.5359116022099453], [0.5377532228360951]], \"hovertemplate\": \"variable=Presence_Cluster_in_Job_Postings<br>value=%{x}<br>labels=%{y}<br>presence=%{customdata[0]}<extra></extra>\", \"legendgroup\": \"Presence_Cluster_in_Job_Postings\", \"marker\": {\"color\": \"#EF553B\"}, \"name\": \"Presence_Cluster_in_Job_Postings\", \"offsetgroup\": \"Presence_Cluster_in_Job_Postings\", \"orientation\": \"h\", \"showlegend\": true, \"textposition\": \"auto\", \"type\": \"bar\", \"x\": [0.09106745440651483, 0.14285975130090386, 0.18685602599095055, 0.14121893545604364, 0.11976690522607855, 0.22405159827397253, 0.1151367245912413, 0.15258267851237456, 0.2530391989683546, 0.13962559979585668, 0.29377838860614325, 0.27314897765803653, 0.14002065109046757, 0.3239954889328064, 0.16679669457201057, 0.21210154828073166, 0.2951129988774207, 0.1924311864814146, 0.2203070036854229, 0.34744894140298105, 0.3950765235872006, 0.35022525412611055, 0.24647763189943403, 0.2031868568785282, 0.28030305438774855, 0.2500834198286552, 0.22119624796832515, 0.19384959557605022, 0.20357241110020782, 0.4308586170603762, 0.23336897973667203], \"xaxis\": \"x\", \"y\": [\"Cluster 24: deep learning, machine learning, experience deep\", \"Cluster 20: experience working, single cell, next-generation sequencing\", \"Cluster 3: years experience, related field, years relevant\", \"Cluster 27: experience cloud, google cloud, cloud computing\", \"Cluster 1: knowledge sql, relational databases, sql queries\", \"Cluster 5: track record, research projects, scientific technical\", \"Cluster 14: data visualization, visualization tools, experience data\", \"Cluster 19: predictive models, machine learning, model performance\", \"Cluster 2: ability work, work independently, fast-paced environment\", \"Cluster 8: big data, experience working, experience big\", \"Cluster 17: problem-solving skills, problem solving, strong analytical\", \"Cluster 4: learn new, new technologies, eager learn\", \"Cluster 29: data quality, data management, data pipelines\", \"Cluster 21: helping others, people around, lasting mark\", \"Cluster 6: machine learning, learning models, learning algorithms\", \"Cluster 23: data analysis, results clear, track record\", \"Cluster 0: team player, ability work, team members\", \"Cluster 11: data sets, data analysis, data sources\", \"Cluster 15: years experience, experience data, data science\", \"Cluster 26: working environment, work environment, professional development\", \"Cluster 28: fluent english, communication skills, english fluent\", \"Cluster 7: communication skills, excellent communication, skills excellent\", \"Cluster 9: attention detail, natural language, social media\", \"Cluster 13: data science, data scientists, data scientist\", \"Cluster 16: business stakeholders, work closely, internal external\", \"Cluster 25: business problems, translate business, understand business\", \"Cluster 12: machine learning, learning techniques, machine learning,\", \"Cluster 22: version control, software engineering, best practices\", \"Cluster 10: experience working, software development, project management\", \"Cluster 30: computer science, computer science, master\\u2019s degree\", \"Cluster 18: programming skills, programming languages, data science\"], \"yaxis\": \"y\"}],                        {\"barmode\": \"stack\", \"height\": 800, \"legend\": {\"title\": {\"text\": \"variable\"}, \"tracegroupgap\": 0}, \"margin\": {\"t\": 60}, \"template\": {\"data\": {\"bar\": [{\"error_x\": {\"color\": \"#2a3f5f\"}, \"error_y\": {\"color\": \"#2a3f5f\"}, \"marker\": {\"line\": {\"color\": \"#E5ECF6\", \"width\": 0.5}}, \"type\": \"bar\"}], \"barpolar\": [{\"marker\": {\"line\": {\"color\": \"#E5ECF6\", \"width\": 0.5}}, \"type\": \"barpolar\"}], \"carpet\": [{\"aaxis\": {\"endlinecolor\": \"#2a3f5f\", \"gridcolor\": \"white\", \"linecolor\": \"white\", \"minorgridcolor\": \"white\", \"startlinecolor\": \"#2a3f5f\"}, \"baxis\": {\"endlinecolor\": \"#2a3f5f\", \"gridcolor\": \"white\", \"linecolor\": \"white\", \"minorgridcolor\": \"white\", \"startlinecolor\": \"#2a3f5f\"}, \"type\": \"carpet\"}], \"choropleth\": [{\"colorbar\": {\"outlinewidth\": 0, \"ticks\": \"\"}, \"type\": \"choropleth\"}], \"contour\": [{\"colorbar\": {\"outlinewidth\": 0, \"ticks\": \"\"}, \"colorscale\": [[0.0, \"#0d0887\"], [0.1111111111111111, \"#46039f\"], [0.2222222222222222, \"#7201a8\"], [0.3333333333333333, \"#9c179e\"], [0.4444444444444444, \"#bd3786\"], [0.5555555555555556, \"#d8576b\"], [0.6666666666666666, \"#ed7953\"], [0.7777777777777778, \"#fb9f3a\"], [0.8888888888888888, \"#fdca26\"], [1.0, \"#f0f921\"]], \"type\": \"contour\"}], \"contourcarpet\": [{\"colorbar\": {\"outlinewidth\": 0, \"ticks\": \"\"}, \"type\": \"contourcarpet\"}], \"heatmap\": [{\"colorbar\": {\"outlinewidth\": 0, \"ticks\": \"\"}, \"colorscale\": [[0.0, \"#0d0887\"], [0.1111111111111111, \"#46039f\"], [0.2222222222222222, \"#7201a8\"], [0.3333333333333333, \"#9c179e\"], [0.4444444444444444, \"#bd3786\"], [0.5555555555555556, \"#d8576b\"], [0.6666666666666666, \"#ed7953\"], [0.7777777777777778, \"#fb9f3a\"], [0.8888888888888888, \"#fdca26\"], [1.0, \"#f0f921\"]], \"type\": \"heatmap\"}], \"heatmapgl\": [{\"colorbar\": {\"outlinewidth\": 0, \"ticks\": \"\"}, \"colorscale\": [[0.0, \"#0d0887\"], [0.1111111111111111, \"#46039f\"], [0.2222222222222222, \"#7201a8\"], [0.3333333333333333, \"#9c179e\"], [0.4444444444444444, \"#bd3786\"], [0.5555555555555556, \"#d8576b\"], [0.6666666666666666, \"#ed7953\"], [0.7777777777777778, \"#fb9f3a\"], [0.8888888888888888, \"#fdca26\"], [1.0, \"#f0f921\"]], \"type\": \"heatmapgl\"}], \"histogram\": [{\"marker\": {\"colorbar\": {\"outlinewidth\": 0, \"ticks\": \"\"}}, \"type\": \"histogram\"}], \"histogram2d\": [{\"colorbar\": {\"outlinewidth\": 0, \"ticks\": \"\"}, \"colorscale\": [[0.0, \"#0d0887\"], [0.1111111111111111, \"#46039f\"], [0.2222222222222222, \"#7201a8\"], [0.3333333333333333, \"#9c179e\"], [0.4444444444444444, \"#bd3786\"], [0.5555555555555556, \"#d8576b\"], [0.6666666666666666, \"#ed7953\"], [0.7777777777777778, \"#fb9f3a\"], [0.8888888888888888, \"#fdca26\"], [1.0, \"#f0f921\"]], \"type\": \"histogram2d\"}], \"histogram2dcontour\": [{\"colorbar\": {\"outlinewidth\": 0, \"ticks\": \"\"}, \"colorscale\": [[0.0, \"#0d0887\"], [0.1111111111111111, \"#46039f\"], [0.2222222222222222, \"#7201a8\"], [0.3333333333333333, \"#9c179e\"], [0.4444444444444444, \"#bd3786\"], [0.5555555555555556, \"#d8576b\"], [0.6666666666666666, \"#ed7953\"], [0.7777777777777778, \"#fb9f3a\"], [0.8888888888888888, \"#fdca26\"], [1.0, \"#f0f921\"]], \"type\": \"histogram2dcontour\"}], \"mesh3d\": [{\"colorbar\": {\"outlinewidth\": 0, \"ticks\": \"\"}, \"type\": \"mesh3d\"}], \"parcoords\": [{\"line\": {\"colorbar\": {\"outlinewidth\": 0, \"ticks\": \"\"}}, \"type\": \"parcoords\"}], \"pie\": [{\"automargin\": true, \"type\": \"pie\"}], \"scatter\": [{\"marker\": {\"colorbar\": {\"outlinewidth\": 0, \"ticks\": \"\"}}, \"type\": \"scatter\"}], \"scatter3d\": [{\"line\": {\"colorbar\": {\"outlinewidth\": 0, \"ticks\": \"\"}}, \"marker\": {\"colorbar\": {\"outlinewidth\": 0, \"ticks\": \"\"}}, \"type\": \"scatter3d\"}], \"scattercarpet\": [{\"marker\": {\"colorbar\": {\"outlinewidth\": 0, \"ticks\": \"\"}}, \"type\": \"scattercarpet\"}], \"scattergeo\": [{\"marker\": {\"colorbar\": {\"outlinewidth\": 0, \"ticks\": \"\"}}, \"type\": \"scattergeo\"}], \"scattergl\": [{\"marker\": {\"colorbar\": {\"outlinewidth\": 0, \"ticks\": \"\"}}, \"type\": \"scattergl\"}], \"scattermapbox\": [{\"marker\": {\"colorbar\": {\"outlinewidth\": 0, \"ticks\": \"\"}}, \"type\": \"scattermapbox\"}], \"scatterpolar\": [{\"marker\": {\"colorbar\": {\"outlinewidth\": 0, \"ticks\": \"\"}}, \"type\": \"scatterpolar\"}], \"scatterpolargl\": [{\"marker\": {\"colorbar\": {\"outlinewidth\": 0, \"ticks\": \"\"}}, \"type\": \"scatterpolargl\"}], \"scatterternary\": [{\"marker\": {\"colorbar\": {\"outlinewidth\": 0, \"ticks\": \"\"}}, \"type\": \"scatterternary\"}], \"surface\": [{\"colorbar\": {\"outlinewidth\": 0, \"ticks\": \"\"}, \"colorscale\": [[0.0, \"#0d0887\"], [0.1111111111111111, \"#46039f\"], [0.2222222222222222, \"#7201a8\"], [0.3333333333333333, \"#9c179e\"], [0.4444444444444444, \"#bd3786\"], [0.5555555555555556, \"#d8576b\"], [0.6666666666666666, \"#ed7953\"], [0.7777777777777778, \"#fb9f3a\"], [0.8888888888888888, \"#fdca26\"], [1.0, \"#f0f921\"]], \"type\": \"surface\"}], \"table\": [{\"cells\": {\"fill\": {\"color\": \"#EBF0F8\"}, \"line\": {\"color\": \"white\"}}, \"header\": {\"fill\": {\"color\": \"#C8D4E3\"}, \"line\": {\"color\": \"white\"}}, \"type\": \"table\"}]}, \"layout\": {\"annotationdefaults\": {\"arrowcolor\": \"#2a3f5f\", \"arrowhead\": 0, \"arrowwidth\": 1}, \"autotypenumbers\": \"strict\", \"coloraxis\": {\"colorbar\": {\"outlinewidth\": 0, \"ticks\": \"\"}}, \"colorscale\": {\"diverging\": [[0, \"#8e0152\"], [0.1, \"#c51b7d\"], [0.2, \"#de77ae\"], [0.3, \"#f1b6da\"], [0.4, \"#fde0ef\"], [0.5, \"#f7f7f7\"], [0.6, \"#e6f5d0\"], [0.7, \"#b8e186\"], [0.8, \"#7fbc41\"], [0.9, \"#4d9221\"], [1, \"#276419\"]], \"sequential\": [[0.0, \"#0d0887\"], [0.1111111111111111, \"#46039f\"], [0.2222222222222222, \"#7201a8\"], [0.3333333333333333, \"#9c179e\"], [0.4444444444444444, \"#bd3786\"], [0.5555555555555556, \"#d8576b\"], [0.6666666666666666, \"#ed7953\"], [0.7777777777777778, \"#fb9f3a\"], [0.8888888888888888, \"#fdca26\"], [1.0, \"#f0f921\"]], \"sequentialminus\": [[0.0, \"#0d0887\"], [0.1111111111111111, \"#46039f\"], [0.2222222222222222, \"#7201a8\"], [0.3333333333333333, \"#9c179e\"], [0.4444444444444444, \"#bd3786\"], [0.5555555555555556, \"#d8576b\"], [0.6666666666666666, \"#ed7953\"], [0.7777777777777778, \"#fb9f3a\"], [0.8888888888888888, \"#fdca26\"], [1.0, \"#f0f921\"]]}, \"colorway\": [\"#636efa\", \"#EF553B\", \"#00cc96\", \"#ab63fa\", \"#FFA15A\", \"#19d3f3\", \"#FF6692\", \"#B6E880\", \"#FF97FF\", \"#FECB52\"], \"font\": {\"color\": \"#2a3f5f\"}, \"geo\": {\"bgcolor\": \"white\", \"lakecolor\": \"white\", \"landcolor\": \"#E5ECF6\", \"showlakes\": true, \"showland\": true, \"subunitcolor\": \"white\"}, \"hoverlabel\": {\"align\": \"left\"}, \"hovermode\": \"closest\", \"mapbox\": {\"style\": \"light\"}, \"paper_bgcolor\": \"white\", \"plot_bgcolor\": \"#E5ECF6\", \"polar\": {\"angularaxis\": {\"gridcolor\": \"white\", \"linecolor\": \"white\", \"ticks\": \"\"}, \"bgcolor\": \"#E5ECF6\", \"radialaxis\": {\"gridcolor\": \"white\", \"linecolor\": \"white\", \"ticks\": \"\"}}, \"scene\": {\"xaxis\": {\"backgroundcolor\": \"#E5ECF6\", \"gridcolor\": \"white\", \"gridwidth\": 2, \"linecolor\": \"white\", \"showbackground\": true, \"ticks\": \"\", \"zerolinecolor\": \"white\"}, \"yaxis\": {\"backgroundcolor\": \"#E5ECF6\", \"gridcolor\": \"white\", \"gridwidth\": 2, \"linecolor\": \"white\", \"showbackground\": true, \"ticks\": \"\", \"zerolinecolor\": \"white\"}, \"zaxis\": {\"backgroundcolor\": \"#E5ECF6\", \"gridcolor\": \"white\", \"gridwidth\": 2, \"linecolor\": \"white\", \"showbackground\": true, \"ticks\": \"\", \"zerolinecolor\": \"white\"}}, \"shapedefaults\": {\"line\": {\"color\": \"#2a3f5f\"}}, \"ternary\": {\"aaxis\": {\"gridcolor\": \"white\", \"linecolor\": \"white\", \"ticks\": \"\"}, \"baxis\": {\"gridcolor\": \"white\", \"linecolor\": \"white\", \"ticks\": \"\"}, \"bgcolor\": \"#E5ECF6\", \"caxis\": {\"gridcolor\": \"white\", \"linecolor\": \"white\", \"ticks\": \"\"}}, \"title\": {\"x\": 0.05}, \"xaxis\": {\"automargin\": true, \"gridcolor\": \"white\", \"linecolor\": \"white\", \"ticks\": \"\", \"title\": {\"standoff\": 15}, \"zerolinecolor\": \"white\", \"zerolinewidth\": 2}, \"yaxis\": {\"automargin\": true, \"gridcolor\": \"white\", \"linecolor\": \"white\", \"ticks\": \"\", \"title\": {\"standoff\": 15}, \"zerolinecolor\": \"white\", \"zerolinewidth\": 2}}}, \"title\": {\"text\": \"Mean similarity of 65 Data Scientist CV's to requirement clusters in context of relative cluster presence\"}, \"xaxis\": {\"anchor\": \"y\", \"domain\": [0.0, 1.0], \"title\": {\"text\": \"CV Similarity to Cluster\"}}, \"yaxis\": {\"anchor\": \"x\", \"domain\": [0.0, 1.0], \"title\": {\"text\": \"3 most common Bigrams in Cluster\"}}},                        {\"responsive\": true}                    ).then(function(){\n",
       "                            \n",
       "var gd = document.getElementById('cd9dc611-a06a-4369-a8e7-2348eee83d10');\n",
       "var x = new MutationObserver(function (mutations, observer) {{\n",
       "        var display = window.getComputedStyle(gd).display;\n",
       "        if (!display || display === 'none') {{\n",
       "            console.log([gd, 'removed!']);\n",
       "            Plotly.purge(gd);\n",
       "            observer.disconnect();\n",
       "        }}\n",
       "}});\n",
       "\n",
       "// Listen for the removal of the full notebook cells\n",
       "var notebookContainer = gd.closest('#notebook-container');\n",
       "if (notebookContainer) {{\n",
       "    x.observe(notebookContainer, {childList: true});\n",
       "}}\n",
       "\n",
       "// Listen for the clearing of the current output cell\n",
       "var outputEl = gd.closest('.output');\n",
       "if (outputEl) {{\n",
       "    x.observe(outputEl, {childList: true});\n",
       "}}\n",
       "\n",
       "                        })                };                });            </script>        </div>"
      ]
     },
     "metadata": {},
     "output_type": "display_data"
    }
   ],
   "source": [
    "fig = px.bar(df_sim_avg, y=\"labels\", x=[\"CV_similarity\",\"Presence_Cluster_in_Job_Postings\"], hover_data = ['presence'])\n",
    "fig.update_layout(height=800, \\\n",
    "                          title = 'Mean similarity of 65 Data Scientist CV\\'s to requirement clusters in context of relative cluster presence',\\\n",
    "                          barmode='stack',\\\n",
    "                          yaxis_title=\"3 most common Bigrams in Cluster\",\\\n",
    "                          xaxis_title=\"CV Similarity to Cluster\")\n",
    "fig.show()"
   ]
  },
  {
   "cell_type": "code",
   "execution_count": 145,
   "metadata": {},
   "outputs": [
    {
     "data": {
      "application/vnd.plotly.v1+json": {
       "config": {
        "plotlyServerURL": "https://plot.ly"
       },
       "data": [
        {
         "alignmentgroup": "True",
         "customdata": [
          [
           0.14917127071823205
          ],
          [
           0.1703499079189687
          ],
          [
           0.1887661141804788
          ],
          [
           0.23296500920810312
          ],
          [
           0.23756906077348067
          ],
          [
           0.23756906077348067
          ],
          [
           0.2440147329650092
          ],
          [
           0.27440147329650094
          ],
          [
           0.27716390423572745
          ],
          [
           0.2918968692449355
          ],
          [
           0.3029465930018416
          ],
          [
           0.31123388581952116
          ],
          [
           0.3241252302025783
          ],
          [
           0.3370165745856354
          ],
          [
           0.3453038674033149
          ],
          [
           0.358195211786372
          ],
          [
           0.36095764272559855
          ],
          [
           0.3876611418047882
          ],
          [
           0.38950276243093923
          ],
          [
           0.39134438305709024
          ],
          [
           0.40239410681399634
          ],
          [
           0.4143646408839779
          ],
          [
           0.42173112338858193
          ],
          [
           0.4281767955801105
          ],
          [
           0.429097605893186
          ],
          [
           0.43370165745856354
          ],
          [
           0.43646408839779005
          ],
          [
           0.4429097605893186
          ],
          [
           0.4604051565377532
          ],
          [
           0.5359116022099447
          ],
          [
           0.5377532228360957
          ]
         ],
         "hovertemplate": "variable=CV_similarity<br>value=%{x}<br>labels=%{y}<br>presence=%{customdata[0]}<extra></extra>",
         "legendgroup": "CV_similarity",
         "marker": {
          "color": "#636efa"
         },
         "name": "CV_similarity",
         "offsetgroup": "CV_similarity",
         "orientation": "h",
         "showlegend": true,
         "textposition": "auto",
         "type": "bar",
         "x": [
          0.09643990706449174,
          0,
          0,
          0,
          0.15721621288137738,
          0.11449218435238183,
          0.17741534188125954,
          0.19214201560936003,
          0,
          0.1697445402086,
          0,
          0,
          0.2276960506800754,
          0,
          0.23876215216014915,
          0.17764157513646725,
          0,
          0.2448584298362114,
          0,
          0,
          0,
          0,
          0.16898973112044477,
          0.2762153906987808,
          0,
          0.2631634368441391,
          0.22845993628179806,
          0.31037622078258115,
          0,
          0,
          0
         ],
         "xaxis": "x",
         "y": [
          "Cluster 24: deep learning, machine learning, experience deep",
          "Cluster 20: experience working, single cell, next-generation sequencing",
          "Cluster 3: years experience, related field, years relevant",
          "Cluster 27: experience cloud, google cloud, cloud computing",
          "Cluster 1: knowledge sql, relational databases, sql queries",
          "Cluster 5: track record, research projects, scientific technical",
          "Cluster 14: data visualization, visualization tools, experience data",
          "Cluster 19: predictive models, machine learning, model performance",
          "Cluster 2: ability work, work independently, fast-paced environment",
          "Cluster 8: big data, experience working, experience big",
          "Cluster 17: problem-solving skills, problem solving, strong analytical",
          "Cluster 4: learn new, new technologies, eager learn",
          "Cluster 29: data quality, data management, data pipelines",
          "Cluster 21: helping others, people around, lasting mark",
          "Cluster 6: machine learning, learning models, learning algorithms",
          "Cluster 23: data analysis, results clear, track record",
          "Cluster 0: team player, ability work, team members",
          "Cluster 11: data sets, data analysis, data sources",
          "Cluster 15: years experience, experience data, data science",
          "Cluster 26: working environment, work environment, professional development",
          "Cluster 28: fluent english, communication skills, english fluent",
          "Cluster 7: communication skills, excellent communication, skills excellent",
          "Cluster 9: attention detail, natural language, social media",
          "Cluster 13: data science, data scientists, data scientist",
          "Cluster 16: business stakeholders, work closely, internal external",
          "Cluster 25: business problems, translate business, understand business",
          "Cluster 12: machine learning, learning techniques, machine learning,",
          "Cluster 22: version control, software engineering, best practices",
          "Cluster 10: experience working, software development, project management",
          "Cluster 30: computer science, computer science, master’s degree",
          "Cluster 18: programming skills, programming languages, data science"
         ],
         "yaxis": "y"
        },
        {
         "alignmentgroup": "True",
         "customdata": [
          [
           0.14917127071823205
          ],
          [
           0.1703499079189687
          ],
          [
           0.1887661141804788
          ],
          [
           0.23296500920810312
          ],
          [
           0.23756906077348067
          ],
          [
           0.23756906077348067
          ],
          [
           0.2440147329650092
          ],
          [
           0.27440147329650094
          ],
          [
           0.27716390423572745
          ],
          [
           0.2918968692449355
          ],
          [
           0.3029465930018416
          ],
          [
           0.31123388581952116
          ],
          [
           0.3241252302025783
          ],
          [
           0.3370165745856354
          ],
          [
           0.3453038674033149
          ],
          [
           0.358195211786372
          ],
          [
           0.36095764272559855
          ],
          [
           0.3876611418047882
          ],
          [
           0.38950276243093923
          ],
          [
           0.39134438305709024
          ],
          [
           0.40239410681399634
          ],
          [
           0.4143646408839779
          ],
          [
           0.42173112338858193
          ],
          [
           0.4281767955801105
          ],
          [
           0.429097605893186
          ],
          [
           0.43370165745856354
          ],
          [
           0.43646408839779005
          ],
          [
           0.4429097605893186
          ],
          [
           0.4604051565377532
          ],
          [
           0.5359116022099447
          ],
          [
           0.5377532228360957
          ]
         ],
         "hovertemplate": "variable=Presence_Cluster_in_Job_Postings<br>value=%{x}<br>labels=%{y}<br>presence=%{customdata[0]}<extra></extra>",
         "legendgroup": "Presence_Cluster_in_Job_Postings",
         "marker": {
          "color": "#EF553B"
         },
         "name": "Presence_Cluster_in_Job_Postings",
         "offsetgroup": "Presence_Cluster_in_Job_Postings",
         "orientation": "h",
         "showlegend": true,
         "textposition": "auto",
         "type": "bar",
         "x": [
          0.052731363653740315,
          0.1703499079189687,
          0.1887661141804788,
          0.23296500920810312,
          0.08035284789210329,
          0.12307687642109884,
          0.06659939108374965,
          0.08225945768714091,
          0.27716390423572745,
          0.12215232903633552,
          0.3029465930018416,
          0.31123388581952116,
          0.09642917952250288,
          0.3370165745856354,
          0.10654171524316577,
          0.18055363664990473,
          0.36095764272559855,
          0.14280271196857683,
          0.38950276243093923,
          0.39134438305709024,
          0.40239410681399634,
          0.4143646408839779,
          0.2527413922681372,
          0.1519614048813297,
          0.429097605893186,
          0.17053822061442442,
          0.208004152115992,
          0.13253353980673743,
          0.4604051565377532,
          0.5359116022099447,
          0.5377532228360957
         ],
         "xaxis": "x",
         "y": [
          "Cluster 24: deep learning, machine learning, experience deep",
          "Cluster 20: experience working, single cell, next-generation sequencing",
          "Cluster 3: years experience, related field, years relevant",
          "Cluster 27: experience cloud, google cloud, cloud computing",
          "Cluster 1: knowledge sql, relational databases, sql queries",
          "Cluster 5: track record, research projects, scientific technical",
          "Cluster 14: data visualization, visualization tools, experience data",
          "Cluster 19: predictive models, machine learning, model performance",
          "Cluster 2: ability work, work independently, fast-paced environment",
          "Cluster 8: big data, experience working, experience big",
          "Cluster 17: problem-solving skills, problem solving, strong analytical",
          "Cluster 4: learn new, new technologies, eager learn",
          "Cluster 29: data quality, data management, data pipelines",
          "Cluster 21: helping others, people around, lasting mark",
          "Cluster 6: machine learning, learning models, learning algorithms",
          "Cluster 23: data analysis, results clear, track record",
          "Cluster 0: team player, ability work, team members",
          "Cluster 11: data sets, data analysis, data sources",
          "Cluster 15: years experience, experience data, data science",
          "Cluster 26: working environment, work environment, professional development",
          "Cluster 28: fluent english, communication skills, english fluent",
          "Cluster 7: communication skills, excellent communication, skills excellent",
          "Cluster 9: attention detail, natural language, social media",
          "Cluster 13: data science, data scientists, data scientist",
          "Cluster 16: business stakeholders, work closely, internal external",
          "Cluster 25: business problems, translate business, understand business",
          "Cluster 12: machine learning, learning techniques, machine learning,",
          "Cluster 22: version control, software engineering, best practices",
          "Cluster 10: experience working, software development, project management",
          "Cluster 30: computer science, computer science, master’s degree",
          "Cluster 18: programming skills, programming languages, data science"
         ],
         "yaxis": "y"
        }
       ],
       "layout": {
        "barmode": "stack",
        "height": 800,
        "legend": {
         "title": {
          "text": "variable"
         },
         "tracegroupgap": 0
        },
        "margin": {
         "t": 60
        },
        "template": {
         "data": {
          "bar": [
           {
            "error_x": {
             "color": "#2a3f5f"
            },
            "error_y": {
             "color": "#2a3f5f"
            },
            "marker": {
             "line": {
              "color": "#E5ECF6",
              "width": 0.5
             }
            },
            "type": "bar"
           }
          ],
          "barpolar": [
           {
            "marker": {
             "line": {
              "color": "#E5ECF6",
              "width": 0.5
             }
            },
            "type": "barpolar"
           }
          ],
          "carpet": [
           {
            "aaxis": {
             "endlinecolor": "#2a3f5f",
             "gridcolor": "white",
             "linecolor": "white",
             "minorgridcolor": "white",
             "startlinecolor": "#2a3f5f"
            },
            "baxis": {
             "endlinecolor": "#2a3f5f",
             "gridcolor": "white",
             "linecolor": "white",
             "minorgridcolor": "white",
             "startlinecolor": "#2a3f5f"
            },
            "type": "carpet"
           }
          ],
          "choropleth": [
           {
            "colorbar": {
             "outlinewidth": 0,
             "ticks": ""
            },
            "type": "choropleth"
           }
          ],
          "contour": [
           {
            "colorbar": {
             "outlinewidth": 0,
             "ticks": ""
            },
            "colorscale": [
             [
              0,
              "#0d0887"
             ],
             [
              0.1111111111111111,
              "#46039f"
             ],
             [
              0.2222222222222222,
              "#7201a8"
             ],
             [
              0.3333333333333333,
              "#9c179e"
             ],
             [
              0.4444444444444444,
              "#bd3786"
             ],
             [
              0.5555555555555556,
              "#d8576b"
             ],
             [
              0.6666666666666666,
              "#ed7953"
             ],
             [
              0.7777777777777778,
              "#fb9f3a"
             ],
             [
              0.8888888888888888,
              "#fdca26"
             ],
             [
              1,
              "#f0f921"
             ]
            ],
            "type": "contour"
           }
          ],
          "contourcarpet": [
           {
            "colorbar": {
             "outlinewidth": 0,
             "ticks": ""
            },
            "type": "contourcarpet"
           }
          ],
          "heatmap": [
           {
            "colorbar": {
             "outlinewidth": 0,
             "ticks": ""
            },
            "colorscale": [
             [
              0,
              "#0d0887"
             ],
             [
              0.1111111111111111,
              "#46039f"
             ],
             [
              0.2222222222222222,
              "#7201a8"
             ],
             [
              0.3333333333333333,
              "#9c179e"
             ],
             [
              0.4444444444444444,
              "#bd3786"
             ],
             [
              0.5555555555555556,
              "#d8576b"
             ],
             [
              0.6666666666666666,
              "#ed7953"
             ],
             [
              0.7777777777777778,
              "#fb9f3a"
             ],
             [
              0.8888888888888888,
              "#fdca26"
             ],
             [
              1,
              "#f0f921"
             ]
            ],
            "type": "heatmap"
           }
          ],
          "heatmapgl": [
           {
            "colorbar": {
             "outlinewidth": 0,
             "ticks": ""
            },
            "colorscale": [
             [
              0,
              "#0d0887"
             ],
             [
              0.1111111111111111,
              "#46039f"
             ],
             [
              0.2222222222222222,
              "#7201a8"
             ],
             [
              0.3333333333333333,
              "#9c179e"
             ],
             [
              0.4444444444444444,
              "#bd3786"
             ],
             [
              0.5555555555555556,
              "#d8576b"
             ],
             [
              0.6666666666666666,
              "#ed7953"
             ],
             [
              0.7777777777777778,
              "#fb9f3a"
             ],
             [
              0.8888888888888888,
              "#fdca26"
             ],
             [
              1,
              "#f0f921"
             ]
            ],
            "type": "heatmapgl"
           }
          ],
          "histogram": [
           {
            "marker": {
             "colorbar": {
              "outlinewidth": 0,
              "ticks": ""
             }
            },
            "type": "histogram"
           }
          ],
          "histogram2d": [
           {
            "colorbar": {
             "outlinewidth": 0,
             "ticks": ""
            },
            "colorscale": [
             [
              0,
              "#0d0887"
             ],
             [
              0.1111111111111111,
              "#46039f"
             ],
             [
              0.2222222222222222,
              "#7201a8"
             ],
             [
              0.3333333333333333,
              "#9c179e"
             ],
             [
              0.4444444444444444,
              "#bd3786"
             ],
             [
              0.5555555555555556,
              "#d8576b"
             ],
             [
              0.6666666666666666,
              "#ed7953"
             ],
             [
              0.7777777777777778,
              "#fb9f3a"
             ],
             [
              0.8888888888888888,
              "#fdca26"
             ],
             [
              1,
              "#f0f921"
             ]
            ],
            "type": "histogram2d"
           }
          ],
          "histogram2dcontour": [
           {
            "colorbar": {
             "outlinewidth": 0,
             "ticks": ""
            },
            "colorscale": [
             [
              0,
              "#0d0887"
             ],
             [
              0.1111111111111111,
              "#46039f"
             ],
             [
              0.2222222222222222,
              "#7201a8"
             ],
             [
              0.3333333333333333,
              "#9c179e"
             ],
             [
              0.4444444444444444,
              "#bd3786"
             ],
             [
              0.5555555555555556,
              "#d8576b"
             ],
             [
              0.6666666666666666,
              "#ed7953"
             ],
             [
              0.7777777777777778,
              "#fb9f3a"
             ],
             [
              0.8888888888888888,
              "#fdca26"
             ],
             [
              1,
              "#f0f921"
             ]
            ],
            "type": "histogram2dcontour"
           }
          ],
          "mesh3d": [
           {
            "colorbar": {
             "outlinewidth": 0,
             "ticks": ""
            },
            "type": "mesh3d"
           }
          ],
          "parcoords": [
           {
            "line": {
             "colorbar": {
              "outlinewidth": 0,
              "ticks": ""
             }
            },
            "type": "parcoords"
           }
          ],
          "pie": [
           {
            "automargin": true,
            "type": "pie"
           }
          ],
          "scatter": [
           {
            "marker": {
             "colorbar": {
              "outlinewidth": 0,
              "ticks": ""
             }
            },
            "type": "scatter"
           }
          ],
          "scatter3d": [
           {
            "line": {
             "colorbar": {
              "outlinewidth": 0,
              "ticks": ""
             }
            },
            "marker": {
             "colorbar": {
              "outlinewidth": 0,
              "ticks": ""
             }
            },
            "type": "scatter3d"
           }
          ],
          "scattercarpet": [
           {
            "marker": {
             "colorbar": {
              "outlinewidth": 0,
              "ticks": ""
             }
            },
            "type": "scattercarpet"
           }
          ],
          "scattergeo": [
           {
            "marker": {
             "colorbar": {
              "outlinewidth": 0,
              "ticks": ""
             }
            },
            "type": "scattergeo"
           }
          ],
          "scattergl": [
           {
            "marker": {
             "colorbar": {
              "outlinewidth": 0,
              "ticks": ""
             }
            },
            "type": "scattergl"
           }
          ],
          "scattermapbox": [
           {
            "marker": {
             "colorbar": {
              "outlinewidth": 0,
              "ticks": ""
             }
            },
            "type": "scattermapbox"
           }
          ],
          "scatterpolar": [
           {
            "marker": {
             "colorbar": {
              "outlinewidth": 0,
              "ticks": ""
             }
            },
            "type": "scatterpolar"
           }
          ],
          "scatterpolargl": [
           {
            "marker": {
             "colorbar": {
              "outlinewidth": 0,
              "ticks": ""
             }
            },
            "type": "scatterpolargl"
           }
          ],
          "scatterternary": [
           {
            "marker": {
             "colorbar": {
              "outlinewidth": 0,
              "ticks": ""
             }
            },
            "type": "scatterternary"
           }
          ],
          "surface": [
           {
            "colorbar": {
             "outlinewidth": 0,
             "ticks": ""
            },
            "colorscale": [
             [
              0,
              "#0d0887"
             ],
             [
              0.1111111111111111,
              "#46039f"
             ],
             [
              0.2222222222222222,
              "#7201a8"
             ],
             [
              0.3333333333333333,
              "#9c179e"
             ],
             [
              0.4444444444444444,
              "#bd3786"
             ],
             [
              0.5555555555555556,
              "#d8576b"
             ],
             [
              0.6666666666666666,
              "#ed7953"
             ],
             [
              0.7777777777777778,
              "#fb9f3a"
             ],
             [
              0.8888888888888888,
              "#fdca26"
             ],
             [
              1,
              "#f0f921"
             ]
            ],
            "type": "surface"
           }
          ],
          "table": [
           {
            "cells": {
             "fill": {
              "color": "#EBF0F8"
             },
             "line": {
              "color": "white"
             }
            },
            "header": {
             "fill": {
              "color": "#C8D4E3"
             },
             "line": {
              "color": "white"
             }
            },
            "type": "table"
           }
          ]
         },
         "layout": {
          "annotationdefaults": {
           "arrowcolor": "#2a3f5f",
           "arrowhead": 0,
           "arrowwidth": 1
          },
          "autotypenumbers": "strict",
          "coloraxis": {
           "colorbar": {
            "outlinewidth": 0,
            "ticks": ""
           }
          },
          "colorscale": {
           "diverging": [
            [
             0,
             "#8e0152"
            ],
            [
             0.1,
             "#c51b7d"
            ],
            [
             0.2,
             "#de77ae"
            ],
            [
             0.3,
             "#f1b6da"
            ],
            [
             0.4,
             "#fde0ef"
            ],
            [
             0.5,
             "#f7f7f7"
            ],
            [
             0.6,
             "#e6f5d0"
            ],
            [
             0.7,
             "#b8e186"
            ],
            [
             0.8,
             "#7fbc41"
            ],
            [
             0.9,
             "#4d9221"
            ],
            [
             1,
             "#276419"
            ]
           ],
           "sequential": [
            [
             0,
             "#0d0887"
            ],
            [
             0.1111111111111111,
             "#46039f"
            ],
            [
             0.2222222222222222,
             "#7201a8"
            ],
            [
             0.3333333333333333,
             "#9c179e"
            ],
            [
             0.4444444444444444,
             "#bd3786"
            ],
            [
             0.5555555555555556,
             "#d8576b"
            ],
            [
             0.6666666666666666,
             "#ed7953"
            ],
            [
             0.7777777777777778,
             "#fb9f3a"
            ],
            [
             0.8888888888888888,
             "#fdca26"
            ],
            [
             1,
             "#f0f921"
            ]
           ],
           "sequentialminus": [
            [
             0,
             "#0d0887"
            ],
            [
             0.1111111111111111,
             "#46039f"
            ],
            [
             0.2222222222222222,
             "#7201a8"
            ],
            [
             0.3333333333333333,
             "#9c179e"
            ],
            [
             0.4444444444444444,
             "#bd3786"
            ],
            [
             0.5555555555555556,
             "#d8576b"
            ],
            [
             0.6666666666666666,
             "#ed7953"
            ],
            [
             0.7777777777777778,
             "#fb9f3a"
            ],
            [
             0.8888888888888888,
             "#fdca26"
            ],
            [
             1,
             "#f0f921"
            ]
           ]
          },
          "colorway": [
           "#636efa",
           "#EF553B",
           "#00cc96",
           "#ab63fa",
           "#FFA15A",
           "#19d3f3",
           "#FF6692",
           "#B6E880",
           "#FF97FF",
           "#FECB52"
          ],
          "font": {
           "color": "#2a3f5f"
          },
          "geo": {
           "bgcolor": "white",
           "lakecolor": "white",
           "landcolor": "#E5ECF6",
           "showlakes": true,
           "showland": true,
           "subunitcolor": "white"
          },
          "hoverlabel": {
           "align": "left"
          },
          "hovermode": "closest",
          "mapbox": {
           "style": "light"
          },
          "paper_bgcolor": "white",
          "plot_bgcolor": "#E5ECF6",
          "polar": {
           "angularaxis": {
            "gridcolor": "white",
            "linecolor": "white",
            "ticks": ""
           },
           "bgcolor": "#E5ECF6",
           "radialaxis": {
            "gridcolor": "white",
            "linecolor": "white",
            "ticks": ""
           }
          },
          "scene": {
           "xaxis": {
            "backgroundcolor": "#E5ECF6",
            "gridcolor": "white",
            "gridwidth": 2,
            "linecolor": "white",
            "showbackground": true,
            "ticks": "",
            "zerolinecolor": "white"
           },
           "yaxis": {
            "backgroundcolor": "#E5ECF6",
            "gridcolor": "white",
            "gridwidth": 2,
            "linecolor": "white",
            "showbackground": true,
            "ticks": "",
            "zerolinecolor": "white"
           },
           "zaxis": {
            "backgroundcolor": "#E5ECF6",
            "gridcolor": "white",
            "gridwidth": 2,
            "linecolor": "white",
            "showbackground": true,
            "ticks": "",
            "zerolinecolor": "white"
           }
          },
          "shapedefaults": {
           "line": {
            "color": "#2a3f5f"
           }
          },
          "ternary": {
           "aaxis": {
            "gridcolor": "white",
            "linecolor": "white",
            "ticks": ""
           },
           "baxis": {
            "gridcolor": "white",
            "linecolor": "white",
            "ticks": ""
           },
           "bgcolor": "#E5ECF6",
           "caxis": {
            "gridcolor": "white",
            "linecolor": "white",
            "ticks": ""
           }
          },
          "title": {
           "x": 0.05
          },
          "xaxis": {
           "automargin": true,
           "gridcolor": "white",
           "linecolor": "white",
           "ticks": "",
           "title": {
            "standoff": 15
           },
           "zerolinecolor": "white",
           "zerolinewidth": 2
          },
          "yaxis": {
           "automargin": true,
           "gridcolor": "white",
           "linecolor": "white",
           "ticks": "",
           "title": {
            "standoff": 15
           },
           "zerolinecolor": "white",
           "zerolinewidth": 2
          }
         }
        },
        "title": {
         "text": "CV similarity to requirement clusters in context of relative cluster presence"
        },
        "xaxis": {
         "anchor": "y",
         "domain": [
          0,
          1
         ],
         "title": {
          "text": "value"
         }
        },
        "yaxis": {
         "anchor": "x",
         "domain": [
          0,
          1
         ],
         "title": {
          "text": "labels"
         }
        }
       }
      },
      "text/html": [
       "<div>                            <div id=\"e1d5c82b-c283-48aa-8027-e1e156708e5c\" class=\"plotly-graph-div\" style=\"height:800px; width:100%;\"></div>            <script type=\"text/javascript\">                require([\"plotly\"], function(Plotly) {                    window.PLOTLYENV=window.PLOTLYENV || {};                                    if (document.getElementById(\"e1d5c82b-c283-48aa-8027-e1e156708e5c\")) {                    Plotly.newPlot(                        \"e1d5c82b-c283-48aa-8027-e1e156708e5c\",                        [{\"alignmentgroup\": \"True\", \"customdata\": [[0.14917127071823205], [0.1703499079189687], [0.1887661141804788], [0.23296500920810312], [0.23756906077348067], [0.23756906077348067], [0.2440147329650092], [0.27440147329650094], [0.27716390423572745], [0.2918968692449355], [0.3029465930018416], [0.31123388581952116], [0.3241252302025783], [0.3370165745856354], [0.3453038674033149], [0.358195211786372], [0.36095764272559855], [0.3876611418047882], [0.38950276243093923], [0.39134438305709024], [0.40239410681399634], [0.4143646408839779], [0.42173112338858193], [0.4281767955801105], [0.429097605893186], [0.43370165745856354], [0.43646408839779005], [0.4429097605893186], [0.4604051565377532], [0.5359116022099447], [0.5377532228360957]], \"hovertemplate\": \"variable=CV_similarity<br>value=%{x}<br>labels=%{y}<br>presence=%{customdata[0]}<extra></extra>\", \"legendgroup\": \"CV_similarity\", \"marker\": {\"color\": \"#636efa\"}, \"name\": \"CV_similarity\", \"offsetgroup\": \"CV_similarity\", \"orientation\": \"h\", \"showlegend\": true, \"textposition\": \"auto\", \"type\": \"bar\", \"x\": [0.09643990706449174, 0.0, 0.0, 0.0, 0.15721621288137738, 0.11449218435238183, 0.17741534188125954, 0.19214201560936003, 0.0, 0.1697445402086, 0.0, 0.0, 0.2276960506800754, 0.0, 0.23876215216014915, 0.17764157513646725, 0.0, 0.2448584298362114, 0.0, 0.0, 0.0, 0.0, 0.16898973112044477, 0.2762153906987808, 0.0, 0.2631634368441391, 0.22845993628179806, 0.31037622078258115, 0.0, 0.0, 0.0], \"xaxis\": \"x\", \"y\": [\"Cluster 24: deep learning, machine learning, experience deep\", \"Cluster 20: experience working, single cell, next-generation sequencing\", \"Cluster 3: years experience, related field, years relevant\", \"Cluster 27: experience cloud, google cloud, cloud computing\", \"Cluster 1: knowledge sql, relational databases, sql queries\", \"Cluster 5: track record, research projects, scientific technical\", \"Cluster 14: data visualization, visualization tools, experience data\", \"Cluster 19: predictive models, machine learning, model performance\", \"Cluster 2: ability work, work independently, fast-paced environment\", \"Cluster 8: big data, experience working, experience big\", \"Cluster 17: problem-solving skills, problem solving, strong analytical\", \"Cluster 4: learn new, new technologies, eager learn\", \"Cluster 29: data quality, data management, data pipelines\", \"Cluster 21: helping others, people around, lasting mark\", \"Cluster 6: machine learning, learning models, learning algorithms\", \"Cluster 23: data analysis, results clear, track record\", \"Cluster 0: team player, ability work, team members\", \"Cluster 11: data sets, data analysis, data sources\", \"Cluster 15: years experience, experience data, data science\", \"Cluster 26: working environment, work environment, professional development\", \"Cluster 28: fluent english, communication skills, english fluent\", \"Cluster 7: communication skills, excellent communication, skills excellent\", \"Cluster 9: attention detail, natural language, social media\", \"Cluster 13: data science, data scientists, data scientist\", \"Cluster 16: business stakeholders, work closely, internal external\", \"Cluster 25: business problems, translate business, understand business\", \"Cluster 12: machine learning, learning techniques, machine learning,\", \"Cluster 22: version control, software engineering, best practices\", \"Cluster 10: experience working, software development, project management\", \"Cluster 30: computer science, computer science, master\\u2019s degree\", \"Cluster 18: programming skills, programming languages, data science\"], \"yaxis\": \"y\"}, {\"alignmentgroup\": \"True\", \"customdata\": [[0.14917127071823205], [0.1703499079189687], [0.1887661141804788], [0.23296500920810312], [0.23756906077348067], [0.23756906077348067], [0.2440147329650092], [0.27440147329650094], [0.27716390423572745], [0.2918968692449355], [0.3029465930018416], [0.31123388581952116], [0.3241252302025783], [0.3370165745856354], [0.3453038674033149], [0.358195211786372], [0.36095764272559855], [0.3876611418047882], [0.38950276243093923], [0.39134438305709024], [0.40239410681399634], [0.4143646408839779], [0.42173112338858193], [0.4281767955801105], [0.429097605893186], [0.43370165745856354], [0.43646408839779005], [0.4429097605893186], [0.4604051565377532], [0.5359116022099447], [0.5377532228360957]], \"hovertemplate\": \"variable=Presence_Cluster_in_Job_Postings<br>value=%{x}<br>labels=%{y}<br>presence=%{customdata[0]}<extra></extra>\", \"legendgroup\": \"Presence_Cluster_in_Job_Postings\", \"marker\": {\"color\": \"#EF553B\"}, \"name\": \"Presence_Cluster_in_Job_Postings\", \"offsetgroup\": \"Presence_Cluster_in_Job_Postings\", \"orientation\": \"h\", \"showlegend\": true, \"textposition\": \"auto\", \"type\": \"bar\", \"x\": [0.052731363653740315, 0.1703499079189687, 0.1887661141804788, 0.23296500920810312, 0.08035284789210329, 0.12307687642109884, 0.06659939108374965, 0.08225945768714091, 0.27716390423572745, 0.12215232903633552, 0.3029465930018416, 0.31123388581952116, 0.09642917952250288, 0.3370165745856354, 0.10654171524316577, 0.18055363664990473, 0.36095764272559855, 0.14280271196857683, 0.38950276243093923, 0.39134438305709024, 0.40239410681399634, 0.4143646408839779, 0.2527413922681372, 0.1519614048813297, 0.429097605893186, 0.17053822061442442, 0.208004152115992, 0.13253353980673743, 0.4604051565377532, 0.5359116022099447, 0.5377532228360957], \"xaxis\": \"x\", \"y\": [\"Cluster 24: deep learning, machine learning, experience deep\", \"Cluster 20: experience working, single cell, next-generation sequencing\", \"Cluster 3: years experience, related field, years relevant\", \"Cluster 27: experience cloud, google cloud, cloud computing\", \"Cluster 1: knowledge sql, relational databases, sql queries\", \"Cluster 5: track record, research projects, scientific technical\", \"Cluster 14: data visualization, visualization tools, experience data\", \"Cluster 19: predictive models, machine learning, model performance\", \"Cluster 2: ability work, work independently, fast-paced environment\", \"Cluster 8: big data, experience working, experience big\", \"Cluster 17: problem-solving skills, problem solving, strong analytical\", \"Cluster 4: learn new, new technologies, eager learn\", \"Cluster 29: data quality, data management, data pipelines\", \"Cluster 21: helping others, people around, lasting mark\", \"Cluster 6: machine learning, learning models, learning algorithms\", \"Cluster 23: data analysis, results clear, track record\", \"Cluster 0: team player, ability work, team members\", \"Cluster 11: data sets, data analysis, data sources\", \"Cluster 15: years experience, experience data, data science\", \"Cluster 26: working environment, work environment, professional development\", \"Cluster 28: fluent english, communication skills, english fluent\", \"Cluster 7: communication skills, excellent communication, skills excellent\", \"Cluster 9: attention detail, natural language, social media\", \"Cluster 13: data science, data scientists, data scientist\", \"Cluster 16: business stakeholders, work closely, internal external\", \"Cluster 25: business problems, translate business, understand business\", \"Cluster 12: machine learning, learning techniques, machine learning,\", \"Cluster 22: version control, software engineering, best practices\", \"Cluster 10: experience working, software development, project management\", \"Cluster 30: computer science, computer science, master\\u2019s degree\", \"Cluster 18: programming skills, programming languages, data science\"], \"yaxis\": \"y\"}],                        {\"barmode\": \"stack\", \"height\": 800, \"legend\": {\"title\": {\"text\": \"variable\"}, \"tracegroupgap\": 0}, \"margin\": {\"t\": 60}, \"template\": {\"data\": {\"bar\": [{\"error_x\": {\"color\": \"#2a3f5f\"}, \"error_y\": {\"color\": \"#2a3f5f\"}, \"marker\": {\"line\": {\"color\": \"#E5ECF6\", \"width\": 0.5}}, \"type\": \"bar\"}], \"barpolar\": [{\"marker\": {\"line\": {\"color\": \"#E5ECF6\", \"width\": 0.5}}, \"type\": \"barpolar\"}], \"carpet\": [{\"aaxis\": {\"endlinecolor\": \"#2a3f5f\", \"gridcolor\": \"white\", \"linecolor\": \"white\", \"minorgridcolor\": \"white\", \"startlinecolor\": \"#2a3f5f\"}, \"baxis\": {\"endlinecolor\": \"#2a3f5f\", \"gridcolor\": \"white\", \"linecolor\": \"white\", \"minorgridcolor\": \"white\", \"startlinecolor\": \"#2a3f5f\"}, \"type\": \"carpet\"}], \"choropleth\": [{\"colorbar\": {\"outlinewidth\": 0, \"ticks\": \"\"}, \"type\": \"choropleth\"}], \"contour\": [{\"colorbar\": {\"outlinewidth\": 0, \"ticks\": \"\"}, \"colorscale\": [[0.0, \"#0d0887\"], [0.1111111111111111, \"#46039f\"], [0.2222222222222222, \"#7201a8\"], [0.3333333333333333, \"#9c179e\"], [0.4444444444444444, \"#bd3786\"], [0.5555555555555556, \"#d8576b\"], [0.6666666666666666, \"#ed7953\"], [0.7777777777777778, \"#fb9f3a\"], [0.8888888888888888, \"#fdca26\"], [1.0, \"#f0f921\"]], \"type\": \"contour\"}], \"contourcarpet\": [{\"colorbar\": {\"outlinewidth\": 0, \"ticks\": \"\"}, \"type\": \"contourcarpet\"}], \"heatmap\": [{\"colorbar\": {\"outlinewidth\": 0, \"ticks\": \"\"}, \"colorscale\": [[0.0, \"#0d0887\"], [0.1111111111111111, \"#46039f\"], [0.2222222222222222, \"#7201a8\"], [0.3333333333333333, \"#9c179e\"], [0.4444444444444444, \"#bd3786\"], [0.5555555555555556, \"#d8576b\"], [0.6666666666666666, \"#ed7953\"], [0.7777777777777778, \"#fb9f3a\"], [0.8888888888888888, \"#fdca26\"], [1.0, \"#f0f921\"]], \"type\": \"heatmap\"}], \"heatmapgl\": [{\"colorbar\": {\"outlinewidth\": 0, \"ticks\": \"\"}, \"colorscale\": [[0.0, \"#0d0887\"], [0.1111111111111111, \"#46039f\"], [0.2222222222222222, \"#7201a8\"], [0.3333333333333333, \"#9c179e\"], [0.4444444444444444, \"#bd3786\"], [0.5555555555555556, \"#d8576b\"], [0.6666666666666666, \"#ed7953\"], [0.7777777777777778, \"#fb9f3a\"], [0.8888888888888888, \"#fdca26\"], [1.0, \"#f0f921\"]], \"type\": \"heatmapgl\"}], \"histogram\": [{\"marker\": {\"colorbar\": {\"outlinewidth\": 0, \"ticks\": \"\"}}, \"type\": \"histogram\"}], \"histogram2d\": [{\"colorbar\": {\"outlinewidth\": 0, \"ticks\": \"\"}, \"colorscale\": [[0.0, \"#0d0887\"], [0.1111111111111111, \"#46039f\"], [0.2222222222222222, \"#7201a8\"], [0.3333333333333333, \"#9c179e\"], [0.4444444444444444, \"#bd3786\"], [0.5555555555555556, \"#d8576b\"], [0.6666666666666666, \"#ed7953\"], [0.7777777777777778, \"#fb9f3a\"], [0.8888888888888888, \"#fdca26\"], [1.0, \"#f0f921\"]], \"type\": \"histogram2d\"}], \"histogram2dcontour\": [{\"colorbar\": {\"outlinewidth\": 0, \"ticks\": \"\"}, \"colorscale\": [[0.0, \"#0d0887\"], [0.1111111111111111, \"#46039f\"], [0.2222222222222222, \"#7201a8\"], [0.3333333333333333, \"#9c179e\"], [0.4444444444444444, \"#bd3786\"], [0.5555555555555556, \"#d8576b\"], [0.6666666666666666, \"#ed7953\"], [0.7777777777777778, \"#fb9f3a\"], [0.8888888888888888, \"#fdca26\"], [1.0, \"#f0f921\"]], \"type\": \"histogram2dcontour\"}], \"mesh3d\": [{\"colorbar\": {\"outlinewidth\": 0, \"ticks\": \"\"}, \"type\": \"mesh3d\"}], \"parcoords\": [{\"line\": {\"colorbar\": {\"outlinewidth\": 0, \"ticks\": \"\"}}, \"type\": \"parcoords\"}], \"pie\": [{\"automargin\": true, \"type\": \"pie\"}], \"scatter\": [{\"marker\": {\"colorbar\": {\"outlinewidth\": 0, \"ticks\": \"\"}}, \"type\": \"scatter\"}], \"scatter3d\": [{\"line\": {\"colorbar\": {\"outlinewidth\": 0, \"ticks\": \"\"}}, \"marker\": {\"colorbar\": {\"outlinewidth\": 0, \"ticks\": \"\"}}, \"type\": \"scatter3d\"}], \"scattercarpet\": [{\"marker\": {\"colorbar\": {\"outlinewidth\": 0, \"ticks\": \"\"}}, \"type\": \"scattercarpet\"}], \"scattergeo\": [{\"marker\": {\"colorbar\": {\"outlinewidth\": 0, \"ticks\": \"\"}}, \"type\": \"scattergeo\"}], \"scattergl\": [{\"marker\": {\"colorbar\": {\"outlinewidth\": 0, \"ticks\": \"\"}}, \"type\": \"scattergl\"}], \"scattermapbox\": [{\"marker\": {\"colorbar\": {\"outlinewidth\": 0, \"ticks\": \"\"}}, \"type\": \"scattermapbox\"}], \"scatterpolar\": [{\"marker\": {\"colorbar\": {\"outlinewidth\": 0, \"ticks\": \"\"}}, \"type\": \"scatterpolar\"}], \"scatterpolargl\": [{\"marker\": {\"colorbar\": {\"outlinewidth\": 0, \"ticks\": \"\"}}, \"type\": \"scatterpolargl\"}], \"scatterternary\": [{\"marker\": {\"colorbar\": {\"outlinewidth\": 0, \"ticks\": \"\"}}, \"type\": \"scatterternary\"}], \"surface\": [{\"colorbar\": {\"outlinewidth\": 0, \"ticks\": \"\"}, \"colorscale\": [[0.0, \"#0d0887\"], [0.1111111111111111, \"#46039f\"], [0.2222222222222222, \"#7201a8\"], [0.3333333333333333, \"#9c179e\"], [0.4444444444444444, \"#bd3786\"], [0.5555555555555556, \"#d8576b\"], [0.6666666666666666, \"#ed7953\"], [0.7777777777777778, \"#fb9f3a\"], [0.8888888888888888, \"#fdca26\"], [1.0, \"#f0f921\"]], \"type\": \"surface\"}], \"table\": [{\"cells\": {\"fill\": {\"color\": \"#EBF0F8\"}, \"line\": {\"color\": \"white\"}}, \"header\": {\"fill\": {\"color\": \"#C8D4E3\"}, \"line\": {\"color\": \"white\"}}, \"type\": \"table\"}]}, \"layout\": {\"annotationdefaults\": {\"arrowcolor\": \"#2a3f5f\", \"arrowhead\": 0, \"arrowwidth\": 1}, \"autotypenumbers\": \"strict\", \"coloraxis\": {\"colorbar\": {\"outlinewidth\": 0, \"ticks\": \"\"}}, \"colorscale\": {\"diverging\": [[0, \"#8e0152\"], [0.1, \"#c51b7d\"], [0.2, \"#de77ae\"], [0.3, \"#f1b6da\"], [0.4, \"#fde0ef\"], [0.5, \"#f7f7f7\"], [0.6, \"#e6f5d0\"], [0.7, \"#b8e186\"], [0.8, \"#7fbc41\"], [0.9, \"#4d9221\"], [1, \"#276419\"]], \"sequential\": [[0.0, \"#0d0887\"], [0.1111111111111111, \"#46039f\"], [0.2222222222222222, \"#7201a8\"], [0.3333333333333333, \"#9c179e\"], [0.4444444444444444, \"#bd3786\"], [0.5555555555555556, \"#d8576b\"], [0.6666666666666666, \"#ed7953\"], [0.7777777777777778, \"#fb9f3a\"], [0.8888888888888888, \"#fdca26\"], [1.0, \"#f0f921\"]], \"sequentialminus\": [[0.0, \"#0d0887\"], [0.1111111111111111, \"#46039f\"], [0.2222222222222222, \"#7201a8\"], [0.3333333333333333, \"#9c179e\"], [0.4444444444444444, \"#bd3786\"], [0.5555555555555556, \"#d8576b\"], [0.6666666666666666, \"#ed7953\"], [0.7777777777777778, \"#fb9f3a\"], [0.8888888888888888, \"#fdca26\"], [1.0, \"#f0f921\"]]}, \"colorway\": [\"#636efa\", \"#EF553B\", \"#00cc96\", \"#ab63fa\", \"#FFA15A\", \"#19d3f3\", \"#FF6692\", \"#B6E880\", \"#FF97FF\", \"#FECB52\"], \"font\": {\"color\": \"#2a3f5f\"}, \"geo\": {\"bgcolor\": \"white\", \"lakecolor\": \"white\", \"landcolor\": \"#E5ECF6\", \"showlakes\": true, \"showland\": true, \"subunitcolor\": \"white\"}, \"hoverlabel\": {\"align\": \"left\"}, \"hovermode\": \"closest\", \"mapbox\": {\"style\": \"light\"}, \"paper_bgcolor\": \"white\", \"plot_bgcolor\": \"#E5ECF6\", \"polar\": {\"angularaxis\": {\"gridcolor\": \"white\", \"linecolor\": \"white\", \"ticks\": \"\"}, \"bgcolor\": \"#E5ECF6\", \"radialaxis\": {\"gridcolor\": \"white\", \"linecolor\": \"white\", \"ticks\": \"\"}}, \"scene\": {\"xaxis\": {\"backgroundcolor\": \"#E5ECF6\", \"gridcolor\": \"white\", \"gridwidth\": 2, \"linecolor\": \"white\", \"showbackground\": true, \"ticks\": \"\", \"zerolinecolor\": \"white\"}, \"yaxis\": {\"backgroundcolor\": \"#E5ECF6\", \"gridcolor\": \"white\", \"gridwidth\": 2, \"linecolor\": \"white\", \"showbackground\": true, \"ticks\": \"\", \"zerolinecolor\": \"white\"}, \"zaxis\": {\"backgroundcolor\": \"#E5ECF6\", \"gridcolor\": \"white\", \"gridwidth\": 2, \"linecolor\": \"white\", \"showbackground\": true, \"ticks\": \"\", \"zerolinecolor\": \"white\"}}, \"shapedefaults\": {\"line\": {\"color\": \"#2a3f5f\"}}, \"ternary\": {\"aaxis\": {\"gridcolor\": \"white\", \"linecolor\": \"white\", \"ticks\": \"\"}, \"baxis\": {\"gridcolor\": \"white\", \"linecolor\": \"white\", \"ticks\": \"\"}, \"bgcolor\": \"#E5ECF6\", \"caxis\": {\"gridcolor\": \"white\", \"linecolor\": \"white\", \"ticks\": \"\"}}, \"title\": {\"x\": 0.05}, \"xaxis\": {\"automargin\": true, \"gridcolor\": \"white\", \"linecolor\": \"white\", \"ticks\": \"\", \"title\": {\"standoff\": 15}, \"zerolinecolor\": \"white\", \"zerolinewidth\": 2}, \"yaxis\": {\"automargin\": true, \"gridcolor\": \"white\", \"linecolor\": \"white\", \"ticks\": \"\", \"title\": {\"standoff\": 15}, \"zerolinecolor\": \"white\", \"zerolinewidth\": 2}}}, \"title\": {\"text\": \"CV similarity to requirement clusters in context of relative cluster presence\"}, \"xaxis\": {\"anchor\": \"y\", \"domain\": [0.0, 1.0], \"title\": {\"text\": \"value\"}}, \"yaxis\": {\"anchor\": \"x\", \"domain\": [0.0, 1.0], \"title\": {\"text\": \"labels\"}}},                        {\"responsive\": true}                    ).then(function(){\n",
       "                            \n",
       "var gd = document.getElementById('e1d5c82b-c283-48aa-8027-e1e156708e5c');\n",
       "var x = new MutationObserver(function (mutations, observer) {{\n",
       "        var display = window.getComputedStyle(gd).display;\n",
       "        if (!display || display === 'none') {{\n",
       "            console.log([gd, 'removed!']);\n",
       "            Plotly.purge(gd);\n",
       "            observer.disconnect();\n",
       "        }}\n",
       "}});\n",
       "\n",
       "// Listen for the removal of the full notebook cells\n",
       "var notebookContainer = gd.closest('#notebook-container');\n",
       "if (notebookContainer) {{\n",
       "    x.observe(notebookContainer, {childList: true});\n",
       "}}\n",
       "\n",
       "// Listen for the clearing of the current output cell\n",
       "var outputEl = gd.closest('.output');\n",
       "if (outputEl) {{\n",
       "    x.observe(outputEl, {childList: true});\n",
       "}}\n",
       "\n",
       "                        })                };                });            </script>        </div>"
      ]
     },
     "metadata": {},
     "output_type": "display_data"
    }
   ],
   "source": [
    "df_handbook = get_df(df_handbook['objective'].to_list(),plot = True)"
   ]
  },
  {
   "cell_type": "code",
   "execution_count": 147,
   "metadata": {},
   "outputs": [],
   "source": [
    "handbook_objective_similarity = df_handbook['CV_similarity'].to_list()"
   ]
  },
  {
   "cell_type": "code",
   "execution_count": 148,
   "metadata": {},
   "outputs": [],
   "source": [
    "df_sim_avg['handbook_similarity'] = handbook_objective_similarity"
   ]
  },
  {
   "cell_type": "code",
   "execution_count": 151,
   "metadata": {},
   "outputs": [
    {
     "data": {
      "text/html": [
       "<div>\n",
       "<style scoped>\n",
       "    .dataframe tbody tr th:only-of-type {\n",
       "        vertical-align: middle;\n",
       "    }\n",
       "\n",
       "    .dataframe tbody tr th {\n",
       "        vertical-align: top;\n",
       "    }\n",
       "\n",
       "    .dataframe thead th {\n",
       "        text-align: right;\n",
       "    }\n",
       "</style>\n",
       "<table border=\"1\" class=\"dataframe\">\n",
       "  <thead>\n",
       "    <tr style=\"text-align: right;\">\n",
       "      <th></th>\n",
       "      <th>cluster</th>\n",
       "      <th>score</th>\n",
       "      <th>presence</th>\n",
       "      <th>labels</th>\n",
       "      <th>CV_similarity</th>\n",
       "      <th>Presence_Cluster_in_Job_Postings</th>\n",
       "      <th>handbook_similarity</th>\n",
       "    </tr>\n",
       "  </thead>\n",
       "  <tbody>\n",
       "    <tr>\n",
       "      <th>24</th>\n",
       "      <td>24.0</td>\n",
       "      <td>0.389511</td>\n",
       "      <td>0.149171</td>\n",
       "      <td>Cluster 24: deep learning, machine learning, e...</td>\n",
       "      <td>0.058104</td>\n",
       "      <td>0.091067</td>\n",
       "      <td>0.096440</td>\n",
       "    </tr>\n",
       "    <tr>\n",
       "      <th>20</th>\n",
       "      <td>20.0</td>\n",
       "      <td>0.161375</td>\n",
       "      <td>0.170350</td>\n",
       "      <td>Cluster 20: experience working, single cell, n...</td>\n",
       "      <td>0.027490</td>\n",
       "      <td>0.142860</td>\n",
       "      <td>0.000000</td>\n",
       "    </tr>\n",
       "    <tr>\n",
       "      <th>3</th>\n",
       "      <td>3.0</td>\n",
       "      <td>0.010119</td>\n",
       "      <td>0.188766</td>\n",
       "      <td>Cluster 3: years experience, related field, ye...</td>\n",
       "      <td>0.001910</td>\n",
       "      <td>0.186856</td>\n",
       "      <td>0.000000</td>\n",
       "    </tr>\n",
       "    <tr>\n",
       "      <th>27</th>\n",
       "      <td>27.0</td>\n",
       "      <td>0.393819</td>\n",
       "      <td>0.232965</td>\n",
       "      <td>Cluster 27: experience cloud, google cloud, cl...</td>\n",
       "      <td>0.091746</td>\n",
       "      <td>0.141219</td>\n",
       "      <td>0.000000</td>\n",
       "    </tr>\n",
       "    <tr>\n",
       "      <th>1</th>\n",
       "      <td>1.0</td>\n",
       "      <td>0.495865</td>\n",
       "      <td>0.237569</td>\n",
       "      <td>Cluster 1: knowledge sql, relational databases...</td>\n",
       "      <td>0.117802</td>\n",
       "      <td>0.119767</td>\n",
       "      <td>0.157216</td>\n",
       "    </tr>\n",
       "    <tr>\n",
       "      <th>5</th>\n",
       "      <td>5.0</td>\n",
       "      <td>0.056899</td>\n",
       "      <td>0.237569</td>\n",
       "      <td>Cluster 5: track record, research projects, sc...</td>\n",
       "      <td>0.013517</td>\n",
       "      <td>0.224052</td>\n",
       "      <td>0.114492</td>\n",
       "    </tr>\n",
       "    <tr>\n",
       "      <th>14</th>\n",
       "      <td>14.0</td>\n",
       "      <td>0.528157</td>\n",
       "      <td>0.244015</td>\n",
       "      <td>Cluster 14: data visualization, visualization ...</td>\n",
       "      <td>0.128878</td>\n",
       "      <td>0.115137</td>\n",
       "      <td>0.177415</td>\n",
       "    </tr>\n",
       "    <tr>\n",
       "      <th>19</th>\n",
       "      <td>19.0</td>\n",
       "      <td>0.443944</td>\n",
       "      <td>0.274401</td>\n",
       "      <td>Cluster 19: predictive models, machine learnin...</td>\n",
       "      <td>0.121819</td>\n",
       "      <td>0.152583</td>\n",
       "      <td>0.192142</td>\n",
       "    </tr>\n",
       "    <tr>\n",
       "      <th>2</th>\n",
       "      <td>2.0</td>\n",
       "      <td>0.087041</td>\n",
       "      <td>0.277164</td>\n",
       "      <td>Cluster 2: ability work, work independently, f...</td>\n",
       "      <td>0.024125</td>\n",
       "      <td>0.253039</td>\n",
       "      <td>0.000000</td>\n",
       "    </tr>\n",
       "    <tr>\n",
       "      <th>8</th>\n",
       "      <td>8.0</td>\n",
       "      <td>0.521661</td>\n",
       "      <td>0.291897</td>\n",
       "      <td>Cluster 8: big data, experience working, exper...</td>\n",
       "      <td>0.152271</td>\n",
       "      <td>0.139626</td>\n",
       "      <td>0.169745</td>\n",
       "    </tr>\n",
       "    <tr>\n",
       "      <th>17</th>\n",
       "      <td>17.0</td>\n",
       "      <td>0.030263</td>\n",
       "      <td>0.302947</td>\n",
       "      <td>Cluster 17: problem-solving skills, problem so...</td>\n",
       "      <td>0.009168</td>\n",
       "      <td>0.293778</td>\n",
       "      <td>0.000000</td>\n",
       "    </tr>\n",
       "    <tr>\n",
       "      <th>4</th>\n",
       "      <td>4.0</td>\n",
       "      <td>0.122367</td>\n",
       "      <td>0.311234</td>\n",
       "      <td>Cluster 4: learn new, new technologies, eager ...</td>\n",
       "      <td>0.038085</td>\n",
       "      <td>0.273149</td>\n",
       "      <td>0.000000</td>\n",
       "    </tr>\n",
       "    <tr>\n",
       "      <th>29</th>\n",
       "      <td>29.0</td>\n",
       "      <td>0.568004</td>\n",
       "      <td>0.324125</td>\n",
       "      <td>Cluster 29: data quality, data management, dat...</td>\n",
       "      <td>0.184105</td>\n",
       "      <td>0.140021</td>\n",
       "      <td>0.227696</td>\n",
       "    </tr>\n",
       "    <tr>\n",
       "      <th>21</th>\n",
       "      <td>21.0</td>\n",
       "      <td>0.038636</td>\n",
       "      <td>0.337017</td>\n",
       "      <td>Cluster 21: helping others, people around, las...</td>\n",
       "      <td>0.013021</td>\n",
       "      <td>0.323995</td>\n",
       "      <td>0.000000</td>\n",
       "    </tr>\n",
       "    <tr>\n",
       "      <th>6</th>\n",
       "      <td>6.0</td>\n",
       "      <td>0.516957</td>\n",
       "      <td>0.345304</td>\n",
       "      <td>Cluster 6: machine learning, learning models, ...</td>\n",
       "      <td>0.178507</td>\n",
       "      <td>0.166797</td>\n",
       "      <td>0.238762</td>\n",
       "    </tr>\n",
       "    <tr>\n",
       "      <th>23</th>\n",
       "      <td>23.0</td>\n",
       "      <td>0.407860</td>\n",
       "      <td>0.358195</td>\n",
       "      <td>Cluster 23: data analysis, results clear, trac...</td>\n",
       "      <td>0.146094</td>\n",
       "      <td>0.212102</td>\n",
       "      <td>0.177642</td>\n",
       "    </tr>\n",
       "    <tr>\n",
       "      <th>0</th>\n",
       "      <td>0.0</td>\n",
       "      <td>0.182417</td>\n",
       "      <td>0.360958</td>\n",
       "      <td>Cluster 0: team player, ability work, team mem...</td>\n",
       "      <td>0.065845</td>\n",
       "      <td>0.295113</td>\n",
       "      <td>0.000000</td>\n",
       "    </tr>\n",
       "    <tr>\n",
       "      <th>11</th>\n",
       "      <td>11.0</td>\n",
       "      <td>0.503610</td>\n",
       "      <td>0.387661</td>\n",
       "      <td>Cluster 11: data sets, data analysis, data sou...</td>\n",
       "      <td>0.195230</td>\n",
       "      <td>0.192431</td>\n",
       "      <td>0.244858</td>\n",
       "    </tr>\n",
       "    <tr>\n",
       "      <th>15</th>\n",
       "      <td>15.0</td>\n",
       "      <td>0.434389</td>\n",
       "      <td>0.389503</td>\n",
       "      <td>Cluster 15: years experience, experience data,...</td>\n",
       "      <td>0.169196</td>\n",
       "      <td>0.220307</td>\n",
       "      <td>0.000000</td>\n",
       "    </tr>\n",
       "    <tr>\n",
       "      <th>26</th>\n",
       "      <td>26.0</td>\n",
       "      <td>0.112166</td>\n",
       "      <td>0.391344</td>\n",
       "      <td>Cluster 26: working environment, work environm...</td>\n",
       "      <td>0.043895</td>\n",
       "      <td>0.347449</td>\n",
       "      <td>0.000000</td>\n",
       "    </tr>\n",
       "    <tr>\n",
       "      <th>28</th>\n",
       "      <td>28.0</td>\n",
       "      <td>0.018185</td>\n",
       "      <td>0.402394</td>\n",
       "      <td>Cluster 28: fluent english, communication skil...</td>\n",
       "      <td>0.007318</td>\n",
       "      <td>0.395077</td>\n",
       "      <td>0.000000</td>\n",
       "    </tr>\n",
       "    <tr>\n",
       "      <th>7</th>\n",
       "      <td>7.0</td>\n",
       "      <td>0.154790</td>\n",
       "      <td>0.414365</td>\n",
       "      <td>Cluster 7: communication skills, excellent com...</td>\n",
       "      <td>0.064139</td>\n",
       "      <td>0.350225</td>\n",
       "      <td>0.000000</td>\n",
       "    </tr>\n",
       "    <tr>\n",
       "      <th>9</th>\n",
       "      <td>9.0</td>\n",
       "      <td>0.415557</td>\n",
       "      <td>0.421731</td>\n",
       "      <td>Cluster 9: attention detail, natural language,...</td>\n",
       "      <td>0.175253</td>\n",
       "      <td>0.246478</td>\n",
       "      <td>0.168990</td>\n",
       "    </tr>\n",
       "    <tr>\n",
       "      <th>13</th>\n",
       "      <td>13.0</td>\n",
       "      <td>0.525460</td>\n",
       "      <td>0.428177</td>\n",
       "      <td>Cluster 13: data science, data scientists, dat...</td>\n",
       "      <td>0.224990</td>\n",
       "      <td>0.203187</td>\n",
       "      <td>0.276215</td>\n",
       "    </tr>\n",
       "    <tr>\n",
       "      <th>16</th>\n",
       "      <td>16.0</td>\n",
       "      <td>0.346762</td>\n",
       "      <td>0.429098</td>\n",
       "      <td>Cluster 16: business stakeholders, work closel...</td>\n",
       "      <td>0.148795</td>\n",
       "      <td>0.280303</td>\n",
       "      <td>0.000000</td>\n",
       "    </tr>\n",
       "    <tr>\n",
       "      <th>25</th>\n",
       "      <td>25.0</td>\n",
       "      <td>0.423375</td>\n",
       "      <td>0.433702</td>\n",
       "      <td>Cluster 25: business problems, translate busin...</td>\n",
       "      <td>0.183618</td>\n",
       "      <td>0.250083</td>\n",
       "      <td>0.263163</td>\n",
       "    </tr>\n",
       "    <tr>\n",
       "      <th>12</th>\n",
       "      <td>12.0</td>\n",
       "      <td>0.493209</td>\n",
       "      <td>0.436464</td>\n",
       "      <td>Cluster 12: machine learning, learning techniq...</td>\n",
       "      <td>0.215268</td>\n",
       "      <td>0.221196</td>\n",
       "      <td>0.228460</td>\n",
       "    </tr>\n",
       "    <tr>\n",
       "      <th>22</th>\n",
       "      <td>22.0</td>\n",
       "      <td>0.562327</td>\n",
       "      <td>0.442910</td>\n",
       "      <td>Cluster 22: version control, software engineer...</td>\n",
       "      <td>0.249060</td>\n",
       "      <td>0.193850</td>\n",
       "      <td>0.310376</td>\n",
       "    </tr>\n",
       "    <tr>\n",
       "      <th>10</th>\n",
       "      <td>10.0</td>\n",
       "      <td>0.557841</td>\n",
       "      <td>0.460405</td>\n",
       "      <td>Cluster 10: experience working, software devel...</td>\n",
       "      <td>0.256833</td>\n",
       "      <td>0.203572</td>\n",
       "      <td>0.000000</td>\n",
       "    </tr>\n",
       "    <tr>\n",
       "      <th>30</th>\n",
       "      <td>30.0</td>\n",
       "      <td>0.196027</td>\n",
       "      <td>0.535912</td>\n",
       "      <td>Cluster 30: computer science, computer science...</td>\n",
       "      <td>0.105053</td>\n",
       "      <td>0.430859</td>\n",
       "      <td>0.000000</td>\n",
       "    </tr>\n",
       "    <tr>\n",
       "      <th>18</th>\n",
       "      <td>18.0</td>\n",
       "      <td>0.566030</td>\n",
       "      <td>0.537753</td>\n",
       "      <td>Cluster 18: programming skills, programming la...</td>\n",
       "      <td>0.304384</td>\n",
       "      <td>0.233369</td>\n",
       "      <td>0.000000</td>\n",
       "    </tr>\n",
       "  </tbody>\n",
       "</table>\n",
       "</div>"
      ],
      "text/plain": [
       "    cluster     score  presence  \\\n",
       "24     24.0  0.389511  0.149171   \n",
       "20     20.0  0.161375  0.170350   \n",
       "3       3.0  0.010119  0.188766   \n",
       "27     27.0  0.393819  0.232965   \n",
       "1       1.0  0.495865  0.237569   \n",
       "5       5.0  0.056899  0.237569   \n",
       "14     14.0  0.528157  0.244015   \n",
       "19     19.0  0.443944  0.274401   \n",
       "2       2.0  0.087041  0.277164   \n",
       "8       8.0  0.521661  0.291897   \n",
       "17     17.0  0.030263  0.302947   \n",
       "4       4.0  0.122367  0.311234   \n",
       "29     29.0  0.568004  0.324125   \n",
       "21     21.0  0.038636  0.337017   \n",
       "6       6.0  0.516957  0.345304   \n",
       "23     23.0  0.407860  0.358195   \n",
       "0       0.0  0.182417  0.360958   \n",
       "11     11.0  0.503610  0.387661   \n",
       "15     15.0  0.434389  0.389503   \n",
       "26     26.0  0.112166  0.391344   \n",
       "28     28.0  0.018185  0.402394   \n",
       "7       7.0  0.154790  0.414365   \n",
       "9       9.0  0.415557  0.421731   \n",
       "13     13.0  0.525460  0.428177   \n",
       "16     16.0  0.346762  0.429098   \n",
       "25     25.0  0.423375  0.433702   \n",
       "12     12.0  0.493209  0.436464   \n",
       "22     22.0  0.562327  0.442910   \n",
       "10     10.0  0.557841  0.460405   \n",
       "30     30.0  0.196027  0.535912   \n",
       "18     18.0  0.566030  0.537753   \n",
       "\n",
       "                                               labels  CV_similarity  \\\n",
       "24  Cluster 24: deep learning, machine learning, e...       0.058104   \n",
       "20  Cluster 20: experience working, single cell, n...       0.027490   \n",
       "3   Cluster 3: years experience, related field, ye...       0.001910   \n",
       "27  Cluster 27: experience cloud, google cloud, cl...       0.091746   \n",
       "1   Cluster 1: knowledge sql, relational databases...       0.117802   \n",
       "5   Cluster 5: track record, research projects, sc...       0.013517   \n",
       "14  Cluster 14: data visualization, visualization ...       0.128878   \n",
       "19  Cluster 19: predictive models, machine learnin...       0.121819   \n",
       "2   Cluster 2: ability work, work independently, f...       0.024125   \n",
       "8   Cluster 8: big data, experience working, exper...       0.152271   \n",
       "17  Cluster 17: problem-solving skills, problem so...       0.009168   \n",
       "4   Cluster 4: learn new, new technologies, eager ...       0.038085   \n",
       "29  Cluster 29: data quality, data management, dat...       0.184105   \n",
       "21  Cluster 21: helping others, people around, las...       0.013021   \n",
       "6   Cluster 6: machine learning, learning models, ...       0.178507   \n",
       "23  Cluster 23: data analysis, results clear, trac...       0.146094   \n",
       "0   Cluster 0: team player, ability work, team mem...       0.065845   \n",
       "11  Cluster 11: data sets, data analysis, data sou...       0.195230   \n",
       "15  Cluster 15: years experience, experience data,...       0.169196   \n",
       "26  Cluster 26: working environment, work environm...       0.043895   \n",
       "28  Cluster 28: fluent english, communication skil...       0.007318   \n",
       "7   Cluster 7: communication skills, excellent com...       0.064139   \n",
       "9   Cluster 9: attention detail, natural language,...       0.175253   \n",
       "13  Cluster 13: data science, data scientists, dat...       0.224990   \n",
       "16  Cluster 16: business stakeholders, work closel...       0.148795   \n",
       "25  Cluster 25: business problems, translate busin...       0.183618   \n",
       "12  Cluster 12: machine learning, learning techniq...       0.215268   \n",
       "22  Cluster 22: version control, software engineer...       0.249060   \n",
       "10  Cluster 10: experience working, software devel...       0.256833   \n",
       "30  Cluster 30: computer science, computer science...       0.105053   \n",
       "18  Cluster 18: programming skills, programming la...       0.304384   \n",
       "\n",
       "    Presence_Cluster_in_Job_Postings  handbook_similarity  \n",
       "24                          0.091067             0.096440  \n",
       "20                          0.142860             0.000000  \n",
       "3                           0.186856             0.000000  \n",
       "27                          0.141219             0.000000  \n",
       "1                           0.119767             0.157216  \n",
       "5                           0.224052             0.114492  \n",
       "14                          0.115137             0.177415  \n",
       "19                          0.152583             0.192142  \n",
       "2                           0.253039             0.000000  \n",
       "8                           0.139626             0.169745  \n",
       "17                          0.293778             0.000000  \n",
       "4                           0.273149             0.000000  \n",
       "29                          0.140021             0.227696  \n",
       "21                          0.323995             0.000000  \n",
       "6                           0.166797             0.238762  \n",
       "23                          0.212102             0.177642  \n",
       "0                           0.295113             0.000000  \n",
       "11                          0.192431             0.244858  \n",
       "15                          0.220307             0.000000  \n",
       "26                          0.347449             0.000000  \n",
       "28                          0.395077             0.000000  \n",
       "7                           0.350225             0.000000  \n",
       "9                           0.246478             0.168990  \n",
       "13                          0.203187             0.276215  \n",
       "16                          0.280303             0.000000  \n",
       "25                          0.250083             0.263163  \n",
       "12                          0.221196             0.228460  \n",
       "22                          0.193850             0.310376  \n",
       "10                          0.203572             0.000000  \n",
       "30                          0.430859             0.000000  \n",
       "18                          0.233369             0.000000  "
      ]
     },
     "execution_count": 151,
     "metadata": {},
     "output_type": "execute_result"
    }
   ],
   "source": [
    "df_sim_avg"
   ]
  },
  {
   "cell_type": "code",
   "execution_count": 190,
   "metadata": {},
   "outputs": [
    {
     "data": {
      "application/vnd.plotly.v1+json": {
       "config": {
        "plotlyServerURL": "https://plot.ly"
       },
       "data": [
        {
         "alignmentgroup": "True",
         "hovertemplate": "variable=handbook_similarity<br>value=%{x}<br>labels=%{y}<extra></extra>",
         "legendgroup": "handbook_similarity",
         "marker": {
          "color": "green"
         },
         "name": "handbook_similarity",
         "offsetgroup": "handbook_similarity",
         "orientation": "h",
         "showlegend": true,
         "textposition": "auto",
         "type": "bar",
         "x": [
          0.09643990706449174,
          0,
          0,
          0,
          0.15721621288137738,
          0.11449218435238183,
          0.17741534188125954,
          0.19214201560936003,
          0,
          0.1697445402086,
          0,
          0,
          0.2276960506800754,
          0,
          0.23876215216014915,
          0.17764157513646725,
          0,
          0.2448584298362114,
          0,
          0,
          0,
          0,
          0.16898973112044477,
          0.2762153906987808,
          0,
          0.2631634368441391,
          0.22845993628179806,
          0.31037622078258115,
          0,
          0,
          0
         ],
         "xaxis": "x",
         "y": [
          "Cluster 24: deep learning, machine learning, experience deep",
          "Cluster 20: experience working, single cell, next-generation sequencing",
          "Cluster 3: years experience, related field, years relevant",
          "Cluster 27: experience cloud, google cloud, cloud computing",
          "Cluster 1: knowledge sql, relational databases, sql queries",
          "Cluster 5: track record, research projects, scientific technical",
          "Cluster 14: data visualization, visualization tools, experience data",
          "Cluster 19: predictive models, machine learning, model performance",
          "Cluster 2: ability work, work independently, fast-paced environment",
          "Cluster 8: big data, experience working, experience big",
          "Cluster 17: problem-solving skills, problem solving, strong analytical",
          "Cluster 4: learn new, new technologies, eager learn",
          "Cluster 29: data quality, data management, data pipelines",
          "Cluster 21: helping others, people around, lasting mark",
          "Cluster 6: machine learning, learning models, learning algorithms",
          "Cluster 23: data analysis, results clear, track record",
          "Cluster 0: team player, ability work, team members",
          "Cluster 11: data sets, data analysis, data sources",
          "Cluster 15: years experience, experience data, data science",
          "Cluster 26: working environment, work environment, professional development",
          "Cluster 28: fluent english, communication skills, english fluent",
          "Cluster 7: communication skills, excellent communication, skills excellent",
          "Cluster 9: attention detail, natural language, social media",
          "Cluster 13: data science, data scientists, data scientist",
          "Cluster 16: business stakeholders, work closely, internal external",
          "Cluster 25: business problems, translate business, understand business",
          "Cluster 12: machine learning, learning techniques, machine learning,",
          "Cluster 22: version control, software engineering, best practices",
          "Cluster 10: experience working, software development, project management",
          "Cluster 30: computer science, computer science, master’s degree",
          "Cluster 18: programming skills, programming languages, data science"
         ],
         "yaxis": "y"
        },
        {
         "alignmentgroup": "True",
         "hovertemplate": "variable=CV_similarity<br>value=%{x}<br>labels=%{y}<extra></extra>",
         "legendgroup": "CV_similarity",
         "marker": {
          "color": "blue"
         },
         "name": "CV_similarity",
         "offsetgroup": "CV_similarity",
         "orientation": "h",
         "showlegend": true,
         "textposition": "auto",
         "type": "bar",
         "x": [
          0.05810381631171717,
          0.027490156618064674,
          0.0019100881895284076,
          0.09174607375205945,
          0.11780215554740205,
          0.013517462499508387,
          0.12887800837376798,
          0.12181879478412647,
          0.024124705267373127,
          0.15227126944907873,
          0.009168204395698487,
          0.03808490816148459,
          0.18410457911211067,
          0.013021085652829436,
          0.17850717283130432,
          0.14609366350564026,
          0.06584464384817773,
          0.19522995532337367,
          0.1691957587455164,
          0.043895441654109676,
          0.007317583226796059,
          0.06413938675786732,
          0.175253491489148,
          0.22498993870158238,
          0.1487945515054376,
          0.18361823762990834,
          0.21526784042946495,
          0.24906016501326841,
          0.25683274543754536,
          0.10505298514956905,
          0.30438424309942363
         ],
         "xaxis": "x",
         "y": [
          "Cluster 24: deep learning, machine learning, experience deep",
          "Cluster 20: experience working, single cell, next-generation sequencing",
          "Cluster 3: years experience, related field, years relevant",
          "Cluster 27: experience cloud, google cloud, cloud computing",
          "Cluster 1: knowledge sql, relational databases, sql queries",
          "Cluster 5: track record, research projects, scientific technical",
          "Cluster 14: data visualization, visualization tools, experience data",
          "Cluster 19: predictive models, machine learning, model performance",
          "Cluster 2: ability work, work independently, fast-paced environment",
          "Cluster 8: big data, experience working, experience big",
          "Cluster 17: problem-solving skills, problem solving, strong analytical",
          "Cluster 4: learn new, new technologies, eager learn",
          "Cluster 29: data quality, data management, data pipelines",
          "Cluster 21: helping others, people around, lasting mark",
          "Cluster 6: machine learning, learning models, learning algorithms",
          "Cluster 23: data analysis, results clear, track record",
          "Cluster 0: team player, ability work, team members",
          "Cluster 11: data sets, data analysis, data sources",
          "Cluster 15: years experience, experience data, data science",
          "Cluster 26: working environment, work environment, professional development",
          "Cluster 28: fluent english, communication skills, english fluent",
          "Cluster 7: communication skills, excellent communication, skills excellent",
          "Cluster 9: attention detail, natural language, social media",
          "Cluster 13: data science, data scientists, data scientist",
          "Cluster 16: business stakeholders, work closely, internal external",
          "Cluster 25: business problems, translate business, understand business",
          "Cluster 12: machine learning, learning techniques, machine learning,",
          "Cluster 22: version control, software engineering, best practices",
          "Cluster 10: experience working, software development, project management",
          "Cluster 30: computer science, computer science, master’s degree",
          "Cluster 18: programming skills, programming languages, data science"
         ],
         "yaxis": "y"
        },
        {
         "alignmentgroup": "True",
         "hovertemplate": "variable=presence<br>value=%{x}<br>labels=%{y}<extra></extra>",
         "legendgroup": "presence",
         "marker": {
          "color": "red"
         },
         "name": "presence",
         "offsetgroup": "presence",
         "orientation": "h",
         "showlegend": true,
         "textposition": "auto",
         "type": "bar",
         "x": [
          0.14917127071823208,
          0.17034990791896848,
          0.18876611418047898,
          0.23296500920810292,
          0.23756906077348094,
          0.23756906077348094,
          0.24401473296500942,
          0.27440147329650105,
          0.2771639042357278,
          0.2918968692449355,
          0.30294659300184174,
          0.3112338858195212,
          0.3241252302025782,
          0.33701657458563583,
          0.3453038674033154,
          0.3581952117863724,
          0.3609576427255983,
          0.387661141804788,
          0.3895027624309397,
          0.3913443830570909,
          0.4023941068139967,
          0.4143646408839779,
          0.42173112338858226,
          0.42817679558011074,
          0.4290976058931865,
          0.4337016574585633,
          0.4364640883977905,
          0.44290976058931897,
          0.4604051565377532,
          0.5359116022099453,
          0.5377532228360951
         ],
         "xaxis": "x",
         "y": [
          "Cluster 24: deep learning, machine learning, experience deep",
          "Cluster 20: experience working, single cell, next-generation sequencing",
          "Cluster 3: years experience, related field, years relevant",
          "Cluster 27: experience cloud, google cloud, cloud computing",
          "Cluster 1: knowledge sql, relational databases, sql queries",
          "Cluster 5: track record, research projects, scientific technical",
          "Cluster 14: data visualization, visualization tools, experience data",
          "Cluster 19: predictive models, machine learning, model performance",
          "Cluster 2: ability work, work independently, fast-paced environment",
          "Cluster 8: big data, experience working, experience big",
          "Cluster 17: problem-solving skills, problem solving, strong analytical",
          "Cluster 4: learn new, new technologies, eager learn",
          "Cluster 29: data quality, data management, data pipelines",
          "Cluster 21: helping others, people around, lasting mark",
          "Cluster 6: machine learning, learning models, learning algorithms",
          "Cluster 23: data analysis, results clear, track record",
          "Cluster 0: team player, ability work, team members",
          "Cluster 11: data sets, data analysis, data sources",
          "Cluster 15: years experience, experience data, data science",
          "Cluster 26: working environment, work environment, professional development",
          "Cluster 28: fluent english, communication skills, english fluent",
          "Cluster 7: communication skills, excellent communication, skills excellent",
          "Cluster 9: attention detail, natural language, social media",
          "Cluster 13: data science, data scientists, data scientist",
          "Cluster 16: business stakeholders, work closely, internal external",
          "Cluster 25: business problems, translate business, understand business",
          "Cluster 12: machine learning, learning techniques, machine learning,",
          "Cluster 22: version control, software engineering, best practices",
          "Cluster 10: experience working, software development, project management",
          "Cluster 30: computer science, computer science, master’s degree",
          "Cluster 18: programming skills, programming languages, data science"
         ],
         "yaxis": "y"
        }
       ],
       "layout": {
        "barmode": "group",
        "height": 850,
        "legend": {
         "title": {
          "text": "variable"
         },
         "tracegroupgap": 0
        },
        "margin": {
         "t": 60
        },
        "template": {
         "data": {
          "bar": [
           {
            "error_x": {
             "color": "#2a3f5f"
            },
            "error_y": {
             "color": "#2a3f5f"
            },
            "marker": {
             "line": {
              "color": "#E5ECF6",
              "width": 0.5
             }
            },
            "type": "bar"
           }
          ],
          "barpolar": [
           {
            "marker": {
             "line": {
              "color": "#E5ECF6",
              "width": 0.5
             }
            },
            "type": "barpolar"
           }
          ],
          "carpet": [
           {
            "aaxis": {
             "endlinecolor": "#2a3f5f",
             "gridcolor": "white",
             "linecolor": "white",
             "minorgridcolor": "white",
             "startlinecolor": "#2a3f5f"
            },
            "baxis": {
             "endlinecolor": "#2a3f5f",
             "gridcolor": "white",
             "linecolor": "white",
             "minorgridcolor": "white",
             "startlinecolor": "#2a3f5f"
            },
            "type": "carpet"
           }
          ],
          "choropleth": [
           {
            "colorbar": {
             "outlinewidth": 0,
             "ticks": ""
            },
            "type": "choropleth"
           }
          ],
          "contour": [
           {
            "colorbar": {
             "outlinewidth": 0,
             "ticks": ""
            },
            "colorscale": [
             [
              0,
              "#0d0887"
             ],
             [
              0.1111111111111111,
              "#46039f"
             ],
             [
              0.2222222222222222,
              "#7201a8"
             ],
             [
              0.3333333333333333,
              "#9c179e"
             ],
             [
              0.4444444444444444,
              "#bd3786"
             ],
             [
              0.5555555555555556,
              "#d8576b"
             ],
             [
              0.6666666666666666,
              "#ed7953"
             ],
             [
              0.7777777777777778,
              "#fb9f3a"
             ],
             [
              0.8888888888888888,
              "#fdca26"
             ],
             [
              1,
              "#f0f921"
             ]
            ],
            "type": "contour"
           }
          ],
          "contourcarpet": [
           {
            "colorbar": {
             "outlinewidth": 0,
             "ticks": ""
            },
            "type": "contourcarpet"
           }
          ],
          "heatmap": [
           {
            "colorbar": {
             "outlinewidth": 0,
             "ticks": ""
            },
            "colorscale": [
             [
              0,
              "#0d0887"
             ],
             [
              0.1111111111111111,
              "#46039f"
             ],
             [
              0.2222222222222222,
              "#7201a8"
             ],
             [
              0.3333333333333333,
              "#9c179e"
             ],
             [
              0.4444444444444444,
              "#bd3786"
             ],
             [
              0.5555555555555556,
              "#d8576b"
             ],
             [
              0.6666666666666666,
              "#ed7953"
             ],
             [
              0.7777777777777778,
              "#fb9f3a"
             ],
             [
              0.8888888888888888,
              "#fdca26"
             ],
             [
              1,
              "#f0f921"
             ]
            ],
            "type": "heatmap"
           }
          ],
          "heatmapgl": [
           {
            "colorbar": {
             "outlinewidth": 0,
             "ticks": ""
            },
            "colorscale": [
             [
              0,
              "#0d0887"
             ],
             [
              0.1111111111111111,
              "#46039f"
             ],
             [
              0.2222222222222222,
              "#7201a8"
             ],
             [
              0.3333333333333333,
              "#9c179e"
             ],
             [
              0.4444444444444444,
              "#bd3786"
             ],
             [
              0.5555555555555556,
              "#d8576b"
             ],
             [
              0.6666666666666666,
              "#ed7953"
             ],
             [
              0.7777777777777778,
              "#fb9f3a"
             ],
             [
              0.8888888888888888,
              "#fdca26"
             ],
             [
              1,
              "#f0f921"
             ]
            ],
            "type": "heatmapgl"
           }
          ],
          "histogram": [
           {
            "marker": {
             "colorbar": {
              "outlinewidth": 0,
              "ticks": ""
             }
            },
            "type": "histogram"
           }
          ],
          "histogram2d": [
           {
            "colorbar": {
             "outlinewidth": 0,
             "ticks": ""
            },
            "colorscale": [
             [
              0,
              "#0d0887"
             ],
             [
              0.1111111111111111,
              "#46039f"
             ],
             [
              0.2222222222222222,
              "#7201a8"
             ],
             [
              0.3333333333333333,
              "#9c179e"
             ],
             [
              0.4444444444444444,
              "#bd3786"
             ],
             [
              0.5555555555555556,
              "#d8576b"
             ],
             [
              0.6666666666666666,
              "#ed7953"
             ],
             [
              0.7777777777777778,
              "#fb9f3a"
             ],
             [
              0.8888888888888888,
              "#fdca26"
             ],
             [
              1,
              "#f0f921"
             ]
            ],
            "type": "histogram2d"
           }
          ],
          "histogram2dcontour": [
           {
            "colorbar": {
             "outlinewidth": 0,
             "ticks": ""
            },
            "colorscale": [
             [
              0,
              "#0d0887"
             ],
             [
              0.1111111111111111,
              "#46039f"
             ],
             [
              0.2222222222222222,
              "#7201a8"
             ],
             [
              0.3333333333333333,
              "#9c179e"
             ],
             [
              0.4444444444444444,
              "#bd3786"
             ],
             [
              0.5555555555555556,
              "#d8576b"
             ],
             [
              0.6666666666666666,
              "#ed7953"
             ],
             [
              0.7777777777777778,
              "#fb9f3a"
             ],
             [
              0.8888888888888888,
              "#fdca26"
             ],
             [
              1,
              "#f0f921"
             ]
            ],
            "type": "histogram2dcontour"
           }
          ],
          "mesh3d": [
           {
            "colorbar": {
             "outlinewidth": 0,
             "ticks": ""
            },
            "type": "mesh3d"
           }
          ],
          "parcoords": [
           {
            "line": {
             "colorbar": {
              "outlinewidth": 0,
              "ticks": ""
             }
            },
            "type": "parcoords"
           }
          ],
          "pie": [
           {
            "automargin": true,
            "type": "pie"
           }
          ],
          "scatter": [
           {
            "marker": {
             "colorbar": {
              "outlinewidth": 0,
              "ticks": ""
             }
            },
            "type": "scatter"
           }
          ],
          "scatter3d": [
           {
            "line": {
             "colorbar": {
              "outlinewidth": 0,
              "ticks": ""
             }
            },
            "marker": {
             "colorbar": {
              "outlinewidth": 0,
              "ticks": ""
             }
            },
            "type": "scatter3d"
           }
          ],
          "scattercarpet": [
           {
            "marker": {
             "colorbar": {
              "outlinewidth": 0,
              "ticks": ""
             }
            },
            "type": "scattercarpet"
           }
          ],
          "scattergeo": [
           {
            "marker": {
             "colorbar": {
              "outlinewidth": 0,
              "ticks": ""
             }
            },
            "type": "scattergeo"
           }
          ],
          "scattergl": [
           {
            "marker": {
             "colorbar": {
              "outlinewidth": 0,
              "ticks": ""
             }
            },
            "type": "scattergl"
           }
          ],
          "scattermapbox": [
           {
            "marker": {
             "colorbar": {
              "outlinewidth": 0,
              "ticks": ""
             }
            },
            "type": "scattermapbox"
           }
          ],
          "scatterpolar": [
           {
            "marker": {
             "colorbar": {
              "outlinewidth": 0,
              "ticks": ""
             }
            },
            "type": "scatterpolar"
           }
          ],
          "scatterpolargl": [
           {
            "marker": {
             "colorbar": {
              "outlinewidth": 0,
              "ticks": ""
             }
            },
            "type": "scatterpolargl"
           }
          ],
          "scatterternary": [
           {
            "marker": {
             "colorbar": {
              "outlinewidth": 0,
              "ticks": ""
             }
            },
            "type": "scatterternary"
           }
          ],
          "surface": [
           {
            "colorbar": {
             "outlinewidth": 0,
             "ticks": ""
            },
            "colorscale": [
             [
              0,
              "#0d0887"
             ],
             [
              0.1111111111111111,
              "#46039f"
             ],
             [
              0.2222222222222222,
              "#7201a8"
             ],
             [
              0.3333333333333333,
              "#9c179e"
             ],
             [
              0.4444444444444444,
              "#bd3786"
             ],
             [
              0.5555555555555556,
              "#d8576b"
             ],
             [
              0.6666666666666666,
              "#ed7953"
             ],
             [
              0.7777777777777778,
              "#fb9f3a"
             ],
             [
              0.8888888888888888,
              "#fdca26"
             ],
             [
              1,
              "#f0f921"
             ]
            ],
            "type": "surface"
           }
          ],
          "table": [
           {
            "cells": {
             "fill": {
              "color": "#EBF0F8"
             },
             "line": {
              "color": "white"
             }
            },
            "header": {
             "fill": {
              "color": "#C8D4E3"
             },
             "line": {
              "color": "white"
             }
            },
            "type": "table"
           }
          ]
         },
         "layout": {
          "annotationdefaults": {
           "arrowcolor": "#2a3f5f",
           "arrowhead": 0,
           "arrowwidth": 1
          },
          "autotypenumbers": "strict",
          "coloraxis": {
           "colorbar": {
            "outlinewidth": 0,
            "ticks": ""
           }
          },
          "colorscale": {
           "diverging": [
            [
             0,
             "#8e0152"
            ],
            [
             0.1,
             "#c51b7d"
            ],
            [
             0.2,
             "#de77ae"
            ],
            [
             0.3,
             "#f1b6da"
            ],
            [
             0.4,
             "#fde0ef"
            ],
            [
             0.5,
             "#f7f7f7"
            ],
            [
             0.6,
             "#e6f5d0"
            ],
            [
             0.7,
             "#b8e186"
            ],
            [
             0.8,
             "#7fbc41"
            ],
            [
             0.9,
             "#4d9221"
            ],
            [
             1,
             "#276419"
            ]
           ],
           "sequential": [
            [
             0,
             "#0d0887"
            ],
            [
             0.1111111111111111,
             "#46039f"
            ],
            [
             0.2222222222222222,
             "#7201a8"
            ],
            [
             0.3333333333333333,
             "#9c179e"
            ],
            [
             0.4444444444444444,
             "#bd3786"
            ],
            [
             0.5555555555555556,
             "#d8576b"
            ],
            [
             0.6666666666666666,
             "#ed7953"
            ],
            [
             0.7777777777777778,
             "#fb9f3a"
            ],
            [
             0.8888888888888888,
             "#fdca26"
            ],
            [
             1,
             "#f0f921"
            ]
           ],
           "sequentialminus": [
            [
             0,
             "#0d0887"
            ],
            [
             0.1111111111111111,
             "#46039f"
            ],
            [
             0.2222222222222222,
             "#7201a8"
            ],
            [
             0.3333333333333333,
             "#9c179e"
            ],
            [
             0.4444444444444444,
             "#bd3786"
            ],
            [
             0.5555555555555556,
             "#d8576b"
            ],
            [
             0.6666666666666666,
             "#ed7953"
            ],
            [
             0.7777777777777778,
             "#fb9f3a"
            ],
            [
             0.8888888888888888,
             "#fdca26"
            ],
            [
             1,
             "#f0f921"
            ]
           ]
          },
          "colorway": [
           "#636efa",
           "#EF553B",
           "#00cc96",
           "#ab63fa",
           "#FFA15A",
           "#19d3f3",
           "#FF6692",
           "#B6E880",
           "#FF97FF",
           "#FECB52"
          ],
          "font": {
           "color": "#2a3f5f"
          },
          "geo": {
           "bgcolor": "white",
           "lakecolor": "white",
           "landcolor": "#E5ECF6",
           "showlakes": true,
           "showland": true,
           "subunitcolor": "white"
          },
          "hoverlabel": {
           "align": "left"
          },
          "hovermode": "closest",
          "mapbox": {
           "style": "light"
          },
          "paper_bgcolor": "white",
          "plot_bgcolor": "#E5ECF6",
          "polar": {
           "angularaxis": {
            "gridcolor": "white",
            "linecolor": "white",
            "ticks": ""
           },
           "bgcolor": "#E5ECF6",
           "radialaxis": {
            "gridcolor": "white",
            "linecolor": "white",
            "ticks": ""
           }
          },
          "scene": {
           "xaxis": {
            "backgroundcolor": "#E5ECF6",
            "gridcolor": "white",
            "gridwidth": 2,
            "linecolor": "white",
            "showbackground": true,
            "ticks": "",
            "zerolinecolor": "white"
           },
           "yaxis": {
            "backgroundcolor": "#E5ECF6",
            "gridcolor": "white",
            "gridwidth": 2,
            "linecolor": "white",
            "showbackground": true,
            "ticks": "",
            "zerolinecolor": "white"
           },
           "zaxis": {
            "backgroundcolor": "#E5ECF6",
            "gridcolor": "white",
            "gridwidth": 2,
            "linecolor": "white",
            "showbackground": true,
            "ticks": "",
            "zerolinecolor": "white"
           }
          },
          "shapedefaults": {
           "line": {
            "color": "#2a3f5f"
           }
          },
          "ternary": {
           "aaxis": {
            "gridcolor": "white",
            "linecolor": "white",
            "ticks": ""
           },
           "baxis": {
            "gridcolor": "white",
            "linecolor": "white",
            "ticks": ""
           },
           "bgcolor": "#E5ECF6",
           "caxis": {
            "gridcolor": "white",
            "linecolor": "white",
            "ticks": ""
           }
          },
          "title": {
           "x": 0.05
          },
          "xaxis": {
           "automargin": true,
           "gridcolor": "white",
           "linecolor": "white",
           "ticks": "",
           "title": {
            "standoff": 15
           },
           "zerolinecolor": "white",
           "zerolinewidth": 2
          },
          "yaxis": {
           "automargin": true,
           "gridcolor": "white",
           "linecolor": "white",
           "ticks": "",
           "title": {
            "standoff": 15
           },
           "zerolinecolor": "white",
           "zerolinewidth": 2
          }
         }
        },
        "title": {
         "text": "Similarity of CV's and Learning Curriculum to Requirements in Job Postings"
        },
        "xaxis": {
         "anchor": "y",
         "domain": [
          0,
          1
         ],
         "title": {
          "text": "CV Similarity to Cluster"
         }
        },
        "yaxis": {
         "anchor": "x",
         "domain": [
          0,
          1
         ],
         "title": {
          "text": "3 most common Bigrams in Cluster"
         }
        }
       }
      },
      "text/html": [
       "<div>                            <div id=\"67d9c8ce-e8da-4d64-8667-a28f5096a8f7\" class=\"plotly-graph-div\" style=\"height:850px; width:100%;\"></div>            <script type=\"text/javascript\">                require([\"plotly\"], function(Plotly) {                    window.PLOTLYENV=window.PLOTLYENV || {};                                    if (document.getElementById(\"67d9c8ce-e8da-4d64-8667-a28f5096a8f7\")) {                    Plotly.newPlot(                        \"67d9c8ce-e8da-4d64-8667-a28f5096a8f7\",                        [{\"alignmentgroup\": \"True\", \"hovertemplate\": \"variable=handbook_similarity<br>value=%{x}<br>labels=%{y}<extra></extra>\", \"legendgroup\": \"handbook_similarity\", \"marker\": {\"color\": \"green\"}, \"name\": \"handbook_similarity\", \"offsetgroup\": \"handbook_similarity\", \"orientation\": \"h\", \"showlegend\": true, \"textposition\": \"auto\", \"type\": \"bar\", \"x\": [0.09643990706449174, 0.0, 0.0, 0.0, 0.15721621288137738, 0.11449218435238183, 0.17741534188125954, 0.19214201560936003, 0.0, 0.1697445402086, 0.0, 0.0, 0.2276960506800754, 0.0, 0.23876215216014915, 0.17764157513646725, 0.0, 0.2448584298362114, 0.0, 0.0, 0.0, 0.0, 0.16898973112044477, 0.2762153906987808, 0.0, 0.2631634368441391, 0.22845993628179806, 0.31037622078258115, 0.0, 0.0, 0.0], \"xaxis\": \"x\", \"y\": [\"Cluster 24: deep learning, machine learning, experience deep\", \"Cluster 20: experience working, single cell, next-generation sequencing\", \"Cluster 3: years experience, related field, years relevant\", \"Cluster 27: experience cloud, google cloud, cloud computing\", \"Cluster 1: knowledge sql, relational databases, sql queries\", \"Cluster 5: track record, research projects, scientific technical\", \"Cluster 14: data visualization, visualization tools, experience data\", \"Cluster 19: predictive models, machine learning, model performance\", \"Cluster 2: ability work, work independently, fast-paced environment\", \"Cluster 8: big data, experience working, experience big\", \"Cluster 17: problem-solving skills, problem solving, strong analytical\", \"Cluster 4: learn new, new technologies, eager learn\", \"Cluster 29: data quality, data management, data pipelines\", \"Cluster 21: helping others, people around, lasting mark\", \"Cluster 6: machine learning, learning models, learning algorithms\", \"Cluster 23: data analysis, results clear, track record\", \"Cluster 0: team player, ability work, team members\", \"Cluster 11: data sets, data analysis, data sources\", \"Cluster 15: years experience, experience data, data science\", \"Cluster 26: working environment, work environment, professional development\", \"Cluster 28: fluent english, communication skills, english fluent\", \"Cluster 7: communication skills, excellent communication, skills excellent\", \"Cluster 9: attention detail, natural language, social media\", \"Cluster 13: data science, data scientists, data scientist\", \"Cluster 16: business stakeholders, work closely, internal external\", \"Cluster 25: business problems, translate business, understand business\", \"Cluster 12: machine learning, learning techniques, machine learning,\", \"Cluster 22: version control, software engineering, best practices\", \"Cluster 10: experience working, software development, project management\", \"Cluster 30: computer science, computer science, master\\u2019s degree\", \"Cluster 18: programming skills, programming languages, data science\"], \"yaxis\": \"y\"}, {\"alignmentgroup\": \"True\", \"hovertemplate\": \"variable=CV_similarity<br>value=%{x}<br>labels=%{y}<extra></extra>\", \"legendgroup\": \"CV_similarity\", \"marker\": {\"color\": \"blue\"}, \"name\": \"CV_similarity\", \"offsetgroup\": \"CV_similarity\", \"orientation\": \"h\", \"showlegend\": true, \"textposition\": \"auto\", \"type\": \"bar\", \"x\": [0.05810381631171717, 0.027490156618064674, 0.0019100881895284076, 0.09174607375205945, 0.11780215554740205, 0.013517462499508387, 0.12887800837376798, 0.12181879478412647, 0.024124705267373127, 0.15227126944907873, 0.009168204395698487, 0.03808490816148459, 0.18410457911211067, 0.013021085652829436, 0.17850717283130432, 0.14609366350564026, 0.06584464384817773, 0.19522995532337367, 0.1691957587455164, 0.043895441654109676, 0.007317583226796059, 0.06413938675786732, 0.175253491489148, 0.22498993870158238, 0.1487945515054376, 0.18361823762990834, 0.21526784042946495, 0.24906016501326841, 0.25683274543754536, 0.10505298514956905, 0.30438424309942363], \"xaxis\": \"x\", \"y\": [\"Cluster 24: deep learning, machine learning, experience deep\", \"Cluster 20: experience working, single cell, next-generation sequencing\", \"Cluster 3: years experience, related field, years relevant\", \"Cluster 27: experience cloud, google cloud, cloud computing\", \"Cluster 1: knowledge sql, relational databases, sql queries\", \"Cluster 5: track record, research projects, scientific technical\", \"Cluster 14: data visualization, visualization tools, experience data\", \"Cluster 19: predictive models, machine learning, model performance\", \"Cluster 2: ability work, work independently, fast-paced environment\", \"Cluster 8: big data, experience working, experience big\", \"Cluster 17: problem-solving skills, problem solving, strong analytical\", \"Cluster 4: learn new, new technologies, eager learn\", \"Cluster 29: data quality, data management, data pipelines\", \"Cluster 21: helping others, people around, lasting mark\", \"Cluster 6: machine learning, learning models, learning algorithms\", \"Cluster 23: data analysis, results clear, track record\", \"Cluster 0: team player, ability work, team members\", \"Cluster 11: data sets, data analysis, data sources\", \"Cluster 15: years experience, experience data, data science\", \"Cluster 26: working environment, work environment, professional development\", \"Cluster 28: fluent english, communication skills, english fluent\", \"Cluster 7: communication skills, excellent communication, skills excellent\", \"Cluster 9: attention detail, natural language, social media\", \"Cluster 13: data science, data scientists, data scientist\", \"Cluster 16: business stakeholders, work closely, internal external\", \"Cluster 25: business problems, translate business, understand business\", \"Cluster 12: machine learning, learning techniques, machine learning,\", \"Cluster 22: version control, software engineering, best practices\", \"Cluster 10: experience working, software development, project management\", \"Cluster 30: computer science, computer science, master\\u2019s degree\", \"Cluster 18: programming skills, programming languages, data science\"], \"yaxis\": \"y\"}, {\"alignmentgroup\": \"True\", \"hovertemplate\": \"variable=presence<br>value=%{x}<br>labels=%{y}<extra></extra>\", \"legendgroup\": \"presence\", \"marker\": {\"color\": \"red\"}, \"name\": \"presence\", \"offsetgroup\": \"presence\", \"orientation\": \"h\", \"showlegend\": true, \"textposition\": \"auto\", \"type\": \"bar\", \"x\": [0.14917127071823208, 0.17034990791896848, 0.18876611418047898, 0.23296500920810292, 0.23756906077348094, 0.23756906077348094, 0.24401473296500942, 0.27440147329650105, 0.2771639042357278, 0.2918968692449355, 0.30294659300184174, 0.3112338858195212, 0.3241252302025782, 0.33701657458563583, 0.3453038674033154, 0.3581952117863724, 0.3609576427255983, 0.387661141804788, 0.3895027624309397, 0.3913443830570909, 0.4023941068139967, 0.4143646408839779, 0.42173112338858226, 0.42817679558011074, 0.4290976058931865, 0.4337016574585633, 0.4364640883977905, 0.44290976058931897, 0.4604051565377532, 0.5359116022099453, 0.5377532228360951], \"xaxis\": \"x\", \"y\": [\"Cluster 24: deep learning, machine learning, experience deep\", \"Cluster 20: experience working, single cell, next-generation sequencing\", \"Cluster 3: years experience, related field, years relevant\", \"Cluster 27: experience cloud, google cloud, cloud computing\", \"Cluster 1: knowledge sql, relational databases, sql queries\", \"Cluster 5: track record, research projects, scientific technical\", \"Cluster 14: data visualization, visualization tools, experience data\", \"Cluster 19: predictive models, machine learning, model performance\", \"Cluster 2: ability work, work independently, fast-paced environment\", \"Cluster 8: big data, experience working, experience big\", \"Cluster 17: problem-solving skills, problem solving, strong analytical\", \"Cluster 4: learn new, new technologies, eager learn\", \"Cluster 29: data quality, data management, data pipelines\", \"Cluster 21: helping others, people around, lasting mark\", \"Cluster 6: machine learning, learning models, learning algorithms\", \"Cluster 23: data analysis, results clear, track record\", \"Cluster 0: team player, ability work, team members\", \"Cluster 11: data sets, data analysis, data sources\", \"Cluster 15: years experience, experience data, data science\", \"Cluster 26: working environment, work environment, professional development\", \"Cluster 28: fluent english, communication skills, english fluent\", \"Cluster 7: communication skills, excellent communication, skills excellent\", \"Cluster 9: attention detail, natural language, social media\", \"Cluster 13: data science, data scientists, data scientist\", \"Cluster 16: business stakeholders, work closely, internal external\", \"Cluster 25: business problems, translate business, understand business\", \"Cluster 12: machine learning, learning techniques, machine learning,\", \"Cluster 22: version control, software engineering, best practices\", \"Cluster 10: experience working, software development, project management\", \"Cluster 30: computer science, computer science, master\\u2019s degree\", \"Cluster 18: programming skills, programming languages, data science\"], \"yaxis\": \"y\"}],                        {\"barmode\": \"group\", \"height\": 850, \"legend\": {\"title\": {\"text\": \"variable\"}, \"tracegroupgap\": 0}, \"margin\": {\"t\": 60}, \"template\": {\"data\": {\"bar\": [{\"error_x\": {\"color\": \"#2a3f5f\"}, \"error_y\": {\"color\": \"#2a3f5f\"}, \"marker\": {\"line\": {\"color\": \"#E5ECF6\", \"width\": 0.5}}, \"type\": \"bar\"}], \"barpolar\": [{\"marker\": {\"line\": {\"color\": \"#E5ECF6\", \"width\": 0.5}}, \"type\": \"barpolar\"}], \"carpet\": [{\"aaxis\": {\"endlinecolor\": \"#2a3f5f\", \"gridcolor\": \"white\", \"linecolor\": \"white\", \"minorgridcolor\": \"white\", \"startlinecolor\": \"#2a3f5f\"}, \"baxis\": {\"endlinecolor\": \"#2a3f5f\", \"gridcolor\": \"white\", \"linecolor\": \"white\", \"minorgridcolor\": \"white\", \"startlinecolor\": \"#2a3f5f\"}, \"type\": \"carpet\"}], \"choropleth\": [{\"colorbar\": {\"outlinewidth\": 0, \"ticks\": \"\"}, \"type\": \"choropleth\"}], \"contour\": [{\"colorbar\": {\"outlinewidth\": 0, \"ticks\": \"\"}, \"colorscale\": [[0.0, \"#0d0887\"], [0.1111111111111111, \"#46039f\"], [0.2222222222222222, \"#7201a8\"], [0.3333333333333333, \"#9c179e\"], [0.4444444444444444, \"#bd3786\"], [0.5555555555555556, \"#d8576b\"], [0.6666666666666666, \"#ed7953\"], [0.7777777777777778, \"#fb9f3a\"], [0.8888888888888888, \"#fdca26\"], [1.0, \"#f0f921\"]], \"type\": \"contour\"}], \"contourcarpet\": [{\"colorbar\": {\"outlinewidth\": 0, \"ticks\": \"\"}, \"type\": \"contourcarpet\"}], \"heatmap\": [{\"colorbar\": {\"outlinewidth\": 0, \"ticks\": \"\"}, \"colorscale\": [[0.0, \"#0d0887\"], [0.1111111111111111, \"#46039f\"], [0.2222222222222222, \"#7201a8\"], [0.3333333333333333, \"#9c179e\"], [0.4444444444444444, \"#bd3786\"], [0.5555555555555556, \"#d8576b\"], [0.6666666666666666, \"#ed7953\"], [0.7777777777777778, \"#fb9f3a\"], [0.8888888888888888, \"#fdca26\"], [1.0, \"#f0f921\"]], \"type\": \"heatmap\"}], \"heatmapgl\": [{\"colorbar\": {\"outlinewidth\": 0, \"ticks\": \"\"}, \"colorscale\": [[0.0, \"#0d0887\"], [0.1111111111111111, \"#46039f\"], [0.2222222222222222, \"#7201a8\"], [0.3333333333333333, \"#9c179e\"], [0.4444444444444444, \"#bd3786\"], [0.5555555555555556, \"#d8576b\"], [0.6666666666666666, \"#ed7953\"], [0.7777777777777778, \"#fb9f3a\"], [0.8888888888888888, \"#fdca26\"], [1.0, \"#f0f921\"]], \"type\": \"heatmapgl\"}], \"histogram\": [{\"marker\": {\"colorbar\": {\"outlinewidth\": 0, \"ticks\": \"\"}}, \"type\": \"histogram\"}], \"histogram2d\": [{\"colorbar\": {\"outlinewidth\": 0, \"ticks\": \"\"}, \"colorscale\": [[0.0, \"#0d0887\"], [0.1111111111111111, \"#46039f\"], [0.2222222222222222, \"#7201a8\"], [0.3333333333333333, \"#9c179e\"], [0.4444444444444444, \"#bd3786\"], [0.5555555555555556, \"#d8576b\"], [0.6666666666666666, \"#ed7953\"], [0.7777777777777778, \"#fb9f3a\"], [0.8888888888888888, \"#fdca26\"], [1.0, \"#f0f921\"]], \"type\": \"histogram2d\"}], \"histogram2dcontour\": [{\"colorbar\": {\"outlinewidth\": 0, \"ticks\": \"\"}, \"colorscale\": [[0.0, \"#0d0887\"], [0.1111111111111111, \"#46039f\"], [0.2222222222222222, \"#7201a8\"], [0.3333333333333333, \"#9c179e\"], [0.4444444444444444, \"#bd3786\"], [0.5555555555555556, \"#d8576b\"], [0.6666666666666666, \"#ed7953\"], [0.7777777777777778, \"#fb9f3a\"], [0.8888888888888888, \"#fdca26\"], [1.0, \"#f0f921\"]], \"type\": \"histogram2dcontour\"}], \"mesh3d\": [{\"colorbar\": {\"outlinewidth\": 0, \"ticks\": \"\"}, \"type\": \"mesh3d\"}], \"parcoords\": [{\"line\": {\"colorbar\": {\"outlinewidth\": 0, \"ticks\": \"\"}}, \"type\": \"parcoords\"}], \"pie\": [{\"automargin\": true, \"type\": \"pie\"}], \"scatter\": [{\"marker\": {\"colorbar\": {\"outlinewidth\": 0, \"ticks\": \"\"}}, \"type\": \"scatter\"}], \"scatter3d\": [{\"line\": {\"colorbar\": {\"outlinewidth\": 0, \"ticks\": \"\"}}, \"marker\": {\"colorbar\": {\"outlinewidth\": 0, \"ticks\": \"\"}}, \"type\": \"scatter3d\"}], \"scattercarpet\": [{\"marker\": {\"colorbar\": {\"outlinewidth\": 0, \"ticks\": \"\"}}, \"type\": \"scattercarpet\"}], \"scattergeo\": [{\"marker\": {\"colorbar\": {\"outlinewidth\": 0, \"ticks\": \"\"}}, \"type\": \"scattergeo\"}], \"scattergl\": [{\"marker\": {\"colorbar\": {\"outlinewidth\": 0, \"ticks\": \"\"}}, \"type\": \"scattergl\"}], \"scattermapbox\": [{\"marker\": {\"colorbar\": {\"outlinewidth\": 0, \"ticks\": \"\"}}, \"type\": \"scattermapbox\"}], \"scatterpolar\": [{\"marker\": {\"colorbar\": {\"outlinewidth\": 0, \"ticks\": \"\"}}, \"type\": \"scatterpolar\"}], \"scatterpolargl\": [{\"marker\": {\"colorbar\": {\"outlinewidth\": 0, \"ticks\": \"\"}}, \"type\": \"scatterpolargl\"}], \"scatterternary\": [{\"marker\": {\"colorbar\": {\"outlinewidth\": 0, \"ticks\": \"\"}}, \"type\": \"scatterternary\"}], \"surface\": [{\"colorbar\": {\"outlinewidth\": 0, \"ticks\": \"\"}, \"colorscale\": [[0.0, \"#0d0887\"], [0.1111111111111111, \"#46039f\"], [0.2222222222222222, \"#7201a8\"], [0.3333333333333333, \"#9c179e\"], [0.4444444444444444, \"#bd3786\"], [0.5555555555555556, \"#d8576b\"], [0.6666666666666666, \"#ed7953\"], [0.7777777777777778, \"#fb9f3a\"], [0.8888888888888888, \"#fdca26\"], [1.0, \"#f0f921\"]], \"type\": \"surface\"}], \"table\": [{\"cells\": {\"fill\": {\"color\": \"#EBF0F8\"}, \"line\": {\"color\": \"white\"}}, \"header\": {\"fill\": {\"color\": \"#C8D4E3\"}, \"line\": {\"color\": \"white\"}}, \"type\": \"table\"}]}, \"layout\": {\"annotationdefaults\": {\"arrowcolor\": \"#2a3f5f\", \"arrowhead\": 0, \"arrowwidth\": 1}, \"autotypenumbers\": \"strict\", \"coloraxis\": {\"colorbar\": {\"outlinewidth\": 0, \"ticks\": \"\"}}, \"colorscale\": {\"diverging\": [[0, \"#8e0152\"], [0.1, \"#c51b7d\"], [0.2, \"#de77ae\"], [0.3, \"#f1b6da\"], [0.4, \"#fde0ef\"], [0.5, \"#f7f7f7\"], [0.6, \"#e6f5d0\"], [0.7, \"#b8e186\"], [0.8, \"#7fbc41\"], [0.9, \"#4d9221\"], [1, \"#276419\"]], \"sequential\": [[0.0, \"#0d0887\"], [0.1111111111111111, \"#46039f\"], [0.2222222222222222, \"#7201a8\"], [0.3333333333333333, \"#9c179e\"], [0.4444444444444444, \"#bd3786\"], [0.5555555555555556, \"#d8576b\"], [0.6666666666666666, \"#ed7953\"], [0.7777777777777778, \"#fb9f3a\"], [0.8888888888888888, \"#fdca26\"], [1.0, \"#f0f921\"]], \"sequentialminus\": [[0.0, \"#0d0887\"], [0.1111111111111111, \"#46039f\"], [0.2222222222222222, \"#7201a8\"], [0.3333333333333333, \"#9c179e\"], [0.4444444444444444, \"#bd3786\"], [0.5555555555555556, \"#d8576b\"], [0.6666666666666666, \"#ed7953\"], [0.7777777777777778, \"#fb9f3a\"], [0.8888888888888888, \"#fdca26\"], [1.0, \"#f0f921\"]]}, \"colorway\": [\"#636efa\", \"#EF553B\", \"#00cc96\", \"#ab63fa\", \"#FFA15A\", \"#19d3f3\", \"#FF6692\", \"#B6E880\", \"#FF97FF\", \"#FECB52\"], \"font\": {\"color\": \"#2a3f5f\"}, \"geo\": {\"bgcolor\": \"white\", \"lakecolor\": \"white\", \"landcolor\": \"#E5ECF6\", \"showlakes\": true, \"showland\": true, \"subunitcolor\": \"white\"}, \"hoverlabel\": {\"align\": \"left\"}, \"hovermode\": \"closest\", \"mapbox\": {\"style\": \"light\"}, \"paper_bgcolor\": \"white\", \"plot_bgcolor\": \"#E5ECF6\", \"polar\": {\"angularaxis\": {\"gridcolor\": \"white\", \"linecolor\": \"white\", \"ticks\": \"\"}, \"bgcolor\": \"#E5ECF6\", \"radialaxis\": {\"gridcolor\": \"white\", \"linecolor\": \"white\", \"ticks\": \"\"}}, \"scene\": {\"xaxis\": {\"backgroundcolor\": \"#E5ECF6\", \"gridcolor\": \"white\", \"gridwidth\": 2, \"linecolor\": \"white\", \"showbackground\": true, \"ticks\": \"\", \"zerolinecolor\": \"white\"}, \"yaxis\": {\"backgroundcolor\": \"#E5ECF6\", \"gridcolor\": \"white\", \"gridwidth\": 2, \"linecolor\": \"white\", \"showbackground\": true, \"ticks\": \"\", \"zerolinecolor\": \"white\"}, \"zaxis\": {\"backgroundcolor\": \"#E5ECF6\", \"gridcolor\": \"white\", \"gridwidth\": 2, \"linecolor\": \"white\", \"showbackground\": true, \"ticks\": \"\", \"zerolinecolor\": \"white\"}}, \"shapedefaults\": {\"line\": {\"color\": \"#2a3f5f\"}}, \"ternary\": {\"aaxis\": {\"gridcolor\": \"white\", \"linecolor\": \"white\", \"ticks\": \"\"}, \"baxis\": {\"gridcolor\": \"white\", \"linecolor\": \"white\", \"ticks\": \"\"}, \"bgcolor\": \"#E5ECF6\", \"caxis\": {\"gridcolor\": \"white\", \"linecolor\": \"white\", \"ticks\": \"\"}}, \"title\": {\"x\": 0.05}, \"xaxis\": {\"automargin\": true, \"gridcolor\": \"white\", \"linecolor\": \"white\", \"ticks\": \"\", \"title\": {\"standoff\": 15}, \"zerolinecolor\": \"white\", \"zerolinewidth\": 2}, \"yaxis\": {\"automargin\": true, \"gridcolor\": \"white\", \"linecolor\": \"white\", \"ticks\": \"\", \"title\": {\"standoff\": 15}, \"zerolinecolor\": \"white\", \"zerolinewidth\": 2}}}, \"title\": {\"text\": \"Similarity of CV's and Learning Curriculum to Requirements in Job Postings\"}, \"xaxis\": {\"anchor\": \"y\", \"domain\": [0.0, 1.0], \"title\": {\"text\": \"CV Similarity to Cluster\"}}, \"yaxis\": {\"anchor\": \"x\", \"domain\": [0.0, 1.0], \"title\": {\"text\": \"3 most common Bigrams in Cluster\"}}},                        {\"responsive\": true}                    ).then(function(){\n",
       "                            \n",
       "var gd = document.getElementById('67d9c8ce-e8da-4d64-8667-a28f5096a8f7');\n",
       "var x = new MutationObserver(function (mutations, observer) {{\n",
       "        var display = window.getComputedStyle(gd).display;\n",
       "        if (!display || display === 'none') {{\n",
       "            console.log([gd, 'removed!']);\n",
       "            Plotly.purge(gd);\n",
       "            observer.disconnect();\n",
       "        }}\n",
       "}});\n",
       "\n",
       "// Listen for the removal of the full notebook cells\n",
       "var notebookContainer = gd.closest('#notebook-container');\n",
       "if (notebookContainer) {{\n",
       "    x.observe(notebookContainer, {childList: true});\n",
       "}}\n",
       "\n",
       "// Listen for the clearing of the current output cell\n",
       "var outputEl = gd.closest('.output');\n",
       "if (outputEl) {{\n",
       "    x.observe(outputEl, {childList: true});\n",
       "}}\n",
       "\n",
       "                        })                };                });            </script>        </div>"
      ]
     },
     "metadata": {},
     "output_type": "display_data"
    }
   ],
   "source": [
    "fig = px.bar(df_sim_avg, y=\"labels\", x=[\"handbook_similarity\",\"CV_similarity\",\"presence\"],\\\n",
    "             color_discrete_sequence =['green','blue','red'])\n",
    "fig.update_layout(height=850, \\\n",
    "                          title = 'Similarity of CV\\'s and Learning Curriculum to Requirements in Job Postings',\\\n",
    "                          barmode='group',\\\n",
    "                          yaxis_title=\"3 most common Bigrams in Cluster\",\\\n",
    "                          xaxis_title=\"CV Similarity to Cluster\")\n",
    "fig.show()"
   ]
  },
  {
   "cell_type": "code",
   "execution_count": 191,
   "metadata": {},
   "outputs": [
    {
     "name": "stdout",
     "output_type": "stream",
     "text": [
      "Cluster 0: team player, ability work, team members\n",
      "Cluster 1: knowledge sql, relational databases, sql queries\n",
      "Cluster 2: ability work, work independently, fast-paced environment\n",
      "Cluster 3: years experience, related field, years relevant\n",
      "Cluster 4: learn new, new technologies, eager learn\n",
      "Cluster 5: track record, research projects, scientific technical\n",
      "Cluster 6: machine learning, learning models, learning algorithms\n",
      "Cluster 7: communication skills, excellent communication, skills excellent\n",
      "Cluster 8: big data, experience working, experience big\n",
      "Cluster 9: attention detail, natural language, social media\n",
      "Cluster 10: experience working, software development, project management\n",
      "Cluster 11: data sets, data analysis, data sources\n",
      "Cluster 12: machine learning, learning techniques, machine learning,\n",
      "Cluster 13: data science, data scientists, data scientist\n",
      "Cluster 14: data visualization, visualization tools, experience data\n",
      "Cluster 15: years experience, experience data, data science\n",
      "Cluster 16: business stakeholders, work closely, internal external\n",
      "Cluster 17: problem-solving skills, problem solving, strong analytical\n",
      "Cluster 18: programming skills, programming languages, data science\n",
      "Cluster 19: predictive models, machine learning, model performance\n",
      "Cluster 20: experience working, single cell, next-generation sequencing\n",
      "Cluster 21: helping others, people around, lasting mark\n",
      "Cluster 22: version control, software engineering, best practices\n",
      "Cluster 23: data analysis, results clear, track record\n",
      "Cluster 24: deep learning, machine learning, experience deep\n",
      "Cluster 25: business problems, translate business, understand business\n",
      "Cluster 26: working environment, work environment, professional development\n",
      "Cluster 27: experience cloud, google cloud, cloud computing\n",
      "Cluster 28: fluent english, communication skills, english fluent\n",
      "Cluster 29: data quality, data management, data pipelines\n",
      "Cluster 30: computer science, computer science, master’s degree\n"
     ]
    }
   ],
   "source": [
    "for i in range(31):\n",
    "    print(get_label(i))"
   ]
  },
  {
   "cell_type": "code",
   "execution_count": null,
   "metadata": {},
   "outputs": [],
   "source": []
  }
 ],
 "metadata": {
  "kernelspec": {
   "display_name": "Python 3",
   "language": "python",
   "name": "python3"
  },
  "language_info": {
   "codemirror_mode": {
    "name": "ipython",
    "version": 3
   },
   "file_extension": ".py",
   "mimetype": "text/x-python",
   "name": "python",
   "nbconvert_exporter": "python",
   "pygments_lexer": "ipython3",
   "version": "3.8.8"
  }
 },
 "nbformat": 4,
 "nbformat_minor": 4
}
