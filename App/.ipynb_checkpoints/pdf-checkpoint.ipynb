{
 "cells": [
  {
   "cell_type": "code",
   "execution_count": 62,
   "id": "8294ffa4",
   "metadata": {},
   "outputs": [],
   "source": [
    "from fpdf import FPDF\n",
    "import fpdf\n",
    "import pandas as pd\n",
    "pd.options.plotting.backend = \"plotly\"\n",
    "import plotly as plt"
   ]
  },
  {
   "cell_type": "code",
   "execution_count": 63,
   "id": "352251f9",
   "metadata": {},
   "outputs": [
    {
     "data": {
      "text/plain": [
       "'1.7.2'"
      ]
     },
     "execution_count": 63,
     "metadata": {},
     "output_type": "execute_result"
    }
   ],
   "source": [
    "fpdf.__version__"
   ]
  },
  {
   "cell_type": "code",
   "execution_count": 64,
   "id": "6e44ad0e",
   "metadata": {},
   "outputs": [
    {
     "data": {
      "text/plain": [
       "'1.2.3'"
      ]
     },
     "execution_count": 64,
     "metadata": {},
     "output_type": "execute_result"
    }
   ],
   "source": [
    "pd.__version__"
   ]
  },
  {
   "cell_type": "code",
   "execution_count": 85,
   "id": "f6fe542e",
   "metadata": {},
   "outputs": [
    {
     "data": {
      "text/plain": [
       "'5.1.0'"
      ]
     },
     "execution_count": 85,
     "metadata": {},
     "output_type": "execute_result"
    }
   ],
   "source": [
    "plt.__version__"
   ]
  },
  {
   "cell_type": "code",
   "execution_count": 65,
   "id": "b366d7d6",
   "metadata": {},
   "outputs": [],
   "source": [
    "df = pd.read_csv('../datasets/df_toy.csv')"
   ]
  },
  {
   "cell_type": "code",
   "execution_count": 66,
   "id": "78d0367b",
   "metadata": {},
   "outputs": [
    {
     "data": {
      "text/html": [
       "<div>\n",
       "<style scoped>\n",
       "    .dataframe tbody tr th:only-of-type {\n",
       "        vertical-align: middle;\n",
       "    }\n",
       "\n",
       "    .dataframe tbody tr th {\n",
       "        vertical-align: top;\n",
       "    }\n",
       "\n",
       "    .dataframe thead th {\n",
       "        text-align: right;\n",
       "    }\n",
       "</style>\n",
       "<table border=\"1\" class=\"dataframe\">\n",
       "  <thead>\n",
       "    <tr style=\"text-align: right;\">\n",
       "      <th></th>\n",
       "      <th>Unnamed: 0</th>\n",
       "      <th>dt</th>\n",
       "      <th>url</th>\n",
       "      <th>title</th>\n",
       "      <th>location</th>\n",
       "      <th>country</th>\n",
       "      <th>full_text</th>\n",
       "      <th>list_elements</th>\n",
       "    </tr>\n",
       "  </thead>\n",
       "  <tbody>\n",
       "    <tr>\n",
       "      <th>0</th>\n",
       "      <td>0</td>\n",
       "      <td>2021-08-08 21:01:03.303868</td>\n",
       "      <td>https://se.indeed.com/viewjob?jk=b0669075c820856d</td>\n",
       "      <td>Data Scientist</td>\n",
       "      <td>Jobba hemifrån</td>\n",
       "      <td>se</td>\n",
       "      <td>About us\\n\\nHere at Mavenoid, we are building ...</td>\n",
       "      <td>['Collaborate with stakeholders and other engi...</td>\n",
       "    </tr>\n",
       "    <tr>\n",
       "      <th>1</th>\n",
       "      <td>1</td>\n",
       "      <td>2021-08-08 21:01:09.824428</td>\n",
       "      <td>https://se.indeed.com/viewjob?jk=dbfe7d7c087065d7</td>\n",
       "      <td>Data Scientist, Search Insights</td>\n",
       "      <td>Stockholm</td>\n",
       "      <td>se</td>\n",
       "      <td>Data, Research &amp; Insights\\nData Science\\nThe P...</td>\n",
       "      <td>['\\nExperimentation strategy including AB test...</td>\n",
       "    </tr>\n",
       "    <tr>\n",
       "      <th>2</th>\n",
       "      <td>2</td>\n",
       "      <td>2021-08-08 21:01:18.030788</td>\n",
       "      <td>https://se.indeed.com/viewjob?jk=841a8fdd1bb00f2f</td>\n",
       "      <td>Junior data scientist</td>\n",
       "      <td>411 21 Göteborg</td>\n",
       "      <td>se</td>\n",
       "      <td>Utilifeed is a rapidly expanding startup with ...</td>\n",
       "      <td>['\\nImproving pour data ingestion pipeline, we...</td>\n",
       "    </tr>\n",
       "    <tr>\n",
       "      <th>3</th>\n",
       "      <td>3</td>\n",
       "      <td>2021-08-08 21:01:20.651507</td>\n",
       "      <td>https://se.indeed.com/viewjob?jk=88c25a48d2da8a7a</td>\n",
       "      <td>Data Scientist</td>\n",
       "      <td>118 72 Stockholm</td>\n",
       "      <td>se</td>\n",
       "      <td>AI Data scientistLocation: Stockholm, SwedenDi...</td>\n",
       "      <td>['Proven experience in Machine Learning (ML) a...</td>\n",
       "    </tr>\n",
       "    <tr>\n",
       "      <th>4</th>\n",
       "      <td>4</td>\n",
       "      <td>2021-08-08 21:01:27.135797</td>\n",
       "      <td>https://se.indeed.com/viewjob?jk=1b4b8ee005f06350</td>\n",
       "      <td>Data Scientist</td>\n",
       "      <td>Solna</td>\n",
       "      <td>se</td>\n",
       "      <td>Currently, we are looking for a talented data ...</td>\n",
       "      <td>['\\nYou have a start-up mentality, with delive...</td>\n",
       "    </tr>\n",
       "  </tbody>\n",
       "</table>\n",
       "</div>"
      ],
      "text/plain": [
       "   Unnamed: 0                          dt  \\\n",
       "0           0  2021-08-08 21:01:03.303868   \n",
       "1           1  2021-08-08 21:01:09.824428   \n",
       "2           2  2021-08-08 21:01:18.030788   \n",
       "3           3  2021-08-08 21:01:20.651507   \n",
       "4           4  2021-08-08 21:01:27.135797   \n",
       "\n",
       "                                                 url  \\\n",
       "0  https://se.indeed.com/viewjob?jk=b0669075c820856d   \n",
       "1  https://se.indeed.com/viewjob?jk=dbfe7d7c087065d7   \n",
       "2  https://se.indeed.com/viewjob?jk=841a8fdd1bb00f2f   \n",
       "3  https://se.indeed.com/viewjob?jk=88c25a48d2da8a7a   \n",
       "4  https://se.indeed.com/viewjob?jk=1b4b8ee005f06350   \n",
       "\n",
       "                              title            location country  \\\n",
       "0                   Data Scientist      Jobba hemifrån       se   \n",
       "1  Data Scientist, Search Insights           Stockholm       se   \n",
       "2            Junior data scientist     411 21 Göteborg       se   \n",
       "3                   Data Scientist    118 72 Stockholm       se   \n",
       "4                   Data Scientist               Solna       se   \n",
       "\n",
       "                                           full_text  \\\n",
       "0  About us\\n\\nHere at Mavenoid, we are building ...   \n",
       "1  Data, Research & Insights\\nData Science\\nThe P...   \n",
       "2  Utilifeed is a rapidly expanding startup with ...   \n",
       "3  AI Data scientistLocation: Stockholm, SwedenDi...   \n",
       "4  Currently, we are looking for a talented data ...   \n",
       "\n",
       "                                       list_elements  \n",
       "0  ['Collaborate with stakeholders and other engi...  \n",
       "1  ['\\nExperimentation strategy including AB test...  \n",
       "2  ['\\nImproving pour data ingestion pipeline, we...  \n",
       "3  ['Proven experience in Machine Learning (ML) a...  \n",
       "4  ['\\nYou have a start-up mentality, with delive...  "
      ]
     },
     "execution_count": 66,
     "metadata": {},
     "output_type": "execute_result"
    }
   ],
   "source": [
    "df.head()"
   ]
  },
  {
   "cell_type": "code",
   "execution_count": 67,
   "id": "ee3382d8",
   "metadata": {},
   "outputs": [],
   "source": [
    "plot = df['dt'].plot()"
   ]
  },
  {
   "cell_type": "code",
   "execution_count": 73,
   "id": "d36f9d41",
   "metadata": {},
   "outputs": [
    {
     "data": {
      "text/plain": [
       "''"
      ]
     },
     "execution_count": 73,
     "metadata": {},
     "output_type": "execute_result"
    }
   ],
   "source": [
    "pdf = FPDF()\n",
    "pdf.add_page()\n",
    "pdf.set_font('Arial', 'B', 16)\n",
    "pdf.cell(40, 10, 'Hello World! this string should be long enough to not fit on one line, to see whether it automatically cuts the line and starts on a new line or do we have to perhaps call \\n to start a new line')\n",
    "pdf.output('tuto1.pdf', 'F')"
   ]
  },
  {
   "cell_type": "code",
   "execution_count": 83,
   "id": "69429f73",
   "metadata": {},
   "outputs": [],
   "source": [
    "pdf=FPDF()\n",
    "pdf.add_page()\n",
    "plt.io.write_image(plot,file='plot.png',format='png',width=700, height=450)\n",
    "pltx=\"plot.png\"### define a method\n",
    "pdf.image('plot.png',x = 10, y = 10, w = 100, h = 100, type = '', link = '')\n",
    "pdf.set_font('Arial', 'B', 16)\n",
    "pdf.cell(40, 10, 'Hello World! this string asdfasdf')"
   ]
  },
  {
   "cell_type": "code",
   "execution_count": 84,
   "id": "966850b8",
   "metadata": {},
   "outputs": [
    {
     "data": {
      "text/plain": [
       "''"
      ]
     },
     "execution_count": 84,
     "metadata": {},
     "output_type": "execute_result"
    }
   ],
   "source": [
    "pdf.output('tuto2.pdf', 'F')"
   ]
  },
  {
   "cell_type": "code",
   "execution_count": null,
   "id": "5c00c9a9",
   "metadata": {},
   "outputs": [],
   "source": [
    "def get_plot(cv):\n",
    "    df_sim = pd.DataFrame()\n",
    "    df_sim['cluster'] = range(len(k31_full.cluster_centers_))\n",
    "    \n",
    "    labels = []\n",
    "    presence = []\n",
    "    \n",
    "    for i in range(0,len(k31_full.cluster_centers_)):\n",
    "        #labels.append(get_label(i))\n",
    "        labels.append(str(i))\n",
    "        presence.append(df_clusters[str(i)].mean())\n",
    "    \n",
    "    model = 'all-distilroberta-v1'\n",
    "    model = SentenceTransformer(model)\n",
    "    embeddings_cv = model.encode(cv)\n",
    "    embeddings_f = embeddings_cv.astype(float)\n",
    "    clusters_cv = k31_full.predict(embeddings_f)\n",
    "    clusters_cv_l  = clusters_cv.tolist()\n",
    "    \n",
    "    cv_scores = []\n",
    "    for i, cluster in enumerate(clusters_cv):\n",
    "        cv_scores.append(util.pytorch_cos_sim(k31_full.cluster_centers_[cluster], embeddings_f[i]).item())\n",
    "    \n",
    "    scores = []\n",
    "    for cluster in range(len(k31_full.cluster_centers_)):\n",
    "        if cluster not in clusters_cv_l:\n",
    "            scores.append(0)\n",
    "        else:\n",
    "            score = 0\n",
    "            indexes = np.where(clusters_cv==cluster)[0]\n",
    "            for i in indexes:\n",
    "                if cv_scores[i] > score:\n",
    "                    score = cv_scores[i]\n",
    "            scores.append(score)   \n",
    "    \n",
    "    df_sim['score'] = scores\n",
    "    df_sim['presence'] = presence\n",
    "    df_sim['labels'] = labels\n",
    "    \n",
    "    df_sim['CV_similarity'] = df_sim['presence']*df_sim['score']\n",
    "    df_sim['Presence_Cluster_in_Job_Postings'] = df_sim['presence']-df_sim['CV_similarity']\n",
    "    df_sim = df_sim.sort_values('presence')\n",
    "    \n",
    "    if plot:\n",
    "        fig = px.bar(df_sim, y=\"labels\", x=[\"CV_similarity\",\"Presence_Cluster_in_Job_Postings\"], hover_data = ['presence'])\n",
    "        fig.update_layout(height=800, \\\n",
    "                          title = 'Author\\'s CV similarity to requirement clusters in context of relative cluster presence',\\\n",
    "                          barmode='stack', \\\n",
    "                          yaxis_title=\"3 most common Bigrams in Cluster\",\\\n",
    "                          xaxis_title=\"CV Similarity to Cluster\")\n",
    "        fig.show()\n",
    "        fig = px.bar(df_sim, y=\"labels\", x=[\"CV_similarity\",\"Presence_Cluster_in_Job_Postings\"], hover_data = ['presence'])\n",
    "        fig.show()\n",
    "    return df_sim\n",
    "    \n",
    "df_sim = get_df(cv_koen, plot = True)"
   ]
  }
 ],
 "metadata": {
  "kernelspec": {
   "display_name": "Python 3",
   "language": "python",
   "name": "python3"
  },
  "language_info": {
   "codemirror_mode": {
    "name": "ipython",
    "version": 3
   },
   "file_extension": ".py",
   "mimetype": "text/x-python",
   "name": "python",
   "nbconvert_exporter": "python",
   "pygments_lexer": "ipython3",
   "version": "3.8.8"
  }
 },
 "nbformat": 4,
 "nbformat_minor": 5
}
