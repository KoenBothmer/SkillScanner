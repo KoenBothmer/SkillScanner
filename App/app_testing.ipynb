{
 "cells": [
  {
   "cell_type": "code",
   "execution_count": 15,
   "metadata": {},
   "outputs": [
    {
     "name": "stderr",
     "output_type": "stream",
     "text": [
      "/opt/conda/lib/python3.8/site-packages/sklearn/base.py:324: UserWarning:\n",
      "\n",
      "Trying to unpickle estimator KMeans from version 0.23.1 when using version 1.0. This might lead to breaking code or invalid results. Use at your own risk. For more info please refer to:\n",
      "https://scikit-learn.org/stable/modules/model_persistence.html#security-maintainability-limitations\n",
      "\n"
     ]
    }
   ],
   "source": [
    "from flask import Flask, render_template, redirect, url_for\n",
    "from flask_bootstrap import Bootstrap\n",
    "from flask_wtf import FlaskForm\n",
    "from wtforms import StringField, SubmitField\n",
    "from wtforms.validators import DataRequired\n",
    "\n",
    "from sentence_transformers import SentenceTransformer, util\n",
    "from sklearn.cluster import KMeans\n",
    "import pickle\n",
    "\n",
    "from fpdf import FPDF\n",
    "from flask import send_file\n",
    "import fpdf\n",
    "import pandas as pd\n",
    "pd.options.plotting.backend = \"plotly\"\n",
    "import plotly as plt\n",
    "import numpy as np\n",
    "import plotly.express as px\n",
    "import plotly.graph_objects as go\n",
    "\n",
    "k31_full = pickle.load(open('docker/k_31_full', 'rb'))\n",
    "cluster_label_bigrams = pickle.load(open('docker/cluster_label_bigrams','rb')) \n",
    "cluster_importance = pickle.load(open('docker/cluster_importance', 'rb'))\n",
    "\n",
    "df_cv_summary = pd.read_csv('df_cv_summary.csv',index_col=0)"
   ]
  },
  {
   "cell_type": "code",
   "execution_count": 16,
   "metadata": {},
   "outputs": [
    {
     "name": "stdout",
     "output_type": "stream",
     "text": [
      "Skill Scanner uses state of the art Natural Language Processing techniques to compare skills:\n",
      "  *  We compared your CV to employer demands for Data Scientists\n",
      "  *  We meassured how well your CV covers the skills of peer Data Scientists\n",
      "  *  We reccomend courses that fit the skill gaps in your CV\n",
      "For an in depth explanation of our technique please refer to the last page.\n"
     ]
    }
   ],
   "source": [
    "file = open(\"docker/text/intro.txt\")\n",
    "intro = file.read()#.replace(\"\\n\", \" \")\n",
    "\n",
    "intro = intro.encode('latin-1', 'replace').decode('latin-1')\n",
    "file.close()\n",
    "print(intro)\n",
    "\n",
    "file = open(\"text/plot_explanation.txt\")\n",
    "plot_explanation = file.read()\n",
    "plot_explanation = plot_explanation.encode('latin-1', 'replace').decode('latin-1')\n",
    "file.close()\n",
    "\n",
    "file = open(\"text/per_skill_description.txt\")\n",
    "per_skill_description = file.read().replace(\"/n\", \" \").replace(\"\\br\", \"\\n\")\n",
    "per_skill_description = per_skill_description.encode('latin-1', 'replace').decode('latin-1')\n",
    "file.close()\n",
    "\n",
    "file = open(\"text/table_description.txt\")\n",
    "table_description = file.read().replace(\"/n\", \" \").replace(\"\\br\", \"\\n\")\n",
    "table_description = table_description.encode('latin-1', 'replace').decode('latin-1')\n",
    "file.close()"
   ]
  },
  {
   "cell_type": "code",
   "execution_count": 17,
   "metadata": {},
   "outputs": [
    {
     "ename": "NameError",
     "evalue": "name 'get_table' is not defined",
     "output_type": "error",
     "traceback": [
      "\u001b[0;31m---------------------------------------------------------------------------\u001b[0m",
      "\u001b[0;31mNameError\u001b[0m                                 Traceback (most recent call last)",
      "\u001b[0;32m<ipython-input-17-7d9761fe43fa>\u001b[0m in \u001b[0;36m<module>\u001b[0;34m\u001b[0m\n\u001b[1;32m     97\u001b[0m     \u001b[0;32mreturn\u001b[0m \u001b[0mpdf\u001b[0m\u001b[0;34m\u001b[0m\u001b[0;34m\u001b[0m\u001b[0m\n\u001b[1;32m     98\u001b[0m \u001b[0mskills\u001b[0m \u001b[0;34m=\u001b[0m \u001b[0;34m[\u001b[0m\u001b[0;34m'programming skills'\u001b[0m\u001b[0;34m,\u001b[0m\u001b[0;34m'computer science'\u001b[0m\u001b[0;34m,\u001b[0m\u001b[0;34m'experience as a software developer'\u001b[0m\u001b[0;34m,\u001b[0m\u001b[0;34m'using git and github'\u001b[0m\u001b[0;34m,\u001b[0m\u001b[0;34m'machine learning techniques'\u001b[0m\u001b[0;34m]\u001b[0m\u001b[0;34m\u001b[0m\u001b[0;34m\u001b[0m\u001b[0m\n\u001b[0;32m---> 99\u001b[0;31m \u001b[0mpdf\u001b[0m \u001b[0;34m=\u001b[0m \u001b[0mreturn_pdf\u001b[0m\u001b[0;34m(\u001b[0m\u001b[0mskills\u001b[0m\u001b[0;34m)\u001b[0m\u001b[0;34m\u001b[0m\u001b[0;34m\u001b[0m\u001b[0m\n\u001b[0m\u001b[1;32m    100\u001b[0m \u001b[0mpdf\u001b[0m\u001b[0;34m.\u001b[0m\u001b[0moutput\u001b[0m\u001b[0;34m(\u001b[0m\u001b[0;34m'report.pdf'\u001b[0m\u001b[0;34m,\u001b[0m \u001b[0;34m'F'\u001b[0m\u001b[0;34m)\u001b[0m\u001b[0;34m\u001b[0m\u001b[0;34m\u001b[0m\u001b[0m\n",
      "\u001b[0;32m<ipython-input-17-7d9761fe43fa>\u001b[0m in \u001b[0;36mreturn_pdf\u001b[0;34m(skills)\u001b[0m\n\u001b[1;32m      8\u001b[0m     \u001b[0mplot\u001b[0m\u001b[0;34m.\u001b[0m\u001b[0mwrite_image\u001b[0m\u001b[0;34m(\u001b[0m\u001b[0;34m\"fig1.png\"\u001b[0m\u001b[0;34m,\u001b[0m \u001b[0mscale\u001b[0m\u001b[0;34m=\u001b[0m\u001b[0;36m1\u001b[0m\u001b[0;34m)\u001b[0m\u001b[0;31m#, width=500, height=750)\u001b[0m\u001b[0;34m\u001b[0m\u001b[0;34m\u001b[0m\u001b[0m\n\u001b[1;32m      9\u001b[0m \u001b[0;34m\u001b[0m\u001b[0m\n\u001b[0;32m---> 10\u001b[0;31m     \u001b[0mtable\u001b[0m \u001b[0;34m=\u001b[0m \u001b[0mget_table\u001b[0m\u001b[0;34m(\u001b[0m\u001b[0mcv_scores\u001b[0m\u001b[0;34m)\u001b[0m\u001b[0;34m\u001b[0m\u001b[0;34m\u001b[0m\u001b[0m\n\u001b[0m\u001b[1;32m     11\u001b[0m     \u001b[0mtable\u001b[0m\u001b[0;34m.\u001b[0m\u001b[0mwrite_image\u001b[0m\u001b[0;34m(\u001b[0m\u001b[0;34m\"table1.png\"\u001b[0m\u001b[0;34m)\u001b[0m\u001b[0;34m\u001b[0m\u001b[0;34m\u001b[0m\u001b[0m\n\u001b[1;32m     12\u001b[0m \u001b[0;34m\u001b[0m\u001b[0m\n",
      "\u001b[0;31mNameError\u001b[0m: name 'get_table' is not defined"
     ]
    }
   ],
   "source": [
    "def return_pdf(skills):\n",
    "    analysis = get_plot(skills)\n",
    "    plot = analysis[0]\n",
    "    df = analysis[1]\n",
    "    df_sim = analysis[2]\n",
    "    cv_scores = analysis[3]\n",
    "    \n",
    "    plot.write_image(\"fig1.png\", scale=1)#, width=500, height=750)\n",
    "    \n",
    "    table = get_table(cv_scores)\n",
    "    table.write_image(\"table1.png\")\n",
    "    \n",
    "    pdf=FPDF('P', 'mm', 'A4')\n",
    "    pdf.add_page()\n",
    "    \n",
    "    pdf.set_font('Arial', 'B', 14) #setting font for title\n",
    "    pdf.cell(40, 0, 'Skill Scanner CV Report - Data Scientist', ln=2) #Write Title\n",
    "    pdf.set_font('Arial', '', 9) #setting font for text cells\n",
    "    pdf.set_xy(10,15) #place cursor\n",
    "    pdf.multi_cell(w=190, h=5, txt=intro, align='J')\n",
    "    \n",
    "    #Total Score Output\n",
    "    total_score = df['score'].mean()\n",
    "    total_score_s = str(round(total_score,2))\n",
    "    competition_mean = 0.49\n",
    "    competition_mean_s = \"0.49\"\n",
    "    top10 = 0.72\n",
    "    top10_s = \"0.72\"\n",
    "    top25 = 0.67\n",
    "    top25_s = \"0.67\"\n",
    "    top50 = 0.61\n",
    "    top50_s = \"0.61\"\n",
    "    text = \"Your total score is \"+total_score_s+\" This is \"\n",
    "    if total_score<competition_mean:\n",
    "        text = text+\"a low score in comparison to a dataset of 65 Data Scientist CV's. \"\n",
    "    elif total_score<top25:\n",
    "        text = text+\"an average score in comparison to a dataset of 65 Data Scientist CV's. \"\n",
    "        if(total_score<top50):\n",
    "            text = text+\"Please note that allthough you score is average, more than 50% of Data Scientist CV's score better than yours. \"\n",
    "    else:\n",
    "        text = text+\"a high score in comparison to a dataset of 65 Data Scientist CV's. \"\n",
    "    text = text+\"The mean score among these data scientist CV's is \"\\\n",
    "    +competition_mean_s+\". The top 10% of these CV's scored \"+top10_s \\\n",
    "    +\". The top 25% of these CV's scored \"+top25_s+\". The top 50% of these CV's scored \"+top50_s+\".\"\n",
    "    \n",
    "    text = text.encode('latin-1', 'replace').decode('latin-1')\n",
    "    pdf.set_xy(pdf.get_x(), pdf.get_y()+5)\n",
    "    pdf.set_font('Arial', 'B', 11) #setting font for title\n",
    "    pdf.cell(40, 0, 'Your Score: '+total_score_s, ln=2) #Write Title\n",
    "    pdf.set_font('Arial', '', 9)\n",
    "    pdf.set_xy(pdf.get_x(), pdf.get_y()+5)\n",
    "    pdf.multi_cell(w=190, h=5, txt=text)\n",
    "    \n",
    "    pdf.set_xy(pdf.get_x(), pdf.get_y()+5)\n",
    "    pdf.set_font('Arial', 'B', 11) #setting font for title\n",
    "    pdf.cell(40, 0, 'Comparrison Plot', ln=2) #Write Title\n",
    "    pdf.set_font('Arial', '', 9)\n",
    "    pdf.set_xy(pdf.get_x(), pdf.get_y()+5)\n",
    "    pdf.multi_cell(w=190, h=5, txt=plot_explanation)\n",
    "    \n",
    "    pdf.image('fig1.png', w=200)#x = pdf.get_x, y = 15, w = 200)#, h = 200, type = '', link = '')\n",
    "    \n",
    "    pdf.add_page()\n",
    "    pdf.set_font('Arial', 'B', 11) #setting font for title\n",
    "    pdf.cell(40, 0, 'Analysis per input skill', ln=2) #Write Title\n",
    "    pdf.set_font('Arial', '', 9)\n",
    "    pdf.set_xy(pdf.get_x(), pdf.get_y()+5)\n",
    "    pdf.multi_cell(w=190, h=5, txt=per_skill_description)\n",
    "    pdf.set_xy(pdf.get_x(),pdf.get_y()+5)\n",
    "    \n",
    "    for index, row in df.iterrows():\n",
    "        mean_score = df_cv_summary[df_cv_summary['cluster']==row['cluster']]['mean'].mean()\n",
    "        mean_score_s = str(round(mean_score,2))\n",
    "        score = round(row['score'],2)\n",
    "        text = \"Input Skill \"+str(index+1)+\":\\nYour input skill \\\"\"+row['skill']+\"\\\" was clustered in cluster \"+str(row['cluster'])+\\\n",
    "        \" which contains skills regarding \"+cluster_label_bigrams[row['cluster']]+\\\n",
    "        \". Your score for this skill is \"+str(score)+\".\"\n",
    "        \n",
    "        if score<mean_score:\n",
    "            text = text + \"This score is quite low, the average score among Data Scientist CV's is \"+mean_score_s+\" this may be due to a misclassification of our model but this could also indicate an opportunity to further clarify your CV.\"\n",
    "        else:\n",
    "            text = text + \" this is above the average score among Data Scientist CV's which is \"+mean_score_s\n",
    "            \n",
    "        text = text+\"\\n------------------------------------------------------------------\\n\"\n",
    "        \n",
    "        text = text.encode('latin-1', 'replace').decode('latin-1')\n",
    "        pdf.multi_cell(w=190, h=5, txt = text)\n",
    "    \n",
    "    pdf.add_page()\n",
    "    pdf.set_font('Arial', 'B', 11) #setting font for title\n",
    "    pdf.cell(40, 0, 'Your score compared to Data Scientist CV\\'s', ln=2) #Write Title\n",
    "    pdf.set_font('Arial', '', 9)\n",
    "    pdf.set_xy(pdf.get_x(), pdf.get_y()+5)\n",
    "    pdf.multi_cell(w=190, h=5, txt=table_description)\n",
    "    pdf.set_xy(pdf.get_x(),pdf.get_y()+5)\n",
    "    pdf.image('table1.png',w=200)\n",
    "    return pdf\n",
    "skills = ['programming skills','computer science','experience as a software developer','using git and github','machine learning techniques']\n",
    "pdf = return_pdf(skills)\n",
    "pdf.output('report.pdf', 'F')"
   ]
  },
  {
   "cell_type": "code",
   "execution_count": 24,
   "metadata": {},
   "outputs": [],
   "source": [
    "def get_plot(cv): #takes in list of skills and returns a plot with score for each cluster\n",
    "    df_sim = pd.DataFrame()\n",
    "    df_sim['cluster'] = range(len(k31_full.cluster_centers_))\n",
    "    \n",
    "    labels = cluster_label_bigrams\n",
    "    importance = cluster_importance\n",
    "    \n",
    "    model = 'all-distilroberta-v1'\n",
    "    model = SentenceTransformer(model)\n",
    "    embeddings_cv = model.encode(cv)\n",
    "    embeddings_f = embeddings_cv.astype(float)\n",
    "    clusters_cv = k31_full.predict(embeddings_f)\n",
    "    clusters_cv_l  = clusters_cv.tolist()\n",
    "    \n",
    "    cv_scores = []\n",
    "    \n",
    "    for i, cluster in enumerate(clusters_cv):\n",
    "        cv_scores.append(util.pytorch_cos_sim(k31_full.cluster_centers_[cluster], embeddings_f[i]).item())\n",
    "    \n",
    "    df_report = pd.DataFrame()\n",
    "    df_report['skill']=cv\n",
    "    df_report['cluster']=clusters_cv_l\n",
    "    df_report['score']=cv_scores\n",
    "    \n",
    "    scores = []\n",
    "    for cluster in range(len(k31_full.cluster_centers_)):\n",
    "        if cluster not in clusters_cv_l:\n",
    "            scores.append(0)\n",
    "        else:\n",
    "            score = 0\n",
    "            indexes = np.where(clusters_cv==cluster)[0]\n",
    "            for i in indexes:\n",
    "                if cv_scores[i] > score:\n",
    "                    score = cv_scores[i]\n",
    "            scores.append(score)   \n",
    "    \n",
    "    df_sim['score'] = scores\n",
    "    df_sim['importance'] = importance\n",
    "    df_sim['labels'] = labels\n",
    "    \n",
    "    df_sim['Your Coverage'] = df_sim['importance']*df_sim['score']\n",
    "    df_sim['Skill Group Importance'] = df_sim['importance']-df_sim['Your Coverage']\n",
    "    df_sim = df_sim.sort_values('importance')\n",
    "    \n",
    "    fig = px.bar(df_sim, y='labels', x=[\"Your Coverage\",\"Skill Group Importance\"], hover_data = ['importance'])\n",
    "    fig.update_layout(height=3*300, width=3*300, \\\n",
    "                          #font=dict(size=10),\\\n",
    "                          title = 'Input CV Similarity to Requirements in Job Postings',\\\n",
    "                          barmode='stack', \\\n",
    "                          legend_title_text = '', \\\n",
    "                          yaxis_title=\"Importance\",\\\n",
    "                          xaxis_title=\"Coverage\",\\\n",
    "                          legend=dict(yanchor=\"bottom\",y=0,xanchor=\"right\",x=1\n",
    "                        \n",
    "))\n",
    "    return fig, df_report, df_sim, scores"
   ]
  },
  {
   "cell_type": "code",
   "execution_count": 25,
   "metadata": {},
   "outputs": [
    {
     "data": {
      "application/vnd.plotly.v1+json": {
       "config": {
        "plotlyServerURL": "https://plot.ly"
       },
       "data": [
        {
         "alignmentgroup": "True",
         "customdata": [
          [
           0.14917127071823205
          ],
          [
           0.1703499079189687
          ],
          [
           0.1887661141804788
          ],
          [
           0.23296500920810312
          ],
          [
           0.23756906077348067
          ],
          [
           0.23756906077348067
          ],
          [
           0.2440147329650092
          ],
          [
           0.27440147329650094
          ],
          [
           0.27716390423572745
          ],
          [
           0.2918968692449355
          ],
          [
           0.3029465930018416
          ],
          [
           0.31123388581952116
          ],
          [
           0.3241252302025783
          ],
          [
           0.3370165745856354
          ],
          [
           0.3453038674033149
          ],
          [
           0.358195211786372
          ],
          [
           0.36095764272559855
          ],
          [
           0.3876611418047882
          ],
          [
           0.38950276243093923
          ],
          [
           0.39134438305709024
          ],
          [
           0.40239410681399634
          ],
          [
           0.4143646408839779
          ],
          [
           0.42173112338858193
          ],
          [
           0.4281767955801105
          ],
          [
           0.429097605893186
          ],
          [
           0.43370165745856354
          ],
          [
           0.43646408839779005
          ],
          [
           0.4429097605893186
          ],
          [
           0.4604051565377532
          ],
          [
           0.5359116022099447
          ],
          [
           0.5377532228360957
          ]
         ],
         "hovertemplate": "variable=Your Coverage<br>value=%{x}<br>labels=%{y}<br>importance=%{customdata[0]}<extra></extra>",
         "legendgroup": "Your Coverage",
         "marker": {
          "color": "#636efa",
          "pattern": {
           "shape": ""
          }
         },
         "name": "Your Coverage",
         "offsetgroup": "Your Coverage",
         "orientation": "h",
         "showlegend": true,
         "textposition": "auto",
         "type": "bar",
         "x": [
          0,
          0,
          0,
          0,
          0,
          0,
          0,
          0,
          0,
          0,
          0,
          0,
          0,
          0,
          0,
          0,
          0,
          0,
          0,
          0,
          0,
          0,
          0.09235642468136676,
          0,
          0,
          0,
          0,
          0,
          0,
          0,
          0.3023196127133671
         ],
         "xaxis": "x",
         "y": [
          "<b>deep</b> <b>learning</b>, machine learning, experience deep",
          "<b>experience</b> <b>working</b>, single cell, next-generation sequencing",
          "<b>years</b> <b>experience</b>, related field, years relevant",
          "<b>experience</b> <b>cloud</b>, google cloud, cloud computing",
          "<b>knowledge</b> <b>sql</b>, relational databases, sql queries",
          "<b>track</b> <b>record</b>, research projects, scientific technical",
          "<b>data</b> <b>visualization</b>, visualization tools, experience data",
          "<b>predictive</b> <b>models</b>, machine learning, model performance",
          "<b>ability</b> <b>work</b>, work independently, fast-paced environment",
          "<b>big</b> <b>data</b>, experience working, experience big",
          "<b>problem-solving</b> <b>skills</b>, problem solving, strong analytical",
          "<b>learn</b> <b>new</b>, new technologies, eager learn",
          "<b>data</b> <b>quality</b>, data management, data pipelines",
          "<b>helping</b> <b>others</b>, people around, lasting mark",
          "<b>machine</b> <b>learning</b>, learning models, learning algorithms",
          "<b>data</b> <b>analysis</b>, results clear, track record",
          "<b>team</b> <b>player</b>, ability work, team members",
          "<b>data</b> <b>sets</b>, data analysis, data sources",
          "<b>years</b> <b>experience</b>, experience data, data science",
          "<b>working</b> <b>environment</b>, work environment, professional development",
          "<b>fluent</b> <b>english</b>, communication skills, english fluent",
          "<b>communication</b> <b>skills</b>, excellent communication, skills excellent",
          "<b>attention</b> <b>detail</b>, natural language, social media",
          "<b>data</b> <b>science</b>, data scientists, data scientist",
          "<b>business</b> <b>stakeholders</b>, work closely, internal external",
          "<b>business</b> <b>problems</b>, translate business, understand business",
          "<b>machine</b> <b>learning</b>, learning techniques, machine learning,",
          "<b>version</b> <b>control</b>, software engineering, best practices",
          "<b>experience</b> <b>working</b>, software development, project management",
          "<b>computer</b> <b>science,</b>, computer science, master’s degree",
          "<b>programming</b> <b>skills</b>, programming languages, data science"
         ],
         "yaxis": "y"
        },
        {
         "alignmentgroup": "True",
         "customdata": [
          [
           0.14917127071823205
          ],
          [
           0.1703499079189687
          ],
          [
           0.1887661141804788
          ],
          [
           0.23296500920810312
          ],
          [
           0.23756906077348067
          ],
          [
           0.23756906077348067
          ],
          [
           0.2440147329650092
          ],
          [
           0.27440147329650094
          ],
          [
           0.27716390423572745
          ],
          [
           0.2918968692449355
          ],
          [
           0.3029465930018416
          ],
          [
           0.31123388581952116
          ],
          [
           0.3241252302025783
          ],
          [
           0.3370165745856354
          ],
          [
           0.3453038674033149
          ],
          [
           0.358195211786372
          ],
          [
           0.36095764272559855
          ],
          [
           0.3876611418047882
          ],
          [
           0.38950276243093923
          ],
          [
           0.39134438305709024
          ],
          [
           0.40239410681399634
          ],
          [
           0.4143646408839779
          ],
          [
           0.42173112338858193
          ],
          [
           0.4281767955801105
          ],
          [
           0.429097605893186
          ],
          [
           0.43370165745856354
          ],
          [
           0.43646408839779005
          ],
          [
           0.4429097605893186
          ],
          [
           0.4604051565377532
          ],
          [
           0.5359116022099447
          ],
          [
           0.5377532228360957
          ]
         ],
         "hovertemplate": "variable=Skill Group Importance<br>value=%{x}<br>labels=%{y}<br>importance=%{customdata[0]}<extra></extra>",
         "legendgroup": "Skill Group Importance",
         "marker": {
          "color": "#EF553B",
          "pattern": {
           "shape": ""
          }
         },
         "name": "Skill Group Importance",
         "offsetgroup": "Skill Group Importance",
         "orientation": "h",
         "showlegend": true,
         "textposition": "auto",
         "type": "bar",
         "x": [
          0.14917127071823205,
          0.1703499079189687,
          0.1887661141804788,
          0.23296500920810312,
          0.23756906077348067,
          0.23756906077348067,
          0.2440147329650092,
          0.27440147329650094,
          0.27716390423572745,
          0.2918968692449355,
          0.3029465930018416,
          0.31123388581952116,
          0.3241252302025783,
          0.3370165745856354,
          0.3453038674033149,
          0.358195211786372,
          0.36095764272559855,
          0.3876611418047882,
          0.38950276243093923,
          0.39134438305709024,
          0.40239410681399634,
          0.4143646408839779,
          0.32937469870721514,
          0.4281767955801105,
          0.429097605893186,
          0.43370165745856354,
          0.43646408839779005,
          0.4429097605893186,
          0.4604051565377532,
          0.5359116022099447,
          0.23543361012272862
         ],
         "xaxis": "x",
         "y": [
          "<b>deep</b> <b>learning</b>, machine learning, experience deep",
          "<b>experience</b> <b>working</b>, single cell, next-generation sequencing",
          "<b>years</b> <b>experience</b>, related field, years relevant",
          "<b>experience</b> <b>cloud</b>, google cloud, cloud computing",
          "<b>knowledge</b> <b>sql</b>, relational databases, sql queries",
          "<b>track</b> <b>record</b>, research projects, scientific technical",
          "<b>data</b> <b>visualization</b>, visualization tools, experience data",
          "<b>predictive</b> <b>models</b>, machine learning, model performance",
          "<b>ability</b> <b>work</b>, work independently, fast-paced environment",
          "<b>big</b> <b>data</b>, experience working, experience big",
          "<b>problem-solving</b> <b>skills</b>, problem solving, strong analytical",
          "<b>learn</b> <b>new</b>, new technologies, eager learn",
          "<b>data</b> <b>quality</b>, data management, data pipelines",
          "<b>helping</b> <b>others</b>, people around, lasting mark",
          "<b>machine</b> <b>learning</b>, learning models, learning algorithms",
          "<b>data</b> <b>analysis</b>, results clear, track record",
          "<b>team</b> <b>player</b>, ability work, team members",
          "<b>data</b> <b>sets</b>, data analysis, data sources",
          "<b>years</b> <b>experience</b>, experience data, data science",
          "<b>working</b> <b>environment</b>, work environment, professional development",
          "<b>fluent</b> <b>english</b>, communication skills, english fluent",
          "<b>communication</b> <b>skills</b>, excellent communication, skills excellent",
          "<b>attention</b> <b>detail</b>, natural language, social media",
          "<b>data</b> <b>science</b>, data scientists, data scientist",
          "<b>business</b> <b>stakeholders</b>, work closely, internal external",
          "<b>business</b> <b>problems</b>, translate business, understand business",
          "<b>machine</b> <b>learning</b>, learning techniques, machine learning,",
          "<b>version</b> <b>control</b>, software engineering, best practices",
          "<b>experience</b> <b>working</b>, software development, project management",
          "<b>computer</b> <b>science,</b>, computer science, master’s degree",
          "<b>programming</b> <b>skills</b>, programming languages, data science"
         ],
         "yaxis": "y"
        }
       ],
       "layout": {
        "barmode": "stack",
        "height": 900,
        "legend": {
         "title": {
          "text": ""
         },
         "tracegroupgap": 0,
         "x": 1,
         "xanchor": "right",
         "y": 0,
         "yanchor": "bottom"
        },
        "margin": {
         "t": 60
        },
        "template": {
         "data": {
          "bar": [
           {
            "error_x": {
             "color": "#2a3f5f"
            },
            "error_y": {
             "color": "#2a3f5f"
            },
            "marker": {
             "line": {
              "color": "#E5ECF6",
              "width": 0.5
             },
             "pattern": {
              "fillmode": "overlay",
              "size": 10,
              "solidity": 0.2
             }
            },
            "type": "bar"
           }
          ],
          "barpolar": [
           {
            "marker": {
             "line": {
              "color": "#E5ECF6",
              "width": 0.5
             },
             "pattern": {
              "fillmode": "overlay",
              "size": 10,
              "solidity": 0.2
             }
            },
            "type": "barpolar"
           }
          ],
          "carpet": [
           {
            "aaxis": {
             "endlinecolor": "#2a3f5f",
             "gridcolor": "white",
             "linecolor": "white",
             "minorgridcolor": "white",
             "startlinecolor": "#2a3f5f"
            },
            "baxis": {
             "endlinecolor": "#2a3f5f",
             "gridcolor": "white",
             "linecolor": "white",
             "minorgridcolor": "white",
             "startlinecolor": "#2a3f5f"
            },
            "type": "carpet"
           }
          ],
          "choropleth": [
           {
            "colorbar": {
             "outlinewidth": 0,
             "ticks": ""
            },
            "type": "choropleth"
           }
          ],
          "contour": [
           {
            "colorbar": {
             "outlinewidth": 0,
             "ticks": ""
            },
            "colorscale": [
             [
              0,
              "#0d0887"
             ],
             [
              0.1111111111111111,
              "#46039f"
             ],
             [
              0.2222222222222222,
              "#7201a8"
             ],
             [
              0.3333333333333333,
              "#9c179e"
             ],
             [
              0.4444444444444444,
              "#bd3786"
             ],
             [
              0.5555555555555556,
              "#d8576b"
             ],
             [
              0.6666666666666666,
              "#ed7953"
             ],
             [
              0.7777777777777778,
              "#fb9f3a"
             ],
             [
              0.8888888888888888,
              "#fdca26"
             ],
             [
              1,
              "#f0f921"
             ]
            ],
            "type": "contour"
           }
          ],
          "contourcarpet": [
           {
            "colorbar": {
             "outlinewidth": 0,
             "ticks": ""
            },
            "type": "contourcarpet"
           }
          ],
          "heatmap": [
           {
            "colorbar": {
             "outlinewidth": 0,
             "ticks": ""
            },
            "colorscale": [
             [
              0,
              "#0d0887"
             ],
             [
              0.1111111111111111,
              "#46039f"
             ],
             [
              0.2222222222222222,
              "#7201a8"
             ],
             [
              0.3333333333333333,
              "#9c179e"
             ],
             [
              0.4444444444444444,
              "#bd3786"
             ],
             [
              0.5555555555555556,
              "#d8576b"
             ],
             [
              0.6666666666666666,
              "#ed7953"
             ],
             [
              0.7777777777777778,
              "#fb9f3a"
             ],
             [
              0.8888888888888888,
              "#fdca26"
             ],
             [
              1,
              "#f0f921"
             ]
            ],
            "type": "heatmap"
           }
          ],
          "heatmapgl": [
           {
            "colorbar": {
             "outlinewidth": 0,
             "ticks": ""
            },
            "colorscale": [
             [
              0,
              "#0d0887"
             ],
             [
              0.1111111111111111,
              "#46039f"
             ],
             [
              0.2222222222222222,
              "#7201a8"
             ],
             [
              0.3333333333333333,
              "#9c179e"
             ],
             [
              0.4444444444444444,
              "#bd3786"
             ],
             [
              0.5555555555555556,
              "#d8576b"
             ],
             [
              0.6666666666666666,
              "#ed7953"
             ],
             [
              0.7777777777777778,
              "#fb9f3a"
             ],
             [
              0.8888888888888888,
              "#fdca26"
             ],
             [
              1,
              "#f0f921"
             ]
            ],
            "type": "heatmapgl"
           }
          ],
          "histogram": [
           {
            "marker": {
             "pattern": {
              "fillmode": "overlay",
              "size": 10,
              "solidity": 0.2
             }
            },
            "type": "histogram"
           }
          ],
          "histogram2d": [
           {
            "colorbar": {
             "outlinewidth": 0,
             "ticks": ""
            },
            "colorscale": [
             [
              0,
              "#0d0887"
             ],
             [
              0.1111111111111111,
              "#46039f"
             ],
             [
              0.2222222222222222,
              "#7201a8"
             ],
             [
              0.3333333333333333,
              "#9c179e"
             ],
             [
              0.4444444444444444,
              "#bd3786"
             ],
             [
              0.5555555555555556,
              "#d8576b"
             ],
             [
              0.6666666666666666,
              "#ed7953"
             ],
             [
              0.7777777777777778,
              "#fb9f3a"
             ],
             [
              0.8888888888888888,
              "#fdca26"
             ],
             [
              1,
              "#f0f921"
             ]
            ],
            "type": "histogram2d"
           }
          ],
          "histogram2dcontour": [
           {
            "colorbar": {
             "outlinewidth": 0,
             "ticks": ""
            },
            "colorscale": [
             [
              0,
              "#0d0887"
             ],
             [
              0.1111111111111111,
              "#46039f"
             ],
             [
              0.2222222222222222,
              "#7201a8"
             ],
             [
              0.3333333333333333,
              "#9c179e"
             ],
             [
              0.4444444444444444,
              "#bd3786"
             ],
             [
              0.5555555555555556,
              "#d8576b"
             ],
             [
              0.6666666666666666,
              "#ed7953"
             ],
             [
              0.7777777777777778,
              "#fb9f3a"
             ],
             [
              0.8888888888888888,
              "#fdca26"
             ],
             [
              1,
              "#f0f921"
             ]
            ],
            "type": "histogram2dcontour"
           }
          ],
          "mesh3d": [
           {
            "colorbar": {
             "outlinewidth": 0,
             "ticks": ""
            },
            "type": "mesh3d"
           }
          ],
          "parcoords": [
           {
            "line": {
             "colorbar": {
              "outlinewidth": 0,
              "ticks": ""
             }
            },
            "type": "parcoords"
           }
          ],
          "pie": [
           {
            "automargin": true,
            "type": "pie"
           }
          ],
          "scatter": [
           {
            "marker": {
             "colorbar": {
              "outlinewidth": 0,
              "ticks": ""
             }
            },
            "type": "scatter"
           }
          ],
          "scatter3d": [
           {
            "line": {
             "colorbar": {
              "outlinewidth": 0,
              "ticks": ""
             }
            },
            "marker": {
             "colorbar": {
              "outlinewidth": 0,
              "ticks": ""
             }
            },
            "type": "scatter3d"
           }
          ],
          "scattercarpet": [
           {
            "marker": {
             "colorbar": {
              "outlinewidth": 0,
              "ticks": ""
             }
            },
            "type": "scattercarpet"
           }
          ],
          "scattergeo": [
           {
            "marker": {
             "colorbar": {
              "outlinewidth": 0,
              "ticks": ""
             }
            },
            "type": "scattergeo"
           }
          ],
          "scattergl": [
           {
            "marker": {
             "colorbar": {
              "outlinewidth": 0,
              "ticks": ""
             }
            },
            "type": "scattergl"
           }
          ],
          "scattermapbox": [
           {
            "marker": {
             "colorbar": {
              "outlinewidth": 0,
              "ticks": ""
             }
            },
            "type": "scattermapbox"
           }
          ],
          "scatterpolar": [
           {
            "marker": {
             "colorbar": {
              "outlinewidth": 0,
              "ticks": ""
             }
            },
            "type": "scatterpolar"
           }
          ],
          "scatterpolargl": [
           {
            "marker": {
             "colorbar": {
              "outlinewidth": 0,
              "ticks": ""
             }
            },
            "type": "scatterpolargl"
           }
          ],
          "scatterternary": [
           {
            "marker": {
             "colorbar": {
              "outlinewidth": 0,
              "ticks": ""
             }
            },
            "type": "scatterternary"
           }
          ],
          "surface": [
           {
            "colorbar": {
             "outlinewidth": 0,
             "ticks": ""
            },
            "colorscale": [
             [
              0,
              "#0d0887"
             ],
             [
              0.1111111111111111,
              "#46039f"
             ],
             [
              0.2222222222222222,
              "#7201a8"
             ],
             [
              0.3333333333333333,
              "#9c179e"
             ],
             [
              0.4444444444444444,
              "#bd3786"
             ],
             [
              0.5555555555555556,
              "#d8576b"
             ],
             [
              0.6666666666666666,
              "#ed7953"
             ],
             [
              0.7777777777777778,
              "#fb9f3a"
             ],
             [
              0.8888888888888888,
              "#fdca26"
             ],
             [
              1,
              "#f0f921"
             ]
            ],
            "type": "surface"
           }
          ],
          "table": [
           {
            "cells": {
             "fill": {
              "color": "#EBF0F8"
             },
             "line": {
              "color": "white"
             }
            },
            "header": {
             "fill": {
              "color": "#C8D4E3"
             },
             "line": {
              "color": "white"
             }
            },
            "type": "table"
           }
          ]
         },
         "layout": {
          "annotationdefaults": {
           "arrowcolor": "#2a3f5f",
           "arrowhead": 0,
           "arrowwidth": 1
          },
          "autotypenumbers": "strict",
          "coloraxis": {
           "colorbar": {
            "outlinewidth": 0,
            "ticks": ""
           }
          },
          "colorscale": {
           "diverging": [
            [
             0,
             "#8e0152"
            ],
            [
             0.1,
             "#c51b7d"
            ],
            [
             0.2,
             "#de77ae"
            ],
            [
             0.3,
             "#f1b6da"
            ],
            [
             0.4,
             "#fde0ef"
            ],
            [
             0.5,
             "#f7f7f7"
            ],
            [
             0.6,
             "#e6f5d0"
            ],
            [
             0.7,
             "#b8e186"
            ],
            [
             0.8,
             "#7fbc41"
            ],
            [
             0.9,
             "#4d9221"
            ],
            [
             1,
             "#276419"
            ]
           ],
           "sequential": [
            [
             0,
             "#0d0887"
            ],
            [
             0.1111111111111111,
             "#46039f"
            ],
            [
             0.2222222222222222,
             "#7201a8"
            ],
            [
             0.3333333333333333,
             "#9c179e"
            ],
            [
             0.4444444444444444,
             "#bd3786"
            ],
            [
             0.5555555555555556,
             "#d8576b"
            ],
            [
             0.6666666666666666,
             "#ed7953"
            ],
            [
             0.7777777777777778,
             "#fb9f3a"
            ],
            [
             0.8888888888888888,
             "#fdca26"
            ],
            [
             1,
             "#f0f921"
            ]
           ],
           "sequentialminus": [
            [
             0,
             "#0d0887"
            ],
            [
             0.1111111111111111,
             "#46039f"
            ],
            [
             0.2222222222222222,
             "#7201a8"
            ],
            [
             0.3333333333333333,
             "#9c179e"
            ],
            [
             0.4444444444444444,
             "#bd3786"
            ],
            [
             0.5555555555555556,
             "#d8576b"
            ],
            [
             0.6666666666666666,
             "#ed7953"
            ],
            [
             0.7777777777777778,
             "#fb9f3a"
            ],
            [
             0.8888888888888888,
             "#fdca26"
            ],
            [
             1,
             "#f0f921"
            ]
           ]
          },
          "colorway": [
           "#636efa",
           "#EF553B",
           "#00cc96",
           "#ab63fa",
           "#FFA15A",
           "#19d3f3",
           "#FF6692",
           "#B6E880",
           "#FF97FF",
           "#FECB52"
          ],
          "font": {
           "color": "#2a3f5f"
          },
          "geo": {
           "bgcolor": "white",
           "lakecolor": "white",
           "landcolor": "#E5ECF6",
           "showlakes": true,
           "showland": true,
           "subunitcolor": "white"
          },
          "hoverlabel": {
           "align": "left"
          },
          "hovermode": "closest",
          "mapbox": {
           "style": "light"
          },
          "paper_bgcolor": "white",
          "plot_bgcolor": "#E5ECF6",
          "polar": {
           "angularaxis": {
            "gridcolor": "white",
            "linecolor": "white",
            "ticks": ""
           },
           "bgcolor": "#E5ECF6",
           "radialaxis": {
            "gridcolor": "white",
            "linecolor": "white",
            "ticks": ""
           }
          },
          "scene": {
           "xaxis": {
            "backgroundcolor": "#E5ECF6",
            "gridcolor": "white",
            "gridwidth": 2,
            "linecolor": "white",
            "showbackground": true,
            "ticks": "",
            "zerolinecolor": "white"
           },
           "yaxis": {
            "backgroundcolor": "#E5ECF6",
            "gridcolor": "white",
            "gridwidth": 2,
            "linecolor": "white",
            "showbackground": true,
            "ticks": "",
            "zerolinecolor": "white"
           },
           "zaxis": {
            "backgroundcolor": "#E5ECF6",
            "gridcolor": "white",
            "gridwidth": 2,
            "linecolor": "white",
            "showbackground": true,
            "ticks": "",
            "zerolinecolor": "white"
           }
          },
          "shapedefaults": {
           "line": {
            "color": "#2a3f5f"
           }
          },
          "ternary": {
           "aaxis": {
            "gridcolor": "white",
            "linecolor": "white",
            "ticks": ""
           },
           "baxis": {
            "gridcolor": "white",
            "linecolor": "white",
            "ticks": ""
           },
           "bgcolor": "#E5ECF6",
           "caxis": {
            "gridcolor": "white",
            "linecolor": "white",
            "ticks": ""
           }
          },
          "title": {
           "x": 0.05
          },
          "xaxis": {
           "automargin": true,
           "gridcolor": "white",
           "linecolor": "white",
           "ticks": "",
           "title": {
            "standoff": 15
           },
           "zerolinecolor": "white",
           "zerolinewidth": 2
          },
          "yaxis": {
           "automargin": true,
           "gridcolor": "white",
           "linecolor": "white",
           "ticks": "",
           "title": {
            "standoff": 15
           },
           "zerolinecolor": "white",
           "zerolinewidth": 2
          }
         }
        },
        "title": {
         "text": "Input CV Similarity to Requirements in Job Postings"
        },
        "width": 900,
        "xaxis": {
         "anchor": "y",
         "domain": [
          0,
          1
         ],
         "title": {
          "text": "Coverage"
         }
        },
        "yaxis": {
         "anchor": "x",
         "domain": [
          0,
          1
         ],
         "title": {
          "text": "Importance"
         }
        }
       }
      },
      "text/html": [
       "<div>                            <div id=\"f4d91329-fb3e-4d72-87d3-80bf89ab1f6e\" class=\"plotly-graph-div\" style=\"height:900px; width:900px;\"></div>            <script type=\"text/javascript\">                require([\"plotly\"], function(Plotly) {                    window.PLOTLYENV=window.PLOTLYENV || {};                                    if (document.getElementById(\"f4d91329-fb3e-4d72-87d3-80bf89ab1f6e\")) {                    Plotly.newPlot(                        \"f4d91329-fb3e-4d72-87d3-80bf89ab1f6e\",                        [{\"alignmentgroup\":\"True\",\"customdata\":[[0.14917127071823205],[0.1703499079189687],[0.1887661141804788],[0.23296500920810312],[0.23756906077348067],[0.23756906077348067],[0.2440147329650092],[0.27440147329650094],[0.27716390423572745],[0.2918968692449355],[0.3029465930018416],[0.31123388581952116],[0.3241252302025783],[0.3370165745856354],[0.3453038674033149],[0.358195211786372],[0.36095764272559855],[0.3876611418047882],[0.38950276243093923],[0.39134438305709024],[0.40239410681399634],[0.4143646408839779],[0.42173112338858193],[0.4281767955801105],[0.429097605893186],[0.43370165745856354],[0.43646408839779005],[0.4429097605893186],[0.4604051565377532],[0.5359116022099447],[0.5377532228360957]],\"hovertemplate\":\"variable=Your Coverage<br>value=%{x}<br>labels=%{y}<br>importance=%{customdata[0]}<extra></extra>\",\"legendgroup\":\"Your Coverage\",\"marker\":{\"color\":\"#636efa\",\"pattern\":{\"shape\":\"\"}},\"name\":\"Your Coverage\",\"offsetgroup\":\"Your Coverage\",\"orientation\":\"h\",\"showlegend\":true,\"textposition\":\"auto\",\"type\":\"bar\",\"x\":[0.0,0.0,0.0,0.0,0.0,0.0,0.0,0.0,0.0,0.0,0.0,0.0,0.0,0.0,0.0,0.0,0.0,0.0,0.0,0.0,0.0,0.0,0.09235642468136676,0.0,0.0,0.0,0.0,0.0,0.0,0.0,0.3023196127133671],\"xaxis\":\"x\",\"y\":[\"<b>deep</b> <b>learning</b>, machine learning, experience deep\",\"<b>experience</b> <b>working</b>, single cell, next-generation sequencing\",\"<b>years</b> <b>experience</b>, related field, years relevant\",\"<b>experience</b> <b>cloud</b>, google cloud, cloud computing\",\"<b>knowledge</b> <b>sql</b>, relational databases, sql queries\",\"<b>track</b> <b>record</b>, research projects, scientific technical\",\"<b>data</b> <b>visualization</b>, visualization tools, experience data\",\"<b>predictive</b> <b>models</b>, machine learning, model performance\",\"<b>ability</b> <b>work</b>, work independently, fast-paced environment\",\"<b>big</b> <b>data</b>, experience working, experience big\",\"<b>problem-solving</b> <b>skills</b>, problem solving, strong analytical\",\"<b>learn</b> <b>new</b>, new technologies, eager learn\",\"<b>data</b> <b>quality</b>, data management, data pipelines\",\"<b>helping</b> <b>others</b>, people around, lasting mark\",\"<b>machine</b> <b>learning</b>, learning models, learning algorithms\",\"<b>data</b> <b>analysis</b>, results clear, track record\",\"<b>team</b> <b>player</b>, ability work, team members\",\"<b>data</b> <b>sets</b>, data analysis, data sources\",\"<b>years</b> <b>experience</b>, experience data, data science\",\"<b>working</b> <b>environment</b>, work environment, professional development\",\"<b>fluent</b> <b>english</b>, communication skills, english fluent\",\"<b>communication</b> <b>skills</b>, excellent communication, skills excellent\",\"<b>attention</b> <b>detail</b>, natural language, social media\",\"<b>data</b> <b>science</b>, data scientists, data scientist\",\"<b>business</b> <b>stakeholders</b>, work closely, internal external\",\"<b>business</b> <b>problems</b>, translate business, understand business\",\"<b>machine</b> <b>learning</b>, learning techniques, machine learning,\",\"<b>version</b> <b>control</b>, software engineering, best practices\",\"<b>experience</b> <b>working</b>, software development, project management\",\"<b>computer</b> <b>science,</b>, computer science, master\\u2019s degree\",\"<b>programming</b> <b>skills</b>, programming languages, data science\"],\"yaxis\":\"y\"},{\"alignmentgroup\":\"True\",\"customdata\":[[0.14917127071823205],[0.1703499079189687],[0.1887661141804788],[0.23296500920810312],[0.23756906077348067],[0.23756906077348067],[0.2440147329650092],[0.27440147329650094],[0.27716390423572745],[0.2918968692449355],[0.3029465930018416],[0.31123388581952116],[0.3241252302025783],[0.3370165745856354],[0.3453038674033149],[0.358195211786372],[0.36095764272559855],[0.3876611418047882],[0.38950276243093923],[0.39134438305709024],[0.40239410681399634],[0.4143646408839779],[0.42173112338858193],[0.4281767955801105],[0.429097605893186],[0.43370165745856354],[0.43646408839779005],[0.4429097605893186],[0.4604051565377532],[0.5359116022099447],[0.5377532228360957]],\"hovertemplate\":\"variable=Skill Group Importance<br>value=%{x}<br>labels=%{y}<br>importance=%{customdata[0]}<extra></extra>\",\"legendgroup\":\"Skill Group Importance\",\"marker\":{\"color\":\"#EF553B\",\"pattern\":{\"shape\":\"\"}},\"name\":\"Skill Group Importance\",\"offsetgroup\":\"Skill Group Importance\",\"orientation\":\"h\",\"showlegend\":true,\"textposition\":\"auto\",\"type\":\"bar\",\"x\":[0.14917127071823205,0.1703499079189687,0.1887661141804788,0.23296500920810312,0.23756906077348067,0.23756906077348067,0.2440147329650092,0.27440147329650094,0.27716390423572745,0.2918968692449355,0.3029465930018416,0.31123388581952116,0.3241252302025783,0.3370165745856354,0.3453038674033149,0.358195211786372,0.36095764272559855,0.3876611418047882,0.38950276243093923,0.39134438305709024,0.40239410681399634,0.4143646408839779,0.32937469870721514,0.4281767955801105,0.429097605893186,0.43370165745856354,0.43646408839779005,0.4429097605893186,0.4604051565377532,0.5359116022099447,0.23543361012272862],\"xaxis\":\"x\",\"y\":[\"<b>deep</b> <b>learning</b>, machine learning, experience deep\",\"<b>experience</b> <b>working</b>, single cell, next-generation sequencing\",\"<b>years</b> <b>experience</b>, related field, years relevant\",\"<b>experience</b> <b>cloud</b>, google cloud, cloud computing\",\"<b>knowledge</b> <b>sql</b>, relational databases, sql queries\",\"<b>track</b> <b>record</b>, research projects, scientific technical\",\"<b>data</b> <b>visualization</b>, visualization tools, experience data\",\"<b>predictive</b> <b>models</b>, machine learning, model performance\",\"<b>ability</b> <b>work</b>, work independently, fast-paced environment\",\"<b>big</b> <b>data</b>, experience working, experience big\",\"<b>problem-solving</b> <b>skills</b>, problem solving, strong analytical\",\"<b>learn</b> <b>new</b>, new technologies, eager learn\",\"<b>data</b> <b>quality</b>, data management, data pipelines\",\"<b>helping</b> <b>others</b>, people around, lasting mark\",\"<b>machine</b> <b>learning</b>, learning models, learning algorithms\",\"<b>data</b> <b>analysis</b>, results clear, track record\",\"<b>team</b> <b>player</b>, ability work, team members\",\"<b>data</b> <b>sets</b>, data analysis, data sources\",\"<b>years</b> <b>experience</b>, experience data, data science\",\"<b>working</b> <b>environment</b>, work environment, professional development\",\"<b>fluent</b> <b>english</b>, communication skills, english fluent\",\"<b>communication</b> <b>skills</b>, excellent communication, skills excellent\",\"<b>attention</b> <b>detail</b>, natural language, social media\",\"<b>data</b> <b>science</b>, data scientists, data scientist\",\"<b>business</b> <b>stakeholders</b>, work closely, internal external\",\"<b>business</b> <b>problems</b>, translate business, understand business\",\"<b>machine</b> <b>learning</b>, learning techniques, machine learning,\",\"<b>version</b> <b>control</b>, software engineering, best practices\",\"<b>experience</b> <b>working</b>, software development, project management\",\"<b>computer</b> <b>science,</b>, computer science, master\\u2019s degree\",\"<b>programming</b> <b>skills</b>, programming languages, data science\"],\"yaxis\":\"y\"}],                        {\"barmode\":\"stack\",\"height\":900,\"legend\":{\"title\":{\"text\":\"\"},\"tracegroupgap\":0,\"x\":1,\"xanchor\":\"right\",\"y\":0,\"yanchor\":\"bottom\"},\"margin\":{\"t\":60},\"template\":{\"data\":{\"bar\":[{\"error_x\":{\"color\":\"#2a3f5f\"},\"error_y\":{\"color\":\"#2a3f5f\"},\"marker\":{\"line\":{\"color\":\"#E5ECF6\",\"width\":0.5},\"pattern\":{\"fillmode\":\"overlay\",\"size\":10,\"solidity\":0.2}},\"type\":\"bar\"}],\"barpolar\":[{\"marker\":{\"line\":{\"color\":\"#E5ECF6\",\"width\":0.5},\"pattern\":{\"fillmode\":\"overlay\",\"size\":10,\"solidity\":0.2}},\"type\":\"barpolar\"}],\"carpet\":[{\"aaxis\":{\"endlinecolor\":\"#2a3f5f\",\"gridcolor\":\"white\",\"linecolor\":\"white\",\"minorgridcolor\":\"white\",\"startlinecolor\":\"#2a3f5f\"},\"baxis\":{\"endlinecolor\":\"#2a3f5f\",\"gridcolor\":\"white\",\"linecolor\":\"white\",\"minorgridcolor\":\"white\",\"startlinecolor\":\"#2a3f5f\"},\"type\":\"carpet\"}],\"choropleth\":[{\"colorbar\":{\"outlinewidth\":0,\"ticks\":\"\"},\"type\":\"choropleth\"}],\"contour\":[{\"colorbar\":{\"outlinewidth\":0,\"ticks\":\"\"},\"colorscale\":[[0.0,\"#0d0887\"],[0.1111111111111111,\"#46039f\"],[0.2222222222222222,\"#7201a8\"],[0.3333333333333333,\"#9c179e\"],[0.4444444444444444,\"#bd3786\"],[0.5555555555555556,\"#d8576b\"],[0.6666666666666666,\"#ed7953\"],[0.7777777777777778,\"#fb9f3a\"],[0.8888888888888888,\"#fdca26\"],[1.0,\"#f0f921\"]],\"type\":\"contour\"}],\"contourcarpet\":[{\"colorbar\":{\"outlinewidth\":0,\"ticks\":\"\"},\"type\":\"contourcarpet\"}],\"heatmap\":[{\"colorbar\":{\"outlinewidth\":0,\"ticks\":\"\"},\"colorscale\":[[0.0,\"#0d0887\"],[0.1111111111111111,\"#46039f\"],[0.2222222222222222,\"#7201a8\"],[0.3333333333333333,\"#9c179e\"],[0.4444444444444444,\"#bd3786\"],[0.5555555555555556,\"#d8576b\"],[0.6666666666666666,\"#ed7953\"],[0.7777777777777778,\"#fb9f3a\"],[0.8888888888888888,\"#fdca26\"],[1.0,\"#f0f921\"]],\"type\":\"heatmap\"}],\"heatmapgl\":[{\"colorbar\":{\"outlinewidth\":0,\"ticks\":\"\"},\"colorscale\":[[0.0,\"#0d0887\"],[0.1111111111111111,\"#46039f\"],[0.2222222222222222,\"#7201a8\"],[0.3333333333333333,\"#9c179e\"],[0.4444444444444444,\"#bd3786\"],[0.5555555555555556,\"#d8576b\"],[0.6666666666666666,\"#ed7953\"],[0.7777777777777778,\"#fb9f3a\"],[0.8888888888888888,\"#fdca26\"],[1.0,\"#f0f921\"]],\"type\":\"heatmapgl\"}],\"histogram\":[{\"marker\":{\"pattern\":{\"fillmode\":\"overlay\",\"size\":10,\"solidity\":0.2}},\"type\":\"histogram\"}],\"histogram2d\":[{\"colorbar\":{\"outlinewidth\":0,\"ticks\":\"\"},\"colorscale\":[[0.0,\"#0d0887\"],[0.1111111111111111,\"#46039f\"],[0.2222222222222222,\"#7201a8\"],[0.3333333333333333,\"#9c179e\"],[0.4444444444444444,\"#bd3786\"],[0.5555555555555556,\"#d8576b\"],[0.6666666666666666,\"#ed7953\"],[0.7777777777777778,\"#fb9f3a\"],[0.8888888888888888,\"#fdca26\"],[1.0,\"#f0f921\"]],\"type\":\"histogram2d\"}],\"histogram2dcontour\":[{\"colorbar\":{\"outlinewidth\":0,\"ticks\":\"\"},\"colorscale\":[[0.0,\"#0d0887\"],[0.1111111111111111,\"#46039f\"],[0.2222222222222222,\"#7201a8\"],[0.3333333333333333,\"#9c179e\"],[0.4444444444444444,\"#bd3786\"],[0.5555555555555556,\"#d8576b\"],[0.6666666666666666,\"#ed7953\"],[0.7777777777777778,\"#fb9f3a\"],[0.8888888888888888,\"#fdca26\"],[1.0,\"#f0f921\"]],\"type\":\"histogram2dcontour\"}],\"mesh3d\":[{\"colorbar\":{\"outlinewidth\":0,\"ticks\":\"\"},\"type\":\"mesh3d\"}],\"parcoords\":[{\"line\":{\"colorbar\":{\"outlinewidth\":0,\"ticks\":\"\"}},\"type\":\"parcoords\"}],\"pie\":[{\"automargin\":true,\"type\":\"pie\"}],\"scatter\":[{\"marker\":{\"colorbar\":{\"outlinewidth\":0,\"ticks\":\"\"}},\"type\":\"scatter\"}],\"scatter3d\":[{\"line\":{\"colorbar\":{\"outlinewidth\":0,\"ticks\":\"\"}},\"marker\":{\"colorbar\":{\"outlinewidth\":0,\"ticks\":\"\"}},\"type\":\"scatter3d\"}],\"scattercarpet\":[{\"marker\":{\"colorbar\":{\"outlinewidth\":0,\"ticks\":\"\"}},\"type\":\"scattercarpet\"}],\"scattergeo\":[{\"marker\":{\"colorbar\":{\"outlinewidth\":0,\"ticks\":\"\"}},\"type\":\"scattergeo\"}],\"scattergl\":[{\"marker\":{\"colorbar\":{\"outlinewidth\":0,\"ticks\":\"\"}},\"type\":\"scattergl\"}],\"scattermapbox\":[{\"marker\":{\"colorbar\":{\"outlinewidth\":0,\"ticks\":\"\"}},\"type\":\"scattermapbox\"}],\"scatterpolar\":[{\"marker\":{\"colorbar\":{\"outlinewidth\":0,\"ticks\":\"\"}},\"type\":\"scatterpolar\"}],\"scatterpolargl\":[{\"marker\":{\"colorbar\":{\"outlinewidth\":0,\"ticks\":\"\"}},\"type\":\"scatterpolargl\"}],\"scatterternary\":[{\"marker\":{\"colorbar\":{\"outlinewidth\":0,\"ticks\":\"\"}},\"type\":\"scatterternary\"}],\"surface\":[{\"colorbar\":{\"outlinewidth\":0,\"ticks\":\"\"},\"colorscale\":[[0.0,\"#0d0887\"],[0.1111111111111111,\"#46039f\"],[0.2222222222222222,\"#7201a8\"],[0.3333333333333333,\"#9c179e\"],[0.4444444444444444,\"#bd3786\"],[0.5555555555555556,\"#d8576b\"],[0.6666666666666666,\"#ed7953\"],[0.7777777777777778,\"#fb9f3a\"],[0.8888888888888888,\"#fdca26\"],[1.0,\"#f0f921\"]],\"type\":\"surface\"}],\"table\":[{\"cells\":{\"fill\":{\"color\":\"#EBF0F8\"},\"line\":{\"color\":\"white\"}},\"header\":{\"fill\":{\"color\":\"#C8D4E3\"},\"line\":{\"color\":\"white\"}},\"type\":\"table\"}]},\"layout\":{\"annotationdefaults\":{\"arrowcolor\":\"#2a3f5f\",\"arrowhead\":0,\"arrowwidth\":1},\"autotypenumbers\":\"strict\",\"coloraxis\":{\"colorbar\":{\"outlinewidth\":0,\"ticks\":\"\"}},\"colorscale\":{\"diverging\":[[0,\"#8e0152\"],[0.1,\"#c51b7d\"],[0.2,\"#de77ae\"],[0.3,\"#f1b6da\"],[0.4,\"#fde0ef\"],[0.5,\"#f7f7f7\"],[0.6,\"#e6f5d0\"],[0.7,\"#b8e186\"],[0.8,\"#7fbc41\"],[0.9,\"#4d9221\"],[1,\"#276419\"]],\"sequential\":[[0.0,\"#0d0887\"],[0.1111111111111111,\"#46039f\"],[0.2222222222222222,\"#7201a8\"],[0.3333333333333333,\"#9c179e\"],[0.4444444444444444,\"#bd3786\"],[0.5555555555555556,\"#d8576b\"],[0.6666666666666666,\"#ed7953\"],[0.7777777777777778,\"#fb9f3a\"],[0.8888888888888888,\"#fdca26\"],[1.0,\"#f0f921\"]],\"sequentialminus\":[[0.0,\"#0d0887\"],[0.1111111111111111,\"#46039f\"],[0.2222222222222222,\"#7201a8\"],[0.3333333333333333,\"#9c179e\"],[0.4444444444444444,\"#bd3786\"],[0.5555555555555556,\"#d8576b\"],[0.6666666666666666,\"#ed7953\"],[0.7777777777777778,\"#fb9f3a\"],[0.8888888888888888,\"#fdca26\"],[1.0,\"#f0f921\"]]},\"colorway\":[\"#636efa\",\"#EF553B\",\"#00cc96\",\"#ab63fa\",\"#FFA15A\",\"#19d3f3\",\"#FF6692\",\"#B6E880\",\"#FF97FF\",\"#FECB52\"],\"font\":{\"color\":\"#2a3f5f\"},\"geo\":{\"bgcolor\":\"white\",\"lakecolor\":\"white\",\"landcolor\":\"#E5ECF6\",\"showlakes\":true,\"showland\":true,\"subunitcolor\":\"white\"},\"hoverlabel\":{\"align\":\"left\"},\"hovermode\":\"closest\",\"mapbox\":{\"style\":\"light\"},\"paper_bgcolor\":\"white\",\"plot_bgcolor\":\"#E5ECF6\",\"polar\":{\"angularaxis\":{\"gridcolor\":\"white\",\"linecolor\":\"white\",\"ticks\":\"\"},\"bgcolor\":\"#E5ECF6\",\"radialaxis\":{\"gridcolor\":\"white\",\"linecolor\":\"white\",\"ticks\":\"\"}},\"scene\":{\"xaxis\":{\"backgroundcolor\":\"#E5ECF6\",\"gridcolor\":\"white\",\"gridwidth\":2,\"linecolor\":\"white\",\"showbackground\":true,\"ticks\":\"\",\"zerolinecolor\":\"white\"},\"yaxis\":{\"backgroundcolor\":\"#E5ECF6\",\"gridcolor\":\"white\",\"gridwidth\":2,\"linecolor\":\"white\",\"showbackground\":true,\"ticks\":\"\",\"zerolinecolor\":\"white\"},\"zaxis\":{\"backgroundcolor\":\"#E5ECF6\",\"gridcolor\":\"white\",\"gridwidth\":2,\"linecolor\":\"white\",\"showbackground\":true,\"ticks\":\"\",\"zerolinecolor\":\"white\"}},\"shapedefaults\":{\"line\":{\"color\":\"#2a3f5f\"}},\"ternary\":{\"aaxis\":{\"gridcolor\":\"white\",\"linecolor\":\"white\",\"ticks\":\"\"},\"baxis\":{\"gridcolor\":\"white\",\"linecolor\":\"white\",\"ticks\":\"\"},\"bgcolor\":\"#E5ECF6\",\"caxis\":{\"gridcolor\":\"white\",\"linecolor\":\"white\",\"ticks\":\"\"}},\"title\":{\"x\":0.05},\"xaxis\":{\"automargin\":true,\"gridcolor\":\"white\",\"linecolor\":\"white\",\"ticks\":\"\",\"title\":{\"standoff\":15},\"zerolinecolor\":\"white\",\"zerolinewidth\":2},\"yaxis\":{\"automargin\":true,\"gridcolor\":\"white\",\"linecolor\":\"white\",\"ticks\":\"\",\"title\":{\"standoff\":15},\"zerolinecolor\":\"white\",\"zerolinewidth\":2}}},\"title\":{\"text\":\"Input CV Similarity to Requirements in Job Postings\"},\"width\":900,\"xaxis\":{\"anchor\":\"y\",\"domain\":[0.0,1.0],\"title\":{\"text\":\"Coverage\"}},\"yaxis\":{\"anchor\":\"x\",\"domain\":[0.0,1.0],\"title\":{\"text\":\"Importance\"}}},                        {\"responsive\": true}                    ).then(function(){\n",
       "                            \n",
       "var gd = document.getElementById('f4d91329-fb3e-4d72-87d3-80bf89ab1f6e');\n",
       "var x = new MutationObserver(function (mutations, observer) {{\n",
       "        var display = window.getComputedStyle(gd).display;\n",
       "        if (!display || display === 'none') {{\n",
       "            console.log([gd, 'removed!']);\n",
       "            Plotly.purge(gd);\n",
       "            observer.disconnect();\n",
       "        }}\n",
       "}});\n",
       "\n",
       "// Listen for the removal of the full notebook cells\n",
       "var notebookContainer = gd.closest('#notebook-container');\n",
       "if (notebookContainer) {{\n",
       "    x.observe(notebookContainer, {childList: true});\n",
       "}}\n",
       "\n",
       "// Listen for the clearing of the current output cell\n",
       "var outputEl = gd.closest('.output');\n",
       "if (outputEl) {{\n",
       "    x.observe(outputEl, {childList: true});\n",
       "}}\n",
       "\n",
       "                        })                };                });            </script>        </div>"
      ]
     },
     "metadata": {},
     "output_type": "display_data"
    }
   ],
   "source": [
    "obj=get_plot(['python','R'])\n",
    "obj[0].show()"
   ]
  },
  {
   "cell_type": "code",
   "execution_count": 23,
   "metadata": {},
   "outputs": [
    {
     "data": {
      "application/vnd.plotly.v1+json": {
       "config": {
        "plotlyServerURL": "https://plot.ly"
       },
       "data": [
        {
         "alignmentgroup": "True",
         "customdata": [
          [
           0.14917127071823205
          ],
          [
           0.1703499079189687
          ],
          [
           0.1887661141804788
          ],
          [
           0.23296500920810312
          ],
          [
           0.23756906077348067
          ],
          [
           0.23756906077348067
          ],
          [
           0.2440147329650092
          ],
          [
           0.27440147329650094
          ],
          [
           0.27716390423572745
          ],
          [
           0.2918968692449355
          ],
          [
           0.3029465930018416
          ],
          [
           0.31123388581952116
          ],
          [
           0.3241252302025783
          ],
          [
           0.3370165745856354
          ],
          [
           0.3453038674033149
          ],
          [
           0.358195211786372
          ],
          [
           0.36095764272559855
          ],
          [
           0.3876611418047882
          ],
          [
           0.38950276243093923
          ],
          [
           0.39134438305709024
          ],
          [
           0.40239410681399634
          ],
          [
           0.4143646408839779
          ],
          [
           0.42173112338858193
          ],
          [
           0.4281767955801105
          ],
          [
           0.429097605893186
          ],
          [
           0.43370165745856354
          ],
          [
           0.43646408839779005
          ],
          [
           0.4429097605893186
          ],
          [
           0.4604051565377532
          ],
          [
           0.5359116022099447
          ],
          [
           0.5377532228360957
          ]
         ],
         "hovertemplate": "variable=Your Coverage<br>value=%{x}<br>labels=%{y}<br>importance=%{customdata[0]}<extra></extra>",
         "legendgroup": "Your Coverage",
         "marker": {
          "color": "#636efa",
          "pattern": {
           "shape": ""
          }
         },
         "name": "Your Coverage",
         "offsetgroup": "Your Coverage",
         "orientation": "h",
         "showlegend": true,
         "textposition": "auto",
         "type": "bar",
         "x": [
          0,
          0,
          0,
          0,
          0,
          0,
          0,
          0,
          0,
          0,
          0,
          0,
          0,
          0,
          0,
          0,
          0,
          0,
          0,
          0,
          0,
          0,
          0.09235642468136676,
          0,
          0,
          0,
          0,
          0,
          0,
          0,
          0.3023196127133671
         ],
         "xaxis": "x",
         "y": [
          "<b>deep</b> <b>learning</b>, machine learning, experience deep",
          "<b>experience</b> <b>working</b>, single cell, next-generation sequencing",
          "<b>years</b> <b>experience</b>, related field, years relevant",
          "<b>experience</b> <b>cloud</b>, google cloud, cloud computing",
          "<b>knowledge</b> <b>sql</b>, relational databases, sql queries",
          "<b>track</b> <b>record</b>, research projects, scientific technical",
          "<b>data</b> <b>visualization</b>, visualization tools, experience data",
          "<b>predictive</b> <b>models</b>, machine learning, model performance",
          "<b>ability</b> <b>work</b>, work independently, fast-paced environment",
          "<b>big</b> <b>data</b>, experience working, experience big",
          "<b>problem-solving</b> <b>skills</b>, problem solving, strong analytical",
          "<b>learn</b> <b>new</b>, new technologies, eager learn",
          "<b>data</b> <b>quality</b>, data management, data pipelines",
          "<b>helping</b> <b>others</b>, people around, lasting mark",
          "<b>machine</b> <b>learning</b>, learning models, learning algorithms",
          "<b>data</b> <b>analysis</b>, results clear, track record",
          "<b>team</b> <b>player</b>, ability work, team members",
          "<b>data</b> <b>sets</b>, data analysis, data sources",
          "<b>years</b> <b>experience</b>, experience data, data science",
          "<b>working</b> <b>environment</b>, work environment, professional development",
          "<b>fluent</b> <b>english</b>, communication skills, english fluent",
          "<b>communication</b> <b>skills</b>, excellent communication, skills excellent",
          "<b>attention</b> <b>detail</b>, natural language, social media",
          "<b>data</b> <b>science</b>, data scientists, data scientist",
          "<b>business</b> <b>stakeholders</b>, work closely, internal external",
          "<b>business</b> <b>problems</b>, translate business, understand business",
          "<b>machine</b> <b>learning</b>, learning techniques, machine learning,",
          "<b>version</b> <b>control</b>, software engineering, best practices",
          "<b>experience</b> <b>working</b>, software development, project management",
          "<b>computer</b> <b>science,</b>, computer science, master’s degree",
          "<b>programming</b> <b>skills</b>, programming languages, data science"
         ],
         "yaxis": "y"
        },
        {
         "alignmentgroup": "True",
         "customdata": [
          [
           0.14917127071823205
          ],
          [
           0.1703499079189687
          ],
          [
           0.1887661141804788
          ],
          [
           0.23296500920810312
          ],
          [
           0.23756906077348067
          ],
          [
           0.23756906077348067
          ],
          [
           0.2440147329650092
          ],
          [
           0.27440147329650094
          ],
          [
           0.27716390423572745
          ],
          [
           0.2918968692449355
          ],
          [
           0.3029465930018416
          ],
          [
           0.31123388581952116
          ],
          [
           0.3241252302025783
          ],
          [
           0.3370165745856354
          ],
          [
           0.3453038674033149
          ],
          [
           0.358195211786372
          ],
          [
           0.36095764272559855
          ],
          [
           0.3876611418047882
          ],
          [
           0.38950276243093923
          ],
          [
           0.39134438305709024
          ],
          [
           0.40239410681399634
          ],
          [
           0.4143646408839779
          ],
          [
           0.42173112338858193
          ],
          [
           0.4281767955801105
          ],
          [
           0.429097605893186
          ],
          [
           0.43370165745856354
          ],
          [
           0.43646408839779005
          ],
          [
           0.4429097605893186
          ],
          [
           0.4604051565377532
          ],
          [
           0.5359116022099447
          ],
          [
           0.5377532228360957
          ]
         ],
         "hovertemplate": "variable=Skill Group Importance<br>value=%{x}<br>labels=%{y}<br>importance=%{customdata[0]}<extra></extra>",
         "legendgroup": "Skill Group Importance",
         "marker": {
          "color": "#EF553B",
          "pattern": {
           "shape": ""
          }
         },
         "name": "Skill Group Importance",
         "offsetgroup": "Skill Group Importance",
         "orientation": "h",
         "showlegend": true,
         "textposition": "auto",
         "type": "bar",
         "x": [
          0.14917127071823205,
          0.1703499079189687,
          0.1887661141804788,
          0.23296500920810312,
          0.23756906077348067,
          0.23756906077348067,
          0.2440147329650092,
          0.27440147329650094,
          0.27716390423572745,
          0.2918968692449355,
          0.3029465930018416,
          0.31123388581952116,
          0.3241252302025783,
          0.3370165745856354,
          0.3453038674033149,
          0.358195211786372,
          0.36095764272559855,
          0.3876611418047882,
          0.38950276243093923,
          0.39134438305709024,
          0.40239410681399634,
          0.4143646408839779,
          0.32937469870721514,
          0.4281767955801105,
          0.429097605893186,
          0.43370165745856354,
          0.43646408839779005,
          0.4429097605893186,
          0.4604051565377532,
          0.5359116022099447,
          0.23543361012272862
         ],
         "xaxis": "x",
         "y": [
          "<b>deep</b> <b>learning</b>, machine learning, experience deep",
          "<b>experience</b> <b>working</b>, single cell, next-generation sequencing",
          "<b>years</b> <b>experience</b>, related field, years relevant",
          "<b>experience</b> <b>cloud</b>, google cloud, cloud computing",
          "<b>knowledge</b> <b>sql</b>, relational databases, sql queries",
          "<b>track</b> <b>record</b>, research projects, scientific technical",
          "<b>data</b> <b>visualization</b>, visualization tools, experience data",
          "<b>predictive</b> <b>models</b>, machine learning, model performance",
          "<b>ability</b> <b>work</b>, work independently, fast-paced environment",
          "<b>big</b> <b>data</b>, experience working, experience big",
          "<b>problem-solving</b> <b>skills</b>, problem solving, strong analytical",
          "<b>learn</b> <b>new</b>, new technologies, eager learn",
          "<b>data</b> <b>quality</b>, data management, data pipelines",
          "<b>helping</b> <b>others</b>, people around, lasting mark",
          "<b>machine</b> <b>learning</b>, learning models, learning algorithms",
          "<b>data</b> <b>analysis</b>, results clear, track record",
          "<b>team</b> <b>player</b>, ability work, team members",
          "<b>data</b> <b>sets</b>, data analysis, data sources",
          "<b>years</b> <b>experience</b>, experience data, data science",
          "<b>working</b> <b>environment</b>, work environment, professional development",
          "<b>fluent</b> <b>english</b>, communication skills, english fluent",
          "<b>communication</b> <b>skills</b>, excellent communication, skills excellent",
          "<b>attention</b> <b>detail</b>, natural language, social media",
          "<b>data</b> <b>science</b>, data scientists, data scientist",
          "<b>business</b> <b>stakeholders</b>, work closely, internal external",
          "<b>business</b> <b>problems</b>, translate business, understand business",
          "<b>machine</b> <b>learning</b>, learning techniques, machine learning,",
          "<b>version</b> <b>control</b>, software engineering, best practices",
          "<b>experience</b> <b>working</b>, software development, project management",
          "<b>computer</b> <b>science,</b>, computer science, master’s degree",
          "<b>programming</b> <b>skills</b>, programming languages, data science"
         ],
         "yaxis": "y"
        }
       ],
       "layout": {
        "barmode": "stack",
        "height": 600,
        "legend": {
         "title": {
          "text": ""
         },
         "tracegroupgap": 0,
         "x": 1,
         "xanchor": "right",
         "y": 0,
         "yanchor": "bottom"
        },
        "margin": {
         "t": 60
        },
        "template": {
         "data": {
          "bar": [
           {
            "error_x": {
             "color": "#2a3f5f"
            },
            "error_y": {
             "color": "#2a3f5f"
            },
            "marker": {
             "line": {
              "color": "#E5ECF6",
              "width": 0.5
             },
             "pattern": {
              "fillmode": "overlay",
              "size": 10,
              "solidity": 0.2
             }
            },
            "type": "bar"
           }
          ],
          "barpolar": [
           {
            "marker": {
             "line": {
              "color": "#E5ECF6",
              "width": 0.5
             },
             "pattern": {
              "fillmode": "overlay",
              "size": 10,
              "solidity": 0.2
             }
            },
            "type": "barpolar"
           }
          ],
          "carpet": [
           {
            "aaxis": {
             "endlinecolor": "#2a3f5f",
             "gridcolor": "white",
             "linecolor": "white",
             "minorgridcolor": "white",
             "startlinecolor": "#2a3f5f"
            },
            "baxis": {
             "endlinecolor": "#2a3f5f",
             "gridcolor": "white",
             "linecolor": "white",
             "minorgridcolor": "white",
             "startlinecolor": "#2a3f5f"
            },
            "type": "carpet"
           }
          ],
          "choropleth": [
           {
            "colorbar": {
             "outlinewidth": 0,
             "ticks": ""
            },
            "type": "choropleth"
           }
          ],
          "contour": [
           {
            "colorbar": {
             "outlinewidth": 0,
             "ticks": ""
            },
            "colorscale": [
             [
              0,
              "#0d0887"
             ],
             [
              0.1111111111111111,
              "#46039f"
             ],
             [
              0.2222222222222222,
              "#7201a8"
             ],
             [
              0.3333333333333333,
              "#9c179e"
             ],
             [
              0.4444444444444444,
              "#bd3786"
             ],
             [
              0.5555555555555556,
              "#d8576b"
             ],
             [
              0.6666666666666666,
              "#ed7953"
             ],
             [
              0.7777777777777778,
              "#fb9f3a"
             ],
             [
              0.8888888888888888,
              "#fdca26"
             ],
             [
              1,
              "#f0f921"
             ]
            ],
            "type": "contour"
           }
          ],
          "contourcarpet": [
           {
            "colorbar": {
             "outlinewidth": 0,
             "ticks": ""
            },
            "type": "contourcarpet"
           }
          ],
          "heatmap": [
           {
            "colorbar": {
             "outlinewidth": 0,
             "ticks": ""
            },
            "colorscale": [
             [
              0,
              "#0d0887"
             ],
             [
              0.1111111111111111,
              "#46039f"
             ],
             [
              0.2222222222222222,
              "#7201a8"
             ],
             [
              0.3333333333333333,
              "#9c179e"
             ],
             [
              0.4444444444444444,
              "#bd3786"
             ],
             [
              0.5555555555555556,
              "#d8576b"
             ],
             [
              0.6666666666666666,
              "#ed7953"
             ],
             [
              0.7777777777777778,
              "#fb9f3a"
             ],
             [
              0.8888888888888888,
              "#fdca26"
             ],
             [
              1,
              "#f0f921"
             ]
            ],
            "type": "heatmap"
           }
          ],
          "heatmapgl": [
           {
            "colorbar": {
             "outlinewidth": 0,
             "ticks": ""
            },
            "colorscale": [
             [
              0,
              "#0d0887"
             ],
             [
              0.1111111111111111,
              "#46039f"
             ],
             [
              0.2222222222222222,
              "#7201a8"
             ],
             [
              0.3333333333333333,
              "#9c179e"
             ],
             [
              0.4444444444444444,
              "#bd3786"
             ],
             [
              0.5555555555555556,
              "#d8576b"
             ],
             [
              0.6666666666666666,
              "#ed7953"
             ],
             [
              0.7777777777777778,
              "#fb9f3a"
             ],
             [
              0.8888888888888888,
              "#fdca26"
             ],
             [
              1,
              "#f0f921"
             ]
            ],
            "type": "heatmapgl"
           }
          ],
          "histogram": [
           {
            "marker": {
             "pattern": {
              "fillmode": "overlay",
              "size": 10,
              "solidity": 0.2
             }
            },
            "type": "histogram"
           }
          ],
          "histogram2d": [
           {
            "colorbar": {
             "outlinewidth": 0,
             "ticks": ""
            },
            "colorscale": [
             [
              0,
              "#0d0887"
             ],
             [
              0.1111111111111111,
              "#46039f"
             ],
             [
              0.2222222222222222,
              "#7201a8"
             ],
             [
              0.3333333333333333,
              "#9c179e"
             ],
             [
              0.4444444444444444,
              "#bd3786"
             ],
             [
              0.5555555555555556,
              "#d8576b"
             ],
             [
              0.6666666666666666,
              "#ed7953"
             ],
             [
              0.7777777777777778,
              "#fb9f3a"
             ],
             [
              0.8888888888888888,
              "#fdca26"
             ],
             [
              1,
              "#f0f921"
             ]
            ],
            "type": "histogram2d"
           }
          ],
          "histogram2dcontour": [
           {
            "colorbar": {
             "outlinewidth": 0,
             "ticks": ""
            },
            "colorscale": [
             [
              0,
              "#0d0887"
             ],
             [
              0.1111111111111111,
              "#46039f"
             ],
             [
              0.2222222222222222,
              "#7201a8"
             ],
             [
              0.3333333333333333,
              "#9c179e"
             ],
             [
              0.4444444444444444,
              "#bd3786"
             ],
             [
              0.5555555555555556,
              "#d8576b"
             ],
             [
              0.6666666666666666,
              "#ed7953"
             ],
             [
              0.7777777777777778,
              "#fb9f3a"
             ],
             [
              0.8888888888888888,
              "#fdca26"
             ],
             [
              1,
              "#f0f921"
             ]
            ],
            "type": "histogram2dcontour"
           }
          ],
          "mesh3d": [
           {
            "colorbar": {
             "outlinewidth": 0,
             "ticks": ""
            },
            "type": "mesh3d"
           }
          ],
          "parcoords": [
           {
            "line": {
             "colorbar": {
              "outlinewidth": 0,
              "ticks": ""
             }
            },
            "type": "parcoords"
           }
          ],
          "pie": [
           {
            "automargin": true,
            "type": "pie"
           }
          ],
          "scatter": [
           {
            "marker": {
             "colorbar": {
              "outlinewidth": 0,
              "ticks": ""
             }
            },
            "type": "scatter"
           }
          ],
          "scatter3d": [
           {
            "line": {
             "colorbar": {
              "outlinewidth": 0,
              "ticks": ""
             }
            },
            "marker": {
             "colorbar": {
              "outlinewidth": 0,
              "ticks": ""
             }
            },
            "type": "scatter3d"
           }
          ],
          "scattercarpet": [
           {
            "marker": {
             "colorbar": {
              "outlinewidth": 0,
              "ticks": ""
             }
            },
            "type": "scattercarpet"
           }
          ],
          "scattergeo": [
           {
            "marker": {
             "colorbar": {
              "outlinewidth": 0,
              "ticks": ""
             }
            },
            "type": "scattergeo"
           }
          ],
          "scattergl": [
           {
            "marker": {
             "colorbar": {
              "outlinewidth": 0,
              "ticks": ""
             }
            },
            "type": "scattergl"
           }
          ],
          "scattermapbox": [
           {
            "marker": {
             "colorbar": {
              "outlinewidth": 0,
              "ticks": ""
             }
            },
            "type": "scattermapbox"
           }
          ],
          "scatterpolar": [
           {
            "marker": {
             "colorbar": {
              "outlinewidth": 0,
              "ticks": ""
             }
            },
            "type": "scatterpolar"
           }
          ],
          "scatterpolargl": [
           {
            "marker": {
             "colorbar": {
              "outlinewidth": 0,
              "ticks": ""
             }
            },
            "type": "scatterpolargl"
           }
          ],
          "scatterternary": [
           {
            "marker": {
             "colorbar": {
              "outlinewidth": 0,
              "ticks": ""
             }
            },
            "type": "scatterternary"
           }
          ],
          "surface": [
           {
            "colorbar": {
             "outlinewidth": 0,
             "ticks": ""
            },
            "colorscale": [
             [
              0,
              "#0d0887"
             ],
             [
              0.1111111111111111,
              "#46039f"
             ],
             [
              0.2222222222222222,
              "#7201a8"
             ],
             [
              0.3333333333333333,
              "#9c179e"
             ],
             [
              0.4444444444444444,
              "#bd3786"
             ],
             [
              0.5555555555555556,
              "#d8576b"
             ],
             [
              0.6666666666666666,
              "#ed7953"
             ],
             [
              0.7777777777777778,
              "#fb9f3a"
             ],
             [
              0.8888888888888888,
              "#fdca26"
             ],
             [
              1,
              "#f0f921"
             ]
            ],
            "type": "surface"
           }
          ],
          "table": [
           {
            "cells": {
             "fill": {
              "color": "#EBF0F8"
             },
             "line": {
              "color": "white"
             }
            },
            "header": {
             "fill": {
              "color": "#C8D4E3"
             },
             "line": {
              "color": "white"
             }
            },
            "type": "table"
           }
          ]
         },
         "layout": {
          "annotationdefaults": {
           "arrowcolor": "#2a3f5f",
           "arrowhead": 0,
           "arrowwidth": 1
          },
          "autotypenumbers": "strict",
          "coloraxis": {
           "colorbar": {
            "outlinewidth": 0,
            "ticks": ""
           }
          },
          "colorscale": {
           "diverging": [
            [
             0,
             "#8e0152"
            ],
            [
             0.1,
             "#c51b7d"
            ],
            [
             0.2,
             "#de77ae"
            ],
            [
             0.3,
             "#f1b6da"
            ],
            [
             0.4,
             "#fde0ef"
            ],
            [
             0.5,
             "#f7f7f7"
            ],
            [
             0.6,
             "#e6f5d0"
            ],
            [
             0.7,
             "#b8e186"
            ],
            [
             0.8,
             "#7fbc41"
            ],
            [
             0.9,
             "#4d9221"
            ],
            [
             1,
             "#276419"
            ]
           ],
           "sequential": [
            [
             0,
             "#0d0887"
            ],
            [
             0.1111111111111111,
             "#46039f"
            ],
            [
             0.2222222222222222,
             "#7201a8"
            ],
            [
             0.3333333333333333,
             "#9c179e"
            ],
            [
             0.4444444444444444,
             "#bd3786"
            ],
            [
             0.5555555555555556,
             "#d8576b"
            ],
            [
             0.6666666666666666,
             "#ed7953"
            ],
            [
             0.7777777777777778,
             "#fb9f3a"
            ],
            [
             0.8888888888888888,
             "#fdca26"
            ],
            [
             1,
             "#f0f921"
            ]
           ],
           "sequentialminus": [
            [
             0,
             "#0d0887"
            ],
            [
             0.1111111111111111,
             "#46039f"
            ],
            [
             0.2222222222222222,
             "#7201a8"
            ],
            [
             0.3333333333333333,
             "#9c179e"
            ],
            [
             0.4444444444444444,
             "#bd3786"
            ],
            [
             0.5555555555555556,
             "#d8576b"
            ],
            [
             0.6666666666666666,
             "#ed7953"
            ],
            [
             0.7777777777777778,
             "#fb9f3a"
            ],
            [
             0.8888888888888888,
             "#fdca26"
            ],
            [
             1,
             "#f0f921"
            ]
           ]
          },
          "colorway": [
           "#636efa",
           "#EF553B",
           "#00cc96",
           "#ab63fa",
           "#FFA15A",
           "#19d3f3",
           "#FF6692",
           "#B6E880",
           "#FF97FF",
           "#FECB52"
          ],
          "font": {
           "color": "#2a3f5f"
          },
          "geo": {
           "bgcolor": "white",
           "lakecolor": "white",
           "landcolor": "#E5ECF6",
           "showlakes": true,
           "showland": true,
           "subunitcolor": "white"
          },
          "hoverlabel": {
           "align": "left"
          },
          "hovermode": "closest",
          "mapbox": {
           "style": "light"
          },
          "paper_bgcolor": "white",
          "plot_bgcolor": "#E5ECF6",
          "polar": {
           "angularaxis": {
            "gridcolor": "white",
            "linecolor": "white",
            "ticks": ""
           },
           "bgcolor": "#E5ECF6",
           "radialaxis": {
            "gridcolor": "white",
            "linecolor": "white",
            "ticks": ""
           }
          },
          "scene": {
           "xaxis": {
            "backgroundcolor": "#E5ECF6",
            "gridcolor": "white",
            "gridwidth": 2,
            "linecolor": "white",
            "showbackground": true,
            "ticks": "",
            "zerolinecolor": "white"
           },
           "yaxis": {
            "backgroundcolor": "#E5ECF6",
            "gridcolor": "white",
            "gridwidth": 2,
            "linecolor": "white",
            "showbackground": true,
            "ticks": "",
            "zerolinecolor": "white"
           },
           "zaxis": {
            "backgroundcolor": "#E5ECF6",
            "gridcolor": "white",
            "gridwidth": 2,
            "linecolor": "white",
            "showbackground": true,
            "ticks": "",
            "zerolinecolor": "white"
           }
          },
          "shapedefaults": {
           "line": {
            "color": "#2a3f5f"
           }
          },
          "ternary": {
           "aaxis": {
            "gridcolor": "white",
            "linecolor": "white",
            "ticks": ""
           },
           "baxis": {
            "gridcolor": "white",
            "linecolor": "white",
            "ticks": ""
           },
           "bgcolor": "#E5ECF6",
           "caxis": {
            "gridcolor": "white",
            "linecolor": "white",
            "ticks": ""
           }
          },
          "title": {
           "x": 0.05
          },
          "xaxis": {
           "automargin": true,
           "gridcolor": "white",
           "linecolor": "white",
           "ticks": "",
           "title": {
            "standoff": 15
           },
           "zerolinecolor": "white",
           "zerolinewidth": 2
          },
          "yaxis": {
           "automargin": true,
           "gridcolor": "white",
           "linecolor": "white",
           "ticks": "",
           "title": {
            "standoff": 15
           },
           "zerolinecolor": "white",
           "zerolinewidth": 2
          }
         }
        },
        "title": {
         "text": "Input CV Similarity to Requirements in Job Postings<br>"
        },
        "width": 900,
        "xaxis": {
         "anchor": "y",
         "domain": [
          0,
          1
         ],
         "title": {
          "text": "Coverage"
         }
        },
        "yaxis": {
         "anchor": "x",
         "domain": [
          0,
          1
         ],
         "title": {
          "text": "Importance"
         }
        }
       }
      },
      "text/html": [
       "<div>                            <div id=\"9741669a-806b-4b2f-87fa-c7f5bb562e58\" class=\"plotly-graph-div\" style=\"height:600px; width:900px;\"></div>            <script type=\"text/javascript\">                require([\"plotly\"], function(Plotly) {                    window.PLOTLYENV=window.PLOTLYENV || {};                                    if (document.getElementById(\"9741669a-806b-4b2f-87fa-c7f5bb562e58\")) {                    Plotly.newPlot(                        \"9741669a-806b-4b2f-87fa-c7f5bb562e58\",                        [{\"alignmentgroup\":\"True\",\"customdata\":[[0.14917127071823205],[0.1703499079189687],[0.1887661141804788],[0.23296500920810312],[0.23756906077348067],[0.23756906077348067],[0.2440147329650092],[0.27440147329650094],[0.27716390423572745],[0.2918968692449355],[0.3029465930018416],[0.31123388581952116],[0.3241252302025783],[0.3370165745856354],[0.3453038674033149],[0.358195211786372],[0.36095764272559855],[0.3876611418047882],[0.38950276243093923],[0.39134438305709024],[0.40239410681399634],[0.4143646408839779],[0.42173112338858193],[0.4281767955801105],[0.429097605893186],[0.43370165745856354],[0.43646408839779005],[0.4429097605893186],[0.4604051565377532],[0.5359116022099447],[0.5377532228360957]],\"hovertemplate\":\"variable=Your Coverage<br>value=%{x}<br>labels=%{y}<br>importance=%{customdata[0]}<extra></extra>\",\"legendgroup\":\"Your Coverage\",\"marker\":{\"color\":\"#636efa\",\"pattern\":{\"shape\":\"\"}},\"name\":\"Your Coverage\",\"offsetgroup\":\"Your Coverage\",\"orientation\":\"h\",\"showlegend\":true,\"textposition\":\"auto\",\"type\":\"bar\",\"x\":[0.0,0.0,0.0,0.0,0.0,0.0,0.0,0.0,0.0,0.0,0.0,0.0,0.0,0.0,0.0,0.0,0.0,0.0,0.0,0.0,0.0,0.0,0.09235642468136676,0.0,0.0,0.0,0.0,0.0,0.0,0.0,0.3023196127133671],\"xaxis\":\"x\",\"y\":[\"<b>deep</b> <b>learning</b>, machine learning, experience deep\",\"<b>experience</b> <b>working</b>, single cell, next-generation sequencing\",\"<b>years</b> <b>experience</b>, related field, years relevant\",\"<b>experience</b> <b>cloud</b>, google cloud, cloud computing\",\"<b>knowledge</b> <b>sql</b>, relational databases, sql queries\",\"<b>track</b> <b>record</b>, research projects, scientific technical\",\"<b>data</b> <b>visualization</b>, visualization tools, experience data\",\"<b>predictive</b> <b>models</b>, machine learning, model performance\",\"<b>ability</b> <b>work</b>, work independently, fast-paced environment\",\"<b>big</b> <b>data</b>, experience working, experience big\",\"<b>problem-solving</b> <b>skills</b>, problem solving, strong analytical\",\"<b>learn</b> <b>new</b>, new technologies, eager learn\",\"<b>data</b> <b>quality</b>, data management, data pipelines\",\"<b>helping</b> <b>others</b>, people around, lasting mark\",\"<b>machine</b> <b>learning</b>, learning models, learning algorithms\",\"<b>data</b> <b>analysis</b>, results clear, track record\",\"<b>team</b> <b>player</b>, ability work, team members\",\"<b>data</b> <b>sets</b>, data analysis, data sources\",\"<b>years</b> <b>experience</b>, experience data, data science\",\"<b>working</b> <b>environment</b>, work environment, professional development\",\"<b>fluent</b> <b>english</b>, communication skills, english fluent\",\"<b>communication</b> <b>skills</b>, excellent communication, skills excellent\",\"<b>attention</b> <b>detail</b>, natural language, social media\",\"<b>data</b> <b>science</b>, data scientists, data scientist\",\"<b>business</b> <b>stakeholders</b>, work closely, internal external\",\"<b>business</b> <b>problems</b>, translate business, understand business\",\"<b>machine</b> <b>learning</b>, learning techniques, machine learning,\",\"<b>version</b> <b>control</b>, software engineering, best practices\",\"<b>experience</b> <b>working</b>, software development, project management\",\"<b>computer</b> <b>science,</b>, computer science, master\\u2019s degree\",\"<b>programming</b> <b>skills</b>, programming languages, data science\"],\"yaxis\":\"y\"},{\"alignmentgroup\":\"True\",\"customdata\":[[0.14917127071823205],[0.1703499079189687],[0.1887661141804788],[0.23296500920810312],[0.23756906077348067],[0.23756906077348067],[0.2440147329650092],[0.27440147329650094],[0.27716390423572745],[0.2918968692449355],[0.3029465930018416],[0.31123388581952116],[0.3241252302025783],[0.3370165745856354],[0.3453038674033149],[0.358195211786372],[0.36095764272559855],[0.3876611418047882],[0.38950276243093923],[0.39134438305709024],[0.40239410681399634],[0.4143646408839779],[0.42173112338858193],[0.4281767955801105],[0.429097605893186],[0.43370165745856354],[0.43646408839779005],[0.4429097605893186],[0.4604051565377532],[0.5359116022099447],[0.5377532228360957]],\"hovertemplate\":\"variable=Skill Group Importance<br>value=%{x}<br>labels=%{y}<br>importance=%{customdata[0]}<extra></extra>\",\"legendgroup\":\"Skill Group Importance\",\"marker\":{\"color\":\"#EF553B\",\"pattern\":{\"shape\":\"\"}},\"name\":\"Skill Group Importance\",\"offsetgroup\":\"Skill Group Importance\",\"orientation\":\"h\",\"showlegend\":true,\"textposition\":\"auto\",\"type\":\"bar\",\"x\":[0.14917127071823205,0.1703499079189687,0.1887661141804788,0.23296500920810312,0.23756906077348067,0.23756906077348067,0.2440147329650092,0.27440147329650094,0.27716390423572745,0.2918968692449355,0.3029465930018416,0.31123388581952116,0.3241252302025783,0.3370165745856354,0.3453038674033149,0.358195211786372,0.36095764272559855,0.3876611418047882,0.38950276243093923,0.39134438305709024,0.40239410681399634,0.4143646408839779,0.32937469870721514,0.4281767955801105,0.429097605893186,0.43370165745856354,0.43646408839779005,0.4429097605893186,0.4604051565377532,0.5359116022099447,0.23543361012272862],\"xaxis\":\"x\",\"y\":[\"<b>deep</b> <b>learning</b>, machine learning, experience deep\",\"<b>experience</b> <b>working</b>, single cell, next-generation sequencing\",\"<b>years</b> <b>experience</b>, related field, years relevant\",\"<b>experience</b> <b>cloud</b>, google cloud, cloud computing\",\"<b>knowledge</b> <b>sql</b>, relational databases, sql queries\",\"<b>track</b> <b>record</b>, research projects, scientific technical\",\"<b>data</b> <b>visualization</b>, visualization tools, experience data\",\"<b>predictive</b> <b>models</b>, machine learning, model performance\",\"<b>ability</b> <b>work</b>, work independently, fast-paced environment\",\"<b>big</b> <b>data</b>, experience working, experience big\",\"<b>problem-solving</b> <b>skills</b>, problem solving, strong analytical\",\"<b>learn</b> <b>new</b>, new technologies, eager learn\",\"<b>data</b> <b>quality</b>, data management, data pipelines\",\"<b>helping</b> <b>others</b>, people around, lasting mark\",\"<b>machine</b> <b>learning</b>, learning models, learning algorithms\",\"<b>data</b> <b>analysis</b>, results clear, track record\",\"<b>team</b> <b>player</b>, ability work, team members\",\"<b>data</b> <b>sets</b>, data analysis, data sources\",\"<b>years</b> <b>experience</b>, experience data, data science\",\"<b>working</b> <b>environment</b>, work environment, professional development\",\"<b>fluent</b> <b>english</b>, communication skills, english fluent\",\"<b>communication</b> <b>skills</b>, excellent communication, skills excellent\",\"<b>attention</b> <b>detail</b>, natural language, social media\",\"<b>data</b> <b>science</b>, data scientists, data scientist\",\"<b>business</b> <b>stakeholders</b>, work closely, internal external\",\"<b>business</b> <b>problems</b>, translate business, understand business\",\"<b>machine</b> <b>learning</b>, learning techniques, machine learning,\",\"<b>version</b> <b>control</b>, software engineering, best practices\",\"<b>experience</b> <b>working</b>, software development, project management\",\"<b>computer</b> <b>science,</b>, computer science, master\\u2019s degree\",\"<b>programming</b> <b>skills</b>, programming languages, data science\"],\"yaxis\":\"y\"}],                        {\"barmode\":\"stack\",\"height\":600,\"legend\":{\"title\":{\"text\":\"\"},\"tracegroupgap\":0,\"x\":1,\"xanchor\":\"right\",\"y\":0,\"yanchor\":\"bottom\"},\"margin\":{\"t\":60},\"template\":{\"data\":{\"bar\":[{\"error_x\":{\"color\":\"#2a3f5f\"},\"error_y\":{\"color\":\"#2a3f5f\"},\"marker\":{\"line\":{\"color\":\"#E5ECF6\",\"width\":0.5},\"pattern\":{\"fillmode\":\"overlay\",\"size\":10,\"solidity\":0.2}},\"type\":\"bar\"}],\"barpolar\":[{\"marker\":{\"line\":{\"color\":\"#E5ECF6\",\"width\":0.5},\"pattern\":{\"fillmode\":\"overlay\",\"size\":10,\"solidity\":0.2}},\"type\":\"barpolar\"}],\"carpet\":[{\"aaxis\":{\"endlinecolor\":\"#2a3f5f\",\"gridcolor\":\"white\",\"linecolor\":\"white\",\"minorgridcolor\":\"white\",\"startlinecolor\":\"#2a3f5f\"},\"baxis\":{\"endlinecolor\":\"#2a3f5f\",\"gridcolor\":\"white\",\"linecolor\":\"white\",\"minorgridcolor\":\"white\",\"startlinecolor\":\"#2a3f5f\"},\"type\":\"carpet\"}],\"choropleth\":[{\"colorbar\":{\"outlinewidth\":0,\"ticks\":\"\"},\"type\":\"choropleth\"}],\"contour\":[{\"colorbar\":{\"outlinewidth\":0,\"ticks\":\"\"},\"colorscale\":[[0.0,\"#0d0887\"],[0.1111111111111111,\"#46039f\"],[0.2222222222222222,\"#7201a8\"],[0.3333333333333333,\"#9c179e\"],[0.4444444444444444,\"#bd3786\"],[0.5555555555555556,\"#d8576b\"],[0.6666666666666666,\"#ed7953\"],[0.7777777777777778,\"#fb9f3a\"],[0.8888888888888888,\"#fdca26\"],[1.0,\"#f0f921\"]],\"type\":\"contour\"}],\"contourcarpet\":[{\"colorbar\":{\"outlinewidth\":0,\"ticks\":\"\"},\"type\":\"contourcarpet\"}],\"heatmap\":[{\"colorbar\":{\"outlinewidth\":0,\"ticks\":\"\"},\"colorscale\":[[0.0,\"#0d0887\"],[0.1111111111111111,\"#46039f\"],[0.2222222222222222,\"#7201a8\"],[0.3333333333333333,\"#9c179e\"],[0.4444444444444444,\"#bd3786\"],[0.5555555555555556,\"#d8576b\"],[0.6666666666666666,\"#ed7953\"],[0.7777777777777778,\"#fb9f3a\"],[0.8888888888888888,\"#fdca26\"],[1.0,\"#f0f921\"]],\"type\":\"heatmap\"}],\"heatmapgl\":[{\"colorbar\":{\"outlinewidth\":0,\"ticks\":\"\"},\"colorscale\":[[0.0,\"#0d0887\"],[0.1111111111111111,\"#46039f\"],[0.2222222222222222,\"#7201a8\"],[0.3333333333333333,\"#9c179e\"],[0.4444444444444444,\"#bd3786\"],[0.5555555555555556,\"#d8576b\"],[0.6666666666666666,\"#ed7953\"],[0.7777777777777778,\"#fb9f3a\"],[0.8888888888888888,\"#fdca26\"],[1.0,\"#f0f921\"]],\"type\":\"heatmapgl\"}],\"histogram\":[{\"marker\":{\"pattern\":{\"fillmode\":\"overlay\",\"size\":10,\"solidity\":0.2}},\"type\":\"histogram\"}],\"histogram2d\":[{\"colorbar\":{\"outlinewidth\":0,\"ticks\":\"\"},\"colorscale\":[[0.0,\"#0d0887\"],[0.1111111111111111,\"#46039f\"],[0.2222222222222222,\"#7201a8\"],[0.3333333333333333,\"#9c179e\"],[0.4444444444444444,\"#bd3786\"],[0.5555555555555556,\"#d8576b\"],[0.6666666666666666,\"#ed7953\"],[0.7777777777777778,\"#fb9f3a\"],[0.8888888888888888,\"#fdca26\"],[1.0,\"#f0f921\"]],\"type\":\"histogram2d\"}],\"histogram2dcontour\":[{\"colorbar\":{\"outlinewidth\":0,\"ticks\":\"\"},\"colorscale\":[[0.0,\"#0d0887\"],[0.1111111111111111,\"#46039f\"],[0.2222222222222222,\"#7201a8\"],[0.3333333333333333,\"#9c179e\"],[0.4444444444444444,\"#bd3786\"],[0.5555555555555556,\"#d8576b\"],[0.6666666666666666,\"#ed7953\"],[0.7777777777777778,\"#fb9f3a\"],[0.8888888888888888,\"#fdca26\"],[1.0,\"#f0f921\"]],\"type\":\"histogram2dcontour\"}],\"mesh3d\":[{\"colorbar\":{\"outlinewidth\":0,\"ticks\":\"\"},\"type\":\"mesh3d\"}],\"parcoords\":[{\"line\":{\"colorbar\":{\"outlinewidth\":0,\"ticks\":\"\"}},\"type\":\"parcoords\"}],\"pie\":[{\"automargin\":true,\"type\":\"pie\"}],\"scatter\":[{\"marker\":{\"colorbar\":{\"outlinewidth\":0,\"ticks\":\"\"}},\"type\":\"scatter\"}],\"scatter3d\":[{\"line\":{\"colorbar\":{\"outlinewidth\":0,\"ticks\":\"\"}},\"marker\":{\"colorbar\":{\"outlinewidth\":0,\"ticks\":\"\"}},\"type\":\"scatter3d\"}],\"scattercarpet\":[{\"marker\":{\"colorbar\":{\"outlinewidth\":0,\"ticks\":\"\"}},\"type\":\"scattercarpet\"}],\"scattergeo\":[{\"marker\":{\"colorbar\":{\"outlinewidth\":0,\"ticks\":\"\"}},\"type\":\"scattergeo\"}],\"scattergl\":[{\"marker\":{\"colorbar\":{\"outlinewidth\":0,\"ticks\":\"\"}},\"type\":\"scattergl\"}],\"scattermapbox\":[{\"marker\":{\"colorbar\":{\"outlinewidth\":0,\"ticks\":\"\"}},\"type\":\"scattermapbox\"}],\"scatterpolar\":[{\"marker\":{\"colorbar\":{\"outlinewidth\":0,\"ticks\":\"\"}},\"type\":\"scatterpolar\"}],\"scatterpolargl\":[{\"marker\":{\"colorbar\":{\"outlinewidth\":0,\"ticks\":\"\"}},\"type\":\"scatterpolargl\"}],\"scatterternary\":[{\"marker\":{\"colorbar\":{\"outlinewidth\":0,\"ticks\":\"\"}},\"type\":\"scatterternary\"}],\"surface\":[{\"colorbar\":{\"outlinewidth\":0,\"ticks\":\"\"},\"colorscale\":[[0.0,\"#0d0887\"],[0.1111111111111111,\"#46039f\"],[0.2222222222222222,\"#7201a8\"],[0.3333333333333333,\"#9c179e\"],[0.4444444444444444,\"#bd3786\"],[0.5555555555555556,\"#d8576b\"],[0.6666666666666666,\"#ed7953\"],[0.7777777777777778,\"#fb9f3a\"],[0.8888888888888888,\"#fdca26\"],[1.0,\"#f0f921\"]],\"type\":\"surface\"}],\"table\":[{\"cells\":{\"fill\":{\"color\":\"#EBF0F8\"},\"line\":{\"color\":\"white\"}},\"header\":{\"fill\":{\"color\":\"#C8D4E3\"},\"line\":{\"color\":\"white\"}},\"type\":\"table\"}]},\"layout\":{\"annotationdefaults\":{\"arrowcolor\":\"#2a3f5f\",\"arrowhead\":0,\"arrowwidth\":1},\"autotypenumbers\":\"strict\",\"coloraxis\":{\"colorbar\":{\"outlinewidth\":0,\"ticks\":\"\"}},\"colorscale\":{\"diverging\":[[0,\"#8e0152\"],[0.1,\"#c51b7d\"],[0.2,\"#de77ae\"],[0.3,\"#f1b6da\"],[0.4,\"#fde0ef\"],[0.5,\"#f7f7f7\"],[0.6,\"#e6f5d0\"],[0.7,\"#b8e186\"],[0.8,\"#7fbc41\"],[0.9,\"#4d9221\"],[1,\"#276419\"]],\"sequential\":[[0.0,\"#0d0887\"],[0.1111111111111111,\"#46039f\"],[0.2222222222222222,\"#7201a8\"],[0.3333333333333333,\"#9c179e\"],[0.4444444444444444,\"#bd3786\"],[0.5555555555555556,\"#d8576b\"],[0.6666666666666666,\"#ed7953\"],[0.7777777777777778,\"#fb9f3a\"],[0.8888888888888888,\"#fdca26\"],[1.0,\"#f0f921\"]],\"sequentialminus\":[[0.0,\"#0d0887\"],[0.1111111111111111,\"#46039f\"],[0.2222222222222222,\"#7201a8\"],[0.3333333333333333,\"#9c179e\"],[0.4444444444444444,\"#bd3786\"],[0.5555555555555556,\"#d8576b\"],[0.6666666666666666,\"#ed7953\"],[0.7777777777777778,\"#fb9f3a\"],[0.8888888888888888,\"#fdca26\"],[1.0,\"#f0f921\"]]},\"colorway\":[\"#636efa\",\"#EF553B\",\"#00cc96\",\"#ab63fa\",\"#FFA15A\",\"#19d3f3\",\"#FF6692\",\"#B6E880\",\"#FF97FF\",\"#FECB52\"],\"font\":{\"color\":\"#2a3f5f\"},\"geo\":{\"bgcolor\":\"white\",\"lakecolor\":\"white\",\"landcolor\":\"#E5ECF6\",\"showlakes\":true,\"showland\":true,\"subunitcolor\":\"white\"},\"hoverlabel\":{\"align\":\"left\"},\"hovermode\":\"closest\",\"mapbox\":{\"style\":\"light\"},\"paper_bgcolor\":\"white\",\"plot_bgcolor\":\"#E5ECF6\",\"polar\":{\"angularaxis\":{\"gridcolor\":\"white\",\"linecolor\":\"white\",\"ticks\":\"\"},\"bgcolor\":\"#E5ECF6\",\"radialaxis\":{\"gridcolor\":\"white\",\"linecolor\":\"white\",\"ticks\":\"\"}},\"scene\":{\"xaxis\":{\"backgroundcolor\":\"#E5ECF6\",\"gridcolor\":\"white\",\"gridwidth\":2,\"linecolor\":\"white\",\"showbackground\":true,\"ticks\":\"\",\"zerolinecolor\":\"white\"},\"yaxis\":{\"backgroundcolor\":\"#E5ECF6\",\"gridcolor\":\"white\",\"gridwidth\":2,\"linecolor\":\"white\",\"showbackground\":true,\"ticks\":\"\",\"zerolinecolor\":\"white\"},\"zaxis\":{\"backgroundcolor\":\"#E5ECF6\",\"gridcolor\":\"white\",\"gridwidth\":2,\"linecolor\":\"white\",\"showbackground\":true,\"ticks\":\"\",\"zerolinecolor\":\"white\"}},\"shapedefaults\":{\"line\":{\"color\":\"#2a3f5f\"}},\"ternary\":{\"aaxis\":{\"gridcolor\":\"white\",\"linecolor\":\"white\",\"ticks\":\"\"},\"baxis\":{\"gridcolor\":\"white\",\"linecolor\":\"white\",\"ticks\":\"\"},\"bgcolor\":\"#E5ECF6\",\"caxis\":{\"gridcolor\":\"white\",\"linecolor\":\"white\",\"ticks\":\"\"}},\"title\":{\"x\":0.05},\"xaxis\":{\"automargin\":true,\"gridcolor\":\"white\",\"linecolor\":\"white\",\"ticks\":\"\",\"title\":{\"standoff\":15},\"zerolinecolor\":\"white\",\"zerolinewidth\":2},\"yaxis\":{\"automargin\":true,\"gridcolor\":\"white\",\"linecolor\":\"white\",\"ticks\":\"\",\"title\":{\"standoff\":15},\"zerolinecolor\":\"white\",\"zerolinewidth\":2}}},\"title\":{\"text\":\"Input CV Similarity to Requirements in Job Postings<br>\"},\"width\":900,\"xaxis\":{\"anchor\":\"y\",\"domain\":[0.0,1.0],\"title\":{\"text\":\"Coverage\"}},\"yaxis\":{\"anchor\":\"x\",\"domain\":[0.0,1.0],\"title\":{\"text\":\"Importance\"}}},                        {\"responsive\": true}                    ).then(function(){\n",
       "                            \n",
       "var gd = document.getElementById('9741669a-806b-4b2f-87fa-c7f5bb562e58');\n",
       "var x = new MutationObserver(function (mutations, observer) {{\n",
       "        var display = window.getComputedStyle(gd).display;\n",
       "        if (!display || display === 'none') {{\n",
       "            console.log([gd, 'removed!']);\n",
       "            Plotly.purge(gd);\n",
       "            observer.disconnect();\n",
       "        }}\n",
       "}});\n",
       "\n",
       "// Listen for the removal of the full notebook cells\n",
       "var notebookContainer = gd.closest('#notebook-container');\n",
       "if (notebookContainer) {{\n",
       "    x.observe(notebookContainer, {childList: true});\n",
       "}}\n",
       "\n",
       "// Listen for the clearing of the current output cell\n",
       "var outputEl = gd.closest('.output');\n",
       "if (outputEl) {{\n",
       "    x.observe(outputEl, {childList: true});\n",
       "}}\n",
       "\n",
       "                        })                };                });            </script>        </div>"
      ]
     },
     "metadata": {},
     "output_type": "display_data"
    }
   ],
   "source": [
    "obj[0].update_layout(height=3*200, width=3*300, \\\n",
    "                          #font=dict(size=10),\\\n",
    "                          title = 'Input CV Similarity to Requirements in Job Postings<br>',\\\n",
    "                          barmode='stack', \\\n",
    "                          legend_title_text = '', \\\n",
    "                        \n",
    "                          legend=dict(yanchor=\"bottom\",y=0,xanchor=\"right\",x=1\n",
    "                                     ))\n",
    "obj[0].show()"
   ]
  },
  {
   "cell_type": "code",
   "execution_count": 19,
   "metadata": {},
   "outputs": [
    {
     "data": {
      "application/vnd.plotly.v1+json": {
       "config": {
        "plotlyServerURL": "https://plot.ly"
       },
       "data": [
        {
         "cells": {
          "values": [
           [
            "<b>team</b> <b>player</b>, ability work, team members",
            "<b>knowledge</b> <b>sql</b>, relational databases, sql queries",
            "<b>ability</b> <b>work</b>, work independently, fast-paced environment",
            "<b>years</b> <b>experience</b>, related field, years relevant",
            "<b>learn</b> <b>new</b>, new technologies, eager learn",
            "<b>track</b> <b>record</b>, research projects, scientific technical",
            "<b>machine</b> <b>learning</b>, learning models, learning algorithms",
            "<b>communication</b> <b>skills</b>, excellent communication, skills excellent",
            "<b>big</b> <b>data</b>, experience working, experience big",
            "<b>attention</b> <b>detail</b>, natural language, social media",
            "<b>experience</b> <b>working</b>, software development, project management",
            "<b>data</b> <b>sets</b>, data analysis, data sources",
            "<b>machine</b> <b>learning</b>, learning techniques, machine learning,",
            "<b>data</b> <b>science</b>, data scientists, data scientist",
            "<b>data</b> <b>visualization</b>, visualization tools, experience data",
            "<b>years</b> <b>experience</b>, experience data, data science",
            "<b>business</b> <b>stakeholders</b>, work closely, internal external",
            "<b>problem-solving</b> <b>skills</b>, problem solving, strong analytical",
            "<b>programming</b> <b>skills</b>, programming languages, data science",
            "<b>predictive</b> <b>models</b>, machine learning, model performance",
            "<b>experience</b> <b>working</b>, single cell, next-generation sequencing",
            "<b>helping</b> <b>others</b>, people around, lasting mark",
            "<b>version</b> <b>control</b>, software engineering, best practices",
            "<b>data</b> <b>analysis</b>, results clear, track record",
            "<b>deep</b> <b>learning</b>, machine learning, experience deep",
            "<b>business</b> <b>problems</b>, translate business, understand business",
            "<b>working</b> <b>environment</b>, work environment, professional development",
            "<b>experience</b> <b>cloud</b>, google cloud, cloud computing",
            "<b>fluent</b> <b>english</b>, communication skills, english fluent",
            "<b>data</b> <b>quality</b>, data management, data pipelines",
            "<b>computer</b> <b>science,</b>, computer science, master’s degree"
           ],
           [
            0,
            1,
            2,
            3,
            4,
            5,
            6,
            7,
            8,
            9,
            10,
            11,
            12,
            13,
            14,
            15,
            16,
            17,
            18,
            19,
            20,
            21,
            22,
            23,
            24,
            25,
            26,
            27,
            28,
            29,
            30
           ],
           [
            0.61,
            0.55,
            0.48,
            0.61,
            0.63,
            0.45,
            0.53,
            0.73,
            0.57,
            0.21,
            0.57,
            0.51,
            0.65,
            0.62,
            0.6,
            0.7,
            0.57,
            0.7,
            0.57,
            0.5,
            0.44,
            0.5,
            0.45,
            0.46,
            0.52,
            0.51,
            0.51,
            0.54,
            0.61,
            0.55,
            0.59
           ],
           [
            0.74,
            0.7,
            0.62,
            null,
            0.79,
            null,
            0.68,
            0.85,
            0.76,
            0.41,
            0.71,
            0.69,
            0.77,
            0.73,
            0.78,
            0.82,
            0.71,
            null,
            0.72,
            0.68,
            0.62,
            null,
            0.63,
            0.65,
            0.72,
            0.68,
            0.67,
            0.73,
            null,
            0.72,
            0.69
           ],
           [
            0.74,
            0.68,
            0.53,
            null,
            0.79,
            0.55,
            0.65,
            0.83,
            0.71,
            0.35,
            0.67,
            0.64,
            0.75,
            0.71,
            0.75,
            0.79,
            0.68,
            null,
            0.69,
            0.64,
            0.58,
            0.68,
            0.59,
            0.6,
            0.68,
            0.64,
            0.62,
            0.67,
            null,
            0.67,
            0.68
           ],
           [
            0.73,
            0.64,
            0.5,
            0.68,
            0.74,
            0.51,
            0.61,
            0.78,
            0.66,
            0.3,
            0.63,
            0.59,
            0.72,
            0.68,
            0.7,
            0.76,
            0.64,
            0.74,
            0.65,
            0.58,
            0.54,
            0.55,
            0.54,
            0.54,
            0.62,
            0.59,
            0.59,
            0.62,
            0.61,
            0.63,
            0.66
           ]
          ]
         },
         "columnwidth": [
          1100,
          100
         ],
         "header": {
          "values": [
           "Skill Cluster",
           "Your Score",
           "Average",
           "Top 10%",
           "Top 25%",
           "Top 50%"
          ]
         },
         "type": "table"
        }
       ],
       "layout": {
        "height": 870,
        "template": {
         "data": {
          "bar": [
           {
            "error_x": {
             "color": "#2a3f5f"
            },
            "error_y": {
             "color": "#2a3f5f"
            },
            "marker": {
             "line": {
              "color": "#E5ECF6",
              "width": 0.5
             },
             "pattern": {
              "fillmode": "overlay",
              "size": 10,
              "solidity": 0.2
             }
            },
            "type": "bar"
           }
          ],
          "barpolar": [
           {
            "marker": {
             "line": {
              "color": "#E5ECF6",
              "width": 0.5
             },
             "pattern": {
              "fillmode": "overlay",
              "size": 10,
              "solidity": 0.2
             }
            },
            "type": "barpolar"
           }
          ],
          "carpet": [
           {
            "aaxis": {
             "endlinecolor": "#2a3f5f",
             "gridcolor": "white",
             "linecolor": "white",
             "minorgridcolor": "white",
             "startlinecolor": "#2a3f5f"
            },
            "baxis": {
             "endlinecolor": "#2a3f5f",
             "gridcolor": "white",
             "linecolor": "white",
             "minorgridcolor": "white",
             "startlinecolor": "#2a3f5f"
            },
            "type": "carpet"
           }
          ],
          "choropleth": [
           {
            "colorbar": {
             "outlinewidth": 0,
             "ticks": ""
            },
            "type": "choropleth"
           }
          ],
          "contour": [
           {
            "colorbar": {
             "outlinewidth": 0,
             "ticks": ""
            },
            "colorscale": [
             [
              0,
              "#0d0887"
             ],
             [
              0.1111111111111111,
              "#46039f"
             ],
             [
              0.2222222222222222,
              "#7201a8"
             ],
             [
              0.3333333333333333,
              "#9c179e"
             ],
             [
              0.4444444444444444,
              "#bd3786"
             ],
             [
              0.5555555555555556,
              "#d8576b"
             ],
             [
              0.6666666666666666,
              "#ed7953"
             ],
             [
              0.7777777777777778,
              "#fb9f3a"
             ],
             [
              0.8888888888888888,
              "#fdca26"
             ],
             [
              1,
              "#f0f921"
             ]
            ],
            "type": "contour"
           }
          ],
          "contourcarpet": [
           {
            "colorbar": {
             "outlinewidth": 0,
             "ticks": ""
            },
            "type": "contourcarpet"
           }
          ],
          "heatmap": [
           {
            "colorbar": {
             "outlinewidth": 0,
             "ticks": ""
            },
            "colorscale": [
             [
              0,
              "#0d0887"
             ],
             [
              0.1111111111111111,
              "#46039f"
             ],
             [
              0.2222222222222222,
              "#7201a8"
             ],
             [
              0.3333333333333333,
              "#9c179e"
             ],
             [
              0.4444444444444444,
              "#bd3786"
             ],
             [
              0.5555555555555556,
              "#d8576b"
             ],
             [
              0.6666666666666666,
              "#ed7953"
             ],
             [
              0.7777777777777778,
              "#fb9f3a"
             ],
             [
              0.8888888888888888,
              "#fdca26"
             ],
             [
              1,
              "#f0f921"
             ]
            ],
            "type": "heatmap"
           }
          ],
          "heatmapgl": [
           {
            "colorbar": {
             "outlinewidth": 0,
             "ticks": ""
            },
            "colorscale": [
             [
              0,
              "#0d0887"
             ],
             [
              0.1111111111111111,
              "#46039f"
             ],
             [
              0.2222222222222222,
              "#7201a8"
             ],
             [
              0.3333333333333333,
              "#9c179e"
             ],
             [
              0.4444444444444444,
              "#bd3786"
             ],
             [
              0.5555555555555556,
              "#d8576b"
             ],
             [
              0.6666666666666666,
              "#ed7953"
             ],
             [
              0.7777777777777778,
              "#fb9f3a"
             ],
             [
              0.8888888888888888,
              "#fdca26"
             ],
             [
              1,
              "#f0f921"
             ]
            ],
            "type": "heatmapgl"
           }
          ],
          "histogram": [
           {
            "marker": {
             "pattern": {
              "fillmode": "overlay",
              "size": 10,
              "solidity": 0.2
             }
            },
            "type": "histogram"
           }
          ],
          "histogram2d": [
           {
            "colorbar": {
             "outlinewidth": 0,
             "ticks": ""
            },
            "colorscale": [
             [
              0,
              "#0d0887"
             ],
             [
              0.1111111111111111,
              "#46039f"
             ],
             [
              0.2222222222222222,
              "#7201a8"
             ],
             [
              0.3333333333333333,
              "#9c179e"
             ],
             [
              0.4444444444444444,
              "#bd3786"
             ],
             [
              0.5555555555555556,
              "#d8576b"
             ],
             [
              0.6666666666666666,
              "#ed7953"
             ],
             [
              0.7777777777777778,
              "#fb9f3a"
             ],
             [
              0.8888888888888888,
              "#fdca26"
             ],
             [
              1,
              "#f0f921"
             ]
            ],
            "type": "histogram2d"
           }
          ],
          "histogram2dcontour": [
           {
            "colorbar": {
             "outlinewidth": 0,
             "ticks": ""
            },
            "colorscale": [
             [
              0,
              "#0d0887"
             ],
             [
              0.1111111111111111,
              "#46039f"
             ],
             [
              0.2222222222222222,
              "#7201a8"
             ],
             [
              0.3333333333333333,
              "#9c179e"
             ],
             [
              0.4444444444444444,
              "#bd3786"
             ],
             [
              0.5555555555555556,
              "#d8576b"
             ],
             [
              0.6666666666666666,
              "#ed7953"
             ],
             [
              0.7777777777777778,
              "#fb9f3a"
             ],
             [
              0.8888888888888888,
              "#fdca26"
             ],
             [
              1,
              "#f0f921"
             ]
            ],
            "type": "histogram2dcontour"
           }
          ],
          "mesh3d": [
           {
            "colorbar": {
             "outlinewidth": 0,
             "ticks": ""
            },
            "type": "mesh3d"
           }
          ],
          "parcoords": [
           {
            "line": {
             "colorbar": {
              "outlinewidth": 0,
              "ticks": ""
             }
            },
            "type": "parcoords"
           }
          ],
          "pie": [
           {
            "automargin": true,
            "type": "pie"
           }
          ],
          "scatter": [
           {
            "marker": {
             "colorbar": {
              "outlinewidth": 0,
              "ticks": ""
             }
            },
            "type": "scatter"
           }
          ],
          "scatter3d": [
           {
            "line": {
             "colorbar": {
              "outlinewidth": 0,
              "ticks": ""
             }
            },
            "marker": {
             "colorbar": {
              "outlinewidth": 0,
              "ticks": ""
             }
            },
            "type": "scatter3d"
           }
          ],
          "scattercarpet": [
           {
            "marker": {
             "colorbar": {
              "outlinewidth": 0,
              "ticks": ""
             }
            },
            "type": "scattercarpet"
           }
          ],
          "scattergeo": [
           {
            "marker": {
             "colorbar": {
              "outlinewidth": 0,
              "ticks": ""
             }
            },
            "type": "scattergeo"
           }
          ],
          "scattergl": [
           {
            "marker": {
             "colorbar": {
              "outlinewidth": 0,
              "ticks": ""
             }
            },
            "type": "scattergl"
           }
          ],
          "scattermapbox": [
           {
            "marker": {
             "colorbar": {
              "outlinewidth": 0,
              "ticks": ""
             }
            },
            "type": "scattermapbox"
           }
          ],
          "scatterpolar": [
           {
            "marker": {
             "colorbar": {
              "outlinewidth": 0,
              "ticks": ""
             }
            },
            "type": "scatterpolar"
           }
          ],
          "scatterpolargl": [
           {
            "marker": {
             "colorbar": {
              "outlinewidth": 0,
              "ticks": ""
             }
            },
            "type": "scatterpolargl"
           }
          ],
          "scatterternary": [
           {
            "marker": {
             "colorbar": {
              "outlinewidth": 0,
              "ticks": ""
             }
            },
            "type": "scatterternary"
           }
          ],
          "surface": [
           {
            "colorbar": {
             "outlinewidth": 0,
             "ticks": ""
            },
            "colorscale": [
             [
              0,
              "#0d0887"
             ],
             [
              0.1111111111111111,
              "#46039f"
             ],
             [
              0.2222222222222222,
              "#7201a8"
             ],
             [
              0.3333333333333333,
              "#9c179e"
             ],
             [
              0.4444444444444444,
              "#bd3786"
             ],
             [
              0.5555555555555556,
              "#d8576b"
             ],
             [
              0.6666666666666666,
              "#ed7953"
             ],
             [
              0.7777777777777778,
              "#fb9f3a"
             ],
             [
              0.8888888888888888,
              "#fdca26"
             ],
             [
              1,
              "#f0f921"
             ]
            ],
            "type": "surface"
           }
          ],
          "table": [
           {
            "cells": {
             "fill": {
              "color": "#EBF0F8"
             },
             "line": {
              "color": "white"
             }
            },
            "header": {
             "fill": {
              "color": "#C8D4E3"
             },
             "line": {
              "color": "white"
             }
            },
            "type": "table"
           }
          ]
         },
         "layout": {
          "annotationdefaults": {
           "arrowcolor": "#2a3f5f",
           "arrowhead": 0,
           "arrowwidth": 1
          },
          "autotypenumbers": "strict",
          "coloraxis": {
           "colorbar": {
            "outlinewidth": 0,
            "ticks": ""
           }
          },
          "colorscale": {
           "diverging": [
            [
             0,
             "#8e0152"
            ],
            [
             0.1,
             "#c51b7d"
            ],
            [
             0.2,
             "#de77ae"
            ],
            [
             0.3,
             "#f1b6da"
            ],
            [
             0.4,
             "#fde0ef"
            ],
            [
             0.5,
             "#f7f7f7"
            ],
            [
             0.6,
             "#e6f5d0"
            ],
            [
             0.7,
             "#b8e186"
            ],
            [
             0.8,
             "#7fbc41"
            ],
            [
             0.9,
             "#4d9221"
            ],
            [
             1,
             "#276419"
            ]
           ],
           "sequential": [
            [
             0,
             "#0d0887"
            ],
            [
             0.1111111111111111,
             "#46039f"
            ],
            [
             0.2222222222222222,
             "#7201a8"
            ],
            [
             0.3333333333333333,
             "#9c179e"
            ],
            [
             0.4444444444444444,
             "#bd3786"
            ],
            [
             0.5555555555555556,
             "#d8576b"
            ],
            [
             0.6666666666666666,
             "#ed7953"
            ],
            [
             0.7777777777777778,
             "#fb9f3a"
            ],
            [
             0.8888888888888888,
             "#fdca26"
            ],
            [
             1,
             "#f0f921"
            ]
           ],
           "sequentialminus": [
            [
             0,
             "#0d0887"
            ],
            [
             0.1111111111111111,
             "#46039f"
            ],
            [
             0.2222222222222222,
             "#7201a8"
            ],
            [
             0.3333333333333333,
             "#9c179e"
            ],
            [
             0.4444444444444444,
             "#bd3786"
            ],
            [
             0.5555555555555556,
             "#d8576b"
            ],
            [
             0.6666666666666666,
             "#ed7953"
            ],
            [
             0.7777777777777778,
             "#fb9f3a"
            ],
            [
             0.8888888888888888,
             "#fdca26"
            ],
            [
             1,
             "#f0f921"
            ]
           ]
          },
          "colorway": [
           "#636efa",
           "#EF553B",
           "#00cc96",
           "#ab63fa",
           "#FFA15A",
           "#19d3f3",
           "#FF6692",
           "#B6E880",
           "#FF97FF",
           "#FECB52"
          ],
          "font": {
           "color": "#2a3f5f"
          },
          "geo": {
           "bgcolor": "white",
           "lakecolor": "white",
           "landcolor": "#E5ECF6",
           "showlakes": true,
           "showland": true,
           "subunitcolor": "white"
          },
          "hoverlabel": {
           "align": "left"
          },
          "hovermode": "closest",
          "mapbox": {
           "style": "light"
          },
          "paper_bgcolor": "white",
          "plot_bgcolor": "#E5ECF6",
          "polar": {
           "angularaxis": {
            "gridcolor": "white",
            "linecolor": "white",
            "ticks": ""
           },
           "bgcolor": "#E5ECF6",
           "radialaxis": {
            "gridcolor": "white",
            "linecolor": "white",
            "ticks": ""
           }
          },
          "scene": {
           "xaxis": {
            "backgroundcolor": "#E5ECF6",
            "gridcolor": "white",
            "gridwidth": 2,
            "linecolor": "white",
            "showbackground": true,
            "ticks": "",
            "zerolinecolor": "white"
           },
           "yaxis": {
            "backgroundcolor": "#E5ECF6",
            "gridcolor": "white",
            "gridwidth": 2,
            "linecolor": "white",
            "showbackground": true,
            "ticks": "",
            "zerolinecolor": "white"
           },
           "zaxis": {
            "backgroundcolor": "#E5ECF6",
            "gridcolor": "white",
            "gridwidth": 2,
            "linecolor": "white",
            "showbackground": true,
            "ticks": "",
            "zerolinecolor": "white"
           }
          },
          "shapedefaults": {
           "line": {
            "color": "#2a3f5f"
           }
          },
          "ternary": {
           "aaxis": {
            "gridcolor": "white",
            "linecolor": "white",
            "ticks": ""
           },
           "baxis": {
            "gridcolor": "white",
            "linecolor": "white",
            "ticks": ""
           },
           "bgcolor": "#E5ECF6",
           "caxis": {
            "gridcolor": "white",
            "linecolor": "white",
            "ticks": ""
           }
          },
          "title": {
           "x": 0.05
          },
          "xaxis": {
           "automargin": true,
           "gridcolor": "white",
           "linecolor": "white",
           "ticks": "",
           "title": {
            "standoff": 15
           },
           "zerolinecolor": "white",
           "zerolinewidth": 2
          },
          "yaxis": {
           "automargin": true,
           "gridcolor": "white",
           "linecolor": "white",
           "ticks": "",
           "title": {
            "standoff": 15
           },
           "zerolinecolor": "white",
           "zerolinewidth": 2
          }
         }
        },
        "width": 900
       }
      },
      "text/html": [
       "<div>                            <div id=\"cd1a4525-0b71-468f-8334-9a5ebe22ee80\" class=\"plotly-graph-div\" style=\"height:870.0px; width:900px;\"></div>            <script type=\"text/javascript\">                require([\"plotly\"], function(Plotly) {                    window.PLOTLYENV=window.PLOTLYENV || {};                                    if (document.getElementById(\"cd1a4525-0b71-468f-8334-9a5ebe22ee80\")) {                    Plotly.newPlot(                        \"cd1a4525-0b71-468f-8334-9a5ebe22ee80\",                        [{\"cells\":{\"values\":[[\"<b>team</b> <b>player</b>, ability work, team members\",\"<b>knowledge</b> <b>sql</b>, relational databases, sql queries\",\"<b>ability</b> <b>work</b>, work independently, fast-paced environment\",\"<b>years</b> <b>experience</b>, related field, years relevant\",\"<b>learn</b> <b>new</b>, new technologies, eager learn\",\"<b>track</b> <b>record</b>, research projects, scientific technical\",\"<b>machine</b> <b>learning</b>, learning models, learning algorithms\",\"<b>communication</b> <b>skills</b>, excellent communication, skills excellent\",\"<b>big</b> <b>data</b>, experience working, experience big\",\"<b>attention</b> <b>detail</b>, natural language, social media\",\"<b>experience</b> <b>working</b>, software development, project management\",\"<b>data</b> <b>sets</b>, data analysis, data sources\",\"<b>machine</b> <b>learning</b>, learning techniques, machine learning,\",\"<b>data</b> <b>science</b>, data scientists, data scientist\",\"<b>data</b> <b>visualization</b>, visualization tools, experience data\",\"<b>years</b> <b>experience</b>, experience data, data science\",\"<b>business</b> <b>stakeholders</b>, work closely, internal external\",\"<b>problem-solving</b> <b>skills</b>, problem solving, strong analytical\",\"<b>programming</b> <b>skills</b>, programming languages, data science\",\"<b>predictive</b> <b>models</b>, machine learning, model performance\",\"<b>experience</b> <b>working</b>, single cell, next-generation sequencing\",\"<b>helping</b> <b>others</b>, people around, lasting mark\",\"<b>version</b> <b>control</b>, software engineering, best practices\",\"<b>data</b> <b>analysis</b>, results clear, track record\",\"<b>deep</b> <b>learning</b>, machine learning, experience deep\",\"<b>business</b> <b>problems</b>, translate business, understand business\",\"<b>working</b> <b>environment</b>, work environment, professional development\",\"<b>experience</b> <b>cloud</b>, google cloud, cloud computing\",\"<b>fluent</b> <b>english</b>, communication skills, english fluent\",\"<b>data</b> <b>quality</b>, data management, data pipelines\",\"<b>computer</b> <b>science,</b>, computer science, master\\u2019s degree\"],[0,1,2,3,4,5,6,7,8,9,10,11,12,13,14,15,16,17,18,19,20,21,22,23,24,25,26,27,28,29,30],[0.61,0.55,0.48,0.61,0.63,0.45,0.53,0.73,0.57,0.21,0.57,0.51,0.65,0.62,0.6,0.7,0.57,0.7,0.57,0.5,0.44,0.5,0.45,0.46,0.52,0.51,0.51,0.54,0.61,0.55,0.59],[0.74,0.7,0.62,null,0.79,null,0.68,0.85,0.76,0.41,0.71,0.69,0.77,0.73,0.78,0.82,0.71,null,0.72,0.68,0.62,null,0.63,0.65,0.72,0.68,0.67,0.73,null,0.72,0.69],[0.74,0.68,0.53,null,0.79,0.55,0.65,0.83,0.71,0.35,0.67,0.64,0.75,0.71,0.75,0.79,0.68,null,0.69,0.64,0.58,0.68,0.59,0.6,0.68,0.64,0.62,0.67,null,0.67,0.68],[0.73,0.64,0.5,0.68,0.74,0.51,0.61,0.78,0.66,0.3,0.63,0.59,0.72,0.68,0.7,0.76,0.64,0.74,0.65,0.58,0.54,0.55,0.54,0.54,0.62,0.59,0.59,0.62,0.61,0.63,0.66]]},\"columnwidth\":[1100,100],\"header\":{\"values\":[\"Skill Cluster\",\"Your Score\",\"Average\",\"Top 10%\",\"Top 25%\",\"Top 50%\"]},\"type\":\"table\"}],                        {\"height\":870.0,\"template\":{\"data\":{\"bar\":[{\"error_x\":{\"color\":\"#2a3f5f\"},\"error_y\":{\"color\":\"#2a3f5f\"},\"marker\":{\"line\":{\"color\":\"#E5ECF6\",\"width\":0.5},\"pattern\":{\"fillmode\":\"overlay\",\"size\":10,\"solidity\":0.2}},\"type\":\"bar\"}],\"barpolar\":[{\"marker\":{\"line\":{\"color\":\"#E5ECF6\",\"width\":0.5},\"pattern\":{\"fillmode\":\"overlay\",\"size\":10,\"solidity\":0.2}},\"type\":\"barpolar\"}],\"carpet\":[{\"aaxis\":{\"endlinecolor\":\"#2a3f5f\",\"gridcolor\":\"white\",\"linecolor\":\"white\",\"minorgridcolor\":\"white\",\"startlinecolor\":\"#2a3f5f\"},\"baxis\":{\"endlinecolor\":\"#2a3f5f\",\"gridcolor\":\"white\",\"linecolor\":\"white\",\"minorgridcolor\":\"white\",\"startlinecolor\":\"#2a3f5f\"},\"type\":\"carpet\"}],\"choropleth\":[{\"colorbar\":{\"outlinewidth\":0,\"ticks\":\"\"},\"type\":\"choropleth\"}],\"contour\":[{\"colorbar\":{\"outlinewidth\":0,\"ticks\":\"\"},\"colorscale\":[[0.0,\"#0d0887\"],[0.1111111111111111,\"#46039f\"],[0.2222222222222222,\"#7201a8\"],[0.3333333333333333,\"#9c179e\"],[0.4444444444444444,\"#bd3786\"],[0.5555555555555556,\"#d8576b\"],[0.6666666666666666,\"#ed7953\"],[0.7777777777777778,\"#fb9f3a\"],[0.8888888888888888,\"#fdca26\"],[1.0,\"#f0f921\"]],\"type\":\"contour\"}],\"contourcarpet\":[{\"colorbar\":{\"outlinewidth\":0,\"ticks\":\"\"},\"type\":\"contourcarpet\"}],\"heatmap\":[{\"colorbar\":{\"outlinewidth\":0,\"ticks\":\"\"},\"colorscale\":[[0.0,\"#0d0887\"],[0.1111111111111111,\"#46039f\"],[0.2222222222222222,\"#7201a8\"],[0.3333333333333333,\"#9c179e\"],[0.4444444444444444,\"#bd3786\"],[0.5555555555555556,\"#d8576b\"],[0.6666666666666666,\"#ed7953\"],[0.7777777777777778,\"#fb9f3a\"],[0.8888888888888888,\"#fdca26\"],[1.0,\"#f0f921\"]],\"type\":\"heatmap\"}],\"heatmapgl\":[{\"colorbar\":{\"outlinewidth\":0,\"ticks\":\"\"},\"colorscale\":[[0.0,\"#0d0887\"],[0.1111111111111111,\"#46039f\"],[0.2222222222222222,\"#7201a8\"],[0.3333333333333333,\"#9c179e\"],[0.4444444444444444,\"#bd3786\"],[0.5555555555555556,\"#d8576b\"],[0.6666666666666666,\"#ed7953\"],[0.7777777777777778,\"#fb9f3a\"],[0.8888888888888888,\"#fdca26\"],[1.0,\"#f0f921\"]],\"type\":\"heatmapgl\"}],\"histogram\":[{\"marker\":{\"pattern\":{\"fillmode\":\"overlay\",\"size\":10,\"solidity\":0.2}},\"type\":\"histogram\"}],\"histogram2d\":[{\"colorbar\":{\"outlinewidth\":0,\"ticks\":\"\"},\"colorscale\":[[0.0,\"#0d0887\"],[0.1111111111111111,\"#46039f\"],[0.2222222222222222,\"#7201a8\"],[0.3333333333333333,\"#9c179e\"],[0.4444444444444444,\"#bd3786\"],[0.5555555555555556,\"#d8576b\"],[0.6666666666666666,\"#ed7953\"],[0.7777777777777778,\"#fb9f3a\"],[0.8888888888888888,\"#fdca26\"],[1.0,\"#f0f921\"]],\"type\":\"histogram2d\"}],\"histogram2dcontour\":[{\"colorbar\":{\"outlinewidth\":0,\"ticks\":\"\"},\"colorscale\":[[0.0,\"#0d0887\"],[0.1111111111111111,\"#46039f\"],[0.2222222222222222,\"#7201a8\"],[0.3333333333333333,\"#9c179e\"],[0.4444444444444444,\"#bd3786\"],[0.5555555555555556,\"#d8576b\"],[0.6666666666666666,\"#ed7953\"],[0.7777777777777778,\"#fb9f3a\"],[0.8888888888888888,\"#fdca26\"],[1.0,\"#f0f921\"]],\"type\":\"histogram2dcontour\"}],\"mesh3d\":[{\"colorbar\":{\"outlinewidth\":0,\"ticks\":\"\"},\"type\":\"mesh3d\"}],\"parcoords\":[{\"line\":{\"colorbar\":{\"outlinewidth\":0,\"ticks\":\"\"}},\"type\":\"parcoords\"}],\"pie\":[{\"automargin\":true,\"type\":\"pie\"}],\"scatter\":[{\"marker\":{\"colorbar\":{\"outlinewidth\":0,\"ticks\":\"\"}},\"type\":\"scatter\"}],\"scatter3d\":[{\"line\":{\"colorbar\":{\"outlinewidth\":0,\"ticks\":\"\"}},\"marker\":{\"colorbar\":{\"outlinewidth\":0,\"ticks\":\"\"}},\"type\":\"scatter3d\"}],\"scattercarpet\":[{\"marker\":{\"colorbar\":{\"outlinewidth\":0,\"ticks\":\"\"}},\"type\":\"scattercarpet\"}],\"scattergeo\":[{\"marker\":{\"colorbar\":{\"outlinewidth\":0,\"ticks\":\"\"}},\"type\":\"scattergeo\"}],\"scattergl\":[{\"marker\":{\"colorbar\":{\"outlinewidth\":0,\"ticks\":\"\"}},\"type\":\"scattergl\"}],\"scattermapbox\":[{\"marker\":{\"colorbar\":{\"outlinewidth\":0,\"ticks\":\"\"}},\"type\":\"scattermapbox\"}],\"scatterpolar\":[{\"marker\":{\"colorbar\":{\"outlinewidth\":0,\"ticks\":\"\"}},\"type\":\"scatterpolar\"}],\"scatterpolargl\":[{\"marker\":{\"colorbar\":{\"outlinewidth\":0,\"ticks\":\"\"}},\"type\":\"scatterpolargl\"}],\"scatterternary\":[{\"marker\":{\"colorbar\":{\"outlinewidth\":0,\"ticks\":\"\"}},\"type\":\"scatterternary\"}],\"surface\":[{\"colorbar\":{\"outlinewidth\":0,\"ticks\":\"\"},\"colorscale\":[[0.0,\"#0d0887\"],[0.1111111111111111,\"#46039f\"],[0.2222222222222222,\"#7201a8\"],[0.3333333333333333,\"#9c179e\"],[0.4444444444444444,\"#bd3786\"],[0.5555555555555556,\"#d8576b\"],[0.6666666666666666,\"#ed7953\"],[0.7777777777777778,\"#fb9f3a\"],[0.8888888888888888,\"#fdca26\"],[1.0,\"#f0f921\"]],\"type\":\"surface\"}],\"table\":[{\"cells\":{\"fill\":{\"color\":\"#EBF0F8\"},\"line\":{\"color\":\"white\"}},\"header\":{\"fill\":{\"color\":\"#C8D4E3\"},\"line\":{\"color\":\"white\"}},\"type\":\"table\"}]},\"layout\":{\"annotationdefaults\":{\"arrowcolor\":\"#2a3f5f\",\"arrowhead\":0,\"arrowwidth\":1},\"autotypenumbers\":\"strict\",\"coloraxis\":{\"colorbar\":{\"outlinewidth\":0,\"ticks\":\"\"}},\"colorscale\":{\"diverging\":[[0,\"#8e0152\"],[0.1,\"#c51b7d\"],[0.2,\"#de77ae\"],[0.3,\"#f1b6da\"],[0.4,\"#fde0ef\"],[0.5,\"#f7f7f7\"],[0.6,\"#e6f5d0\"],[0.7,\"#b8e186\"],[0.8,\"#7fbc41\"],[0.9,\"#4d9221\"],[1,\"#276419\"]],\"sequential\":[[0.0,\"#0d0887\"],[0.1111111111111111,\"#46039f\"],[0.2222222222222222,\"#7201a8\"],[0.3333333333333333,\"#9c179e\"],[0.4444444444444444,\"#bd3786\"],[0.5555555555555556,\"#d8576b\"],[0.6666666666666666,\"#ed7953\"],[0.7777777777777778,\"#fb9f3a\"],[0.8888888888888888,\"#fdca26\"],[1.0,\"#f0f921\"]],\"sequentialminus\":[[0.0,\"#0d0887\"],[0.1111111111111111,\"#46039f\"],[0.2222222222222222,\"#7201a8\"],[0.3333333333333333,\"#9c179e\"],[0.4444444444444444,\"#bd3786\"],[0.5555555555555556,\"#d8576b\"],[0.6666666666666666,\"#ed7953\"],[0.7777777777777778,\"#fb9f3a\"],[0.8888888888888888,\"#fdca26\"],[1.0,\"#f0f921\"]]},\"colorway\":[\"#636efa\",\"#EF553B\",\"#00cc96\",\"#ab63fa\",\"#FFA15A\",\"#19d3f3\",\"#FF6692\",\"#B6E880\",\"#FF97FF\",\"#FECB52\"],\"font\":{\"color\":\"#2a3f5f\"},\"geo\":{\"bgcolor\":\"white\",\"lakecolor\":\"white\",\"landcolor\":\"#E5ECF6\",\"showlakes\":true,\"showland\":true,\"subunitcolor\":\"white\"},\"hoverlabel\":{\"align\":\"left\"},\"hovermode\":\"closest\",\"mapbox\":{\"style\":\"light\"},\"paper_bgcolor\":\"white\",\"plot_bgcolor\":\"#E5ECF6\",\"polar\":{\"angularaxis\":{\"gridcolor\":\"white\",\"linecolor\":\"white\",\"ticks\":\"\"},\"bgcolor\":\"#E5ECF6\",\"radialaxis\":{\"gridcolor\":\"white\",\"linecolor\":\"white\",\"ticks\":\"\"}},\"scene\":{\"xaxis\":{\"backgroundcolor\":\"#E5ECF6\",\"gridcolor\":\"white\",\"gridwidth\":2,\"linecolor\":\"white\",\"showbackground\":true,\"ticks\":\"\",\"zerolinecolor\":\"white\"},\"yaxis\":{\"backgroundcolor\":\"#E5ECF6\",\"gridcolor\":\"white\",\"gridwidth\":2,\"linecolor\":\"white\",\"showbackground\":true,\"ticks\":\"\",\"zerolinecolor\":\"white\"},\"zaxis\":{\"backgroundcolor\":\"#E5ECF6\",\"gridcolor\":\"white\",\"gridwidth\":2,\"linecolor\":\"white\",\"showbackground\":true,\"ticks\":\"\",\"zerolinecolor\":\"white\"}},\"shapedefaults\":{\"line\":{\"color\":\"#2a3f5f\"}},\"ternary\":{\"aaxis\":{\"gridcolor\":\"white\",\"linecolor\":\"white\",\"ticks\":\"\"},\"baxis\":{\"gridcolor\":\"white\",\"linecolor\":\"white\",\"ticks\":\"\"},\"bgcolor\":\"#E5ECF6\",\"caxis\":{\"gridcolor\":\"white\",\"linecolor\":\"white\",\"ticks\":\"\"}},\"title\":{\"x\":0.05},\"xaxis\":{\"automargin\":true,\"gridcolor\":\"white\",\"linecolor\":\"white\",\"ticks\":\"\",\"title\":{\"standoff\":15},\"zerolinecolor\":\"white\",\"zerolinewidth\":2},\"yaxis\":{\"automargin\":true,\"gridcolor\":\"white\",\"linecolor\":\"white\",\"ticks\":\"\",\"title\":{\"standoff\":15},\"zerolinecolor\":\"white\",\"zerolinewidth\":2}}},\"width\":900},                        {\"responsive\": true}                    ).then(function(){\n",
       "                            \n",
       "var gd = document.getElementById('cd1a4525-0b71-468f-8334-9a5ebe22ee80');\n",
       "var x = new MutationObserver(function (mutations, observer) {{\n",
       "        var display = window.getComputedStyle(gd).display;\n",
       "        if (!display || display === 'none') {{\n",
       "            console.log([gd, 'removed!']);\n",
       "            Plotly.purge(gd);\n",
       "            observer.disconnect();\n",
       "        }}\n",
       "}});\n",
       "\n",
       "// Listen for the removal of the full notebook cells\n",
       "var notebookContainer = gd.closest('#notebook-container');\n",
       "if (notebookContainer) {{\n",
       "    x.observe(notebookContainer, {childList: true});\n",
       "}}\n",
       "\n",
       "// Listen for the clearing of the current output cell\n",
       "var outputEl = gd.closest('.output');\n",
       "if (outputEl) {{\n",
       "    x.observe(outputEl, {childList: true});\n",
       "}}\n",
       "\n",
       "                        })                };                });            </script>        </div>"
      ]
     },
     "metadata": {},
     "output_type": "display_data"
    }
   ],
   "source": [
    "def get_table(scores):\n",
    "    scores = [round(num, 2) for num in scores]\n",
    "    \n",
    "    labels = cluster_label_bigrams\n",
    "    \n",
    "    mean = df_cv_summary['mean'].tolist()\n",
    "    mean = [round(num, 2) for num in mean]\n",
    "    \n",
    "    top10 = df_cv_summary['top10'].tolist()\n",
    "    top10 = [round(num, 2) for num in top10]\n",
    "    \n",
    "    top25 = df_cv_summary['top25'].tolist()\n",
    "    top25 = [round(num, 2) for num in top25]\n",
    "    \n",
    "    top50 = df_cv_summary['top50'].tolist()\n",
    "    top50 = [round(num, 2) for num in top50]\n",
    "    \n",
    "    fig = go.Figure(data=[go.Table(\n",
    "        columnwidth = [1100,100],\n",
    "        header=dict(values=['Skill Cluster','Your Score','Average','Top 10%','Top 25%', 'Top 50%']),\n",
    "        cells=dict(values=[labels, scores,mean,top10,top25,top50]))])\n",
    "    \n",
    "    fig.update_layout(height = 2.9*300, width = 3*300)\n",
    "    \n",
    "    return(fig)\n",
    "get_table(range(31))"
   ]
  },
  {
   "cell_type": "code",
   "execution_count": 20,
   "metadata": {},
   "outputs": [
    {
     "data": {
      "application/vnd.plotly.v1+json": {
       "config": {
        "plotlyServerURL": "https://plot.ly"
       },
       "data": [
        {
         "cells": {
          "fill": {
           "color": [
            "#ccffcc",
            "#ccffcc",
            "#ccffcc",
            "#e6ffb3",
            "#ffcccc"
           ]
          },
          "values": [
           "<b>70</b>",
           49,
           72,
           67,
           61
          ]
         },
         "columnwidth": [
          100,
          100
         ],
         "header": {
          "values": [
           "<b>Your CV Coverage [%]</b>",
           "Data Scientist<br>Top 10% [%]",
           "Data Scientist <br>Top 25% [%]",
           "Data Scientist<br>Top 50% [%]",
           "Data Scientist<br>Average [%]"
          ]
         },
         "type": "table"
        }
       ],
       "layout": {
        "height": 300,
        "template": {
         "data": {
          "bar": [
           {
            "error_x": {
             "color": "#2a3f5f"
            },
            "error_y": {
             "color": "#2a3f5f"
            },
            "marker": {
             "line": {
              "color": "#E5ECF6",
              "width": 0.5
             },
             "pattern": {
              "fillmode": "overlay",
              "size": 10,
              "solidity": 0.2
             }
            },
            "type": "bar"
           }
          ],
          "barpolar": [
           {
            "marker": {
             "line": {
              "color": "#E5ECF6",
              "width": 0.5
             },
             "pattern": {
              "fillmode": "overlay",
              "size": 10,
              "solidity": 0.2
             }
            },
            "type": "barpolar"
           }
          ],
          "carpet": [
           {
            "aaxis": {
             "endlinecolor": "#2a3f5f",
             "gridcolor": "white",
             "linecolor": "white",
             "minorgridcolor": "white",
             "startlinecolor": "#2a3f5f"
            },
            "baxis": {
             "endlinecolor": "#2a3f5f",
             "gridcolor": "white",
             "linecolor": "white",
             "minorgridcolor": "white",
             "startlinecolor": "#2a3f5f"
            },
            "type": "carpet"
           }
          ],
          "choropleth": [
           {
            "colorbar": {
             "outlinewidth": 0,
             "ticks": ""
            },
            "type": "choropleth"
           }
          ],
          "contour": [
           {
            "colorbar": {
             "outlinewidth": 0,
             "ticks": ""
            },
            "colorscale": [
             [
              0,
              "#0d0887"
             ],
             [
              0.1111111111111111,
              "#46039f"
             ],
             [
              0.2222222222222222,
              "#7201a8"
             ],
             [
              0.3333333333333333,
              "#9c179e"
             ],
             [
              0.4444444444444444,
              "#bd3786"
             ],
             [
              0.5555555555555556,
              "#d8576b"
             ],
             [
              0.6666666666666666,
              "#ed7953"
             ],
             [
              0.7777777777777778,
              "#fb9f3a"
             ],
             [
              0.8888888888888888,
              "#fdca26"
             ],
             [
              1,
              "#f0f921"
             ]
            ],
            "type": "contour"
           }
          ],
          "contourcarpet": [
           {
            "colorbar": {
             "outlinewidth": 0,
             "ticks": ""
            },
            "type": "contourcarpet"
           }
          ],
          "heatmap": [
           {
            "colorbar": {
             "outlinewidth": 0,
             "ticks": ""
            },
            "colorscale": [
             [
              0,
              "#0d0887"
             ],
             [
              0.1111111111111111,
              "#46039f"
             ],
             [
              0.2222222222222222,
              "#7201a8"
             ],
             [
              0.3333333333333333,
              "#9c179e"
             ],
             [
              0.4444444444444444,
              "#bd3786"
             ],
             [
              0.5555555555555556,
              "#d8576b"
             ],
             [
              0.6666666666666666,
              "#ed7953"
             ],
             [
              0.7777777777777778,
              "#fb9f3a"
             ],
             [
              0.8888888888888888,
              "#fdca26"
             ],
             [
              1,
              "#f0f921"
             ]
            ],
            "type": "heatmap"
           }
          ],
          "heatmapgl": [
           {
            "colorbar": {
             "outlinewidth": 0,
             "ticks": ""
            },
            "colorscale": [
             [
              0,
              "#0d0887"
             ],
             [
              0.1111111111111111,
              "#46039f"
             ],
             [
              0.2222222222222222,
              "#7201a8"
             ],
             [
              0.3333333333333333,
              "#9c179e"
             ],
             [
              0.4444444444444444,
              "#bd3786"
             ],
             [
              0.5555555555555556,
              "#d8576b"
             ],
             [
              0.6666666666666666,
              "#ed7953"
             ],
             [
              0.7777777777777778,
              "#fb9f3a"
             ],
             [
              0.8888888888888888,
              "#fdca26"
             ],
             [
              1,
              "#f0f921"
             ]
            ],
            "type": "heatmapgl"
           }
          ],
          "histogram": [
           {
            "marker": {
             "pattern": {
              "fillmode": "overlay",
              "size": 10,
              "solidity": 0.2
             }
            },
            "type": "histogram"
           }
          ],
          "histogram2d": [
           {
            "colorbar": {
             "outlinewidth": 0,
             "ticks": ""
            },
            "colorscale": [
             [
              0,
              "#0d0887"
             ],
             [
              0.1111111111111111,
              "#46039f"
             ],
             [
              0.2222222222222222,
              "#7201a8"
             ],
             [
              0.3333333333333333,
              "#9c179e"
             ],
             [
              0.4444444444444444,
              "#bd3786"
             ],
             [
              0.5555555555555556,
              "#d8576b"
             ],
             [
              0.6666666666666666,
              "#ed7953"
             ],
             [
              0.7777777777777778,
              "#fb9f3a"
             ],
             [
              0.8888888888888888,
              "#fdca26"
             ],
             [
              1,
              "#f0f921"
             ]
            ],
            "type": "histogram2d"
           }
          ],
          "histogram2dcontour": [
           {
            "colorbar": {
             "outlinewidth": 0,
             "ticks": ""
            },
            "colorscale": [
             [
              0,
              "#0d0887"
             ],
             [
              0.1111111111111111,
              "#46039f"
             ],
             [
              0.2222222222222222,
              "#7201a8"
             ],
             [
              0.3333333333333333,
              "#9c179e"
             ],
             [
              0.4444444444444444,
              "#bd3786"
             ],
             [
              0.5555555555555556,
              "#d8576b"
             ],
             [
              0.6666666666666666,
              "#ed7953"
             ],
             [
              0.7777777777777778,
              "#fb9f3a"
             ],
             [
              0.8888888888888888,
              "#fdca26"
             ],
             [
              1,
              "#f0f921"
             ]
            ],
            "type": "histogram2dcontour"
           }
          ],
          "mesh3d": [
           {
            "colorbar": {
             "outlinewidth": 0,
             "ticks": ""
            },
            "type": "mesh3d"
           }
          ],
          "parcoords": [
           {
            "line": {
             "colorbar": {
              "outlinewidth": 0,
              "ticks": ""
             }
            },
            "type": "parcoords"
           }
          ],
          "pie": [
           {
            "automargin": true,
            "type": "pie"
           }
          ],
          "scatter": [
           {
            "marker": {
             "colorbar": {
              "outlinewidth": 0,
              "ticks": ""
             }
            },
            "type": "scatter"
           }
          ],
          "scatter3d": [
           {
            "line": {
             "colorbar": {
              "outlinewidth": 0,
              "ticks": ""
             }
            },
            "marker": {
             "colorbar": {
              "outlinewidth": 0,
              "ticks": ""
             }
            },
            "type": "scatter3d"
           }
          ],
          "scattercarpet": [
           {
            "marker": {
             "colorbar": {
              "outlinewidth": 0,
              "ticks": ""
             }
            },
            "type": "scattercarpet"
           }
          ],
          "scattergeo": [
           {
            "marker": {
             "colorbar": {
              "outlinewidth": 0,
              "ticks": ""
             }
            },
            "type": "scattergeo"
           }
          ],
          "scattergl": [
           {
            "marker": {
             "colorbar": {
              "outlinewidth": 0,
              "ticks": ""
             }
            },
            "type": "scattergl"
           }
          ],
          "scattermapbox": [
           {
            "marker": {
             "colorbar": {
              "outlinewidth": 0,
              "ticks": ""
             }
            },
            "type": "scattermapbox"
           }
          ],
          "scatterpolar": [
           {
            "marker": {
             "colorbar": {
              "outlinewidth": 0,
              "ticks": ""
             }
            },
            "type": "scatterpolar"
           }
          ],
          "scatterpolargl": [
           {
            "marker": {
             "colorbar": {
              "outlinewidth": 0,
              "ticks": ""
             }
            },
            "type": "scatterpolargl"
           }
          ],
          "scatterternary": [
           {
            "marker": {
             "colorbar": {
              "outlinewidth": 0,
              "ticks": ""
             }
            },
            "type": "scatterternary"
           }
          ],
          "surface": [
           {
            "colorbar": {
             "outlinewidth": 0,
             "ticks": ""
            },
            "colorscale": [
             [
              0,
              "#0d0887"
             ],
             [
              0.1111111111111111,
              "#46039f"
             ],
             [
              0.2222222222222222,
              "#7201a8"
             ],
             [
              0.3333333333333333,
              "#9c179e"
             ],
             [
              0.4444444444444444,
              "#bd3786"
             ],
             [
              0.5555555555555556,
              "#d8576b"
             ],
             [
              0.6666666666666666,
              "#ed7953"
             ],
             [
              0.7777777777777778,
              "#fb9f3a"
             ],
             [
              0.8888888888888888,
              "#fdca26"
             ],
             [
              1,
              "#f0f921"
             ]
            ],
            "type": "surface"
           }
          ],
          "table": [
           {
            "cells": {
             "fill": {
              "color": "#EBF0F8"
             },
             "line": {
              "color": "white"
             }
            },
            "header": {
             "fill": {
              "color": "#C8D4E3"
             },
             "line": {
              "color": "white"
             }
            },
            "type": "table"
           }
          ]
         },
         "layout": {
          "annotationdefaults": {
           "arrowcolor": "#2a3f5f",
           "arrowhead": 0,
           "arrowwidth": 1
          },
          "autotypenumbers": "strict",
          "coloraxis": {
           "colorbar": {
            "outlinewidth": 0,
            "ticks": ""
           }
          },
          "colorscale": {
           "diverging": [
            [
             0,
             "#8e0152"
            ],
            [
             0.1,
             "#c51b7d"
            ],
            [
             0.2,
             "#de77ae"
            ],
            [
             0.3,
             "#f1b6da"
            ],
            [
             0.4,
             "#fde0ef"
            ],
            [
             0.5,
             "#f7f7f7"
            ],
            [
             0.6,
             "#e6f5d0"
            ],
            [
             0.7,
             "#b8e186"
            ],
            [
             0.8,
             "#7fbc41"
            ],
            [
             0.9,
             "#4d9221"
            ],
            [
             1,
             "#276419"
            ]
           ],
           "sequential": [
            [
             0,
             "#0d0887"
            ],
            [
             0.1111111111111111,
             "#46039f"
            ],
            [
             0.2222222222222222,
             "#7201a8"
            ],
            [
             0.3333333333333333,
             "#9c179e"
            ],
            [
             0.4444444444444444,
             "#bd3786"
            ],
            [
             0.5555555555555556,
             "#d8576b"
            ],
            [
             0.6666666666666666,
             "#ed7953"
            ],
            [
             0.7777777777777778,
             "#fb9f3a"
            ],
            [
             0.8888888888888888,
             "#fdca26"
            ],
            [
             1,
             "#f0f921"
            ]
           ],
           "sequentialminus": [
            [
             0,
             "#0d0887"
            ],
            [
             0.1111111111111111,
             "#46039f"
            ],
            [
             0.2222222222222222,
             "#7201a8"
            ],
            [
             0.3333333333333333,
             "#9c179e"
            ],
            [
             0.4444444444444444,
             "#bd3786"
            ],
            [
             0.5555555555555556,
             "#d8576b"
            ],
            [
             0.6666666666666666,
             "#ed7953"
            ],
            [
             0.7777777777777778,
             "#fb9f3a"
            ],
            [
             0.8888888888888888,
             "#fdca26"
            ],
            [
             1,
             "#f0f921"
            ]
           ]
          },
          "colorway": [
           "#636efa",
           "#EF553B",
           "#00cc96",
           "#ab63fa",
           "#FFA15A",
           "#19d3f3",
           "#FF6692",
           "#B6E880",
           "#FF97FF",
           "#FECB52"
          ],
          "font": {
           "color": "#2a3f5f"
          },
          "geo": {
           "bgcolor": "white",
           "lakecolor": "white",
           "landcolor": "#E5ECF6",
           "showlakes": true,
           "showland": true,
           "subunitcolor": "white"
          },
          "hoverlabel": {
           "align": "left"
          },
          "hovermode": "closest",
          "mapbox": {
           "style": "light"
          },
          "paper_bgcolor": "white",
          "plot_bgcolor": "#E5ECF6",
          "polar": {
           "angularaxis": {
            "gridcolor": "white",
            "linecolor": "white",
            "ticks": ""
           },
           "bgcolor": "#E5ECF6",
           "radialaxis": {
            "gridcolor": "white",
            "linecolor": "white",
            "ticks": ""
           }
          },
          "scene": {
           "xaxis": {
            "backgroundcolor": "#E5ECF6",
            "gridcolor": "white",
            "gridwidth": 2,
            "linecolor": "white",
            "showbackground": true,
            "ticks": "",
            "zerolinecolor": "white"
           },
           "yaxis": {
            "backgroundcolor": "#E5ECF6",
            "gridcolor": "white",
            "gridwidth": 2,
            "linecolor": "white",
            "showbackground": true,
            "ticks": "",
            "zerolinecolor": "white"
           },
           "zaxis": {
            "backgroundcolor": "#E5ECF6",
            "gridcolor": "white",
            "gridwidth": 2,
            "linecolor": "white",
            "showbackground": true,
            "ticks": "",
            "zerolinecolor": "white"
           }
          },
          "shapedefaults": {
           "line": {
            "color": "#2a3f5f"
           }
          },
          "ternary": {
           "aaxis": {
            "gridcolor": "white",
            "linecolor": "white",
            "ticks": ""
           },
           "baxis": {
            "gridcolor": "white",
            "linecolor": "white",
            "ticks": ""
           },
           "bgcolor": "#E5ECF6",
           "caxis": {
            "gridcolor": "white",
            "linecolor": "white",
            "ticks": ""
           }
          },
          "title": {
           "x": 0.05
          },
          "xaxis": {
           "automargin": true,
           "gridcolor": "white",
           "linecolor": "white",
           "ticks": "",
           "title": {
            "standoff": 15
           },
           "zerolinecolor": "white",
           "zerolinewidth": 2
          },
          "yaxis": {
           "automargin": true,
           "gridcolor": "white",
           "linecolor": "white",
           "ticks": "",
           "title": {
            "standoff": 15
           },
           "zerolinecolor": "white",
           "zerolinewidth": 2
          }
         }
        },
        "width": 900
       }
      },
      "text/html": [
       "<div>                            <div id=\"6870e3e2-b14b-4e36-8c77-e391f25c1c55\" class=\"plotly-graph-div\" style=\"height:300px; width:900px;\"></div>            <script type=\"text/javascript\">                require([\"plotly\"], function(Plotly) {                    window.PLOTLYENV=window.PLOTLYENV || {};                                    if (document.getElementById(\"6870e3e2-b14b-4e36-8c77-e391f25c1c55\")) {                    Plotly.newPlot(                        \"6870e3e2-b14b-4e36-8c77-e391f25c1c55\",                        [{\"cells\":{\"fill\":{\"color\":[\"#ccffcc\",\"#ccffcc\",\"#ccffcc\",\"#e6ffb3\",\"#ffcccc\"]},\"values\":[\"<b>70</b>\",49,72,67,61]},\"columnwidth\":[100,100],\"header\":{\"values\":[\"<b>Your CV Coverage [%]</b>\",\"Data Scientist<br>Top 10% [%]\",\"Data Scientist <br>Top 25% [%]\",\"Data Scientist<br>Top 50% [%]\",\"Data Scientist<br>Average [%]\"]},\"type\":\"table\"}],                        {\"height\":300,\"template\":{\"data\":{\"bar\":[{\"error_x\":{\"color\":\"#2a3f5f\"},\"error_y\":{\"color\":\"#2a3f5f\"},\"marker\":{\"line\":{\"color\":\"#E5ECF6\",\"width\":0.5},\"pattern\":{\"fillmode\":\"overlay\",\"size\":10,\"solidity\":0.2}},\"type\":\"bar\"}],\"barpolar\":[{\"marker\":{\"line\":{\"color\":\"#E5ECF6\",\"width\":0.5},\"pattern\":{\"fillmode\":\"overlay\",\"size\":10,\"solidity\":0.2}},\"type\":\"barpolar\"}],\"carpet\":[{\"aaxis\":{\"endlinecolor\":\"#2a3f5f\",\"gridcolor\":\"white\",\"linecolor\":\"white\",\"minorgridcolor\":\"white\",\"startlinecolor\":\"#2a3f5f\"},\"baxis\":{\"endlinecolor\":\"#2a3f5f\",\"gridcolor\":\"white\",\"linecolor\":\"white\",\"minorgridcolor\":\"white\",\"startlinecolor\":\"#2a3f5f\"},\"type\":\"carpet\"}],\"choropleth\":[{\"colorbar\":{\"outlinewidth\":0,\"ticks\":\"\"},\"type\":\"choropleth\"}],\"contour\":[{\"colorbar\":{\"outlinewidth\":0,\"ticks\":\"\"},\"colorscale\":[[0.0,\"#0d0887\"],[0.1111111111111111,\"#46039f\"],[0.2222222222222222,\"#7201a8\"],[0.3333333333333333,\"#9c179e\"],[0.4444444444444444,\"#bd3786\"],[0.5555555555555556,\"#d8576b\"],[0.6666666666666666,\"#ed7953\"],[0.7777777777777778,\"#fb9f3a\"],[0.8888888888888888,\"#fdca26\"],[1.0,\"#f0f921\"]],\"type\":\"contour\"}],\"contourcarpet\":[{\"colorbar\":{\"outlinewidth\":0,\"ticks\":\"\"},\"type\":\"contourcarpet\"}],\"heatmap\":[{\"colorbar\":{\"outlinewidth\":0,\"ticks\":\"\"},\"colorscale\":[[0.0,\"#0d0887\"],[0.1111111111111111,\"#46039f\"],[0.2222222222222222,\"#7201a8\"],[0.3333333333333333,\"#9c179e\"],[0.4444444444444444,\"#bd3786\"],[0.5555555555555556,\"#d8576b\"],[0.6666666666666666,\"#ed7953\"],[0.7777777777777778,\"#fb9f3a\"],[0.8888888888888888,\"#fdca26\"],[1.0,\"#f0f921\"]],\"type\":\"heatmap\"}],\"heatmapgl\":[{\"colorbar\":{\"outlinewidth\":0,\"ticks\":\"\"},\"colorscale\":[[0.0,\"#0d0887\"],[0.1111111111111111,\"#46039f\"],[0.2222222222222222,\"#7201a8\"],[0.3333333333333333,\"#9c179e\"],[0.4444444444444444,\"#bd3786\"],[0.5555555555555556,\"#d8576b\"],[0.6666666666666666,\"#ed7953\"],[0.7777777777777778,\"#fb9f3a\"],[0.8888888888888888,\"#fdca26\"],[1.0,\"#f0f921\"]],\"type\":\"heatmapgl\"}],\"histogram\":[{\"marker\":{\"pattern\":{\"fillmode\":\"overlay\",\"size\":10,\"solidity\":0.2}},\"type\":\"histogram\"}],\"histogram2d\":[{\"colorbar\":{\"outlinewidth\":0,\"ticks\":\"\"},\"colorscale\":[[0.0,\"#0d0887\"],[0.1111111111111111,\"#46039f\"],[0.2222222222222222,\"#7201a8\"],[0.3333333333333333,\"#9c179e\"],[0.4444444444444444,\"#bd3786\"],[0.5555555555555556,\"#d8576b\"],[0.6666666666666666,\"#ed7953\"],[0.7777777777777778,\"#fb9f3a\"],[0.8888888888888888,\"#fdca26\"],[1.0,\"#f0f921\"]],\"type\":\"histogram2d\"}],\"histogram2dcontour\":[{\"colorbar\":{\"outlinewidth\":0,\"ticks\":\"\"},\"colorscale\":[[0.0,\"#0d0887\"],[0.1111111111111111,\"#46039f\"],[0.2222222222222222,\"#7201a8\"],[0.3333333333333333,\"#9c179e\"],[0.4444444444444444,\"#bd3786\"],[0.5555555555555556,\"#d8576b\"],[0.6666666666666666,\"#ed7953\"],[0.7777777777777778,\"#fb9f3a\"],[0.8888888888888888,\"#fdca26\"],[1.0,\"#f0f921\"]],\"type\":\"histogram2dcontour\"}],\"mesh3d\":[{\"colorbar\":{\"outlinewidth\":0,\"ticks\":\"\"},\"type\":\"mesh3d\"}],\"parcoords\":[{\"line\":{\"colorbar\":{\"outlinewidth\":0,\"ticks\":\"\"}},\"type\":\"parcoords\"}],\"pie\":[{\"automargin\":true,\"type\":\"pie\"}],\"scatter\":[{\"marker\":{\"colorbar\":{\"outlinewidth\":0,\"ticks\":\"\"}},\"type\":\"scatter\"}],\"scatter3d\":[{\"line\":{\"colorbar\":{\"outlinewidth\":0,\"ticks\":\"\"}},\"marker\":{\"colorbar\":{\"outlinewidth\":0,\"ticks\":\"\"}},\"type\":\"scatter3d\"}],\"scattercarpet\":[{\"marker\":{\"colorbar\":{\"outlinewidth\":0,\"ticks\":\"\"}},\"type\":\"scattercarpet\"}],\"scattergeo\":[{\"marker\":{\"colorbar\":{\"outlinewidth\":0,\"ticks\":\"\"}},\"type\":\"scattergeo\"}],\"scattergl\":[{\"marker\":{\"colorbar\":{\"outlinewidth\":0,\"ticks\":\"\"}},\"type\":\"scattergl\"}],\"scattermapbox\":[{\"marker\":{\"colorbar\":{\"outlinewidth\":0,\"ticks\":\"\"}},\"type\":\"scattermapbox\"}],\"scatterpolar\":[{\"marker\":{\"colorbar\":{\"outlinewidth\":0,\"ticks\":\"\"}},\"type\":\"scatterpolar\"}],\"scatterpolargl\":[{\"marker\":{\"colorbar\":{\"outlinewidth\":0,\"ticks\":\"\"}},\"type\":\"scatterpolargl\"}],\"scatterternary\":[{\"marker\":{\"colorbar\":{\"outlinewidth\":0,\"ticks\":\"\"}},\"type\":\"scatterternary\"}],\"surface\":[{\"colorbar\":{\"outlinewidth\":0,\"ticks\":\"\"},\"colorscale\":[[0.0,\"#0d0887\"],[0.1111111111111111,\"#46039f\"],[0.2222222222222222,\"#7201a8\"],[0.3333333333333333,\"#9c179e\"],[0.4444444444444444,\"#bd3786\"],[0.5555555555555556,\"#d8576b\"],[0.6666666666666666,\"#ed7953\"],[0.7777777777777778,\"#fb9f3a\"],[0.8888888888888888,\"#fdca26\"],[1.0,\"#f0f921\"]],\"type\":\"surface\"}],\"table\":[{\"cells\":{\"fill\":{\"color\":\"#EBF0F8\"},\"line\":{\"color\":\"white\"}},\"header\":{\"fill\":{\"color\":\"#C8D4E3\"},\"line\":{\"color\":\"white\"}},\"type\":\"table\"}]},\"layout\":{\"annotationdefaults\":{\"arrowcolor\":\"#2a3f5f\",\"arrowhead\":0,\"arrowwidth\":1},\"autotypenumbers\":\"strict\",\"coloraxis\":{\"colorbar\":{\"outlinewidth\":0,\"ticks\":\"\"}},\"colorscale\":{\"diverging\":[[0,\"#8e0152\"],[0.1,\"#c51b7d\"],[0.2,\"#de77ae\"],[0.3,\"#f1b6da\"],[0.4,\"#fde0ef\"],[0.5,\"#f7f7f7\"],[0.6,\"#e6f5d0\"],[0.7,\"#b8e186\"],[0.8,\"#7fbc41\"],[0.9,\"#4d9221\"],[1,\"#276419\"]],\"sequential\":[[0.0,\"#0d0887\"],[0.1111111111111111,\"#46039f\"],[0.2222222222222222,\"#7201a8\"],[0.3333333333333333,\"#9c179e\"],[0.4444444444444444,\"#bd3786\"],[0.5555555555555556,\"#d8576b\"],[0.6666666666666666,\"#ed7953\"],[0.7777777777777778,\"#fb9f3a\"],[0.8888888888888888,\"#fdca26\"],[1.0,\"#f0f921\"]],\"sequentialminus\":[[0.0,\"#0d0887\"],[0.1111111111111111,\"#46039f\"],[0.2222222222222222,\"#7201a8\"],[0.3333333333333333,\"#9c179e\"],[0.4444444444444444,\"#bd3786\"],[0.5555555555555556,\"#d8576b\"],[0.6666666666666666,\"#ed7953\"],[0.7777777777777778,\"#fb9f3a\"],[0.8888888888888888,\"#fdca26\"],[1.0,\"#f0f921\"]]},\"colorway\":[\"#636efa\",\"#EF553B\",\"#00cc96\",\"#ab63fa\",\"#FFA15A\",\"#19d3f3\",\"#FF6692\",\"#B6E880\",\"#FF97FF\",\"#FECB52\"],\"font\":{\"color\":\"#2a3f5f\"},\"geo\":{\"bgcolor\":\"white\",\"lakecolor\":\"white\",\"landcolor\":\"#E5ECF6\",\"showlakes\":true,\"showland\":true,\"subunitcolor\":\"white\"},\"hoverlabel\":{\"align\":\"left\"},\"hovermode\":\"closest\",\"mapbox\":{\"style\":\"light\"},\"paper_bgcolor\":\"white\",\"plot_bgcolor\":\"#E5ECF6\",\"polar\":{\"angularaxis\":{\"gridcolor\":\"white\",\"linecolor\":\"white\",\"ticks\":\"\"},\"bgcolor\":\"#E5ECF6\",\"radialaxis\":{\"gridcolor\":\"white\",\"linecolor\":\"white\",\"ticks\":\"\"}},\"scene\":{\"xaxis\":{\"backgroundcolor\":\"#E5ECF6\",\"gridcolor\":\"white\",\"gridwidth\":2,\"linecolor\":\"white\",\"showbackground\":true,\"ticks\":\"\",\"zerolinecolor\":\"white\"},\"yaxis\":{\"backgroundcolor\":\"#E5ECF6\",\"gridcolor\":\"white\",\"gridwidth\":2,\"linecolor\":\"white\",\"showbackground\":true,\"ticks\":\"\",\"zerolinecolor\":\"white\"},\"zaxis\":{\"backgroundcolor\":\"#E5ECF6\",\"gridcolor\":\"white\",\"gridwidth\":2,\"linecolor\":\"white\",\"showbackground\":true,\"ticks\":\"\",\"zerolinecolor\":\"white\"}},\"shapedefaults\":{\"line\":{\"color\":\"#2a3f5f\"}},\"ternary\":{\"aaxis\":{\"gridcolor\":\"white\",\"linecolor\":\"white\",\"ticks\":\"\"},\"baxis\":{\"gridcolor\":\"white\",\"linecolor\":\"white\",\"ticks\":\"\"},\"bgcolor\":\"#E5ECF6\",\"caxis\":{\"gridcolor\":\"white\",\"linecolor\":\"white\",\"ticks\":\"\"}},\"title\":{\"x\":0.05},\"xaxis\":{\"automargin\":true,\"gridcolor\":\"white\",\"linecolor\":\"white\",\"ticks\":\"\",\"title\":{\"standoff\":15},\"zerolinecolor\":\"white\",\"zerolinewidth\":2},\"yaxis\":{\"automargin\":true,\"gridcolor\":\"white\",\"linecolor\":\"white\",\"ticks\":\"\",\"title\":{\"standoff\":15},\"zerolinecolor\":\"white\",\"zerolinewidth\":2}}},\"width\":900},                        {\"responsive\": true}                    ).then(function(){\n",
       "                            \n",
       "var gd = document.getElementById('6870e3e2-b14b-4e36-8c77-e391f25c1c55');\n",
       "var x = new MutationObserver(function (mutations, observer) {{\n",
       "        var display = window.getComputedStyle(gd).display;\n",
       "        if (!display || display === 'none') {{\n",
       "            console.log([gd, 'removed!']);\n",
       "            Plotly.purge(gd);\n",
       "            observer.disconnect();\n",
       "        }}\n",
       "}});\n",
       "\n",
       "// Listen for the removal of the full notebook cells\n",
       "var notebookContainer = gd.closest('#notebook-container');\n",
       "if (notebookContainer) {{\n",
       "    x.observe(notebookContainer, {childList: true});\n",
       "}}\n",
       "\n",
       "// Listen for the clearing of the current output cell\n",
       "var outputEl = gd.closest('.output');\n",
       "if (outputEl) {{\n",
       "    x.observe(outputEl, {childList: true});\n",
       "}}\n",
       "\n",
       "                        })                };                });            </script>        </div>"
      ]
     },
     "metadata": {},
     "output_type": "display_data"
    }
   ],
   "source": [
    "def get_overview(score):\n",
    "    \n",
    "    fill_color = []\n",
    "    n = 5\n",
    "\n",
    "    vals = [round(score, 2),72,67,61,49]\n",
    "    \n",
    "    fill_color = []\n",
    "    for v in vals:\n",
    "        if v<=vals[4]:#less then average\n",
    "            fill_color.append('#ffcccc')\n",
    "        elif v<vals[3]:#less than top50\n",
    "            fill_color.append('#fff5e6')\n",
    "        elif v<vals[2]:#less than top25\n",
    "            fill_color.append('#e6ffb3')\n",
    "        else:\n",
    "            fill_color.append('#ccffcc')\n",
    "        \n",
    "    vals = ['<b>'+str(round(score, 2))+'</b>',49,72,67,61]    \n",
    "    \n",
    "    \n",
    "    fig = go.Figure(data=[go.Table(\n",
    "        columnwidth = [100,100],\n",
    "        header=dict(values=['<b>Your CV Coverage [%]</b>','Data Scientist<br>Top 10% [%]','Data Scientist <br>Top 25% [%]', 'Data Scientist<br>Top 50% [%]','Data Scientist<br>Average [%]']),\n",
    "        cells=dict(values=vals, fill_color = fill_color)\n",
    "    )])\n",
    "    \n",
    "    \n",
    "    fig.update_layout(height = 1*300, width = 3*300)\n",
    "    \n",
    "    return(fig)\n",
    "get_overview(70)"
   ]
  },
  {
   "cell_type": "code",
   "execution_count": null,
   "metadata": {},
   "outputs": [],
   "source": []
  }
 ],
 "metadata": {
  "kernelspec": {
   "display_name": "Python 3",
   "language": "python",
   "name": "python3"
  },
  "language_info": {
   "codemirror_mode": {
    "name": "ipython",
    "version": 3
   },
   "file_extension": ".py",
   "mimetype": "text/x-python",
   "name": "python",
   "nbconvert_exporter": "python",
   "pygments_lexer": "ipython3",
   "version": "3.8.8"
  }
 },
 "nbformat": 4,
 "nbformat_minor": 4
}
