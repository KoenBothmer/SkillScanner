{
 "cells": [
  {
   "cell_type": "code",
   "execution_count": 1,
   "metadata": {},
   "outputs": [
    {
     "name": "stderr",
     "output_type": "stream",
     "text": [
      "/opt/conda/lib/python3.8/site-packages/sklearn/base.py:324: UserWarning: Trying to unpickle estimator KMeans from version 0.23.1 when using version 1.0. This might lead to breaking code or invalid results. Use at your own risk. For more info please refer to:\n",
      "https://scikit-learn.org/stable/modules/model_persistence.html#security-maintainability-limitations\n",
      "  warnings.warn(\n"
     ]
    }
   ],
   "source": [
    "from flask import Flask, render_template, redirect, url_for\n",
    "from flask_bootstrap import Bootstrap\n",
    "from flask_wtf import FlaskForm\n",
    "from wtforms import StringField, SubmitField\n",
    "from wtforms.validators import DataRequired\n",
    "\n",
    "from sentence_transformers import SentenceTransformer, util\n",
    "from sklearn.cluster import KMeans\n",
    "import pickle\n",
    "\n",
    "from fpdf import FPDF\n",
    "from flask import send_file\n",
    "import fpdf\n",
    "import pandas as pd\n",
    "pd.options.plotting.backend = \"plotly\"\n",
    "import plotly as plt\n",
    "import numpy as np\n",
    "import plotly.express as px\n",
    "import plotly.graph_objects as go\n",
    "\n",
    "k31_full = pickle.load(open('docker/k_31_full', 'rb'))\n",
    "cluster_label_bigrams = pickle.load(open('docker/cluster_label_bigrams','rb')) \n",
    "cluster_importance = pickle.load(open('docker/cluster_importance', 'rb'))\n",
    "\n",
    "df_cv_summary = pd.read_csv('df_cv_summary.csv',index_col=0)"
   ]
  },
  {
   "cell_type": "code",
   "execution_count": 66,
   "metadata": {},
   "outputs": [
    {
     "name": "stdout",
     "output_type": "stream",
     "text": [
      "Thank you for downloading this customized CV analysis report. This report contains the outcome of a clustering analysis of your input skillset. We compared the skillset you provided to the skills required by hiring companies. This analysis is based on 21509 job requirements extracted from 2633 \"Data Scientist\" vacancy texts. This technique can be used to gain insight into how well a CV fits to the demand of employers. If you are looking for a job in data science this technique can be used to determine the most important skill gaps in your CV and to finetune your CV to employers demands. If you are a hiring manager or recruiter this technique can be used to complement the assessment of applicants CV's.\n",
      "\n",
      "The methodology is based on a 2-step data pipeline where skills are processed using state of the art Natural Language Processing techniques (the Sentence-Transformers library), these processed skills are then compared to the most important skill clusters found in the dataset of 21509 job requirements. The methodology is developed as part of my thesis \"Artificial Intelligence Driven Methods for the Analysis of Job Postings\", accessible on https://github.com/koenbothmer/thesis. \n",
      "\n"
     ]
    }
   ],
   "source": [
    "file = open(\"text/intro.txt\")\n",
    "intro = file.read()#.replace(\"\\n\", \" \")\n",
    "\n",
    "intro = intro.encode('latin-1', 'replace').decode('latin-1')\n",
    "file.close()\n",
    "print(intro)\n",
    "\n",
    "file = open(\"text/plot_explanation.txt\")\n",
    "plot_explanation = file.read()\n",
    "plot_explanation = plot_explanation.encode('latin-1', 'replace').decode('latin-1')\n",
    "file.close()\n",
    "\n",
    "file = open(\"text/per_skill_description.txt\")\n",
    "per_skill_description = file.read().replace(\"/n\", \" \").replace(\"\\br\", \"\\n\")\n",
    "per_skill_description = per_skill_description.encode('latin-1', 'replace').decode('latin-1')\n",
    "file.close()\n",
    "\n",
    "file = open(\"text/table_description.txt\")\n",
    "table_description = file.read().replace(\"/n\", \" \").replace(\"\\br\", \"\\n\")\n",
    "table_description = table_description.encode('latin-1', 'replace').decode('latin-1')\n",
    "file.close()"
   ]
  },
  {
   "cell_type": "code",
   "execution_count": 74,
   "metadata": {},
   "outputs": [
    {
     "data": {
      "text/plain": [
       "''"
      ]
     },
     "execution_count": 74,
     "metadata": {},
     "output_type": "execute_result"
    }
   ],
   "source": [
    "def return_pdf(skills):\n",
    "    analysis = get_plot(skills)\n",
    "    plot = analysis[0]\n",
    "    df = analysis[1]\n",
    "    df_sim = analysis[2]\n",
    "    cv_scores = analysis[3]\n",
    "    \n",
    "    plot.write_image(\"fig1.png\", scale=1)#, width=500, height=750)\n",
    "    \n",
    "    table = get_table(cv_scores)\n",
    "    table.write_image(\"table1.png\")\n",
    "    \n",
    "    pdf=FPDF('P', 'mm', 'A4')\n",
    "    pdf.add_page()\n",
    "    \n",
    "    pdf.set_font('Arial', 'B', 14) #setting font for title\n",
    "    pdf.cell(40, 0, 'Data Scientist CV Review Report', ln=2) #Write Title\n",
    "    pdf.set_font('Arial', '', 9) #setting font for text cells\n",
    "    pdf.set_xy(10,15) #place cursor\n",
    "    pdf.multi_cell(w=190, h=5, txt=intro, align='J')\n",
    "    \n",
    "    #Total Score Output\n",
    "    total_score = df['score'].mean()\n",
    "    total_score_s = str(round(total_score,2))\n",
    "    competition_mean = 0.49\n",
    "    competition_mean_s = \"0.49\"\n",
    "    top10 = 0.72\n",
    "    top10_s = \"0.72\"\n",
    "    top25 = 0.67\n",
    "    top25_s = \"0.67\"\n",
    "    top50 = 0.61\n",
    "    top50_s = \"0.61\"\n",
    "    text = \"Your total score is \"+total_score_s+\" This is \"\n",
    "    if total_score<competition_mean:\n",
    "        text = text+\"a low score in comparison to a dataset of 65 Data Scientist CV's. \"\n",
    "    elif total_score<top25:\n",
    "        text = text+\"an average score in comparison to a dataset of 65 Data Scientist CV's. \"\n",
    "        if(total_score<top50):\n",
    "            text = text+\"Please note that allthough you score is average, more than 50% of Data Scientist CV's score better than yours. \"\n",
    "    else:\n",
    "        text = text+\"a high score in comparison to a dataset of 65 Data Scientist CV's. \"\n",
    "    text = text+\"The mean score among these data scientist CV's is \"\\\n",
    "    +competition_mean_s+\". The top 10% of these CV's scored \"+top10_s \\\n",
    "    +\". The top 25% of these CV's scored \"+top25_s+\". The top 50% of these CV's scored \"+top50_s+\".\"\n",
    "    \n",
    "    text = text.encode('latin-1', 'replace').decode('latin-1')\n",
    "    pdf.set_xy(pdf.get_x(), pdf.get_y()+5)\n",
    "    pdf.set_font('Arial', 'B', 11) #setting font for title\n",
    "    pdf.cell(40, 0, 'Your Score: '+total_score_s, ln=2) #Write Title\n",
    "    pdf.set_font('Arial', '', 9)\n",
    "    pdf.set_xy(pdf.get_x(), pdf.get_y()+5)\n",
    "    pdf.multi_cell(w=190, h=5, txt=text)\n",
    "    \n",
    "    pdf.set_xy(pdf.get_x(), pdf.get_y()+5)\n",
    "    pdf.set_font('Arial', 'B', 11) #setting font for title\n",
    "    pdf.cell(40, 0, 'Comparrison Plot', ln=2) #Write Title\n",
    "    pdf.set_font('Arial', '', 9)\n",
    "    pdf.set_xy(pdf.get_x(), pdf.get_y()+5)\n",
    "    pdf.multi_cell(w=190, h=5, txt=plot_explanation)\n",
    "    \n",
    "    pdf.image('fig1.png', w=200)#x = pdf.get_x, y = 15, w = 200)#, h = 200, type = '', link = '')\n",
    "    \n",
    "    pdf.add_page()\n",
    "    pdf.set_font('Arial', 'B', 11) #setting font for title\n",
    "    pdf.cell(40, 0, 'Analysis per input skill', ln=2) #Write Title\n",
    "    pdf.set_font('Arial', '', 9)\n",
    "    pdf.set_xy(pdf.get_x(), pdf.get_y()+5)\n",
    "    pdf.multi_cell(w=190, h=5, txt=per_skill_description)\n",
    "    pdf.set_xy(pdf.get_x(),pdf.get_y()+5)\n",
    "    \n",
    "    for index, row in df.iterrows():\n",
    "        mean_score = df_cv_summary[df_cv_summary['cluster']==row['cluster']]['mean'].mean()\n",
    "        mean_score_s = str(round(mean_score,2))\n",
    "        score = round(row['score'],2)\n",
    "        text = \"Input Skill \"+str(index+1)+\":\\nYour input skill \\\"\"+row['skill']+\"\\\" was clustered in cluster \"+str(row['cluster'])+\\\n",
    "        \" which contains skills regarding \"+cluster_label_bigrams[row['cluster']]+\\\n",
    "        \". Your score for this skill is \"+str(score)+\".\"\n",
    "        \n",
    "        if score<mean_score:\n",
    "            text = text + \"This score is quite low, the average score among Data Scientist CV's is \"+mean_score_s+\" this may be due to a misclassification of our model but this could also indicate an opportunity to further clarify your CV.\"\n",
    "        else:\n",
    "            text = text + \" this is above the average score among Data Scientist CV's which is \"+mean_score_s\n",
    "            \n",
    "        text = text+\"\\n------------------------------------------------------------------\\n\"\n",
    "        \n",
    "        text = text.encode('latin-1', 'replace').decode('latin-1')\n",
    "        pdf.multi_cell(w=190, h=5, txt = text)\n",
    "    \n",
    "    pdf.add_page()\n",
    "    pdf.set_font('Arial', 'B', 11) #setting font for title\n",
    "    pdf.cell(40, 0, 'Your score compared to Data Scientist CV\\'s', ln=2) #Write Title\n",
    "    pdf.set_font('Arial', '', 9)\n",
    "    pdf.set_xy(pdf.get_x(), pdf.get_y()+5)\n",
    "    pdf.multi_cell(w=190, h=5, txt=table_description)\n",
    "    pdf.set_xy(pdf.get_x(),pdf.get_y()+5)\n",
    "    pdf.image('table1.png',w=200)\n",
    "    return pdf\n",
    "skills = ['programming skills','computer science','experience as a software developer','using git and github','machine learning techniques']\n",
    "pdf = return_pdf(skills)\n",
    "pdf.output('report.pdf', 'F')"
   ]
  },
  {
   "cell_type": "code",
   "execution_count": 64,
   "metadata": {},
   "outputs": [],
   "source": [
    "def get_plot(cv): #takes in list of skills and returns a plot with score for each cluster\n",
    "    df_sim = pd.DataFrame()\n",
    "    df_sim['cluster'] = range(len(k31_full.cluster_centers_))\n",
    "    \n",
    "    labels = cluster_label_bigrams\n",
    "    importance = cluster_importance\n",
    "    \n",
    "    model = 'all-distilroberta-v1'\n",
    "    model = SentenceTransformer(model)\n",
    "    embeddings_cv = model.encode(cv)\n",
    "    embeddings_f = embeddings_cv.astype(float)\n",
    "    clusters_cv = k31_full.predict(embeddings_f)\n",
    "    clusters_cv_l  = clusters_cv.tolist()\n",
    "    \n",
    "    cv_scores = []\n",
    "    \n",
    "    for i, cluster in enumerate(clusters_cv):\n",
    "        cv_scores.append(util.pytorch_cos_sim(k31_full.cluster_centers_[cluster], embeddings_f[i]).item())\n",
    "    \n",
    "    df_report = pd.DataFrame()\n",
    "    df_report['skill']=cv\n",
    "    df_report['cluster']=clusters_cv_l\n",
    "    df_report['score']=cv_scores\n",
    "    \n",
    "    scores = []\n",
    "    for cluster in range(len(k31_full.cluster_centers_)):\n",
    "        if cluster not in clusters_cv_l:\n",
    "            scores.append(0)\n",
    "        else:\n",
    "            score = 0\n",
    "            indexes = np.where(clusters_cv==cluster)[0]\n",
    "            for i in indexes:\n",
    "                if cv_scores[i] > score:\n",
    "                    score = cv_scores[i]\n",
    "            scores.append(score)   \n",
    "    \n",
    "    df_sim['score'] = scores\n",
    "    df_sim['importance'] = importance\n",
    "    df_sim['labels'] = labels\n",
    "    \n",
    "    df_sim['CV_similarity'] = df_sim['importance']*df_sim['score']\n",
    "    df_sim['Importance_Cluster_in_Job_Postings'] = df_sim['importance']-df_sim['CV_similarity']\n",
    "    df_sim = df_sim.sort_values('importance')\n",
    "    \n",
    "    fig = px.bar(df_sim, y='labels', x=[\"CV_similarity\",\"Importance_Cluster_in_Job_Postings\"], hover_data = ['importance'])\n",
    "    fig.update_layout(height=2*300, width=3*300, \\\n",
    "                          #font=dict(size=10),\\\n",
    "                          title = 'Input CV Similarity to Requirements in Job Postings',\\\n",
    "                          barmode='stack', \\\n",
    "                          yaxis_title=\"Common Bigrams in Cluster\",\\\n",
    "                          xaxis_title=\"CV Similarity to Cluster\")\n",
    "    return fig, df_report, df_sim, scores"
   ]
  },
  {
   "cell_type": "code",
   "execution_count": 62,
   "metadata": {},
   "outputs": [
    {
     "data": {
      "text/html": [
       "<div>\n",
       "<style scoped>\n",
       "    .dataframe tbody tr th:only-of-type {\n",
       "        vertical-align: middle;\n",
       "    }\n",
       "\n",
       "    .dataframe tbody tr th {\n",
       "        vertical-align: top;\n",
       "    }\n",
       "\n",
       "    .dataframe thead th {\n",
       "        text-align: right;\n",
       "    }\n",
       "</style>\n",
       "<table border=\"1\" class=\"dataframe\">\n",
       "  <thead>\n",
       "    <tr style=\"text-align: right;\">\n",
       "      <th></th>\n",
       "      <th>cluster</th>\n",
       "      <th>mean</th>\n",
       "      <th>top10</th>\n",
       "      <th>top25</th>\n",
       "      <th>top50</th>\n",
       "      <th>your_score</th>\n",
       "      <th>label</th>\n",
       "    </tr>\n",
       "  </thead>\n",
       "  <tbody>\n",
       "    <tr>\n",
       "      <th>0</th>\n",
       "      <td>0</td>\n",
       "      <td>0.608419</td>\n",
       "      <td>0.741529</td>\n",
       "      <td>0.741529</td>\n",
       "      <td>0.729056</td>\n",
       "      <td>1</td>\n",
       "      <td>Cluster 0: team player, ability work, team mem...</td>\n",
       "    </tr>\n",
       "    <tr>\n",
       "      <th>1</th>\n",
       "      <td>1</td>\n",
       "      <td>0.551494</td>\n",
       "      <td>0.703803</td>\n",
       "      <td>0.675434</td>\n",
       "      <td>0.636142</td>\n",
       "      <td>1</td>\n",
       "      <td>Cluster 1: knowledge sql, relational databases...</td>\n",
       "    </tr>\n",
       "    <tr>\n",
       "      <th>2</th>\n",
       "      <td>2</td>\n",
       "      <td>0.482737</td>\n",
       "      <td>0.617688</td>\n",
       "      <td>0.528488</td>\n",
       "      <td>0.496814</td>\n",
       "      <td>1</td>\n",
       "      <td>Cluster 2: ability work, work independently, f...</td>\n",
       "    </tr>\n",
       "    <tr>\n",
       "      <th>3</th>\n",
       "      <td>3</td>\n",
       "      <td>0.613144</td>\n",
       "      <td>NaN</td>\n",
       "      <td>NaN</td>\n",
       "      <td>0.677110</td>\n",
       "      <td>1</td>\n",
       "      <td>Cluster 3: years experience, related field, ye...</td>\n",
       "    </tr>\n",
       "    <tr>\n",
       "      <th>4</th>\n",
       "      <td>4</td>\n",
       "      <td>0.629738</td>\n",
       "      <td>0.791149</td>\n",
       "      <td>0.791149</td>\n",
       "      <td>0.735015</td>\n",
       "      <td>1</td>\n",
       "      <td>Cluster 4: learn new, new technologies, eager ...</td>\n",
       "    </tr>\n",
       "  </tbody>\n",
       "</table>\n",
       "</div>"
      ],
      "text/plain": [
       "   cluster      mean     top10     top25     top50  your_score  \\\n",
       "0        0  0.608419  0.741529  0.741529  0.729056           1   \n",
       "1        1  0.551494  0.703803  0.675434  0.636142           1   \n",
       "2        2  0.482737  0.617688  0.528488  0.496814           1   \n",
       "3        3  0.613144       NaN       NaN  0.677110           1   \n",
       "4        4  0.629738  0.791149  0.791149  0.735015           1   \n",
       "\n",
       "                                               label  \n",
       "0  Cluster 0: team player, ability work, team mem...  \n",
       "1  Cluster 1: knowledge sql, relational databases...  \n",
       "2  Cluster 2: ability work, work independently, f...  \n",
       "3  Cluster 3: years experience, related field, ye...  \n",
       "4  Cluster 4: learn new, new technologies, eager ...  "
      ]
     },
     "execution_count": 62,
     "metadata": {},
     "output_type": "execute_result"
    }
   ],
   "source": [
    "df_cv_summary.head()"
   ]
  },
  {
   "cell_type": "code",
   "execution_count": 73,
   "metadata": {},
   "outputs": [
    {
     "data": {
      "application/vnd.plotly.v1+json": {
       "config": {
        "plotlyServerURL": "https://plot.ly"
       },
       "data": [
        {
         "cells": {
          "values": [
           [
            "Cluster 0: team player, ability work, team members",
            "Cluster 1: knowledge sql, relational databases, sql queries",
            "Cluster 2: ability work, work independently, fast-paced environment",
            "Cluster 3: years experience, related field, years relevant",
            "Cluster 4: learn new, new technologies, eager learn",
            "Cluster 5: track record, research projects, scientific technical",
            "Cluster 6: machine learning, learning models, learning algorithms",
            "Cluster 7: communication skills, excellent communication, skills excellent",
            "Cluster 8: big data, experience working, experience big",
            "Cluster 9: attention detail, natural language, social media",
            "Cluster 10: experience working, software development, project management",
            "Cluster 11: data sets, data analysis, data sources",
            "Cluster 12: machine learning, learning techniques, machine learning,",
            "Cluster 13: data science, data scientists, data scientist",
            "Cluster 14: data visualization, visualization tools, experience data",
            "Cluster 15: years experience, experience data, data science",
            "Cluster 16: business stakeholders, work closely, internal external",
            "Cluster 17: problem-solving skills, problem solving, strong analytical",
            "Cluster 18: programming skills, programming languages, data science",
            "Cluster 19: predictive models, machine learning, model performance",
            "Cluster 20: experience working, single cell, next-generation sequencing",
            "Cluster 21: helping others, people around, lasting mark",
            "Cluster 22: version control, software engineering, best practices",
            "Cluster 23: data analysis, results clear, track record",
            "Cluster 24: deep learning, machine learning, experience deep",
            "Cluster 25: business problems, translate business, understand business",
            "Cluster 26: working environment, work environment, professional development",
            "Cluster 27: experience cloud, google cloud, cloud computing",
            "Cluster 28: fluent english, communication skills, english fluent",
            "Cluster 29: data quality, data management, data pipelines",
            "Cluster 30: computer science, computer science, master’s degree"
           ],
           [
            0,
            1,
            2,
            3,
            4,
            5,
            6,
            7,
            8,
            9,
            10,
            11,
            12,
            13,
            14,
            15,
            16,
            17,
            18,
            19,
            20,
            21,
            22,
            23,
            24,
            25,
            26,
            27,
            28,
            29,
            30
           ],
           [
            0.61,
            0.55,
            0.48,
            0.61,
            0.63,
            0.45,
            0.53,
            0.73,
            0.57,
            0.21,
            0.57,
            0.51,
            0.65,
            0.62,
            0.6,
            0.7,
            0.57,
            0.7,
            0.57,
            0.5,
            0.44,
            0.5,
            0.45,
            0.46,
            0.52,
            0.51,
            0.51,
            0.54,
            0.61,
            0.55,
            0.59
           ],
           [
            0.74,
            0.7,
            0.62,
            null,
            0.79,
            null,
            0.68,
            0.85,
            0.76,
            0.41,
            0.71,
            0.69,
            0.77,
            0.73,
            0.78,
            0.82,
            0.71,
            null,
            0.72,
            0.68,
            0.62,
            null,
            0.63,
            0.65,
            0.72,
            0.68,
            0.67,
            0.73,
            null,
            0.72,
            0.69
           ],
           [
            0.74,
            0.68,
            0.53,
            null,
            0.79,
            0.55,
            0.65,
            0.83,
            0.71,
            0.35,
            0.67,
            0.64,
            0.75,
            0.71,
            0.75,
            0.79,
            0.68,
            null,
            0.69,
            0.64,
            0.58,
            0.68,
            0.59,
            0.6,
            0.68,
            0.64,
            0.62,
            0.67,
            null,
            0.67,
            0.68
           ],
           [
            0.73,
            0.64,
            0.5,
            0.68,
            0.74,
            0.51,
            0.61,
            0.78,
            0.66,
            0.3,
            0.63,
            0.59,
            0.72,
            0.68,
            0.7,
            0.76,
            0.64,
            0.74,
            0.65,
            0.58,
            0.54,
            0.55,
            0.54,
            0.54,
            0.62,
            0.59,
            0.59,
            0.62,
            0.61,
            0.63,
            0.66
           ]
          ]
         },
         "columnwidth": [
          1100,
          100
         ],
         "header": {
          "values": [
           "Skill Cluster",
           "Your Score",
           "Average",
           "Top 10%",
           "Top 25%",
           "Top 50%"
          ]
         },
         "type": "table"
        }
       ],
       "layout": {
        "height": 870,
        "template": {
         "data": {
          "bar": [
           {
            "error_x": {
             "color": "#2a3f5f"
            },
            "error_y": {
             "color": "#2a3f5f"
            },
            "marker": {
             "line": {
              "color": "#E5ECF6",
              "width": 0.5
             },
             "pattern": {
              "fillmode": "overlay",
              "size": 10,
              "solidity": 0.2
             }
            },
            "type": "bar"
           }
          ],
          "barpolar": [
           {
            "marker": {
             "line": {
              "color": "#E5ECF6",
              "width": 0.5
             },
             "pattern": {
              "fillmode": "overlay",
              "size": 10,
              "solidity": 0.2
             }
            },
            "type": "barpolar"
           }
          ],
          "carpet": [
           {
            "aaxis": {
             "endlinecolor": "#2a3f5f",
             "gridcolor": "white",
             "linecolor": "white",
             "minorgridcolor": "white",
             "startlinecolor": "#2a3f5f"
            },
            "baxis": {
             "endlinecolor": "#2a3f5f",
             "gridcolor": "white",
             "linecolor": "white",
             "minorgridcolor": "white",
             "startlinecolor": "#2a3f5f"
            },
            "type": "carpet"
           }
          ],
          "choropleth": [
           {
            "colorbar": {
             "outlinewidth": 0,
             "ticks": ""
            },
            "type": "choropleth"
           }
          ],
          "contour": [
           {
            "colorbar": {
             "outlinewidth": 0,
             "ticks": ""
            },
            "colorscale": [
             [
              0,
              "#0d0887"
             ],
             [
              0.1111111111111111,
              "#46039f"
             ],
             [
              0.2222222222222222,
              "#7201a8"
             ],
             [
              0.3333333333333333,
              "#9c179e"
             ],
             [
              0.4444444444444444,
              "#bd3786"
             ],
             [
              0.5555555555555556,
              "#d8576b"
             ],
             [
              0.6666666666666666,
              "#ed7953"
             ],
             [
              0.7777777777777778,
              "#fb9f3a"
             ],
             [
              0.8888888888888888,
              "#fdca26"
             ],
             [
              1,
              "#f0f921"
             ]
            ],
            "type": "contour"
           }
          ],
          "contourcarpet": [
           {
            "colorbar": {
             "outlinewidth": 0,
             "ticks": ""
            },
            "type": "contourcarpet"
           }
          ],
          "heatmap": [
           {
            "colorbar": {
             "outlinewidth": 0,
             "ticks": ""
            },
            "colorscale": [
             [
              0,
              "#0d0887"
             ],
             [
              0.1111111111111111,
              "#46039f"
             ],
             [
              0.2222222222222222,
              "#7201a8"
             ],
             [
              0.3333333333333333,
              "#9c179e"
             ],
             [
              0.4444444444444444,
              "#bd3786"
             ],
             [
              0.5555555555555556,
              "#d8576b"
             ],
             [
              0.6666666666666666,
              "#ed7953"
             ],
             [
              0.7777777777777778,
              "#fb9f3a"
             ],
             [
              0.8888888888888888,
              "#fdca26"
             ],
             [
              1,
              "#f0f921"
             ]
            ],
            "type": "heatmap"
           }
          ],
          "heatmapgl": [
           {
            "colorbar": {
             "outlinewidth": 0,
             "ticks": ""
            },
            "colorscale": [
             [
              0,
              "#0d0887"
             ],
             [
              0.1111111111111111,
              "#46039f"
             ],
             [
              0.2222222222222222,
              "#7201a8"
             ],
             [
              0.3333333333333333,
              "#9c179e"
             ],
             [
              0.4444444444444444,
              "#bd3786"
             ],
             [
              0.5555555555555556,
              "#d8576b"
             ],
             [
              0.6666666666666666,
              "#ed7953"
             ],
             [
              0.7777777777777778,
              "#fb9f3a"
             ],
             [
              0.8888888888888888,
              "#fdca26"
             ],
             [
              1,
              "#f0f921"
             ]
            ],
            "type": "heatmapgl"
           }
          ],
          "histogram": [
           {
            "marker": {
             "pattern": {
              "fillmode": "overlay",
              "size": 10,
              "solidity": 0.2
             }
            },
            "type": "histogram"
           }
          ],
          "histogram2d": [
           {
            "colorbar": {
             "outlinewidth": 0,
             "ticks": ""
            },
            "colorscale": [
             [
              0,
              "#0d0887"
             ],
             [
              0.1111111111111111,
              "#46039f"
             ],
             [
              0.2222222222222222,
              "#7201a8"
             ],
             [
              0.3333333333333333,
              "#9c179e"
             ],
             [
              0.4444444444444444,
              "#bd3786"
             ],
             [
              0.5555555555555556,
              "#d8576b"
             ],
             [
              0.6666666666666666,
              "#ed7953"
             ],
             [
              0.7777777777777778,
              "#fb9f3a"
             ],
             [
              0.8888888888888888,
              "#fdca26"
             ],
             [
              1,
              "#f0f921"
             ]
            ],
            "type": "histogram2d"
           }
          ],
          "histogram2dcontour": [
           {
            "colorbar": {
             "outlinewidth": 0,
             "ticks": ""
            },
            "colorscale": [
             [
              0,
              "#0d0887"
             ],
             [
              0.1111111111111111,
              "#46039f"
             ],
             [
              0.2222222222222222,
              "#7201a8"
             ],
             [
              0.3333333333333333,
              "#9c179e"
             ],
             [
              0.4444444444444444,
              "#bd3786"
             ],
             [
              0.5555555555555556,
              "#d8576b"
             ],
             [
              0.6666666666666666,
              "#ed7953"
             ],
             [
              0.7777777777777778,
              "#fb9f3a"
             ],
             [
              0.8888888888888888,
              "#fdca26"
             ],
             [
              1,
              "#f0f921"
             ]
            ],
            "type": "histogram2dcontour"
           }
          ],
          "mesh3d": [
           {
            "colorbar": {
             "outlinewidth": 0,
             "ticks": ""
            },
            "type": "mesh3d"
           }
          ],
          "parcoords": [
           {
            "line": {
             "colorbar": {
              "outlinewidth": 0,
              "ticks": ""
             }
            },
            "type": "parcoords"
           }
          ],
          "pie": [
           {
            "automargin": true,
            "type": "pie"
           }
          ],
          "scatter": [
           {
            "marker": {
             "colorbar": {
              "outlinewidth": 0,
              "ticks": ""
             }
            },
            "type": "scatter"
           }
          ],
          "scatter3d": [
           {
            "line": {
             "colorbar": {
              "outlinewidth": 0,
              "ticks": ""
             }
            },
            "marker": {
             "colorbar": {
              "outlinewidth": 0,
              "ticks": ""
             }
            },
            "type": "scatter3d"
           }
          ],
          "scattercarpet": [
           {
            "marker": {
             "colorbar": {
              "outlinewidth": 0,
              "ticks": ""
             }
            },
            "type": "scattercarpet"
           }
          ],
          "scattergeo": [
           {
            "marker": {
             "colorbar": {
              "outlinewidth": 0,
              "ticks": ""
             }
            },
            "type": "scattergeo"
           }
          ],
          "scattergl": [
           {
            "marker": {
             "colorbar": {
              "outlinewidth": 0,
              "ticks": ""
             }
            },
            "type": "scattergl"
           }
          ],
          "scattermapbox": [
           {
            "marker": {
             "colorbar": {
              "outlinewidth": 0,
              "ticks": ""
             }
            },
            "type": "scattermapbox"
           }
          ],
          "scatterpolar": [
           {
            "marker": {
             "colorbar": {
              "outlinewidth": 0,
              "ticks": ""
             }
            },
            "type": "scatterpolar"
           }
          ],
          "scatterpolargl": [
           {
            "marker": {
             "colorbar": {
              "outlinewidth": 0,
              "ticks": ""
             }
            },
            "type": "scatterpolargl"
           }
          ],
          "scatterternary": [
           {
            "marker": {
             "colorbar": {
              "outlinewidth": 0,
              "ticks": ""
             }
            },
            "type": "scatterternary"
           }
          ],
          "surface": [
           {
            "colorbar": {
             "outlinewidth": 0,
             "ticks": ""
            },
            "colorscale": [
             [
              0,
              "#0d0887"
             ],
             [
              0.1111111111111111,
              "#46039f"
             ],
             [
              0.2222222222222222,
              "#7201a8"
             ],
             [
              0.3333333333333333,
              "#9c179e"
             ],
             [
              0.4444444444444444,
              "#bd3786"
             ],
             [
              0.5555555555555556,
              "#d8576b"
             ],
             [
              0.6666666666666666,
              "#ed7953"
             ],
             [
              0.7777777777777778,
              "#fb9f3a"
             ],
             [
              0.8888888888888888,
              "#fdca26"
             ],
             [
              1,
              "#f0f921"
             ]
            ],
            "type": "surface"
           }
          ],
          "table": [
           {
            "cells": {
             "fill": {
              "color": "#EBF0F8"
             },
             "line": {
              "color": "white"
             }
            },
            "header": {
             "fill": {
              "color": "#C8D4E3"
             },
             "line": {
              "color": "white"
             }
            },
            "type": "table"
           }
          ]
         },
         "layout": {
          "annotationdefaults": {
           "arrowcolor": "#2a3f5f",
           "arrowhead": 0,
           "arrowwidth": 1
          },
          "autotypenumbers": "strict",
          "coloraxis": {
           "colorbar": {
            "outlinewidth": 0,
            "ticks": ""
           }
          },
          "colorscale": {
           "diverging": [
            [
             0,
             "#8e0152"
            ],
            [
             0.1,
             "#c51b7d"
            ],
            [
             0.2,
             "#de77ae"
            ],
            [
             0.3,
             "#f1b6da"
            ],
            [
             0.4,
             "#fde0ef"
            ],
            [
             0.5,
             "#f7f7f7"
            ],
            [
             0.6,
             "#e6f5d0"
            ],
            [
             0.7,
             "#b8e186"
            ],
            [
             0.8,
             "#7fbc41"
            ],
            [
             0.9,
             "#4d9221"
            ],
            [
             1,
             "#276419"
            ]
           ],
           "sequential": [
            [
             0,
             "#0d0887"
            ],
            [
             0.1111111111111111,
             "#46039f"
            ],
            [
             0.2222222222222222,
             "#7201a8"
            ],
            [
             0.3333333333333333,
             "#9c179e"
            ],
            [
             0.4444444444444444,
             "#bd3786"
            ],
            [
             0.5555555555555556,
             "#d8576b"
            ],
            [
             0.6666666666666666,
             "#ed7953"
            ],
            [
             0.7777777777777778,
             "#fb9f3a"
            ],
            [
             0.8888888888888888,
             "#fdca26"
            ],
            [
             1,
             "#f0f921"
            ]
           ],
           "sequentialminus": [
            [
             0,
             "#0d0887"
            ],
            [
             0.1111111111111111,
             "#46039f"
            ],
            [
             0.2222222222222222,
             "#7201a8"
            ],
            [
             0.3333333333333333,
             "#9c179e"
            ],
            [
             0.4444444444444444,
             "#bd3786"
            ],
            [
             0.5555555555555556,
             "#d8576b"
            ],
            [
             0.6666666666666666,
             "#ed7953"
            ],
            [
             0.7777777777777778,
             "#fb9f3a"
            ],
            [
             0.8888888888888888,
             "#fdca26"
            ],
            [
             1,
             "#f0f921"
            ]
           ]
          },
          "colorway": [
           "#636efa",
           "#EF553B",
           "#00cc96",
           "#ab63fa",
           "#FFA15A",
           "#19d3f3",
           "#FF6692",
           "#B6E880",
           "#FF97FF",
           "#FECB52"
          ],
          "font": {
           "color": "#2a3f5f"
          },
          "geo": {
           "bgcolor": "white",
           "lakecolor": "white",
           "landcolor": "#E5ECF6",
           "showlakes": true,
           "showland": true,
           "subunitcolor": "white"
          },
          "hoverlabel": {
           "align": "left"
          },
          "hovermode": "closest",
          "mapbox": {
           "style": "light"
          },
          "paper_bgcolor": "white",
          "plot_bgcolor": "#E5ECF6",
          "polar": {
           "angularaxis": {
            "gridcolor": "white",
            "linecolor": "white",
            "ticks": ""
           },
           "bgcolor": "#E5ECF6",
           "radialaxis": {
            "gridcolor": "white",
            "linecolor": "white",
            "ticks": ""
           }
          },
          "scene": {
           "xaxis": {
            "backgroundcolor": "#E5ECF6",
            "gridcolor": "white",
            "gridwidth": 2,
            "linecolor": "white",
            "showbackground": true,
            "ticks": "",
            "zerolinecolor": "white"
           },
           "yaxis": {
            "backgroundcolor": "#E5ECF6",
            "gridcolor": "white",
            "gridwidth": 2,
            "linecolor": "white",
            "showbackground": true,
            "ticks": "",
            "zerolinecolor": "white"
           },
           "zaxis": {
            "backgroundcolor": "#E5ECF6",
            "gridcolor": "white",
            "gridwidth": 2,
            "linecolor": "white",
            "showbackground": true,
            "ticks": "",
            "zerolinecolor": "white"
           }
          },
          "shapedefaults": {
           "line": {
            "color": "#2a3f5f"
           }
          },
          "ternary": {
           "aaxis": {
            "gridcolor": "white",
            "linecolor": "white",
            "ticks": ""
           },
           "baxis": {
            "gridcolor": "white",
            "linecolor": "white",
            "ticks": ""
           },
           "bgcolor": "#E5ECF6",
           "caxis": {
            "gridcolor": "white",
            "linecolor": "white",
            "ticks": ""
           }
          },
          "title": {
           "x": 0.05
          },
          "xaxis": {
           "automargin": true,
           "gridcolor": "white",
           "linecolor": "white",
           "ticks": "",
           "title": {
            "standoff": 15
           },
           "zerolinecolor": "white",
           "zerolinewidth": 2
          },
          "yaxis": {
           "automargin": true,
           "gridcolor": "white",
           "linecolor": "white",
           "ticks": "",
           "title": {
            "standoff": 15
           },
           "zerolinecolor": "white",
           "zerolinewidth": 2
          }
         }
        },
        "width": 900
       }
      },
      "text/html": [
       "<div>                            <div id=\"e98a951d-16d0-434e-bcf6-2a276badeb23\" class=\"plotly-graph-div\" style=\"height:870.0px; width:900px;\"></div>            <script type=\"text/javascript\">                require([\"plotly\"], function(Plotly) {                    window.PLOTLYENV=window.PLOTLYENV || {};                                    if (document.getElementById(\"e98a951d-16d0-434e-bcf6-2a276badeb23\")) {                    Plotly.newPlot(                        \"e98a951d-16d0-434e-bcf6-2a276badeb23\",                        [{\"cells\":{\"values\":[[\"Cluster 0: team player, ability work, team members\",\"Cluster 1: knowledge sql, relational databases, sql queries\",\"Cluster 2: ability work, work independently, fast-paced environment\",\"Cluster 3: years experience, related field, years relevant\",\"Cluster 4: learn new, new technologies, eager learn\",\"Cluster 5: track record, research projects, scientific technical\",\"Cluster 6: machine learning, learning models, learning algorithms\",\"Cluster 7: communication skills, excellent communication, skills excellent\",\"Cluster 8: big data, experience working, experience big\",\"Cluster 9: attention detail, natural language, social media\",\"Cluster 10: experience working, software development, project management\",\"Cluster 11: data sets, data analysis, data sources\",\"Cluster 12: machine learning, learning techniques, machine learning,\",\"Cluster 13: data science, data scientists, data scientist\",\"Cluster 14: data visualization, visualization tools, experience data\",\"Cluster 15: years experience, experience data, data science\",\"Cluster 16: business stakeholders, work closely, internal external\",\"Cluster 17: problem-solving skills, problem solving, strong analytical\",\"Cluster 18: programming skills, programming languages, data science\",\"Cluster 19: predictive models, machine learning, model performance\",\"Cluster 20: experience working, single cell, next-generation sequencing\",\"Cluster 21: helping others, people around, lasting mark\",\"Cluster 22: version control, software engineering, best practices\",\"Cluster 23: data analysis, results clear, track record\",\"Cluster 24: deep learning, machine learning, experience deep\",\"Cluster 25: business problems, translate business, understand business\",\"Cluster 26: working environment, work environment, professional development\",\"Cluster 27: experience cloud, google cloud, cloud computing\",\"Cluster 28: fluent english, communication skills, english fluent\",\"Cluster 29: data quality, data management, data pipelines\",\"Cluster 30: computer science, computer science, master\\u2019s degree\"],[0,1,2,3,4,5,6,7,8,9,10,11,12,13,14,15,16,17,18,19,20,21,22,23,24,25,26,27,28,29,30],[0.61,0.55,0.48,0.61,0.63,0.45,0.53,0.73,0.57,0.21,0.57,0.51,0.65,0.62,0.6,0.7,0.57,0.7,0.57,0.5,0.44,0.5,0.45,0.46,0.52,0.51,0.51,0.54,0.61,0.55,0.59],[0.74,0.7,0.62,null,0.79,null,0.68,0.85,0.76,0.41,0.71,0.69,0.77,0.73,0.78,0.82,0.71,null,0.72,0.68,0.62,null,0.63,0.65,0.72,0.68,0.67,0.73,null,0.72,0.69],[0.74,0.68,0.53,null,0.79,0.55,0.65,0.83,0.71,0.35,0.67,0.64,0.75,0.71,0.75,0.79,0.68,null,0.69,0.64,0.58,0.68,0.59,0.6,0.68,0.64,0.62,0.67,null,0.67,0.68],[0.73,0.64,0.5,0.68,0.74,0.51,0.61,0.78,0.66,0.3,0.63,0.59,0.72,0.68,0.7,0.76,0.64,0.74,0.65,0.58,0.54,0.55,0.54,0.54,0.62,0.59,0.59,0.62,0.61,0.63,0.66]]},\"columnwidth\":[1100,100],\"header\":{\"values\":[\"Skill Cluster\",\"Your Score\",\"Average\",\"Top 10%\",\"Top 25%\",\"Top 50%\"]},\"type\":\"table\"}],                        {\"height\":870.0,\"template\":{\"data\":{\"bar\":[{\"error_x\":{\"color\":\"#2a3f5f\"},\"error_y\":{\"color\":\"#2a3f5f\"},\"marker\":{\"line\":{\"color\":\"#E5ECF6\",\"width\":0.5},\"pattern\":{\"fillmode\":\"overlay\",\"size\":10,\"solidity\":0.2}},\"type\":\"bar\"}],\"barpolar\":[{\"marker\":{\"line\":{\"color\":\"#E5ECF6\",\"width\":0.5},\"pattern\":{\"fillmode\":\"overlay\",\"size\":10,\"solidity\":0.2}},\"type\":\"barpolar\"}],\"carpet\":[{\"aaxis\":{\"endlinecolor\":\"#2a3f5f\",\"gridcolor\":\"white\",\"linecolor\":\"white\",\"minorgridcolor\":\"white\",\"startlinecolor\":\"#2a3f5f\"},\"baxis\":{\"endlinecolor\":\"#2a3f5f\",\"gridcolor\":\"white\",\"linecolor\":\"white\",\"minorgridcolor\":\"white\",\"startlinecolor\":\"#2a3f5f\"},\"type\":\"carpet\"}],\"choropleth\":[{\"colorbar\":{\"outlinewidth\":0,\"ticks\":\"\"},\"type\":\"choropleth\"}],\"contour\":[{\"colorbar\":{\"outlinewidth\":0,\"ticks\":\"\"},\"colorscale\":[[0.0,\"#0d0887\"],[0.1111111111111111,\"#46039f\"],[0.2222222222222222,\"#7201a8\"],[0.3333333333333333,\"#9c179e\"],[0.4444444444444444,\"#bd3786\"],[0.5555555555555556,\"#d8576b\"],[0.6666666666666666,\"#ed7953\"],[0.7777777777777778,\"#fb9f3a\"],[0.8888888888888888,\"#fdca26\"],[1.0,\"#f0f921\"]],\"type\":\"contour\"}],\"contourcarpet\":[{\"colorbar\":{\"outlinewidth\":0,\"ticks\":\"\"},\"type\":\"contourcarpet\"}],\"heatmap\":[{\"colorbar\":{\"outlinewidth\":0,\"ticks\":\"\"},\"colorscale\":[[0.0,\"#0d0887\"],[0.1111111111111111,\"#46039f\"],[0.2222222222222222,\"#7201a8\"],[0.3333333333333333,\"#9c179e\"],[0.4444444444444444,\"#bd3786\"],[0.5555555555555556,\"#d8576b\"],[0.6666666666666666,\"#ed7953\"],[0.7777777777777778,\"#fb9f3a\"],[0.8888888888888888,\"#fdca26\"],[1.0,\"#f0f921\"]],\"type\":\"heatmap\"}],\"heatmapgl\":[{\"colorbar\":{\"outlinewidth\":0,\"ticks\":\"\"},\"colorscale\":[[0.0,\"#0d0887\"],[0.1111111111111111,\"#46039f\"],[0.2222222222222222,\"#7201a8\"],[0.3333333333333333,\"#9c179e\"],[0.4444444444444444,\"#bd3786\"],[0.5555555555555556,\"#d8576b\"],[0.6666666666666666,\"#ed7953\"],[0.7777777777777778,\"#fb9f3a\"],[0.8888888888888888,\"#fdca26\"],[1.0,\"#f0f921\"]],\"type\":\"heatmapgl\"}],\"histogram\":[{\"marker\":{\"pattern\":{\"fillmode\":\"overlay\",\"size\":10,\"solidity\":0.2}},\"type\":\"histogram\"}],\"histogram2d\":[{\"colorbar\":{\"outlinewidth\":0,\"ticks\":\"\"},\"colorscale\":[[0.0,\"#0d0887\"],[0.1111111111111111,\"#46039f\"],[0.2222222222222222,\"#7201a8\"],[0.3333333333333333,\"#9c179e\"],[0.4444444444444444,\"#bd3786\"],[0.5555555555555556,\"#d8576b\"],[0.6666666666666666,\"#ed7953\"],[0.7777777777777778,\"#fb9f3a\"],[0.8888888888888888,\"#fdca26\"],[1.0,\"#f0f921\"]],\"type\":\"histogram2d\"}],\"histogram2dcontour\":[{\"colorbar\":{\"outlinewidth\":0,\"ticks\":\"\"},\"colorscale\":[[0.0,\"#0d0887\"],[0.1111111111111111,\"#46039f\"],[0.2222222222222222,\"#7201a8\"],[0.3333333333333333,\"#9c179e\"],[0.4444444444444444,\"#bd3786\"],[0.5555555555555556,\"#d8576b\"],[0.6666666666666666,\"#ed7953\"],[0.7777777777777778,\"#fb9f3a\"],[0.8888888888888888,\"#fdca26\"],[1.0,\"#f0f921\"]],\"type\":\"histogram2dcontour\"}],\"mesh3d\":[{\"colorbar\":{\"outlinewidth\":0,\"ticks\":\"\"},\"type\":\"mesh3d\"}],\"parcoords\":[{\"line\":{\"colorbar\":{\"outlinewidth\":0,\"ticks\":\"\"}},\"type\":\"parcoords\"}],\"pie\":[{\"automargin\":true,\"type\":\"pie\"}],\"scatter\":[{\"marker\":{\"colorbar\":{\"outlinewidth\":0,\"ticks\":\"\"}},\"type\":\"scatter\"}],\"scatter3d\":[{\"line\":{\"colorbar\":{\"outlinewidth\":0,\"ticks\":\"\"}},\"marker\":{\"colorbar\":{\"outlinewidth\":0,\"ticks\":\"\"}},\"type\":\"scatter3d\"}],\"scattercarpet\":[{\"marker\":{\"colorbar\":{\"outlinewidth\":0,\"ticks\":\"\"}},\"type\":\"scattercarpet\"}],\"scattergeo\":[{\"marker\":{\"colorbar\":{\"outlinewidth\":0,\"ticks\":\"\"}},\"type\":\"scattergeo\"}],\"scattergl\":[{\"marker\":{\"colorbar\":{\"outlinewidth\":0,\"ticks\":\"\"}},\"type\":\"scattergl\"}],\"scattermapbox\":[{\"marker\":{\"colorbar\":{\"outlinewidth\":0,\"ticks\":\"\"}},\"type\":\"scattermapbox\"}],\"scatterpolar\":[{\"marker\":{\"colorbar\":{\"outlinewidth\":0,\"ticks\":\"\"}},\"type\":\"scatterpolar\"}],\"scatterpolargl\":[{\"marker\":{\"colorbar\":{\"outlinewidth\":0,\"ticks\":\"\"}},\"type\":\"scatterpolargl\"}],\"scatterternary\":[{\"marker\":{\"colorbar\":{\"outlinewidth\":0,\"ticks\":\"\"}},\"type\":\"scatterternary\"}],\"surface\":[{\"colorbar\":{\"outlinewidth\":0,\"ticks\":\"\"},\"colorscale\":[[0.0,\"#0d0887\"],[0.1111111111111111,\"#46039f\"],[0.2222222222222222,\"#7201a8\"],[0.3333333333333333,\"#9c179e\"],[0.4444444444444444,\"#bd3786\"],[0.5555555555555556,\"#d8576b\"],[0.6666666666666666,\"#ed7953\"],[0.7777777777777778,\"#fb9f3a\"],[0.8888888888888888,\"#fdca26\"],[1.0,\"#f0f921\"]],\"type\":\"surface\"}],\"table\":[{\"cells\":{\"fill\":{\"color\":\"#EBF0F8\"},\"line\":{\"color\":\"white\"}},\"header\":{\"fill\":{\"color\":\"#C8D4E3\"},\"line\":{\"color\":\"white\"}},\"type\":\"table\"}]},\"layout\":{\"annotationdefaults\":{\"arrowcolor\":\"#2a3f5f\",\"arrowhead\":0,\"arrowwidth\":1},\"autotypenumbers\":\"strict\",\"coloraxis\":{\"colorbar\":{\"outlinewidth\":0,\"ticks\":\"\"}},\"colorscale\":{\"diverging\":[[0,\"#8e0152\"],[0.1,\"#c51b7d\"],[0.2,\"#de77ae\"],[0.3,\"#f1b6da\"],[0.4,\"#fde0ef\"],[0.5,\"#f7f7f7\"],[0.6,\"#e6f5d0\"],[0.7,\"#b8e186\"],[0.8,\"#7fbc41\"],[0.9,\"#4d9221\"],[1,\"#276419\"]],\"sequential\":[[0.0,\"#0d0887\"],[0.1111111111111111,\"#46039f\"],[0.2222222222222222,\"#7201a8\"],[0.3333333333333333,\"#9c179e\"],[0.4444444444444444,\"#bd3786\"],[0.5555555555555556,\"#d8576b\"],[0.6666666666666666,\"#ed7953\"],[0.7777777777777778,\"#fb9f3a\"],[0.8888888888888888,\"#fdca26\"],[1.0,\"#f0f921\"]],\"sequentialminus\":[[0.0,\"#0d0887\"],[0.1111111111111111,\"#46039f\"],[0.2222222222222222,\"#7201a8\"],[0.3333333333333333,\"#9c179e\"],[0.4444444444444444,\"#bd3786\"],[0.5555555555555556,\"#d8576b\"],[0.6666666666666666,\"#ed7953\"],[0.7777777777777778,\"#fb9f3a\"],[0.8888888888888888,\"#fdca26\"],[1.0,\"#f0f921\"]]},\"colorway\":[\"#636efa\",\"#EF553B\",\"#00cc96\",\"#ab63fa\",\"#FFA15A\",\"#19d3f3\",\"#FF6692\",\"#B6E880\",\"#FF97FF\",\"#FECB52\"],\"font\":{\"color\":\"#2a3f5f\"},\"geo\":{\"bgcolor\":\"white\",\"lakecolor\":\"white\",\"landcolor\":\"#E5ECF6\",\"showlakes\":true,\"showland\":true,\"subunitcolor\":\"white\"},\"hoverlabel\":{\"align\":\"left\"},\"hovermode\":\"closest\",\"mapbox\":{\"style\":\"light\"},\"paper_bgcolor\":\"white\",\"plot_bgcolor\":\"#E5ECF6\",\"polar\":{\"angularaxis\":{\"gridcolor\":\"white\",\"linecolor\":\"white\",\"ticks\":\"\"},\"bgcolor\":\"#E5ECF6\",\"radialaxis\":{\"gridcolor\":\"white\",\"linecolor\":\"white\",\"ticks\":\"\"}},\"scene\":{\"xaxis\":{\"backgroundcolor\":\"#E5ECF6\",\"gridcolor\":\"white\",\"gridwidth\":2,\"linecolor\":\"white\",\"showbackground\":true,\"ticks\":\"\",\"zerolinecolor\":\"white\"},\"yaxis\":{\"backgroundcolor\":\"#E5ECF6\",\"gridcolor\":\"white\",\"gridwidth\":2,\"linecolor\":\"white\",\"showbackground\":true,\"ticks\":\"\",\"zerolinecolor\":\"white\"},\"zaxis\":{\"backgroundcolor\":\"#E5ECF6\",\"gridcolor\":\"white\",\"gridwidth\":2,\"linecolor\":\"white\",\"showbackground\":true,\"ticks\":\"\",\"zerolinecolor\":\"white\"}},\"shapedefaults\":{\"line\":{\"color\":\"#2a3f5f\"}},\"ternary\":{\"aaxis\":{\"gridcolor\":\"white\",\"linecolor\":\"white\",\"ticks\":\"\"},\"baxis\":{\"gridcolor\":\"white\",\"linecolor\":\"white\",\"ticks\":\"\"},\"bgcolor\":\"#E5ECF6\",\"caxis\":{\"gridcolor\":\"white\",\"linecolor\":\"white\",\"ticks\":\"\"}},\"title\":{\"x\":0.05},\"xaxis\":{\"automargin\":true,\"gridcolor\":\"white\",\"linecolor\":\"white\",\"ticks\":\"\",\"title\":{\"standoff\":15},\"zerolinecolor\":\"white\",\"zerolinewidth\":2},\"yaxis\":{\"automargin\":true,\"gridcolor\":\"white\",\"linecolor\":\"white\",\"ticks\":\"\",\"title\":{\"standoff\":15},\"zerolinecolor\":\"white\",\"zerolinewidth\":2}}},\"width\":900},                        {\"responsive\": true}                    ).then(function(){\n",
       "                            \n",
       "var gd = document.getElementById('e98a951d-16d0-434e-bcf6-2a276badeb23');\n",
       "var x = new MutationObserver(function (mutations, observer) {{\n",
       "        var display = window.getComputedStyle(gd).display;\n",
       "        if (!display || display === 'none') {{\n",
       "            console.log([gd, 'removed!']);\n",
       "            Plotly.purge(gd);\n",
       "            observer.disconnect();\n",
       "        }}\n",
       "}});\n",
       "\n",
       "// Listen for the removal of the full notebook cells\n",
       "var notebookContainer = gd.closest('#notebook-container');\n",
       "if (notebookContainer) {{\n",
       "    x.observe(notebookContainer, {childList: true});\n",
       "}}\n",
       "\n",
       "// Listen for the clearing of the current output cell\n",
       "var outputEl = gd.closest('.output');\n",
       "if (outputEl) {{\n",
       "    x.observe(outputEl, {childList: true});\n",
       "}}\n",
       "\n",
       "                        })                };                });            </script>        </div>"
      ]
     },
     "metadata": {},
     "output_type": "display_data"
    }
   ],
   "source": [
    "def get_table(scores):\n",
    "    scores = [round(num, 2) for num in scores]\n",
    "    \n",
    "    labels = df_cv_summary['label'].tolist()\n",
    "    \n",
    "    mean = df_cv_summary['mean'].tolist()\n",
    "    mean = [round(num, 2) for num in mean]\n",
    "    \n",
    "    top10 = df_cv_summary['top10'].tolist()\n",
    "    top10 = [round(num, 2) for num in top10]\n",
    "    \n",
    "    top25 = df_cv_summary['top25'].tolist()\n",
    "    top25 = [round(num, 2) for num in top25]\n",
    "    \n",
    "    top50 = df_cv_summary['top50'].tolist()\n",
    "    top50 = [round(num, 2) for num in top50]\n",
    "    \n",
    "    fig = go.Figure(data=[go.Table(\n",
    "        columnwidth = [1100,100],\n",
    "        header=dict(values=['Skill Cluster','Your Score','Average','Top 10%','Top 25%', 'Top 50%']),\n",
    "        cells=dict(values=[labels, scores,mean,top10,top25,top50]))])\n",
    "    \n",
    "    fig.update_layout(height = 2.9*300, width = 3*300)\n",
    "    \n",
    "    return(fig)\n",
    "get_table(range(31))"
   ]
  },
  {
   "cell_type": "code",
   "execution_count": null,
   "metadata": {},
   "outputs": [],
   "source": []
  }
 ],
 "metadata": {
  "kernelspec": {
   "display_name": "Python 3",
   "language": "python",
   "name": "python3"
  },
  "language_info": {
   "codemirror_mode": {
    "name": "ipython",
    "version": 3
   },
   "file_extension": ".py",
   "mimetype": "text/x-python",
   "name": "python",
   "nbconvert_exporter": "python",
   "pygments_lexer": "ipython3",
   "version": "3.8.8"
  }
 },
 "nbformat": 4,
 "nbformat_minor": 4
}
