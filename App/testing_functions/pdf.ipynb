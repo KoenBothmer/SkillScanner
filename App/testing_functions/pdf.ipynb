{
 "cells": [
  {
   "cell_type": "code",
   "execution_count": 2,
   "id": "fc22e39a",
   "metadata": {},
   "outputs": [
    {
     "name": "stderr",
     "output_type": "stream",
     "text": [
      "/opt/conda/lib/python3.8/site-packages/jupyter_server/transutils.py:13: FutureWarning: The alias `_()` will be deprecated. Use `_i18n()` instead.\n",
      "  warnings.warn(warn_msg, FutureWarning)\n"
     ]
    },
    {
     "data": {
      "text/html": [
       "<details>\n",
       "<summary>Click to view session information</summary>\n",
       "<pre>\n",
       "-----\n",
       "fpdf                        1.7.2\n",
       "numpy                       1.20.2\n",
       "pandas                      1.2.3\n",
       "plotly                      5.1.0\n",
       "sentence_transformers       2.0.0\n",
       "session_info                1.0.0\n",
       "-----\n",
       "</pre>\n",
       "<details>\n",
       "<summary>Click to view modules imported as dependencies</summary>\n",
       "<pre>\n",
       "Cython              0.29.22\n",
       "PIL                 8.1.2\n",
       "anyio               NA\n",
       "argon2              20.1.0\n",
       "attr                20.3.0\n",
       "babel               2.9.0\n",
       "backcall            0.2.0\n",
       "bottleneck          1.3.2\n",
       "brotli              NA\n",
       "certifi             2020.12.05\n",
       "cffi                1.14.5\n",
       "chardet             4.0.0\n",
       "click               7.1.2\n",
       "cloudpickle         1.6.0\n",
       "cython              0.29.22\n",
       "cython_runtime      NA\n",
       "cytoolz             0.11.0\n",
       "dask                2021.04.0\n",
       "dateutil            2.8.1\n",
       "decorator           5.0.6\n",
       "dill                0.3.3\n",
       "distributed         2021.04.0\n",
       "filelock            3.0.12\n",
       "fsspec              0.9.0\n",
       "google              NA\n",
       "huggingface_hub     0.0.12\n",
       "idna                2.10\n",
       "ipykernel           5.5.3\n",
       "ipython_genutils    0.2.0\n",
       "ipywidgets          7.6.3\n",
       "jedi                0.18.0\n",
       "jinja2              3.0.1\n",
       "joblib              1.0.1\n",
       "json5               NA\n",
       "jsonschema          3.2.0\n",
       "jupyter_server      1.5.1\n",
       "jupyterlab_server   2.4.0\n",
       "lz4                 3.1.3\n",
       "markupsafe          2.0.1\n",
       "mpl_toolkits        NA\n",
       "msgpack             1.0.2\n",
       "nbclassic           NA\n",
       "nbformat            5.1.3\n",
       "nltk                3.6.2\n",
       "packaging           20.9\n",
       "parso               0.8.2\n",
       "pexpect             4.8.0\n",
       "pickleshare         0.7.5\n",
       "pkg_resources       NA\n",
       "prometheus_client   NA\n",
       "prompt_toolkit      3.0.18\n",
       "psutil              5.8.0\n",
       "ptyprocess          0.7.0\n",
       "pvectorc            NA\n",
       "pygments            2.8.1\n",
       "pyrsistent          NA\n",
       "pytz                2021.1\n",
       "regex               2.5.93\n",
       "requests            2.25.1\n",
       "ruamel              NA\n",
       "sacremoses          0.0.41\n",
       "scipy               1.6.2\n",
       "send2trash          NA\n",
       "sentencepiece       NA\n",
       "six                 1.15.0\n",
       "sklearn             0.24.1\n",
       "sniffio             1.2.0\n",
       "socks               1.7.1\n",
       "sortedcontainers    2.3.0\n",
       "storemagic          NA\n",
       "swig_runtime_data4  NA\n",
       "tblib               1.7.0\n",
       "terminado           0.9.4\n",
       "tlz                 0.11.0\n",
       "tokenizers          0.10.3\n",
       "toolz               0.11.1\n",
       "torch               1.9.0+cu102\n",
       "tornado             6.1\n",
       "tqdm                4.60.0\n",
       "traitlets           5.0.5\n",
       "transformers        4.9.2\n",
       "typing_extensions   NA\n",
       "urllib3             1.26.4\n",
       "wcwidth             0.2.5\n",
       "xarray              0.19.0\n",
       "yaml                5.4.1\n",
       "zmq                 22.0.3\n",
       "</pre>\n",
       "</details> <!-- seems like this ends pre, so might as well be explicit -->\n",
       "<pre>\n",
       "-----\n",
       "IPython             7.22.0\n",
       "jupyter_client      6.1.12\n",
       "jupyter_core        4.7.1\n",
       "jupyterlab          3.0.12\n",
       "notebook            6.3.0\n",
       "-----\n",
       "Python 3.8.8 | packaged by conda-forge | (default, Feb 20 2021, 16:22:27) [GCC 9.3.0]\n",
       "Linux-5.10.25-linuxkit-x86_64-with-glibc2.10\n",
       "-----\n",
       "Session information updated at 2021-10-12 20:52\n",
       "</pre>\n",
       "</details>"
      ],
      "text/plain": [
       "<IPython.core.display.HTML object>"
      ]
     },
     "execution_count": 2,
     "metadata": {},
     "output_type": "execute_result"
    }
   ],
   "source": [
    "import session_info\n",
    "session_info.show()"
   ]
  },
  {
   "cell_type": "code",
   "execution_count": 1,
   "id": "8294ffa4",
   "metadata": {},
   "outputs": [],
   "source": [
    "from fpdf import FPDF\n",
    "import fpdf\n",
    "import pandas as pd\n",
    "pd.options.plotting.backend = \"plotly\"\n",
    "import plotly as plt\n",
    "import pickle\n",
    "from sentence_transformers import SentenceTransformer, util\n",
    "import numpy as np\n",
    "import plotly.express as px"
   ]
  },
  {
   "cell_type": "code",
   "execution_count": 7,
   "id": "a0ebf1cb",
   "metadata": {},
   "outputs": [
    {
     "name": "stderr",
     "output_type": "stream",
     "text": [
      "/opt/conda/lib/python3.8/site-packages/sklearn/base.py:310: UserWarning: Trying to unpickle estimator KMeans from version 0.23.1 when using version 0.24.1. This might lead to breaking code or invalid results. Use at your own risk.\n",
      "  warnings.warn(\n"
     ]
    }
   ],
   "source": [
    "k31_full = pickle.load(open('../Model_Selection/k_31_full', 'rb'))\n",
    "cluster_label_bigrams = pickle.load(open('cluster_label_bigrams','rb')) \n",
    "cluster_importance = pickle.load(open('cluster_importance', 'rb'))"
   ]
  },
  {
   "cell_type": "code",
   "execution_count": 14,
   "id": "5c00c9a9",
   "metadata": {},
   "outputs": [
    {
     "data": {
      "application/vnd.plotly.v1+json": {
       "config": {
        "plotlyServerURL": "https://plot.ly"
       },
       "data": [
        {
         "alignmentgroup": "True",
         "customdata": [
          [
           0.14917127071823205
          ],
          [
           0.1703499079189687
          ],
          [
           0.1887661141804788
          ],
          [
           0.23296500920810312
          ],
          [
           0.23756906077348067
          ],
          [
           0.23756906077348067
          ],
          [
           0.2440147329650092
          ],
          [
           0.27440147329650094
          ],
          [
           0.27716390423572745
          ],
          [
           0.2918968692449355
          ],
          [
           0.3029465930018416
          ],
          [
           0.31123388581952116
          ],
          [
           0.3241252302025783
          ],
          [
           0.3370165745856354
          ],
          [
           0.3453038674033149
          ],
          [
           0.358195211786372
          ],
          [
           0.36095764272559855
          ],
          [
           0.3876611418047882
          ],
          [
           0.38950276243093923
          ],
          [
           0.39134438305709024
          ],
          [
           0.40239410681399634
          ],
          [
           0.4143646408839779
          ],
          [
           0.42173112338858193
          ],
          [
           0.4281767955801105
          ],
          [
           0.429097605893186
          ],
          [
           0.43370165745856354
          ],
          [
           0.43646408839779005
          ],
          [
           0.4429097605893186
          ],
          [
           0.4604051565377532
          ],
          [
           0.5359116022099447
          ],
          [
           0.5377532228360957
          ]
         ],
         "hovertemplate": "variable=CV_similarity<br>value=%{x}<br>labels=%{y}<br>importance=%{customdata[0]}<extra></extra>",
         "legendgroup": "CV_similarity",
         "marker": {
          "color": "#636efa",
          "pattern": {
           "shape": ""
          }
         },
         "name": "CV_similarity",
         "offsetgroup": "CV_similarity",
         "orientation": "h",
         "showlegend": true,
         "textposition": "auto",
         "type": "bar",
         "x": [
          0,
          0,
          0,
          0,
          0,
          0,
          0,
          0,
          0,
          0,
          0,
          0,
          0,
          0,
          0,
          0,
          0,
          0,
          0,
          0,
          0,
          0.23384018081392,
          0,
          0,
          0,
          0,
          0,
          0,
          0,
          0,
          0.3300316087524361
         ],
         "xaxis": "x",
         "y": [
          "Cluster 24: deep learning, machine learning, experience deep",
          "Cluster 20: experience working, single cell, next-generation sequencing",
          "Cluster 3: years experience, related field, years relevant",
          "Cluster 27: experience cloud, google cloud, cloud computing",
          "Cluster 1: knowledge sql, relational databases, sql queries",
          "Cluster 5: track record, research projects, scientific technical",
          "Cluster 14: data visualization, visualization tools, experience data",
          "Cluster 19: predictive models, machine learning, model performance",
          "Cluster 2: ability work, work independently, fast-paced environment",
          "Cluster 8: big data, experience working, experience big",
          "Cluster 17: problem-solving skills, problem solving, strong analytical",
          "Cluster 4: learn new, new technologies, eager learn",
          "Cluster 29: data quality, data management, data pipelines",
          "Cluster 21: helping others, people around, lasting mark",
          "Cluster 6: machine learning, learning models, learning algorithms",
          "Cluster 23: data analysis, results clear, track record",
          "Cluster 0: team player, ability work, team members",
          "Cluster 11: data sets, data analysis, data sources",
          "Cluster 15: years experience, experience data, data science",
          "Cluster 26: working environment, work environment, professional development",
          "Cluster 28: fluent english, communication skills, english fluent",
          "Cluster 7: communication skills, excellent communication, skills excellent",
          "Cluster 9: attention detail, natural language, social media",
          "Cluster 13: data science, data scientists, data scientist",
          "Cluster 16: business stakeholders, work closely, internal external",
          "Cluster 25: business problems, translate business, understand business",
          "Cluster 12: machine learning, learning techniques, machine learning,",
          "Cluster 22: version control, software engineering, best practices",
          "Cluster 10: experience working, software development, project management",
          "Cluster 30: computer science, computer science, master’s degree",
          "Cluster 18: programming skills, programming languages, data science"
         ],
         "yaxis": "y"
        },
        {
         "alignmentgroup": "True",
         "customdata": [
          [
           0.14917127071823205
          ],
          [
           0.1703499079189687
          ],
          [
           0.1887661141804788
          ],
          [
           0.23296500920810312
          ],
          [
           0.23756906077348067
          ],
          [
           0.23756906077348067
          ],
          [
           0.2440147329650092
          ],
          [
           0.27440147329650094
          ],
          [
           0.27716390423572745
          ],
          [
           0.2918968692449355
          ],
          [
           0.3029465930018416
          ],
          [
           0.31123388581952116
          ],
          [
           0.3241252302025783
          ],
          [
           0.3370165745856354
          ],
          [
           0.3453038674033149
          ],
          [
           0.358195211786372
          ],
          [
           0.36095764272559855
          ],
          [
           0.3876611418047882
          ],
          [
           0.38950276243093923
          ],
          [
           0.39134438305709024
          ],
          [
           0.40239410681399634
          ],
          [
           0.4143646408839779
          ],
          [
           0.42173112338858193
          ],
          [
           0.4281767955801105
          ],
          [
           0.429097605893186
          ],
          [
           0.43370165745856354
          ],
          [
           0.43646408839779005
          ],
          [
           0.4429097605893186
          ],
          [
           0.4604051565377532
          ],
          [
           0.5359116022099447
          ],
          [
           0.5377532228360957
          ]
         ],
         "hovertemplate": "variable=Importance_Cluster_in_Job_Postings<br>value=%{x}<br>labels=%{y}<br>importance=%{customdata[0]}<extra></extra>",
         "legendgroup": "Importance_Cluster_in_Job_Postings",
         "marker": {
          "color": "#EF553B",
          "pattern": {
           "shape": ""
          }
         },
         "name": "Importance_Cluster_in_Job_Postings",
         "offsetgroup": "Importance_Cluster_in_Job_Postings",
         "orientation": "h",
         "showlegend": true,
         "textposition": "auto",
         "type": "bar",
         "x": [
          0.14917127071823205,
          0.1703499079189687,
          0.1887661141804788,
          0.23296500920810312,
          0.23756906077348067,
          0.23756906077348067,
          0.2440147329650092,
          0.27440147329650094,
          0.27716390423572745,
          0.2918968692449355,
          0.3029465930018416,
          0.31123388581952116,
          0.3241252302025783,
          0.3370165745856354,
          0.3453038674033149,
          0.358195211786372,
          0.36095764272559855,
          0.3876611418047882,
          0.38950276243093923,
          0.39134438305709024,
          0.40239410681399634,
          0.1805244600700579,
          0.42173112338858193,
          0.4281767955801105,
          0.429097605893186,
          0.43370165745856354,
          0.43646408839779005,
          0.4429097605893186,
          0.4604051565377532,
          0.5359116022099447,
          0.20772161408365963
         ],
         "xaxis": "x",
         "y": [
          "Cluster 24: deep learning, machine learning, experience deep",
          "Cluster 20: experience working, single cell, next-generation sequencing",
          "Cluster 3: years experience, related field, years relevant",
          "Cluster 27: experience cloud, google cloud, cloud computing",
          "Cluster 1: knowledge sql, relational databases, sql queries",
          "Cluster 5: track record, research projects, scientific technical",
          "Cluster 14: data visualization, visualization tools, experience data",
          "Cluster 19: predictive models, machine learning, model performance",
          "Cluster 2: ability work, work independently, fast-paced environment",
          "Cluster 8: big data, experience working, experience big",
          "Cluster 17: problem-solving skills, problem solving, strong analytical",
          "Cluster 4: learn new, new technologies, eager learn",
          "Cluster 29: data quality, data management, data pipelines",
          "Cluster 21: helping others, people around, lasting mark",
          "Cluster 6: machine learning, learning models, learning algorithms",
          "Cluster 23: data analysis, results clear, track record",
          "Cluster 0: team player, ability work, team members",
          "Cluster 11: data sets, data analysis, data sources",
          "Cluster 15: years experience, experience data, data science",
          "Cluster 26: working environment, work environment, professional development",
          "Cluster 28: fluent english, communication skills, english fluent",
          "Cluster 7: communication skills, excellent communication, skills excellent",
          "Cluster 9: attention detail, natural language, social media",
          "Cluster 13: data science, data scientists, data scientist",
          "Cluster 16: business stakeholders, work closely, internal external",
          "Cluster 25: business problems, translate business, understand business",
          "Cluster 12: machine learning, learning techniques, machine learning,",
          "Cluster 22: version control, software engineering, best practices",
          "Cluster 10: experience working, software development, project management",
          "Cluster 30: computer science, computer science, master’s degree",
          "Cluster 18: programming skills, programming languages, data science"
         ],
         "yaxis": "y"
        }
       ],
       "layout": {
        "barmode": "stack",
        "height": 800,
        "legend": {
         "title": {
          "text": "variable"
         },
         "tracegroupgap": 0
        },
        "margin": {
         "t": 60
        },
        "template": {
         "data": {
          "bar": [
           {
            "error_x": {
             "color": "#2a3f5f"
            },
            "error_y": {
             "color": "#2a3f5f"
            },
            "marker": {
             "line": {
              "color": "#E5ECF6",
              "width": 0.5
             },
             "pattern": {
              "fillmode": "overlay",
              "size": 10,
              "solidity": 0.2
             }
            },
            "type": "bar"
           }
          ],
          "barpolar": [
           {
            "marker": {
             "line": {
              "color": "#E5ECF6",
              "width": 0.5
             },
             "pattern": {
              "fillmode": "overlay",
              "size": 10,
              "solidity": 0.2
             }
            },
            "type": "barpolar"
           }
          ],
          "carpet": [
           {
            "aaxis": {
             "endlinecolor": "#2a3f5f",
             "gridcolor": "white",
             "linecolor": "white",
             "minorgridcolor": "white",
             "startlinecolor": "#2a3f5f"
            },
            "baxis": {
             "endlinecolor": "#2a3f5f",
             "gridcolor": "white",
             "linecolor": "white",
             "minorgridcolor": "white",
             "startlinecolor": "#2a3f5f"
            },
            "type": "carpet"
           }
          ],
          "choropleth": [
           {
            "colorbar": {
             "outlinewidth": 0,
             "ticks": ""
            },
            "type": "choropleth"
           }
          ],
          "contour": [
           {
            "colorbar": {
             "outlinewidth": 0,
             "ticks": ""
            },
            "colorscale": [
             [
              0,
              "#0d0887"
             ],
             [
              0.1111111111111111,
              "#46039f"
             ],
             [
              0.2222222222222222,
              "#7201a8"
             ],
             [
              0.3333333333333333,
              "#9c179e"
             ],
             [
              0.4444444444444444,
              "#bd3786"
             ],
             [
              0.5555555555555556,
              "#d8576b"
             ],
             [
              0.6666666666666666,
              "#ed7953"
             ],
             [
              0.7777777777777778,
              "#fb9f3a"
             ],
             [
              0.8888888888888888,
              "#fdca26"
             ],
             [
              1,
              "#f0f921"
             ]
            ],
            "type": "contour"
           }
          ],
          "contourcarpet": [
           {
            "colorbar": {
             "outlinewidth": 0,
             "ticks": ""
            },
            "type": "contourcarpet"
           }
          ],
          "heatmap": [
           {
            "colorbar": {
             "outlinewidth": 0,
             "ticks": ""
            },
            "colorscale": [
             [
              0,
              "#0d0887"
             ],
             [
              0.1111111111111111,
              "#46039f"
             ],
             [
              0.2222222222222222,
              "#7201a8"
             ],
             [
              0.3333333333333333,
              "#9c179e"
             ],
             [
              0.4444444444444444,
              "#bd3786"
             ],
             [
              0.5555555555555556,
              "#d8576b"
             ],
             [
              0.6666666666666666,
              "#ed7953"
             ],
             [
              0.7777777777777778,
              "#fb9f3a"
             ],
             [
              0.8888888888888888,
              "#fdca26"
             ],
             [
              1,
              "#f0f921"
             ]
            ],
            "type": "heatmap"
           }
          ],
          "heatmapgl": [
           {
            "colorbar": {
             "outlinewidth": 0,
             "ticks": ""
            },
            "colorscale": [
             [
              0,
              "#0d0887"
             ],
             [
              0.1111111111111111,
              "#46039f"
             ],
             [
              0.2222222222222222,
              "#7201a8"
             ],
             [
              0.3333333333333333,
              "#9c179e"
             ],
             [
              0.4444444444444444,
              "#bd3786"
             ],
             [
              0.5555555555555556,
              "#d8576b"
             ],
             [
              0.6666666666666666,
              "#ed7953"
             ],
             [
              0.7777777777777778,
              "#fb9f3a"
             ],
             [
              0.8888888888888888,
              "#fdca26"
             ],
             [
              1,
              "#f0f921"
             ]
            ],
            "type": "heatmapgl"
           }
          ],
          "histogram": [
           {
            "marker": {
             "pattern": {
              "fillmode": "overlay",
              "size": 10,
              "solidity": 0.2
             }
            },
            "type": "histogram"
           }
          ],
          "histogram2d": [
           {
            "colorbar": {
             "outlinewidth": 0,
             "ticks": ""
            },
            "colorscale": [
             [
              0,
              "#0d0887"
             ],
             [
              0.1111111111111111,
              "#46039f"
             ],
             [
              0.2222222222222222,
              "#7201a8"
             ],
             [
              0.3333333333333333,
              "#9c179e"
             ],
             [
              0.4444444444444444,
              "#bd3786"
             ],
             [
              0.5555555555555556,
              "#d8576b"
             ],
             [
              0.6666666666666666,
              "#ed7953"
             ],
             [
              0.7777777777777778,
              "#fb9f3a"
             ],
             [
              0.8888888888888888,
              "#fdca26"
             ],
             [
              1,
              "#f0f921"
             ]
            ],
            "type": "histogram2d"
           }
          ],
          "histogram2dcontour": [
           {
            "colorbar": {
             "outlinewidth": 0,
             "ticks": ""
            },
            "colorscale": [
             [
              0,
              "#0d0887"
             ],
             [
              0.1111111111111111,
              "#46039f"
             ],
             [
              0.2222222222222222,
              "#7201a8"
             ],
             [
              0.3333333333333333,
              "#9c179e"
             ],
             [
              0.4444444444444444,
              "#bd3786"
             ],
             [
              0.5555555555555556,
              "#d8576b"
             ],
             [
              0.6666666666666666,
              "#ed7953"
             ],
             [
              0.7777777777777778,
              "#fb9f3a"
             ],
             [
              0.8888888888888888,
              "#fdca26"
             ],
             [
              1,
              "#f0f921"
             ]
            ],
            "type": "histogram2dcontour"
           }
          ],
          "mesh3d": [
           {
            "colorbar": {
             "outlinewidth": 0,
             "ticks": ""
            },
            "type": "mesh3d"
           }
          ],
          "parcoords": [
           {
            "line": {
             "colorbar": {
              "outlinewidth": 0,
              "ticks": ""
             }
            },
            "type": "parcoords"
           }
          ],
          "pie": [
           {
            "automargin": true,
            "type": "pie"
           }
          ],
          "scatter": [
           {
            "marker": {
             "colorbar": {
              "outlinewidth": 0,
              "ticks": ""
             }
            },
            "type": "scatter"
           }
          ],
          "scatter3d": [
           {
            "line": {
             "colorbar": {
              "outlinewidth": 0,
              "ticks": ""
             }
            },
            "marker": {
             "colorbar": {
              "outlinewidth": 0,
              "ticks": ""
             }
            },
            "type": "scatter3d"
           }
          ],
          "scattercarpet": [
           {
            "marker": {
             "colorbar": {
              "outlinewidth": 0,
              "ticks": ""
             }
            },
            "type": "scattercarpet"
           }
          ],
          "scattergeo": [
           {
            "marker": {
             "colorbar": {
              "outlinewidth": 0,
              "ticks": ""
             }
            },
            "type": "scattergeo"
           }
          ],
          "scattergl": [
           {
            "marker": {
             "colorbar": {
              "outlinewidth": 0,
              "ticks": ""
             }
            },
            "type": "scattergl"
           }
          ],
          "scattermapbox": [
           {
            "marker": {
             "colorbar": {
              "outlinewidth": 0,
              "ticks": ""
             }
            },
            "type": "scattermapbox"
           }
          ],
          "scatterpolar": [
           {
            "marker": {
             "colorbar": {
              "outlinewidth": 0,
              "ticks": ""
             }
            },
            "type": "scatterpolar"
           }
          ],
          "scatterpolargl": [
           {
            "marker": {
             "colorbar": {
              "outlinewidth": 0,
              "ticks": ""
             }
            },
            "type": "scatterpolargl"
           }
          ],
          "scatterternary": [
           {
            "marker": {
             "colorbar": {
              "outlinewidth": 0,
              "ticks": ""
             }
            },
            "type": "scatterternary"
           }
          ],
          "surface": [
           {
            "colorbar": {
             "outlinewidth": 0,
             "ticks": ""
            },
            "colorscale": [
             [
              0,
              "#0d0887"
             ],
             [
              0.1111111111111111,
              "#46039f"
             ],
             [
              0.2222222222222222,
              "#7201a8"
             ],
             [
              0.3333333333333333,
              "#9c179e"
             ],
             [
              0.4444444444444444,
              "#bd3786"
             ],
             [
              0.5555555555555556,
              "#d8576b"
             ],
             [
              0.6666666666666666,
              "#ed7953"
             ],
             [
              0.7777777777777778,
              "#fb9f3a"
             ],
             [
              0.8888888888888888,
              "#fdca26"
             ],
             [
              1,
              "#f0f921"
             ]
            ],
            "type": "surface"
           }
          ],
          "table": [
           {
            "cells": {
             "fill": {
              "color": "#EBF0F8"
             },
             "line": {
              "color": "white"
             }
            },
            "header": {
             "fill": {
              "color": "#C8D4E3"
             },
             "line": {
              "color": "white"
             }
            },
            "type": "table"
           }
          ]
         },
         "layout": {
          "annotationdefaults": {
           "arrowcolor": "#2a3f5f",
           "arrowhead": 0,
           "arrowwidth": 1
          },
          "autotypenumbers": "strict",
          "coloraxis": {
           "colorbar": {
            "outlinewidth": 0,
            "ticks": ""
           }
          },
          "colorscale": {
           "diverging": [
            [
             0,
             "#8e0152"
            ],
            [
             0.1,
             "#c51b7d"
            ],
            [
             0.2,
             "#de77ae"
            ],
            [
             0.3,
             "#f1b6da"
            ],
            [
             0.4,
             "#fde0ef"
            ],
            [
             0.5,
             "#f7f7f7"
            ],
            [
             0.6,
             "#e6f5d0"
            ],
            [
             0.7,
             "#b8e186"
            ],
            [
             0.8,
             "#7fbc41"
            ],
            [
             0.9,
             "#4d9221"
            ],
            [
             1,
             "#276419"
            ]
           ],
           "sequential": [
            [
             0,
             "#0d0887"
            ],
            [
             0.1111111111111111,
             "#46039f"
            ],
            [
             0.2222222222222222,
             "#7201a8"
            ],
            [
             0.3333333333333333,
             "#9c179e"
            ],
            [
             0.4444444444444444,
             "#bd3786"
            ],
            [
             0.5555555555555556,
             "#d8576b"
            ],
            [
             0.6666666666666666,
             "#ed7953"
            ],
            [
             0.7777777777777778,
             "#fb9f3a"
            ],
            [
             0.8888888888888888,
             "#fdca26"
            ],
            [
             1,
             "#f0f921"
            ]
           ],
           "sequentialminus": [
            [
             0,
             "#0d0887"
            ],
            [
             0.1111111111111111,
             "#46039f"
            ],
            [
             0.2222222222222222,
             "#7201a8"
            ],
            [
             0.3333333333333333,
             "#9c179e"
            ],
            [
             0.4444444444444444,
             "#bd3786"
            ],
            [
             0.5555555555555556,
             "#d8576b"
            ],
            [
             0.6666666666666666,
             "#ed7953"
            ],
            [
             0.7777777777777778,
             "#fb9f3a"
            ],
            [
             0.8888888888888888,
             "#fdca26"
            ],
            [
             1,
             "#f0f921"
            ]
           ]
          },
          "colorway": [
           "#636efa",
           "#EF553B",
           "#00cc96",
           "#ab63fa",
           "#FFA15A",
           "#19d3f3",
           "#FF6692",
           "#B6E880",
           "#FF97FF",
           "#FECB52"
          ],
          "font": {
           "color": "#2a3f5f"
          },
          "geo": {
           "bgcolor": "white",
           "lakecolor": "white",
           "landcolor": "#E5ECF6",
           "showlakes": true,
           "showland": true,
           "subunitcolor": "white"
          },
          "hoverlabel": {
           "align": "left"
          },
          "hovermode": "closest",
          "mapbox": {
           "style": "light"
          },
          "paper_bgcolor": "white",
          "plot_bgcolor": "#E5ECF6",
          "polar": {
           "angularaxis": {
            "gridcolor": "white",
            "linecolor": "white",
            "ticks": ""
           },
           "bgcolor": "#E5ECF6",
           "radialaxis": {
            "gridcolor": "white",
            "linecolor": "white",
            "ticks": ""
           }
          },
          "scene": {
           "xaxis": {
            "backgroundcolor": "#E5ECF6",
            "gridcolor": "white",
            "gridwidth": 2,
            "linecolor": "white",
            "showbackground": true,
            "ticks": "",
            "zerolinecolor": "white"
           },
           "yaxis": {
            "backgroundcolor": "#E5ECF6",
            "gridcolor": "white",
            "gridwidth": 2,
            "linecolor": "white",
            "showbackground": true,
            "ticks": "",
            "zerolinecolor": "white"
           },
           "zaxis": {
            "backgroundcolor": "#E5ECF6",
            "gridcolor": "white",
            "gridwidth": 2,
            "linecolor": "white",
            "showbackground": true,
            "ticks": "",
            "zerolinecolor": "white"
           }
          },
          "shapedefaults": {
           "line": {
            "color": "#2a3f5f"
           }
          },
          "ternary": {
           "aaxis": {
            "gridcolor": "white",
            "linecolor": "white",
            "ticks": ""
           },
           "baxis": {
            "gridcolor": "white",
            "linecolor": "white",
            "ticks": ""
           },
           "bgcolor": "#E5ECF6",
           "caxis": {
            "gridcolor": "white",
            "linecolor": "white",
            "ticks": ""
           }
          },
          "title": {
           "x": 0.05
          },
          "xaxis": {
           "automargin": true,
           "gridcolor": "white",
           "linecolor": "white",
           "ticks": "",
           "title": {
            "standoff": 15
           },
           "zerolinecolor": "white",
           "zerolinewidth": 2
          },
          "yaxis": {
           "automargin": true,
           "gridcolor": "white",
           "linecolor": "white",
           "ticks": "",
           "title": {
            "standoff": 15
           },
           "zerolinecolor": "white",
           "zerolinewidth": 2
          }
         }
        },
        "title": {
         "text": "Author's CV similarity to requirement clusters in context of relative cluster presence"
        },
        "xaxis": {
         "anchor": "y",
         "domain": [
          0,
          1
         ],
         "title": {
          "text": "CV Similarity to Cluster"
         }
        },
        "yaxis": {
         "anchor": "x",
         "domain": [
          0,
          1
         ],
         "title": {
          "text": "3 most common Bigrams in Cluster"
         }
        }
       }
      },
      "text/html": [
       "<div>                            <div id=\"798dbee7-8eb5-4981-b71f-e7b953df6606\" class=\"plotly-graph-div\" style=\"height:800px; width:100%;\"></div>            <script type=\"text/javascript\">                require([\"plotly\"], function(Plotly) {                    window.PLOTLYENV=window.PLOTLYENV || {};                                    if (document.getElementById(\"798dbee7-8eb5-4981-b71f-e7b953df6606\")) {                    Plotly.newPlot(                        \"798dbee7-8eb5-4981-b71f-e7b953df6606\",                        [{\"alignmentgroup\":\"True\",\"customdata\":[[0.14917127071823205],[0.1703499079189687],[0.1887661141804788],[0.23296500920810312],[0.23756906077348067],[0.23756906077348067],[0.2440147329650092],[0.27440147329650094],[0.27716390423572745],[0.2918968692449355],[0.3029465930018416],[0.31123388581952116],[0.3241252302025783],[0.3370165745856354],[0.3453038674033149],[0.358195211786372],[0.36095764272559855],[0.3876611418047882],[0.38950276243093923],[0.39134438305709024],[0.40239410681399634],[0.4143646408839779],[0.42173112338858193],[0.4281767955801105],[0.429097605893186],[0.43370165745856354],[0.43646408839779005],[0.4429097605893186],[0.4604051565377532],[0.5359116022099447],[0.5377532228360957]],\"hovertemplate\":\"variable=CV_similarity<br>value=%{x}<br>labels=%{y}<br>importance=%{customdata[0]}<extra></extra>\",\"legendgroup\":\"CV_similarity\",\"marker\":{\"color\":\"#636efa\",\"pattern\":{\"shape\":\"\"}},\"name\":\"CV_similarity\",\"offsetgroup\":\"CV_similarity\",\"orientation\":\"h\",\"showlegend\":true,\"textposition\":\"auto\",\"type\":\"bar\",\"x\":[0.0,0.0,0.0,0.0,0.0,0.0,0.0,0.0,0.0,0.0,0.0,0.0,0.0,0.0,0.0,0.0,0.0,0.0,0.0,0.0,0.0,0.23384018081392,0.0,0.0,0.0,0.0,0.0,0.0,0.0,0.0,0.3300316087524361],\"xaxis\":\"x\",\"y\":[\"Cluster 24: deep learning, machine learning, experience deep\",\"Cluster 20: experience working, single cell, next-generation sequencing\",\"Cluster 3: years experience, related field, years relevant\",\"Cluster 27: experience cloud, google cloud, cloud computing\",\"Cluster 1: knowledge sql, relational databases, sql queries\",\"Cluster 5: track record, research projects, scientific technical\",\"Cluster 14: data visualization, visualization tools, experience data\",\"Cluster 19: predictive models, machine learning, model performance\",\"Cluster 2: ability work, work independently, fast-paced environment\",\"Cluster 8: big data, experience working, experience big\",\"Cluster 17: problem-solving skills, problem solving, strong analytical\",\"Cluster 4: learn new, new technologies, eager learn\",\"Cluster 29: data quality, data management, data pipelines\",\"Cluster 21: helping others, people around, lasting mark\",\"Cluster 6: machine learning, learning models, learning algorithms\",\"Cluster 23: data analysis, results clear, track record\",\"Cluster 0: team player, ability work, team members\",\"Cluster 11: data sets, data analysis, data sources\",\"Cluster 15: years experience, experience data, data science\",\"Cluster 26: working environment, work environment, professional development\",\"Cluster 28: fluent english, communication skills, english fluent\",\"Cluster 7: communication skills, excellent communication, skills excellent\",\"Cluster 9: attention detail, natural language, social media\",\"Cluster 13: data science, data scientists, data scientist\",\"Cluster 16: business stakeholders, work closely, internal external\",\"Cluster 25: business problems, translate business, understand business\",\"Cluster 12: machine learning, learning techniques, machine learning,\",\"Cluster 22: version control, software engineering, best practices\",\"Cluster 10: experience working, software development, project management\",\"Cluster 30: computer science, computer science, master\\u2019s degree\",\"Cluster 18: programming skills, programming languages, data science\"],\"yaxis\":\"y\"},{\"alignmentgroup\":\"True\",\"customdata\":[[0.14917127071823205],[0.1703499079189687],[0.1887661141804788],[0.23296500920810312],[0.23756906077348067],[0.23756906077348067],[0.2440147329650092],[0.27440147329650094],[0.27716390423572745],[0.2918968692449355],[0.3029465930018416],[0.31123388581952116],[0.3241252302025783],[0.3370165745856354],[0.3453038674033149],[0.358195211786372],[0.36095764272559855],[0.3876611418047882],[0.38950276243093923],[0.39134438305709024],[0.40239410681399634],[0.4143646408839779],[0.42173112338858193],[0.4281767955801105],[0.429097605893186],[0.43370165745856354],[0.43646408839779005],[0.4429097605893186],[0.4604051565377532],[0.5359116022099447],[0.5377532228360957]],\"hovertemplate\":\"variable=Importance_Cluster_in_Job_Postings<br>value=%{x}<br>labels=%{y}<br>importance=%{customdata[0]}<extra></extra>\",\"legendgroup\":\"Importance_Cluster_in_Job_Postings\",\"marker\":{\"color\":\"#EF553B\",\"pattern\":{\"shape\":\"\"}},\"name\":\"Importance_Cluster_in_Job_Postings\",\"offsetgroup\":\"Importance_Cluster_in_Job_Postings\",\"orientation\":\"h\",\"showlegend\":true,\"textposition\":\"auto\",\"type\":\"bar\",\"x\":[0.14917127071823205,0.1703499079189687,0.1887661141804788,0.23296500920810312,0.23756906077348067,0.23756906077348067,0.2440147329650092,0.27440147329650094,0.27716390423572745,0.2918968692449355,0.3029465930018416,0.31123388581952116,0.3241252302025783,0.3370165745856354,0.3453038674033149,0.358195211786372,0.36095764272559855,0.3876611418047882,0.38950276243093923,0.39134438305709024,0.40239410681399634,0.1805244600700579,0.42173112338858193,0.4281767955801105,0.429097605893186,0.43370165745856354,0.43646408839779005,0.4429097605893186,0.4604051565377532,0.5359116022099447,0.20772161408365963],\"xaxis\":\"x\",\"y\":[\"Cluster 24: deep learning, machine learning, experience deep\",\"Cluster 20: experience working, single cell, next-generation sequencing\",\"Cluster 3: years experience, related field, years relevant\",\"Cluster 27: experience cloud, google cloud, cloud computing\",\"Cluster 1: knowledge sql, relational databases, sql queries\",\"Cluster 5: track record, research projects, scientific technical\",\"Cluster 14: data visualization, visualization tools, experience data\",\"Cluster 19: predictive models, machine learning, model performance\",\"Cluster 2: ability work, work independently, fast-paced environment\",\"Cluster 8: big data, experience working, experience big\",\"Cluster 17: problem-solving skills, problem solving, strong analytical\",\"Cluster 4: learn new, new technologies, eager learn\",\"Cluster 29: data quality, data management, data pipelines\",\"Cluster 21: helping others, people around, lasting mark\",\"Cluster 6: machine learning, learning models, learning algorithms\",\"Cluster 23: data analysis, results clear, track record\",\"Cluster 0: team player, ability work, team members\",\"Cluster 11: data sets, data analysis, data sources\",\"Cluster 15: years experience, experience data, data science\",\"Cluster 26: working environment, work environment, professional development\",\"Cluster 28: fluent english, communication skills, english fluent\",\"Cluster 7: communication skills, excellent communication, skills excellent\",\"Cluster 9: attention detail, natural language, social media\",\"Cluster 13: data science, data scientists, data scientist\",\"Cluster 16: business stakeholders, work closely, internal external\",\"Cluster 25: business problems, translate business, understand business\",\"Cluster 12: machine learning, learning techniques, machine learning,\",\"Cluster 22: version control, software engineering, best practices\",\"Cluster 10: experience working, software development, project management\",\"Cluster 30: computer science, computer science, master\\u2019s degree\",\"Cluster 18: programming skills, programming languages, data science\"],\"yaxis\":\"y\"}],                        {\"barmode\":\"stack\",\"height\":800,\"legend\":{\"title\":{\"text\":\"variable\"},\"tracegroupgap\":0},\"margin\":{\"t\":60},\"template\":{\"data\":{\"bar\":[{\"error_x\":{\"color\":\"#2a3f5f\"},\"error_y\":{\"color\":\"#2a3f5f\"},\"marker\":{\"line\":{\"color\":\"#E5ECF6\",\"width\":0.5},\"pattern\":{\"fillmode\":\"overlay\",\"size\":10,\"solidity\":0.2}},\"type\":\"bar\"}],\"barpolar\":[{\"marker\":{\"line\":{\"color\":\"#E5ECF6\",\"width\":0.5},\"pattern\":{\"fillmode\":\"overlay\",\"size\":10,\"solidity\":0.2}},\"type\":\"barpolar\"}],\"carpet\":[{\"aaxis\":{\"endlinecolor\":\"#2a3f5f\",\"gridcolor\":\"white\",\"linecolor\":\"white\",\"minorgridcolor\":\"white\",\"startlinecolor\":\"#2a3f5f\"},\"baxis\":{\"endlinecolor\":\"#2a3f5f\",\"gridcolor\":\"white\",\"linecolor\":\"white\",\"minorgridcolor\":\"white\",\"startlinecolor\":\"#2a3f5f\"},\"type\":\"carpet\"}],\"choropleth\":[{\"colorbar\":{\"outlinewidth\":0,\"ticks\":\"\"},\"type\":\"choropleth\"}],\"contour\":[{\"colorbar\":{\"outlinewidth\":0,\"ticks\":\"\"},\"colorscale\":[[0.0,\"#0d0887\"],[0.1111111111111111,\"#46039f\"],[0.2222222222222222,\"#7201a8\"],[0.3333333333333333,\"#9c179e\"],[0.4444444444444444,\"#bd3786\"],[0.5555555555555556,\"#d8576b\"],[0.6666666666666666,\"#ed7953\"],[0.7777777777777778,\"#fb9f3a\"],[0.8888888888888888,\"#fdca26\"],[1.0,\"#f0f921\"]],\"type\":\"contour\"}],\"contourcarpet\":[{\"colorbar\":{\"outlinewidth\":0,\"ticks\":\"\"},\"type\":\"contourcarpet\"}],\"heatmap\":[{\"colorbar\":{\"outlinewidth\":0,\"ticks\":\"\"},\"colorscale\":[[0.0,\"#0d0887\"],[0.1111111111111111,\"#46039f\"],[0.2222222222222222,\"#7201a8\"],[0.3333333333333333,\"#9c179e\"],[0.4444444444444444,\"#bd3786\"],[0.5555555555555556,\"#d8576b\"],[0.6666666666666666,\"#ed7953\"],[0.7777777777777778,\"#fb9f3a\"],[0.8888888888888888,\"#fdca26\"],[1.0,\"#f0f921\"]],\"type\":\"heatmap\"}],\"heatmapgl\":[{\"colorbar\":{\"outlinewidth\":0,\"ticks\":\"\"},\"colorscale\":[[0.0,\"#0d0887\"],[0.1111111111111111,\"#46039f\"],[0.2222222222222222,\"#7201a8\"],[0.3333333333333333,\"#9c179e\"],[0.4444444444444444,\"#bd3786\"],[0.5555555555555556,\"#d8576b\"],[0.6666666666666666,\"#ed7953\"],[0.7777777777777778,\"#fb9f3a\"],[0.8888888888888888,\"#fdca26\"],[1.0,\"#f0f921\"]],\"type\":\"heatmapgl\"}],\"histogram\":[{\"marker\":{\"pattern\":{\"fillmode\":\"overlay\",\"size\":10,\"solidity\":0.2}},\"type\":\"histogram\"}],\"histogram2d\":[{\"colorbar\":{\"outlinewidth\":0,\"ticks\":\"\"},\"colorscale\":[[0.0,\"#0d0887\"],[0.1111111111111111,\"#46039f\"],[0.2222222222222222,\"#7201a8\"],[0.3333333333333333,\"#9c179e\"],[0.4444444444444444,\"#bd3786\"],[0.5555555555555556,\"#d8576b\"],[0.6666666666666666,\"#ed7953\"],[0.7777777777777778,\"#fb9f3a\"],[0.8888888888888888,\"#fdca26\"],[1.0,\"#f0f921\"]],\"type\":\"histogram2d\"}],\"histogram2dcontour\":[{\"colorbar\":{\"outlinewidth\":0,\"ticks\":\"\"},\"colorscale\":[[0.0,\"#0d0887\"],[0.1111111111111111,\"#46039f\"],[0.2222222222222222,\"#7201a8\"],[0.3333333333333333,\"#9c179e\"],[0.4444444444444444,\"#bd3786\"],[0.5555555555555556,\"#d8576b\"],[0.6666666666666666,\"#ed7953\"],[0.7777777777777778,\"#fb9f3a\"],[0.8888888888888888,\"#fdca26\"],[1.0,\"#f0f921\"]],\"type\":\"histogram2dcontour\"}],\"mesh3d\":[{\"colorbar\":{\"outlinewidth\":0,\"ticks\":\"\"},\"type\":\"mesh3d\"}],\"parcoords\":[{\"line\":{\"colorbar\":{\"outlinewidth\":0,\"ticks\":\"\"}},\"type\":\"parcoords\"}],\"pie\":[{\"automargin\":true,\"type\":\"pie\"}],\"scatter\":[{\"marker\":{\"colorbar\":{\"outlinewidth\":0,\"ticks\":\"\"}},\"type\":\"scatter\"}],\"scatter3d\":[{\"line\":{\"colorbar\":{\"outlinewidth\":0,\"ticks\":\"\"}},\"marker\":{\"colorbar\":{\"outlinewidth\":0,\"ticks\":\"\"}},\"type\":\"scatter3d\"}],\"scattercarpet\":[{\"marker\":{\"colorbar\":{\"outlinewidth\":0,\"ticks\":\"\"}},\"type\":\"scattercarpet\"}],\"scattergeo\":[{\"marker\":{\"colorbar\":{\"outlinewidth\":0,\"ticks\":\"\"}},\"type\":\"scattergeo\"}],\"scattergl\":[{\"marker\":{\"colorbar\":{\"outlinewidth\":0,\"ticks\":\"\"}},\"type\":\"scattergl\"}],\"scattermapbox\":[{\"marker\":{\"colorbar\":{\"outlinewidth\":0,\"ticks\":\"\"}},\"type\":\"scattermapbox\"}],\"scatterpolar\":[{\"marker\":{\"colorbar\":{\"outlinewidth\":0,\"ticks\":\"\"}},\"type\":\"scatterpolar\"}],\"scatterpolargl\":[{\"marker\":{\"colorbar\":{\"outlinewidth\":0,\"ticks\":\"\"}},\"type\":\"scatterpolargl\"}],\"scatterternary\":[{\"marker\":{\"colorbar\":{\"outlinewidth\":0,\"ticks\":\"\"}},\"type\":\"scatterternary\"}],\"surface\":[{\"colorbar\":{\"outlinewidth\":0,\"ticks\":\"\"},\"colorscale\":[[0.0,\"#0d0887\"],[0.1111111111111111,\"#46039f\"],[0.2222222222222222,\"#7201a8\"],[0.3333333333333333,\"#9c179e\"],[0.4444444444444444,\"#bd3786\"],[0.5555555555555556,\"#d8576b\"],[0.6666666666666666,\"#ed7953\"],[0.7777777777777778,\"#fb9f3a\"],[0.8888888888888888,\"#fdca26\"],[1.0,\"#f0f921\"]],\"type\":\"surface\"}],\"table\":[{\"cells\":{\"fill\":{\"color\":\"#EBF0F8\"},\"line\":{\"color\":\"white\"}},\"header\":{\"fill\":{\"color\":\"#C8D4E3\"},\"line\":{\"color\":\"white\"}},\"type\":\"table\"}]},\"layout\":{\"annotationdefaults\":{\"arrowcolor\":\"#2a3f5f\",\"arrowhead\":0,\"arrowwidth\":1},\"autotypenumbers\":\"strict\",\"coloraxis\":{\"colorbar\":{\"outlinewidth\":0,\"ticks\":\"\"}},\"colorscale\":{\"diverging\":[[0,\"#8e0152\"],[0.1,\"#c51b7d\"],[0.2,\"#de77ae\"],[0.3,\"#f1b6da\"],[0.4,\"#fde0ef\"],[0.5,\"#f7f7f7\"],[0.6,\"#e6f5d0\"],[0.7,\"#b8e186\"],[0.8,\"#7fbc41\"],[0.9,\"#4d9221\"],[1,\"#276419\"]],\"sequential\":[[0.0,\"#0d0887\"],[0.1111111111111111,\"#46039f\"],[0.2222222222222222,\"#7201a8\"],[0.3333333333333333,\"#9c179e\"],[0.4444444444444444,\"#bd3786\"],[0.5555555555555556,\"#d8576b\"],[0.6666666666666666,\"#ed7953\"],[0.7777777777777778,\"#fb9f3a\"],[0.8888888888888888,\"#fdca26\"],[1.0,\"#f0f921\"]],\"sequentialminus\":[[0.0,\"#0d0887\"],[0.1111111111111111,\"#46039f\"],[0.2222222222222222,\"#7201a8\"],[0.3333333333333333,\"#9c179e\"],[0.4444444444444444,\"#bd3786\"],[0.5555555555555556,\"#d8576b\"],[0.6666666666666666,\"#ed7953\"],[0.7777777777777778,\"#fb9f3a\"],[0.8888888888888888,\"#fdca26\"],[1.0,\"#f0f921\"]]},\"colorway\":[\"#636efa\",\"#EF553B\",\"#00cc96\",\"#ab63fa\",\"#FFA15A\",\"#19d3f3\",\"#FF6692\",\"#B6E880\",\"#FF97FF\",\"#FECB52\"],\"font\":{\"color\":\"#2a3f5f\"},\"geo\":{\"bgcolor\":\"white\",\"lakecolor\":\"white\",\"landcolor\":\"#E5ECF6\",\"showlakes\":true,\"showland\":true,\"subunitcolor\":\"white\"},\"hoverlabel\":{\"align\":\"left\"},\"hovermode\":\"closest\",\"mapbox\":{\"style\":\"light\"},\"paper_bgcolor\":\"white\",\"plot_bgcolor\":\"#E5ECF6\",\"polar\":{\"angularaxis\":{\"gridcolor\":\"white\",\"linecolor\":\"white\",\"ticks\":\"\"},\"bgcolor\":\"#E5ECF6\",\"radialaxis\":{\"gridcolor\":\"white\",\"linecolor\":\"white\",\"ticks\":\"\"}},\"scene\":{\"xaxis\":{\"backgroundcolor\":\"#E5ECF6\",\"gridcolor\":\"white\",\"gridwidth\":2,\"linecolor\":\"white\",\"showbackground\":true,\"ticks\":\"\",\"zerolinecolor\":\"white\"},\"yaxis\":{\"backgroundcolor\":\"#E5ECF6\",\"gridcolor\":\"white\",\"gridwidth\":2,\"linecolor\":\"white\",\"showbackground\":true,\"ticks\":\"\",\"zerolinecolor\":\"white\"},\"zaxis\":{\"backgroundcolor\":\"#E5ECF6\",\"gridcolor\":\"white\",\"gridwidth\":2,\"linecolor\":\"white\",\"showbackground\":true,\"ticks\":\"\",\"zerolinecolor\":\"white\"}},\"shapedefaults\":{\"line\":{\"color\":\"#2a3f5f\"}},\"ternary\":{\"aaxis\":{\"gridcolor\":\"white\",\"linecolor\":\"white\",\"ticks\":\"\"},\"baxis\":{\"gridcolor\":\"white\",\"linecolor\":\"white\",\"ticks\":\"\"},\"bgcolor\":\"#E5ECF6\",\"caxis\":{\"gridcolor\":\"white\",\"linecolor\":\"white\",\"ticks\":\"\"}},\"title\":{\"x\":0.05},\"xaxis\":{\"automargin\":true,\"gridcolor\":\"white\",\"linecolor\":\"white\",\"ticks\":\"\",\"title\":{\"standoff\":15},\"zerolinecolor\":\"white\",\"zerolinewidth\":2},\"yaxis\":{\"automargin\":true,\"gridcolor\":\"white\",\"linecolor\":\"white\",\"ticks\":\"\",\"title\":{\"standoff\":15},\"zerolinecolor\":\"white\",\"zerolinewidth\":2}}},\"title\":{\"text\":\"Author's CV similarity to requirement clusters in context of relative cluster presence\"},\"xaxis\":{\"anchor\":\"y\",\"domain\":[0.0,1.0],\"title\":{\"text\":\"CV Similarity to Cluster\"}},\"yaxis\":{\"anchor\":\"x\",\"domain\":[0.0,1.0],\"title\":{\"text\":\"3 most common Bigrams in Cluster\"}}},                        {\"responsive\": true}                    ).then(function(){\n",
       "                            \n",
       "var gd = document.getElementById('798dbee7-8eb5-4981-b71f-e7b953df6606');\n",
       "var x = new MutationObserver(function (mutations, observer) {{\n",
       "        var display = window.getComputedStyle(gd).display;\n",
       "        if (!display || display === 'none') {{\n",
       "            console.log([gd, 'removed!']);\n",
       "            Plotly.purge(gd);\n",
       "            observer.disconnect();\n",
       "        }}\n",
       "}});\n",
       "\n",
       "// Listen for the removal of the full notebook cells\n",
       "var notebookContainer = gd.closest('#notebook-container');\n",
       "if (notebookContainer) {{\n",
       "    x.observe(notebookContainer, {childList: true});\n",
       "}}\n",
       "\n",
       "// Listen for the clearing of the current output cell\n",
       "var outputEl = gd.closest('.output');\n",
       "if (outputEl) {{\n",
       "    x.observe(outputEl, {childList: true});\n",
       "}}\n",
       "\n",
       "                        })                };                });            </script>        </div>"
      ]
     },
     "metadata": {},
     "output_type": "display_data"
    }
   ],
   "source": [
    "def get_plot(cv): #takes in list of skills and returns a plot with score for each cluster\n",
    "    df_sim = pd.DataFrame()\n",
    "    df_sim['cluster'] = range(len(k31_full.cluster_centers_))\n",
    "    \n",
    "    labels = cluster_label_bigrams\n",
    "    importance = cluster_importance\n",
    "    \n",
    "    model = 'all-distilroberta-v1'\n",
    "    model = SentenceTransformer(model)\n",
    "    embeddings_cv = model.encode(cv)\n",
    "    embeddings_f = embeddings_cv.astype(float)\n",
    "    clusters_cv = k31_full.predict(embeddings_f)\n",
    "    clusters_cv_l  = clusters_cv.tolist()\n",
    "    \n",
    "    cv_scores = []\n",
    "    for i, cluster in enumerate(clusters_cv):\n",
    "        cv_scores.append(util.pytorch_cos_sim(k31_full.cluster_centers_[cluster], embeddings_f[i]).item())\n",
    "    \n",
    "    scores = []\n",
    "    for cluster in range(len(k31_full.cluster_centers_)):\n",
    "        if cluster not in clusters_cv_l:\n",
    "            scores.append(0)\n",
    "        else:\n",
    "            score = 0\n",
    "            indexes = np.where(clusters_cv==cluster)[0]\n",
    "            for i in indexes:\n",
    "                if cv_scores[i] > score:\n",
    "                    score = cv_scores[i]\n",
    "            scores.append(score)   \n",
    "    \n",
    "    df_sim['score'] = scores\n",
    "    df_sim['importance'] = importance\n",
    "    df_sim['labels'] = labels\n",
    "    \n",
    "    df_sim['CV_similarity'] = df_sim['importance']*df_sim['score']\n",
    "    df_sim['Importance_Cluster_in_Job_Postings'] = df_sim['importance']-df_sim['CV_similarity']\n",
    "    df_sim = df_sim.sort_values('importance')\n",
    "    \n",
    "    fig = px.bar(df_sim, y='labels', x=[\"CV_similarity\",\"Importance_Cluster_in_Job_Postings\"], hover_data = ['importance'])\n",
    "    fig.update_layout(height=800, \\\n",
    "                          title = 'Author\\'s CV similarity to requirement clusters in context of relative cluster presence',\\\n",
    "                          barmode='stack', \\\n",
    "                          yaxis_title=\"3 most common Bigrams in Cluster\",\\\n",
    "                          xaxis_title=\"CV Similarity to Cluster\")\n",
    "    fig.show()\n",
    "    return fig\n",
    "    \n",
    "plot = get_plot(['i like python','i am a great communicator'])"
   ]
  },
  {
   "cell_type": "code",
   "execution_count": 16,
   "id": "265a5ee3",
   "metadata": {},
   "outputs": [],
   "source": [
    "plot.write_image(\"fig1.png\")"
   ]
  },
  {
   "cell_type": "code",
   "execution_count": 58,
   "id": "3947528a",
   "metadata": {},
   "outputs": [],
   "source": [
    "pdf=FPDF()\n",
    "pdf.add_page()\n",
    "#pltx=\"fig1.png\"\n",
    "pdf.image('fig1.png',x = 10, y = 10, w = 100, h = 100, type = '', link = '')\n",
    "pdf.set_font('Arial', 'B', 16)\n",
    "pdf.cell(40, 0, 'Hello World! this string asdfasdf')\n",
    "pdf.set_font('Arial', '', 12)\n",
    "pdf.cell(20,250, 'And here some explanation but what happens if we add more text', align = \"L\", fill = 'T', border='1')"
   ]
  },
  {
   "cell_type": "code",
   "execution_count": 59,
   "id": "3b0352f9",
   "metadata": {},
   "outputs": [
    {
     "data": {
      "text/plain": [
       "''"
      ]
     },
     "execution_count": 59,
     "metadata": {},
     "output_type": "execute_result"
    }
   ],
   "source": [
    "pdf.output('tuto2.pdf', 'F')"
   ]
  },
  {
   "cell_type": "code",
   "execution_count": null,
   "id": "1d3f8bb3",
   "metadata": {},
   "outputs": [],
   "source": []
  }
 ],
 "metadata": {
  "kernelspec": {
   "display_name": "Python 3",
   "language": "python",
   "name": "python3"
  },
  "language_info": {
   "codemirror_mode": {
    "name": "ipython",
    "version": 3
   },
   "file_extension": ".py",
   "mimetype": "text/x-python",
   "name": "python",
   "nbconvert_exporter": "python",
   "pygments_lexer": "ipython3",
   "version": "3.8.8"
  }
 },
 "nbformat": 4,
 "nbformat_minor": 5
}
