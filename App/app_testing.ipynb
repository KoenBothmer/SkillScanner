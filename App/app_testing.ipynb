{
 "cells": [
  {
   "cell_type": "code",
   "execution_count": 1,
   "metadata": {},
   "outputs": [
    {
     "name": "stderr",
     "output_type": "stream",
     "text": [
      "/opt/conda/lib/python3.8/site-packages/sklearn/base.py:324: UserWarning: Trying to unpickle estimator KMeans from version 0.23.1 when using version 1.0. This might lead to breaking code or invalid results. Use at your own risk. For more info please refer to:\n",
      "https://scikit-learn.org/stable/modules/model_persistence.html#security-maintainability-limitations\n",
      "  warnings.warn(\n"
     ]
    }
   ],
   "source": [
    "from flask import Flask, render_template, redirect, url_for\n",
    "from flask_bootstrap import Bootstrap\n",
    "from flask_wtf import FlaskForm\n",
    "from wtforms import StringField, SubmitField\n",
    "from wtforms.validators import DataRequired\n",
    "\n",
    "from sentence_transformers import SentenceTransformer, util\n",
    "from sklearn.cluster import KMeans\n",
    "import pickle\n",
    "\n",
    "from fpdf import FPDF\n",
    "from flask import send_file\n",
    "import fpdf\n",
    "import pandas as pd\n",
    "pd.options.plotting.backend = \"plotly\"\n",
    "import plotly as plt\n",
    "import numpy as np\n",
    "import plotly.express as px\n",
    "import plotly.graph_objects as go\n",
    "\n",
    "k31_full = pickle.load(open('docker/k_31_full', 'rb'))\n",
    "cluster_label_bigrams = pickle.load(open('docker/cluster_label_bigrams','rb')) \n",
    "cluster_importance = pickle.load(open('docker/cluster_importance', 'rb'))\n",
    "\n",
    "df_cv_summary = pd.read_csv('df_cv_summary.csv',index_col=0)"
   ]
  },
  {
   "cell_type": "code",
   "execution_count": 2,
   "metadata": {},
   "outputs": [
    {
     "data": {
      "text/plain": [
       "['team player, ability work, team members',\n",
       " 'knowledge sql, relational databases, sql queries',\n",
       " 'ability work, work independently, fast-paced environment',\n",
       " 'years experience, related field, years relevant',\n",
       " 'learn new, new technologies, eager learn',\n",
       " 'track record, research projects, scientific technical',\n",
       " 'machine learning, learning models, learning algorithms',\n",
       " 'communication skills, excellent communication, skills excellent',\n",
       " 'big data, experience working, experience big',\n",
       " 'attention detail, natural language, social media',\n",
       " 'experience working, software development, project management',\n",
       " 'data sets, data analysis, data sources',\n",
       " 'machine learning, learning techniques, machine learning,',\n",
       " 'data science, data scientists, data scientist',\n",
       " 'data visualization, visualization tools, experience data',\n",
       " 'years experience, experience data, data science',\n",
       " 'business stakeholders, work closely, internal external',\n",
       " 'problem-solving skills, problem solving, strong analytical',\n",
       " 'programming skills, programming languages, data science',\n",
       " 'predictive models, machine learning, model performance',\n",
       " 'experience working, single cell, next-generation sequencing',\n",
       " 'helping others, people around, lasting mark',\n",
       " 'version control, software engineering, best practices',\n",
       " 'data analysis, results clear, track record',\n",
       " 'deep learning, machine learning, experience deep',\n",
       " 'business problems, translate business, understand business',\n",
       " 'working environment, work environment, professional development',\n",
       " 'experience cloud, google cloud, cloud computing',\n",
       " 'fluent english, communication skills, english fluent',\n",
       " 'data quality, data management, data pipelines',\n",
       " 'computer science,, computer science, master’s degree']"
      ]
     },
     "execution_count": 2,
     "metadata": {},
     "output_type": "execute_result"
    }
   ],
   "source": [
    "cluster_labels_unformated = []\n",
    "for label in cluster_label_bigrams:\n",
    "    cluster_labels_unformated.append(label.replace(\"</b>\",\"\").replace(\"<b>\",\"\"))\n",
    "cluster_labels_unformated"
   ]
  },
  {
   "cell_type": "code",
   "execution_count": 3,
   "metadata": {},
   "outputs": [
    {
     "name": "stdout",
     "output_type": "stream",
     "text": [
      "Skill Scanner uses AI to compare skills:\n",
      "  1.  Comparisson to Demand: your skills compared to employer demands.\n",
      "  2.  Comparisson to Competition: your skills compared to representative CV's.\n",
      "  3.  Recommendation for Education: course recommendations that complement your CV.\n",
      "For an in depth explanation of our technique please refer to the last page.\n"
     ]
    }
   ],
   "source": [
    "file = open(\"docker/text/intro.txt\")\n",
    "intro = file.read()#.replace(\"\\n\", \" \")\n",
    "\n",
    "intro = intro.encode('latin-1', 'replace').decode('latin-1')\n",
    "file.close()\n",
    "print(intro)\n",
    "\n",
    "file = open(\"text/plot_explanation.txt\")\n",
    "plot_explanation = file.read()\n",
    "plot_explanation = plot_explanation.encode('latin-1', 'replace').decode('latin-1')\n",
    "file.close()\n",
    "\n",
    "file = open(\"text/per_skill_description.txt\")\n",
    "per_skill_description = file.read().replace(\"/n\", \" \").replace(\"\\br\", \"\\n\")\n",
    "per_skill_description = per_skill_description.encode('latin-1', 'replace').decode('latin-1')\n",
    "file.close()\n",
    "\n",
    "file = open(\"text/table_description.txt\")\n",
    "table_description = file.read().replace(\"/n\", \" \").replace(\"\\br\", \"\\n\")\n",
    "table_description = table_description.encode('latin-1', 'replace').decode('latin-1')\n",
    "file.close()"
   ]
  },
  {
   "cell_type": "code",
   "execution_count": 4,
   "metadata": {},
   "outputs": [
    {
     "ename": "NameError",
     "evalue": "name 'get_plot' is not defined",
     "output_type": "error",
     "traceback": [
      "\u001b[0;31m---------------------------------------------------------------------------\u001b[0m",
      "\u001b[0;31mNameError\u001b[0m                                 Traceback (most recent call last)",
      "\u001b[0;32m<ipython-input-4-7d9761fe43fa>\u001b[0m in \u001b[0;36m<module>\u001b[0;34m\u001b[0m\n\u001b[1;32m     97\u001b[0m     \u001b[0;32mreturn\u001b[0m \u001b[0mpdf\u001b[0m\u001b[0;34m\u001b[0m\u001b[0;34m\u001b[0m\u001b[0m\n\u001b[1;32m     98\u001b[0m \u001b[0mskills\u001b[0m \u001b[0;34m=\u001b[0m \u001b[0;34m[\u001b[0m\u001b[0;34m'programming skills'\u001b[0m\u001b[0;34m,\u001b[0m\u001b[0;34m'computer science'\u001b[0m\u001b[0;34m,\u001b[0m\u001b[0;34m'experience as a software developer'\u001b[0m\u001b[0;34m,\u001b[0m\u001b[0;34m'using git and github'\u001b[0m\u001b[0;34m,\u001b[0m\u001b[0;34m'machine learning techniques'\u001b[0m\u001b[0;34m]\u001b[0m\u001b[0;34m\u001b[0m\u001b[0;34m\u001b[0m\u001b[0m\n\u001b[0;32m---> 99\u001b[0;31m \u001b[0mpdf\u001b[0m \u001b[0;34m=\u001b[0m \u001b[0mreturn_pdf\u001b[0m\u001b[0;34m(\u001b[0m\u001b[0mskills\u001b[0m\u001b[0;34m)\u001b[0m\u001b[0;34m\u001b[0m\u001b[0;34m\u001b[0m\u001b[0m\n\u001b[0m\u001b[1;32m    100\u001b[0m \u001b[0mpdf\u001b[0m\u001b[0;34m.\u001b[0m\u001b[0moutput\u001b[0m\u001b[0;34m(\u001b[0m\u001b[0;34m'report.pdf'\u001b[0m\u001b[0;34m,\u001b[0m \u001b[0;34m'F'\u001b[0m\u001b[0;34m)\u001b[0m\u001b[0;34m\u001b[0m\u001b[0;34m\u001b[0m\u001b[0m\n",
      "\u001b[0;32m<ipython-input-4-7d9761fe43fa>\u001b[0m in \u001b[0;36mreturn_pdf\u001b[0;34m(skills)\u001b[0m\n\u001b[1;32m      1\u001b[0m \u001b[0;32mdef\u001b[0m \u001b[0mreturn_pdf\u001b[0m\u001b[0;34m(\u001b[0m\u001b[0mskills\u001b[0m\u001b[0;34m)\u001b[0m\u001b[0;34m:\u001b[0m\u001b[0;34m\u001b[0m\u001b[0;34m\u001b[0m\u001b[0m\n\u001b[0;32m----> 2\u001b[0;31m     \u001b[0manalysis\u001b[0m \u001b[0;34m=\u001b[0m \u001b[0mget_plot\u001b[0m\u001b[0;34m(\u001b[0m\u001b[0mskills\u001b[0m\u001b[0;34m)\u001b[0m\u001b[0;34m\u001b[0m\u001b[0;34m\u001b[0m\u001b[0m\n\u001b[0m\u001b[1;32m      3\u001b[0m     \u001b[0mplot\u001b[0m \u001b[0;34m=\u001b[0m \u001b[0manalysis\u001b[0m\u001b[0;34m[\u001b[0m\u001b[0;36m0\u001b[0m\u001b[0;34m]\u001b[0m\u001b[0;34m\u001b[0m\u001b[0;34m\u001b[0m\u001b[0m\n\u001b[1;32m      4\u001b[0m     \u001b[0mdf\u001b[0m \u001b[0;34m=\u001b[0m \u001b[0manalysis\u001b[0m\u001b[0;34m[\u001b[0m\u001b[0;36m1\u001b[0m\u001b[0;34m]\u001b[0m\u001b[0;34m\u001b[0m\u001b[0;34m\u001b[0m\u001b[0m\n\u001b[1;32m      5\u001b[0m     \u001b[0mdf_sim\u001b[0m \u001b[0;34m=\u001b[0m \u001b[0manalysis\u001b[0m\u001b[0;34m[\u001b[0m\u001b[0;36m2\u001b[0m\u001b[0;34m]\u001b[0m\u001b[0;34m\u001b[0m\u001b[0;34m\u001b[0m\u001b[0m\n",
      "\u001b[0;31mNameError\u001b[0m: name 'get_plot' is not defined"
     ]
    }
   ],
   "source": [
    "def return_pdf(skills):\n",
    "    analysis = get_plot(skills)\n",
    "    plot = analysis[0]\n",
    "    df = analysis[1]\n",
    "    df_sim = analysis[2]\n",
    "    cv_scores = analysis[3]\n",
    "    \n",
    "    plot.write_image(\"fig1.png\", scale=1)#, width=500, height=750)\n",
    "    \n",
    "    table = get_table(cv_scores)\n",
    "    table.write_image(\"table1.png\")\n",
    "    \n",
    "    pdf=FPDF('P', 'mm', 'A4')\n",
    "    pdf.add_page()\n",
    "    \n",
    "    pdf.set_font('Arial', 'B', 14) #setting font for title\n",
    "    pdf.cell(40, 0, 'Skill Scanner CV Report - Data Scientist', ln=2) #Write Title\n",
    "    pdf.set_font('Arial', '', 9) #setting font for text cells\n",
    "    pdf.set_xy(10,15) #place cursor\n",
    "    pdf.multi_cell(w=190, h=5, txt=intro, align='J')\n",
    "    \n",
    "    #Total Score Output\n",
    "    total_score = df['score'].mean()\n",
    "    total_score_s = str(round(total_score,2))\n",
    "    competition_mean = 0.49\n",
    "    competition_mean_s = \"0.49\"\n",
    "    top10 = 0.72\n",
    "    top10_s = \"0.72\"\n",
    "    top25 = 0.67\n",
    "    top25_s = \"0.67\"\n",
    "    top50 = 0.61\n",
    "    top50_s = \"0.61\"\n",
    "    text = \"Your total score is \"+total_score_s+\" This is \"\n",
    "    if total_score<competition_mean:\n",
    "        text = text+\"a low score in comparison to a dataset of 65 Data Scientist CV's. \"\n",
    "    elif total_score<top25:\n",
    "        text = text+\"an average score in comparison to a dataset of 65 Data Scientist CV's. \"\n",
    "        if(total_score<top50):\n",
    "            text = text+\"Please note that allthough you score is average, more than 50% of Data Scientist CV's score better than yours. \"\n",
    "    else:\n",
    "        text = text+\"a high score in comparison to a dataset of 65 Data Scientist CV's. \"\n",
    "    text = text+\"The mean score among these data scientist CV's is \"\\\n",
    "    +competition_mean_s+\". The top 10% of these CV's scored \"+top10_s \\\n",
    "    +\". The top 25% of these CV's scored \"+top25_s+\". The top 50% of these CV's scored \"+top50_s+\".\"\n",
    "    \n",
    "    text = text.encode('latin-1', 'replace').decode('latin-1')\n",
    "    pdf.set_xy(pdf.get_x(), pdf.get_y()+5)\n",
    "    pdf.set_font('Arial', 'B', 11) #setting font for title\n",
    "    pdf.cell(40, 0, 'Your Score: '+total_score_s, ln=2) #Write Title\n",
    "    pdf.set_font('Arial', '', 9)\n",
    "    pdf.set_xy(pdf.get_x(), pdf.get_y()+5)\n",
    "    pdf.multi_cell(w=190, h=5, txt=text)\n",
    "    \n",
    "    pdf.set_xy(pdf.get_x(), pdf.get_y()+5)\n",
    "    pdf.set_font('Arial', 'B', 11) #setting font for title\n",
    "    pdf.cell(40, 0, 'Comparrison Plot', ln=2) #Write Title\n",
    "    pdf.set_font('Arial', '', 9)\n",
    "    pdf.set_xy(pdf.get_x(), pdf.get_y()+5)\n",
    "    pdf.multi_cell(w=190, h=5, txt=plot_explanation)\n",
    "    \n",
    "    pdf.image('fig1.png', w=200)#x = pdf.get_x, y = 15, w = 200)#, h = 200, type = '', link = '')\n",
    "    \n",
    "    pdf.add_page()\n",
    "    pdf.set_font('Arial', 'B', 11) #setting font for title\n",
    "    pdf.cell(40, 0, 'Analysis per input skill', ln=2) #Write Title\n",
    "    pdf.set_font('Arial', '', 9)\n",
    "    pdf.set_xy(pdf.get_x(), pdf.get_y()+5)\n",
    "    pdf.multi_cell(w=190, h=5, txt=per_skill_description)\n",
    "    pdf.set_xy(pdf.get_x(),pdf.get_y()+5)\n",
    "    \n",
    "    for index, row in df.iterrows():\n",
    "        mean_score = df_cv_summary[df_cv_summary['cluster']==row['cluster']]['mean'].mean()\n",
    "        mean_score_s = str(round(mean_score,2))\n",
    "        score = round(row['score'],2)\n",
    "        text = \"Input Skill \"+str(index+1)+\":\\nYour input skill \\\"\"+row['skill']+\"\\\" was clustered in cluster \"+str(row['cluster'])+\\\n",
    "        \" which contains skills regarding \"+cluster_label_bigrams[row['cluster']]+\\\n",
    "        \". Your score for this skill is \"+str(score)+\".\"\n",
    "        \n",
    "        if score<mean_score:\n",
    "            text = text + \"This score is quite low, the average score among Data Scientist CV's is \"+mean_score_s+\" this may be due to a misclassification of our model but this could also indicate an opportunity to further clarify your CV.\"\n",
    "        else:\n",
    "            text = text + \" this is above the average score among Data Scientist CV's which is \"+mean_score_s\n",
    "            \n",
    "        text = text+\"\\n------------------------------------------------------------------\\n\"\n",
    "        \n",
    "        text = text.encode('latin-1', 'replace').decode('latin-1')\n",
    "        pdf.multi_cell(w=190, h=5, txt = text)\n",
    "    \n",
    "    pdf.add_page()\n",
    "    pdf.set_font('Arial', 'B', 11) #setting font for title\n",
    "    pdf.cell(40, 0, 'Your score compared to Data Scientist CV\\'s', ln=2) #Write Title\n",
    "    pdf.set_font('Arial', '', 9)\n",
    "    pdf.set_xy(pdf.get_x(), pdf.get_y()+5)\n",
    "    pdf.multi_cell(w=190, h=5, txt=table_description)\n",
    "    pdf.set_xy(pdf.get_x(),pdf.get_y()+5)\n",
    "    pdf.image('table1.png',w=200)\n",
    "    return pdf\n",
    "skills = ['programming skills','computer science','experience as a software developer','using git and github','machine learning techniques']\n",
    "pdf = return_pdf(skills)\n",
    "pdf.output('report.pdf', 'F')"
   ]
  },
  {
   "cell_type": "code",
   "execution_count": 5,
   "metadata": {},
   "outputs": [],
   "source": [
    "def get_plot(cv): #takes in list of skills and returns a plot with score for each cluster\n",
    "    df_sim = pd.DataFrame()\n",
    "    df_sim['cluster'] = range(len(k31_full.cluster_centers_))\n",
    "    \n",
    "    labels = cluster_label_bigrams\n",
    "    importance = cluster_importance\n",
    "    \n",
    "    model = 'all-distilroberta-v1'\n",
    "    model = SentenceTransformer(model)\n",
    "    embeddings_cv = model.encode(cv)\n",
    "    embeddings_f = embeddings_cv.astype(float)\n",
    "    clusters_cv = k31_full.predict(embeddings_f)\n",
    "    clusters_cv_l  = clusters_cv.tolist()\n",
    "    \n",
    "    cv_scores = []\n",
    "    \n",
    "    for i, cluster in enumerate(clusters_cv):\n",
    "        cv_scores.append(util.pytorch_cos_sim(k31_full.cluster_centers_[cluster], embeddings_f[i]).item())\n",
    "    \n",
    "    df_report = pd.DataFrame()\n",
    "    df_report['skill']=cv\n",
    "    df_report['cluster']=clusters_cv_l\n",
    "    df_report['score']=cv_scores\n",
    "    \n",
    "    scores = []\n",
    "    for cluster in range(len(k31_full.cluster_centers_)):\n",
    "        if cluster not in clusters_cv_l:\n",
    "            scores.append(0)\n",
    "        else:\n",
    "            score = 0\n",
    "            indexes = np.where(clusters_cv==cluster)[0]\n",
    "            for i in indexes:\n",
    "                if cv_scores[i] > score:\n",
    "                    score = cv_scores[i]\n",
    "            scores.append(score)   \n",
    "    \n",
    "    df_sim['score'] = scores\n",
    "    df_sim['importance'] = importance\n",
    "    df_sim['labels'] = labels\n",
    "    \n",
    "    df_sim['Your Coverage'] = df_sim['importance']*df_sim['score']\n",
    "    df_sim['Skill Group Importance'] = df_sim['importance']-df_sim['Your Coverage']\n",
    "    df_sim = df_sim.sort_values('importance')\n",
    "    \n",
    "    fig = px.bar(df_sim, y='labels', x=[\"Your Coverage\",\"Skill Group Importance\"], hover_data = ['importance'])\n",
    "    fig.update_layout(height=3*300, width=3*300, \\\n",
    "                          #font=dict(size=10),\\\n",
    "                          title = 'Input CV Similarity to Requirements in Job Postings',\\\n",
    "                          barmode='stack', \\\n",
    "                          legend_title_text = '', \\\n",
    "                          yaxis_title=\"Importance\",\\\n",
    "                          xaxis_title=\"Coverage\",\\\n",
    "                          legend=dict(yanchor=\"bottom\",y=0,xanchor=\"right\",x=1\n",
    "                        \n",
    "))\n",
    "    return fig, df_report, df_sim, scores"
   ]
  },
  {
   "cell_type": "code",
   "execution_count": 56,
   "metadata": {},
   "outputs": [
    {
     "data": {
      "application/vnd.plotly.v1+json": {
       "config": {
        "plotlyServerURL": "https://plot.ly"
       },
       "data": [
        {
         "alignmentgroup": "True",
         "customdata": [
          [
           0.14917127071823205
          ],
          [
           0.1703499079189687
          ],
          [
           0.1887661141804788
          ],
          [
           0.23296500920810312
          ],
          [
           0.23756906077348067
          ],
          [
           0.23756906077348067
          ],
          [
           0.2440147329650092
          ],
          [
           0.27440147329650094
          ],
          [
           0.27716390423572745
          ],
          [
           0.2918968692449355
          ],
          [
           0.3029465930018416
          ],
          [
           0.31123388581952116
          ],
          [
           0.3241252302025783
          ],
          [
           0.3370165745856354
          ],
          [
           0.3453038674033149
          ],
          [
           0.358195211786372
          ],
          [
           0.36095764272559855
          ],
          [
           0.3876611418047882
          ],
          [
           0.38950276243093923
          ],
          [
           0.39134438305709024
          ],
          [
           0.40239410681399634
          ],
          [
           0.4143646408839779
          ],
          [
           0.42173112338858193
          ],
          [
           0.4281767955801105
          ],
          [
           0.429097605893186
          ],
          [
           0.43370165745856354
          ],
          [
           0.43646408839779005
          ],
          [
           0.4429097605893186
          ],
          [
           0.4604051565377532
          ],
          [
           0.5359116022099447
          ],
          [
           0.5377532228360957
          ]
         ],
         "hovertemplate": "variable=Your Coverage<br>value=%{x}<br>labels=%{y}<br>importance=%{customdata[0]}<extra></extra>",
         "legendgroup": "Your Coverage",
         "marker": {
          "color": "#636efa",
          "pattern": {
           "shape": ""
          }
         },
         "name": "Your Coverage",
         "offsetgroup": "Your Coverage",
         "orientation": "h",
         "showlegend": true,
         "textposition": "auto",
         "type": "bar",
         "x": [
          0,
          0,
          0,
          0,
          0,
          0,
          0,
          0,
          0,
          0,
          0,
          0,
          0,
          0,
          0,
          0,
          0,
          0,
          0,
          0,
          0,
          0,
          0.09235642468136676,
          0,
          0,
          0,
          0,
          0,
          0,
          0,
          0.3023196127133671
         ],
         "xaxis": "x",
         "y": [
          "<b>deep</b> <b>learning</b>, machine learning, experience deep",
          "<b>experience</b> <b>working</b>, single cell, next-generation sequencing",
          "<b>years</b> <b>experience</b>, related field, years relevant",
          "<b>experience</b> <b>cloud</b>, google cloud, cloud computing",
          "<b>knowledge</b> <b>sql</b>, relational databases, sql queries",
          "<b>track</b> <b>record</b>, research projects, scientific technical",
          "<b>data</b> <b>visualization</b>, visualization tools, experience data",
          "<b>predictive</b> <b>models</b>, machine learning, model performance",
          "<b>ability</b> <b>work</b>, work independently, fast-paced environment",
          "<b>big</b> <b>data</b>, experience working, experience big",
          "<b>problem-solving</b> <b>skills</b>, problem solving, strong analytical",
          "<b>learn</b> <b>new</b>, new technologies, eager learn",
          "<b>data</b> <b>quality</b>, data management, data pipelines",
          "<b>helping</b> <b>others</b>, people around, lasting mark",
          "<b>machine</b> <b>learning</b>, learning models, learning algorithms",
          "<b>data</b> <b>analysis</b>, results clear, track record",
          "<b>team</b> <b>player</b>, ability work, team members",
          "<b>data</b> <b>sets</b>, data analysis, data sources",
          "<b>years</b> <b>experience</b>, experience data, data science",
          "<b>working</b> <b>environment</b>, work environment, professional development",
          "<b>fluent</b> <b>english</b>, communication skills, english fluent",
          "<b>communication</b> <b>skills</b>, excellent communication, skills excellent",
          "<b>attention</b> <b>detail</b>, natural language, social media",
          "<b>data</b> <b>science</b>, data scientists, data scientist",
          "<b>business</b> <b>stakeholders</b>, work closely, internal external",
          "<b>business</b> <b>problems</b>, translate business, understand business",
          "<b>machine</b> <b>learning</b>, learning techniques, machine learning,",
          "<b>version</b> <b>control</b>, software engineering, best practices",
          "<b>experience</b> <b>working</b>, software development, project management",
          "<b>computer</b> <b>science,</b>, computer science, master’s degree",
          "<b>programming</b> <b>skills</b>, programming languages, data science"
         ],
         "yaxis": "y"
        },
        {
         "alignmentgroup": "True",
         "customdata": [
          [
           0.14917127071823205
          ],
          [
           0.1703499079189687
          ],
          [
           0.1887661141804788
          ],
          [
           0.23296500920810312
          ],
          [
           0.23756906077348067
          ],
          [
           0.23756906077348067
          ],
          [
           0.2440147329650092
          ],
          [
           0.27440147329650094
          ],
          [
           0.27716390423572745
          ],
          [
           0.2918968692449355
          ],
          [
           0.3029465930018416
          ],
          [
           0.31123388581952116
          ],
          [
           0.3241252302025783
          ],
          [
           0.3370165745856354
          ],
          [
           0.3453038674033149
          ],
          [
           0.358195211786372
          ],
          [
           0.36095764272559855
          ],
          [
           0.3876611418047882
          ],
          [
           0.38950276243093923
          ],
          [
           0.39134438305709024
          ],
          [
           0.40239410681399634
          ],
          [
           0.4143646408839779
          ],
          [
           0.42173112338858193
          ],
          [
           0.4281767955801105
          ],
          [
           0.429097605893186
          ],
          [
           0.43370165745856354
          ],
          [
           0.43646408839779005
          ],
          [
           0.4429097605893186
          ],
          [
           0.4604051565377532
          ],
          [
           0.5359116022099447
          ],
          [
           0.5377532228360957
          ]
         ],
         "hovertemplate": "variable=Skill Group Importance<br>value=%{x}<br>labels=%{y}<br>importance=%{customdata[0]}<extra></extra>",
         "legendgroup": "Skill Group Importance",
         "marker": {
          "color": "#EF553B",
          "pattern": {
           "shape": ""
          }
         },
         "name": "Skill Group Importance",
         "offsetgroup": "Skill Group Importance",
         "orientation": "h",
         "showlegend": true,
         "textposition": "auto",
         "type": "bar",
         "x": [
          0.14917127071823205,
          0.1703499079189687,
          0.1887661141804788,
          0.23296500920810312,
          0.23756906077348067,
          0.23756906077348067,
          0.2440147329650092,
          0.27440147329650094,
          0.27716390423572745,
          0.2918968692449355,
          0.3029465930018416,
          0.31123388581952116,
          0.3241252302025783,
          0.3370165745856354,
          0.3453038674033149,
          0.358195211786372,
          0.36095764272559855,
          0.3876611418047882,
          0.38950276243093923,
          0.39134438305709024,
          0.40239410681399634,
          0.4143646408839779,
          0.32937469870721514,
          0.4281767955801105,
          0.429097605893186,
          0.43370165745856354,
          0.43646408839779005,
          0.4429097605893186,
          0.4604051565377532,
          0.5359116022099447,
          0.23543361012272862
         ],
         "xaxis": "x",
         "y": [
          "<b>deep</b> <b>learning</b>, machine learning, experience deep",
          "<b>experience</b> <b>working</b>, single cell, next-generation sequencing",
          "<b>years</b> <b>experience</b>, related field, years relevant",
          "<b>experience</b> <b>cloud</b>, google cloud, cloud computing",
          "<b>knowledge</b> <b>sql</b>, relational databases, sql queries",
          "<b>track</b> <b>record</b>, research projects, scientific technical",
          "<b>data</b> <b>visualization</b>, visualization tools, experience data",
          "<b>predictive</b> <b>models</b>, machine learning, model performance",
          "<b>ability</b> <b>work</b>, work independently, fast-paced environment",
          "<b>big</b> <b>data</b>, experience working, experience big",
          "<b>problem-solving</b> <b>skills</b>, problem solving, strong analytical",
          "<b>learn</b> <b>new</b>, new technologies, eager learn",
          "<b>data</b> <b>quality</b>, data management, data pipelines",
          "<b>helping</b> <b>others</b>, people around, lasting mark",
          "<b>machine</b> <b>learning</b>, learning models, learning algorithms",
          "<b>data</b> <b>analysis</b>, results clear, track record",
          "<b>team</b> <b>player</b>, ability work, team members",
          "<b>data</b> <b>sets</b>, data analysis, data sources",
          "<b>years</b> <b>experience</b>, experience data, data science",
          "<b>working</b> <b>environment</b>, work environment, professional development",
          "<b>fluent</b> <b>english</b>, communication skills, english fluent",
          "<b>communication</b> <b>skills</b>, excellent communication, skills excellent",
          "<b>attention</b> <b>detail</b>, natural language, social media",
          "<b>data</b> <b>science</b>, data scientists, data scientist",
          "<b>business</b> <b>stakeholders</b>, work closely, internal external",
          "<b>business</b> <b>problems</b>, translate business, understand business",
          "<b>machine</b> <b>learning</b>, learning techniques, machine learning,",
          "<b>version</b> <b>control</b>, software engineering, best practices",
          "<b>experience</b> <b>working</b>, software development, project management",
          "<b>computer</b> <b>science,</b>, computer science, master’s degree",
          "<b>programming</b> <b>skills</b>, programming languages, data science"
         ],
         "yaxis": "y"
        }
       ],
       "layout": {
        "barmode": "stack",
        "height": 900,
        "legend": {
         "title": {
          "text": ""
         },
         "tracegroupgap": 0,
         "x": 1,
         "xanchor": "right",
         "y": 0,
         "yanchor": "bottom"
        },
        "margin": {
         "t": 60
        },
        "template": {
         "data": {
          "bar": [
           {
            "error_x": {
             "color": "#2a3f5f"
            },
            "error_y": {
             "color": "#2a3f5f"
            },
            "marker": {
             "line": {
              "color": "#E5ECF6",
              "width": 0.5
             },
             "pattern": {
              "fillmode": "overlay",
              "size": 10,
              "solidity": 0.2
             }
            },
            "type": "bar"
           }
          ],
          "barpolar": [
           {
            "marker": {
             "line": {
              "color": "#E5ECF6",
              "width": 0.5
             },
             "pattern": {
              "fillmode": "overlay",
              "size": 10,
              "solidity": 0.2
             }
            },
            "type": "barpolar"
           }
          ],
          "carpet": [
           {
            "aaxis": {
             "endlinecolor": "#2a3f5f",
             "gridcolor": "white",
             "linecolor": "white",
             "minorgridcolor": "white",
             "startlinecolor": "#2a3f5f"
            },
            "baxis": {
             "endlinecolor": "#2a3f5f",
             "gridcolor": "white",
             "linecolor": "white",
             "minorgridcolor": "white",
             "startlinecolor": "#2a3f5f"
            },
            "type": "carpet"
           }
          ],
          "choropleth": [
           {
            "colorbar": {
             "outlinewidth": 0,
             "ticks": ""
            },
            "type": "choropleth"
           }
          ],
          "contour": [
           {
            "colorbar": {
             "outlinewidth": 0,
             "ticks": ""
            },
            "colorscale": [
             [
              0,
              "#0d0887"
             ],
             [
              0.1111111111111111,
              "#46039f"
             ],
             [
              0.2222222222222222,
              "#7201a8"
             ],
             [
              0.3333333333333333,
              "#9c179e"
             ],
             [
              0.4444444444444444,
              "#bd3786"
             ],
             [
              0.5555555555555556,
              "#d8576b"
             ],
             [
              0.6666666666666666,
              "#ed7953"
             ],
             [
              0.7777777777777778,
              "#fb9f3a"
             ],
             [
              0.8888888888888888,
              "#fdca26"
             ],
             [
              1,
              "#f0f921"
             ]
            ],
            "type": "contour"
           }
          ],
          "contourcarpet": [
           {
            "colorbar": {
             "outlinewidth": 0,
             "ticks": ""
            },
            "type": "contourcarpet"
           }
          ],
          "heatmap": [
           {
            "colorbar": {
             "outlinewidth": 0,
             "ticks": ""
            },
            "colorscale": [
             [
              0,
              "#0d0887"
             ],
             [
              0.1111111111111111,
              "#46039f"
             ],
             [
              0.2222222222222222,
              "#7201a8"
             ],
             [
              0.3333333333333333,
              "#9c179e"
             ],
             [
              0.4444444444444444,
              "#bd3786"
             ],
             [
              0.5555555555555556,
              "#d8576b"
             ],
             [
              0.6666666666666666,
              "#ed7953"
             ],
             [
              0.7777777777777778,
              "#fb9f3a"
             ],
             [
              0.8888888888888888,
              "#fdca26"
             ],
             [
              1,
              "#f0f921"
             ]
            ],
            "type": "heatmap"
           }
          ],
          "heatmapgl": [
           {
            "colorbar": {
             "outlinewidth": 0,
             "ticks": ""
            },
            "colorscale": [
             [
              0,
              "#0d0887"
             ],
             [
              0.1111111111111111,
              "#46039f"
             ],
             [
              0.2222222222222222,
              "#7201a8"
             ],
             [
              0.3333333333333333,
              "#9c179e"
             ],
             [
              0.4444444444444444,
              "#bd3786"
             ],
             [
              0.5555555555555556,
              "#d8576b"
             ],
             [
              0.6666666666666666,
              "#ed7953"
             ],
             [
              0.7777777777777778,
              "#fb9f3a"
             ],
             [
              0.8888888888888888,
              "#fdca26"
             ],
             [
              1,
              "#f0f921"
             ]
            ],
            "type": "heatmapgl"
           }
          ],
          "histogram": [
           {
            "marker": {
             "pattern": {
              "fillmode": "overlay",
              "size": 10,
              "solidity": 0.2
             }
            },
            "type": "histogram"
           }
          ],
          "histogram2d": [
           {
            "colorbar": {
             "outlinewidth": 0,
             "ticks": ""
            },
            "colorscale": [
             [
              0,
              "#0d0887"
             ],
             [
              0.1111111111111111,
              "#46039f"
             ],
             [
              0.2222222222222222,
              "#7201a8"
             ],
             [
              0.3333333333333333,
              "#9c179e"
             ],
             [
              0.4444444444444444,
              "#bd3786"
             ],
             [
              0.5555555555555556,
              "#d8576b"
             ],
             [
              0.6666666666666666,
              "#ed7953"
             ],
             [
              0.7777777777777778,
              "#fb9f3a"
             ],
             [
              0.8888888888888888,
              "#fdca26"
             ],
             [
              1,
              "#f0f921"
             ]
            ],
            "type": "histogram2d"
           }
          ],
          "histogram2dcontour": [
           {
            "colorbar": {
             "outlinewidth": 0,
             "ticks": ""
            },
            "colorscale": [
             [
              0,
              "#0d0887"
             ],
             [
              0.1111111111111111,
              "#46039f"
             ],
             [
              0.2222222222222222,
              "#7201a8"
             ],
             [
              0.3333333333333333,
              "#9c179e"
             ],
             [
              0.4444444444444444,
              "#bd3786"
             ],
             [
              0.5555555555555556,
              "#d8576b"
             ],
             [
              0.6666666666666666,
              "#ed7953"
             ],
             [
              0.7777777777777778,
              "#fb9f3a"
             ],
             [
              0.8888888888888888,
              "#fdca26"
             ],
             [
              1,
              "#f0f921"
             ]
            ],
            "type": "histogram2dcontour"
           }
          ],
          "mesh3d": [
           {
            "colorbar": {
             "outlinewidth": 0,
             "ticks": ""
            },
            "type": "mesh3d"
           }
          ],
          "parcoords": [
           {
            "line": {
             "colorbar": {
              "outlinewidth": 0,
              "ticks": ""
             }
            },
            "type": "parcoords"
           }
          ],
          "pie": [
           {
            "automargin": true,
            "type": "pie"
           }
          ],
          "scatter": [
           {
            "marker": {
             "colorbar": {
              "outlinewidth": 0,
              "ticks": ""
             }
            },
            "type": "scatter"
           }
          ],
          "scatter3d": [
           {
            "line": {
             "colorbar": {
              "outlinewidth": 0,
              "ticks": ""
             }
            },
            "marker": {
             "colorbar": {
              "outlinewidth": 0,
              "ticks": ""
             }
            },
            "type": "scatter3d"
           }
          ],
          "scattercarpet": [
           {
            "marker": {
             "colorbar": {
              "outlinewidth": 0,
              "ticks": ""
             }
            },
            "type": "scattercarpet"
           }
          ],
          "scattergeo": [
           {
            "marker": {
             "colorbar": {
              "outlinewidth": 0,
              "ticks": ""
             }
            },
            "type": "scattergeo"
           }
          ],
          "scattergl": [
           {
            "marker": {
             "colorbar": {
              "outlinewidth": 0,
              "ticks": ""
             }
            },
            "type": "scattergl"
           }
          ],
          "scattermapbox": [
           {
            "marker": {
             "colorbar": {
              "outlinewidth": 0,
              "ticks": ""
             }
            },
            "type": "scattermapbox"
           }
          ],
          "scatterpolar": [
           {
            "marker": {
             "colorbar": {
              "outlinewidth": 0,
              "ticks": ""
             }
            },
            "type": "scatterpolar"
           }
          ],
          "scatterpolargl": [
           {
            "marker": {
             "colorbar": {
              "outlinewidth": 0,
              "ticks": ""
             }
            },
            "type": "scatterpolargl"
           }
          ],
          "scatterternary": [
           {
            "marker": {
             "colorbar": {
              "outlinewidth": 0,
              "ticks": ""
             }
            },
            "type": "scatterternary"
           }
          ],
          "surface": [
           {
            "colorbar": {
             "outlinewidth": 0,
             "ticks": ""
            },
            "colorscale": [
             [
              0,
              "#0d0887"
             ],
             [
              0.1111111111111111,
              "#46039f"
             ],
             [
              0.2222222222222222,
              "#7201a8"
             ],
             [
              0.3333333333333333,
              "#9c179e"
             ],
             [
              0.4444444444444444,
              "#bd3786"
             ],
             [
              0.5555555555555556,
              "#d8576b"
             ],
             [
              0.6666666666666666,
              "#ed7953"
             ],
             [
              0.7777777777777778,
              "#fb9f3a"
             ],
             [
              0.8888888888888888,
              "#fdca26"
             ],
             [
              1,
              "#f0f921"
             ]
            ],
            "type": "surface"
           }
          ],
          "table": [
           {
            "cells": {
             "fill": {
              "color": "#EBF0F8"
             },
             "line": {
              "color": "white"
             }
            },
            "header": {
             "fill": {
              "color": "#C8D4E3"
             },
             "line": {
              "color": "white"
             }
            },
            "type": "table"
           }
          ]
         },
         "layout": {
          "annotationdefaults": {
           "arrowcolor": "#2a3f5f",
           "arrowhead": 0,
           "arrowwidth": 1
          },
          "autotypenumbers": "strict",
          "coloraxis": {
           "colorbar": {
            "outlinewidth": 0,
            "ticks": ""
           }
          },
          "colorscale": {
           "diverging": [
            [
             0,
             "#8e0152"
            ],
            [
             0.1,
             "#c51b7d"
            ],
            [
             0.2,
             "#de77ae"
            ],
            [
             0.3,
             "#f1b6da"
            ],
            [
             0.4,
             "#fde0ef"
            ],
            [
             0.5,
             "#f7f7f7"
            ],
            [
             0.6,
             "#e6f5d0"
            ],
            [
             0.7,
             "#b8e186"
            ],
            [
             0.8,
             "#7fbc41"
            ],
            [
             0.9,
             "#4d9221"
            ],
            [
             1,
             "#276419"
            ]
           ],
           "sequential": [
            [
             0,
             "#0d0887"
            ],
            [
             0.1111111111111111,
             "#46039f"
            ],
            [
             0.2222222222222222,
             "#7201a8"
            ],
            [
             0.3333333333333333,
             "#9c179e"
            ],
            [
             0.4444444444444444,
             "#bd3786"
            ],
            [
             0.5555555555555556,
             "#d8576b"
            ],
            [
             0.6666666666666666,
             "#ed7953"
            ],
            [
             0.7777777777777778,
             "#fb9f3a"
            ],
            [
             0.8888888888888888,
             "#fdca26"
            ],
            [
             1,
             "#f0f921"
            ]
           ],
           "sequentialminus": [
            [
             0,
             "#0d0887"
            ],
            [
             0.1111111111111111,
             "#46039f"
            ],
            [
             0.2222222222222222,
             "#7201a8"
            ],
            [
             0.3333333333333333,
             "#9c179e"
            ],
            [
             0.4444444444444444,
             "#bd3786"
            ],
            [
             0.5555555555555556,
             "#d8576b"
            ],
            [
             0.6666666666666666,
             "#ed7953"
            ],
            [
             0.7777777777777778,
             "#fb9f3a"
            ],
            [
             0.8888888888888888,
             "#fdca26"
            ],
            [
             1,
             "#f0f921"
            ]
           ]
          },
          "colorway": [
           "#636efa",
           "#EF553B",
           "#00cc96",
           "#ab63fa",
           "#FFA15A",
           "#19d3f3",
           "#FF6692",
           "#B6E880",
           "#FF97FF",
           "#FECB52"
          ],
          "font": {
           "color": "#2a3f5f"
          },
          "geo": {
           "bgcolor": "white",
           "lakecolor": "white",
           "landcolor": "#E5ECF6",
           "showlakes": true,
           "showland": true,
           "subunitcolor": "white"
          },
          "hoverlabel": {
           "align": "left"
          },
          "hovermode": "closest",
          "mapbox": {
           "style": "light"
          },
          "paper_bgcolor": "white",
          "plot_bgcolor": "#E5ECF6",
          "polar": {
           "angularaxis": {
            "gridcolor": "white",
            "linecolor": "white",
            "ticks": ""
           },
           "bgcolor": "#E5ECF6",
           "radialaxis": {
            "gridcolor": "white",
            "linecolor": "white",
            "ticks": ""
           }
          },
          "scene": {
           "xaxis": {
            "backgroundcolor": "#E5ECF6",
            "gridcolor": "white",
            "gridwidth": 2,
            "linecolor": "white",
            "showbackground": true,
            "ticks": "",
            "zerolinecolor": "white"
           },
           "yaxis": {
            "backgroundcolor": "#E5ECF6",
            "gridcolor": "white",
            "gridwidth": 2,
            "linecolor": "white",
            "showbackground": true,
            "ticks": "",
            "zerolinecolor": "white"
           },
           "zaxis": {
            "backgroundcolor": "#E5ECF6",
            "gridcolor": "white",
            "gridwidth": 2,
            "linecolor": "white",
            "showbackground": true,
            "ticks": "",
            "zerolinecolor": "white"
           }
          },
          "shapedefaults": {
           "line": {
            "color": "#2a3f5f"
           }
          },
          "ternary": {
           "aaxis": {
            "gridcolor": "white",
            "linecolor": "white",
            "ticks": ""
           },
           "baxis": {
            "gridcolor": "white",
            "linecolor": "white",
            "ticks": ""
           },
           "bgcolor": "#E5ECF6",
           "caxis": {
            "gridcolor": "white",
            "linecolor": "white",
            "ticks": ""
           }
          },
          "title": {
           "x": 0.05
          },
          "xaxis": {
           "automargin": true,
           "gridcolor": "white",
           "linecolor": "white",
           "ticks": "",
           "title": {
            "standoff": 15
           },
           "zerolinecolor": "white",
           "zerolinewidth": 2
          },
          "yaxis": {
           "automargin": true,
           "gridcolor": "white",
           "linecolor": "white",
           "ticks": "",
           "title": {
            "standoff": 15
           },
           "zerolinecolor": "white",
           "zerolinewidth": 2
          }
         }
        },
        "title": {
         "text": "Input CV Similarity to Requirements in Job Postings"
        },
        "width": 900,
        "xaxis": {
         "anchor": "y",
         "domain": [
          0,
          1
         ],
         "title": {
          "text": "Coverage"
         }
        },
        "yaxis": {
         "anchor": "x",
         "domain": [
          0,
          1
         ],
         "title": {
          "text": "Importance"
         }
        }
       }
      },
      "text/html": [
       "<div>                            <div id=\"58e7cde1-d925-4160-b0b5-2db34bec44f8\" class=\"plotly-graph-div\" style=\"height:900px; width:900px;\"></div>            <script type=\"text/javascript\">                require([\"plotly\"], function(Plotly) {                    window.PLOTLYENV=window.PLOTLYENV || {};                                    if (document.getElementById(\"58e7cde1-d925-4160-b0b5-2db34bec44f8\")) {                    Plotly.newPlot(                        \"58e7cde1-d925-4160-b0b5-2db34bec44f8\",                        [{\"alignmentgroup\":\"True\",\"customdata\":[[0.14917127071823205],[0.1703499079189687],[0.1887661141804788],[0.23296500920810312],[0.23756906077348067],[0.23756906077348067],[0.2440147329650092],[0.27440147329650094],[0.27716390423572745],[0.2918968692449355],[0.3029465930018416],[0.31123388581952116],[0.3241252302025783],[0.3370165745856354],[0.3453038674033149],[0.358195211786372],[0.36095764272559855],[0.3876611418047882],[0.38950276243093923],[0.39134438305709024],[0.40239410681399634],[0.4143646408839779],[0.42173112338858193],[0.4281767955801105],[0.429097605893186],[0.43370165745856354],[0.43646408839779005],[0.4429097605893186],[0.4604051565377532],[0.5359116022099447],[0.5377532228360957]],\"hovertemplate\":\"variable=Your Coverage<br>value=%{x}<br>labels=%{y}<br>importance=%{customdata[0]}<extra></extra>\",\"legendgroup\":\"Your Coverage\",\"marker\":{\"color\":\"#636efa\",\"pattern\":{\"shape\":\"\"}},\"name\":\"Your Coverage\",\"offsetgroup\":\"Your Coverage\",\"orientation\":\"h\",\"showlegend\":true,\"textposition\":\"auto\",\"type\":\"bar\",\"x\":[0.0,0.0,0.0,0.0,0.0,0.0,0.0,0.0,0.0,0.0,0.0,0.0,0.0,0.0,0.0,0.0,0.0,0.0,0.0,0.0,0.0,0.0,0.09235642468136676,0.0,0.0,0.0,0.0,0.0,0.0,0.0,0.3023196127133671],\"xaxis\":\"x\",\"y\":[\"<b>deep</b> <b>learning</b>, machine learning, experience deep\",\"<b>experience</b> <b>working</b>, single cell, next-generation sequencing\",\"<b>years</b> <b>experience</b>, related field, years relevant\",\"<b>experience</b> <b>cloud</b>, google cloud, cloud computing\",\"<b>knowledge</b> <b>sql</b>, relational databases, sql queries\",\"<b>track</b> <b>record</b>, research projects, scientific technical\",\"<b>data</b> <b>visualization</b>, visualization tools, experience data\",\"<b>predictive</b> <b>models</b>, machine learning, model performance\",\"<b>ability</b> <b>work</b>, work independently, fast-paced environment\",\"<b>big</b> <b>data</b>, experience working, experience big\",\"<b>problem-solving</b> <b>skills</b>, problem solving, strong analytical\",\"<b>learn</b> <b>new</b>, new technologies, eager learn\",\"<b>data</b> <b>quality</b>, data management, data pipelines\",\"<b>helping</b> <b>others</b>, people around, lasting mark\",\"<b>machine</b> <b>learning</b>, learning models, learning algorithms\",\"<b>data</b> <b>analysis</b>, results clear, track record\",\"<b>team</b> <b>player</b>, ability work, team members\",\"<b>data</b> <b>sets</b>, data analysis, data sources\",\"<b>years</b> <b>experience</b>, experience data, data science\",\"<b>working</b> <b>environment</b>, work environment, professional development\",\"<b>fluent</b> <b>english</b>, communication skills, english fluent\",\"<b>communication</b> <b>skills</b>, excellent communication, skills excellent\",\"<b>attention</b> <b>detail</b>, natural language, social media\",\"<b>data</b> <b>science</b>, data scientists, data scientist\",\"<b>business</b> <b>stakeholders</b>, work closely, internal external\",\"<b>business</b> <b>problems</b>, translate business, understand business\",\"<b>machine</b> <b>learning</b>, learning techniques, machine learning,\",\"<b>version</b> <b>control</b>, software engineering, best practices\",\"<b>experience</b> <b>working</b>, software development, project management\",\"<b>computer</b> <b>science,</b>, computer science, master\\u2019s degree\",\"<b>programming</b> <b>skills</b>, programming languages, data science\"],\"yaxis\":\"y\"},{\"alignmentgroup\":\"True\",\"customdata\":[[0.14917127071823205],[0.1703499079189687],[0.1887661141804788],[0.23296500920810312],[0.23756906077348067],[0.23756906077348067],[0.2440147329650092],[0.27440147329650094],[0.27716390423572745],[0.2918968692449355],[0.3029465930018416],[0.31123388581952116],[0.3241252302025783],[0.3370165745856354],[0.3453038674033149],[0.358195211786372],[0.36095764272559855],[0.3876611418047882],[0.38950276243093923],[0.39134438305709024],[0.40239410681399634],[0.4143646408839779],[0.42173112338858193],[0.4281767955801105],[0.429097605893186],[0.43370165745856354],[0.43646408839779005],[0.4429097605893186],[0.4604051565377532],[0.5359116022099447],[0.5377532228360957]],\"hovertemplate\":\"variable=Skill Group Importance<br>value=%{x}<br>labels=%{y}<br>importance=%{customdata[0]}<extra></extra>\",\"legendgroup\":\"Skill Group Importance\",\"marker\":{\"color\":\"#EF553B\",\"pattern\":{\"shape\":\"\"}},\"name\":\"Skill Group Importance\",\"offsetgroup\":\"Skill Group Importance\",\"orientation\":\"h\",\"showlegend\":true,\"textposition\":\"auto\",\"type\":\"bar\",\"x\":[0.14917127071823205,0.1703499079189687,0.1887661141804788,0.23296500920810312,0.23756906077348067,0.23756906077348067,0.2440147329650092,0.27440147329650094,0.27716390423572745,0.2918968692449355,0.3029465930018416,0.31123388581952116,0.3241252302025783,0.3370165745856354,0.3453038674033149,0.358195211786372,0.36095764272559855,0.3876611418047882,0.38950276243093923,0.39134438305709024,0.40239410681399634,0.4143646408839779,0.32937469870721514,0.4281767955801105,0.429097605893186,0.43370165745856354,0.43646408839779005,0.4429097605893186,0.4604051565377532,0.5359116022099447,0.23543361012272862],\"xaxis\":\"x\",\"y\":[\"<b>deep</b> <b>learning</b>, machine learning, experience deep\",\"<b>experience</b> <b>working</b>, single cell, next-generation sequencing\",\"<b>years</b> <b>experience</b>, related field, years relevant\",\"<b>experience</b> <b>cloud</b>, google cloud, cloud computing\",\"<b>knowledge</b> <b>sql</b>, relational databases, sql queries\",\"<b>track</b> <b>record</b>, research projects, scientific technical\",\"<b>data</b> <b>visualization</b>, visualization tools, experience data\",\"<b>predictive</b> <b>models</b>, machine learning, model performance\",\"<b>ability</b> <b>work</b>, work independently, fast-paced environment\",\"<b>big</b> <b>data</b>, experience working, experience big\",\"<b>problem-solving</b> <b>skills</b>, problem solving, strong analytical\",\"<b>learn</b> <b>new</b>, new technologies, eager learn\",\"<b>data</b> <b>quality</b>, data management, data pipelines\",\"<b>helping</b> <b>others</b>, people around, lasting mark\",\"<b>machine</b> <b>learning</b>, learning models, learning algorithms\",\"<b>data</b> <b>analysis</b>, results clear, track record\",\"<b>team</b> <b>player</b>, ability work, team members\",\"<b>data</b> <b>sets</b>, data analysis, data sources\",\"<b>years</b> <b>experience</b>, experience data, data science\",\"<b>working</b> <b>environment</b>, work environment, professional development\",\"<b>fluent</b> <b>english</b>, communication skills, english fluent\",\"<b>communication</b> <b>skills</b>, excellent communication, skills excellent\",\"<b>attention</b> <b>detail</b>, natural language, social media\",\"<b>data</b> <b>science</b>, data scientists, data scientist\",\"<b>business</b> <b>stakeholders</b>, work closely, internal external\",\"<b>business</b> <b>problems</b>, translate business, understand business\",\"<b>machine</b> <b>learning</b>, learning techniques, machine learning,\",\"<b>version</b> <b>control</b>, software engineering, best practices\",\"<b>experience</b> <b>working</b>, software development, project management\",\"<b>computer</b> <b>science,</b>, computer science, master\\u2019s degree\",\"<b>programming</b> <b>skills</b>, programming languages, data science\"],\"yaxis\":\"y\"}],                        {\"barmode\":\"stack\",\"height\":900,\"legend\":{\"title\":{\"text\":\"\"},\"tracegroupgap\":0,\"x\":1,\"xanchor\":\"right\",\"y\":0,\"yanchor\":\"bottom\"},\"margin\":{\"t\":60},\"template\":{\"data\":{\"bar\":[{\"error_x\":{\"color\":\"#2a3f5f\"},\"error_y\":{\"color\":\"#2a3f5f\"},\"marker\":{\"line\":{\"color\":\"#E5ECF6\",\"width\":0.5},\"pattern\":{\"fillmode\":\"overlay\",\"size\":10,\"solidity\":0.2}},\"type\":\"bar\"}],\"barpolar\":[{\"marker\":{\"line\":{\"color\":\"#E5ECF6\",\"width\":0.5},\"pattern\":{\"fillmode\":\"overlay\",\"size\":10,\"solidity\":0.2}},\"type\":\"barpolar\"}],\"carpet\":[{\"aaxis\":{\"endlinecolor\":\"#2a3f5f\",\"gridcolor\":\"white\",\"linecolor\":\"white\",\"minorgridcolor\":\"white\",\"startlinecolor\":\"#2a3f5f\"},\"baxis\":{\"endlinecolor\":\"#2a3f5f\",\"gridcolor\":\"white\",\"linecolor\":\"white\",\"minorgridcolor\":\"white\",\"startlinecolor\":\"#2a3f5f\"},\"type\":\"carpet\"}],\"choropleth\":[{\"colorbar\":{\"outlinewidth\":0,\"ticks\":\"\"},\"type\":\"choropleth\"}],\"contour\":[{\"colorbar\":{\"outlinewidth\":0,\"ticks\":\"\"},\"colorscale\":[[0.0,\"#0d0887\"],[0.1111111111111111,\"#46039f\"],[0.2222222222222222,\"#7201a8\"],[0.3333333333333333,\"#9c179e\"],[0.4444444444444444,\"#bd3786\"],[0.5555555555555556,\"#d8576b\"],[0.6666666666666666,\"#ed7953\"],[0.7777777777777778,\"#fb9f3a\"],[0.8888888888888888,\"#fdca26\"],[1.0,\"#f0f921\"]],\"type\":\"contour\"}],\"contourcarpet\":[{\"colorbar\":{\"outlinewidth\":0,\"ticks\":\"\"},\"type\":\"contourcarpet\"}],\"heatmap\":[{\"colorbar\":{\"outlinewidth\":0,\"ticks\":\"\"},\"colorscale\":[[0.0,\"#0d0887\"],[0.1111111111111111,\"#46039f\"],[0.2222222222222222,\"#7201a8\"],[0.3333333333333333,\"#9c179e\"],[0.4444444444444444,\"#bd3786\"],[0.5555555555555556,\"#d8576b\"],[0.6666666666666666,\"#ed7953\"],[0.7777777777777778,\"#fb9f3a\"],[0.8888888888888888,\"#fdca26\"],[1.0,\"#f0f921\"]],\"type\":\"heatmap\"}],\"heatmapgl\":[{\"colorbar\":{\"outlinewidth\":0,\"ticks\":\"\"},\"colorscale\":[[0.0,\"#0d0887\"],[0.1111111111111111,\"#46039f\"],[0.2222222222222222,\"#7201a8\"],[0.3333333333333333,\"#9c179e\"],[0.4444444444444444,\"#bd3786\"],[0.5555555555555556,\"#d8576b\"],[0.6666666666666666,\"#ed7953\"],[0.7777777777777778,\"#fb9f3a\"],[0.8888888888888888,\"#fdca26\"],[1.0,\"#f0f921\"]],\"type\":\"heatmapgl\"}],\"histogram\":[{\"marker\":{\"pattern\":{\"fillmode\":\"overlay\",\"size\":10,\"solidity\":0.2}},\"type\":\"histogram\"}],\"histogram2d\":[{\"colorbar\":{\"outlinewidth\":0,\"ticks\":\"\"},\"colorscale\":[[0.0,\"#0d0887\"],[0.1111111111111111,\"#46039f\"],[0.2222222222222222,\"#7201a8\"],[0.3333333333333333,\"#9c179e\"],[0.4444444444444444,\"#bd3786\"],[0.5555555555555556,\"#d8576b\"],[0.6666666666666666,\"#ed7953\"],[0.7777777777777778,\"#fb9f3a\"],[0.8888888888888888,\"#fdca26\"],[1.0,\"#f0f921\"]],\"type\":\"histogram2d\"}],\"histogram2dcontour\":[{\"colorbar\":{\"outlinewidth\":0,\"ticks\":\"\"},\"colorscale\":[[0.0,\"#0d0887\"],[0.1111111111111111,\"#46039f\"],[0.2222222222222222,\"#7201a8\"],[0.3333333333333333,\"#9c179e\"],[0.4444444444444444,\"#bd3786\"],[0.5555555555555556,\"#d8576b\"],[0.6666666666666666,\"#ed7953\"],[0.7777777777777778,\"#fb9f3a\"],[0.8888888888888888,\"#fdca26\"],[1.0,\"#f0f921\"]],\"type\":\"histogram2dcontour\"}],\"mesh3d\":[{\"colorbar\":{\"outlinewidth\":0,\"ticks\":\"\"},\"type\":\"mesh3d\"}],\"parcoords\":[{\"line\":{\"colorbar\":{\"outlinewidth\":0,\"ticks\":\"\"}},\"type\":\"parcoords\"}],\"pie\":[{\"automargin\":true,\"type\":\"pie\"}],\"scatter\":[{\"marker\":{\"colorbar\":{\"outlinewidth\":0,\"ticks\":\"\"}},\"type\":\"scatter\"}],\"scatter3d\":[{\"line\":{\"colorbar\":{\"outlinewidth\":0,\"ticks\":\"\"}},\"marker\":{\"colorbar\":{\"outlinewidth\":0,\"ticks\":\"\"}},\"type\":\"scatter3d\"}],\"scattercarpet\":[{\"marker\":{\"colorbar\":{\"outlinewidth\":0,\"ticks\":\"\"}},\"type\":\"scattercarpet\"}],\"scattergeo\":[{\"marker\":{\"colorbar\":{\"outlinewidth\":0,\"ticks\":\"\"}},\"type\":\"scattergeo\"}],\"scattergl\":[{\"marker\":{\"colorbar\":{\"outlinewidth\":0,\"ticks\":\"\"}},\"type\":\"scattergl\"}],\"scattermapbox\":[{\"marker\":{\"colorbar\":{\"outlinewidth\":0,\"ticks\":\"\"}},\"type\":\"scattermapbox\"}],\"scatterpolar\":[{\"marker\":{\"colorbar\":{\"outlinewidth\":0,\"ticks\":\"\"}},\"type\":\"scatterpolar\"}],\"scatterpolargl\":[{\"marker\":{\"colorbar\":{\"outlinewidth\":0,\"ticks\":\"\"}},\"type\":\"scatterpolargl\"}],\"scatterternary\":[{\"marker\":{\"colorbar\":{\"outlinewidth\":0,\"ticks\":\"\"}},\"type\":\"scatterternary\"}],\"surface\":[{\"colorbar\":{\"outlinewidth\":0,\"ticks\":\"\"},\"colorscale\":[[0.0,\"#0d0887\"],[0.1111111111111111,\"#46039f\"],[0.2222222222222222,\"#7201a8\"],[0.3333333333333333,\"#9c179e\"],[0.4444444444444444,\"#bd3786\"],[0.5555555555555556,\"#d8576b\"],[0.6666666666666666,\"#ed7953\"],[0.7777777777777778,\"#fb9f3a\"],[0.8888888888888888,\"#fdca26\"],[1.0,\"#f0f921\"]],\"type\":\"surface\"}],\"table\":[{\"cells\":{\"fill\":{\"color\":\"#EBF0F8\"},\"line\":{\"color\":\"white\"}},\"header\":{\"fill\":{\"color\":\"#C8D4E3\"},\"line\":{\"color\":\"white\"}},\"type\":\"table\"}]},\"layout\":{\"annotationdefaults\":{\"arrowcolor\":\"#2a3f5f\",\"arrowhead\":0,\"arrowwidth\":1},\"autotypenumbers\":\"strict\",\"coloraxis\":{\"colorbar\":{\"outlinewidth\":0,\"ticks\":\"\"}},\"colorscale\":{\"diverging\":[[0,\"#8e0152\"],[0.1,\"#c51b7d\"],[0.2,\"#de77ae\"],[0.3,\"#f1b6da\"],[0.4,\"#fde0ef\"],[0.5,\"#f7f7f7\"],[0.6,\"#e6f5d0\"],[0.7,\"#b8e186\"],[0.8,\"#7fbc41\"],[0.9,\"#4d9221\"],[1,\"#276419\"]],\"sequential\":[[0.0,\"#0d0887\"],[0.1111111111111111,\"#46039f\"],[0.2222222222222222,\"#7201a8\"],[0.3333333333333333,\"#9c179e\"],[0.4444444444444444,\"#bd3786\"],[0.5555555555555556,\"#d8576b\"],[0.6666666666666666,\"#ed7953\"],[0.7777777777777778,\"#fb9f3a\"],[0.8888888888888888,\"#fdca26\"],[1.0,\"#f0f921\"]],\"sequentialminus\":[[0.0,\"#0d0887\"],[0.1111111111111111,\"#46039f\"],[0.2222222222222222,\"#7201a8\"],[0.3333333333333333,\"#9c179e\"],[0.4444444444444444,\"#bd3786\"],[0.5555555555555556,\"#d8576b\"],[0.6666666666666666,\"#ed7953\"],[0.7777777777777778,\"#fb9f3a\"],[0.8888888888888888,\"#fdca26\"],[1.0,\"#f0f921\"]]},\"colorway\":[\"#636efa\",\"#EF553B\",\"#00cc96\",\"#ab63fa\",\"#FFA15A\",\"#19d3f3\",\"#FF6692\",\"#B6E880\",\"#FF97FF\",\"#FECB52\"],\"font\":{\"color\":\"#2a3f5f\"},\"geo\":{\"bgcolor\":\"white\",\"lakecolor\":\"white\",\"landcolor\":\"#E5ECF6\",\"showlakes\":true,\"showland\":true,\"subunitcolor\":\"white\"},\"hoverlabel\":{\"align\":\"left\"},\"hovermode\":\"closest\",\"mapbox\":{\"style\":\"light\"},\"paper_bgcolor\":\"white\",\"plot_bgcolor\":\"#E5ECF6\",\"polar\":{\"angularaxis\":{\"gridcolor\":\"white\",\"linecolor\":\"white\",\"ticks\":\"\"},\"bgcolor\":\"#E5ECF6\",\"radialaxis\":{\"gridcolor\":\"white\",\"linecolor\":\"white\",\"ticks\":\"\"}},\"scene\":{\"xaxis\":{\"backgroundcolor\":\"#E5ECF6\",\"gridcolor\":\"white\",\"gridwidth\":2,\"linecolor\":\"white\",\"showbackground\":true,\"ticks\":\"\",\"zerolinecolor\":\"white\"},\"yaxis\":{\"backgroundcolor\":\"#E5ECF6\",\"gridcolor\":\"white\",\"gridwidth\":2,\"linecolor\":\"white\",\"showbackground\":true,\"ticks\":\"\",\"zerolinecolor\":\"white\"},\"zaxis\":{\"backgroundcolor\":\"#E5ECF6\",\"gridcolor\":\"white\",\"gridwidth\":2,\"linecolor\":\"white\",\"showbackground\":true,\"ticks\":\"\",\"zerolinecolor\":\"white\"}},\"shapedefaults\":{\"line\":{\"color\":\"#2a3f5f\"}},\"ternary\":{\"aaxis\":{\"gridcolor\":\"white\",\"linecolor\":\"white\",\"ticks\":\"\"},\"baxis\":{\"gridcolor\":\"white\",\"linecolor\":\"white\",\"ticks\":\"\"},\"bgcolor\":\"#E5ECF6\",\"caxis\":{\"gridcolor\":\"white\",\"linecolor\":\"white\",\"ticks\":\"\"}},\"title\":{\"x\":0.05},\"xaxis\":{\"automargin\":true,\"gridcolor\":\"white\",\"linecolor\":\"white\",\"ticks\":\"\",\"title\":{\"standoff\":15},\"zerolinecolor\":\"white\",\"zerolinewidth\":2},\"yaxis\":{\"automargin\":true,\"gridcolor\":\"white\",\"linecolor\":\"white\",\"ticks\":\"\",\"title\":{\"standoff\":15},\"zerolinecolor\":\"white\",\"zerolinewidth\":2}}},\"title\":{\"text\":\"Input CV Similarity to Requirements in Job Postings\"},\"width\":900,\"xaxis\":{\"anchor\":\"y\",\"domain\":[0.0,1.0],\"title\":{\"text\":\"Coverage\"}},\"yaxis\":{\"anchor\":\"x\",\"domain\":[0.0,1.0],\"title\":{\"text\":\"Importance\"}}},                        {\"responsive\": true}                    ).then(function(){\n",
       "                            \n",
       "var gd = document.getElementById('58e7cde1-d925-4160-b0b5-2db34bec44f8');\n",
       "var x = new MutationObserver(function (mutations, observer) {{\n",
       "        var display = window.getComputedStyle(gd).display;\n",
       "        if (!display || display === 'none') {{\n",
       "            console.log([gd, 'removed!']);\n",
       "            Plotly.purge(gd);\n",
       "            observer.disconnect();\n",
       "        }}\n",
       "}});\n",
       "\n",
       "// Listen for the removal of the full notebook cells\n",
       "var notebookContainer = gd.closest('#notebook-container');\n",
       "if (notebookContainer) {{\n",
       "    x.observe(notebookContainer, {childList: true});\n",
       "}}\n",
       "\n",
       "// Listen for the clearing of the current output cell\n",
       "var outputEl = gd.closest('.output');\n",
       "if (outputEl) {{\n",
       "    x.observe(outputEl, {childList: true});\n",
       "}}\n",
       "\n",
       "                        })                };                });            </script>        </div>"
      ]
     },
     "metadata": {},
     "output_type": "display_data"
    }
   ],
   "source": [
    "obj=get_plot(['python','R'])\n",
    "obj[0].show()"
   ]
  },
  {
   "cell_type": "code",
   "execution_count": 7,
   "metadata": {},
   "outputs": [
    {
     "data": {
      "application/vnd.plotly.v1+json": {
       "config": {
        "plotlyServerURL": "https://plot.ly"
       },
       "data": [
        {
         "alignmentgroup": "True",
         "customdata": [
          [
           0.14917127071823205
          ],
          [
           0.1703499079189687
          ],
          [
           0.1887661141804788
          ],
          [
           0.23296500920810312
          ],
          [
           0.23756906077348067
          ],
          [
           0.23756906077348067
          ],
          [
           0.2440147329650092
          ],
          [
           0.27440147329650094
          ],
          [
           0.27716390423572745
          ],
          [
           0.2918968692449355
          ],
          [
           0.3029465930018416
          ],
          [
           0.31123388581952116
          ],
          [
           0.3241252302025783
          ],
          [
           0.3370165745856354
          ],
          [
           0.3453038674033149
          ],
          [
           0.358195211786372
          ],
          [
           0.36095764272559855
          ],
          [
           0.3876611418047882
          ],
          [
           0.38950276243093923
          ],
          [
           0.39134438305709024
          ],
          [
           0.40239410681399634
          ],
          [
           0.4143646408839779
          ],
          [
           0.42173112338858193
          ],
          [
           0.4281767955801105
          ],
          [
           0.429097605893186
          ],
          [
           0.43370165745856354
          ],
          [
           0.43646408839779005
          ],
          [
           0.4429097605893186
          ],
          [
           0.4604051565377532
          ],
          [
           0.5359116022099447
          ],
          [
           0.5377532228360957
          ]
         ],
         "hovertemplate": "variable=Your Coverage<br>value=%{x}<br>labels=%{y}<br>importance=%{customdata[0]}<extra></extra>",
         "legendgroup": "Your Coverage",
         "marker": {
          "color": "#636efa",
          "pattern": {
           "shape": ""
          }
         },
         "name": "Your Coverage",
         "offsetgroup": "Your Coverage",
         "orientation": "h",
         "showlegend": true,
         "textposition": "auto",
         "type": "bar",
         "x": [
          0,
          0,
          0,
          0,
          0,
          0,
          0,
          0,
          0,
          0,
          0,
          0,
          0,
          0,
          0,
          0,
          0,
          0,
          0,
          0,
          0,
          0,
          0.09235642468136676,
          0,
          0,
          0,
          0,
          0,
          0,
          0,
          0.3023196127133671
         ],
         "xaxis": "x",
         "y": [
          "<b>deep</b> <b>learning</b>, machine learning, experience deep",
          "<b>experience</b> <b>working</b>, single cell, next-generation sequencing",
          "<b>years</b> <b>experience</b>, related field, years relevant",
          "<b>experience</b> <b>cloud</b>, google cloud, cloud computing",
          "<b>knowledge</b> <b>sql</b>, relational databases, sql queries",
          "<b>track</b> <b>record</b>, research projects, scientific technical",
          "<b>data</b> <b>visualization</b>, visualization tools, experience data",
          "<b>predictive</b> <b>models</b>, machine learning, model performance",
          "<b>ability</b> <b>work</b>, work independently, fast-paced environment",
          "<b>big</b> <b>data</b>, experience working, experience big",
          "<b>problem-solving</b> <b>skills</b>, problem solving, strong analytical",
          "<b>learn</b> <b>new</b>, new technologies, eager learn",
          "<b>data</b> <b>quality</b>, data management, data pipelines",
          "<b>helping</b> <b>others</b>, people around, lasting mark",
          "<b>machine</b> <b>learning</b>, learning models, learning algorithms",
          "<b>data</b> <b>analysis</b>, results clear, track record",
          "<b>team</b> <b>player</b>, ability work, team members",
          "<b>data</b> <b>sets</b>, data analysis, data sources",
          "<b>years</b> <b>experience</b>, experience data, data science",
          "<b>working</b> <b>environment</b>, work environment, professional development",
          "<b>fluent</b> <b>english</b>, communication skills, english fluent",
          "<b>communication</b> <b>skills</b>, excellent communication, skills excellent",
          "<b>attention</b> <b>detail</b>, natural language, social media",
          "<b>data</b> <b>science</b>, data scientists, data scientist",
          "<b>business</b> <b>stakeholders</b>, work closely, internal external",
          "<b>business</b> <b>problems</b>, translate business, understand business",
          "<b>machine</b> <b>learning</b>, learning techniques, machine learning,",
          "<b>version</b> <b>control</b>, software engineering, best practices",
          "<b>experience</b> <b>working</b>, software development, project management",
          "<b>computer</b> <b>science,</b>, computer science, master’s degree",
          "<b>programming</b> <b>skills</b>, programming languages, data science"
         ],
         "yaxis": "y"
        },
        {
         "alignmentgroup": "True",
         "customdata": [
          [
           0.14917127071823205
          ],
          [
           0.1703499079189687
          ],
          [
           0.1887661141804788
          ],
          [
           0.23296500920810312
          ],
          [
           0.23756906077348067
          ],
          [
           0.23756906077348067
          ],
          [
           0.2440147329650092
          ],
          [
           0.27440147329650094
          ],
          [
           0.27716390423572745
          ],
          [
           0.2918968692449355
          ],
          [
           0.3029465930018416
          ],
          [
           0.31123388581952116
          ],
          [
           0.3241252302025783
          ],
          [
           0.3370165745856354
          ],
          [
           0.3453038674033149
          ],
          [
           0.358195211786372
          ],
          [
           0.36095764272559855
          ],
          [
           0.3876611418047882
          ],
          [
           0.38950276243093923
          ],
          [
           0.39134438305709024
          ],
          [
           0.40239410681399634
          ],
          [
           0.4143646408839779
          ],
          [
           0.42173112338858193
          ],
          [
           0.4281767955801105
          ],
          [
           0.429097605893186
          ],
          [
           0.43370165745856354
          ],
          [
           0.43646408839779005
          ],
          [
           0.4429097605893186
          ],
          [
           0.4604051565377532
          ],
          [
           0.5359116022099447
          ],
          [
           0.5377532228360957
          ]
         ],
         "hovertemplate": "variable=Skill Group Importance<br>value=%{x}<br>labels=%{y}<br>importance=%{customdata[0]}<extra></extra>",
         "legendgroup": "Skill Group Importance",
         "marker": {
          "color": "#EF553B",
          "pattern": {
           "shape": ""
          }
         },
         "name": "Skill Group Importance",
         "offsetgroup": "Skill Group Importance",
         "orientation": "h",
         "showlegend": true,
         "textposition": "auto",
         "type": "bar",
         "x": [
          0.14917127071823205,
          0.1703499079189687,
          0.1887661141804788,
          0.23296500920810312,
          0.23756906077348067,
          0.23756906077348067,
          0.2440147329650092,
          0.27440147329650094,
          0.27716390423572745,
          0.2918968692449355,
          0.3029465930018416,
          0.31123388581952116,
          0.3241252302025783,
          0.3370165745856354,
          0.3453038674033149,
          0.358195211786372,
          0.36095764272559855,
          0.3876611418047882,
          0.38950276243093923,
          0.39134438305709024,
          0.40239410681399634,
          0.4143646408839779,
          0.32937469870721514,
          0.4281767955801105,
          0.429097605893186,
          0.43370165745856354,
          0.43646408839779005,
          0.4429097605893186,
          0.4604051565377532,
          0.5359116022099447,
          0.23543361012272862
         ],
         "xaxis": "x",
         "y": [
          "<b>deep</b> <b>learning</b>, machine learning, experience deep",
          "<b>experience</b> <b>working</b>, single cell, next-generation sequencing",
          "<b>years</b> <b>experience</b>, related field, years relevant",
          "<b>experience</b> <b>cloud</b>, google cloud, cloud computing",
          "<b>knowledge</b> <b>sql</b>, relational databases, sql queries",
          "<b>track</b> <b>record</b>, research projects, scientific technical",
          "<b>data</b> <b>visualization</b>, visualization tools, experience data",
          "<b>predictive</b> <b>models</b>, machine learning, model performance",
          "<b>ability</b> <b>work</b>, work independently, fast-paced environment",
          "<b>big</b> <b>data</b>, experience working, experience big",
          "<b>problem-solving</b> <b>skills</b>, problem solving, strong analytical",
          "<b>learn</b> <b>new</b>, new technologies, eager learn",
          "<b>data</b> <b>quality</b>, data management, data pipelines",
          "<b>helping</b> <b>others</b>, people around, lasting mark",
          "<b>machine</b> <b>learning</b>, learning models, learning algorithms",
          "<b>data</b> <b>analysis</b>, results clear, track record",
          "<b>team</b> <b>player</b>, ability work, team members",
          "<b>data</b> <b>sets</b>, data analysis, data sources",
          "<b>years</b> <b>experience</b>, experience data, data science",
          "<b>working</b> <b>environment</b>, work environment, professional development",
          "<b>fluent</b> <b>english</b>, communication skills, english fluent",
          "<b>communication</b> <b>skills</b>, excellent communication, skills excellent",
          "<b>attention</b> <b>detail</b>, natural language, social media",
          "<b>data</b> <b>science</b>, data scientists, data scientist",
          "<b>business</b> <b>stakeholders</b>, work closely, internal external",
          "<b>business</b> <b>problems</b>, translate business, understand business",
          "<b>machine</b> <b>learning</b>, learning techniques, machine learning,",
          "<b>version</b> <b>control</b>, software engineering, best practices",
          "<b>experience</b> <b>working</b>, software development, project management",
          "<b>computer</b> <b>science,</b>, computer science, master’s degree",
          "<b>programming</b> <b>skills</b>, programming languages, data science"
         ],
         "yaxis": "y"
        }
       ],
       "layout": {
        "barmode": "stack",
        "height": 600,
        "legend": {
         "title": {
          "text": ""
         },
         "tracegroupgap": 0,
         "x": 1,
         "xanchor": "right",
         "y": 0,
         "yanchor": "bottom"
        },
        "margin": {
         "t": 60
        },
        "template": {
         "data": {
          "bar": [
           {
            "error_x": {
             "color": "#2a3f5f"
            },
            "error_y": {
             "color": "#2a3f5f"
            },
            "marker": {
             "line": {
              "color": "#E5ECF6",
              "width": 0.5
             },
             "pattern": {
              "fillmode": "overlay",
              "size": 10,
              "solidity": 0.2
             }
            },
            "type": "bar"
           }
          ],
          "barpolar": [
           {
            "marker": {
             "line": {
              "color": "#E5ECF6",
              "width": 0.5
             },
             "pattern": {
              "fillmode": "overlay",
              "size": 10,
              "solidity": 0.2
             }
            },
            "type": "barpolar"
           }
          ],
          "carpet": [
           {
            "aaxis": {
             "endlinecolor": "#2a3f5f",
             "gridcolor": "white",
             "linecolor": "white",
             "minorgridcolor": "white",
             "startlinecolor": "#2a3f5f"
            },
            "baxis": {
             "endlinecolor": "#2a3f5f",
             "gridcolor": "white",
             "linecolor": "white",
             "minorgridcolor": "white",
             "startlinecolor": "#2a3f5f"
            },
            "type": "carpet"
           }
          ],
          "choropleth": [
           {
            "colorbar": {
             "outlinewidth": 0,
             "ticks": ""
            },
            "type": "choropleth"
           }
          ],
          "contour": [
           {
            "colorbar": {
             "outlinewidth": 0,
             "ticks": ""
            },
            "colorscale": [
             [
              0,
              "#0d0887"
             ],
             [
              0.1111111111111111,
              "#46039f"
             ],
             [
              0.2222222222222222,
              "#7201a8"
             ],
             [
              0.3333333333333333,
              "#9c179e"
             ],
             [
              0.4444444444444444,
              "#bd3786"
             ],
             [
              0.5555555555555556,
              "#d8576b"
             ],
             [
              0.6666666666666666,
              "#ed7953"
             ],
             [
              0.7777777777777778,
              "#fb9f3a"
             ],
             [
              0.8888888888888888,
              "#fdca26"
             ],
             [
              1,
              "#f0f921"
             ]
            ],
            "type": "contour"
           }
          ],
          "contourcarpet": [
           {
            "colorbar": {
             "outlinewidth": 0,
             "ticks": ""
            },
            "type": "contourcarpet"
           }
          ],
          "heatmap": [
           {
            "colorbar": {
             "outlinewidth": 0,
             "ticks": ""
            },
            "colorscale": [
             [
              0,
              "#0d0887"
             ],
             [
              0.1111111111111111,
              "#46039f"
             ],
             [
              0.2222222222222222,
              "#7201a8"
             ],
             [
              0.3333333333333333,
              "#9c179e"
             ],
             [
              0.4444444444444444,
              "#bd3786"
             ],
             [
              0.5555555555555556,
              "#d8576b"
             ],
             [
              0.6666666666666666,
              "#ed7953"
             ],
             [
              0.7777777777777778,
              "#fb9f3a"
             ],
             [
              0.8888888888888888,
              "#fdca26"
             ],
             [
              1,
              "#f0f921"
             ]
            ],
            "type": "heatmap"
           }
          ],
          "heatmapgl": [
           {
            "colorbar": {
             "outlinewidth": 0,
             "ticks": ""
            },
            "colorscale": [
             [
              0,
              "#0d0887"
             ],
             [
              0.1111111111111111,
              "#46039f"
             ],
             [
              0.2222222222222222,
              "#7201a8"
             ],
             [
              0.3333333333333333,
              "#9c179e"
             ],
             [
              0.4444444444444444,
              "#bd3786"
             ],
             [
              0.5555555555555556,
              "#d8576b"
             ],
             [
              0.6666666666666666,
              "#ed7953"
             ],
             [
              0.7777777777777778,
              "#fb9f3a"
             ],
             [
              0.8888888888888888,
              "#fdca26"
             ],
             [
              1,
              "#f0f921"
             ]
            ],
            "type": "heatmapgl"
           }
          ],
          "histogram": [
           {
            "marker": {
             "pattern": {
              "fillmode": "overlay",
              "size": 10,
              "solidity": 0.2
             }
            },
            "type": "histogram"
           }
          ],
          "histogram2d": [
           {
            "colorbar": {
             "outlinewidth": 0,
             "ticks": ""
            },
            "colorscale": [
             [
              0,
              "#0d0887"
             ],
             [
              0.1111111111111111,
              "#46039f"
             ],
             [
              0.2222222222222222,
              "#7201a8"
             ],
             [
              0.3333333333333333,
              "#9c179e"
             ],
             [
              0.4444444444444444,
              "#bd3786"
             ],
             [
              0.5555555555555556,
              "#d8576b"
             ],
             [
              0.6666666666666666,
              "#ed7953"
             ],
             [
              0.7777777777777778,
              "#fb9f3a"
             ],
             [
              0.8888888888888888,
              "#fdca26"
             ],
             [
              1,
              "#f0f921"
             ]
            ],
            "type": "histogram2d"
           }
          ],
          "histogram2dcontour": [
           {
            "colorbar": {
             "outlinewidth": 0,
             "ticks": ""
            },
            "colorscale": [
             [
              0,
              "#0d0887"
             ],
             [
              0.1111111111111111,
              "#46039f"
             ],
             [
              0.2222222222222222,
              "#7201a8"
             ],
             [
              0.3333333333333333,
              "#9c179e"
             ],
             [
              0.4444444444444444,
              "#bd3786"
             ],
             [
              0.5555555555555556,
              "#d8576b"
             ],
             [
              0.6666666666666666,
              "#ed7953"
             ],
             [
              0.7777777777777778,
              "#fb9f3a"
             ],
             [
              0.8888888888888888,
              "#fdca26"
             ],
             [
              1,
              "#f0f921"
             ]
            ],
            "type": "histogram2dcontour"
           }
          ],
          "mesh3d": [
           {
            "colorbar": {
             "outlinewidth": 0,
             "ticks": ""
            },
            "type": "mesh3d"
           }
          ],
          "parcoords": [
           {
            "line": {
             "colorbar": {
              "outlinewidth": 0,
              "ticks": ""
             }
            },
            "type": "parcoords"
           }
          ],
          "pie": [
           {
            "automargin": true,
            "type": "pie"
           }
          ],
          "scatter": [
           {
            "marker": {
             "colorbar": {
              "outlinewidth": 0,
              "ticks": ""
             }
            },
            "type": "scatter"
           }
          ],
          "scatter3d": [
           {
            "line": {
             "colorbar": {
              "outlinewidth": 0,
              "ticks": ""
             }
            },
            "marker": {
             "colorbar": {
              "outlinewidth": 0,
              "ticks": ""
             }
            },
            "type": "scatter3d"
           }
          ],
          "scattercarpet": [
           {
            "marker": {
             "colorbar": {
              "outlinewidth": 0,
              "ticks": ""
             }
            },
            "type": "scattercarpet"
           }
          ],
          "scattergeo": [
           {
            "marker": {
             "colorbar": {
              "outlinewidth": 0,
              "ticks": ""
             }
            },
            "type": "scattergeo"
           }
          ],
          "scattergl": [
           {
            "marker": {
             "colorbar": {
              "outlinewidth": 0,
              "ticks": ""
             }
            },
            "type": "scattergl"
           }
          ],
          "scattermapbox": [
           {
            "marker": {
             "colorbar": {
              "outlinewidth": 0,
              "ticks": ""
             }
            },
            "type": "scattermapbox"
           }
          ],
          "scatterpolar": [
           {
            "marker": {
             "colorbar": {
              "outlinewidth": 0,
              "ticks": ""
             }
            },
            "type": "scatterpolar"
           }
          ],
          "scatterpolargl": [
           {
            "marker": {
             "colorbar": {
              "outlinewidth": 0,
              "ticks": ""
             }
            },
            "type": "scatterpolargl"
           }
          ],
          "scatterternary": [
           {
            "marker": {
             "colorbar": {
              "outlinewidth": 0,
              "ticks": ""
             }
            },
            "type": "scatterternary"
           }
          ],
          "surface": [
           {
            "colorbar": {
             "outlinewidth": 0,
             "ticks": ""
            },
            "colorscale": [
             [
              0,
              "#0d0887"
             ],
             [
              0.1111111111111111,
              "#46039f"
             ],
             [
              0.2222222222222222,
              "#7201a8"
             ],
             [
              0.3333333333333333,
              "#9c179e"
             ],
             [
              0.4444444444444444,
              "#bd3786"
             ],
             [
              0.5555555555555556,
              "#d8576b"
             ],
             [
              0.6666666666666666,
              "#ed7953"
             ],
             [
              0.7777777777777778,
              "#fb9f3a"
             ],
             [
              0.8888888888888888,
              "#fdca26"
             ],
             [
              1,
              "#f0f921"
             ]
            ],
            "type": "surface"
           }
          ],
          "table": [
           {
            "cells": {
             "fill": {
              "color": "#EBF0F8"
             },
             "line": {
              "color": "white"
             }
            },
            "header": {
             "fill": {
              "color": "#C8D4E3"
             },
             "line": {
              "color": "white"
             }
            },
            "type": "table"
           }
          ]
         },
         "layout": {
          "annotationdefaults": {
           "arrowcolor": "#2a3f5f",
           "arrowhead": 0,
           "arrowwidth": 1
          },
          "autotypenumbers": "strict",
          "coloraxis": {
           "colorbar": {
            "outlinewidth": 0,
            "ticks": ""
           }
          },
          "colorscale": {
           "diverging": [
            [
             0,
             "#8e0152"
            ],
            [
             0.1,
             "#c51b7d"
            ],
            [
             0.2,
             "#de77ae"
            ],
            [
             0.3,
             "#f1b6da"
            ],
            [
             0.4,
             "#fde0ef"
            ],
            [
             0.5,
             "#f7f7f7"
            ],
            [
             0.6,
             "#e6f5d0"
            ],
            [
             0.7,
             "#b8e186"
            ],
            [
             0.8,
             "#7fbc41"
            ],
            [
             0.9,
             "#4d9221"
            ],
            [
             1,
             "#276419"
            ]
           ],
           "sequential": [
            [
             0,
             "#0d0887"
            ],
            [
             0.1111111111111111,
             "#46039f"
            ],
            [
             0.2222222222222222,
             "#7201a8"
            ],
            [
             0.3333333333333333,
             "#9c179e"
            ],
            [
             0.4444444444444444,
             "#bd3786"
            ],
            [
             0.5555555555555556,
             "#d8576b"
            ],
            [
             0.6666666666666666,
             "#ed7953"
            ],
            [
             0.7777777777777778,
             "#fb9f3a"
            ],
            [
             0.8888888888888888,
             "#fdca26"
            ],
            [
             1,
             "#f0f921"
            ]
           ],
           "sequentialminus": [
            [
             0,
             "#0d0887"
            ],
            [
             0.1111111111111111,
             "#46039f"
            ],
            [
             0.2222222222222222,
             "#7201a8"
            ],
            [
             0.3333333333333333,
             "#9c179e"
            ],
            [
             0.4444444444444444,
             "#bd3786"
            ],
            [
             0.5555555555555556,
             "#d8576b"
            ],
            [
             0.6666666666666666,
             "#ed7953"
            ],
            [
             0.7777777777777778,
             "#fb9f3a"
            ],
            [
             0.8888888888888888,
             "#fdca26"
            ],
            [
             1,
             "#f0f921"
            ]
           ]
          },
          "colorway": [
           "#636efa",
           "#EF553B",
           "#00cc96",
           "#ab63fa",
           "#FFA15A",
           "#19d3f3",
           "#FF6692",
           "#B6E880",
           "#FF97FF",
           "#FECB52"
          ],
          "font": {
           "color": "#2a3f5f"
          },
          "geo": {
           "bgcolor": "white",
           "lakecolor": "white",
           "landcolor": "#E5ECF6",
           "showlakes": true,
           "showland": true,
           "subunitcolor": "white"
          },
          "hoverlabel": {
           "align": "left"
          },
          "hovermode": "closest",
          "mapbox": {
           "style": "light"
          },
          "paper_bgcolor": "white",
          "plot_bgcolor": "#E5ECF6",
          "polar": {
           "angularaxis": {
            "gridcolor": "white",
            "linecolor": "white",
            "ticks": ""
           },
           "bgcolor": "#E5ECF6",
           "radialaxis": {
            "gridcolor": "white",
            "linecolor": "white",
            "ticks": ""
           }
          },
          "scene": {
           "xaxis": {
            "backgroundcolor": "#E5ECF6",
            "gridcolor": "white",
            "gridwidth": 2,
            "linecolor": "white",
            "showbackground": true,
            "ticks": "",
            "zerolinecolor": "white"
           },
           "yaxis": {
            "backgroundcolor": "#E5ECF6",
            "gridcolor": "white",
            "gridwidth": 2,
            "linecolor": "white",
            "showbackground": true,
            "ticks": "",
            "zerolinecolor": "white"
           },
           "zaxis": {
            "backgroundcolor": "#E5ECF6",
            "gridcolor": "white",
            "gridwidth": 2,
            "linecolor": "white",
            "showbackground": true,
            "ticks": "",
            "zerolinecolor": "white"
           }
          },
          "shapedefaults": {
           "line": {
            "color": "#2a3f5f"
           }
          },
          "ternary": {
           "aaxis": {
            "gridcolor": "white",
            "linecolor": "white",
            "ticks": ""
           },
           "baxis": {
            "gridcolor": "white",
            "linecolor": "white",
            "ticks": ""
           },
           "bgcolor": "#E5ECF6",
           "caxis": {
            "gridcolor": "white",
            "linecolor": "white",
            "ticks": ""
           }
          },
          "title": {
           "x": 0.05
          },
          "xaxis": {
           "automargin": true,
           "gridcolor": "white",
           "linecolor": "white",
           "ticks": "",
           "title": {
            "standoff": 15
           },
           "zerolinecolor": "white",
           "zerolinewidth": 2
          },
          "yaxis": {
           "automargin": true,
           "gridcolor": "white",
           "linecolor": "white",
           "ticks": "",
           "title": {
            "standoff": 15
           },
           "zerolinecolor": "white",
           "zerolinewidth": 2
          }
         }
        },
        "title": {
         "text": "Input CV Similarity to Requirements in Job Postings<br>"
        },
        "width": 900,
        "xaxis": {
         "anchor": "y",
         "domain": [
          0,
          1
         ],
         "title": {
          "text": "Coverage"
         }
        },
        "yaxis": {
         "anchor": "x",
         "domain": [
          0,
          1
         ],
         "title": {
          "text": "Importance"
         }
        }
       }
      },
      "text/html": [
       "<div>                            <div id=\"154f3e8c-0fc7-49dd-9319-d41954601eec\" class=\"plotly-graph-div\" style=\"height:600px; width:900px;\"></div>            <script type=\"text/javascript\">                require([\"plotly\"], function(Plotly) {                    window.PLOTLYENV=window.PLOTLYENV || {};                                    if (document.getElementById(\"154f3e8c-0fc7-49dd-9319-d41954601eec\")) {                    Plotly.newPlot(                        \"154f3e8c-0fc7-49dd-9319-d41954601eec\",                        [{\"alignmentgroup\":\"True\",\"customdata\":[[0.14917127071823205],[0.1703499079189687],[0.1887661141804788],[0.23296500920810312],[0.23756906077348067],[0.23756906077348067],[0.2440147329650092],[0.27440147329650094],[0.27716390423572745],[0.2918968692449355],[0.3029465930018416],[0.31123388581952116],[0.3241252302025783],[0.3370165745856354],[0.3453038674033149],[0.358195211786372],[0.36095764272559855],[0.3876611418047882],[0.38950276243093923],[0.39134438305709024],[0.40239410681399634],[0.4143646408839779],[0.42173112338858193],[0.4281767955801105],[0.429097605893186],[0.43370165745856354],[0.43646408839779005],[0.4429097605893186],[0.4604051565377532],[0.5359116022099447],[0.5377532228360957]],\"hovertemplate\":\"variable=Your Coverage<br>value=%{x}<br>labels=%{y}<br>importance=%{customdata[0]}<extra></extra>\",\"legendgroup\":\"Your Coverage\",\"marker\":{\"color\":\"#636efa\",\"pattern\":{\"shape\":\"\"}},\"name\":\"Your Coverage\",\"offsetgroup\":\"Your Coverage\",\"orientation\":\"h\",\"showlegend\":true,\"textposition\":\"auto\",\"type\":\"bar\",\"x\":[0.0,0.0,0.0,0.0,0.0,0.0,0.0,0.0,0.0,0.0,0.0,0.0,0.0,0.0,0.0,0.0,0.0,0.0,0.0,0.0,0.0,0.0,0.09235642468136676,0.0,0.0,0.0,0.0,0.0,0.0,0.0,0.3023196127133671],\"xaxis\":\"x\",\"y\":[\"<b>deep</b> <b>learning</b>, machine learning, experience deep\",\"<b>experience</b> <b>working</b>, single cell, next-generation sequencing\",\"<b>years</b> <b>experience</b>, related field, years relevant\",\"<b>experience</b> <b>cloud</b>, google cloud, cloud computing\",\"<b>knowledge</b> <b>sql</b>, relational databases, sql queries\",\"<b>track</b> <b>record</b>, research projects, scientific technical\",\"<b>data</b> <b>visualization</b>, visualization tools, experience data\",\"<b>predictive</b> <b>models</b>, machine learning, model performance\",\"<b>ability</b> <b>work</b>, work independently, fast-paced environment\",\"<b>big</b> <b>data</b>, experience working, experience big\",\"<b>problem-solving</b> <b>skills</b>, problem solving, strong analytical\",\"<b>learn</b> <b>new</b>, new technologies, eager learn\",\"<b>data</b> <b>quality</b>, data management, data pipelines\",\"<b>helping</b> <b>others</b>, people around, lasting mark\",\"<b>machine</b> <b>learning</b>, learning models, learning algorithms\",\"<b>data</b> <b>analysis</b>, results clear, track record\",\"<b>team</b> <b>player</b>, ability work, team members\",\"<b>data</b> <b>sets</b>, data analysis, data sources\",\"<b>years</b> <b>experience</b>, experience data, data science\",\"<b>working</b> <b>environment</b>, work environment, professional development\",\"<b>fluent</b> <b>english</b>, communication skills, english fluent\",\"<b>communication</b> <b>skills</b>, excellent communication, skills excellent\",\"<b>attention</b> <b>detail</b>, natural language, social media\",\"<b>data</b> <b>science</b>, data scientists, data scientist\",\"<b>business</b> <b>stakeholders</b>, work closely, internal external\",\"<b>business</b> <b>problems</b>, translate business, understand business\",\"<b>machine</b> <b>learning</b>, learning techniques, machine learning,\",\"<b>version</b> <b>control</b>, software engineering, best practices\",\"<b>experience</b> <b>working</b>, software development, project management\",\"<b>computer</b> <b>science,</b>, computer science, master\\u2019s degree\",\"<b>programming</b> <b>skills</b>, programming languages, data science\"],\"yaxis\":\"y\"},{\"alignmentgroup\":\"True\",\"customdata\":[[0.14917127071823205],[0.1703499079189687],[0.1887661141804788],[0.23296500920810312],[0.23756906077348067],[0.23756906077348067],[0.2440147329650092],[0.27440147329650094],[0.27716390423572745],[0.2918968692449355],[0.3029465930018416],[0.31123388581952116],[0.3241252302025783],[0.3370165745856354],[0.3453038674033149],[0.358195211786372],[0.36095764272559855],[0.3876611418047882],[0.38950276243093923],[0.39134438305709024],[0.40239410681399634],[0.4143646408839779],[0.42173112338858193],[0.4281767955801105],[0.429097605893186],[0.43370165745856354],[0.43646408839779005],[0.4429097605893186],[0.4604051565377532],[0.5359116022099447],[0.5377532228360957]],\"hovertemplate\":\"variable=Skill Group Importance<br>value=%{x}<br>labels=%{y}<br>importance=%{customdata[0]}<extra></extra>\",\"legendgroup\":\"Skill Group Importance\",\"marker\":{\"color\":\"#EF553B\",\"pattern\":{\"shape\":\"\"}},\"name\":\"Skill Group Importance\",\"offsetgroup\":\"Skill Group Importance\",\"orientation\":\"h\",\"showlegend\":true,\"textposition\":\"auto\",\"type\":\"bar\",\"x\":[0.14917127071823205,0.1703499079189687,0.1887661141804788,0.23296500920810312,0.23756906077348067,0.23756906077348067,0.2440147329650092,0.27440147329650094,0.27716390423572745,0.2918968692449355,0.3029465930018416,0.31123388581952116,0.3241252302025783,0.3370165745856354,0.3453038674033149,0.358195211786372,0.36095764272559855,0.3876611418047882,0.38950276243093923,0.39134438305709024,0.40239410681399634,0.4143646408839779,0.32937469870721514,0.4281767955801105,0.429097605893186,0.43370165745856354,0.43646408839779005,0.4429097605893186,0.4604051565377532,0.5359116022099447,0.23543361012272862],\"xaxis\":\"x\",\"y\":[\"<b>deep</b> <b>learning</b>, machine learning, experience deep\",\"<b>experience</b> <b>working</b>, single cell, next-generation sequencing\",\"<b>years</b> <b>experience</b>, related field, years relevant\",\"<b>experience</b> <b>cloud</b>, google cloud, cloud computing\",\"<b>knowledge</b> <b>sql</b>, relational databases, sql queries\",\"<b>track</b> <b>record</b>, research projects, scientific technical\",\"<b>data</b> <b>visualization</b>, visualization tools, experience data\",\"<b>predictive</b> <b>models</b>, machine learning, model performance\",\"<b>ability</b> <b>work</b>, work independently, fast-paced environment\",\"<b>big</b> <b>data</b>, experience working, experience big\",\"<b>problem-solving</b> <b>skills</b>, problem solving, strong analytical\",\"<b>learn</b> <b>new</b>, new technologies, eager learn\",\"<b>data</b> <b>quality</b>, data management, data pipelines\",\"<b>helping</b> <b>others</b>, people around, lasting mark\",\"<b>machine</b> <b>learning</b>, learning models, learning algorithms\",\"<b>data</b> <b>analysis</b>, results clear, track record\",\"<b>team</b> <b>player</b>, ability work, team members\",\"<b>data</b> <b>sets</b>, data analysis, data sources\",\"<b>years</b> <b>experience</b>, experience data, data science\",\"<b>working</b> <b>environment</b>, work environment, professional development\",\"<b>fluent</b> <b>english</b>, communication skills, english fluent\",\"<b>communication</b> <b>skills</b>, excellent communication, skills excellent\",\"<b>attention</b> <b>detail</b>, natural language, social media\",\"<b>data</b> <b>science</b>, data scientists, data scientist\",\"<b>business</b> <b>stakeholders</b>, work closely, internal external\",\"<b>business</b> <b>problems</b>, translate business, understand business\",\"<b>machine</b> <b>learning</b>, learning techniques, machine learning,\",\"<b>version</b> <b>control</b>, software engineering, best practices\",\"<b>experience</b> <b>working</b>, software development, project management\",\"<b>computer</b> <b>science,</b>, computer science, master\\u2019s degree\",\"<b>programming</b> <b>skills</b>, programming languages, data science\"],\"yaxis\":\"y\"}],                        {\"barmode\":\"stack\",\"height\":600,\"legend\":{\"title\":{\"text\":\"\"},\"tracegroupgap\":0,\"x\":1,\"xanchor\":\"right\",\"y\":0,\"yanchor\":\"bottom\"},\"margin\":{\"t\":60},\"template\":{\"data\":{\"bar\":[{\"error_x\":{\"color\":\"#2a3f5f\"},\"error_y\":{\"color\":\"#2a3f5f\"},\"marker\":{\"line\":{\"color\":\"#E5ECF6\",\"width\":0.5},\"pattern\":{\"fillmode\":\"overlay\",\"size\":10,\"solidity\":0.2}},\"type\":\"bar\"}],\"barpolar\":[{\"marker\":{\"line\":{\"color\":\"#E5ECF6\",\"width\":0.5},\"pattern\":{\"fillmode\":\"overlay\",\"size\":10,\"solidity\":0.2}},\"type\":\"barpolar\"}],\"carpet\":[{\"aaxis\":{\"endlinecolor\":\"#2a3f5f\",\"gridcolor\":\"white\",\"linecolor\":\"white\",\"minorgridcolor\":\"white\",\"startlinecolor\":\"#2a3f5f\"},\"baxis\":{\"endlinecolor\":\"#2a3f5f\",\"gridcolor\":\"white\",\"linecolor\":\"white\",\"minorgridcolor\":\"white\",\"startlinecolor\":\"#2a3f5f\"},\"type\":\"carpet\"}],\"choropleth\":[{\"colorbar\":{\"outlinewidth\":0,\"ticks\":\"\"},\"type\":\"choropleth\"}],\"contour\":[{\"colorbar\":{\"outlinewidth\":0,\"ticks\":\"\"},\"colorscale\":[[0.0,\"#0d0887\"],[0.1111111111111111,\"#46039f\"],[0.2222222222222222,\"#7201a8\"],[0.3333333333333333,\"#9c179e\"],[0.4444444444444444,\"#bd3786\"],[0.5555555555555556,\"#d8576b\"],[0.6666666666666666,\"#ed7953\"],[0.7777777777777778,\"#fb9f3a\"],[0.8888888888888888,\"#fdca26\"],[1.0,\"#f0f921\"]],\"type\":\"contour\"}],\"contourcarpet\":[{\"colorbar\":{\"outlinewidth\":0,\"ticks\":\"\"},\"type\":\"contourcarpet\"}],\"heatmap\":[{\"colorbar\":{\"outlinewidth\":0,\"ticks\":\"\"},\"colorscale\":[[0.0,\"#0d0887\"],[0.1111111111111111,\"#46039f\"],[0.2222222222222222,\"#7201a8\"],[0.3333333333333333,\"#9c179e\"],[0.4444444444444444,\"#bd3786\"],[0.5555555555555556,\"#d8576b\"],[0.6666666666666666,\"#ed7953\"],[0.7777777777777778,\"#fb9f3a\"],[0.8888888888888888,\"#fdca26\"],[1.0,\"#f0f921\"]],\"type\":\"heatmap\"}],\"heatmapgl\":[{\"colorbar\":{\"outlinewidth\":0,\"ticks\":\"\"},\"colorscale\":[[0.0,\"#0d0887\"],[0.1111111111111111,\"#46039f\"],[0.2222222222222222,\"#7201a8\"],[0.3333333333333333,\"#9c179e\"],[0.4444444444444444,\"#bd3786\"],[0.5555555555555556,\"#d8576b\"],[0.6666666666666666,\"#ed7953\"],[0.7777777777777778,\"#fb9f3a\"],[0.8888888888888888,\"#fdca26\"],[1.0,\"#f0f921\"]],\"type\":\"heatmapgl\"}],\"histogram\":[{\"marker\":{\"pattern\":{\"fillmode\":\"overlay\",\"size\":10,\"solidity\":0.2}},\"type\":\"histogram\"}],\"histogram2d\":[{\"colorbar\":{\"outlinewidth\":0,\"ticks\":\"\"},\"colorscale\":[[0.0,\"#0d0887\"],[0.1111111111111111,\"#46039f\"],[0.2222222222222222,\"#7201a8\"],[0.3333333333333333,\"#9c179e\"],[0.4444444444444444,\"#bd3786\"],[0.5555555555555556,\"#d8576b\"],[0.6666666666666666,\"#ed7953\"],[0.7777777777777778,\"#fb9f3a\"],[0.8888888888888888,\"#fdca26\"],[1.0,\"#f0f921\"]],\"type\":\"histogram2d\"}],\"histogram2dcontour\":[{\"colorbar\":{\"outlinewidth\":0,\"ticks\":\"\"},\"colorscale\":[[0.0,\"#0d0887\"],[0.1111111111111111,\"#46039f\"],[0.2222222222222222,\"#7201a8\"],[0.3333333333333333,\"#9c179e\"],[0.4444444444444444,\"#bd3786\"],[0.5555555555555556,\"#d8576b\"],[0.6666666666666666,\"#ed7953\"],[0.7777777777777778,\"#fb9f3a\"],[0.8888888888888888,\"#fdca26\"],[1.0,\"#f0f921\"]],\"type\":\"histogram2dcontour\"}],\"mesh3d\":[{\"colorbar\":{\"outlinewidth\":0,\"ticks\":\"\"},\"type\":\"mesh3d\"}],\"parcoords\":[{\"line\":{\"colorbar\":{\"outlinewidth\":0,\"ticks\":\"\"}},\"type\":\"parcoords\"}],\"pie\":[{\"automargin\":true,\"type\":\"pie\"}],\"scatter\":[{\"marker\":{\"colorbar\":{\"outlinewidth\":0,\"ticks\":\"\"}},\"type\":\"scatter\"}],\"scatter3d\":[{\"line\":{\"colorbar\":{\"outlinewidth\":0,\"ticks\":\"\"}},\"marker\":{\"colorbar\":{\"outlinewidth\":0,\"ticks\":\"\"}},\"type\":\"scatter3d\"}],\"scattercarpet\":[{\"marker\":{\"colorbar\":{\"outlinewidth\":0,\"ticks\":\"\"}},\"type\":\"scattercarpet\"}],\"scattergeo\":[{\"marker\":{\"colorbar\":{\"outlinewidth\":0,\"ticks\":\"\"}},\"type\":\"scattergeo\"}],\"scattergl\":[{\"marker\":{\"colorbar\":{\"outlinewidth\":0,\"ticks\":\"\"}},\"type\":\"scattergl\"}],\"scattermapbox\":[{\"marker\":{\"colorbar\":{\"outlinewidth\":0,\"ticks\":\"\"}},\"type\":\"scattermapbox\"}],\"scatterpolar\":[{\"marker\":{\"colorbar\":{\"outlinewidth\":0,\"ticks\":\"\"}},\"type\":\"scatterpolar\"}],\"scatterpolargl\":[{\"marker\":{\"colorbar\":{\"outlinewidth\":0,\"ticks\":\"\"}},\"type\":\"scatterpolargl\"}],\"scatterternary\":[{\"marker\":{\"colorbar\":{\"outlinewidth\":0,\"ticks\":\"\"}},\"type\":\"scatterternary\"}],\"surface\":[{\"colorbar\":{\"outlinewidth\":0,\"ticks\":\"\"},\"colorscale\":[[0.0,\"#0d0887\"],[0.1111111111111111,\"#46039f\"],[0.2222222222222222,\"#7201a8\"],[0.3333333333333333,\"#9c179e\"],[0.4444444444444444,\"#bd3786\"],[0.5555555555555556,\"#d8576b\"],[0.6666666666666666,\"#ed7953\"],[0.7777777777777778,\"#fb9f3a\"],[0.8888888888888888,\"#fdca26\"],[1.0,\"#f0f921\"]],\"type\":\"surface\"}],\"table\":[{\"cells\":{\"fill\":{\"color\":\"#EBF0F8\"},\"line\":{\"color\":\"white\"}},\"header\":{\"fill\":{\"color\":\"#C8D4E3\"},\"line\":{\"color\":\"white\"}},\"type\":\"table\"}]},\"layout\":{\"annotationdefaults\":{\"arrowcolor\":\"#2a3f5f\",\"arrowhead\":0,\"arrowwidth\":1},\"autotypenumbers\":\"strict\",\"coloraxis\":{\"colorbar\":{\"outlinewidth\":0,\"ticks\":\"\"}},\"colorscale\":{\"diverging\":[[0,\"#8e0152\"],[0.1,\"#c51b7d\"],[0.2,\"#de77ae\"],[0.3,\"#f1b6da\"],[0.4,\"#fde0ef\"],[0.5,\"#f7f7f7\"],[0.6,\"#e6f5d0\"],[0.7,\"#b8e186\"],[0.8,\"#7fbc41\"],[0.9,\"#4d9221\"],[1,\"#276419\"]],\"sequential\":[[0.0,\"#0d0887\"],[0.1111111111111111,\"#46039f\"],[0.2222222222222222,\"#7201a8\"],[0.3333333333333333,\"#9c179e\"],[0.4444444444444444,\"#bd3786\"],[0.5555555555555556,\"#d8576b\"],[0.6666666666666666,\"#ed7953\"],[0.7777777777777778,\"#fb9f3a\"],[0.8888888888888888,\"#fdca26\"],[1.0,\"#f0f921\"]],\"sequentialminus\":[[0.0,\"#0d0887\"],[0.1111111111111111,\"#46039f\"],[0.2222222222222222,\"#7201a8\"],[0.3333333333333333,\"#9c179e\"],[0.4444444444444444,\"#bd3786\"],[0.5555555555555556,\"#d8576b\"],[0.6666666666666666,\"#ed7953\"],[0.7777777777777778,\"#fb9f3a\"],[0.8888888888888888,\"#fdca26\"],[1.0,\"#f0f921\"]]},\"colorway\":[\"#636efa\",\"#EF553B\",\"#00cc96\",\"#ab63fa\",\"#FFA15A\",\"#19d3f3\",\"#FF6692\",\"#B6E880\",\"#FF97FF\",\"#FECB52\"],\"font\":{\"color\":\"#2a3f5f\"},\"geo\":{\"bgcolor\":\"white\",\"lakecolor\":\"white\",\"landcolor\":\"#E5ECF6\",\"showlakes\":true,\"showland\":true,\"subunitcolor\":\"white\"},\"hoverlabel\":{\"align\":\"left\"},\"hovermode\":\"closest\",\"mapbox\":{\"style\":\"light\"},\"paper_bgcolor\":\"white\",\"plot_bgcolor\":\"#E5ECF6\",\"polar\":{\"angularaxis\":{\"gridcolor\":\"white\",\"linecolor\":\"white\",\"ticks\":\"\"},\"bgcolor\":\"#E5ECF6\",\"radialaxis\":{\"gridcolor\":\"white\",\"linecolor\":\"white\",\"ticks\":\"\"}},\"scene\":{\"xaxis\":{\"backgroundcolor\":\"#E5ECF6\",\"gridcolor\":\"white\",\"gridwidth\":2,\"linecolor\":\"white\",\"showbackground\":true,\"ticks\":\"\",\"zerolinecolor\":\"white\"},\"yaxis\":{\"backgroundcolor\":\"#E5ECF6\",\"gridcolor\":\"white\",\"gridwidth\":2,\"linecolor\":\"white\",\"showbackground\":true,\"ticks\":\"\",\"zerolinecolor\":\"white\"},\"zaxis\":{\"backgroundcolor\":\"#E5ECF6\",\"gridcolor\":\"white\",\"gridwidth\":2,\"linecolor\":\"white\",\"showbackground\":true,\"ticks\":\"\",\"zerolinecolor\":\"white\"}},\"shapedefaults\":{\"line\":{\"color\":\"#2a3f5f\"}},\"ternary\":{\"aaxis\":{\"gridcolor\":\"white\",\"linecolor\":\"white\",\"ticks\":\"\"},\"baxis\":{\"gridcolor\":\"white\",\"linecolor\":\"white\",\"ticks\":\"\"},\"bgcolor\":\"#E5ECF6\",\"caxis\":{\"gridcolor\":\"white\",\"linecolor\":\"white\",\"ticks\":\"\"}},\"title\":{\"x\":0.05},\"xaxis\":{\"automargin\":true,\"gridcolor\":\"white\",\"linecolor\":\"white\",\"ticks\":\"\",\"title\":{\"standoff\":15},\"zerolinecolor\":\"white\",\"zerolinewidth\":2},\"yaxis\":{\"automargin\":true,\"gridcolor\":\"white\",\"linecolor\":\"white\",\"ticks\":\"\",\"title\":{\"standoff\":15},\"zerolinecolor\":\"white\",\"zerolinewidth\":2}}},\"title\":{\"text\":\"Input CV Similarity to Requirements in Job Postings<br>\"},\"width\":900,\"xaxis\":{\"anchor\":\"y\",\"domain\":[0.0,1.0],\"title\":{\"text\":\"Coverage\"}},\"yaxis\":{\"anchor\":\"x\",\"domain\":[0.0,1.0],\"title\":{\"text\":\"Importance\"}}},                        {\"responsive\": true}                    ).then(function(){\n",
       "                            \n",
       "var gd = document.getElementById('154f3e8c-0fc7-49dd-9319-d41954601eec');\n",
       "var x = new MutationObserver(function (mutations, observer) {{\n",
       "        var display = window.getComputedStyle(gd).display;\n",
       "        if (!display || display === 'none') {{\n",
       "            console.log([gd, 'removed!']);\n",
       "            Plotly.purge(gd);\n",
       "            observer.disconnect();\n",
       "        }}\n",
       "}});\n",
       "\n",
       "// Listen for the removal of the full notebook cells\n",
       "var notebookContainer = gd.closest('#notebook-container');\n",
       "if (notebookContainer) {{\n",
       "    x.observe(notebookContainer, {childList: true});\n",
       "}}\n",
       "\n",
       "// Listen for the clearing of the current output cell\n",
       "var outputEl = gd.closest('.output');\n",
       "if (outputEl) {{\n",
       "    x.observe(outputEl, {childList: true});\n",
       "}}\n",
       "\n",
       "                        })                };                });            </script>        </div>"
      ]
     },
     "metadata": {},
     "output_type": "display_data"
    }
   ],
   "source": [
    "obj[0].update_layout(height=3*200, width=3*300, \\\n",
    "                          #font=dict(size=10),\\\n",
    "                          title = 'Input CV Similarity to Requirements in Job Postings<br>',\\\n",
    "                          barmode='stack', \\\n",
    "                          legend_title_text = '', \\\n",
    "                        \n",
    "                          legend=dict(yanchor=\"bottom\",y=0,xanchor=\"right\",x=1\n",
    "                                     ))\n",
    "obj[0].show()"
   ]
  },
  {
   "cell_type": "code",
   "execution_count": 8,
   "metadata": {},
   "outputs": [
    {
     "name": "stdout",
     "output_type": "stream",
     "text": [
      "Help on method image in module fpdf.fpdf:\n",
      "\n",
      "image(name, x=None, y=None, w=0, h=0, type='', link='') method of fpdf.fpdf.FPDF instance\n",
      "    Put an image on the page\n",
      "\n"
     ]
    }
   ],
   "source": [
    "pdf=FPDF('P', 'mm', 'A4')\n",
    "help(pdf.image)"
   ]
  },
  {
   "cell_type": "code",
   "execution_count": 9,
   "metadata": {},
   "outputs": [
    {
     "name": "stdout",
     "output_type": "stream",
     "text": [
      "['#ffcccc', '#ccffcc', '#ccffcc', '#ccffcc', '#ccffcc', '#ccffcc', '#ccffcc', '#ccffcc', '#ccffcc', '#ccffcc', '#ccffcc', '#ccffcc', '#ccffcc', '#ccffcc', '#ccffcc', '#ccffcc', '#ccffcc', '#ccffcc', '#ccffcc', '#ccffcc', '#ccffcc', '#ccffcc', '#ccffcc', '#ccffcc', '#ccffcc', '#ccffcc', '#ccffcc', '#ccffcc', '#ccffcc', '#ccffcc', '#ccffcc']\n"
     ]
    },
    {
     "data": {
      "application/vnd.plotly.v1+json": {
       "config": {
        "plotlyServerURL": "https://plot.ly"
       },
       "data": [
        {
         "cells": {
          "fill": {
           "color": [
            "rgb(245, 245, 255)",
            [
             "#ffcccc",
             "#ccffcc",
             "#ccffcc",
             "#ccffcc",
             "#ccffcc",
             "#ccffcc",
             "#ccffcc",
             "#ccffcc",
             "#ccffcc",
             "#ccffcc",
             "#ccffcc",
             "#ccffcc",
             "#ccffcc",
             "#ccffcc",
             "#ccffcc",
             "#ccffcc",
             "#ccffcc",
             "#ccffcc",
             "#ccffcc",
             "#ccffcc",
             "#ccffcc",
             "#ccffcc",
             "#ccffcc",
             "#ccffcc",
             "#ccffcc",
             "#ccffcc",
             "#ccffcc",
             "#ccffcc",
             "#ccffcc",
             "#ccffcc",
             "#ccffcc"
            ]
           ]
          },
          "values": [
           [
            "<b>team</b> <b>player</b>, ability work, team members",
            "<b>knowledge</b> <b>sql</b>, relational databases, sql queries",
            "<b>ability</b> <b>work</b>, work independently, fast-paced environment",
            "<b>years</b> <b>experience</b>, related field, years relevant",
            "<b>learn</b> <b>new</b>, new technologies, eager learn",
            "<b>track</b> <b>record</b>, research projects, scientific technical",
            "<b>machine</b> <b>learning</b>, learning models, learning algorithms",
            "<b>communication</b> <b>skills</b>, excellent communication, skills excellent",
            "<b>big</b> <b>data</b>, experience working, experience big",
            "<b>attention</b> <b>detail</b>, natural language, social media",
            "<b>experience</b> <b>working</b>, software development, project management",
            "<b>data</b> <b>sets</b>, data analysis, data sources",
            "<b>machine</b> <b>learning</b>, learning techniques, machine learning,",
            "<b>data</b> <b>science</b>, data scientists, data scientist",
            "<b>data</b> <b>visualization</b>, visualization tools, experience data",
            "<b>years</b> <b>experience</b>, experience data, data science",
            "<b>business</b> <b>stakeholders</b>, work closely, internal external",
            "<b>problem-solving</b> <b>skills</b>, problem solving, strong analytical",
            "<b>programming</b> <b>skills</b>, programming languages, data science",
            "<b>predictive</b> <b>models</b>, machine learning, model performance",
            "<b>experience</b> <b>working</b>, single cell, next-generation sequencing",
            "<b>helping</b> <b>others</b>, people around, lasting mark",
            "<b>version</b> <b>control</b>, software engineering, best practices",
            "<b>data</b> <b>analysis</b>, results clear, track record",
            "<b>deep</b> <b>learning</b>, machine learning, experience deep",
            "<b>business</b> <b>problems</b>, translate business, understand business",
            "<b>working</b> <b>environment</b>, work environment, professional development",
            "<b>experience</b> <b>cloud</b>, google cloud, cloud computing",
            "<b>fluent</b> <b>english</b>, communication skills, english fluent",
            "<b>data</b> <b>quality</b>, data management, data pipelines",
            "<b>computer</b> <b>science,</b>, computer science, master’s degree"
           ],
           [
            0,
            1,
            2,
            3,
            4,
            5,
            6,
            7,
            8,
            9,
            10,
            11,
            12,
            13,
            14,
            15,
            16,
            17,
            18,
            19,
            20,
            21,
            22,
            23,
            24,
            25,
            26,
            27,
            28,
            29,
            30
           ],
           [
            0.61,
            0.55,
            0.48,
            0.61,
            0.63,
            0.45,
            0.53,
            0.73,
            0.57,
            0.21,
            0.57,
            0.51,
            0.65,
            0.62,
            0.6,
            0.7,
            0.57,
            0.7,
            0.57,
            0.5,
            0.44,
            0.5,
            0.45,
            0.46,
            0.52,
            0.51,
            0.51,
            0.54,
            0.61,
            0.55,
            0.59
           ],
           [
            0.74,
            0.7,
            0.62,
            null,
            0.79,
            null,
            0.68,
            0.85,
            0.76,
            0.41,
            0.71,
            0.69,
            0.77,
            0.73,
            0.78,
            0.82,
            0.71,
            null,
            0.72,
            0.68,
            0.62,
            null,
            0.63,
            0.65,
            0.72,
            0.68,
            0.67,
            0.73,
            null,
            0.72,
            0.69
           ],
           [
            0.74,
            0.68,
            0.53,
            null,
            0.79,
            0.55,
            0.65,
            0.83,
            0.71,
            0.35,
            0.67,
            0.64,
            0.75,
            0.71,
            0.75,
            0.79,
            0.68,
            null,
            0.69,
            0.64,
            0.58,
            0.68,
            0.59,
            0.6,
            0.68,
            0.64,
            0.62,
            0.67,
            null,
            0.67,
            0.68
           ],
           [
            0.73,
            0.64,
            0.5,
            0.68,
            0.74,
            0.51,
            0.61,
            0.78,
            0.66,
            0.3,
            0.63,
            0.59,
            0.72,
            0.68,
            0.7,
            0.76,
            0.64,
            0.74,
            0.65,
            0.58,
            0.54,
            0.55,
            0.54,
            0.54,
            0.62,
            0.59,
            0.59,
            0.62,
            0.61,
            0.63,
            0.66
           ]
          ]
         },
         "columnwidth": [
          1100,
          100
         ],
         "header": {
          "values": [
           "Skill Cluster",
           "Your Score",
           "Average",
           "Top 10%",
           "Top 25%",
           "Top 50%"
          ]
         },
         "type": "table"
        }
       ],
       "layout": {
        "height": 1020,
        "margin": {
         "b": 0,
         "l": 0,
         "r": 0,
         "t": 0
        },
        "template": {
         "data": {
          "bar": [
           {
            "error_x": {
             "color": "#2a3f5f"
            },
            "error_y": {
             "color": "#2a3f5f"
            },
            "marker": {
             "line": {
              "color": "#E5ECF6",
              "width": 0.5
             },
             "pattern": {
              "fillmode": "overlay",
              "size": 10,
              "solidity": 0.2
             }
            },
            "type": "bar"
           }
          ],
          "barpolar": [
           {
            "marker": {
             "line": {
              "color": "#E5ECF6",
              "width": 0.5
             },
             "pattern": {
              "fillmode": "overlay",
              "size": 10,
              "solidity": 0.2
             }
            },
            "type": "barpolar"
           }
          ],
          "carpet": [
           {
            "aaxis": {
             "endlinecolor": "#2a3f5f",
             "gridcolor": "white",
             "linecolor": "white",
             "minorgridcolor": "white",
             "startlinecolor": "#2a3f5f"
            },
            "baxis": {
             "endlinecolor": "#2a3f5f",
             "gridcolor": "white",
             "linecolor": "white",
             "minorgridcolor": "white",
             "startlinecolor": "#2a3f5f"
            },
            "type": "carpet"
           }
          ],
          "choropleth": [
           {
            "colorbar": {
             "outlinewidth": 0,
             "ticks": ""
            },
            "type": "choropleth"
           }
          ],
          "contour": [
           {
            "colorbar": {
             "outlinewidth": 0,
             "ticks": ""
            },
            "colorscale": [
             [
              0,
              "#0d0887"
             ],
             [
              0.1111111111111111,
              "#46039f"
             ],
             [
              0.2222222222222222,
              "#7201a8"
             ],
             [
              0.3333333333333333,
              "#9c179e"
             ],
             [
              0.4444444444444444,
              "#bd3786"
             ],
             [
              0.5555555555555556,
              "#d8576b"
             ],
             [
              0.6666666666666666,
              "#ed7953"
             ],
             [
              0.7777777777777778,
              "#fb9f3a"
             ],
             [
              0.8888888888888888,
              "#fdca26"
             ],
             [
              1,
              "#f0f921"
             ]
            ],
            "type": "contour"
           }
          ],
          "contourcarpet": [
           {
            "colorbar": {
             "outlinewidth": 0,
             "ticks": ""
            },
            "type": "contourcarpet"
           }
          ],
          "heatmap": [
           {
            "colorbar": {
             "outlinewidth": 0,
             "ticks": ""
            },
            "colorscale": [
             [
              0,
              "#0d0887"
             ],
             [
              0.1111111111111111,
              "#46039f"
             ],
             [
              0.2222222222222222,
              "#7201a8"
             ],
             [
              0.3333333333333333,
              "#9c179e"
             ],
             [
              0.4444444444444444,
              "#bd3786"
             ],
             [
              0.5555555555555556,
              "#d8576b"
             ],
             [
              0.6666666666666666,
              "#ed7953"
             ],
             [
              0.7777777777777778,
              "#fb9f3a"
             ],
             [
              0.8888888888888888,
              "#fdca26"
             ],
             [
              1,
              "#f0f921"
             ]
            ],
            "type": "heatmap"
           }
          ],
          "heatmapgl": [
           {
            "colorbar": {
             "outlinewidth": 0,
             "ticks": ""
            },
            "colorscale": [
             [
              0,
              "#0d0887"
             ],
             [
              0.1111111111111111,
              "#46039f"
             ],
             [
              0.2222222222222222,
              "#7201a8"
             ],
             [
              0.3333333333333333,
              "#9c179e"
             ],
             [
              0.4444444444444444,
              "#bd3786"
             ],
             [
              0.5555555555555556,
              "#d8576b"
             ],
             [
              0.6666666666666666,
              "#ed7953"
             ],
             [
              0.7777777777777778,
              "#fb9f3a"
             ],
             [
              0.8888888888888888,
              "#fdca26"
             ],
             [
              1,
              "#f0f921"
             ]
            ],
            "type": "heatmapgl"
           }
          ],
          "histogram": [
           {
            "marker": {
             "pattern": {
              "fillmode": "overlay",
              "size": 10,
              "solidity": 0.2
             }
            },
            "type": "histogram"
           }
          ],
          "histogram2d": [
           {
            "colorbar": {
             "outlinewidth": 0,
             "ticks": ""
            },
            "colorscale": [
             [
              0,
              "#0d0887"
             ],
             [
              0.1111111111111111,
              "#46039f"
             ],
             [
              0.2222222222222222,
              "#7201a8"
             ],
             [
              0.3333333333333333,
              "#9c179e"
             ],
             [
              0.4444444444444444,
              "#bd3786"
             ],
             [
              0.5555555555555556,
              "#d8576b"
             ],
             [
              0.6666666666666666,
              "#ed7953"
             ],
             [
              0.7777777777777778,
              "#fb9f3a"
             ],
             [
              0.8888888888888888,
              "#fdca26"
             ],
             [
              1,
              "#f0f921"
             ]
            ],
            "type": "histogram2d"
           }
          ],
          "histogram2dcontour": [
           {
            "colorbar": {
             "outlinewidth": 0,
             "ticks": ""
            },
            "colorscale": [
             [
              0,
              "#0d0887"
             ],
             [
              0.1111111111111111,
              "#46039f"
             ],
             [
              0.2222222222222222,
              "#7201a8"
             ],
             [
              0.3333333333333333,
              "#9c179e"
             ],
             [
              0.4444444444444444,
              "#bd3786"
             ],
             [
              0.5555555555555556,
              "#d8576b"
             ],
             [
              0.6666666666666666,
              "#ed7953"
             ],
             [
              0.7777777777777778,
              "#fb9f3a"
             ],
             [
              0.8888888888888888,
              "#fdca26"
             ],
             [
              1,
              "#f0f921"
             ]
            ],
            "type": "histogram2dcontour"
           }
          ],
          "mesh3d": [
           {
            "colorbar": {
             "outlinewidth": 0,
             "ticks": ""
            },
            "type": "mesh3d"
           }
          ],
          "parcoords": [
           {
            "line": {
             "colorbar": {
              "outlinewidth": 0,
              "ticks": ""
             }
            },
            "type": "parcoords"
           }
          ],
          "pie": [
           {
            "automargin": true,
            "type": "pie"
           }
          ],
          "scatter": [
           {
            "marker": {
             "colorbar": {
              "outlinewidth": 0,
              "ticks": ""
             }
            },
            "type": "scatter"
           }
          ],
          "scatter3d": [
           {
            "line": {
             "colorbar": {
              "outlinewidth": 0,
              "ticks": ""
             }
            },
            "marker": {
             "colorbar": {
              "outlinewidth": 0,
              "ticks": ""
             }
            },
            "type": "scatter3d"
           }
          ],
          "scattercarpet": [
           {
            "marker": {
             "colorbar": {
              "outlinewidth": 0,
              "ticks": ""
             }
            },
            "type": "scattercarpet"
           }
          ],
          "scattergeo": [
           {
            "marker": {
             "colorbar": {
              "outlinewidth": 0,
              "ticks": ""
             }
            },
            "type": "scattergeo"
           }
          ],
          "scattergl": [
           {
            "marker": {
             "colorbar": {
              "outlinewidth": 0,
              "ticks": ""
             }
            },
            "type": "scattergl"
           }
          ],
          "scattermapbox": [
           {
            "marker": {
             "colorbar": {
              "outlinewidth": 0,
              "ticks": ""
             }
            },
            "type": "scattermapbox"
           }
          ],
          "scatterpolar": [
           {
            "marker": {
             "colorbar": {
              "outlinewidth": 0,
              "ticks": ""
             }
            },
            "type": "scatterpolar"
           }
          ],
          "scatterpolargl": [
           {
            "marker": {
             "colorbar": {
              "outlinewidth": 0,
              "ticks": ""
             }
            },
            "type": "scatterpolargl"
           }
          ],
          "scatterternary": [
           {
            "marker": {
             "colorbar": {
              "outlinewidth": 0,
              "ticks": ""
             }
            },
            "type": "scatterternary"
           }
          ],
          "surface": [
           {
            "colorbar": {
             "outlinewidth": 0,
             "ticks": ""
            },
            "colorscale": [
             [
              0,
              "#0d0887"
             ],
             [
              0.1111111111111111,
              "#46039f"
             ],
             [
              0.2222222222222222,
              "#7201a8"
             ],
             [
              0.3333333333333333,
              "#9c179e"
             ],
             [
              0.4444444444444444,
              "#bd3786"
             ],
             [
              0.5555555555555556,
              "#d8576b"
             ],
             [
              0.6666666666666666,
              "#ed7953"
             ],
             [
              0.7777777777777778,
              "#fb9f3a"
             ],
             [
              0.8888888888888888,
              "#fdca26"
             ],
             [
              1,
              "#f0f921"
             ]
            ],
            "type": "surface"
           }
          ],
          "table": [
           {
            "cells": {
             "fill": {
              "color": "#EBF0F8"
             },
             "line": {
              "color": "white"
             }
            },
            "header": {
             "fill": {
              "color": "#C8D4E3"
             },
             "line": {
              "color": "white"
             }
            },
            "type": "table"
           }
          ]
         },
         "layout": {
          "annotationdefaults": {
           "arrowcolor": "#2a3f5f",
           "arrowhead": 0,
           "arrowwidth": 1
          },
          "autotypenumbers": "strict",
          "coloraxis": {
           "colorbar": {
            "outlinewidth": 0,
            "ticks": ""
           }
          },
          "colorscale": {
           "diverging": [
            [
             0,
             "#8e0152"
            ],
            [
             0.1,
             "#c51b7d"
            ],
            [
             0.2,
             "#de77ae"
            ],
            [
             0.3,
             "#f1b6da"
            ],
            [
             0.4,
             "#fde0ef"
            ],
            [
             0.5,
             "#f7f7f7"
            ],
            [
             0.6,
             "#e6f5d0"
            ],
            [
             0.7,
             "#b8e186"
            ],
            [
             0.8,
             "#7fbc41"
            ],
            [
             0.9,
             "#4d9221"
            ],
            [
             1,
             "#276419"
            ]
           ],
           "sequential": [
            [
             0,
             "#0d0887"
            ],
            [
             0.1111111111111111,
             "#46039f"
            ],
            [
             0.2222222222222222,
             "#7201a8"
            ],
            [
             0.3333333333333333,
             "#9c179e"
            ],
            [
             0.4444444444444444,
             "#bd3786"
            ],
            [
             0.5555555555555556,
             "#d8576b"
            ],
            [
             0.6666666666666666,
             "#ed7953"
            ],
            [
             0.7777777777777778,
             "#fb9f3a"
            ],
            [
             0.8888888888888888,
             "#fdca26"
            ],
            [
             1,
             "#f0f921"
            ]
           ],
           "sequentialminus": [
            [
             0,
             "#0d0887"
            ],
            [
             0.1111111111111111,
             "#46039f"
            ],
            [
             0.2222222222222222,
             "#7201a8"
            ],
            [
             0.3333333333333333,
             "#9c179e"
            ],
            [
             0.4444444444444444,
             "#bd3786"
            ],
            [
             0.5555555555555556,
             "#d8576b"
            ],
            [
             0.6666666666666666,
             "#ed7953"
            ],
            [
             0.7777777777777778,
             "#fb9f3a"
            ],
            [
             0.8888888888888888,
             "#fdca26"
            ],
            [
             1,
             "#f0f921"
            ]
           ]
          },
          "colorway": [
           "#636efa",
           "#EF553B",
           "#00cc96",
           "#ab63fa",
           "#FFA15A",
           "#19d3f3",
           "#FF6692",
           "#B6E880",
           "#FF97FF",
           "#FECB52"
          ],
          "font": {
           "color": "#2a3f5f"
          },
          "geo": {
           "bgcolor": "white",
           "lakecolor": "white",
           "landcolor": "#E5ECF6",
           "showlakes": true,
           "showland": true,
           "subunitcolor": "white"
          },
          "hoverlabel": {
           "align": "left"
          },
          "hovermode": "closest",
          "mapbox": {
           "style": "light"
          },
          "paper_bgcolor": "white",
          "plot_bgcolor": "#E5ECF6",
          "polar": {
           "angularaxis": {
            "gridcolor": "white",
            "linecolor": "white",
            "ticks": ""
           },
           "bgcolor": "#E5ECF6",
           "radialaxis": {
            "gridcolor": "white",
            "linecolor": "white",
            "ticks": ""
           }
          },
          "scene": {
           "xaxis": {
            "backgroundcolor": "#E5ECF6",
            "gridcolor": "white",
            "gridwidth": 2,
            "linecolor": "white",
            "showbackground": true,
            "ticks": "",
            "zerolinecolor": "white"
           },
           "yaxis": {
            "backgroundcolor": "#E5ECF6",
            "gridcolor": "white",
            "gridwidth": 2,
            "linecolor": "white",
            "showbackground": true,
            "ticks": "",
            "zerolinecolor": "white"
           },
           "zaxis": {
            "backgroundcolor": "#E5ECF6",
            "gridcolor": "white",
            "gridwidth": 2,
            "linecolor": "white",
            "showbackground": true,
            "ticks": "",
            "zerolinecolor": "white"
           }
          },
          "shapedefaults": {
           "line": {
            "color": "#2a3f5f"
           }
          },
          "ternary": {
           "aaxis": {
            "gridcolor": "white",
            "linecolor": "white",
            "ticks": ""
           },
           "baxis": {
            "gridcolor": "white",
            "linecolor": "white",
            "ticks": ""
           },
           "bgcolor": "#E5ECF6",
           "caxis": {
            "gridcolor": "white",
            "linecolor": "white",
            "ticks": ""
           }
          },
          "title": {
           "x": 0.05
          },
          "xaxis": {
           "automargin": true,
           "gridcolor": "white",
           "linecolor": "white",
           "ticks": "",
           "title": {
            "standoff": 15
           },
           "zerolinecolor": "white",
           "zerolinewidth": 2
          },
          "yaxis": {
           "automargin": true,
           "gridcolor": "white",
           "linecolor": "white",
           "ticks": "",
           "title": {
            "standoff": 15
           },
           "zerolinecolor": "white",
           "zerolinewidth": 2
          }
         }
        },
        "width": 900
       }
      },
      "text/html": [
       "<div>                            <div id=\"271d7513-03d6-440f-ba9f-da60fc167410\" class=\"plotly-graph-div\" style=\"height:1020.0px; width:900px;\"></div>            <script type=\"text/javascript\">                require([\"plotly\"], function(Plotly) {                    window.PLOTLYENV=window.PLOTLYENV || {};                                    if (document.getElementById(\"271d7513-03d6-440f-ba9f-da60fc167410\")) {                    Plotly.newPlot(                        \"271d7513-03d6-440f-ba9f-da60fc167410\",                        [{\"cells\":{\"fill\":{\"color\":[\"rgb(245, 245, 255)\",[\"#ffcccc\",\"#ccffcc\",\"#ccffcc\",\"#ccffcc\",\"#ccffcc\",\"#ccffcc\",\"#ccffcc\",\"#ccffcc\",\"#ccffcc\",\"#ccffcc\",\"#ccffcc\",\"#ccffcc\",\"#ccffcc\",\"#ccffcc\",\"#ccffcc\",\"#ccffcc\",\"#ccffcc\",\"#ccffcc\",\"#ccffcc\",\"#ccffcc\",\"#ccffcc\",\"#ccffcc\",\"#ccffcc\",\"#ccffcc\",\"#ccffcc\",\"#ccffcc\",\"#ccffcc\",\"#ccffcc\",\"#ccffcc\",\"#ccffcc\",\"#ccffcc\"]]},\"values\":[[\"<b>team</b> <b>player</b>, ability work, team members\",\"<b>knowledge</b> <b>sql</b>, relational databases, sql queries\",\"<b>ability</b> <b>work</b>, work independently, fast-paced environment\",\"<b>years</b> <b>experience</b>, related field, years relevant\",\"<b>learn</b> <b>new</b>, new technologies, eager learn\",\"<b>track</b> <b>record</b>, research projects, scientific technical\",\"<b>machine</b> <b>learning</b>, learning models, learning algorithms\",\"<b>communication</b> <b>skills</b>, excellent communication, skills excellent\",\"<b>big</b> <b>data</b>, experience working, experience big\",\"<b>attention</b> <b>detail</b>, natural language, social media\",\"<b>experience</b> <b>working</b>, software development, project management\",\"<b>data</b> <b>sets</b>, data analysis, data sources\",\"<b>machine</b> <b>learning</b>, learning techniques, machine learning,\",\"<b>data</b> <b>science</b>, data scientists, data scientist\",\"<b>data</b> <b>visualization</b>, visualization tools, experience data\",\"<b>years</b> <b>experience</b>, experience data, data science\",\"<b>business</b> <b>stakeholders</b>, work closely, internal external\",\"<b>problem-solving</b> <b>skills</b>, problem solving, strong analytical\",\"<b>programming</b> <b>skills</b>, programming languages, data science\",\"<b>predictive</b> <b>models</b>, machine learning, model performance\",\"<b>experience</b> <b>working</b>, single cell, next-generation sequencing\",\"<b>helping</b> <b>others</b>, people around, lasting mark\",\"<b>version</b> <b>control</b>, software engineering, best practices\",\"<b>data</b> <b>analysis</b>, results clear, track record\",\"<b>deep</b> <b>learning</b>, machine learning, experience deep\",\"<b>business</b> <b>problems</b>, translate business, understand business\",\"<b>working</b> <b>environment</b>, work environment, professional development\",\"<b>experience</b> <b>cloud</b>, google cloud, cloud computing\",\"<b>fluent</b> <b>english</b>, communication skills, english fluent\",\"<b>data</b> <b>quality</b>, data management, data pipelines\",\"<b>computer</b> <b>science,</b>, computer science, master\\u2019s degree\"],[0,1,2,3,4,5,6,7,8,9,10,11,12,13,14,15,16,17,18,19,20,21,22,23,24,25,26,27,28,29,30],[0.61,0.55,0.48,0.61,0.63,0.45,0.53,0.73,0.57,0.21,0.57,0.51,0.65,0.62,0.6,0.7,0.57,0.7,0.57,0.5,0.44,0.5,0.45,0.46,0.52,0.51,0.51,0.54,0.61,0.55,0.59],[0.74,0.7,0.62,null,0.79,null,0.68,0.85,0.76,0.41,0.71,0.69,0.77,0.73,0.78,0.82,0.71,null,0.72,0.68,0.62,null,0.63,0.65,0.72,0.68,0.67,0.73,null,0.72,0.69],[0.74,0.68,0.53,null,0.79,0.55,0.65,0.83,0.71,0.35,0.67,0.64,0.75,0.71,0.75,0.79,0.68,null,0.69,0.64,0.58,0.68,0.59,0.6,0.68,0.64,0.62,0.67,null,0.67,0.68],[0.73,0.64,0.5,0.68,0.74,0.51,0.61,0.78,0.66,0.3,0.63,0.59,0.72,0.68,0.7,0.76,0.64,0.74,0.65,0.58,0.54,0.55,0.54,0.54,0.62,0.59,0.59,0.62,0.61,0.63,0.66]]},\"columnwidth\":[1100,100],\"header\":{\"values\":[\"Skill Cluster\",\"Your Score\",\"Average\",\"Top 10%\",\"Top 25%\",\"Top 50%\"]},\"type\":\"table\"}],                        {\"height\":1020.0,\"margin\":{\"b\":0,\"l\":0,\"r\":0,\"t\":0},\"template\":{\"data\":{\"bar\":[{\"error_x\":{\"color\":\"#2a3f5f\"},\"error_y\":{\"color\":\"#2a3f5f\"},\"marker\":{\"line\":{\"color\":\"#E5ECF6\",\"width\":0.5},\"pattern\":{\"fillmode\":\"overlay\",\"size\":10,\"solidity\":0.2}},\"type\":\"bar\"}],\"barpolar\":[{\"marker\":{\"line\":{\"color\":\"#E5ECF6\",\"width\":0.5},\"pattern\":{\"fillmode\":\"overlay\",\"size\":10,\"solidity\":0.2}},\"type\":\"barpolar\"}],\"carpet\":[{\"aaxis\":{\"endlinecolor\":\"#2a3f5f\",\"gridcolor\":\"white\",\"linecolor\":\"white\",\"minorgridcolor\":\"white\",\"startlinecolor\":\"#2a3f5f\"},\"baxis\":{\"endlinecolor\":\"#2a3f5f\",\"gridcolor\":\"white\",\"linecolor\":\"white\",\"minorgridcolor\":\"white\",\"startlinecolor\":\"#2a3f5f\"},\"type\":\"carpet\"}],\"choropleth\":[{\"colorbar\":{\"outlinewidth\":0,\"ticks\":\"\"},\"type\":\"choropleth\"}],\"contour\":[{\"colorbar\":{\"outlinewidth\":0,\"ticks\":\"\"},\"colorscale\":[[0.0,\"#0d0887\"],[0.1111111111111111,\"#46039f\"],[0.2222222222222222,\"#7201a8\"],[0.3333333333333333,\"#9c179e\"],[0.4444444444444444,\"#bd3786\"],[0.5555555555555556,\"#d8576b\"],[0.6666666666666666,\"#ed7953\"],[0.7777777777777778,\"#fb9f3a\"],[0.8888888888888888,\"#fdca26\"],[1.0,\"#f0f921\"]],\"type\":\"contour\"}],\"contourcarpet\":[{\"colorbar\":{\"outlinewidth\":0,\"ticks\":\"\"},\"type\":\"contourcarpet\"}],\"heatmap\":[{\"colorbar\":{\"outlinewidth\":0,\"ticks\":\"\"},\"colorscale\":[[0.0,\"#0d0887\"],[0.1111111111111111,\"#46039f\"],[0.2222222222222222,\"#7201a8\"],[0.3333333333333333,\"#9c179e\"],[0.4444444444444444,\"#bd3786\"],[0.5555555555555556,\"#d8576b\"],[0.6666666666666666,\"#ed7953\"],[0.7777777777777778,\"#fb9f3a\"],[0.8888888888888888,\"#fdca26\"],[1.0,\"#f0f921\"]],\"type\":\"heatmap\"}],\"heatmapgl\":[{\"colorbar\":{\"outlinewidth\":0,\"ticks\":\"\"},\"colorscale\":[[0.0,\"#0d0887\"],[0.1111111111111111,\"#46039f\"],[0.2222222222222222,\"#7201a8\"],[0.3333333333333333,\"#9c179e\"],[0.4444444444444444,\"#bd3786\"],[0.5555555555555556,\"#d8576b\"],[0.6666666666666666,\"#ed7953\"],[0.7777777777777778,\"#fb9f3a\"],[0.8888888888888888,\"#fdca26\"],[1.0,\"#f0f921\"]],\"type\":\"heatmapgl\"}],\"histogram\":[{\"marker\":{\"pattern\":{\"fillmode\":\"overlay\",\"size\":10,\"solidity\":0.2}},\"type\":\"histogram\"}],\"histogram2d\":[{\"colorbar\":{\"outlinewidth\":0,\"ticks\":\"\"},\"colorscale\":[[0.0,\"#0d0887\"],[0.1111111111111111,\"#46039f\"],[0.2222222222222222,\"#7201a8\"],[0.3333333333333333,\"#9c179e\"],[0.4444444444444444,\"#bd3786\"],[0.5555555555555556,\"#d8576b\"],[0.6666666666666666,\"#ed7953\"],[0.7777777777777778,\"#fb9f3a\"],[0.8888888888888888,\"#fdca26\"],[1.0,\"#f0f921\"]],\"type\":\"histogram2d\"}],\"histogram2dcontour\":[{\"colorbar\":{\"outlinewidth\":0,\"ticks\":\"\"},\"colorscale\":[[0.0,\"#0d0887\"],[0.1111111111111111,\"#46039f\"],[0.2222222222222222,\"#7201a8\"],[0.3333333333333333,\"#9c179e\"],[0.4444444444444444,\"#bd3786\"],[0.5555555555555556,\"#d8576b\"],[0.6666666666666666,\"#ed7953\"],[0.7777777777777778,\"#fb9f3a\"],[0.8888888888888888,\"#fdca26\"],[1.0,\"#f0f921\"]],\"type\":\"histogram2dcontour\"}],\"mesh3d\":[{\"colorbar\":{\"outlinewidth\":0,\"ticks\":\"\"},\"type\":\"mesh3d\"}],\"parcoords\":[{\"line\":{\"colorbar\":{\"outlinewidth\":0,\"ticks\":\"\"}},\"type\":\"parcoords\"}],\"pie\":[{\"automargin\":true,\"type\":\"pie\"}],\"scatter\":[{\"marker\":{\"colorbar\":{\"outlinewidth\":0,\"ticks\":\"\"}},\"type\":\"scatter\"}],\"scatter3d\":[{\"line\":{\"colorbar\":{\"outlinewidth\":0,\"ticks\":\"\"}},\"marker\":{\"colorbar\":{\"outlinewidth\":0,\"ticks\":\"\"}},\"type\":\"scatter3d\"}],\"scattercarpet\":[{\"marker\":{\"colorbar\":{\"outlinewidth\":0,\"ticks\":\"\"}},\"type\":\"scattercarpet\"}],\"scattergeo\":[{\"marker\":{\"colorbar\":{\"outlinewidth\":0,\"ticks\":\"\"}},\"type\":\"scattergeo\"}],\"scattergl\":[{\"marker\":{\"colorbar\":{\"outlinewidth\":0,\"ticks\":\"\"}},\"type\":\"scattergl\"}],\"scattermapbox\":[{\"marker\":{\"colorbar\":{\"outlinewidth\":0,\"ticks\":\"\"}},\"type\":\"scattermapbox\"}],\"scatterpolar\":[{\"marker\":{\"colorbar\":{\"outlinewidth\":0,\"ticks\":\"\"}},\"type\":\"scatterpolar\"}],\"scatterpolargl\":[{\"marker\":{\"colorbar\":{\"outlinewidth\":0,\"ticks\":\"\"}},\"type\":\"scatterpolargl\"}],\"scatterternary\":[{\"marker\":{\"colorbar\":{\"outlinewidth\":0,\"ticks\":\"\"}},\"type\":\"scatterternary\"}],\"surface\":[{\"colorbar\":{\"outlinewidth\":0,\"ticks\":\"\"},\"colorscale\":[[0.0,\"#0d0887\"],[0.1111111111111111,\"#46039f\"],[0.2222222222222222,\"#7201a8\"],[0.3333333333333333,\"#9c179e\"],[0.4444444444444444,\"#bd3786\"],[0.5555555555555556,\"#d8576b\"],[0.6666666666666666,\"#ed7953\"],[0.7777777777777778,\"#fb9f3a\"],[0.8888888888888888,\"#fdca26\"],[1.0,\"#f0f921\"]],\"type\":\"surface\"}],\"table\":[{\"cells\":{\"fill\":{\"color\":\"#EBF0F8\"},\"line\":{\"color\":\"white\"}},\"header\":{\"fill\":{\"color\":\"#C8D4E3\"},\"line\":{\"color\":\"white\"}},\"type\":\"table\"}]},\"layout\":{\"annotationdefaults\":{\"arrowcolor\":\"#2a3f5f\",\"arrowhead\":0,\"arrowwidth\":1},\"autotypenumbers\":\"strict\",\"coloraxis\":{\"colorbar\":{\"outlinewidth\":0,\"ticks\":\"\"}},\"colorscale\":{\"diverging\":[[0,\"#8e0152\"],[0.1,\"#c51b7d\"],[0.2,\"#de77ae\"],[0.3,\"#f1b6da\"],[0.4,\"#fde0ef\"],[0.5,\"#f7f7f7\"],[0.6,\"#e6f5d0\"],[0.7,\"#b8e186\"],[0.8,\"#7fbc41\"],[0.9,\"#4d9221\"],[1,\"#276419\"]],\"sequential\":[[0.0,\"#0d0887\"],[0.1111111111111111,\"#46039f\"],[0.2222222222222222,\"#7201a8\"],[0.3333333333333333,\"#9c179e\"],[0.4444444444444444,\"#bd3786\"],[0.5555555555555556,\"#d8576b\"],[0.6666666666666666,\"#ed7953\"],[0.7777777777777778,\"#fb9f3a\"],[0.8888888888888888,\"#fdca26\"],[1.0,\"#f0f921\"]],\"sequentialminus\":[[0.0,\"#0d0887\"],[0.1111111111111111,\"#46039f\"],[0.2222222222222222,\"#7201a8\"],[0.3333333333333333,\"#9c179e\"],[0.4444444444444444,\"#bd3786\"],[0.5555555555555556,\"#d8576b\"],[0.6666666666666666,\"#ed7953\"],[0.7777777777777778,\"#fb9f3a\"],[0.8888888888888888,\"#fdca26\"],[1.0,\"#f0f921\"]]},\"colorway\":[\"#636efa\",\"#EF553B\",\"#00cc96\",\"#ab63fa\",\"#FFA15A\",\"#19d3f3\",\"#FF6692\",\"#B6E880\",\"#FF97FF\",\"#FECB52\"],\"font\":{\"color\":\"#2a3f5f\"},\"geo\":{\"bgcolor\":\"white\",\"lakecolor\":\"white\",\"landcolor\":\"#E5ECF6\",\"showlakes\":true,\"showland\":true,\"subunitcolor\":\"white\"},\"hoverlabel\":{\"align\":\"left\"},\"hovermode\":\"closest\",\"mapbox\":{\"style\":\"light\"},\"paper_bgcolor\":\"white\",\"plot_bgcolor\":\"#E5ECF6\",\"polar\":{\"angularaxis\":{\"gridcolor\":\"white\",\"linecolor\":\"white\",\"ticks\":\"\"},\"bgcolor\":\"#E5ECF6\",\"radialaxis\":{\"gridcolor\":\"white\",\"linecolor\":\"white\",\"ticks\":\"\"}},\"scene\":{\"xaxis\":{\"backgroundcolor\":\"#E5ECF6\",\"gridcolor\":\"white\",\"gridwidth\":2,\"linecolor\":\"white\",\"showbackground\":true,\"ticks\":\"\",\"zerolinecolor\":\"white\"},\"yaxis\":{\"backgroundcolor\":\"#E5ECF6\",\"gridcolor\":\"white\",\"gridwidth\":2,\"linecolor\":\"white\",\"showbackground\":true,\"ticks\":\"\",\"zerolinecolor\":\"white\"},\"zaxis\":{\"backgroundcolor\":\"#E5ECF6\",\"gridcolor\":\"white\",\"gridwidth\":2,\"linecolor\":\"white\",\"showbackground\":true,\"ticks\":\"\",\"zerolinecolor\":\"white\"}},\"shapedefaults\":{\"line\":{\"color\":\"#2a3f5f\"}},\"ternary\":{\"aaxis\":{\"gridcolor\":\"white\",\"linecolor\":\"white\",\"ticks\":\"\"},\"baxis\":{\"gridcolor\":\"white\",\"linecolor\":\"white\",\"ticks\":\"\"},\"bgcolor\":\"#E5ECF6\",\"caxis\":{\"gridcolor\":\"white\",\"linecolor\":\"white\",\"ticks\":\"\"}},\"title\":{\"x\":0.05},\"xaxis\":{\"automargin\":true,\"gridcolor\":\"white\",\"linecolor\":\"white\",\"ticks\":\"\",\"title\":{\"standoff\":15},\"zerolinecolor\":\"white\",\"zerolinewidth\":2},\"yaxis\":{\"automargin\":true,\"gridcolor\":\"white\",\"linecolor\":\"white\",\"ticks\":\"\",\"title\":{\"standoff\":15},\"zerolinecolor\":\"white\",\"zerolinewidth\":2}}},\"width\":900},                        {\"responsive\": true}                    ).then(function(){\n",
       "                            \n",
       "var gd = document.getElementById('271d7513-03d6-440f-ba9f-da60fc167410');\n",
       "var x = new MutationObserver(function (mutations, observer) {{\n",
       "        var display = window.getComputedStyle(gd).display;\n",
       "        if (!display || display === 'none') {{\n",
       "            console.log([gd, 'removed!']);\n",
       "            Plotly.purge(gd);\n",
       "            observer.disconnect();\n",
       "        }}\n",
       "}});\n",
       "\n",
       "// Listen for the removal of the full notebook cells\n",
       "var notebookContainer = gd.closest('#notebook-container');\n",
       "if (notebookContainer) {{\n",
       "    x.observe(notebookContainer, {childList: true});\n",
       "}}\n",
       "\n",
       "// Listen for the clearing of the current output cell\n",
       "var outputEl = gd.closest('.output');\n",
       "if (outputEl) {{\n",
       "    x.observe(outputEl, {childList: true});\n",
       "}}\n",
       "\n",
       "                        })                };                });            </script>        </div>"
      ]
     },
     "metadata": {},
     "output_type": "display_data"
    }
   ],
   "source": [
    "def get_table(scores):\n",
    "    scores = [round(num, 2) for num in scores]\n",
    "    \n",
    "    labels = cluster_label_bigrams\n",
    "    \n",
    "    mean = df_cv_summary['mean'].tolist()\n",
    "    mean = [round(num, 2) for num in mean]\n",
    "    \n",
    "    top10 = df_cv_summary['top10'].tolist()\n",
    "    top10 = [round(num, 2) for num in top10]\n",
    "    \n",
    "    top25 = df_cv_summary['top25'].tolist()\n",
    "    top25 = [round(num, 2) for num in top25]\n",
    "    \n",
    "    top50 = df_cv_summary['top50'].tolist()\n",
    "    top50 = [round(num, 2) for num in top50]\n",
    "    \n",
    "    fill_color = []\n",
    "    for score in scores:\n",
    "        if score<=top50[scores.index(score)]:#less then average\n",
    "            fill_color.append('#ffcccc')\n",
    "        elif score<=top25[scores.index(score)]:\n",
    "            fill_color.append('#fff5e6')\n",
    "        elif score<=top10[scores.index(score)]:\n",
    "            fill_color.append('#e6ffb3')                 \n",
    "        else:\n",
    "            fill_color.append('#ccffcc')\n",
    "    \n",
    "    print(fill_color)\n",
    "    fig = go.Figure(data=[go.Table(\n",
    "        columnwidth = [1100,100],\n",
    "        header=dict(values=['Skill Cluster','Your Score','Average','Top 10%','Top 25%', 'Top 50%']),\n",
    "        \n",
    "        cells=dict(values=[labels, scores,mean,top10,top25,top50],\n",
    "              fill = dict(color=['rgb(245, 245, 255)',fill_color])\n",
    "                  )\n",
    "    )])\n",
    "    fig.update_layout(height = 3.4*300, width = 3*300,margin=go.layout.Margin(l=0, r=0,b=0, t=0 ))\n",
    "    \n",
    "    return(fig)\n",
    "get_table(range(31))"
   ]
  },
  {
   "cell_type": "code",
   "execution_count": 10,
   "metadata": {},
   "outputs": [
    {
     "data": {
      "application/vnd.plotly.v1+json": {
       "config": {
        "plotlyServerURL": "https://plot.ly"
       },
       "data": [
        {
         "cells": {
          "fill": {
           "color": [
            "#ccffcc",
            "#ccffcc",
            "#ccffcc",
            "#e6ffb3",
            "#ffcccc"
           ]
          },
          "values": [
           "<b>70</b>",
           49,
           72,
           67,
           61
          ]
         },
         "columnwidth": [
          100,
          100
         ],
         "header": {
          "values": [
           "<b>Your CV Coverage [%]</b>",
           "Data Scientist<br>Top 10% [%]",
           "Data Scientist <br>Top 25% [%]",
           "Data Scientist<br>Top 50% [%]",
           "Data Scientist<br>Average [%]"
          ]
         },
         "type": "table"
        }
       ],
       "layout": {
        "height": 300,
        "margin": {
         "b": 0,
         "l": 10,
         "r": 10,
         "t": 0
        },
        "template": {
         "data": {
          "bar": [
           {
            "error_x": {
             "color": "#2a3f5f"
            },
            "error_y": {
             "color": "#2a3f5f"
            },
            "marker": {
             "line": {
              "color": "#E5ECF6",
              "width": 0.5
             },
             "pattern": {
              "fillmode": "overlay",
              "size": 10,
              "solidity": 0.2
             }
            },
            "type": "bar"
           }
          ],
          "barpolar": [
           {
            "marker": {
             "line": {
              "color": "#E5ECF6",
              "width": 0.5
             },
             "pattern": {
              "fillmode": "overlay",
              "size": 10,
              "solidity": 0.2
             }
            },
            "type": "barpolar"
           }
          ],
          "carpet": [
           {
            "aaxis": {
             "endlinecolor": "#2a3f5f",
             "gridcolor": "white",
             "linecolor": "white",
             "minorgridcolor": "white",
             "startlinecolor": "#2a3f5f"
            },
            "baxis": {
             "endlinecolor": "#2a3f5f",
             "gridcolor": "white",
             "linecolor": "white",
             "minorgridcolor": "white",
             "startlinecolor": "#2a3f5f"
            },
            "type": "carpet"
           }
          ],
          "choropleth": [
           {
            "colorbar": {
             "outlinewidth": 0,
             "ticks": ""
            },
            "type": "choropleth"
           }
          ],
          "contour": [
           {
            "colorbar": {
             "outlinewidth": 0,
             "ticks": ""
            },
            "colorscale": [
             [
              0,
              "#0d0887"
             ],
             [
              0.1111111111111111,
              "#46039f"
             ],
             [
              0.2222222222222222,
              "#7201a8"
             ],
             [
              0.3333333333333333,
              "#9c179e"
             ],
             [
              0.4444444444444444,
              "#bd3786"
             ],
             [
              0.5555555555555556,
              "#d8576b"
             ],
             [
              0.6666666666666666,
              "#ed7953"
             ],
             [
              0.7777777777777778,
              "#fb9f3a"
             ],
             [
              0.8888888888888888,
              "#fdca26"
             ],
             [
              1,
              "#f0f921"
             ]
            ],
            "type": "contour"
           }
          ],
          "contourcarpet": [
           {
            "colorbar": {
             "outlinewidth": 0,
             "ticks": ""
            },
            "type": "contourcarpet"
           }
          ],
          "heatmap": [
           {
            "colorbar": {
             "outlinewidth": 0,
             "ticks": ""
            },
            "colorscale": [
             [
              0,
              "#0d0887"
             ],
             [
              0.1111111111111111,
              "#46039f"
             ],
             [
              0.2222222222222222,
              "#7201a8"
             ],
             [
              0.3333333333333333,
              "#9c179e"
             ],
             [
              0.4444444444444444,
              "#bd3786"
             ],
             [
              0.5555555555555556,
              "#d8576b"
             ],
             [
              0.6666666666666666,
              "#ed7953"
             ],
             [
              0.7777777777777778,
              "#fb9f3a"
             ],
             [
              0.8888888888888888,
              "#fdca26"
             ],
             [
              1,
              "#f0f921"
             ]
            ],
            "type": "heatmap"
           }
          ],
          "heatmapgl": [
           {
            "colorbar": {
             "outlinewidth": 0,
             "ticks": ""
            },
            "colorscale": [
             [
              0,
              "#0d0887"
             ],
             [
              0.1111111111111111,
              "#46039f"
             ],
             [
              0.2222222222222222,
              "#7201a8"
             ],
             [
              0.3333333333333333,
              "#9c179e"
             ],
             [
              0.4444444444444444,
              "#bd3786"
             ],
             [
              0.5555555555555556,
              "#d8576b"
             ],
             [
              0.6666666666666666,
              "#ed7953"
             ],
             [
              0.7777777777777778,
              "#fb9f3a"
             ],
             [
              0.8888888888888888,
              "#fdca26"
             ],
             [
              1,
              "#f0f921"
             ]
            ],
            "type": "heatmapgl"
           }
          ],
          "histogram": [
           {
            "marker": {
             "pattern": {
              "fillmode": "overlay",
              "size": 10,
              "solidity": 0.2
             }
            },
            "type": "histogram"
           }
          ],
          "histogram2d": [
           {
            "colorbar": {
             "outlinewidth": 0,
             "ticks": ""
            },
            "colorscale": [
             [
              0,
              "#0d0887"
             ],
             [
              0.1111111111111111,
              "#46039f"
             ],
             [
              0.2222222222222222,
              "#7201a8"
             ],
             [
              0.3333333333333333,
              "#9c179e"
             ],
             [
              0.4444444444444444,
              "#bd3786"
             ],
             [
              0.5555555555555556,
              "#d8576b"
             ],
             [
              0.6666666666666666,
              "#ed7953"
             ],
             [
              0.7777777777777778,
              "#fb9f3a"
             ],
             [
              0.8888888888888888,
              "#fdca26"
             ],
             [
              1,
              "#f0f921"
             ]
            ],
            "type": "histogram2d"
           }
          ],
          "histogram2dcontour": [
           {
            "colorbar": {
             "outlinewidth": 0,
             "ticks": ""
            },
            "colorscale": [
             [
              0,
              "#0d0887"
             ],
             [
              0.1111111111111111,
              "#46039f"
             ],
             [
              0.2222222222222222,
              "#7201a8"
             ],
             [
              0.3333333333333333,
              "#9c179e"
             ],
             [
              0.4444444444444444,
              "#bd3786"
             ],
             [
              0.5555555555555556,
              "#d8576b"
             ],
             [
              0.6666666666666666,
              "#ed7953"
             ],
             [
              0.7777777777777778,
              "#fb9f3a"
             ],
             [
              0.8888888888888888,
              "#fdca26"
             ],
             [
              1,
              "#f0f921"
             ]
            ],
            "type": "histogram2dcontour"
           }
          ],
          "mesh3d": [
           {
            "colorbar": {
             "outlinewidth": 0,
             "ticks": ""
            },
            "type": "mesh3d"
           }
          ],
          "parcoords": [
           {
            "line": {
             "colorbar": {
              "outlinewidth": 0,
              "ticks": ""
             }
            },
            "type": "parcoords"
           }
          ],
          "pie": [
           {
            "automargin": true,
            "type": "pie"
           }
          ],
          "scatter": [
           {
            "marker": {
             "colorbar": {
              "outlinewidth": 0,
              "ticks": ""
             }
            },
            "type": "scatter"
           }
          ],
          "scatter3d": [
           {
            "line": {
             "colorbar": {
              "outlinewidth": 0,
              "ticks": ""
             }
            },
            "marker": {
             "colorbar": {
              "outlinewidth": 0,
              "ticks": ""
             }
            },
            "type": "scatter3d"
           }
          ],
          "scattercarpet": [
           {
            "marker": {
             "colorbar": {
              "outlinewidth": 0,
              "ticks": ""
             }
            },
            "type": "scattercarpet"
           }
          ],
          "scattergeo": [
           {
            "marker": {
             "colorbar": {
              "outlinewidth": 0,
              "ticks": ""
             }
            },
            "type": "scattergeo"
           }
          ],
          "scattergl": [
           {
            "marker": {
             "colorbar": {
              "outlinewidth": 0,
              "ticks": ""
             }
            },
            "type": "scattergl"
           }
          ],
          "scattermapbox": [
           {
            "marker": {
             "colorbar": {
              "outlinewidth": 0,
              "ticks": ""
             }
            },
            "type": "scattermapbox"
           }
          ],
          "scatterpolar": [
           {
            "marker": {
             "colorbar": {
              "outlinewidth": 0,
              "ticks": ""
             }
            },
            "type": "scatterpolar"
           }
          ],
          "scatterpolargl": [
           {
            "marker": {
             "colorbar": {
              "outlinewidth": 0,
              "ticks": ""
             }
            },
            "type": "scatterpolargl"
           }
          ],
          "scatterternary": [
           {
            "marker": {
             "colorbar": {
              "outlinewidth": 0,
              "ticks": ""
             }
            },
            "type": "scatterternary"
           }
          ],
          "surface": [
           {
            "colorbar": {
             "outlinewidth": 0,
             "ticks": ""
            },
            "colorscale": [
             [
              0,
              "#0d0887"
             ],
             [
              0.1111111111111111,
              "#46039f"
             ],
             [
              0.2222222222222222,
              "#7201a8"
             ],
             [
              0.3333333333333333,
              "#9c179e"
             ],
             [
              0.4444444444444444,
              "#bd3786"
             ],
             [
              0.5555555555555556,
              "#d8576b"
             ],
             [
              0.6666666666666666,
              "#ed7953"
             ],
             [
              0.7777777777777778,
              "#fb9f3a"
             ],
             [
              0.8888888888888888,
              "#fdca26"
             ],
             [
              1,
              "#f0f921"
             ]
            ],
            "type": "surface"
           }
          ],
          "table": [
           {
            "cells": {
             "fill": {
              "color": "#EBF0F8"
             },
             "line": {
              "color": "white"
             }
            },
            "header": {
             "fill": {
              "color": "#C8D4E3"
             },
             "line": {
              "color": "white"
             }
            },
            "type": "table"
           }
          ]
         },
         "layout": {
          "annotationdefaults": {
           "arrowcolor": "#2a3f5f",
           "arrowhead": 0,
           "arrowwidth": 1
          },
          "autotypenumbers": "strict",
          "coloraxis": {
           "colorbar": {
            "outlinewidth": 0,
            "ticks": ""
           }
          },
          "colorscale": {
           "diverging": [
            [
             0,
             "#8e0152"
            ],
            [
             0.1,
             "#c51b7d"
            ],
            [
             0.2,
             "#de77ae"
            ],
            [
             0.3,
             "#f1b6da"
            ],
            [
             0.4,
             "#fde0ef"
            ],
            [
             0.5,
             "#f7f7f7"
            ],
            [
             0.6,
             "#e6f5d0"
            ],
            [
             0.7,
             "#b8e186"
            ],
            [
             0.8,
             "#7fbc41"
            ],
            [
             0.9,
             "#4d9221"
            ],
            [
             1,
             "#276419"
            ]
           ],
           "sequential": [
            [
             0,
             "#0d0887"
            ],
            [
             0.1111111111111111,
             "#46039f"
            ],
            [
             0.2222222222222222,
             "#7201a8"
            ],
            [
             0.3333333333333333,
             "#9c179e"
            ],
            [
             0.4444444444444444,
             "#bd3786"
            ],
            [
             0.5555555555555556,
             "#d8576b"
            ],
            [
             0.6666666666666666,
             "#ed7953"
            ],
            [
             0.7777777777777778,
             "#fb9f3a"
            ],
            [
             0.8888888888888888,
             "#fdca26"
            ],
            [
             1,
             "#f0f921"
            ]
           ],
           "sequentialminus": [
            [
             0,
             "#0d0887"
            ],
            [
             0.1111111111111111,
             "#46039f"
            ],
            [
             0.2222222222222222,
             "#7201a8"
            ],
            [
             0.3333333333333333,
             "#9c179e"
            ],
            [
             0.4444444444444444,
             "#bd3786"
            ],
            [
             0.5555555555555556,
             "#d8576b"
            ],
            [
             0.6666666666666666,
             "#ed7953"
            ],
            [
             0.7777777777777778,
             "#fb9f3a"
            ],
            [
             0.8888888888888888,
             "#fdca26"
            ],
            [
             1,
             "#f0f921"
            ]
           ]
          },
          "colorway": [
           "#636efa",
           "#EF553B",
           "#00cc96",
           "#ab63fa",
           "#FFA15A",
           "#19d3f3",
           "#FF6692",
           "#B6E880",
           "#FF97FF",
           "#FECB52"
          ],
          "font": {
           "color": "#2a3f5f"
          },
          "geo": {
           "bgcolor": "white",
           "lakecolor": "white",
           "landcolor": "#E5ECF6",
           "showlakes": true,
           "showland": true,
           "subunitcolor": "white"
          },
          "hoverlabel": {
           "align": "left"
          },
          "hovermode": "closest",
          "mapbox": {
           "style": "light"
          },
          "paper_bgcolor": "white",
          "plot_bgcolor": "#E5ECF6",
          "polar": {
           "angularaxis": {
            "gridcolor": "white",
            "linecolor": "white",
            "ticks": ""
           },
           "bgcolor": "#E5ECF6",
           "radialaxis": {
            "gridcolor": "white",
            "linecolor": "white",
            "ticks": ""
           }
          },
          "scene": {
           "xaxis": {
            "backgroundcolor": "#E5ECF6",
            "gridcolor": "white",
            "gridwidth": 2,
            "linecolor": "white",
            "showbackground": true,
            "ticks": "",
            "zerolinecolor": "white"
           },
           "yaxis": {
            "backgroundcolor": "#E5ECF6",
            "gridcolor": "white",
            "gridwidth": 2,
            "linecolor": "white",
            "showbackground": true,
            "ticks": "",
            "zerolinecolor": "white"
           },
           "zaxis": {
            "backgroundcolor": "#E5ECF6",
            "gridcolor": "white",
            "gridwidth": 2,
            "linecolor": "white",
            "showbackground": true,
            "ticks": "",
            "zerolinecolor": "white"
           }
          },
          "shapedefaults": {
           "line": {
            "color": "#2a3f5f"
           }
          },
          "ternary": {
           "aaxis": {
            "gridcolor": "white",
            "linecolor": "white",
            "ticks": ""
           },
           "baxis": {
            "gridcolor": "white",
            "linecolor": "white",
            "ticks": ""
           },
           "bgcolor": "#E5ECF6",
           "caxis": {
            "gridcolor": "white",
            "linecolor": "white",
            "ticks": ""
           }
          },
          "title": {
           "x": 0.05
          },
          "xaxis": {
           "automargin": true,
           "gridcolor": "white",
           "linecolor": "white",
           "ticks": "",
           "title": {
            "standoff": 15
           },
           "zerolinecolor": "white",
           "zerolinewidth": 2
          },
          "yaxis": {
           "automargin": true,
           "gridcolor": "white",
           "linecolor": "white",
           "ticks": "",
           "title": {
            "standoff": 15
           },
           "zerolinecolor": "white",
           "zerolinewidth": 2
          }
         }
        },
        "width": 900
       }
      },
      "text/html": [
       "<div>                            <div id=\"e68fadc5-5c41-4da1-96f8-9c69685d0bc4\" class=\"plotly-graph-div\" style=\"height:300px; width:900px;\"></div>            <script type=\"text/javascript\">                require([\"plotly\"], function(Plotly) {                    window.PLOTLYENV=window.PLOTLYENV || {};                                    if (document.getElementById(\"e68fadc5-5c41-4da1-96f8-9c69685d0bc4\")) {                    Plotly.newPlot(                        \"e68fadc5-5c41-4da1-96f8-9c69685d0bc4\",                        [{\"cells\":{\"fill\":{\"color\":[\"#ccffcc\",\"#ccffcc\",\"#ccffcc\",\"#e6ffb3\",\"#ffcccc\"]},\"values\":[\"<b>70</b>\",49,72,67,61]},\"columnwidth\":[100,100],\"header\":{\"values\":[\"<b>Your CV Coverage [%]</b>\",\"Data Scientist<br>Top 10% [%]\",\"Data Scientist <br>Top 25% [%]\",\"Data Scientist<br>Top 50% [%]\",\"Data Scientist<br>Average [%]\"]},\"type\":\"table\"}],                        {\"height\":300,\"margin\":{\"b\":0,\"l\":10,\"r\":10,\"t\":0},\"template\":{\"data\":{\"bar\":[{\"error_x\":{\"color\":\"#2a3f5f\"},\"error_y\":{\"color\":\"#2a3f5f\"},\"marker\":{\"line\":{\"color\":\"#E5ECF6\",\"width\":0.5},\"pattern\":{\"fillmode\":\"overlay\",\"size\":10,\"solidity\":0.2}},\"type\":\"bar\"}],\"barpolar\":[{\"marker\":{\"line\":{\"color\":\"#E5ECF6\",\"width\":0.5},\"pattern\":{\"fillmode\":\"overlay\",\"size\":10,\"solidity\":0.2}},\"type\":\"barpolar\"}],\"carpet\":[{\"aaxis\":{\"endlinecolor\":\"#2a3f5f\",\"gridcolor\":\"white\",\"linecolor\":\"white\",\"minorgridcolor\":\"white\",\"startlinecolor\":\"#2a3f5f\"},\"baxis\":{\"endlinecolor\":\"#2a3f5f\",\"gridcolor\":\"white\",\"linecolor\":\"white\",\"minorgridcolor\":\"white\",\"startlinecolor\":\"#2a3f5f\"},\"type\":\"carpet\"}],\"choropleth\":[{\"colorbar\":{\"outlinewidth\":0,\"ticks\":\"\"},\"type\":\"choropleth\"}],\"contour\":[{\"colorbar\":{\"outlinewidth\":0,\"ticks\":\"\"},\"colorscale\":[[0.0,\"#0d0887\"],[0.1111111111111111,\"#46039f\"],[0.2222222222222222,\"#7201a8\"],[0.3333333333333333,\"#9c179e\"],[0.4444444444444444,\"#bd3786\"],[0.5555555555555556,\"#d8576b\"],[0.6666666666666666,\"#ed7953\"],[0.7777777777777778,\"#fb9f3a\"],[0.8888888888888888,\"#fdca26\"],[1.0,\"#f0f921\"]],\"type\":\"contour\"}],\"contourcarpet\":[{\"colorbar\":{\"outlinewidth\":0,\"ticks\":\"\"},\"type\":\"contourcarpet\"}],\"heatmap\":[{\"colorbar\":{\"outlinewidth\":0,\"ticks\":\"\"},\"colorscale\":[[0.0,\"#0d0887\"],[0.1111111111111111,\"#46039f\"],[0.2222222222222222,\"#7201a8\"],[0.3333333333333333,\"#9c179e\"],[0.4444444444444444,\"#bd3786\"],[0.5555555555555556,\"#d8576b\"],[0.6666666666666666,\"#ed7953\"],[0.7777777777777778,\"#fb9f3a\"],[0.8888888888888888,\"#fdca26\"],[1.0,\"#f0f921\"]],\"type\":\"heatmap\"}],\"heatmapgl\":[{\"colorbar\":{\"outlinewidth\":0,\"ticks\":\"\"},\"colorscale\":[[0.0,\"#0d0887\"],[0.1111111111111111,\"#46039f\"],[0.2222222222222222,\"#7201a8\"],[0.3333333333333333,\"#9c179e\"],[0.4444444444444444,\"#bd3786\"],[0.5555555555555556,\"#d8576b\"],[0.6666666666666666,\"#ed7953\"],[0.7777777777777778,\"#fb9f3a\"],[0.8888888888888888,\"#fdca26\"],[1.0,\"#f0f921\"]],\"type\":\"heatmapgl\"}],\"histogram\":[{\"marker\":{\"pattern\":{\"fillmode\":\"overlay\",\"size\":10,\"solidity\":0.2}},\"type\":\"histogram\"}],\"histogram2d\":[{\"colorbar\":{\"outlinewidth\":0,\"ticks\":\"\"},\"colorscale\":[[0.0,\"#0d0887\"],[0.1111111111111111,\"#46039f\"],[0.2222222222222222,\"#7201a8\"],[0.3333333333333333,\"#9c179e\"],[0.4444444444444444,\"#bd3786\"],[0.5555555555555556,\"#d8576b\"],[0.6666666666666666,\"#ed7953\"],[0.7777777777777778,\"#fb9f3a\"],[0.8888888888888888,\"#fdca26\"],[1.0,\"#f0f921\"]],\"type\":\"histogram2d\"}],\"histogram2dcontour\":[{\"colorbar\":{\"outlinewidth\":0,\"ticks\":\"\"},\"colorscale\":[[0.0,\"#0d0887\"],[0.1111111111111111,\"#46039f\"],[0.2222222222222222,\"#7201a8\"],[0.3333333333333333,\"#9c179e\"],[0.4444444444444444,\"#bd3786\"],[0.5555555555555556,\"#d8576b\"],[0.6666666666666666,\"#ed7953\"],[0.7777777777777778,\"#fb9f3a\"],[0.8888888888888888,\"#fdca26\"],[1.0,\"#f0f921\"]],\"type\":\"histogram2dcontour\"}],\"mesh3d\":[{\"colorbar\":{\"outlinewidth\":0,\"ticks\":\"\"},\"type\":\"mesh3d\"}],\"parcoords\":[{\"line\":{\"colorbar\":{\"outlinewidth\":0,\"ticks\":\"\"}},\"type\":\"parcoords\"}],\"pie\":[{\"automargin\":true,\"type\":\"pie\"}],\"scatter\":[{\"marker\":{\"colorbar\":{\"outlinewidth\":0,\"ticks\":\"\"}},\"type\":\"scatter\"}],\"scatter3d\":[{\"line\":{\"colorbar\":{\"outlinewidth\":0,\"ticks\":\"\"}},\"marker\":{\"colorbar\":{\"outlinewidth\":0,\"ticks\":\"\"}},\"type\":\"scatter3d\"}],\"scattercarpet\":[{\"marker\":{\"colorbar\":{\"outlinewidth\":0,\"ticks\":\"\"}},\"type\":\"scattercarpet\"}],\"scattergeo\":[{\"marker\":{\"colorbar\":{\"outlinewidth\":0,\"ticks\":\"\"}},\"type\":\"scattergeo\"}],\"scattergl\":[{\"marker\":{\"colorbar\":{\"outlinewidth\":0,\"ticks\":\"\"}},\"type\":\"scattergl\"}],\"scattermapbox\":[{\"marker\":{\"colorbar\":{\"outlinewidth\":0,\"ticks\":\"\"}},\"type\":\"scattermapbox\"}],\"scatterpolar\":[{\"marker\":{\"colorbar\":{\"outlinewidth\":0,\"ticks\":\"\"}},\"type\":\"scatterpolar\"}],\"scatterpolargl\":[{\"marker\":{\"colorbar\":{\"outlinewidth\":0,\"ticks\":\"\"}},\"type\":\"scatterpolargl\"}],\"scatterternary\":[{\"marker\":{\"colorbar\":{\"outlinewidth\":0,\"ticks\":\"\"}},\"type\":\"scatterternary\"}],\"surface\":[{\"colorbar\":{\"outlinewidth\":0,\"ticks\":\"\"},\"colorscale\":[[0.0,\"#0d0887\"],[0.1111111111111111,\"#46039f\"],[0.2222222222222222,\"#7201a8\"],[0.3333333333333333,\"#9c179e\"],[0.4444444444444444,\"#bd3786\"],[0.5555555555555556,\"#d8576b\"],[0.6666666666666666,\"#ed7953\"],[0.7777777777777778,\"#fb9f3a\"],[0.8888888888888888,\"#fdca26\"],[1.0,\"#f0f921\"]],\"type\":\"surface\"}],\"table\":[{\"cells\":{\"fill\":{\"color\":\"#EBF0F8\"},\"line\":{\"color\":\"white\"}},\"header\":{\"fill\":{\"color\":\"#C8D4E3\"},\"line\":{\"color\":\"white\"}},\"type\":\"table\"}]},\"layout\":{\"annotationdefaults\":{\"arrowcolor\":\"#2a3f5f\",\"arrowhead\":0,\"arrowwidth\":1},\"autotypenumbers\":\"strict\",\"coloraxis\":{\"colorbar\":{\"outlinewidth\":0,\"ticks\":\"\"}},\"colorscale\":{\"diverging\":[[0,\"#8e0152\"],[0.1,\"#c51b7d\"],[0.2,\"#de77ae\"],[0.3,\"#f1b6da\"],[0.4,\"#fde0ef\"],[0.5,\"#f7f7f7\"],[0.6,\"#e6f5d0\"],[0.7,\"#b8e186\"],[0.8,\"#7fbc41\"],[0.9,\"#4d9221\"],[1,\"#276419\"]],\"sequential\":[[0.0,\"#0d0887\"],[0.1111111111111111,\"#46039f\"],[0.2222222222222222,\"#7201a8\"],[0.3333333333333333,\"#9c179e\"],[0.4444444444444444,\"#bd3786\"],[0.5555555555555556,\"#d8576b\"],[0.6666666666666666,\"#ed7953\"],[0.7777777777777778,\"#fb9f3a\"],[0.8888888888888888,\"#fdca26\"],[1.0,\"#f0f921\"]],\"sequentialminus\":[[0.0,\"#0d0887\"],[0.1111111111111111,\"#46039f\"],[0.2222222222222222,\"#7201a8\"],[0.3333333333333333,\"#9c179e\"],[0.4444444444444444,\"#bd3786\"],[0.5555555555555556,\"#d8576b\"],[0.6666666666666666,\"#ed7953\"],[0.7777777777777778,\"#fb9f3a\"],[0.8888888888888888,\"#fdca26\"],[1.0,\"#f0f921\"]]},\"colorway\":[\"#636efa\",\"#EF553B\",\"#00cc96\",\"#ab63fa\",\"#FFA15A\",\"#19d3f3\",\"#FF6692\",\"#B6E880\",\"#FF97FF\",\"#FECB52\"],\"font\":{\"color\":\"#2a3f5f\"},\"geo\":{\"bgcolor\":\"white\",\"lakecolor\":\"white\",\"landcolor\":\"#E5ECF6\",\"showlakes\":true,\"showland\":true,\"subunitcolor\":\"white\"},\"hoverlabel\":{\"align\":\"left\"},\"hovermode\":\"closest\",\"mapbox\":{\"style\":\"light\"},\"paper_bgcolor\":\"white\",\"plot_bgcolor\":\"#E5ECF6\",\"polar\":{\"angularaxis\":{\"gridcolor\":\"white\",\"linecolor\":\"white\",\"ticks\":\"\"},\"bgcolor\":\"#E5ECF6\",\"radialaxis\":{\"gridcolor\":\"white\",\"linecolor\":\"white\",\"ticks\":\"\"}},\"scene\":{\"xaxis\":{\"backgroundcolor\":\"#E5ECF6\",\"gridcolor\":\"white\",\"gridwidth\":2,\"linecolor\":\"white\",\"showbackground\":true,\"ticks\":\"\",\"zerolinecolor\":\"white\"},\"yaxis\":{\"backgroundcolor\":\"#E5ECF6\",\"gridcolor\":\"white\",\"gridwidth\":2,\"linecolor\":\"white\",\"showbackground\":true,\"ticks\":\"\",\"zerolinecolor\":\"white\"},\"zaxis\":{\"backgroundcolor\":\"#E5ECF6\",\"gridcolor\":\"white\",\"gridwidth\":2,\"linecolor\":\"white\",\"showbackground\":true,\"ticks\":\"\",\"zerolinecolor\":\"white\"}},\"shapedefaults\":{\"line\":{\"color\":\"#2a3f5f\"}},\"ternary\":{\"aaxis\":{\"gridcolor\":\"white\",\"linecolor\":\"white\",\"ticks\":\"\"},\"baxis\":{\"gridcolor\":\"white\",\"linecolor\":\"white\",\"ticks\":\"\"},\"bgcolor\":\"#E5ECF6\",\"caxis\":{\"gridcolor\":\"white\",\"linecolor\":\"white\",\"ticks\":\"\"}},\"title\":{\"x\":0.05},\"xaxis\":{\"automargin\":true,\"gridcolor\":\"white\",\"linecolor\":\"white\",\"ticks\":\"\",\"title\":{\"standoff\":15},\"zerolinecolor\":\"white\",\"zerolinewidth\":2},\"yaxis\":{\"automargin\":true,\"gridcolor\":\"white\",\"linecolor\":\"white\",\"ticks\":\"\",\"title\":{\"standoff\":15},\"zerolinecolor\":\"white\",\"zerolinewidth\":2}}},\"width\":900},                        {\"responsive\": true}                    ).then(function(){\n",
       "                            \n",
       "var gd = document.getElementById('e68fadc5-5c41-4da1-96f8-9c69685d0bc4');\n",
       "var x = new MutationObserver(function (mutations, observer) {{\n",
       "        var display = window.getComputedStyle(gd).display;\n",
       "        if (!display || display === 'none') {{\n",
       "            console.log([gd, 'removed!']);\n",
       "            Plotly.purge(gd);\n",
       "            observer.disconnect();\n",
       "        }}\n",
       "}});\n",
       "\n",
       "// Listen for the removal of the full notebook cells\n",
       "var notebookContainer = gd.closest('#notebook-container');\n",
       "if (notebookContainer) {{\n",
       "    x.observe(notebookContainer, {childList: true});\n",
       "}}\n",
       "\n",
       "// Listen for the clearing of the current output cell\n",
       "var outputEl = gd.closest('.output');\n",
       "if (outputEl) {{\n",
       "    x.observe(outputEl, {childList: true});\n",
       "}}\n",
       "\n",
       "                        })                };                });            </script>        </div>"
      ]
     },
     "metadata": {},
     "output_type": "display_data"
    }
   ],
   "source": [
    "def get_overview(score):\n",
    "    \n",
    "    fill_color = []\n",
    "    n = 5\n",
    "\n",
    "    vals = [round(score, 2),72,67,61,49]\n",
    "    \n",
    "    fill_color = []\n",
    "    for v in vals:\n",
    "        if v<=vals[4]:#less then average\n",
    "            fill_color.append('#ffcccc')\n",
    "        elif v<vals[3]:#less than top50\n",
    "            fill_color.append('#fff5e6')\n",
    "        elif v<vals[2]:#less than top25\n",
    "            fill_color.append('#e6ffb3')\n",
    "        else:\n",
    "            fill_color.append('#ccffcc')\n",
    "        \n",
    "    vals = ['<b>'+str(round(score, 2))+'</b>',49,72,67,61]    \n",
    "    \n",
    "    \n",
    "    fig = go.Figure(data=[go.Table(\n",
    "        columnwidth = [100,100],\n",
    "        header=dict(values=['<b>Your CV Coverage [%]</b>','Data Scientist<br>Top 10% [%]','Data Scientist <br>Top 25% [%]', 'Data Scientist<br>Top 50% [%]','Data Scientist<br>Average [%]']),\n",
    "        cells=dict(values=vals, fill_color = fill_color)\n",
    "    )])\n",
    "    \n",
    "    \n",
    "    fig.update_layout(height = 1*300, width = 3*300,margin=go.layout.Margin(l=10, r=10,b=0, t=0 )\n",
    "    )\n",
    "    \n",
    "    return(fig)\n",
    "get_overview(70)"
   ]
  },
  {
   "cell_type": "code",
   "execution_count": 166,
   "metadata": {},
   "outputs": [
    {
     "data": {
      "application/vnd.plotly.v1+json": {
       "config": {
        "plotlyServerURL": "https://plot.ly"
       },
       "data": [
        {
         "alignmentgroup": "True",
         "hovertemplate": "color=#ffcccc<br>x=%{x}<br>y=%{y}<extra></extra>",
         "legendgroup": "#ffcccc",
         "marker": {
          "color": "#ffcccc",
          "pattern": {
           "shape": ""
          }
         },
         "name": "#ffcccc",
         "offsetgroup": "#ffcccc",
         "orientation": "h",
         "showlegend": true,
         "textposition": "auto",
         "type": "bar",
         "x": [
          49
         ],
         "xaxis": "x",
         "y": [
          1
         ],
         "yaxis": "y"
        },
        {
         "alignmentgroup": "True",
         "hovertemplate": "color=#fff5e6<br>x=%{x}<br>y=%{y}<extra></extra>",
         "legendgroup": "#fff5e6",
         "marker": {
          "color": "#fff5e6",
          "pattern": {
           "shape": ""
          }
         },
         "name": "#fff5e6",
         "offsetgroup": "#fff5e6",
         "orientation": "h",
         "showlegend": true,
         "textposition": "auto",
         "type": "bar",
         "x": [
          12
         ],
         "xaxis": "x",
         "y": [
          1
         ],
         "yaxis": "y"
        },
        {
         "alignmentgroup": "True",
         "hovertemplate": "color=#e6ffb3<br>x=%{x}<br>y=%{y}<extra></extra>",
         "legendgroup": "#e6ffb3",
         "marker": {
          "color": "#e6ffb3",
          "pattern": {
           "shape": ""
          }
         },
         "name": "#e6ffb3",
         "offsetgroup": "#e6ffb3",
         "orientation": "h",
         "showlegend": true,
         "textposition": "auto",
         "type": "bar",
         "x": [
          6
         ],
         "xaxis": "x",
         "y": [
          1
         ],
         "yaxis": "y"
        },
        {
         "alignmentgroup": "True",
         "hovertemplate": "color=#ccffcc<br>x=%{x}<br>y=%{y}<extra></extra>",
         "legendgroup": "#ccffcc",
         "marker": {
          "color": "#ccffcc",
          "pattern": {
           "shape": ""
          }
         },
         "name": "#ccffcc",
         "offsetgroup": "#ccffcc",
         "orientation": "h",
         "showlegend": true,
         "textposition": "auto",
         "type": "bar",
         "x": [
          33
         ],
         "xaxis": "x",
         "y": [
          1
         ],
         "yaxis": "y"
        }
       ],
       "layout": {
        "annotations": [
         {
          "showarrow": false,
          "text": "Your Score 30",
          "x": 30,
          "y": -0.1
         },
         {
          "showarrow": false,
          "text": "────────────",
          "textangle": -90,
          "x": 30,
          "y": 1
         },
         {
          "arrowhead": 1,
          "font": {
           "size": 25
          },
          "showarrow": true,
          "text": "49",
          "x": 49,
          "yshift": 0
         },
         {
          "arrowhead": 1,
          "font": {
           "size": 25
          },
          "showarrow": true,
          "text": "61",
          "x": 61,
          "yshift": 0
         },
         {
          "arrowhead": 1,
          "font": {
           "size": 25
          },
          "showarrow": true,
          "text": "67",
          "x": 67,
          "yshift": 0
         },
         {
          "showarrow": false,
          "text": "Needs Improvement",
          "x": 49,
          "xshift": -100,
          "y": 1
         },
         {
          "showarrow": false,
          "text": "Fair",
          "x": 61,
          "xshift": -80,
          "y": 1
         },
         {
          "showarrow": false,
          "text": "Good",
          "x": 67,
          "xshift": -30,
          "y": 1
         },
         {
          "showarrow": false,
          "text": "Excellent",
          "x": 67,
          "xshift": 50,
          "y": 1
         }
        ],
        "barmode": "stack",
        "height": 200,
        "legend": {
         "title": {
          "text": "color"
         },
         "tracegroupgap": 0
        },
        "margin": {
         "b": 0,
         "l": 0,
         "r": 0,
         "t": 0
        },
        "paper_bgcolor": "rgba(0,0,0,0)",
        "plot_bgcolor": "rgba(0,0,0,0)",
        "showlegend": false,
        "template": {
         "data": {
          "bar": [
           {
            "error_x": {
             "color": "#2a3f5f"
            },
            "error_y": {
             "color": "#2a3f5f"
            },
            "marker": {
             "line": {
              "color": "#E5ECF6",
              "width": 0.5
             },
             "pattern": {
              "fillmode": "overlay",
              "size": 10,
              "solidity": 0.2
             }
            },
            "type": "bar"
           }
          ],
          "barpolar": [
           {
            "marker": {
             "line": {
              "color": "#E5ECF6",
              "width": 0.5
             },
             "pattern": {
              "fillmode": "overlay",
              "size": 10,
              "solidity": 0.2
             }
            },
            "type": "barpolar"
           }
          ],
          "carpet": [
           {
            "aaxis": {
             "endlinecolor": "#2a3f5f",
             "gridcolor": "white",
             "linecolor": "white",
             "minorgridcolor": "white",
             "startlinecolor": "#2a3f5f"
            },
            "baxis": {
             "endlinecolor": "#2a3f5f",
             "gridcolor": "white",
             "linecolor": "white",
             "minorgridcolor": "white",
             "startlinecolor": "#2a3f5f"
            },
            "type": "carpet"
           }
          ],
          "choropleth": [
           {
            "colorbar": {
             "outlinewidth": 0,
             "ticks": ""
            },
            "type": "choropleth"
           }
          ],
          "contour": [
           {
            "colorbar": {
             "outlinewidth": 0,
             "ticks": ""
            },
            "colorscale": [
             [
              0,
              "#0d0887"
             ],
             [
              0.1111111111111111,
              "#46039f"
             ],
             [
              0.2222222222222222,
              "#7201a8"
             ],
             [
              0.3333333333333333,
              "#9c179e"
             ],
             [
              0.4444444444444444,
              "#bd3786"
             ],
             [
              0.5555555555555556,
              "#d8576b"
             ],
             [
              0.6666666666666666,
              "#ed7953"
             ],
             [
              0.7777777777777778,
              "#fb9f3a"
             ],
             [
              0.8888888888888888,
              "#fdca26"
             ],
             [
              1,
              "#f0f921"
             ]
            ],
            "type": "contour"
           }
          ],
          "contourcarpet": [
           {
            "colorbar": {
             "outlinewidth": 0,
             "ticks": ""
            },
            "type": "contourcarpet"
           }
          ],
          "heatmap": [
           {
            "colorbar": {
             "outlinewidth": 0,
             "ticks": ""
            },
            "colorscale": [
             [
              0,
              "#0d0887"
             ],
             [
              0.1111111111111111,
              "#46039f"
             ],
             [
              0.2222222222222222,
              "#7201a8"
             ],
             [
              0.3333333333333333,
              "#9c179e"
             ],
             [
              0.4444444444444444,
              "#bd3786"
             ],
             [
              0.5555555555555556,
              "#d8576b"
             ],
             [
              0.6666666666666666,
              "#ed7953"
             ],
             [
              0.7777777777777778,
              "#fb9f3a"
             ],
             [
              0.8888888888888888,
              "#fdca26"
             ],
             [
              1,
              "#f0f921"
             ]
            ],
            "type": "heatmap"
           }
          ],
          "heatmapgl": [
           {
            "colorbar": {
             "outlinewidth": 0,
             "ticks": ""
            },
            "colorscale": [
             [
              0,
              "#0d0887"
             ],
             [
              0.1111111111111111,
              "#46039f"
             ],
             [
              0.2222222222222222,
              "#7201a8"
             ],
             [
              0.3333333333333333,
              "#9c179e"
             ],
             [
              0.4444444444444444,
              "#bd3786"
             ],
             [
              0.5555555555555556,
              "#d8576b"
             ],
             [
              0.6666666666666666,
              "#ed7953"
             ],
             [
              0.7777777777777778,
              "#fb9f3a"
             ],
             [
              0.8888888888888888,
              "#fdca26"
             ],
             [
              1,
              "#f0f921"
             ]
            ],
            "type": "heatmapgl"
           }
          ],
          "histogram": [
           {
            "marker": {
             "pattern": {
              "fillmode": "overlay",
              "size": 10,
              "solidity": 0.2
             }
            },
            "type": "histogram"
           }
          ],
          "histogram2d": [
           {
            "colorbar": {
             "outlinewidth": 0,
             "ticks": ""
            },
            "colorscale": [
             [
              0,
              "#0d0887"
             ],
             [
              0.1111111111111111,
              "#46039f"
             ],
             [
              0.2222222222222222,
              "#7201a8"
             ],
             [
              0.3333333333333333,
              "#9c179e"
             ],
             [
              0.4444444444444444,
              "#bd3786"
             ],
             [
              0.5555555555555556,
              "#d8576b"
             ],
             [
              0.6666666666666666,
              "#ed7953"
             ],
             [
              0.7777777777777778,
              "#fb9f3a"
             ],
             [
              0.8888888888888888,
              "#fdca26"
             ],
             [
              1,
              "#f0f921"
             ]
            ],
            "type": "histogram2d"
           }
          ],
          "histogram2dcontour": [
           {
            "colorbar": {
             "outlinewidth": 0,
             "ticks": ""
            },
            "colorscale": [
             [
              0,
              "#0d0887"
             ],
             [
              0.1111111111111111,
              "#46039f"
             ],
             [
              0.2222222222222222,
              "#7201a8"
             ],
             [
              0.3333333333333333,
              "#9c179e"
             ],
             [
              0.4444444444444444,
              "#bd3786"
             ],
             [
              0.5555555555555556,
              "#d8576b"
             ],
             [
              0.6666666666666666,
              "#ed7953"
             ],
             [
              0.7777777777777778,
              "#fb9f3a"
             ],
             [
              0.8888888888888888,
              "#fdca26"
             ],
             [
              1,
              "#f0f921"
             ]
            ],
            "type": "histogram2dcontour"
           }
          ],
          "mesh3d": [
           {
            "colorbar": {
             "outlinewidth": 0,
             "ticks": ""
            },
            "type": "mesh3d"
           }
          ],
          "parcoords": [
           {
            "line": {
             "colorbar": {
              "outlinewidth": 0,
              "ticks": ""
             }
            },
            "type": "parcoords"
           }
          ],
          "pie": [
           {
            "automargin": true,
            "type": "pie"
           }
          ],
          "scatter": [
           {
            "marker": {
             "colorbar": {
              "outlinewidth": 0,
              "ticks": ""
             }
            },
            "type": "scatter"
           }
          ],
          "scatter3d": [
           {
            "line": {
             "colorbar": {
              "outlinewidth": 0,
              "ticks": ""
             }
            },
            "marker": {
             "colorbar": {
              "outlinewidth": 0,
              "ticks": ""
             }
            },
            "type": "scatter3d"
           }
          ],
          "scattercarpet": [
           {
            "marker": {
             "colorbar": {
              "outlinewidth": 0,
              "ticks": ""
             }
            },
            "type": "scattercarpet"
           }
          ],
          "scattergeo": [
           {
            "marker": {
             "colorbar": {
              "outlinewidth": 0,
              "ticks": ""
             }
            },
            "type": "scattergeo"
           }
          ],
          "scattergl": [
           {
            "marker": {
             "colorbar": {
              "outlinewidth": 0,
              "ticks": ""
             }
            },
            "type": "scattergl"
           }
          ],
          "scattermapbox": [
           {
            "marker": {
             "colorbar": {
              "outlinewidth": 0,
              "ticks": ""
             }
            },
            "type": "scattermapbox"
           }
          ],
          "scatterpolar": [
           {
            "marker": {
             "colorbar": {
              "outlinewidth": 0,
              "ticks": ""
             }
            },
            "type": "scatterpolar"
           }
          ],
          "scatterpolargl": [
           {
            "marker": {
             "colorbar": {
              "outlinewidth": 0,
              "ticks": ""
             }
            },
            "type": "scatterpolargl"
           }
          ],
          "scatterternary": [
           {
            "marker": {
             "colorbar": {
              "outlinewidth": 0,
              "ticks": ""
             }
            },
            "type": "scatterternary"
           }
          ],
          "surface": [
           {
            "colorbar": {
             "outlinewidth": 0,
             "ticks": ""
            },
            "colorscale": [
             [
              0,
              "#0d0887"
             ],
             [
              0.1111111111111111,
              "#46039f"
             ],
             [
              0.2222222222222222,
              "#7201a8"
             ],
             [
              0.3333333333333333,
              "#9c179e"
             ],
             [
              0.4444444444444444,
              "#bd3786"
             ],
             [
              0.5555555555555556,
              "#d8576b"
             ],
             [
              0.6666666666666666,
              "#ed7953"
             ],
             [
              0.7777777777777778,
              "#fb9f3a"
             ],
             [
              0.8888888888888888,
              "#fdca26"
             ],
             [
              1,
              "#f0f921"
             ]
            ],
            "type": "surface"
           }
          ],
          "table": [
           {
            "cells": {
             "fill": {
              "color": "#EBF0F8"
             },
             "line": {
              "color": "white"
             }
            },
            "header": {
             "fill": {
              "color": "#C8D4E3"
             },
             "line": {
              "color": "white"
             }
            },
            "type": "table"
           }
          ]
         },
         "layout": {
          "annotationdefaults": {
           "arrowcolor": "#2a3f5f",
           "arrowhead": 0,
           "arrowwidth": 1
          },
          "autotypenumbers": "strict",
          "coloraxis": {
           "colorbar": {
            "outlinewidth": 0,
            "ticks": ""
           }
          },
          "colorscale": {
           "diverging": [
            [
             0,
             "#8e0152"
            ],
            [
             0.1,
             "#c51b7d"
            ],
            [
             0.2,
             "#de77ae"
            ],
            [
             0.3,
             "#f1b6da"
            ],
            [
             0.4,
             "#fde0ef"
            ],
            [
             0.5,
             "#f7f7f7"
            ],
            [
             0.6,
             "#e6f5d0"
            ],
            [
             0.7,
             "#b8e186"
            ],
            [
             0.8,
             "#7fbc41"
            ],
            [
             0.9,
             "#4d9221"
            ],
            [
             1,
             "#276419"
            ]
           ],
           "sequential": [
            [
             0,
             "#0d0887"
            ],
            [
             0.1111111111111111,
             "#46039f"
            ],
            [
             0.2222222222222222,
             "#7201a8"
            ],
            [
             0.3333333333333333,
             "#9c179e"
            ],
            [
             0.4444444444444444,
             "#bd3786"
            ],
            [
             0.5555555555555556,
             "#d8576b"
            ],
            [
             0.6666666666666666,
             "#ed7953"
            ],
            [
             0.7777777777777778,
             "#fb9f3a"
            ],
            [
             0.8888888888888888,
             "#fdca26"
            ],
            [
             1,
             "#f0f921"
            ]
           ],
           "sequentialminus": [
            [
             0,
             "#0d0887"
            ],
            [
             0.1111111111111111,
             "#46039f"
            ],
            [
             0.2222222222222222,
             "#7201a8"
            ],
            [
             0.3333333333333333,
             "#9c179e"
            ],
            [
             0.4444444444444444,
             "#bd3786"
            ],
            [
             0.5555555555555556,
             "#d8576b"
            ],
            [
             0.6666666666666666,
             "#ed7953"
            ],
            [
             0.7777777777777778,
             "#fb9f3a"
            ],
            [
             0.8888888888888888,
             "#fdca26"
            ],
            [
             1,
             "#f0f921"
            ]
           ]
          },
          "colorway": [
           "#636efa",
           "#EF553B",
           "#00cc96",
           "#ab63fa",
           "#FFA15A",
           "#19d3f3",
           "#FF6692",
           "#B6E880",
           "#FF97FF",
           "#FECB52"
          ],
          "font": {
           "color": "#2a3f5f"
          },
          "geo": {
           "bgcolor": "white",
           "lakecolor": "white",
           "landcolor": "#E5ECF6",
           "showlakes": true,
           "showland": true,
           "subunitcolor": "white"
          },
          "hoverlabel": {
           "align": "left"
          },
          "hovermode": "closest",
          "mapbox": {
           "style": "light"
          },
          "paper_bgcolor": "white",
          "plot_bgcolor": "#E5ECF6",
          "polar": {
           "angularaxis": {
            "gridcolor": "white",
            "linecolor": "white",
            "ticks": ""
           },
           "bgcolor": "#E5ECF6",
           "radialaxis": {
            "gridcolor": "white",
            "linecolor": "white",
            "ticks": ""
           }
          },
          "scene": {
           "xaxis": {
            "backgroundcolor": "#E5ECF6",
            "gridcolor": "white",
            "gridwidth": 2,
            "linecolor": "white",
            "showbackground": true,
            "ticks": "",
            "zerolinecolor": "white"
           },
           "yaxis": {
            "backgroundcolor": "#E5ECF6",
            "gridcolor": "white",
            "gridwidth": 2,
            "linecolor": "white",
            "showbackground": true,
            "ticks": "",
            "zerolinecolor": "white"
           },
           "zaxis": {
            "backgroundcolor": "#E5ECF6",
            "gridcolor": "white",
            "gridwidth": 2,
            "linecolor": "white",
            "showbackground": true,
            "ticks": "",
            "zerolinecolor": "white"
           }
          },
          "shapedefaults": {
           "line": {
            "color": "#2a3f5f"
           }
          },
          "ternary": {
           "aaxis": {
            "gridcolor": "white",
            "linecolor": "white",
            "ticks": ""
           },
           "baxis": {
            "gridcolor": "white",
            "linecolor": "white",
            "ticks": ""
           },
           "bgcolor": "#E5ECF6",
           "caxis": {
            "gridcolor": "white",
            "linecolor": "white",
            "ticks": ""
           }
          },
          "title": {
           "x": 0.05
          },
          "xaxis": {
           "automargin": true,
           "gridcolor": "white",
           "linecolor": "white",
           "ticks": "",
           "title": {
            "standoff": 15
           },
           "zerolinecolor": "white",
           "zerolinewidth": 2
          },
          "yaxis": {
           "automargin": true,
           "gridcolor": "white",
           "linecolor": "white",
           "ticks": "",
           "title": {
            "standoff": 15
           },
           "zerolinecolor": "white",
           "zerolinewidth": 2
          }
         }
        },
        "xaxis": {
         "anchor": "y",
         "domain": [
          0,
          1
         ],
         "showticklabels": false,
         "title": {
          "text": ""
         },
         "visible": false
        },
        "yaxis": {
         "anchor": "x",
         "domain": [
          0,
          1
         ],
         "showticklabels": false,
         "title": {
          "text": ""
         },
         "visible": false
        }
       }
      },
      "text/html": [
       "<div>                            <div id=\"9bed7a92-569a-40d8-8a5d-4ff39141313a\" class=\"plotly-graph-div\" style=\"height:200px; width:100%;\"></div>            <script type=\"text/javascript\">                require([\"plotly\"], function(Plotly) {                    window.PLOTLYENV=window.PLOTLYENV || {};                                    if (document.getElementById(\"9bed7a92-569a-40d8-8a5d-4ff39141313a\")) {                    Plotly.newPlot(                        \"9bed7a92-569a-40d8-8a5d-4ff39141313a\",                        [{\"alignmentgroup\":\"True\",\"hovertemplate\":\"color=#ffcccc<br>x=%{x}<br>y=%{y}<extra></extra>\",\"legendgroup\":\"#ffcccc\",\"marker\":{\"color\":\"#ffcccc\",\"pattern\":{\"shape\":\"\"}},\"name\":\"#ffcccc\",\"offsetgroup\":\"#ffcccc\",\"orientation\":\"h\",\"showlegend\":true,\"textposition\":\"auto\",\"type\":\"bar\",\"x\":[49],\"xaxis\":\"x\",\"y\":[1],\"yaxis\":\"y\"},{\"alignmentgroup\":\"True\",\"hovertemplate\":\"color=#fff5e6<br>x=%{x}<br>y=%{y}<extra></extra>\",\"legendgroup\":\"#fff5e6\",\"marker\":{\"color\":\"#fff5e6\",\"pattern\":{\"shape\":\"\"}},\"name\":\"#fff5e6\",\"offsetgroup\":\"#fff5e6\",\"orientation\":\"h\",\"showlegend\":true,\"textposition\":\"auto\",\"type\":\"bar\",\"x\":[12],\"xaxis\":\"x\",\"y\":[1],\"yaxis\":\"y\"},{\"alignmentgroup\":\"True\",\"hovertemplate\":\"color=#e6ffb3<br>x=%{x}<br>y=%{y}<extra></extra>\",\"legendgroup\":\"#e6ffb3\",\"marker\":{\"color\":\"#e6ffb3\",\"pattern\":{\"shape\":\"\"}},\"name\":\"#e6ffb3\",\"offsetgroup\":\"#e6ffb3\",\"orientation\":\"h\",\"showlegend\":true,\"textposition\":\"auto\",\"type\":\"bar\",\"x\":[6],\"xaxis\":\"x\",\"y\":[1],\"yaxis\":\"y\"},{\"alignmentgroup\":\"True\",\"hovertemplate\":\"color=#ccffcc<br>x=%{x}<br>y=%{y}<extra></extra>\",\"legendgroup\":\"#ccffcc\",\"marker\":{\"color\":\"#ccffcc\",\"pattern\":{\"shape\":\"\"}},\"name\":\"#ccffcc\",\"offsetgroup\":\"#ccffcc\",\"orientation\":\"h\",\"showlegend\":true,\"textposition\":\"auto\",\"type\":\"bar\",\"x\":[33],\"xaxis\":\"x\",\"y\":[1],\"yaxis\":\"y\"}],                        {\"annotations\":[{\"showarrow\":false,\"text\":\"Your Score 30\",\"x\":30,\"y\":-0.1},{\"showarrow\":false,\"text\":\"\\u2500\\u2500\\u2500\\u2500\\u2500\\u2500\\u2500\\u2500\\u2500\\u2500\\u2500\\u2500\",\"textangle\":-90,\"x\":30,\"y\":1},{\"arrowhead\":1,\"font\":{\"size\":25},\"showarrow\":true,\"text\":\"49\",\"x\":49,\"yshift\":0},{\"arrowhead\":1,\"font\":{\"size\":25},\"showarrow\":true,\"text\":\"61\",\"x\":61,\"yshift\":0},{\"arrowhead\":1,\"font\":{\"size\":25},\"showarrow\":true,\"text\":\"67\",\"x\":67,\"yshift\":0},{\"showarrow\":false,\"text\":\"Needs Improvement\",\"x\":49,\"xshift\":-100,\"y\":1},{\"showarrow\":false,\"text\":\"Fair\",\"x\":61,\"xshift\":-80,\"y\":1},{\"showarrow\":false,\"text\":\"Good\",\"x\":67,\"xshift\":-30,\"y\":1},{\"showarrow\":false,\"text\":\"Excellent\",\"x\":67,\"xshift\":50,\"y\":1}],\"barmode\":\"stack\",\"height\":200,\"legend\":{\"title\":{\"text\":\"color\"},\"tracegroupgap\":0},\"margin\":{\"b\":0,\"l\":0,\"r\":0,\"t\":0},\"paper_bgcolor\":\"rgba(0,0,0,0)\",\"plot_bgcolor\":\"rgba(0,0,0,0)\",\"showlegend\":false,\"template\":{\"data\":{\"bar\":[{\"error_x\":{\"color\":\"#2a3f5f\"},\"error_y\":{\"color\":\"#2a3f5f\"},\"marker\":{\"line\":{\"color\":\"#E5ECF6\",\"width\":0.5},\"pattern\":{\"fillmode\":\"overlay\",\"size\":10,\"solidity\":0.2}},\"type\":\"bar\"}],\"barpolar\":[{\"marker\":{\"line\":{\"color\":\"#E5ECF6\",\"width\":0.5},\"pattern\":{\"fillmode\":\"overlay\",\"size\":10,\"solidity\":0.2}},\"type\":\"barpolar\"}],\"carpet\":[{\"aaxis\":{\"endlinecolor\":\"#2a3f5f\",\"gridcolor\":\"white\",\"linecolor\":\"white\",\"minorgridcolor\":\"white\",\"startlinecolor\":\"#2a3f5f\"},\"baxis\":{\"endlinecolor\":\"#2a3f5f\",\"gridcolor\":\"white\",\"linecolor\":\"white\",\"minorgridcolor\":\"white\",\"startlinecolor\":\"#2a3f5f\"},\"type\":\"carpet\"}],\"choropleth\":[{\"colorbar\":{\"outlinewidth\":0,\"ticks\":\"\"},\"type\":\"choropleth\"}],\"contour\":[{\"colorbar\":{\"outlinewidth\":0,\"ticks\":\"\"},\"colorscale\":[[0.0,\"#0d0887\"],[0.1111111111111111,\"#46039f\"],[0.2222222222222222,\"#7201a8\"],[0.3333333333333333,\"#9c179e\"],[0.4444444444444444,\"#bd3786\"],[0.5555555555555556,\"#d8576b\"],[0.6666666666666666,\"#ed7953\"],[0.7777777777777778,\"#fb9f3a\"],[0.8888888888888888,\"#fdca26\"],[1.0,\"#f0f921\"]],\"type\":\"contour\"}],\"contourcarpet\":[{\"colorbar\":{\"outlinewidth\":0,\"ticks\":\"\"},\"type\":\"contourcarpet\"}],\"heatmap\":[{\"colorbar\":{\"outlinewidth\":0,\"ticks\":\"\"},\"colorscale\":[[0.0,\"#0d0887\"],[0.1111111111111111,\"#46039f\"],[0.2222222222222222,\"#7201a8\"],[0.3333333333333333,\"#9c179e\"],[0.4444444444444444,\"#bd3786\"],[0.5555555555555556,\"#d8576b\"],[0.6666666666666666,\"#ed7953\"],[0.7777777777777778,\"#fb9f3a\"],[0.8888888888888888,\"#fdca26\"],[1.0,\"#f0f921\"]],\"type\":\"heatmap\"}],\"heatmapgl\":[{\"colorbar\":{\"outlinewidth\":0,\"ticks\":\"\"},\"colorscale\":[[0.0,\"#0d0887\"],[0.1111111111111111,\"#46039f\"],[0.2222222222222222,\"#7201a8\"],[0.3333333333333333,\"#9c179e\"],[0.4444444444444444,\"#bd3786\"],[0.5555555555555556,\"#d8576b\"],[0.6666666666666666,\"#ed7953\"],[0.7777777777777778,\"#fb9f3a\"],[0.8888888888888888,\"#fdca26\"],[1.0,\"#f0f921\"]],\"type\":\"heatmapgl\"}],\"histogram\":[{\"marker\":{\"pattern\":{\"fillmode\":\"overlay\",\"size\":10,\"solidity\":0.2}},\"type\":\"histogram\"}],\"histogram2d\":[{\"colorbar\":{\"outlinewidth\":0,\"ticks\":\"\"},\"colorscale\":[[0.0,\"#0d0887\"],[0.1111111111111111,\"#46039f\"],[0.2222222222222222,\"#7201a8\"],[0.3333333333333333,\"#9c179e\"],[0.4444444444444444,\"#bd3786\"],[0.5555555555555556,\"#d8576b\"],[0.6666666666666666,\"#ed7953\"],[0.7777777777777778,\"#fb9f3a\"],[0.8888888888888888,\"#fdca26\"],[1.0,\"#f0f921\"]],\"type\":\"histogram2d\"}],\"histogram2dcontour\":[{\"colorbar\":{\"outlinewidth\":0,\"ticks\":\"\"},\"colorscale\":[[0.0,\"#0d0887\"],[0.1111111111111111,\"#46039f\"],[0.2222222222222222,\"#7201a8\"],[0.3333333333333333,\"#9c179e\"],[0.4444444444444444,\"#bd3786\"],[0.5555555555555556,\"#d8576b\"],[0.6666666666666666,\"#ed7953\"],[0.7777777777777778,\"#fb9f3a\"],[0.8888888888888888,\"#fdca26\"],[1.0,\"#f0f921\"]],\"type\":\"histogram2dcontour\"}],\"mesh3d\":[{\"colorbar\":{\"outlinewidth\":0,\"ticks\":\"\"},\"type\":\"mesh3d\"}],\"parcoords\":[{\"line\":{\"colorbar\":{\"outlinewidth\":0,\"ticks\":\"\"}},\"type\":\"parcoords\"}],\"pie\":[{\"automargin\":true,\"type\":\"pie\"}],\"scatter\":[{\"marker\":{\"colorbar\":{\"outlinewidth\":0,\"ticks\":\"\"}},\"type\":\"scatter\"}],\"scatter3d\":[{\"line\":{\"colorbar\":{\"outlinewidth\":0,\"ticks\":\"\"}},\"marker\":{\"colorbar\":{\"outlinewidth\":0,\"ticks\":\"\"}},\"type\":\"scatter3d\"}],\"scattercarpet\":[{\"marker\":{\"colorbar\":{\"outlinewidth\":0,\"ticks\":\"\"}},\"type\":\"scattercarpet\"}],\"scattergeo\":[{\"marker\":{\"colorbar\":{\"outlinewidth\":0,\"ticks\":\"\"}},\"type\":\"scattergeo\"}],\"scattergl\":[{\"marker\":{\"colorbar\":{\"outlinewidth\":0,\"ticks\":\"\"}},\"type\":\"scattergl\"}],\"scattermapbox\":[{\"marker\":{\"colorbar\":{\"outlinewidth\":0,\"ticks\":\"\"}},\"type\":\"scattermapbox\"}],\"scatterpolar\":[{\"marker\":{\"colorbar\":{\"outlinewidth\":0,\"ticks\":\"\"}},\"type\":\"scatterpolar\"}],\"scatterpolargl\":[{\"marker\":{\"colorbar\":{\"outlinewidth\":0,\"ticks\":\"\"}},\"type\":\"scatterpolargl\"}],\"scatterternary\":[{\"marker\":{\"colorbar\":{\"outlinewidth\":0,\"ticks\":\"\"}},\"type\":\"scatterternary\"}],\"surface\":[{\"colorbar\":{\"outlinewidth\":0,\"ticks\":\"\"},\"colorscale\":[[0.0,\"#0d0887\"],[0.1111111111111111,\"#46039f\"],[0.2222222222222222,\"#7201a8\"],[0.3333333333333333,\"#9c179e\"],[0.4444444444444444,\"#bd3786\"],[0.5555555555555556,\"#d8576b\"],[0.6666666666666666,\"#ed7953\"],[0.7777777777777778,\"#fb9f3a\"],[0.8888888888888888,\"#fdca26\"],[1.0,\"#f0f921\"]],\"type\":\"surface\"}],\"table\":[{\"cells\":{\"fill\":{\"color\":\"#EBF0F8\"},\"line\":{\"color\":\"white\"}},\"header\":{\"fill\":{\"color\":\"#C8D4E3\"},\"line\":{\"color\":\"white\"}},\"type\":\"table\"}]},\"layout\":{\"annotationdefaults\":{\"arrowcolor\":\"#2a3f5f\",\"arrowhead\":0,\"arrowwidth\":1},\"autotypenumbers\":\"strict\",\"coloraxis\":{\"colorbar\":{\"outlinewidth\":0,\"ticks\":\"\"}},\"colorscale\":{\"diverging\":[[0,\"#8e0152\"],[0.1,\"#c51b7d\"],[0.2,\"#de77ae\"],[0.3,\"#f1b6da\"],[0.4,\"#fde0ef\"],[0.5,\"#f7f7f7\"],[0.6,\"#e6f5d0\"],[0.7,\"#b8e186\"],[0.8,\"#7fbc41\"],[0.9,\"#4d9221\"],[1,\"#276419\"]],\"sequential\":[[0.0,\"#0d0887\"],[0.1111111111111111,\"#46039f\"],[0.2222222222222222,\"#7201a8\"],[0.3333333333333333,\"#9c179e\"],[0.4444444444444444,\"#bd3786\"],[0.5555555555555556,\"#d8576b\"],[0.6666666666666666,\"#ed7953\"],[0.7777777777777778,\"#fb9f3a\"],[0.8888888888888888,\"#fdca26\"],[1.0,\"#f0f921\"]],\"sequentialminus\":[[0.0,\"#0d0887\"],[0.1111111111111111,\"#46039f\"],[0.2222222222222222,\"#7201a8\"],[0.3333333333333333,\"#9c179e\"],[0.4444444444444444,\"#bd3786\"],[0.5555555555555556,\"#d8576b\"],[0.6666666666666666,\"#ed7953\"],[0.7777777777777778,\"#fb9f3a\"],[0.8888888888888888,\"#fdca26\"],[1.0,\"#f0f921\"]]},\"colorway\":[\"#636efa\",\"#EF553B\",\"#00cc96\",\"#ab63fa\",\"#FFA15A\",\"#19d3f3\",\"#FF6692\",\"#B6E880\",\"#FF97FF\",\"#FECB52\"],\"font\":{\"color\":\"#2a3f5f\"},\"geo\":{\"bgcolor\":\"white\",\"lakecolor\":\"white\",\"landcolor\":\"#E5ECF6\",\"showlakes\":true,\"showland\":true,\"subunitcolor\":\"white\"},\"hoverlabel\":{\"align\":\"left\"},\"hovermode\":\"closest\",\"mapbox\":{\"style\":\"light\"},\"paper_bgcolor\":\"white\",\"plot_bgcolor\":\"#E5ECF6\",\"polar\":{\"angularaxis\":{\"gridcolor\":\"white\",\"linecolor\":\"white\",\"ticks\":\"\"},\"bgcolor\":\"#E5ECF6\",\"radialaxis\":{\"gridcolor\":\"white\",\"linecolor\":\"white\",\"ticks\":\"\"}},\"scene\":{\"xaxis\":{\"backgroundcolor\":\"#E5ECF6\",\"gridcolor\":\"white\",\"gridwidth\":2,\"linecolor\":\"white\",\"showbackground\":true,\"ticks\":\"\",\"zerolinecolor\":\"white\"},\"yaxis\":{\"backgroundcolor\":\"#E5ECF6\",\"gridcolor\":\"white\",\"gridwidth\":2,\"linecolor\":\"white\",\"showbackground\":true,\"ticks\":\"\",\"zerolinecolor\":\"white\"},\"zaxis\":{\"backgroundcolor\":\"#E5ECF6\",\"gridcolor\":\"white\",\"gridwidth\":2,\"linecolor\":\"white\",\"showbackground\":true,\"ticks\":\"\",\"zerolinecolor\":\"white\"}},\"shapedefaults\":{\"line\":{\"color\":\"#2a3f5f\"}},\"ternary\":{\"aaxis\":{\"gridcolor\":\"white\",\"linecolor\":\"white\",\"ticks\":\"\"},\"baxis\":{\"gridcolor\":\"white\",\"linecolor\":\"white\",\"ticks\":\"\"},\"bgcolor\":\"#E5ECF6\",\"caxis\":{\"gridcolor\":\"white\",\"linecolor\":\"white\",\"ticks\":\"\"}},\"title\":{\"x\":0.05},\"xaxis\":{\"automargin\":true,\"gridcolor\":\"white\",\"linecolor\":\"white\",\"ticks\":\"\",\"title\":{\"standoff\":15},\"zerolinecolor\":\"white\",\"zerolinewidth\":2},\"yaxis\":{\"automargin\":true,\"gridcolor\":\"white\",\"linecolor\":\"white\",\"ticks\":\"\",\"title\":{\"standoff\":15},\"zerolinecolor\":\"white\",\"zerolinewidth\":2}}},\"xaxis\":{\"anchor\":\"y\",\"domain\":[0.0,1.0],\"showticklabels\":false,\"title\":{\"text\":\"\"},\"visible\":false},\"yaxis\":{\"anchor\":\"x\",\"domain\":[0.0,1.0],\"showticklabels\":false,\"title\":{\"text\":\"\"},\"visible\":false}},                        {\"responsive\": true}                    ).then(function(){\n",
       "                            \n",
       "var gd = document.getElementById('9bed7a92-569a-40d8-8a5d-4ff39141313a');\n",
       "var x = new MutationObserver(function (mutations, observer) {{\n",
       "        var display = window.getComputedStyle(gd).display;\n",
       "        if (!display || display === 'none') {{\n",
       "            console.log([gd, 'removed!']);\n",
       "            Plotly.purge(gd);\n",
       "            observer.disconnect();\n",
       "        }}\n",
       "}});\n",
       "\n",
       "// Listen for the removal of the full notebook cells\n",
       "var notebookContainer = gd.closest('#notebook-container');\n",
       "if (notebookContainer) {{\n",
       "    x.observe(notebookContainer, {childList: true});\n",
       "}}\n",
       "\n",
       "// Listen for the clearing of the current output cell\n",
       "var outputEl = gd.closest('.output');\n",
       "if (outputEl) {{\n",
       "    x.observe(outputEl, {childList: true});\n",
       "}}\n",
       "\n",
       "                        })                };                });            </script>        </div>"
      ]
     },
     "metadata": {},
     "output_type": "display_data"
    }
   ],
   "source": [
    "def get_overview():\n",
    "    \n",
    "    vals = [49,61,67]\n",
    "    \n",
    "    relative_vals = [49,12,6,33]\n",
    "    \n",
    "        \n",
    "    y=[1,1,1,1]\n",
    "\n",
    "    color=['#ffcccc','#fff5e6','#e6ffb3','#ccffcc']\n",
    "    \n",
    "    \n",
    "    fig = px.bar(x=relative_vals,y=y, orientation = 'h', color = color, color_discrete_sequence=['#ffcccc','#fff5e6','#e6ffb3','#ccffcc'])\n",
    "    \n",
    "    fig.update_layout(barmode=\"stack\", \\\n",
    "                      plot_bgcolor = 'rgba(0,0,0,0)', \\\n",
    "                      paper_bgcolor = 'rgba(0,0,0,0)', \\\n",
    "                      showlegend=False,\\\n",
    "                      yaxis_title=\"\",\\\n",
    "                      xaxis_title=\"\",         \n",
    "                      margin=dict(l=0,r=0,b=0,t=0),\n",
    "                      height=200\n",
    "                     )\n",
    "    fig.update_yaxes(visible=False, showticklabels=False)\n",
    "    fig.update_xaxes(visible=False, showticklabels=False)\n",
    "\n",
    "    fig.add_annotation(x=30,y=-0.1,\n",
    "    text=\"Your Score \"+str(30),\n",
    "    showarrow=False)\n",
    "    \n",
    "    fig.add_annotation(x=30,y=1,\n",
    "    text=\"────────────\",\n",
    "    showarrow=False,\n",
    "    textangle=-90)\n",
    "    \n",
    "    for val in vals:\n",
    "        fig.add_annotation(x=vals[vals.index(val)],#y=0,\n",
    "        font=dict(size=25),\n",
    "        text = str(val),\n",
    "        yshift = 0,                   \n",
    "        showarrow=True,\n",
    "        arrowhead=1)\n",
    "    \n",
    "    fig.add_annotation(x=vals[0], y=1,\n",
    "            text=\"Needs Improvement\",\n",
    "            showarrow=False,\n",
    "            xshift=-100)\n",
    "    fig.add_annotation(x=vals[1], y=1,\n",
    "            text=\"Fair\",\n",
    "            showarrow=False,\n",
    "            xshift=-80)\n",
    "    fig.add_annotation(x=vals[2], y=1,\n",
    "            text=\"Good\",\n",
    "            showarrow=False,\n",
    "            xshift=-30)\n",
    "    fig.add_annotation(x=vals[2], y=1,\n",
    "            text=\"Excellent\",\n",
    "            showarrow=False,\n",
    "            xshift=50)\n",
    "    return(fig)\n",
    "get_overview()"
   ]
  },
  {
   "cell_type": "code",
   "execution_count": 16,
   "metadata": {},
   "outputs": [],
   "source": [
    "df_handbook = pd.read_csv('df_handbook_DS_60.csv')"
   ]
  },
  {
   "cell_type": "code",
   "execution_count": 17,
   "metadata": {},
   "outputs": [
    {
     "data": {
      "text/html": [
       "<div>\n",
       "<style scoped>\n",
       "    .dataframe tbody tr th:only-of-type {\n",
       "        vertical-align: middle;\n",
       "    }\n",
       "\n",
       "    .dataframe tbody tr th {\n",
       "        vertical-align: top;\n",
       "    }\n",
       "\n",
       "    .dataframe thead th {\n",
       "        text-align: right;\n",
       "    }\n",
       "</style>\n",
       "<table border=\"1\" class=\"dataframe\">\n",
       "  <thead>\n",
       "    <tr style=\"text-align: right;\">\n",
       "      <th></th>\n",
       "      <th>Unnamed: 0</th>\n",
       "      <th>objective</th>\n",
       "      <th>module</th>\n",
       "      <th>study_program</th>\n",
       "      <th>cluster</th>\n",
       "    </tr>\n",
       "  </thead>\n",
       "  <tbody>\n",
       "    <tr>\n",
       "      <th>0</th>\n",
       "      <td>0</td>\n",
       "      <td>understand the fundamental building blocks of ...</td>\n",
       "      <td>Advanced Statistics</td>\n",
       "      <td>DS_60</td>\n",
       "      <td>12</td>\n",
       "    </tr>\n",
       "    <tr>\n",
       "      <th>1</th>\n",
       "      <td>1</td>\n",
       "      <td>analyze stochastic data in terms of the underl...</td>\n",
       "      <td>Advanced Statistics</td>\n",
       "      <td>DS_60</td>\n",
       "      <td>11</td>\n",
       "    </tr>\n",
       "    <tr>\n",
       "      <th>2</th>\n",
       "      <td>2</td>\n",
       "      <td>utilize Bayesian statistics techniques.</td>\n",
       "      <td>Advanced Statistics</td>\n",
       "      <td>DS_60</td>\n",
       "      <td>12</td>\n",
       "    </tr>\n",
       "    <tr>\n",
       "      <th>3</th>\n",
       "      <td>3</td>\n",
       "      <td>summarize the properties of observed data usin...</td>\n",
       "      <td>Advanced Statistics</td>\n",
       "      <td>DS_60</td>\n",
       "      <td>11</td>\n",
       "    </tr>\n",
       "    <tr>\n",
       "      <th>4</th>\n",
       "      <td>4</td>\n",
       "      <td>apply data visualization techniques to design ...</td>\n",
       "      <td>Advanced Statistics</td>\n",
       "      <td>DS_60</td>\n",
       "      <td>14</td>\n",
       "    </tr>\n",
       "  </tbody>\n",
       "</table>\n",
       "</div>"
      ],
      "text/plain": [
       "   Unnamed: 0                                          objective  \\\n",
       "0           0  understand the fundamental building blocks of ...   \n",
       "1           1  analyze stochastic data in terms of the underl...   \n",
       "2           2            utilize Bayesian statistics techniques.   \n",
       "3           3  summarize the properties of observed data usin...   \n",
       "4           4  apply data visualization techniques to design ...   \n",
       "\n",
       "                 module study_program  cluster  \n",
       "0  Advanced Statistics          DS_60       12  \n",
       "1  Advanced Statistics          DS_60       11  \n",
       "2  Advanced Statistics          DS_60       12  \n",
       "3  Advanced Statistics          DS_60       11  \n",
       "4  Advanced Statistics          DS_60       14  "
      ]
     },
     "execution_count": 17,
     "metadata": {},
     "output_type": "execute_result"
    }
   ],
   "source": [
    "df_handbook.head()"
   ]
  },
  {
   "cell_type": "code",
   "execution_count": 18,
   "metadata": {},
   "outputs": [],
   "source": [
    "objectives = df_handbook['objective'].tolist()\n",
    "model = 'all-distilroberta-v1'\n",
    "model = SentenceTransformer(model)\n",
    "\n",
    "embeddings_o = model.encode(objectives)\n",
    "embeddings_f = embeddings_o.astype(float)\n",
    "clusters = df_handbook['cluster'].tolist()\n",
    "\n",
    "objective_scores = []\n",
    "for i, cluster in enumerate(clusters):\n",
    "    objective_scores.append(util.pytorch_cos_sim(k31_full.cluster_centers_[cluster], embeddings_f[i]).item())"
   ]
  },
  {
   "cell_type": "code",
   "execution_count": 19,
   "metadata": {},
   "outputs": [],
   "source": [
    "df_handbook['score']=objective_scores"
   ]
  },
  {
   "cell_type": "code",
   "execution_count": 20,
   "metadata": {},
   "outputs": [
    {
     "data": {
      "text/html": [
       "<div>\n",
       "<style scoped>\n",
       "    .dataframe tbody tr th:only-of-type {\n",
       "        vertical-align: middle;\n",
       "    }\n",
       "\n",
       "    .dataframe tbody tr th {\n",
       "        vertical-align: top;\n",
       "    }\n",
       "\n",
       "    .dataframe thead th {\n",
       "        text-align: right;\n",
       "    }\n",
       "</style>\n",
       "<table border=\"1\" class=\"dataframe\">\n",
       "  <thead>\n",
       "    <tr style=\"text-align: right;\">\n",
       "      <th></th>\n",
       "      <th>Unnamed: 0</th>\n",
       "      <th>objective</th>\n",
       "      <th>module</th>\n",
       "      <th>study_program</th>\n",
       "      <th>cluster</th>\n",
       "      <th>score</th>\n",
       "    </tr>\n",
       "  </thead>\n",
       "  <tbody>\n",
       "    <tr>\n",
       "      <th>0</th>\n",
       "      <td>0</td>\n",
       "      <td>understand the fundamental building blocks of ...</td>\n",
       "      <td>Advanced Statistics</td>\n",
       "      <td>DS_60</td>\n",
       "      <td>12</td>\n",
       "      <td>0.523433</td>\n",
       "    </tr>\n",
       "    <tr>\n",
       "      <th>1</th>\n",
       "      <td>1</td>\n",
       "      <td>analyze stochastic data in terms of the underl...</td>\n",
       "      <td>Advanced Statistics</td>\n",
       "      <td>DS_60</td>\n",
       "      <td>11</td>\n",
       "      <td>0.441200</td>\n",
       "    </tr>\n",
       "    <tr>\n",
       "      <th>2</th>\n",
       "      <td>2</td>\n",
       "      <td>utilize Bayesian statistics techniques.</td>\n",
       "      <td>Advanced Statistics</td>\n",
       "      <td>DS_60</td>\n",
       "      <td>12</td>\n",
       "      <td>0.517667</td>\n",
       "    </tr>\n",
       "    <tr>\n",
       "      <th>3</th>\n",
       "      <td>3</td>\n",
       "      <td>summarize the properties of observed data usin...</td>\n",
       "      <td>Advanced Statistics</td>\n",
       "      <td>DS_60</td>\n",
       "      <td>11</td>\n",
       "      <td>0.497379</td>\n",
       "    </tr>\n",
       "    <tr>\n",
       "      <th>4</th>\n",
       "      <td>4</td>\n",
       "      <td>apply data visualization techniques to design ...</td>\n",
       "      <td>Advanced Statistics</td>\n",
       "      <td>DS_60</td>\n",
       "      <td>14</td>\n",
       "      <td>0.727068</td>\n",
       "    </tr>\n",
       "    <tr>\n",
       "      <th>5</th>\n",
       "      <td>5</td>\n",
       "      <td>evaluate model parameters using parameter esti...</td>\n",
       "      <td>Advanced Statistics</td>\n",
       "      <td>DS_60</td>\n",
       "      <td>19</td>\n",
       "      <td>0.472755</td>\n",
       "    </tr>\n",
       "    <tr>\n",
       "      <th>6</th>\n",
       "      <td>6</td>\n",
       "      <td>create hypothesis tests to discriminate betwee...</td>\n",
       "      <td>Advanced Statistics</td>\n",
       "      <td>DS_60</td>\n",
       "      <td>19</td>\n",
       "      <td>0.357829</td>\n",
       "    </tr>\n",
       "    <tr>\n",
       "      <th>7</th>\n",
       "      <td>7</td>\n",
       "      <td>analyze use cases and their requirements regar...</td>\n",
       "      <td>Use Case and Evaluation</td>\n",
       "      <td>DS_60</td>\n",
       "      <td>25</td>\n",
       "      <td>0.594256</td>\n",
       "    </tr>\n",
       "    <tr>\n",
       "      <th>8</th>\n",
       "      <td>8</td>\n",
       "      <td>apply common metrics to evaluate predictions.</td>\n",
       "      <td>Use Case and Evaluation</td>\n",
       "      <td>DS_60</td>\n",
       "      <td>23</td>\n",
       "      <td>0.469091</td>\n",
       "    </tr>\n",
       "    <tr>\n",
       "      <th>9</th>\n",
       "      <td>9</td>\n",
       "      <td>evaluate key performance indicators to asses p...</td>\n",
       "      <td>Use Case and Evaluation</td>\n",
       "      <td>DS_60</td>\n",
       "      <td>25</td>\n",
       "      <td>0.606785</td>\n",
       "    </tr>\n",
       "    <tr>\n",
       "      <th>10</th>\n",
       "      <td>10</td>\n",
       "      <td>create monitoring tools that can be used to co...</td>\n",
       "      <td>Use Case and Evaluation</td>\n",
       "      <td>DS_60</td>\n",
       "      <td>22</td>\n",
       "      <td>0.700766</td>\n",
       "    </tr>\n",
       "    <tr>\n",
       "      <th>11</th>\n",
       "      <td>11</td>\n",
       "      <td>understand common fallacies and how to avoid t...</td>\n",
       "      <td>Use Case and Evaluation</td>\n",
       "      <td>DS_60</td>\n",
       "      <td>9</td>\n",
       "      <td>0.303850</td>\n",
       "    </tr>\n",
       "    <tr>\n",
       "      <th>12</th>\n",
       "      <td>12</td>\n",
       "      <td>identify current research trends and topics in...</td>\n",
       "      <td>Seminar: Current Topics in Data Science</td>\n",
       "      <td>DS_60</td>\n",
       "      <td>11</td>\n",
       "      <td>0.597699</td>\n",
       "    </tr>\n",
       "    <tr>\n",
       "      <th>13</th>\n",
       "      <td>13</td>\n",
       "      <td>outline a selected topic in the form of a writ...</td>\n",
       "      <td>Seminar: Current Topics in Data Science</td>\n",
       "      <td>DS_60</td>\n",
       "      <td>9</td>\n",
       "      <td>0.303835</td>\n",
       "    </tr>\n",
       "    <tr>\n",
       "      <th>14</th>\n",
       "      <td>14</td>\n",
       "      <td>explain relevant assumptions and design choice...</td>\n",
       "      <td>Seminar: Current Topics in Data Science</td>\n",
       "      <td>DS_60</td>\n",
       "      <td>9</td>\n",
       "      <td>0.400705</td>\n",
       "    </tr>\n",
       "    <tr>\n",
       "      <th>15</th>\n",
       "      <td>15</td>\n",
       "      <td>relate the chosen topic to comparable approaches.</td>\n",
       "      <td>Seminar: Current Topics in Data Science</td>\n",
       "      <td>DS_60</td>\n",
       "      <td>23</td>\n",
       "      <td>0.444449</td>\n",
       "    </tr>\n",
       "    <tr>\n",
       "      <th>16</th>\n",
       "      <td>16</td>\n",
       "      <td>name and describe potential applications for t...</td>\n",
       "      <td>Seminar: Current Topics in Data Science</td>\n",
       "      <td>DS_60</td>\n",
       "      <td>5</td>\n",
       "      <td>0.481932</td>\n",
       "    </tr>\n",
       "    <tr>\n",
       "      <th>17</th>\n",
       "      <td>17</td>\n",
       "      <td>know different machine learning model classes.</td>\n",
       "      <td>Machine Learning</td>\n",
       "      <td>DS_60</td>\n",
       "      <td>6</td>\n",
       "      <td>0.691455</td>\n",
       "    </tr>\n",
       "    <tr>\n",
       "      <th>18</th>\n",
       "      <td>18</td>\n",
       "      <td>comprehend the difference between supervised, ...</td>\n",
       "      <td>Machine Learning</td>\n",
       "      <td>DS_60</td>\n",
       "      <td>9</td>\n",
       "      <td>0.260036</td>\n",
       "    </tr>\n",
       "    <tr>\n",
       "      <th>19</th>\n",
       "      <td>19</td>\n",
       "      <td>understand common machine learning models.</td>\n",
       "      <td>Machine Learning</td>\n",
       "      <td>DS_60</td>\n",
       "      <td>6</td>\n",
       "      <td>0.614587</td>\n",
       "    </tr>\n",
       "    <tr>\n",
       "      <th>20</th>\n",
       "      <td>20</td>\n",
       "      <td>analyze trade-offs in the application of diffe...</td>\n",
       "      <td>Machine Learning</td>\n",
       "      <td>DS_60</td>\n",
       "      <td>19</td>\n",
       "      <td>0.610978</td>\n",
       "    </tr>\n",
       "    <tr>\n",
       "      <th>21</th>\n",
       "      <td>21</td>\n",
       "      <td>appropriately choose machine learning models a...</td>\n",
       "      <td>Machine Learning</td>\n",
       "      <td>DS_60</td>\n",
       "      <td>6</td>\n",
       "      <td>0.626476</td>\n",
       "    </tr>\n",
       "    <tr>\n",
       "      <th>22</th>\n",
       "      <td>22</td>\n",
       "      <td>comprehend the fundamental building blocks of ...</td>\n",
       "      <td>Deep Learning</td>\n",
       "      <td>DS_60</td>\n",
       "      <td>24</td>\n",
       "      <td>0.493098</td>\n",
       "    </tr>\n",
       "    <tr>\n",
       "      <th>23</th>\n",
       "      <td>23</td>\n",
       "      <td>understand concepts in deep learning.</td>\n",
       "      <td>Deep Learning</td>\n",
       "      <td>DS_60</td>\n",
       "      <td>24</td>\n",
       "      <td>0.564480</td>\n",
       "    </tr>\n",
       "    <tr>\n",
       "      <th>24</th>\n",
       "      <td>24</td>\n",
       "      <td>analyze the relevant deep learning architectur...</td>\n",
       "      <td>Deep Learning</td>\n",
       "      <td>DS_60</td>\n",
       "      <td>24</td>\n",
       "      <td>0.631971</td>\n",
       "    </tr>\n",
       "    <tr>\n",
       "      <th>25</th>\n",
       "      <td>25</td>\n",
       "      <td>create deep learning models.</td>\n",
       "      <td>Deep Learning</td>\n",
       "      <td>DS_60</td>\n",
       "      <td>24</td>\n",
       "      <td>0.646505</td>\n",
       "    </tr>\n",
       "    <tr>\n",
       "      <th>26</th>\n",
       "      <td>26</td>\n",
       "      <td>utilize alternative methods to train deep lear...</td>\n",
       "      <td>Deep Learning</td>\n",
       "      <td>DS_60</td>\n",
       "      <td>24</td>\n",
       "      <td>0.631160</td>\n",
       "    </tr>\n",
       "    <tr>\n",
       "      <th>27</th>\n",
       "      <td>27</td>\n",
       "      <td>understand current data science methodologies.</td>\n",
       "      <td>Case Study: Model Engineering</td>\n",
       "      <td>DS_60</td>\n",
       "      <td>13</td>\n",
       "      <td>0.645097</td>\n",
       "    </tr>\n",
       "    <tr>\n",
       "      <th>28</th>\n",
       "      <td>28</td>\n",
       "      <td>devaluate the quality of the data used in data...</td>\n",
       "      <td>Case Study: Model Engineering</td>\n",
       "      <td>DS_60</td>\n",
       "      <td>29</td>\n",
       "      <td>0.702494</td>\n",
       "    </tr>\n",
       "    <tr>\n",
       "      <th>29</th>\n",
       "      <td>29</td>\n",
       "      <td>create new features from raw data.</td>\n",
       "      <td>Case Study: Model Engineering</td>\n",
       "      <td>DS_60</td>\n",
       "      <td>11</td>\n",
       "      <td>0.534753</td>\n",
       "    </tr>\n",
       "    <tr>\n",
       "      <th>30</th>\n",
       "      <td>30</td>\n",
       "      <td>apply feature selection techniques.</td>\n",
       "      <td>Case Study: Model Engineering</td>\n",
       "      <td>DS_60</td>\n",
       "      <td>11</td>\n",
       "      <td>0.452518</td>\n",
       "    </tr>\n",
       "    <tr>\n",
       "      <th>31</th>\n",
       "      <td>31</td>\n",
       "      <td>make predictive models using data science tech...</td>\n",
       "      <td>Case Study: Model Engineering</td>\n",
       "      <td>DS_60</td>\n",
       "      <td>19</td>\n",
       "      <td>0.700222</td>\n",
       "    </tr>\n",
       "    <tr>\n",
       "      <th>32</th>\n",
       "      <td>32</td>\n",
       "      <td>identify common fallacies and know how to avoi...</td>\n",
       "      <td>Case Study: Model Engineering</td>\n",
       "      <td>DS_60</td>\n",
       "      <td>9</td>\n",
       "      <td>0.312318</td>\n",
       "    </tr>\n",
       "    <tr>\n",
       "      <th>33</th>\n",
       "      <td>33</td>\n",
       "      <td>identify the different types and sources of data.</td>\n",
       "      <td>Big Data and Software Engineering</td>\n",
       "      <td>DS_60</td>\n",
       "      <td>11</td>\n",
       "      <td>0.631630</td>\n",
       "    </tr>\n",
       "    <tr>\n",
       "      <th>34</th>\n",
       "      <td>34</td>\n",
       "      <td>understand different database concepts.</td>\n",
       "      <td>Big Data and Software Engineering</td>\n",
       "      <td>DS_60</td>\n",
       "      <td>1</td>\n",
       "      <td>0.661771</td>\n",
       "    </tr>\n",
       "    <tr>\n",
       "      <th>35</th>\n",
       "      <td>35</td>\n",
       "      <td>build new database structures.</td>\n",
       "      <td>Big Data and Software Engineering</td>\n",
       "      <td>DS_60</td>\n",
       "      <td>1</td>\n",
       "      <td>0.572794</td>\n",
       "    </tr>\n",
       "    <tr>\n",
       "      <th>36</th>\n",
       "      <td>36</td>\n",
       "      <td>evaluate various data storage frameworks w.r.t...</td>\n",
       "      <td>Big Data and Software Engineering</td>\n",
       "      <td>DS_60</td>\n",
       "      <td>8</td>\n",
       "      <td>0.581522</td>\n",
       "    </tr>\n",
       "    <tr>\n",
       "      <th>37</th>\n",
       "      <td>37</td>\n",
       "      <td>analyze which data format to use for a given p...</td>\n",
       "      <td>Big Data and Software Engineering</td>\n",
       "      <td>DS_60</td>\n",
       "      <td>11</td>\n",
       "      <td>0.558222</td>\n",
       "    </tr>\n",
       "    <tr>\n",
       "      <th>38</th>\n",
       "      <td>38</td>\n",
       "      <td>create a distributed computing environment for...</td>\n",
       "      <td>Big Data and Software Engineering</td>\n",
       "      <td>DS_60</td>\n",
       "      <td>22</td>\n",
       "      <td>0.494360</td>\n",
       "    </tr>\n",
       "    <tr>\n",
       "      <th>39</th>\n",
       "      <td>39</td>\n",
       "      <td>evaluate different manufacturing methods again...</td>\n",
       "      <td>Smart Manufacturing Methods and Industrial Aut...</td>\n",
       "      <td>DS_60</td>\n",
       "      <td>22</td>\n",
       "      <td>0.490011</td>\n",
       "    </tr>\n",
       "    <tr>\n",
       "      <th>40</th>\n",
       "      <td>40</td>\n",
       "      <td>define and design modern additive techniques i...</td>\n",
       "      <td>Smart Manufacturing Methods and Industrial Aut...</td>\n",
       "      <td>DS_60</td>\n",
       "      <td>22</td>\n",
       "      <td>0.343736</td>\n",
       "    </tr>\n",
       "    <tr>\n",
       "      <th>41</th>\n",
       "      <td>41</td>\n",
       "      <td>assess and estimate the impact of current tren...</td>\n",
       "      <td>Smart Manufacturing Methods and Industrial Aut...</td>\n",
       "      <td>DS_60</td>\n",
       "      <td>22</td>\n",
       "      <td>0.430571</td>\n",
       "    </tr>\n",
       "    <tr>\n",
       "      <th>42</th>\n",
       "      <td>42</td>\n",
       "      <td>apply  modern  processes  like  rapid  prototy...</td>\n",
       "      <td>Smart Manufacturing Methods and Industrial Aut...</td>\n",
       "      <td>DS_60</td>\n",
       "      <td>22</td>\n",
       "      <td>0.512871</td>\n",
       "    </tr>\n",
       "    <tr>\n",
       "      <th>43</th>\n",
       "      <td>43</td>\n",
       "      <td>explain and recognize the main components of a...</td>\n",
       "      <td>Applied Autonomous Driving</td>\n",
       "      <td>DS_60</td>\n",
       "      <td>9</td>\n",
       "      <td>0.290780</td>\n",
       "    </tr>\n",
       "    <tr>\n",
       "      <th>44</th>\n",
       "      <td>44</td>\n",
       "      <td>distinguish the sensor solutions for a self-dr...</td>\n",
       "      <td>Applied Autonomous Driving</td>\n",
       "      <td>DS_60</td>\n",
       "      <td>22</td>\n",
       "      <td>0.383472</td>\n",
       "    </tr>\n",
       "    <tr>\n",
       "      <th>45</th>\n",
       "      <td>45</td>\n",
       "      <td>model and implement a simple motion control sy...</td>\n",
       "      <td>Applied Autonomous Driving</td>\n",
       "      <td>DS_60</td>\n",
       "      <td>9</td>\n",
       "      <td>0.289898</td>\n",
       "    </tr>\n",
       "    <tr>\n",
       "      <th>46</th>\n",
       "      <td>46</td>\n",
       "      <td>manage the main communication protocols to ret...</td>\n",
       "      <td>Applied Autonomous Driving</td>\n",
       "      <td>DS_60</td>\n",
       "      <td>22</td>\n",
       "      <td>0.477852</td>\n",
       "    </tr>\n",
       "    <tr>\n",
       "      <th>47</th>\n",
       "      <td>47</td>\n",
       "      <td>reflect on the social impact of self-driving c...</td>\n",
       "      <td>Applied Autonomous Driving</td>\n",
       "      <td>DS_60</td>\n",
       "      <td>9</td>\n",
       "      <td>0.284979</td>\n",
       "    </tr>\n",
       "  </tbody>\n",
       "</table>\n",
       "</div>"
      ],
      "text/plain": [
       "    Unnamed: 0                                          objective  \\\n",
       "0            0  understand the fundamental building blocks of ...   \n",
       "1            1  analyze stochastic data in terms of the underl...   \n",
       "2            2            utilize Bayesian statistics techniques.   \n",
       "3            3  summarize the properties of observed data usin...   \n",
       "4            4  apply data visualization techniques to design ...   \n",
       "5            5  evaluate model parameters using parameter esti...   \n",
       "6            6  create hypothesis tests to discriminate betwee...   \n",
       "7            7  analyze use cases and their requirements regar...   \n",
       "8            8     apply common metrics to evaluate predictions.    \n",
       "9            9  evaluate key performance indicators to asses p...   \n",
       "10          10  create monitoring tools that can be used to co...   \n",
       "11          11  understand common fallacies and how to avoid t...   \n",
       "12          12  identify current research trends and topics in...   \n",
       "13          13  outline a selected topic in the form of a writ...   \n",
       "14          14  explain relevant assumptions and design choice...   \n",
       "15          15  relate the chosen topic to comparable approaches.   \n",
       "16          16  name and describe potential applications for t...   \n",
       "17          17     know different machine learning model classes.   \n",
       "18          18  comprehend the difference between supervised, ...   \n",
       "19          19         understand common machine learning models.   \n",
       "20          20  analyze trade-offs in the application of diffe...   \n",
       "21          21  appropriately choose machine learning models a...   \n",
       "22          22  comprehend the fundamental building blocks of ...   \n",
       "23          23              understand concepts in deep learning.   \n",
       "24          24  analyze the relevant deep learning architectur...   \n",
       "25          25                       create deep learning models.   \n",
       "26          26  utilize alternative methods to train deep lear...   \n",
       "27          27     understand current data science methodologies.   \n",
       "28          28  devaluate the quality of the data used in data...   \n",
       "29          29                 create new features from raw data.   \n",
       "30          30                apply feature selection techniques.   \n",
       "31          31  make predictive models using data science tech...   \n",
       "32          32  identify common fallacies and know how to avoi...   \n",
       "33          33  identify the different types and sources of data.   \n",
       "34          34            understand different database concepts.   \n",
       "35          35                     build new database structures.   \n",
       "36          36  evaluate various data storage frameworks w.r.t...   \n",
       "37          37  analyze which data format to use for a given p...   \n",
       "38          38  create a distributed computing environment for...   \n",
       "39          39  evaluate different manufacturing methods again...   \n",
       "40          40  define and design modern additive techniques i...   \n",
       "41          41  assess and estimate the impact of current tren...   \n",
       "42          42  apply  modern  processes  like  rapid  prototy...   \n",
       "43          43  explain and recognize the main components of a...   \n",
       "44          44  distinguish the sensor solutions for a self-dr...   \n",
       "45          45  model and implement a simple motion control sy...   \n",
       "46          46  manage the main communication protocols to ret...   \n",
       "47          47  reflect on the social impact of self-driving c...   \n",
       "\n",
       "                                               module study_program  cluster  \\\n",
       "0                                Advanced Statistics          DS_60       12   \n",
       "1                                Advanced Statistics          DS_60       11   \n",
       "2                                Advanced Statistics          DS_60       12   \n",
       "3                                Advanced Statistics          DS_60       11   \n",
       "4                                Advanced Statistics          DS_60       14   \n",
       "5                                Advanced Statistics          DS_60       19   \n",
       "6                                Advanced Statistics          DS_60       19   \n",
       "7                            Use Case and Evaluation          DS_60       25   \n",
       "8                            Use Case and Evaluation          DS_60       23   \n",
       "9                            Use Case and Evaluation          DS_60       25   \n",
       "10                           Use Case and Evaluation          DS_60       22   \n",
       "11                           Use Case and Evaluation          DS_60        9   \n",
       "12           Seminar: Current Topics in Data Science          DS_60       11   \n",
       "13           Seminar: Current Topics in Data Science          DS_60        9   \n",
       "14           Seminar: Current Topics in Data Science          DS_60        9   \n",
       "15           Seminar: Current Topics in Data Science          DS_60       23   \n",
       "16           Seminar: Current Topics in Data Science          DS_60        5   \n",
       "17                                  Machine Learning          DS_60        6   \n",
       "18                                  Machine Learning          DS_60        9   \n",
       "19                                  Machine Learning          DS_60        6   \n",
       "20                                  Machine Learning          DS_60       19   \n",
       "21                                  Machine Learning          DS_60        6   \n",
       "22                                     Deep Learning          DS_60       24   \n",
       "23                                     Deep Learning          DS_60       24   \n",
       "24                                     Deep Learning          DS_60       24   \n",
       "25                                     Deep Learning          DS_60       24   \n",
       "26                                     Deep Learning          DS_60       24   \n",
       "27                     Case Study: Model Engineering          DS_60       13   \n",
       "28                     Case Study: Model Engineering          DS_60       29   \n",
       "29                     Case Study: Model Engineering          DS_60       11   \n",
       "30                     Case Study: Model Engineering          DS_60       11   \n",
       "31                     Case Study: Model Engineering          DS_60       19   \n",
       "32                     Case Study: Model Engineering          DS_60        9   \n",
       "33                 Big Data and Software Engineering          DS_60       11   \n",
       "34                 Big Data and Software Engineering          DS_60        1   \n",
       "35                 Big Data and Software Engineering          DS_60        1   \n",
       "36                 Big Data and Software Engineering          DS_60        8   \n",
       "37                 Big Data and Software Engineering          DS_60       11   \n",
       "38                 Big Data and Software Engineering          DS_60       22   \n",
       "39  Smart Manufacturing Methods and Industrial Aut...         DS_60       22   \n",
       "40  Smart Manufacturing Methods and Industrial Aut...         DS_60       22   \n",
       "41  Smart Manufacturing Methods and Industrial Aut...         DS_60       22   \n",
       "42  Smart Manufacturing Methods and Industrial Aut...         DS_60       22   \n",
       "43                        Applied Autonomous Driving          DS_60        9   \n",
       "44                        Applied Autonomous Driving          DS_60       22   \n",
       "45                        Applied Autonomous Driving          DS_60        9   \n",
       "46                        Applied Autonomous Driving          DS_60       22   \n",
       "47                        Applied Autonomous Driving          DS_60        9   \n",
       "\n",
       "       score  \n",
       "0   0.523433  \n",
       "1   0.441200  \n",
       "2   0.517667  \n",
       "3   0.497379  \n",
       "4   0.727068  \n",
       "5   0.472755  \n",
       "6   0.357829  \n",
       "7   0.594256  \n",
       "8   0.469091  \n",
       "9   0.606785  \n",
       "10  0.700766  \n",
       "11  0.303850  \n",
       "12  0.597699  \n",
       "13  0.303835  \n",
       "14  0.400705  \n",
       "15  0.444449  \n",
       "16  0.481932  \n",
       "17  0.691455  \n",
       "18  0.260036  \n",
       "19  0.614587  \n",
       "20  0.610978  \n",
       "21  0.626476  \n",
       "22  0.493098  \n",
       "23  0.564480  \n",
       "24  0.631971  \n",
       "25  0.646505  \n",
       "26  0.631160  \n",
       "27  0.645097  \n",
       "28  0.702494  \n",
       "29  0.534753  \n",
       "30  0.452518  \n",
       "31  0.700222  \n",
       "32  0.312318  \n",
       "33  0.631630  \n",
       "34  0.661771  \n",
       "35  0.572794  \n",
       "36  0.581522  \n",
       "37  0.558222  \n",
       "38  0.494360  \n",
       "39  0.490011  \n",
       "40  0.343736  \n",
       "41  0.430571  \n",
       "42  0.512871  \n",
       "43  0.290780  \n",
       "44  0.383472  \n",
       "45  0.289898  \n",
       "46  0.477852  \n",
       "47  0.284979  "
      ]
     },
     "execution_count": 20,
     "metadata": {},
     "output_type": "execute_result"
    }
   ],
   "source": [
    "df_handbook"
   ]
  },
  {
   "cell_type": "code",
   "execution_count": 21,
   "metadata": {},
   "outputs": [],
   "source": [
    "df_handbook.to_csv('docker/handbook.csv')"
   ]
  },
  {
   "cell_type": "code",
   "execution_count": 22,
   "metadata": {},
   "outputs": [],
   "source": [
    "df_cv = obj[2].sort_values(['Skill Group Importance'], ascending=False)\n",
    "recommendations = []\n",
    "recommendation_scores=[]\n",
    "recommendation_labels = []\n",
    "\n",
    "for index, row in df_cv.iterrows():\n",
    "    if row['score']==0:\n",
    "        df_handbook_filtered = df_handbook[df_handbook['cluster']==row['cluster']]\n",
    "        if len(df_handbook_filtered)>0 and df_handbook_filtered['score'].max()>0.5:\n",
    "            recommendation = df_handbook_filtered['score'].argmax()\n",
    "            recommendation = df_handbook_filtered['module'].iloc[recommendation]\n",
    "            recommendation_label = \"Recommended Module: <b>\"+recommendation+'</b><br>Skill Group: '+row['labels']\n",
    "            \n",
    "            recommendations.append(recommendation)\n",
    "            recommendation_scores.append(df_handbook_filtered['score'].max())\n",
    "            recommendation_labels.append(recommendation_label)\n",
    "        else:\n",
    "            recommendations.append(None)\n",
    "            recommendation_scores.append(0)\n",
    "            recommendation_labels.append(None)\n",
    "    else:\n",
    "        recommendations.append(None)\n",
    "        recommendation_scores.append(0)\n",
    "        recommendation_labels.append(None)\n",
    "df_cv['recommendation']=recommendations\n",
    "df_cv['recommendation_score']=recommendation_scores\n",
    "df_cv['recommendation_label']=recommendation_labels\n",
    "df_cv['coverage of recommendation'] = df_cv['recommendation_score']*df_cv['Skill Group Importance']\n",
    "df_cv['Recommendation Importance']=df_cv['Skill Group Importance']-df_cv['coverage of recommendation']\n",
    "df_cv=df_cv[df_cv['recommendation_score']>0]\n",
    "df_cv=df_cv.sort_values('Skill Group Importance',ascending=False)"
   ]
  },
  {
   "cell_type": "code",
   "execution_count": 55,
   "metadata": {},
   "outputs": [
    {
     "data": {
      "application/vnd.plotly.v1+json": {
       "config": {
        "plotlyServerURL": "https://plot.ly"
       },
       "data": [
        {
         "alignmentgroup": "True",
         "hovertemplate": "variable=coverage of recommendation<br>value=%{x}<br>recommendation_label=%{y}<extra></extra>",
         "legendgroup": "coverage of recommendation",
         "marker": {
          "color": "#636efa",
          "pattern": {
           "shape": ""
          }
         },
         "name": "coverage of recommendation",
         "offsetgroup": "coverage of recommendation",
         "orientation": "h",
         "showlegend": true,
         "textposition": "auto",
         "type": "bar",
         "x": [
          0.31037623882290327,
          0.22845989605761013,
          0.2631635073860836,
          0.27621544651038277,
          0.24485847453939502
         ],
         "xaxis": "x",
         "y": [
          "Recommended Module: <b>Use Case and Evaluation </b><br>Skill Group: <b>version</b> <b>control</b>, software engineering, best practices",
          "Recommended Module: <b>Advanced Statistics </b><br>Skill Group: <b>machine</b> <b>learning</b>, learning techniques, machine learning,",
          "Recommended Module: <b>Use Case and Evaluation </b><br>Skill Group: <b>business</b> <b>problems</b>, translate business, understand business",
          "Recommended Module: <b>Case Study: Model Engineering </b><br>Skill Group: <b>data</b> <b>science</b>, data scientists, data scientist",
          "Recommended Module: <b>Big Data and Software Engineering </b><br>Skill Group: <b>data</b> <b>sets</b>, data analysis, data sources"
         ],
         "yaxis": "y"
        },
        {
         "alignmentgroup": "True",
         "hovertemplate": "variable=Recommendation Importance<br>value=%{x}<br>recommendation_label=%{y}<extra></extra>",
         "legendgroup": "Recommendation Importance",
         "marker": {
          "color": "#EF553B",
          "pattern": {
           "shape": ""
          }
         },
         "name": "Recommendation Importance",
         "offsetgroup": "Recommendation Importance",
         "orientation": "h",
         "showlegend": true,
         "textposition": "auto",
         "type": "bar",
         "x": [
          0.1325335217664153,
          0.20800419234017992,
          0.17053815007247997,
          0.15196134906972775,
          0.1428026672653932
         ],
         "xaxis": "x",
         "y": [
          "Recommended Module: <b>Use Case and Evaluation </b><br>Skill Group: <b>version</b> <b>control</b>, software engineering, best practices",
          "Recommended Module: <b>Advanced Statistics </b><br>Skill Group: <b>machine</b> <b>learning</b>, learning techniques, machine learning,",
          "Recommended Module: <b>Use Case and Evaluation </b><br>Skill Group: <b>business</b> <b>problems</b>, translate business, understand business",
          "Recommended Module: <b>Case Study: Model Engineering </b><br>Skill Group: <b>data</b> <b>science</b>, data scientists, data scientist",
          "Recommended Module: <b>Big Data and Software Engineering </b><br>Skill Group: <b>data</b> <b>sets</b>, data analysis, data sources"
         ],
         "yaxis": "y"
        }
       ],
       "layout": {
        "barmode": "stack",
        "height": 600,
        "legend": {
         "title": {
          "text": ""
         },
         "tracegroupgap": 0,
         "x": 1,
         "xanchor": "right",
         "y": 0,
         "yanchor": "bottom"
        },
        "margin": {
         "t": 60
        },
        "template": {
         "data": {
          "bar": [
           {
            "error_x": {
             "color": "#2a3f5f"
            },
            "error_y": {
             "color": "#2a3f5f"
            },
            "marker": {
             "line": {
              "color": "#E5ECF6",
              "width": 0.5
             },
             "pattern": {
              "fillmode": "overlay",
              "size": 10,
              "solidity": 0.2
             }
            },
            "type": "bar"
           }
          ],
          "barpolar": [
           {
            "marker": {
             "line": {
              "color": "#E5ECF6",
              "width": 0.5
             },
             "pattern": {
              "fillmode": "overlay",
              "size": 10,
              "solidity": 0.2
             }
            },
            "type": "barpolar"
           }
          ],
          "carpet": [
           {
            "aaxis": {
             "endlinecolor": "#2a3f5f",
             "gridcolor": "white",
             "linecolor": "white",
             "minorgridcolor": "white",
             "startlinecolor": "#2a3f5f"
            },
            "baxis": {
             "endlinecolor": "#2a3f5f",
             "gridcolor": "white",
             "linecolor": "white",
             "minorgridcolor": "white",
             "startlinecolor": "#2a3f5f"
            },
            "type": "carpet"
           }
          ],
          "choropleth": [
           {
            "colorbar": {
             "outlinewidth": 0,
             "ticks": ""
            },
            "type": "choropleth"
           }
          ],
          "contour": [
           {
            "colorbar": {
             "outlinewidth": 0,
             "ticks": ""
            },
            "colorscale": [
             [
              0,
              "#0d0887"
             ],
             [
              0.1111111111111111,
              "#46039f"
             ],
             [
              0.2222222222222222,
              "#7201a8"
             ],
             [
              0.3333333333333333,
              "#9c179e"
             ],
             [
              0.4444444444444444,
              "#bd3786"
             ],
             [
              0.5555555555555556,
              "#d8576b"
             ],
             [
              0.6666666666666666,
              "#ed7953"
             ],
             [
              0.7777777777777778,
              "#fb9f3a"
             ],
             [
              0.8888888888888888,
              "#fdca26"
             ],
             [
              1,
              "#f0f921"
             ]
            ],
            "type": "contour"
           }
          ],
          "contourcarpet": [
           {
            "colorbar": {
             "outlinewidth": 0,
             "ticks": ""
            },
            "type": "contourcarpet"
           }
          ],
          "heatmap": [
           {
            "colorbar": {
             "outlinewidth": 0,
             "ticks": ""
            },
            "colorscale": [
             [
              0,
              "#0d0887"
             ],
             [
              0.1111111111111111,
              "#46039f"
             ],
             [
              0.2222222222222222,
              "#7201a8"
             ],
             [
              0.3333333333333333,
              "#9c179e"
             ],
             [
              0.4444444444444444,
              "#bd3786"
             ],
             [
              0.5555555555555556,
              "#d8576b"
             ],
             [
              0.6666666666666666,
              "#ed7953"
             ],
             [
              0.7777777777777778,
              "#fb9f3a"
             ],
             [
              0.8888888888888888,
              "#fdca26"
             ],
             [
              1,
              "#f0f921"
             ]
            ],
            "type": "heatmap"
           }
          ],
          "heatmapgl": [
           {
            "colorbar": {
             "outlinewidth": 0,
             "ticks": ""
            },
            "colorscale": [
             [
              0,
              "#0d0887"
             ],
             [
              0.1111111111111111,
              "#46039f"
             ],
             [
              0.2222222222222222,
              "#7201a8"
             ],
             [
              0.3333333333333333,
              "#9c179e"
             ],
             [
              0.4444444444444444,
              "#bd3786"
             ],
             [
              0.5555555555555556,
              "#d8576b"
             ],
             [
              0.6666666666666666,
              "#ed7953"
             ],
             [
              0.7777777777777778,
              "#fb9f3a"
             ],
             [
              0.8888888888888888,
              "#fdca26"
             ],
             [
              1,
              "#f0f921"
             ]
            ],
            "type": "heatmapgl"
           }
          ],
          "histogram": [
           {
            "marker": {
             "pattern": {
              "fillmode": "overlay",
              "size": 10,
              "solidity": 0.2
             }
            },
            "type": "histogram"
           }
          ],
          "histogram2d": [
           {
            "colorbar": {
             "outlinewidth": 0,
             "ticks": ""
            },
            "colorscale": [
             [
              0,
              "#0d0887"
             ],
             [
              0.1111111111111111,
              "#46039f"
             ],
             [
              0.2222222222222222,
              "#7201a8"
             ],
             [
              0.3333333333333333,
              "#9c179e"
             ],
             [
              0.4444444444444444,
              "#bd3786"
             ],
             [
              0.5555555555555556,
              "#d8576b"
             ],
             [
              0.6666666666666666,
              "#ed7953"
             ],
             [
              0.7777777777777778,
              "#fb9f3a"
             ],
             [
              0.8888888888888888,
              "#fdca26"
             ],
             [
              1,
              "#f0f921"
             ]
            ],
            "type": "histogram2d"
           }
          ],
          "histogram2dcontour": [
           {
            "colorbar": {
             "outlinewidth": 0,
             "ticks": ""
            },
            "colorscale": [
             [
              0,
              "#0d0887"
             ],
             [
              0.1111111111111111,
              "#46039f"
             ],
             [
              0.2222222222222222,
              "#7201a8"
             ],
             [
              0.3333333333333333,
              "#9c179e"
             ],
             [
              0.4444444444444444,
              "#bd3786"
             ],
             [
              0.5555555555555556,
              "#d8576b"
             ],
             [
              0.6666666666666666,
              "#ed7953"
             ],
             [
              0.7777777777777778,
              "#fb9f3a"
             ],
             [
              0.8888888888888888,
              "#fdca26"
             ],
             [
              1,
              "#f0f921"
             ]
            ],
            "type": "histogram2dcontour"
           }
          ],
          "mesh3d": [
           {
            "colorbar": {
             "outlinewidth": 0,
             "ticks": ""
            },
            "type": "mesh3d"
           }
          ],
          "parcoords": [
           {
            "line": {
             "colorbar": {
              "outlinewidth": 0,
              "ticks": ""
             }
            },
            "type": "parcoords"
           }
          ],
          "pie": [
           {
            "automargin": true,
            "type": "pie"
           }
          ],
          "scatter": [
           {
            "marker": {
             "colorbar": {
              "outlinewidth": 0,
              "ticks": ""
             }
            },
            "type": "scatter"
           }
          ],
          "scatter3d": [
           {
            "line": {
             "colorbar": {
              "outlinewidth": 0,
              "ticks": ""
             }
            },
            "marker": {
             "colorbar": {
              "outlinewidth": 0,
              "ticks": ""
             }
            },
            "type": "scatter3d"
           }
          ],
          "scattercarpet": [
           {
            "marker": {
             "colorbar": {
              "outlinewidth": 0,
              "ticks": ""
             }
            },
            "type": "scattercarpet"
           }
          ],
          "scattergeo": [
           {
            "marker": {
             "colorbar": {
              "outlinewidth": 0,
              "ticks": ""
             }
            },
            "type": "scattergeo"
           }
          ],
          "scattergl": [
           {
            "marker": {
             "colorbar": {
              "outlinewidth": 0,
              "ticks": ""
             }
            },
            "type": "scattergl"
           }
          ],
          "scattermapbox": [
           {
            "marker": {
             "colorbar": {
              "outlinewidth": 0,
              "ticks": ""
             }
            },
            "type": "scattermapbox"
           }
          ],
          "scatterpolar": [
           {
            "marker": {
             "colorbar": {
              "outlinewidth": 0,
              "ticks": ""
             }
            },
            "type": "scatterpolar"
           }
          ],
          "scatterpolargl": [
           {
            "marker": {
             "colorbar": {
              "outlinewidth": 0,
              "ticks": ""
             }
            },
            "type": "scatterpolargl"
           }
          ],
          "scatterternary": [
           {
            "marker": {
             "colorbar": {
              "outlinewidth": 0,
              "ticks": ""
             }
            },
            "type": "scatterternary"
           }
          ],
          "surface": [
           {
            "colorbar": {
             "outlinewidth": 0,
             "ticks": ""
            },
            "colorscale": [
             [
              0,
              "#0d0887"
             ],
             [
              0.1111111111111111,
              "#46039f"
             ],
             [
              0.2222222222222222,
              "#7201a8"
             ],
             [
              0.3333333333333333,
              "#9c179e"
             ],
             [
              0.4444444444444444,
              "#bd3786"
             ],
             [
              0.5555555555555556,
              "#d8576b"
             ],
             [
              0.6666666666666666,
              "#ed7953"
             ],
             [
              0.7777777777777778,
              "#fb9f3a"
             ],
             [
              0.8888888888888888,
              "#fdca26"
             ],
             [
              1,
              "#f0f921"
             ]
            ],
            "type": "surface"
           }
          ],
          "table": [
           {
            "cells": {
             "fill": {
              "color": "#EBF0F8"
             },
             "line": {
              "color": "white"
             }
            },
            "header": {
             "fill": {
              "color": "#C8D4E3"
             },
             "line": {
              "color": "white"
             }
            },
            "type": "table"
           }
          ]
         },
         "layout": {
          "annotationdefaults": {
           "arrowcolor": "#2a3f5f",
           "arrowhead": 0,
           "arrowwidth": 1
          },
          "autotypenumbers": "strict",
          "coloraxis": {
           "colorbar": {
            "outlinewidth": 0,
            "ticks": ""
           }
          },
          "colorscale": {
           "diverging": [
            [
             0,
             "#8e0152"
            ],
            [
             0.1,
             "#c51b7d"
            ],
            [
             0.2,
             "#de77ae"
            ],
            [
             0.3,
             "#f1b6da"
            ],
            [
             0.4,
             "#fde0ef"
            ],
            [
             0.5,
             "#f7f7f7"
            ],
            [
             0.6,
             "#e6f5d0"
            ],
            [
             0.7,
             "#b8e186"
            ],
            [
             0.8,
             "#7fbc41"
            ],
            [
             0.9,
             "#4d9221"
            ],
            [
             1,
             "#276419"
            ]
           ],
           "sequential": [
            [
             0,
             "#0d0887"
            ],
            [
             0.1111111111111111,
             "#46039f"
            ],
            [
             0.2222222222222222,
             "#7201a8"
            ],
            [
             0.3333333333333333,
             "#9c179e"
            ],
            [
             0.4444444444444444,
             "#bd3786"
            ],
            [
             0.5555555555555556,
             "#d8576b"
            ],
            [
             0.6666666666666666,
             "#ed7953"
            ],
            [
             0.7777777777777778,
             "#fb9f3a"
            ],
            [
             0.8888888888888888,
             "#fdca26"
            ],
            [
             1,
             "#f0f921"
            ]
           ],
           "sequentialminus": [
            [
             0,
             "#0d0887"
            ],
            [
             0.1111111111111111,
             "#46039f"
            ],
            [
             0.2222222222222222,
             "#7201a8"
            ],
            [
             0.3333333333333333,
             "#9c179e"
            ],
            [
             0.4444444444444444,
             "#bd3786"
            ],
            [
             0.5555555555555556,
             "#d8576b"
            ],
            [
             0.6666666666666666,
             "#ed7953"
            ],
            [
             0.7777777777777778,
             "#fb9f3a"
            ],
            [
             0.8888888888888888,
             "#fdca26"
            ],
            [
             1,
             "#f0f921"
            ]
           ]
          },
          "colorway": [
           "#636efa",
           "#EF553B",
           "#00cc96",
           "#ab63fa",
           "#FFA15A",
           "#19d3f3",
           "#FF6692",
           "#B6E880",
           "#FF97FF",
           "#FECB52"
          ],
          "font": {
           "color": "#2a3f5f"
          },
          "geo": {
           "bgcolor": "white",
           "lakecolor": "white",
           "landcolor": "#E5ECF6",
           "showlakes": true,
           "showland": true,
           "subunitcolor": "white"
          },
          "hoverlabel": {
           "align": "left"
          },
          "hovermode": "closest",
          "mapbox": {
           "style": "light"
          },
          "paper_bgcolor": "white",
          "plot_bgcolor": "#E5ECF6",
          "polar": {
           "angularaxis": {
            "gridcolor": "white",
            "linecolor": "white",
            "ticks": ""
           },
           "bgcolor": "#E5ECF6",
           "radialaxis": {
            "gridcolor": "white",
            "linecolor": "white",
            "ticks": ""
           }
          },
          "scene": {
           "xaxis": {
            "backgroundcolor": "#E5ECF6",
            "gridcolor": "white",
            "gridwidth": 2,
            "linecolor": "white",
            "showbackground": true,
            "ticks": "",
            "zerolinecolor": "white"
           },
           "yaxis": {
            "backgroundcolor": "#E5ECF6",
            "gridcolor": "white",
            "gridwidth": 2,
            "linecolor": "white",
            "showbackground": true,
            "ticks": "",
            "zerolinecolor": "white"
           },
           "zaxis": {
            "backgroundcolor": "#E5ECF6",
            "gridcolor": "white",
            "gridwidth": 2,
            "linecolor": "white",
            "showbackground": true,
            "ticks": "",
            "zerolinecolor": "white"
           }
          },
          "shapedefaults": {
           "line": {
            "color": "#2a3f5f"
           }
          },
          "ternary": {
           "aaxis": {
            "gridcolor": "white",
            "linecolor": "white",
            "ticks": ""
           },
           "baxis": {
            "gridcolor": "white",
            "linecolor": "white",
            "ticks": ""
           },
           "bgcolor": "#E5ECF6",
           "caxis": {
            "gridcolor": "white",
            "linecolor": "white",
            "ticks": ""
           }
          },
          "title": {
           "x": 0.05
          },
          "xaxis": {
           "automargin": true,
           "gridcolor": "white",
           "linecolor": "white",
           "ticks": "",
           "title": {
            "standoff": 15
           },
           "zerolinecolor": "white",
           "zerolinewidth": 2
          },
          "yaxis": {
           "automargin": true,
           "gridcolor": "white",
           "linecolor": "white",
           "ticks": "",
           "title": {
            "standoff": 15
           },
           "zerolinecolor": "white",
           "zerolinewidth": 2
          }
         }
        },
        "title": {
         "text": "Study Program Module Recommendations"
        },
        "width": 900,
        "xaxis": {
         "anchor": "y",
         "domain": [
          0,
          1
         ],
         "title": {
          "text": "<- Coverage ->"
         }
        },
        "yaxis": {
         "anchor": "x",
         "domain": [
          0,
          1
         ],
         "title": {
          "text": "Importance ───>1  ──────»2 → 3 ⇾ 4"
         }
        }
       }
      },
      "text/html": [
       "<div>                            <div id=\"4f03f958-92d5-4e43-b7d4-dadcc573764b\" class=\"plotly-graph-div\" style=\"height:600px; width:900px;\"></div>            <script type=\"text/javascript\">                require([\"plotly\"], function(Plotly) {                    window.PLOTLYENV=window.PLOTLYENV || {};                                    if (document.getElementById(\"4f03f958-92d5-4e43-b7d4-dadcc573764b\")) {                    Plotly.newPlot(                        \"4f03f958-92d5-4e43-b7d4-dadcc573764b\",                        [{\"alignmentgroup\":\"True\",\"hovertemplate\":\"variable=coverage of recommendation<br>value=%{x}<br>recommendation_label=%{y}<extra></extra>\",\"legendgroup\":\"coverage of recommendation\",\"marker\":{\"color\":\"#636efa\",\"pattern\":{\"shape\":\"\"}},\"name\":\"coverage of recommendation\",\"offsetgroup\":\"coverage of recommendation\",\"orientation\":\"h\",\"showlegend\":true,\"textposition\":\"auto\",\"type\":\"bar\",\"x\":[0.31037623882290327,0.22845989605761013,0.2631635073860836,0.27621544651038277,0.24485847453939502],\"xaxis\":\"x\",\"y\":[\"Recommended Module: <b>Use Case and Evaluation </b><br>Skill Group: <b>version</b> <b>control</b>, software engineering, best practices\",\"Recommended Module: <b>Advanced Statistics </b><br>Skill Group: <b>machine</b> <b>learning</b>, learning techniques, machine learning,\",\"Recommended Module: <b>Use Case and Evaluation </b><br>Skill Group: <b>business</b> <b>problems</b>, translate business, understand business\",\"Recommended Module: <b>Case Study: Model Engineering </b><br>Skill Group: <b>data</b> <b>science</b>, data scientists, data scientist\",\"Recommended Module: <b>Big Data and Software Engineering </b><br>Skill Group: <b>data</b> <b>sets</b>, data analysis, data sources\"],\"yaxis\":\"y\"},{\"alignmentgroup\":\"True\",\"hovertemplate\":\"variable=Recommendation Importance<br>value=%{x}<br>recommendation_label=%{y}<extra></extra>\",\"legendgroup\":\"Recommendation Importance\",\"marker\":{\"color\":\"#EF553B\",\"pattern\":{\"shape\":\"\"}},\"name\":\"Recommendation Importance\",\"offsetgroup\":\"Recommendation Importance\",\"orientation\":\"h\",\"showlegend\":true,\"textposition\":\"auto\",\"type\":\"bar\",\"x\":[0.1325335217664153,0.20800419234017992,0.17053815007247997,0.15196134906972775,0.1428026672653932],\"xaxis\":\"x\",\"y\":[\"Recommended Module: <b>Use Case and Evaluation </b><br>Skill Group: <b>version</b> <b>control</b>, software engineering, best practices\",\"Recommended Module: <b>Advanced Statistics </b><br>Skill Group: <b>machine</b> <b>learning</b>, learning techniques, machine learning,\",\"Recommended Module: <b>Use Case and Evaluation </b><br>Skill Group: <b>business</b> <b>problems</b>, translate business, understand business\",\"Recommended Module: <b>Case Study: Model Engineering </b><br>Skill Group: <b>data</b> <b>science</b>, data scientists, data scientist\",\"Recommended Module: <b>Big Data and Software Engineering </b><br>Skill Group: <b>data</b> <b>sets</b>, data analysis, data sources\"],\"yaxis\":\"y\"}],                        {\"barmode\":\"stack\",\"height\":600,\"legend\":{\"title\":{\"text\":\"\"},\"tracegroupgap\":0,\"x\":1,\"xanchor\":\"right\",\"y\":0,\"yanchor\":\"bottom\"},\"margin\":{\"t\":60},\"template\":{\"data\":{\"bar\":[{\"error_x\":{\"color\":\"#2a3f5f\"},\"error_y\":{\"color\":\"#2a3f5f\"},\"marker\":{\"line\":{\"color\":\"#E5ECF6\",\"width\":0.5},\"pattern\":{\"fillmode\":\"overlay\",\"size\":10,\"solidity\":0.2}},\"type\":\"bar\"}],\"barpolar\":[{\"marker\":{\"line\":{\"color\":\"#E5ECF6\",\"width\":0.5},\"pattern\":{\"fillmode\":\"overlay\",\"size\":10,\"solidity\":0.2}},\"type\":\"barpolar\"}],\"carpet\":[{\"aaxis\":{\"endlinecolor\":\"#2a3f5f\",\"gridcolor\":\"white\",\"linecolor\":\"white\",\"minorgridcolor\":\"white\",\"startlinecolor\":\"#2a3f5f\"},\"baxis\":{\"endlinecolor\":\"#2a3f5f\",\"gridcolor\":\"white\",\"linecolor\":\"white\",\"minorgridcolor\":\"white\",\"startlinecolor\":\"#2a3f5f\"},\"type\":\"carpet\"}],\"choropleth\":[{\"colorbar\":{\"outlinewidth\":0,\"ticks\":\"\"},\"type\":\"choropleth\"}],\"contour\":[{\"colorbar\":{\"outlinewidth\":0,\"ticks\":\"\"},\"colorscale\":[[0.0,\"#0d0887\"],[0.1111111111111111,\"#46039f\"],[0.2222222222222222,\"#7201a8\"],[0.3333333333333333,\"#9c179e\"],[0.4444444444444444,\"#bd3786\"],[0.5555555555555556,\"#d8576b\"],[0.6666666666666666,\"#ed7953\"],[0.7777777777777778,\"#fb9f3a\"],[0.8888888888888888,\"#fdca26\"],[1.0,\"#f0f921\"]],\"type\":\"contour\"}],\"contourcarpet\":[{\"colorbar\":{\"outlinewidth\":0,\"ticks\":\"\"},\"type\":\"contourcarpet\"}],\"heatmap\":[{\"colorbar\":{\"outlinewidth\":0,\"ticks\":\"\"},\"colorscale\":[[0.0,\"#0d0887\"],[0.1111111111111111,\"#46039f\"],[0.2222222222222222,\"#7201a8\"],[0.3333333333333333,\"#9c179e\"],[0.4444444444444444,\"#bd3786\"],[0.5555555555555556,\"#d8576b\"],[0.6666666666666666,\"#ed7953\"],[0.7777777777777778,\"#fb9f3a\"],[0.8888888888888888,\"#fdca26\"],[1.0,\"#f0f921\"]],\"type\":\"heatmap\"}],\"heatmapgl\":[{\"colorbar\":{\"outlinewidth\":0,\"ticks\":\"\"},\"colorscale\":[[0.0,\"#0d0887\"],[0.1111111111111111,\"#46039f\"],[0.2222222222222222,\"#7201a8\"],[0.3333333333333333,\"#9c179e\"],[0.4444444444444444,\"#bd3786\"],[0.5555555555555556,\"#d8576b\"],[0.6666666666666666,\"#ed7953\"],[0.7777777777777778,\"#fb9f3a\"],[0.8888888888888888,\"#fdca26\"],[1.0,\"#f0f921\"]],\"type\":\"heatmapgl\"}],\"histogram\":[{\"marker\":{\"pattern\":{\"fillmode\":\"overlay\",\"size\":10,\"solidity\":0.2}},\"type\":\"histogram\"}],\"histogram2d\":[{\"colorbar\":{\"outlinewidth\":0,\"ticks\":\"\"},\"colorscale\":[[0.0,\"#0d0887\"],[0.1111111111111111,\"#46039f\"],[0.2222222222222222,\"#7201a8\"],[0.3333333333333333,\"#9c179e\"],[0.4444444444444444,\"#bd3786\"],[0.5555555555555556,\"#d8576b\"],[0.6666666666666666,\"#ed7953\"],[0.7777777777777778,\"#fb9f3a\"],[0.8888888888888888,\"#fdca26\"],[1.0,\"#f0f921\"]],\"type\":\"histogram2d\"}],\"histogram2dcontour\":[{\"colorbar\":{\"outlinewidth\":0,\"ticks\":\"\"},\"colorscale\":[[0.0,\"#0d0887\"],[0.1111111111111111,\"#46039f\"],[0.2222222222222222,\"#7201a8\"],[0.3333333333333333,\"#9c179e\"],[0.4444444444444444,\"#bd3786\"],[0.5555555555555556,\"#d8576b\"],[0.6666666666666666,\"#ed7953\"],[0.7777777777777778,\"#fb9f3a\"],[0.8888888888888888,\"#fdca26\"],[1.0,\"#f0f921\"]],\"type\":\"histogram2dcontour\"}],\"mesh3d\":[{\"colorbar\":{\"outlinewidth\":0,\"ticks\":\"\"},\"type\":\"mesh3d\"}],\"parcoords\":[{\"line\":{\"colorbar\":{\"outlinewidth\":0,\"ticks\":\"\"}},\"type\":\"parcoords\"}],\"pie\":[{\"automargin\":true,\"type\":\"pie\"}],\"scatter\":[{\"marker\":{\"colorbar\":{\"outlinewidth\":0,\"ticks\":\"\"}},\"type\":\"scatter\"}],\"scatter3d\":[{\"line\":{\"colorbar\":{\"outlinewidth\":0,\"ticks\":\"\"}},\"marker\":{\"colorbar\":{\"outlinewidth\":0,\"ticks\":\"\"}},\"type\":\"scatter3d\"}],\"scattercarpet\":[{\"marker\":{\"colorbar\":{\"outlinewidth\":0,\"ticks\":\"\"}},\"type\":\"scattercarpet\"}],\"scattergeo\":[{\"marker\":{\"colorbar\":{\"outlinewidth\":0,\"ticks\":\"\"}},\"type\":\"scattergeo\"}],\"scattergl\":[{\"marker\":{\"colorbar\":{\"outlinewidth\":0,\"ticks\":\"\"}},\"type\":\"scattergl\"}],\"scattermapbox\":[{\"marker\":{\"colorbar\":{\"outlinewidth\":0,\"ticks\":\"\"}},\"type\":\"scattermapbox\"}],\"scatterpolar\":[{\"marker\":{\"colorbar\":{\"outlinewidth\":0,\"ticks\":\"\"}},\"type\":\"scatterpolar\"}],\"scatterpolargl\":[{\"marker\":{\"colorbar\":{\"outlinewidth\":0,\"ticks\":\"\"}},\"type\":\"scatterpolargl\"}],\"scatterternary\":[{\"marker\":{\"colorbar\":{\"outlinewidth\":0,\"ticks\":\"\"}},\"type\":\"scatterternary\"}],\"surface\":[{\"colorbar\":{\"outlinewidth\":0,\"ticks\":\"\"},\"colorscale\":[[0.0,\"#0d0887\"],[0.1111111111111111,\"#46039f\"],[0.2222222222222222,\"#7201a8\"],[0.3333333333333333,\"#9c179e\"],[0.4444444444444444,\"#bd3786\"],[0.5555555555555556,\"#d8576b\"],[0.6666666666666666,\"#ed7953\"],[0.7777777777777778,\"#fb9f3a\"],[0.8888888888888888,\"#fdca26\"],[1.0,\"#f0f921\"]],\"type\":\"surface\"}],\"table\":[{\"cells\":{\"fill\":{\"color\":\"#EBF0F8\"},\"line\":{\"color\":\"white\"}},\"header\":{\"fill\":{\"color\":\"#C8D4E3\"},\"line\":{\"color\":\"white\"}},\"type\":\"table\"}]},\"layout\":{\"annotationdefaults\":{\"arrowcolor\":\"#2a3f5f\",\"arrowhead\":0,\"arrowwidth\":1},\"autotypenumbers\":\"strict\",\"coloraxis\":{\"colorbar\":{\"outlinewidth\":0,\"ticks\":\"\"}},\"colorscale\":{\"diverging\":[[0,\"#8e0152\"],[0.1,\"#c51b7d\"],[0.2,\"#de77ae\"],[0.3,\"#f1b6da\"],[0.4,\"#fde0ef\"],[0.5,\"#f7f7f7\"],[0.6,\"#e6f5d0\"],[0.7,\"#b8e186\"],[0.8,\"#7fbc41\"],[0.9,\"#4d9221\"],[1,\"#276419\"]],\"sequential\":[[0.0,\"#0d0887\"],[0.1111111111111111,\"#46039f\"],[0.2222222222222222,\"#7201a8\"],[0.3333333333333333,\"#9c179e\"],[0.4444444444444444,\"#bd3786\"],[0.5555555555555556,\"#d8576b\"],[0.6666666666666666,\"#ed7953\"],[0.7777777777777778,\"#fb9f3a\"],[0.8888888888888888,\"#fdca26\"],[1.0,\"#f0f921\"]],\"sequentialminus\":[[0.0,\"#0d0887\"],[0.1111111111111111,\"#46039f\"],[0.2222222222222222,\"#7201a8\"],[0.3333333333333333,\"#9c179e\"],[0.4444444444444444,\"#bd3786\"],[0.5555555555555556,\"#d8576b\"],[0.6666666666666666,\"#ed7953\"],[0.7777777777777778,\"#fb9f3a\"],[0.8888888888888888,\"#fdca26\"],[1.0,\"#f0f921\"]]},\"colorway\":[\"#636efa\",\"#EF553B\",\"#00cc96\",\"#ab63fa\",\"#FFA15A\",\"#19d3f3\",\"#FF6692\",\"#B6E880\",\"#FF97FF\",\"#FECB52\"],\"font\":{\"color\":\"#2a3f5f\"},\"geo\":{\"bgcolor\":\"white\",\"lakecolor\":\"white\",\"landcolor\":\"#E5ECF6\",\"showlakes\":true,\"showland\":true,\"subunitcolor\":\"white\"},\"hoverlabel\":{\"align\":\"left\"},\"hovermode\":\"closest\",\"mapbox\":{\"style\":\"light\"},\"paper_bgcolor\":\"white\",\"plot_bgcolor\":\"#E5ECF6\",\"polar\":{\"angularaxis\":{\"gridcolor\":\"white\",\"linecolor\":\"white\",\"ticks\":\"\"},\"bgcolor\":\"#E5ECF6\",\"radialaxis\":{\"gridcolor\":\"white\",\"linecolor\":\"white\",\"ticks\":\"\"}},\"scene\":{\"xaxis\":{\"backgroundcolor\":\"#E5ECF6\",\"gridcolor\":\"white\",\"gridwidth\":2,\"linecolor\":\"white\",\"showbackground\":true,\"ticks\":\"\",\"zerolinecolor\":\"white\"},\"yaxis\":{\"backgroundcolor\":\"#E5ECF6\",\"gridcolor\":\"white\",\"gridwidth\":2,\"linecolor\":\"white\",\"showbackground\":true,\"ticks\":\"\",\"zerolinecolor\":\"white\"},\"zaxis\":{\"backgroundcolor\":\"#E5ECF6\",\"gridcolor\":\"white\",\"gridwidth\":2,\"linecolor\":\"white\",\"showbackground\":true,\"ticks\":\"\",\"zerolinecolor\":\"white\"}},\"shapedefaults\":{\"line\":{\"color\":\"#2a3f5f\"}},\"ternary\":{\"aaxis\":{\"gridcolor\":\"white\",\"linecolor\":\"white\",\"ticks\":\"\"},\"baxis\":{\"gridcolor\":\"white\",\"linecolor\":\"white\",\"ticks\":\"\"},\"bgcolor\":\"#E5ECF6\",\"caxis\":{\"gridcolor\":\"white\",\"linecolor\":\"white\",\"ticks\":\"\"}},\"title\":{\"x\":0.05},\"xaxis\":{\"automargin\":true,\"gridcolor\":\"white\",\"linecolor\":\"white\",\"ticks\":\"\",\"title\":{\"standoff\":15},\"zerolinecolor\":\"white\",\"zerolinewidth\":2},\"yaxis\":{\"automargin\":true,\"gridcolor\":\"white\",\"linecolor\":\"white\",\"ticks\":\"\",\"title\":{\"standoff\":15},\"zerolinecolor\":\"white\",\"zerolinewidth\":2}}},\"title\":{\"text\":\"Study Program Module Recommendations\"},\"width\":900,\"xaxis\":{\"anchor\":\"y\",\"domain\":[0.0,1.0],\"title\":{\"text\":\"<- Coverage ->\"}},\"yaxis\":{\"anchor\":\"x\",\"domain\":[0.0,1.0],\"title\":{\"text\":\"Importance \\u2500\\u2500\\u2500>1  \\u2500\\u2500\\u2500\\u2500\\u2500\\u2500\\u00bb2 \\u2192 3 \\u21fe 4\"}}},                        {\"responsive\": true}                    ).then(function(){\n",
       "                            \n",
       "var gd = document.getElementById('4f03f958-92d5-4e43-b7d4-dadcc573764b');\n",
       "var x = new MutationObserver(function (mutations, observer) {{\n",
       "        var display = window.getComputedStyle(gd).display;\n",
       "        if (!display || display === 'none') {{\n",
       "            console.log([gd, 'removed!']);\n",
       "            Plotly.purge(gd);\n",
       "            observer.disconnect();\n",
       "        }}\n",
       "}});\n",
       "\n",
       "// Listen for the removal of the full notebook cells\n",
       "var notebookContainer = gd.closest('#notebook-container');\n",
       "if (notebookContainer) {{\n",
       "    x.observe(notebookContainer, {childList: true});\n",
       "}}\n",
       "\n",
       "// Listen for the clearing of the current output cell\n",
       "var outputEl = gd.closest('.output');\n",
       "if (outputEl) {{\n",
       "    x.observe(outputEl, {childList: true});\n",
       "}}\n",
       "\n",
       "                        })                };                });            </script>        </div>"
      ]
     },
     "metadata": {},
     "output_type": "display_data"
    }
   ],
   "source": [
    "fig = px.bar(df_cv.head(5), y='recommendation_label', x=[\"coverage of recommendation\",\"Recommendation Importance\"])\n",
    "fig.update_layout(height=2*300, width=3*300, \\\n",
    "                     #font=dict(size=10),\\\n",
    "                     title = 'Study Program Module Recommendations',\\\n",
    "                     barmode='stack', \\\n",
    "                     legend_title_text = '', \\\n",
    "                     #ylabel('Y Label','FontSize',20,'Color','r','Position',[-10 50] )\n",
    "                     yaxis_title=\"Importance ───>1  ──────»2\"+' \\u2192 3'+' \\u21FE 4',\\\n",
    "                     xaxis_title=\"<- Coverage ->\",\\\n",
    "                     legend=dict(yanchor=\"bottom\",y=0,xanchor=\"right\",x=1))\n",
    "\n",
    "fig.show()"
   ]
  },
  {
   "cell_type": "code",
   "execution_count": 24,
   "metadata": {},
   "outputs": [],
   "source": [
    "def get_recommendation(df_cv):\n",
    "    recommendations = []\n",
    "    recommendation_scores=[]\n",
    "    recommendation_labels = []\n",
    "\n",
    "    for index, row in df_cv.iterrows():\n",
    "        if row['score']==0:\n",
    "            df_handbook_filtered = df_handbook[df_handbook['cluster']==row['cluster']]\n",
    "            if len(df_handbook_filtered)>0 and df_handbook_filtered['score'].max()>0.5:\n",
    "                recommendation = df_handbook_filtered['score'].argmax()\n",
    "                recommendation = df_handbook_filtered['module'].iloc[recommendation]\n",
    "                recommendation_label = \"Recommended Module: <b>\"+recommendation+'</b><br>Skill Group: '+row['labels']\n",
    "                \n",
    "                recommendations.append(recommendation)\n",
    "                recommendation_scores.append(df_handbook_filtered['score'].max())\n",
    "                recommendation_labels.append(recommendation_label)\n",
    "            else:\n",
    "                recommendations.append(None)\n",
    "                recommendation_scores.append(0)\n",
    "                recommendation_labels.append(None)\n",
    "        else:\n",
    "            recommendations.append(None)\n",
    "            recommendation_scores.append(0)\n",
    "            recommendation_labels.append(None)\n",
    "    df_cv['recommendation']=recommendations\n",
    "    df_cv['recommendation_score']=recommendation_scores\n",
    "    df_cv['recommendation_label']=recommendation_labels\n",
    "    df_cv['coverage of recommendation'] = df_cv['recommendation_score']*df_cv['Skill Group Importance']\n",
    "    df_cv['Recommendation Importance']=df_cv['Skill Group Importance']-df_cv['coverage of recommendation']\n",
    "    df_cv=df_cv[df_cv['recommendation_score']>0]\n",
    "    df_cv=df_cv.sort_values('Skill Group Importance',ascending=False)\n",
    "            \n",
    "    fig = px.bar(df_cv.head(5), y='recommendation_label', x=[\"coverage of recommendation\",\"Recommendation Importance\"])\n",
    "    fig.update_layout(height=2*300, width=3*300, \\\n",
    "                         #font=dict(size=10),\\\n",
    "                         title = 'Study Program Module Recommendations',\\\n",
    "                         barmode='stack', \\\n",
    "                         legend_title_text = '', \\\n",
    "                         yaxis_title=\"<- Importance ->\",\\\n",
    "                         xaxis_title=\"<- Coverage ->\",\\\n",
    "                         legend=dict(yanchor=\"bottom\",y=0,xanchor=\"right\",x=1))\n",
    "    return fig"
   ]
  },
  {
   "cell_type": "code",
   "execution_count": 25,
   "metadata": {},
   "outputs": [
    {
     "data": {
      "application/vnd.plotly.v1+json": {
       "config": {
        "plotlyServerURL": "https://plot.ly"
       },
       "data": [
        {
         "alignmentgroup": "True",
         "hovertemplate": "variable=coverage of recommendation<br>value=%{x}<br>recommendation_label=%{y}<extra></extra>",
         "legendgroup": "coverage of recommendation",
         "marker": {
          "color": "#636efa",
          "pattern": {
           "shape": ""
          }
         },
         "name": "coverage of recommendation",
         "offsetgroup": "coverage of recommendation",
         "orientation": "h",
         "showlegend": true,
         "textposition": "auto",
         "type": "bar",
         "x": [
          0.31037623882290327,
          0.22845989605761013,
          0.2631635073860836,
          0.27621544651038277,
          0.24485847453939502
         ],
         "xaxis": "x",
         "y": [
          "Recommended Module: <b>Use Case and Evaluation </b><br>Skill Group: <b>version</b> <b>control</b>, software engineering, best practices",
          "Recommended Module: <b>Advanced Statistics </b><br>Skill Group: <b>machine</b> <b>learning</b>, learning techniques, machine learning,",
          "Recommended Module: <b>Use Case and Evaluation </b><br>Skill Group: <b>business</b> <b>problems</b>, translate business, understand business",
          "Recommended Module: <b>Case Study: Model Engineering </b><br>Skill Group: <b>data</b> <b>science</b>, data scientists, data scientist",
          "Recommended Module: <b>Big Data and Software Engineering </b><br>Skill Group: <b>data</b> <b>sets</b>, data analysis, data sources"
         ],
         "yaxis": "y"
        },
        {
         "alignmentgroup": "True",
         "hovertemplate": "variable=Recommendation Importance<br>value=%{x}<br>recommendation_label=%{y}<extra></extra>",
         "legendgroup": "Recommendation Importance",
         "marker": {
          "color": "#EF553B",
          "pattern": {
           "shape": ""
          }
         },
         "name": "Recommendation Importance",
         "offsetgroup": "Recommendation Importance",
         "orientation": "h",
         "showlegend": true,
         "textposition": "auto",
         "type": "bar",
         "x": [
          0.1325335217664153,
          0.20800419234017992,
          0.17053815007247997,
          0.15196134906972775,
          0.1428026672653932
         ],
         "xaxis": "x",
         "y": [
          "Recommended Module: <b>Use Case and Evaluation </b><br>Skill Group: <b>version</b> <b>control</b>, software engineering, best practices",
          "Recommended Module: <b>Advanced Statistics </b><br>Skill Group: <b>machine</b> <b>learning</b>, learning techniques, machine learning,",
          "Recommended Module: <b>Use Case and Evaluation </b><br>Skill Group: <b>business</b> <b>problems</b>, translate business, understand business",
          "Recommended Module: <b>Case Study: Model Engineering </b><br>Skill Group: <b>data</b> <b>science</b>, data scientists, data scientist",
          "Recommended Module: <b>Big Data and Software Engineering </b><br>Skill Group: <b>data</b> <b>sets</b>, data analysis, data sources"
         ],
         "yaxis": "y"
        }
       ],
       "layout": {
        "barmode": "stack",
        "height": 600,
        "legend": {
         "title": {
          "text": ""
         },
         "tracegroupgap": 0,
         "x": 1,
         "xanchor": "right",
         "y": 0,
         "yanchor": "bottom"
        },
        "margin": {
         "t": 60
        },
        "template": {
         "data": {
          "bar": [
           {
            "error_x": {
             "color": "#2a3f5f"
            },
            "error_y": {
             "color": "#2a3f5f"
            },
            "marker": {
             "line": {
              "color": "#E5ECF6",
              "width": 0.5
             },
             "pattern": {
              "fillmode": "overlay",
              "size": 10,
              "solidity": 0.2
             }
            },
            "type": "bar"
           }
          ],
          "barpolar": [
           {
            "marker": {
             "line": {
              "color": "#E5ECF6",
              "width": 0.5
             },
             "pattern": {
              "fillmode": "overlay",
              "size": 10,
              "solidity": 0.2
             }
            },
            "type": "barpolar"
           }
          ],
          "carpet": [
           {
            "aaxis": {
             "endlinecolor": "#2a3f5f",
             "gridcolor": "white",
             "linecolor": "white",
             "minorgridcolor": "white",
             "startlinecolor": "#2a3f5f"
            },
            "baxis": {
             "endlinecolor": "#2a3f5f",
             "gridcolor": "white",
             "linecolor": "white",
             "minorgridcolor": "white",
             "startlinecolor": "#2a3f5f"
            },
            "type": "carpet"
           }
          ],
          "choropleth": [
           {
            "colorbar": {
             "outlinewidth": 0,
             "ticks": ""
            },
            "type": "choropleth"
           }
          ],
          "contour": [
           {
            "colorbar": {
             "outlinewidth": 0,
             "ticks": ""
            },
            "colorscale": [
             [
              0,
              "#0d0887"
             ],
             [
              0.1111111111111111,
              "#46039f"
             ],
             [
              0.2222222222222222,
              "#7201a8"
             ],
             [
              0.3333333333333333,
              "#9c179e"
             ],
             [
              0.4444444444444444,
              "#bd3786"
             ],
             [
              0.5555555555555556,
              "#d8576b"
             ],
             [
              0.6666666666666666,
              "#ed7953"
             ],
             [
              0.7777777777777778,
              "#fb9f3a"
             ],
             [
              0.8888888888888888,
              "#fdca26"
             ],
             [
              1,
              "#f0f921"
             ]
            ],
            "type": "contour"
           }
          ],
          "contourcarpet": [
           {
            "colorbar": {
             "outlinewidth": 0,
             "ticks": ""
            },
            "type": "contourcarpet"
           }
          ],
          "heatmap": [
           {
            "colorbar": {
             "outlinewidth": 0,
             "ticks": ""
            },
            "colorscale": [
             [
              0,
              "#0d0887"
             ],
             [
              0.1111111111111111,
              "#46039f"
             ],
             [
              0.2222222222222222,
              "#7201a8"
             ],
             [
              0.3333333333333333,
              "#9c179e"
             ],
             [
              0.4444444444444444,
              "#bd3786"
             ],
             [
              0.5555555555555556,
              "#d8576b"
             ],
             [
              0.6666666666666666,
              "#ed7953"
             ],
             [
              0.7777777777777778,
              "#fb9f3a"
             ],
             [
              0.8888888888888888,
              "#fdca26"
             ],
             [
              1,
              "#f0f921"
             ]
            ],
            "type": "heatmap"
           }
          ],
          "heatmapgl": [
           {
            "colorbar": {
             "outlinewidth": 0,
             "ticks": ""
            },
            "colorscale": [
             [
              0,
              "#0d0887"
             ],
             [
              0.1111111111111111,
              "#46039f"
             ],
             [
              0.2222222222222222,
              "#7201a8"
             ],
             [
              0.3333333333333333,
              "#9c179e"
             ],
             [
              0.4444444444444444,
              "#bd3786"
             ],
             [
              0.5555555555555556,
              "#d8576b"
             ],
             [
              0.6666666666666666,
              "#ed7953"
             ],
             [
              0.7777777777777778,
              "#fb9f3a"
             ],
             [
              0.8888888888888888,
              "#fdca26"
             ],
             [
              1,
              "#f0f921"
             ]
            ],
            "type": "heatmapgl"
           }
          ],
          "histogram": [
           {
            "marker": {
             "pattern": {
              "fillmode": "overlay",
              "size": 10,
              "solidity": 0.2
             }
            },
            "type": "histogram"
           }
          ],
          "histogram2d": [
           {
            "colorbar": {
             "outlinewidth": 0,
             "ticks": ""
            },
            "colorscale": [
             [
              0,
              "#0d0887"
             ],
             [
              0.1111111111111111,
              "#46039f"
             ],
             [
              0.2222222222222222,
              "#7201a8"
             ],
             [
              0.3333333333333333,
              "#9c179e"
             ],
             [
              0.4444444444444444,
              "#bd3786"
             ],
             [
              0.5555555555555556,
              "#d8576b"
             ],
             [
              0.6666666666666666,
              "#ed7953"
             ],
             [
              0.7777777777777778,
              "#fb9f3a"
             ],
             [
              0.8888888888888888,
              "#fdca26"
             ],
             [
              1,
              "#f0f921"
             ]
            ],
            "type": "histogram2d"
           }
          ],
          "histogram2dcontour": [
           {
            "colorbar": {
             "outlinewidth": 0,
             "ticks": ""
            },
            "colorscale": [
             [
              0,
              "#0d0887"
             ],
             [
              0.1111111111111111,
              "#46039f"
             ],
             [
              0.2222222222222222,
              "#7201a8"
             ],
             [
              0.3333333333333333,
              "#9c179e"
             ],
             [
              0.4444444444444444,
              "#bd3786"
             ],
             [
              0.5555555555555556,
              "#d8576b"
             ],
             [
              0.6666666666666666,
              "#ed7953"
             ],
             [
              0.7777777777777778,
              "#fb9f3a"
             ],
             [
              0.8888888888888888,
              "#fdca26"
             ],
             [
              1,
              "#f0f921"
             ]
            ],
            "type": "histogram2dcontour"
           }
          ],
          "mesh3d": [
           {
            "colorbar": {
             "outlinewidth": 0,
             "ticks": ""
            },
            "type": "mesh3d"
           }
          ],
          "parcoords": [
           {
            "line": {
             "colorbar": {
              "outlinewidth": 0,
              "ticks": ""
             }
            },
            "type": "parcoords"
           }
          ],
          "pie": [
           {
            "automargin": true,
            "type": "pie"
           }
          ],
          "scatter": [
           {
            "marker": {
             "colorbar": {
              "outlinewidth": 0,
              "ticks": ""
             }
            },
            "type": "scatter"
           }
          ],
          "scatter3d": [
           {
            "line": {
             "colorbar": {
              "outlinewidth": 0,
              "ticks": ""
             }
            },
            "marker": {
             "colorbar": {
              "outlinewidth": 0,
              "ticks": ""
             }
            },
            "type": "scatter3d"
           }
          ],
          "scattercarpet": [
           {
            "marker": {
             "colorbar": {
              "outlinewidth": 0,
              "ticks": ""
             }
            },
            "type": "scattercarpet"
           }
          ],
          "scattergeo": [
           {
            "marker": {
             "colorbar": {
              "outlinewidth": 0,
              "ticks": ""
             }
            },
            "type": "scattergeo"
           }
          ],
          "scattergl": [
           {
            "marker": {
             "colorbar": {
              "outlinewidth": 0,
              "ticks": ""
             }
            },
            "type": "scattergl"
           }
          ],
          "scattermapbox": [
           {
            "marker": {
             "colorbar": {
              "outlinewidth": 0,
              "ticks": ""
             }
            },
            "type": "scattermapbox"
           }
          ],
          "scatterpolar": [
           {
            "marker": {
             "colorbar": {
              "outlinewidth": 0,
              "ticks": ""
             }
            },
            "type": "scatterpolar"
           }
          ],
          "scatterpolargl": [
           {
            "marker": {
             "colorbar": {
              "outlinewidth": 0,
              "ticks": ""
             }
            },
            "type": "scatterpolargl"
           }
          ],
          "scatterternary": [
           {
            "marker": {
             "colorbar": {
              "outlinewidth": 0,
              "ticks": ""
             }
            },
            "type": "scatterternary"
           }
          ],
          "surface": [
           {
            "colorbar": {
             "outlinewidth": 0,
             "ticks": ""
            },
            "colorscale": [
             [
              0,
              "#0d0887"
             ],
             [
              0.1111111111111111,
              "#46039f"
             ],
             [
              0.2222222222222222,
              "#7201a8"
             ],
             [
              0.3333333333333333,
              "#9c179e"
             ],
             [
              0.4444444444444444,
              "#bd3786"
             ],
             [
              0.5555555555555556,
              "#d8576b"
             ],
             [
              0.6666666666666666,
              "#ed7953"
             ],
             [
              0.7777777777777778,
              "#fb9f3a"
             ],
             [
              0.8888888888888888,
              "#fdca26"
             ],
             [
              1,
              "#f0f921"
             ]
            ],
            "type": "surface"
           }
          ],
          "table": [
           {
            "cells": {
             "fill": {
              "color": "#EBF0F8"
             },
             "line": {
              "color": "white"
             }
            },
            "header": {
             "fill": {
              "color": "#C8D4E3"
             },
             "line": {
              "color": "white"
             }
            },
            "type": "table"
           }
          ]
         },
         "layout": {
          "annotationdefaults": {
           "arrowcolor": "#2a3f5f",
           "arrowhead": 0,
           "arrowwidth": 1
          },
          "autotypenumbers": "strict",
          "coloraxis": {
           "colorbar": {
            "outlinewidth": 0,
            "ticks": ""
           }
          },
          "colorscale": {
           "diverging": [
            [
             0,
             "#8e0152"
            ],
            [
             0.1,
             "#c51b7d"
            ],
            [
             0.2,
             "#de77ae"
            ],
            [
             0.3,
             "#f1b6da"
            ],
            [
             0.4,
             "#fde0ef"
            ],
            [
             0.5,
             "#f7f7f7"
            ],
            [
             0.6,
             "#e6f5d0"
            ],
            [
             0.7,
             "#b8e186"
            ],
            [
             0.8,
             "#7fbc41"
            ],
            [
             0.9,
             "#4d9221"
            ],
            [
             1,
             "#276419"
            ]
           ],
           "sequential": [
            [
             0,
             "#0d0887"
            ],
            [
             0.1111111111111111,
             "#46039f"
            ],
            [
             0.2222222222222222,
             "#7201a8"
            ],
            [
             0.3333333333333333,
             "#9c179e"
            ],
            [
             0.4444444444444444,
             "#bd3786"
            ],
            [
             0.5555555555555556,
             "#d8576b"
            ],
            [
             0.6666666666666666,
             "#ed7953"
            ],
            [
             0.7777777777777778,
             "#fb9f3a"
            ],
            [
             0.8888888888888888,
             "#fdca26"
            ],
            [
             1,
             "#f0f921"
            ]
           ],
           "sequentialminus": [
            [
             0,
             "#0d0887"
            ],
            [
             0.1111111111111111,
             "#46039f"
            ],
            [
             0.2222222222222222,
             "#7201a8"
            ],
            [
             0.3333333333333333,
             "#9c179e"
            ],
            [
             0.4444444444444444,
             "#bd3786"
            ],
            [
             0.5555555555555556,
             "#d8576b"
            ],
            [
             0.6666666666666666,
             "#ed7953"
            ],
            [
             0.7777777777777778,
             "#fb9f3a"
            ],
            [
             0.8888888888888888,
             "#fdca26"
            ],
            [
             1,
             "#f0f921"
            ]
           ]
          },
          "colorway": [
           "#636efa",
           "#EF553B",
           "#00cc96",
           "#ab63fa",
           "#FFA15A",
           "#19d3f3",
           "#FF6692",
           "#B6E880",
           "#FF97FF",
           "#FECB52"
          ],
          "font": {
           "color": "#2a3f5f"
          },
          "geo": {
           "bgcolor": "white",
           "lakecolor": "white",
           "landcolor": "#E5ECF6",
           "showlakes": true,
           "showland": true,
           "subunitcolor": "white"
          },
          "hoverlabel": {
           "align": "left"
          },
          "hovermode": "closest",
          "mapbox": {
           "style": "light"
          },
          "paper_bgcolor": "white",
          "plot_bgcolor": "#E5ECF6",
          "polar": {
           "angularaxis": {
            "gridcolor": "white",
            "linecolor": "white",
            "ticks": ""
           },
           "bgcolor": "#E5ECF6",
           "radialaxis": {
            "gridcolor": "white",
            "linecolor": "white",
            "ticks": ""
           }
          },
          "scene": {
           "xaxis": {
            "backgroundcolor": "#E5ECF6",
            "gridcolor": "white",
            "gridwidth": 2,
            "linecolor": "white",
            "showbackground": true,
            "ticks": "",
            "zerolinecolor": "white"
           },
           "yaxis": {
            "backgroundcolor": "#E5ECF6",
            "gridcolor": "white",
            "gridwidth": 2,
            "linecolor": "white",
            "showbackground": true,
            "ticks": "",
            "zerolinecolor": "white"
           },
           "zaxis": {
            "backgroundcolor": "#E5ECF6",
            "gridcolor": "white",
            "gridwidth": 2,
            "linecolor": "white",
            "showbackground": true,
            "ticks": "",
            "zerolinecolor": "white"
           }
          },
          "shapedefaults": {
           "line": {
            "color": "#2a3f5f"
           }
          },
          "ternary": {
           "aaxis": {
            "gridcolor": "white",
            "linecolor": "white",
            "ticks": ""
           },
           "baxis": {
            "gridcolor": "white",
            "linecolor": "white",
            "ticks": ""
           },
           "bgcolor": "#E5ECF6",
           "caxis": {
            "gridcolor": "white",
            "linecolor": "white",
            "ticks": ""
           }
          },
          "title": {
           "x": 0.05
          },
          "xaxis": {
           "automargin": true,
           "gridcolor": "white",
           "linecolor": "white",
           "ticks": "",
           "title": {
            "standoff": 15
           },
           "zerolinecolor": "white",
           "zerolinewidth": 2
          },
          "yaxis": {
           "automargin": true,
           "gridcolor": "white",
           "linecolor": "white",
           "ticks": "",
           "title": {
            "standoff": 15
           },
           "zerolinecolor": "white",
           "zerolinewidth": 2
          }
         }
        },
        "title": {
         "text": "Study Program Module Recommendations"
        },
        "width": 900,
        "xaxis": {
         "anchor": "y",
         "domain": [
          0,
          1
         ],
         "title": {
          "text": "<- Coverage ->"
         }
        },
        "yaxis": {
         "anchor": "x",
         "domain": [
          0,
          1
         ],
         "title": {
          "text": "<- Importance ->"
         }
        }
       }
      },
      "text/html": [
       "<div>                            <div id=\"0458796e-f49b-454c-9de5-358c5475bc77\" class=\"plotly-graph-div\" style=\"height:600px; width:900px;\"></div>            <script type=\"text/javascript\">                require([\"plotly\"], function(Plotly) {                    window.PLOTLYENV=window.PLOTLYENV || {};                                    if (document.getElementById(\"0458796e-f49b-454c-9de5-358c5475bc77\")) {                    Plotly.newPlot(                        \"0458796e-f49b-454c-9de5-358c5475bc77\",                        [{\"alignmentgroup\":\"True\",\"hovertemplate\":\"variable=coverage of recommendation<br>value=%{x}<br>recommendation_label=%{y}<extra></extra>\",\"legendgroup\":\"coverage of recommendation\",\"marker\":{\"color\":\"#636efa\",\"pattern\":{\"shape\":\"\"}},\"name\":\"coverage of recommendation\",\"offsetgroup\":\"coverage of recommendation\",\"orientation\":\"h\",\"showlegend\":true,\"textposition\":\"auto\",\"type\":\"bar\",\"x\":[0.31037623882290327,0.22845989605761013,0.2631635073860836,0.27621544651038277,0.24485847453939502],\"xaxis\":\"x\",\"y\":[\"Recommended Module: <b>Use Case and Evaluation </b><br>Skill Group: <b>version</b> <b>control</b>, software engineering, best practices\",\"Recommended Module: <b>Advanced Statistics </b><br>Skill Group: <b>machine</b> <b>learning</b>, learning techniques, machine learning,\",\"Recommended Module: <b>Use Case and Evaluation </b><br>Skill Group: <b>business</b> <b>problems</b>, translate business, understand business\",\"Recommended Module: <b>Case Study: Model Engineering </b><br>Skill Group: <b>data</b> <b>science</b>, data scientists, data scientist\",\"Recommended Module: <b>Big Data and Software Engineering </b><br>Skill Group: <b>data</b> <b>sets</b>, data analysis, data sources\"],\"yaxis\":\"y\"},{\"alignmentgroup\":\"True\",\"hovertemplate\":\"variable=Recommendation Importance<br>value=%{x}<br>recommendation_label=%{y}<extra></extra>\",\"legendgroup\":\"Recommendation Importance\",\"marker\":{\"color\":\"#EF553B\",\"pattern\":{\"shape\":\"\"}},\"name\":\"Recommendation Importance\",\"offsetgroup\":\"Recommendation Importance\",\"orientation\":\"h\",\"showlegend\":true,\"textposition\":\"auto\",\"type\":\"bar\",\"x\":[0.1325335217664153,0.20800419234017992,0.17053815007247997,0.15196134906972775,0.1428026672653932],\"xaxis\":\"x\",\"y\":[\"Recommended Module: <b>Use Case and Evaluation </b><br>Skill Group: <b>version</b> <b>control</b>, software engineering, best practices\",\"Recommended Module: <b>Advanced Statistics </b><br>Skill Group: <b>machine</b> <b>learning</b>, learning techniques, machine learning,\",\"Recommended Module: <b>Use Case and Evaluation </b><br>Skill Group: <b>business</b> <b>problems</b>, translate business, understand business\",\"Recommended Module: <b>Case Study: Model Engineering </b><br>Skill Group: <b>data</b> <b>science</b>, data scientists, data scientist\",\"Recommended Module: <b>Big Data and Software Engineering </b><br>Skill Group: <b>data</b> <b>sets</b>, data analysis, data sources\"],\"yaxis\":\"y\"}],                        {\"barmode\":\"stack\",\"height\":600,\"legend\":{\"title\":{\"text\":\"\"},\"tracegroupgap\":0,\"x\":1,\"xanchor\":\"right\",\"y\":0,\"yanchor\":\"bottom\"},\"margin\":{\"t\":60},\"template\":{\"data\":{\"bar\":[{\"error_x\":{\"color\":\"#2a3f5f\"},\"error_y\":{\"color\":\"#2a3f5f\"},\"marker\":{\"line\":{\"color\":\"#E5ECF6\",\"width\":0.5},\"pattern\":{\"fillmode\":\"overlay\",\"size\":10,\"solidity\":0.2}},\"type\":\"bar\"}],\"barpolar\":[{\"marker\":{\"line\":{\"color\":\"#E5ECF6\",\"width\":0.5},\"pattern\":{\"fillmode\":\"overlay\",\"size\":10,\"solidity\":0.2}},\"type\":\"barpolar\"}],\"carpet\":[{\"aaxis\":{\"endlinecolor\":\"#2a3f5f\",\"gridcolor\":\"white\",\"linecolor\":\"white\",\"minorgridcolor\":\"white\",\"startlinecolor\":\"#2a3f5f\"},\"baxis\":{\"endlinecolor\":\"#2a3f5f\",\"gridcolor\":\"white\",\"linecolor\":\"white\",\"minorgridcolor\":\"white\",\"startlinecolor\":\"#2a3f5f\"},\"type\":\"carpet\"}],\"choropleth\":[{\"colorbar\":{\"outlinewidth\":0,\"ticks\":\"\"},\"type\":\"choropleth\"}],\"contour\":[{\"colorbar\":{\"outlinewidth\":0,\"ticks\":\"\"},\"colorscale\":[[0.0,\"#0d0887\"],[0.1111111111111111,\"#46039f\"],[0.2222222222222222,\"#7201a8\"],[0.3333333333333333,\"#9c179e\"],[0.4444444444444444,\"#bd3786\"],[0.5555555555555556,\"#d8576b\"],[0.6666666666666666,\"#ed7953\"],[0.7777777777777778,\"#fb9f3a\"],[0.8888888888888888,\"#fdca26\"],[1.0,\"#f0f921\"]],\"type\":\"contour\"}],\"contourcarpet\":[{\"colorbar\":{\"outlinewidth\":0,\"ticks\":\"\"},\"type\":\"contourcarpet\"}],\"heatmap\":[{\"colorbar\":{\"outlinewidth\":0,\"ticks\":\"\"},\"colorscale\":[[0.0,\"#0d0887\"],[0.1111111111111111,\"#46039f\"],[0.2222222222222222,\"#7201a8\"],[0.3333333333333333,\"#9c179e\"],[0.4444444444444444,\"#bd3786\"],[0.5555555555555556,\"#d8576b\"],[0.6666666666666666,\"#ed7953\"],[0.7777777777777778,\"#fb9f3a\"],[0.8888888888888888,\"#fdca26\"],[1.0,\"#f0f921\"]],\"type\":\"heatmap\"}],\"heatmapgl\":[{\"colorbar\":{\"outlinewidth\":0,\"ticks\":\"\"},\"colorscale\":[[0.0,\"#0d0887\"],[0.1111111111111111,\"#46039f\"],[0.2222222222222222,\"#7201a8\"],[0.3333333333333333,\"#9c179e\"],[0.4444444444444444,\"#bd3786\"],[0.5555555555555556,\"#d8576b\"],[0.6666666666666666,\"#ed7953\"],[0.7777777777777778,\"#fb9f3a\"],[0.8888888888888888,\"#fdca26\"],[1.0,\"#f0f921\"]],\"type\":\"heatmapgl\"}],\"histogram\":[{\"marker\":{\"pattern\":{\"fillmode\":\"overlay\",\"size\":10,\"solidity\":0.2}},\"type\":\"histogram\"}],\"histogram2d\":[{\"colorbar\":{\"outlinewidth\":0,\"ticks\":\"\"},\"colorscale\":[[0.0,\"#0d0887\"],[0.1111111111111111,\"#46039f\"],[0.2222222222222222,\"#7201a8\"],[0.3333333333333333,\"#9c179e\"],[0.4444444444444444,\"#bd3786\"],[0.5555555555555556,\"#d8576b\"],[0.6666666666666666,\"#ed7953\"],[0.7777777777777778,\"#fb9f3a\"],[0.8888888888888888,\"#fdca26\"],[1.0,\"#f0f921\"]],\"type\":\"histogram2d\"}],\"histogram2dcontour\":[{\"colorbar\":{\"outlinewidth\":0,\"ticks\":\"\"},\"colorscale\":[[0.0,\"#0d0887\"],[0.1111111111111111,\"#46039f\"],[0.2222222222222222,\"#7201a8\"],[0.3333333333333333,\"#9c179e\"],[0.4444444444444444,\"#bd3786\"],[0.5555555555555556,\"#d8576b\"],[0.6666666666666666,\"#ed7953\"],[0.7777777777777778,\"#fb9f3a\"],[0.8888888888888888,\"#fdca26\"],[1.0,\"#f0f921\"]],\"type\":\"histogram2dcontour\"}],\"mesh3d\":[{\"colorbar\":{\"outlinewidth\":0,\"ticks\":\"\"},\"type\":\"mesh3d\"}],\"parcoords\":[{\"line\":{\"colorbar\":{\"outlinewidth\":0,\"ticks\":\"\"}},\"type\":\"parcoords\"}],\"pie\":[{\"automargin\":true,\"type\":\"pie\"}],\"scatter\":[{\"marker\":{\"colorbar\":{\"outlinewidth\":0,\"ticks\":\"\"}},\"type\":\"scatter\"}],\"scatter3d\":[{\"line\":{\"colorbar\":{\"outlinewidth\":0,\"ticks\":\"\"}},\"marker\":{\"colorbar\":{\"outlinewidth\":0,\"ticks\":\"\"}},\"type\":\"scatter3d\"}],\"scattercarpet\":[{\"marker\":{\"colorbar\":{\"outlinewidth\":0,\"ticks\":\"\"}},\"type\":\"scattercarpet\"}],\"scattergeo\":[{\"marker\":{\"colorbar\":{\"outlinewidth\":0,\"ticks\":\"\"}},\"type\":\"scattergeo\"}],\"scattergl\":[{\"marker\":{\"colorbar\":{\"outlinewidth\":0,\"ticks\":\"\"}},\"type\":\"scattergl\"}],\"scattermapbox\":[{\"marker\":{\"colorbar\":{\"outlinewidth\":0,\"ticks\":\"\"}},\"type\":\"scattermapbox\"}],\"scatterpolar\":[{\"marker\":{\"colorbar\":{\"outlinewidth\":0,\"ticks\":\"\"}},\"type\":\"scatterpolar\"}],\"scatterpolargl\":[{\"marker\":{\"colorbar\":{\"outlinewidth\":0,\"ticks\":\"\"}},\"type\":\"scatterpolargl\"}],\"scatterternary\":[{\"marker\":{\"colorbar\":{\"outlinewidth\":0,\"ticks\":\"\"}},\"type\":\"scatterternary\"}],\"surface\":[{\"colorbar\":{\"outlinewidth\":0,\"ticks\":\"\"},\"colorscale\":[[0.0,\"#0d0887\"],[0.1111111111111111,\"#46039f\"],[0.2222222222222222,\"#7201a8\"],[0.3333333333333333,\"#9c179e\"],[0.4444444444444444,\"#bd3786\"],[0.5555555555555556,\"#d8576b\"],[0.6666666666666666,\"#ed7953\"],[0.7777777777777778,\"#fb9f3a\"],[0.8888888888888888,\"#fdca26\"],[1.0,\"#f0f921\"]],\"type\":\"surface\"}],\"table\":[{\"cells\":{\"fill\":{\"color\":\"#EBF0F8\"},\"line\":{\"color\":\"white\"}},\"header\":{\"fill\":{\"color\":\"#C8D4E3\"},\"line\":{\"color\":\"white\"}},\"type\":\"table\"}]},\"layout\":{\"annotationdefaults\":{\"arrowcolor\":\"#2a3f5f\",\"arrowhead\":0,\"arrowwidth\":1},\"autotypenumbers\":\"strict\",\"coloraxis\":{\"colorbar\":{\"outlinewidth\":0,\"ticks\":\"\"}},\"colorscale\":{\"diverging\":[[0,\"#8e0152\"],[0.1,\"#c51b7d\"],[0.2,\"#de77ae\"],[0.3,\"#f1b6da\"],[0.4,\"#fde0ef\"],[0.5,\"#f7f7f7\"],[0.6,\"#e6f5d0\"],[0.7,\"#b8e186\"],[0.8,\"#7fbc41\"],[0.9,\"#4d9221\"],[1,\"#276419\"]],\"sequential\":[[0.0,\"#0d0887\"],[0.1111111111111111,\"#46039f\"],[0.2222222222222222,\"#7201a8\"],[0.3333333333333333,\"#9c179e\"],[0.4444444444444444,\"#bd3786\"],[0.5555555555555556,\"#d8576b\"],[0.6666666666666666,\"#ed7953\"],[0.7777777777777778,\"#fb9f3a\"],[0.8888888888888888,\"#fdca26\"],[1.0,\"#f0f921\"]],\"sequentialminus\":[[0.0,\"#0d0887\"],[0.1111111111111111,\"#46039f\"],[0.2222222222222222,\"#7201a8\"],[0.3333333333333333,\"#9c179e\"],[0.4444444444444444,\"#bd3786\"],[0.5555555555555556,\"#d8576b\"],[0.6666666666666666,\"#ed7953\"],[0.7777777777777778,\"#fb9f3a\"],[0.8888888888888888,\"#fdca26\"],[1.0,\"#f0f921\"]]},\"colorway\":[\"#636efa\",\"#EF553B\",\"#00cc96\",\"#ab63fa\",\"#FFA15A\",\"#19d3f3\",\"#FF6692\",\"#B6E880\",\"#FF97FF\",\"#FECB52\"],\"font\":{\"color\":\"#2a3f5f\"},\"geo\":{\"bgcolor\":\"white\",\"lakecolor\":\"white\",\"landcolor\":\"#E5ECF6\",\"showlakes\":true,\"showland\":true,\"subunitcolor\":\"white\"},\"hoverlabel\":{\"align\":\"left\"},\"hovermode\":\"closest\",\"mapbox\":{\"style\":\"light\"},\"paper_bgcolor\":\"white\",\"plot_bgcolor\":\"#E5ECF6\",\"polar\":{\"angularaxis\":{\"gridcolor\":\"white\",\"linecolor\":\"white\",\"ticks\":\"\"},\"bgcolor\":\"#E5ECF6\",\"radialaxis\":{\"gridcolor\":\"white\",\"linecolor\":\"white\",\"ticks\":\"\"}},\"scene\":{\"xaxis\":{\"backgroundcolor\":\"#E5ECF6\",\"gridcolor\":\"white\",\"gridwidth\":2,\"linecolor\":\"white\",\"showbackground\":true,\"ticks\":\"\",\"zerolinecolor\":\"white\"},\"yaxis\":{\"backgroundcolor\":\"#E5ECF6\",\"gridcolor\":\"white\",\"gridwidth\":2,\"linecolor\":\"white\",\"showbackground\":true,\"ticks\":\"\",\"zerolinecolor\":\"white\"},\"zaxis\":{\"backgroundcolor\":\"#E5ECF6\",\"gridcolor\":\"white\",\"gridwidth\":2,\"linecolor\":\"white\",\"showbackground\":true,\"ticks\":\"\",\"zerolinecolor\":\"white\"}},\"shapedefaults\":{\"line\":{\"color\":\"#2a3f5f\"}},\"ternary\":{\"aaxis\":{\"gridcolor\":\"white\",\"linecolor\":\"white\",\"ticks\":\"\"},\"baxis\":{\"gridcolor\":\"white\",\"linecolor\":\"white\",\"ticks\":\"\"},\"bgcolor\":\"#E5ECF6\",\"caxis\":{\"gridcolor\":\"white\",\"linecolor\":\"white\",\"ticks\":\"\"}},\"title\":{\"x\":0.05},\"xaxis\":{\"automargin\":true,\"gridcolor\":\"white\",\"linecolor\":\"white\",\"ticks\":\"\",\"title\":{\"standoff\":15},\"zerolinecolor\":\"white\",\"zerolinewidth\":2},\"yaxis\":{\"automargin\":true,\"gridcolor\":\"white\",\"linecolor\":\"white\",\"ticks\":\"\",\"title\":{\"standoff\":15},\"zerolinecolor\":\"white\",\"zerolinewidth\":2}}},\"title\":{\"text\":\"Study Program Module Recommendations\"},\"width\":900,\"xaxis\":{\"anchor\":\"y\",\"domain\":[0.0,1.0],\"title\":{\"text\":\"<- Coverage ->\"}},\"yaxis\":{\"anchor\":\"x\",\"domain\":[0.0,1.0],\"title\":{\"text\":\"<- Importance ->\"}}},                        {\"responsive\": true}                    ).then(function(){\n",
       "                            \n",
       "var gd = document.getElementById('0458796e-f49b-454c-9de5-358c5475bc77');\n",
       "var x = new MutationObserver(function (mutations, observer) {{\n",
       "        var display = window.getComputedStyle(gd).display;\n",
       "        if (!display || display === 'none') {{\n",
       "            console.log([gd, 'removed!']);\n",
       "            Plotly.purge(gd);\n",
       "            observer.disconnect();\n",
       "        }}\n",
       "}});\n",
       "\n",
       "// Listen for the removal of the full notebook cells\n",
       "var notebookContainer = gd.closest('#notebook-container');\n",
       "if (notebookContainer) {{\n",
       "    x.observe(notebookContainer, {childList: true});\n",
       "}}\n",
       "\n",
       "// Listen for the clearing of the current output cell\n",
       "var outputEl = gd.closest('.output');\n",
       "if (outputEl) {{\n",
       "    x.observe(outputEl, {childList: true});\n",
       "}}\n",
       "\n",
       "                        })                };                });            </script>        </div>"
      ]
     },
     "metadata": {},
     "output_type": "display_data"
    }
   ],
   "source": [
    "df_test = obj[2]\n",
    "get_recommendation(df_test)"
   ]
  },
  {
   "cell_type": "code",
   "execution_count": null,
   "metadata": {},
   "outputs": [],
   "source": []
  }
 ],
 "metadata": {
  "kernelspec": {
   "display_name": "Python 3",
   "language": "python",
   "name": "python3"
  },
  "language_info": {
   "codemirror_mode": {
    "name": "ipython",
    "version": 3
   },
   "file_extension": ".py",
   "mimetype": "text/x-python",
   "name": "python",
   "nbconvert_exporter": "python",
   "pygments_lexer": "ipython3",
   "version": "3.8.8"
  }
 },
 "nbformat": 4,
 "nbformat_minor": 4
}
