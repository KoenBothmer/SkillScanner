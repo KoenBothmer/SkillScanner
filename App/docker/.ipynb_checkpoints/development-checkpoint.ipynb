{
 "cells": [
  {
   "cell_type": "code",
   "execution_count": 2,
   "id": "f1e41f13",
   "metadata": {},
   "outputs": [],
   "source": [
    "from functions import get_table, get_plot, return_pdf"
   ]
  },
  {
   "cell_type": "code",
   "execution_count": 3,
   "id": "8e881862",
   "metadata": {},
   "outputs": [
    {
     "data": {
      "text/plain": [
       "<fpdf.fpdf.FPDF at 0x7f82aee93d90>"
      ]
     },
     "execution_count": 3,
     "metadata": {},
     "output_type": "execute_result"
    }
   ],
   "source": [
    "return_pdf(['test','test'])"
   ]
  },
  {
   "cell_type": "code",
   "execution_count": null,
   "id": "09640e35",
   "metadata": {},
   "outputs": [],
   "source": []
  }
 ],
 "metadata": {
  "kernelspec": {
   "display_name": "Python 3",
   "language": "python",
   "name": "python3"
  },
  "language_info": {
   "codemirror_mode": {
    "name": "ipython",
    "version": 3
   },
   "file_extension": ".py",
   "mimetype": "text/x-python",
   "name": "python",
   "nbconvert_exporter": "python",
   "pygments_lexer": "ipython3",
   "version": "3.8.8"
  }
 },
 "nbformat": 4,
 "nbformat_minor": 5
}
